{
  "nbformat": 4,
  "nbformat_minor": 0,
  "metadata": {
    "colab": {
      "name": "ADMIR_v1.ipynb",
      "provenance": [],
      "collapsed_sections": [
        "gcfuvlWB2-tp",
        "YNrKuRLqiJYF",
        "AuqfeLHhiO8a",
        "0sIVYfzAcG6A",
        "HLFbr5Iy_HME",
        "HEnYx3fxzvgQ"
      ],
      "include_colab_link": true
    },
    "kernelspec": {
      "display_name": "Python 3",
      "name": "python3"
    },
    "accelerator": "GPU"
  },
  "cells": [
    {
      "cell_type": "markdown",
      "metadata": {
        "id": "view-in-github",
        "colab_type": "text"
      },
      "source": [
        "<a href=\"https://colab.research.google.com/github/surajsrivathsa/image_registration/blob/main/ADMIR_v1.ipynb\" target=\"_parent\"><img src=\"https://colab.research.google.com/assets/colab-badge.svg\" alt=\"Open In Colab\"/></a>"
      ]
    },
    {
      "cell_type": "markdown",
      "metadata": {
        "id": "uENFUaxrdBRN"
      },
      "source": [
        "# Preamble"
      ]
    },
    {
      "cell_type": "code",
      "metadata": {
        "id": "J_QQG0blca17",
        "colab": {
          "base_uri": "https://localhost:8080/"
        },
        "outputId": "221d098f-3edc-4cf1-d266-b8a6218d8ade"
      },
      "source": [
        "!pip install --upgrade nibabel"
      ],
      "execution_count": null,
      "outputs": [
        {
          "output_type": "stream",
          "text": [
            "Collecting nibabel\n",
            "\u001b[?25l  Downloading https://files.pythonhosted.org/packages/d7/7f/d3c29792fae50ef4f1f8f87af8a94d5d9fe76550b86ebcf8a251110169d8/nibabel-3.2.0-py3-none-any.whl (3.3MB)\n",
            "\u001b[K     |████████████████████████████████| 3.3MB 8.4MB/s \n",
            "\u001b[?25hRequirement already satisfied, skipping upgrade: packaging>=14.3 in /usr/local/lib/python3.6/dist-packages (from nibabel) (20.4)\n",
            "Requirement already satisfied, skipping upgrade: numpy>=1.14 in /usr/local/lib/python3.6/dist-packages (from nibabel) (1.18.5)\n",
            "Requirement already satisfied, skipping upgrade: pyparsing>=2.0.2 in /usr/local/lib/python3.6/dist-packages (from packaging>=14.3->nibabel) (2.4.7)\n",
            "Requirement already satisfied, skipping upgrade: six in /usr/local/lib/python3.6/dist-packages (from packaging>=14.3->nibabel) (1.15.0)\n",
            "Installing collected packages: nibabel\n",
            "  Found existing installation: nibabel 3.0.2\n",
            "    Uninstalling nibabel-3.0.2:\n",
            "      Successfully uninstalled nibabel-3.0.2\n",
            "Successfully installed nibabel-3.2.0\n"
          ],
          "name": "stdout"
        }
      ]
    },
    {
      "cell_type": "code",
      "metadata": {
        "id": "7rT9Nd7ScgDi",
        "colab": {
          "base_uri": "https://localhost:8080/"
        },
        "outputId": "fc68f58f-32d5-4344-8e62-91408a217f27"
      },
      "source": [
        "from google.colab import drive\n",
        "drive.mount('/content/drive')"
      ],
      "execution_count": 1,
      "outputs": [
        {
          "output_type": "stream",
          "text": [
            "Mounted at /content/drive\n"
          ],
          "name": "stdout"
        }
      ]
    },
    {
      "cell_type": "code",
      "metadata": {
        "id": "A-x6D4OnafOj",
        "colab": {
          "base_uri": "https://localhost:8080/"
        },
        "outputId": "f65bfb78-6ced-4752-dc42-3246876768f3"
      },
      "source": [
        "import numpy as np\n",
        "from matplotlib import pyplot as plt\n",
        "import nibabel as nb\n",
        "import os, sys, glob\n",
        "import torch\n",
        "import torch.nn as nn\n",
        "import torch.nn.functional as F\n",
        "import torch.utils.data as Data\n",
        "import torch.optim as optim\n",
        "import torchvision\n",
        "from torchvision import datasets, transforms\n",
        "\n",
        "print(\"nibabel version: {}\".format(nb.__version__))\n",
        "print(\"pytorch version: {}\".format(torch.__version__))"
      ],
      "execution_count": 2,
      "outputs": [
        {
          "output_type": "stream",
          "text": [
            "nibabel version: 3.0.2\n",
            "pytorch version: 1.7.0+cu101\n"
          ],
          "name": "stdout"
        }
      ]
    },
    {
      "cell_type": "code",
      "metadata": {
        "id": "EWcFQJ_Sc-9p"
      },
      "source": [
        "data_path_t1 = \"/content/drive/My Drive/Image_Registration_Project/dataset_ants_resampled/T1_resampled/\"\n",
        "data_path_t2 = \"/content/drive/My Drive/Image_Registration_Project/dataset_ants_resampled/T2_resampled/\"\n",
        "\n",
        "# data_path_t1 = \"/content/drive/My Drive/Colab Notebooks/ImageRegistrationUsingDeepLearning/ICNet/Dataset/T1_resampled/\"\n",
        "# data_path_t2 = \"/content/drive/My Drive/Colab Notebooks/ImageRegistrationUsingDeepLearning/ICNet/Dataset/T2_resampled/\"\n",
        "file_names_t1 = sorted(glob.glob(os.path.join(data_path_t1, \"*.nii.gz\")))\n",
        "file_names_t2 = sorted(glob.glob(os.path.join(data_path_t2, \"*.nii.gz\")))"
      ],
      "execution_count": 3,
      "outputs": []
    },
    {
      "cell_type": "code",
      "metadata": {
        "id": "hpv76iqJoJ3C",
        "colab": {
          "base_uri": "https://localhost:8080/"
        },
        "outputId": "aea427ca-9c7e-4b58-8dbb-0f6bdc5dafda"
      },
      "source": [
        "print(file_names_t1[0:5] + file_names_t1[45:])\n",
        "print(file_names_t2[0:5] + file_names_t2[45:])\n",
        "print(len(file_names_t1))\n",
        "print(len(file_names_t2))"
      ],
      "execution_count": 4,
      "outputs": [
        {
          "output_type": "stream",
          "text": [
            "['/content/drive/My Drive/Image_Registration_Project/dataset_ants_resampled/T1_resampled/IXI002-Guys-0828-T1_resampled.nii.gz', '/content/drive/My Drive/Image_Registration_Project/dataset_ants_resampled/T1_resampled/IXI027-Guys-0710-T1_resampled.nii.gz', '/content/drive/My Drive/Image_Registration_Project/dataset_ants_resampled/T1_resampled/IXI028-Guys-1038-T1_resampled.nii.gz', '/content/drive/My Drive/Image_Registration_Project/dataset_ants_resampled/T1_resampled/IXI034-HH-1260-T1_resampled.nii.gz', '/content/drive/My Drive/Image_Registration_Project/dataset_ants_resampled/T1_resampled/IXI035-IOP-0873-T1_resampled.nii.gz', '/content/drive/My Drive/Image_Registration_Project/dataset_ants_resampled/T1_resampled/IXI588-IOP-1158-T1_resampled.nii.gz', '/content/drive/My Drive/Image_Registration_Project/dataset_ants_resampled/T1_resampled/IXI599-HH-2659-T1_resampled.nii.gz', '/content/drive/My Drive/Image_Registration_Project/dataset_ants_resampled/T1_resampled/IXI614-HH-2735-T1_resampled.nii.gz', '/content/drive/My Drive/Image_Registration_Project/dataset_ants_resampled/T1_resampled/IXI635-HH-2691-T1_resampled.nii.gz', '/content/drive/My Drive/Image_Registration_Project/dataset_ants_resampled/T1_resampled/IXI638-HH-2786-T1_resampled.nii.gz']\n",
            "['/content/drive/My Drive/Image_Registration_Project/dataset_ants_resampled/T2_resampled/IXI002-Guys-0828-T2_resampled.nii.gz', '/content/drive/My Drive/Image_Registration_Project/dataset_ants_resampled/T2_resampled/IXI027-Guys-0710-T2_resampled.nii.gz', '/content/drive/My Drive/Image_Registration_Project/dataset_ants_resampled/T2_resampled/IXI028-Guys-1038-T2_resampled.nii.gz', '/content/drive/My Drive/Image_Registration_Project/dataset_ants_resampled/T2_resampled/IXI034-HH-1260-T2_resampled.nii.gz', '/content/drive/My Drive/Image_Registration_Project/dataset_ants_resampled/T2_resampled/IXI035-IOP-0873-T2_resampled.nii.gz', '/content/drive/My Drive/Image_Registration_Project/dataset_ants_resampled/T2_resampled/IXI588-IOP-1158-T2_resampled.nii.gz', '/content/drive/My Drive/Image_Registration_Project/dataset_ants_resampled/T2_resampled/IXI599-HH-2659-T2_resampled.nii.gz', '/content/drive/My Drive/Image_Registration_Project/dataset_ants_resampled/T2_resampled/IXI614-HH-2735-T2_resampled.nii.gz', '/content/drive/My Drive/Image_Registration_Project/dataset_ants_resampled/T2_resampled/IXI635-HH-2691-T2_resampled.nii.gz', '/content/drive/My Drive/Image_Registration_Project/dataset_ants_resampled/T2_resampled/IXI638-HH-2786-T2_resampled.nii.gz']\n",
            "50\n",
            "50\n"
          ],
          "name": "stdout"
        }
      ]
    },
    {
      "cell_type": "code",
      "metadata": {
        "id": "3h3VZil5SmaT",
        "colab": {
          "base_uri": "https://localhost:8080/"
        },
        "outputId": "c2cbc32e-408c-459f-b74a-fe96719a3475"
      },
      "source": [
        "!ls -ltr"
      ],
      "execution_count": 5,
      "outputs": [
        {
          "output_type": "stream",
          "text": [
            "total 8\n",
            "drwxr-xr-x 1 root root 4096 Nov 13 17:33 sample_data\n",
            "drwx------ 5 root root 4096 Nov 21 16:12 drive\n"
          ],
          "name": "stdout"
        }
      ]
    },
    {
      "cell_type": "markdown",
      "metadata": {
        "id": "DAVJGb_KdFbx"
      },
      "source": [
        "# Image Processing"
      ]
    },
    {
      "cell_type": "code",
      "metadata": {
        "id": "-aKmg-UYdJmK",
        "colab": {
          "base_uri": "https://localhost:8080/"
        },
        "outputId": "924dd1c8-560a-4592-8c26-567b1fdb9b2b"
      },
      "source": [
        "img_nb1 = nb.load(file_names_t1[0])\n",
        "print(img_nb1.shape)\n",
        "img_nb2 = nb.load(file_names_t2[0])\n",
        "print(img_nb2.shape)"
      ],
      "execution_count": 6,
      "outputs": [
        {
          "output_type": "stream",
          "text": [
            "(128, 128, 75)\n",
            "(128, 128, 65)\n"
          ],
          "name": "stdout"
        }
      ]
    },
    {
      "cell_type": "code",
      "metadata": {
        "id": "S1Q1VnK3rD-n"
      },
      "source": [
        "def load_4D(name):\n",
        "    model_np = np.zeros(shape=(128, 128, 128))\n",
        "    X_nb = nb.load(name)\n",
        "    X_np = X_nb.dataobj\n",
        "    #print(\"Oreintation: {}\".format(nb.aff2axcodes(X_nb.affine)))\n",
        "    model_np[:, :, 0:X_np.shape[2]] = X_np[0:128, 0:128, :]\n",
        "    model_np = np.reshape(model_np, (1,)+ model_np.shape)\n",
        "    return model_np\n",
        "\n",
        "def imgnorm(N_I,index1=0.0001,index2=0.0001):\n",
        "    I_sort = np.sort(N_I.flatten())\n",
        "    I_min = I_sort[int(index1*len(I_sort))]\n",
        "    I_max = I_sort[-int(index2*len(I_sort))]\n",
        "    N_I =1.0*(N_I-I_min)/(I_max-I_min)\n",
        "    N_I[N_I>1.0]=1.0\n",
        "    N_I[N_I<0.0]=0.0\n",
        "    N_I2 = N_I.astype(np.float32)\n",
        "    return N_I2\n",
        "\n",
        "def Norm_Zscore(img):\n",
        "    img= (img-np.mean(img))/np.std(img) \n",
        "    return img"
      ],
      "execution_count": 7,
      "outputs": []
    },
    {
      "cell_type": "code",
      "metadata": {
        "id": "9OUQBVYdlyYz"
      },
      "source": [
        "myimg = load_4D(file_names_t2[0])\n",
        "myimg1 = Norm_Zscore(imgnorm(myimg))\n",
        "myimg2 = imgnorm(myimg)"
      ],
      "execution_count": 25,
      "outputs": []
    },
    {
      "cell_type": "code",
      "metadata": {
        "colab": {
          "base_uri": "https://localhost:8080/"
        },
        "id": "PRIgs7DNl-rs",
        "outputId": "8c0ebc2d-23cb-4b8f-9f7f-8ff6d47bb636"
      },
      "source": [
        "print(np.max(myimg))\n",
        "print(np.min(myimg1))\n",
        "print(np.min(myimg2))"
      ],
      "execution_count": 26,
      "outputs": [
        {
          "output_type": "stream",
          "text": [
            "662.5123291015625\n",
            "-0.3712027\n",
            "0.0\n"
          ],
          "name": "stdout"
        }
      ]
    },
    {
      "cell_type": "code",
      "metadata": {
        "id": "pz220KtMG4s7"
      },
      "source": [
        "res = np.random.permutation(50)"
      ],
      "execution_count": 8,
      "outputs": []
    },
    {
      "cell_type": "code",
      "metadata": {
        "id": "CpqZ31yAG8v6",
        "colab": {
          "base_uri": "https://localhost:8080/"
        },
        "outputId": "56971087-63b7-4647-9e5e-159c2785a803"
      },
      "source": [
        "res"
      ],
      "execution_count": null,
      "outputs": [
        {
          "output_type": "execute_result",
          "data": {
            "text/plain": [
              "array([14, 45, 35,  6, 30, 49,  9, 47, 25, 33,  7, 36,  3, 15,  1, 46, 37,\n",
              "       19, 44, 48, 43, 26, 31, 24, 23, 34,  4, 38, 16, 40, 32,  0, 18, 22,\n",
              "       41,  5, 11,  8, 29, 20, 39, 13, 28,  2, 27, 42, 21, 12, 17, 10])"
            ]
          },
          "metadata": {
            "tags": []
          },
          "execution_count": 12
        }
      ]
    },
    {
      "cell_type": "code",
      "metadata": {
        "id": "CBWv91cIdJpD"
      },
      "source": [
        "class Dataset(Data.Dataset):\n",
        "  'Characterizes a dataset for PyTorch'\n",
        "  def __init__(self, t1_filenames, t2_filenames, iterations=1,norm=True):\n",
        "        'Initialization'\n",
        "        self.t1_filenames = t1_filenames\n",
        "        self.t2_filenames = t2_filenames\n",
        "        self.norm = norm\n",
        "        self.iterations = iterations\n",
        "  def __len__(self):\n",
        "        'Denotes the total number of samples'\n",
        "        return len(self.t1_filenames) * self.iterations\n",
        "\n",
        "  def __getitem__(self, idx):\n",
        "        'Generates one sample of data'\n",
        "        # Select sample\n",
        "        # print(self.names)\n",
        "        # print(\"idx: {}\".format(idx))\n",
        "        # index_pair = np.random.permutation(len(self.t1_filenames)) [0:4]\n",
        "        img_A = load_4D(self.t1_filenames[idx])\n",
        "        img_B = load_4D(self.t1_filenames[(idx + 4) % len(self.t1_filenames)])     \n",
        "        \n",
        "        if self.norm:\n",
        "            #return  Norm_Zscore(imgnorm(img_A)) , Norm_Zscore(imgnorm(img_B))\n",
        "            return  imgnorm(img_A) , imgnorm(img_B)\n",
        "        else:\n",
        "            return img_A, img_B\n",
        "\n"
      ],
      "execution_count": 27,
      "outputs": []
    },
    {
      "cell_type": "code",
      "metadata": {
        "id": "gH-wAyCn3G7Z"
      },
      "source": [
        "training_generator = Data.DataLoader(Dataset(file_names_t1, file_names_t2,norm=True), batch_size=2, shuffle=False)"
      ],
      "execution_count": 28,
      "outputs": []
    },
    {
      "cell_type": "code",
      "metadata": {
        "id": "DR_2aRUP4LrG"
      },
      "source": [
        "validation_generator = Data.DataLoader(Dataset(file_names_t1, file_names_t2,norm=True), batch_size=1, shuffle=False)"
      ],
      "execution_count": 29,
      "outputs": []
    },
    {
      "cell_type": "code",
      "metadata": {
        "id": "6EwQxlOM3HBj",
        "colab": {
          "base_uri": "https://localhost:8080/"
        },
        "outputId": "74f50559-6bf2-435d-fa55-9cafab30b545"
      },
      "source": [
        "ex1 = torch.rand(2, 40, 4, 4, 4)\n",
        "ex2 = ex1.flatten(start_dim=1, end_dim=4)\n",
        "ex2.shape"
      ],
      "execution_count": null,
      "outputs": [
        {
          "output_type": "execute_result",
          "data": {
            "text/plain": [
              "torch.Size([2, 2560])"
            ]
          },
          "metadata": {
            "tags": []
          },
          "execution_count": 15
        }
      ]
    },
    {
      "cell_type": "code",
      "metadata": {
        "id": "1t5gtYcu4IH_",
        "colab": {
          "base_uri": "https://localhost:8080/"
        },
        "outputId": "01e53955-5034-415c-cac4-4c1bb4c25e62"
      },
      "source": [
        "for X,Y in training_generator:\n",
        "  print(X.shape)\n",
        "  print(Y.shape)\n",
        "  break"
      ],
      "execution_count": 30,
      "outputs": [
        {
          "output_type": "stream",
          "text": [
            "torch.Size([2, 1, 128, 128, 128])\n",
            "torch.Size([2, 1, 128, 128, 128])\n"
          ],
          "name": "stdout"
        }
      ]
    },
    {
      "cell_type": "markdown",
      "metadata": {
        "id": "gcfuvlWB2-tp"
      },
      "source": [
        "# Building Affine Model"
      ]
    },
    {
      "cell_type": "code",
      "metadata": {
        "id": "KDRNICPadJry"
      },
      "source": [
        "class Admir_Affine_Encoder(nn.Module):\n",
        "    def __init__(self, in_channel, start_channel, num_conv_blocks=6):\n",
        "        self.in_channel = in_channel\n",
        "        self.start_channel = start_channel\n",
        "        self.num_conv_blocks = num_conv_blocks\n",
        "        self.encoder_layer_list = []\n",
        "        super(Admir_Affine_Encoder, self).__init__()\n",
        "        self.create_model()\n",
        "\n",
        "    def affine_conv_block(self, in_channels, out_channels, kernel_size = 3, stride = 2, padding = 1, bias=True ):\n",
        "      layer = nn.Sequential(nn.Conv3d(in_channels, out_channels, kernel_size, stride=stride, padding=padding, bias=bias),\n",
        "                            nn.BatchNorm3d(out_channels),\n",
        "                            nn.LeakyReLU(negative_slope=0.1))\n",
        "      layer.to(\"cuda\")\n",
        "      return layer\n",
        "    \n",
        "\n",
        "    def create_model(self):\n",
        "      for i in range(self.num_conv_blocks):\n",
        "          if(i == 0):\n",
        "            lyr = self.affine_conv_block(in_channels = self.in_channel, out_channels = self.start_channel)\n",
        "            lyr.to(\"cuda\")\n",
        "            self.encoder_layer_list.append(lyr)\n",
        "          else:\n",
        "            lyr = self.affine_conv_block(in_channels= self.start_channel * i, out_channels = self.start_channel * (i+1))\n",
        "            lyr.to(\"cuda\")\n",
        "            self.encoder_layer_list.append(lyr)\n",
        "\n",
        "    def forward(self, x, y):\n",
        "      # print(\"x,y\", x.shape, \"  \", y.shape)\n",
        "      x_in=torch.cat((x, y), 1)\n",
        "      e0 = self.encoder_layer_list[0](x_in)\n",
        "      e1 = self.encoder_layer_list[1](e0)\n",
        "      e2 = self.encoder_layer_list[2](e1)\n",
        "      e3 = self.encoder_layer_list[3](e2)\n",
        "      e4 = self.encoder_layer_list[4](e3)\n",
        "      return e4\n"
      ],
      "execution_count": 31,
      "outputs": []
    },
    {
      "cell_type": "code",
      "metadata": {
        "id": "NtqnFkbuVzwY"
      },
      "source": [
        "affine_conv_model = Admir_Affine_Encoder(in_channel=2, start_channel=8, num_conv_blocks=5)"
      ],
      "execution_count": null,
      "outputs": []
    },
    {
      "cell_type": "code",
      "metadata": {
        "id": "zMnKqsEzdJua"
      },
      "source": [
        "class Admir_Affine_Output(nn.Module):\n",
        "  def __init__(self, in_units, out_units=128, dropout_prob = 0.3):\n",
        "    \n",
        "    self.in_units = in_units\n",
        "    self.out_units = out_units\n",
        "    self.dropout_prob = dropout_prob\n",
        "    super(Admir_Affine_Output, self).__init__()\n",
        "    self.trns_ob = self.translation_output_block(self.in_units, self.out_units)\n",
        "    self.rss_ob = self.rot_scale_shear_output_block(self.in_units, self.out_units)\n",
        "    return;\n",
        "  \n",
        "  def translation_output_block(self, in_units, out_units):\n",
        "    layer = nn.Sequential(\n",
        "          nn.Linear(in_features = in_units, out_features= out_units),\n",
        "          nn.Dropout(p=self.dropout_prob),\n",
        "          nn.Linear(in_features=out_units, out_features= out_units//2),\n",
        "          nn.Dropout(p=self.dropout_prob),\n",
        "          nn.Linear(in_features=out_units//2, out_features= out_units//4),\n",
        "          nn.Dropout(p=self.dropout_prob),\n",
        "          nn.Linear(in_features=out_units//4, out_features= out_units//8),\n",
        "          nn.Dropout(p=self.dropout_prob),\n",
        "          nn.Linear(in_features=out_units//8, out_features= 3))\n",
        "    layer.to(\"cuda\")\n",
        "    return layer\n",
        "\n",
        "  def rot_scale_shear_output_block(self, in_units, out_units):\n",
        "    layer = nn.Sequential(\n",
        "          nn.Linear(in_features = in_units, out_features= out_units),\n",
        "          nn.Dropout(p=self.dropout_prob),\n",
        "          nn.Linear(in_features=out_units, out_features= out_units//2),\n",
        "          nn.Dropout(p=self.dropout_prob),\n",
        "          nn.Linear(in_features=out_units//2, out_features= out_units//4),\n",
        "          nn.Dropout(p=self.dropout_prob),\n",
        "          nn.Linear(in_features=out_units//4, out_features= out_units//8),\n",
        "          nn.Dropout(p=self.dropout_prob),\n",
        "          nn.Linear(in_features=out_units//8, out_features= 9),\n",
        "          nn.Tanh())\n",
        "    layer.to(\"cuda\")\n",
        "    return layer\n",
        "  \n",
        "  def forward(self, input_tnsr):\n",
        "    ip = input_tnsr.flatten(start_dim=1, end_dim=4)\n",
        "    #print(ip.shape)\n",
        "    translation_output = self.trns_ob(ip)\n",
        "    rotate_scale_shear_output = self.rss_ob(ip)\n",
        "    return [translation_output, rotate_scale_shear_output]"
      ],
      "execution_count": 32,
      "outputs": []
    },
    {
      "cell_type": "code",
      "metadata": {
        "id": "8jyWklHIdJw-"
      },
      "source": [
        "affine_output_model = Admir_Affine_Output( in_units= 2560)"
      ],
      "execution_count": null,
      "outputs": []
    },
    {
      "cell_type": "code",
      "metadata": {
        "id": "5i2igZOPlj4V",
        "colab": {
          "base_uri": "https://localhost:8080/"
        },
        "outputId": "554eec65-1257-4be2-a9aa-9cf5e2eb2317"
      },
      "source": [
        "for X,Y in training_generator:\n",
        "  X = X.cuda().float()\n",
        "  Y = Y.cuda().float()\n",
        "  print(X.shape)\n",
        "  print(Y.shape)\n",
        "  conv_out = affine_conv_model(X, Y)\n",
        "  print(conv_out.shape)\n",
        "  output_out = affine_output_model(conv_out)\n",
        "  print(output_out[0].shape)\n",
        "  print(output_out[1].shape)\n",
        "  print(\"========== ============== =============\")\n",
        "  print()"
      ],
      "execution_count": null,
      "outputs": [
        {
          "output_type": "stream",
          "text": [
            "torch.Size([2, 1, 128, 128, 128])\n",
            "torch.Size([2, 1, 128, 128, 128])\n",
            "torch.Size([2, 40, 4, 4, 4])\n",
            "torch.Size([2, 3])\n",
            "torch.Size([2, 9])\n",
            "========== ============== =============\n",
            "\n",
            "torch.Size([2, 1, 128, 128, 128])\n",
            "torch.Size([2, 1, 128, 128, 128])\n",
            "torch.Size([2, 40, 4, 4, 4])\n",
            "torch.Size([2, 3])\n",
            "torch.Size([2, 9])\n",
            "========== ============== =============\n",
            "\n",
            "torch.Size([2, 1, 128, 128, 128])\n",
            "torch.Size([2, 1, 128, 128, 128])\n",
            "torch.Size([2, 40, 4, 4, 4])\n",
            "torch.Size([2, 3])\n",
            "torch.Size([2, 9])\n",
            "========== ============== =============\n",
            "\n",
            "torch.Size([2, 1, 128, 128, 128])\n",
            "torch.Size([2, 1, 128, 128, 128])\n",
            "torch.Size([2, 40, 4, 4, 4])\n",
            "torch.Size([2, 3])\n",
            "torch.Size([2, 9])\n",
            "========== ============== =============\n",
            "\n",
            "torch.Size([2, 1, 128, 128, 128])\n",
            "torch.Size([2, 1, 128, 128, 128])\n",
            "torch.Size([2, 40, 4, 4, 4])\n",
            "torch.Size([2, 3])\n",
            "torch.Size([2, 9])\n",
            "========== ============== =============\n",
            "\n",
            "torch.Size([2, 1, 128, 128, 128])\n",
            "torch.Size([2, 1, 128, 128, 128])\n",
            "torch.Size([2, 40, 4, 4, 4])\n",
            "torch.Size([2, 3])\n",
            "torch.Size([2, 9])\n",
            "========== ============== =============\n",
            "\n",
            "torch.Size([2, 1, 128, 128, 128])\n",
            "torch.Size([2, 1, 128, 128, 128])\n",
            "torch.Size([2, 40, 4, 4, 4])\n",
            "torch.Size([2, 3])\n",
            "torch.Size([2, 9])\n",
            "========== ============== =============\n",
            "\n",
            "torch.Size([2, 1, 128, 128, 128])\n",
            "torch.Size([2, 1, 128, 128, 128])\n",
            "torch.Size([2, 40, 4, 4, 4])\n",
            "torch.Size([2, 3])\n",
            "torch.Size([2, 9])\n",
            "========== ============== =============\n",
            "\n",
            "torch.Size([2, 1, 128, 128, 128])\n",
            "torch.Size([2, 1, 128, 128, 128])\n",
            "torch.Size([2, 40, 4, 4, 4])\n",
            "torch.Size([2, 3])\n",
            "torch.Size([2, 9])\n",
            "========== ============== =============\n",
            "\n",
            "torch.Size([2, 1, 128, 128, 128])\n",
            "torch.Size([2, 1, 128, 128, 128])\n",
            "torch.Size([2, 40, 4, 4, 4])\n",
            "torch.Size([2, 3])\n",
            "torch.Size([2, 9])\n",
            "========== ============== =============\n",
            "\n",
            "torch.Size([2, 1, 128, 128, 128])\n",
            "torch.Size([2, 1, 128, 128, 128])\n",
            "torch.Size([2, 40, 4, 4, 4])\n",
            "torch.Size([2, 3])\n",
            "torch.Size([2, 9])\n",
            "========== ============== =============\n",
            "\n",
            "torch.Size([2, 1, 128, 128, 128])\n",
            "torch.Size([2, 1, 128, 128, 128])\n",
            "torch.Size([2, 40, 4, 4, 4])\n",
            "torch.Size([2, 3])\n",
            "torch.Size([2, 9])\n",
            "========== ============== =============\n",
            "\n",
            "torch.Size([2, 1, 128, 128, 128])\n",
            "torch.Size([2, 1, 128, 128, 128])\n",
            "torch.Size([2, 40, 4, 4, 4])\n",
            "torch.Size([2, 3])\n",
            "torch.Size([2, 9])\n",
            "========== ============== =============\n",
            "\n",
            "torch.Size([2, 1, 128, 128, 128])\n",
            "torch.Size([2, 1, 128, 128, 128])\n",
            "torch.Size([2, 40, 4, 4, 4])\n",
            "torch.Size([2, 3])\n",
            "torch.Size([2, 9])\n",
            "========== ============== =============\n",
            "\n",
            "torch.Size([2, 1, 128, 128, 128])\n",
            "torch.Size([2, 1, 128, 128, 128])\n",
            "torch.Size([2, 40, 4, 4, 4])\n",
            "torch.Size([2, 3])\n",
            "torch.Size([2, 9])\n",
            "========== ============== =============\n",
            "\n",
            "torch.Size([2, 1, 128, 128, 128])\n",
            "torch.Size([2, 1, 128, 128, 128])\n",
            "torch.Size([2, 40, 4, 4, 4])\n",
            "torch.Size([2, 3])\n",
            "torch.Size([2, 9])\n",
            "========== ============== =============\n",
            "\n",
            "torch.Size([2, 1, 128, 128, 128])\n",
            "torch.Size([2, 1, 128, 128, 128])\n",
            "torch.Size([2, 40, 4, 4, 4])\n",
            "torch.Size([2, 3])\n",
            "torch.Size([2, 9])\n",
            "========== ============== =============\n",
            "\n",
            "torch.Size([2, 1, 128, 128, 128])\n",
            "torch.Size([2, 1, 128, 128, 128])\n",
            "torch.Size([2, 40, 4, 4, 4])\n",
            "torch.Size([2, 3])\n",
            "torch.Size([2, 9])\n",
            "========== ============== =============\n",
            "\n",
            "torch.Size([2, 1, 128, 128, 128])\n",
            "torch.Size([2, 1, 128, 128, 128])\n",
            "torch.Size([2, 40, 4, 4, 4])\n",
            "torch.Size([2, 3])\n",
            "torch.Size([2, 9])\n",
            "========== ============== =============\n",
            "\n",
            "torch.Size([2, 1, 128, 128, 128])\n",
            "torch.Size([2, 1, 128, 128, 128])\n",
            "torch.Size([2, 40, 4, 4, 4])\n",
            "torch.Size([2, 3])\n",
            "torch.Size([2, 9])\n",
            "========== ============== =============\n",
            "\n",
            "torch.Size([2, 1, 128, 128, 128])\n",
            "torch.Size([2, 1, 128, 128, 128])\n",
            "torch.Size([2, 40, 4, 4, 4])\n",
            "torch.Size([2, 3])\n",
            "torch.Size([2, 9])\n",
            "========== ============== =============\n",
            "\n",
            "torch.Size([2, 1, 128, 128, 128])\n",
            "torch.Size([2, 1, 128, 128, 128])\n",
            "torch.Size([2, 40, 4, 4, 4])\n",
            "torch.Size([2, 3])\n",
            "torch.Size([2, 9])\n",
            "========== ============== =============\n",
            "\n",
            "torch.Size([2, 1, 128, 128, 128])\n",
            "torch.Size([2, 1, 128, 128, 128])\n",
            "torch.Size([2, 40, 4, 4, 4])\n",
            "torch.Size([2, 3])\n",
            "torch.Size([2, 9])\n",
            "========== ============== =============\n",
            "\n",
            "torch.Size([2, 1, 128, 128, 128])\n",
            "torch.Size([2, 1, 128, 128, 128])\n",
            "torch.Size([2, 40, 4, 4, 4])\n",
            "torch.Size([2, 3])\n",
            "torch.Size([2, 9])\n",
            "========== ============== =============\n",
            "\n",
            "torch.Size([2, 1, 128, 128, 128])\n",
            "torch.Size([2, 1, 128, 128, 128])\n",
            "torch.Size([2, 40, 4, 4, 4])\n",
            "torch.Size([2, 3])\n",
            "torch.Size([2, 9])\n",
            "========== ============== =============\n",
            "\n"
          ],
          "name": "stdout"
        }
      ]
    },
    {
      "cell_type": "markdown",
      "metadata": {
        "id": "YNrKuRLqiJYF"
      },
      "source": [
        "# Spatial Transform"
      ]
    },
    {
      "cell_type": "code",
      "metadata": {
        "id": "Ekf9ihEilj8O"
      },
      "source": [
        "class SpatialTransformer(nn.Module):\n",
        "    \"\"\"\n",
        "    N-D Spatial Transformer\n",
        "    \"\"\"\n",
        "\n",
        "    def __init__(self, size, is_affine=False, theta = None, mode='bilinear', affine_image_size =  (2, 1, 128, 128, 128)):\n",
        "        super().__init__()\n",
        "\n",
        "        self.mode = mode\n",
        "        self.isaffine = is_affine\n",
        "        self.theta = theta\n",
        "        self.affine_image_size =  affine_image_size\n",
        "        # create sampling grid\n",
        "        # registering the grid as a buffer cleanly moves it to the GPU, but it also\n",
        "        # adds it to the state dict. this is annoying since everything in the state dict\n",
        "        # is included when saving weights to disk, so the model files are way bigger\n",
        "        # than they need to be. so far, there does not appear to be an elegant solution.\n",
        "        # see: https://discuss.pytorch.org/t/how-to-register-buffer-without-polluting-state-dict\n",
        "\n",
        "        if (self.isaffine):\n",
        "          grid = F.affine_grid(self.theta, self.affine_image_size, align_corners=False)\n",
        "          #grid = grid.permute(0, 4, 1, 2, 3)\n",
        "          self.register_buffer('grid', grid)\n",
        "        else:\n",
        "          vectors = [torch.arange(0, s) for s in size]\n",
        "          grids = torch.meshgrid(vectors)\n",
        "          grid = torch.stack(grids)\n",
        "          grid = torch.unsqueeze(grid, 0)\n",
        "          grid = grid.type(torch.FloatTensor)\n",
        "          self.register_buffer('grid', grid)\n",
        "\n",
        "    def forward(self, src, flow=None):      \n",
        "      if (self.isaffine):\n",
        "        grid = F.affine_grid(self.theta, self.affine_image_size)        \n",
        "        warped_image = F.grid_sample(src, grid)\n",
        "        #warped_image = warped_image.permute(0, 4, 1, 2, 3)\n",
        "        return warped_image\n",
        "      else:\n",
        "        # new locations\n",
        "        new_locs = self.grid + flow\n",
        "        shape = flow.shape[2:]\n",
        "\n",
        "        # need to normalize grid values to [-1, 1] for resampler\n",
        "        for i in range(len(shape)):\n",
        "            new_locs[:, i, ...] = 2 * (new_locs[:, i, ...] / (shape[i] - 1) - 0.5)\n",
        "\n",
        "        # move channels dim to last position\n",
        "        # also not sure why, but the channels need to be reversed\n",
        "        if len(shape) == 2:\n",
        "            new_locs = new_locs.permute(0, 2, 3, 1)\n",
        "            new_locs = new_locs[..., [1, 0]]\n",
        "        elif len(shape) == 3:\n",
        "            new_locs = new_locs.permute(0, 2, 3, 4, 1)\n",
        "            new_locs = new_locs[..., [2, 1, 0]]\n",
        "\n",
        "        return F.grid_sample(src, new_locs, align_corners=True, mode=self.mode)\n"
      ],
      "execution_count": 33,
      "outputs": []
    },
    {
      "cell_type": "code",
      "metadata": {
        "colab": {
          "base_uri": "https://localhost:8080/"
        },
        "id": "Pn6NjNzdctkd",
        "outputId": "b92ce71e-0bce-4a78-fcd3-365d38b8bac9"
      },
      "source": [
        "rotated_affine_matrix = torch.from_numpy(np.array([ [ [0.0, 0.0, -1.0, 0.0], [ 0.0, -1.0, 0.0, 0.0], [-1.0,  0.0, 0.0, 0.0] ] ], dtype=\"float32\" ))\n",
        "affine_matrix = torch.from_numpy(np.array([ [ [1.0, 0.0, 0.0, 0.0], [ 0.0, 1.0, 0.0, 0.0], [0.0,  0.0, 1.0, 0.0] ] ], dtype=\"float32\" ))\n",
        "print(affine_matrix.shape)\n",
        "print(affine_matrix.dtype)"
      ],
      "execution_count": null,
      "outputs": [
        {
          "output_type": "stream",
          "text": [
            "torch.Size([1, 3, 4])\n",
            "torch.float32\n"
          ],
          "name": "stdout"
        }
      ]
    },
    {
      "cell_type": "code",
      "metadata": {
        "colab": {
          "base_uri": "https://localhost:8080/"
        },
        "id": "YzTYTR8niwpw",
        "outputId": "44cb9f55-17f0-4fa3-ca38-eaf3bd37c73f"
      },
      "source": [
        "mytnsr = torch.randn(size= (1, 3, 4))\n",
        "mytnsr.dtype"
      ],
      "execution_count": null,
      "outputs": [
        {
          "output_type": "execute_result",
          "data": {
            "text/plain": [
              "torch.float32"
            ]
          },
          "metadata": {
            "tags": []
          },
          "execution_count": 21
        }
      ]
    },
    {
      "cell_type": "code",
      "metadata": {
        "id": "BBY7LjNtlkAS",
        "colab": {
          "base_uri": "https://localhost:8080/"
        },
        "outputId": "2355d5b2-377f-47d2-ff76-c7cd591994e5"
      },
      "source": [
        "spatial_transformer_affine = SpatialTransformer(size=(128, 128, 128), is_affine=True, theta=affine_matrix,  affine_image_size =  (1, 1, 128, 128, 128))\n",
        "print(spatial_transformer_affine.grid.shape)\n",
        "print(spatial_transformer_affine.isaffine)\n",
        "print(\"========= =========== ======\")\n",
        "print()"
      ],
      "execution_count": null,
      "outputs": [
        {
          "output_type": "stream",
          "text": [
            "torch.Size([1, 128, 128, 128, 3])\n",
            "True\n",
            "========= =========== ======\n",
            "\n"
          ],
          "name": "stdout"
        }
      ]
    },
    {
      "cell_type": "code",
      "metadata": {
        "colab": {
          "base_uri": "https://localhost:8080/"
        },
        "id": "kgULqF2RcH-G",
        "outputId": "7a154b27-1ef1-4726-8642-52758c4da756"
      },
      "source": [
        "counter = 0\n",
        "for X, Y in validation_generator:\n",
        "  print(X.dtype)\n",
        "  warped_image_tensor = spatial_transformer_affine(Y)\n",
        "  counter = counter + 1\n",
        "\n",
        "  warped_image_np = warped_image_tensor.numpy()\n",
        "  if(counter >= 1):\n",
        "    break;\n"
      ],
      "execution_count": null,
      "outputs": [
        {
          "output_type": "stream",
          "text": [
            "Oreintation: ('P', 'S', 'R')\n",
            "Oreintation: ('L', 'A', 'S')\n",
            "torch.float32\n"
          ],
          "name": "stdout"
        },
        {
          "output_type": "stream",
          "text": [
            "/usr/local/lib/python3.6/dist-packages/torch/nn/functional.py:3448: UserWarning: Default grid_sample and affine_grid behavior has changed to align_corners=False since 1.3.0. Please specify align_corners=True if the old behavior is desired. See the documentation of grid_sample for details.\n",
            "  warnings.warn(\"Default grid_sample and affine_grid behavior has changed \"\n",
            "/usr/local/lib/python3.6/dist-packages/torch/nn/functional.py:3385: UserWarning: Default grid_sample and affine_grid behavior has changed to align_corners=False since 1.3.0. Please specify align_corners=True if the old behavior is desired. See the documentation of grid_sample for details.\n",
            "  warnings.warn(\"Default grid_sample and affine_grid behavior has changed \"\n"
          ],
          "name": "stderr"
        }
      ]
    },
    {
      "cell_type": "code",
      "metadata": {
        "colab": {
          "base_uri": "https://localhost:8080/",
          "height": 285
        },
        "id": "wULBmNIQjlGp",
        "outputId": "82b0c32e-5b1a-46d2-e4e0-21345ddab7a6"
      },
      "source": [
        "plt.imshow(warped_image_np[0, 0, 64, :, :])"
      ],
      "execution_count": null,
      "outputs": [
        {
          "output_type": "execute_result",
          "data": {
            "text/plain": [
              "<matplotlib.image.AxesImage at 0x7fccaf94a1d0>"
            ]
          },
          "metadata": {
            "tags": []
          },
          "execution_count": 25
        },
        {
          "output_type": "display_data",
          "data": {
            "image/png": "[encoded data removed]",
            "text/plain": [
              "<Figure size 432x288 with 1 Axes>"
            ]
          },
          "metadata": {
            "tags": [],
            "needs_background": "light"
          }
        }
      ]
    },
    {
      "cell_type": "code",
      "metadata": {
        "colab": {
          "base_uri": "https://localhost:8080/",
          "height": 303
        },
        "id": "bCspOwv8j6Ge",
        "outputId": "c1128490-af92-4e71-fda2-c051a6c1b23e"
      },
      "source": [
        "mynb_np1 = load_4D(file_names_t1[0])\n",
        "plt.imshow(mynb_np1[0, :, :, 32])"
      ],
      "execution_count": null,
      "outputs": [
        {
          "output_type": "stream",
          "text": [
            "Oreintation: ('P', 'S', 'R')\n"
          ],
          "name": "stdout"
        },
        {
          "output_type": "execute_result",
          "data": {
            "text/plain": [
              "<matplotlib.image.AxesImage at 0x7fccaf6b0748>"
            ]
          },
          "metadata": {
            "tags": []
          },
          "execution_count": 31
        },
        {
          "output_type": "display_data",
          "data": {
            "image/png": "[encoded data removed]",
            "text/plain": [
              "<Figure size 432x288 with 1 Axes>"
            ]
          },
          "metadata": {
            "tags": [],
            "needs_background": "light"
          }
        }
      ]
    },
    {
      "cell_type": "code",
      "metadata": {
        "colab": {
          "base_uri": "https://localhost:8080/",
          "height": 303
        },
        "id": "_f3UaokDIkcw",
        "outputId": "e27c7c7f-e073-41c9-8373-4c2e3f97a831"
      },
      "source": [
        "mynb_np2 = load_4D(file_names_t2[0])\n",
        "plt.imshow(mynb_np2[0, 64, :, :])"
      ],
      "execution_count": null,
      "outputs": [
        {
          "output_type": "stream",
          "text": [
            "Oreintation: ('L', 'A', 'S')\n"
          ],
          "name": "stdout"
        },
        {
          "output_type": "execute_result",
          "data": {
            "text/plain": [
              "<matplotlib.image.AxesImage at 0x7fccaf746908>"
            ]
          },
          "metadata": {
            "tags": []
          },
          "execution_count": 30
        },
        {
          "output_type": "display_data",
          "data": {
            "image/png": "[encoded data removed]",
            "text/plain": [
              "<Figure size 432x288 with 1 Axes>"
            ]
          },
          "metadata": {
            "tags": [],
            "needs_background": "light"
          }
        }
      ]
    },
    {
      "cell_type": "code",
      "metadata": {
        "id": "dwk_DZpabUve",
        "colab": {
          "base_uri": "https://localhost:8080/"
        },
        "outputId": "5e2ca497-71a9-42fc-fdce-c273ca6c79d4"
      },
      "source": [
        "spatial_transformer_deformable = SpatialTransformer(size=(128, 128, 128), is_affine=False)\n",
        "print(spatial_transformer_deformable.grid.shape)\n",
        "print(spatial_transformer_deformable.isaffine)\n",
        "print(\"========= =========== ======\")\n",
        "print()"
      ],
      "execution_count": null,
      "outputs": [
        {
          "output_type": "stream",
          "text": [
            "torch.Size([1, 3, 128, 128, 128])\n",
            "False\n",
            "========= =========== ======\n",
            "\n"
          ],
          "name": "stdout"
        }
      ]
    },
    {
      "cell_type": "markdown",
      "metadata": {
        "id": "AuqfeLHhiO8a"
      },
      "source": [
        "# Deformable ConvNet"
      ]
    },
    {
      "cell_type": "code",
      "metadata": {
        "id": "DBiyQjAIlwMI"
      },
      "source": [
        "class Admir_Deformable_UNet(nn.Module):\n",
        "  def __init__(self,in_channel  , n_classes,start_channel):\n",
        "        self.in_channel = in_channel\n",
        "        self.n_classes = n_classes\n",
        "        self.start_channel = start_channel\n",
        "        super(Admir_Deformable_UNet, self).__init__()\n",
        "        self.eninput = self.encoder(self.in_channel, self.start_channel, bias=False)\n",
        "\n",
        "        self.ec1 = self.encoder(self.start_channel, self.start_channel, bias=False)\n",
        "        self.ec2 = self.encoder(self.start_channel, self.start_channel*2, stride=2, bias=False)\n",
        "\n",
        "        self.ec3 = self.encoder(self.start_channel*2, self.start_channel*2, bias=False)\n",
        "        self.ec4 = self.encoder(self.start_channel*2, self.start_channel*4, stride=2, bias=False)\n",
        "\n",
        "        self.ec5 = self.encoder(self.start_channel*4, self.start_channel*4, bias=False)\n",
        "        self.ec6 = self.encoder(self.start_channel*4, self.start_channel*8, stride=2, bias=False)\n",
        "\n",
        "       \n",
        "    \n",
        "        self.dc1 = self.encoder(self.start_channel*8, self.start_channel*8, kernel_size=3, stride=1, bias=False) \n",
        "        self.dc2 = self.encoder(self.start_channel*4, self.start_channel*4, kernel_size=3, stride=1, bias=False)          \n",
        "        self.dc3 = self.encoder(self.start_channel*2, self.start_channel*2, kernel_size=3, stride=1, bias=False)\n",
        "\n",
        "        self.up1 = self.decoder(self.start_channel*8, self.start_channel*4)\n",
        "        self.up2 = self.decoder(self.start_channel*4, self.start_channel*2)\n",
        "        self.up3 = self.decoder(self.start_channel*2, self.start_channel)\n",
        "\n",
        "        self.dc4 = self.output(self.start_channel, self.n_classes,kernel_size=1,bias=False)\n",
        "\n",
        "  def encoder(self, in_channels, out_channels, kernel_size=3, stride=1, padding=1,\n",
        "                bias=True):\n",
        "    layer = nn.Sequential(\n",
        "                nn.Conv3d(in_channels, out_channels, kernel_size, stride=stride, padding=padding, bias=bias),\n",
        "                nn.BatchNorm3d(out_channels),\n",
        "                nn.LeakyReLU(negative_slope=0.1))\n",
        "    layer.to(\"cuda\")\n",
        "    return layer\n",
        "\n",
        "  def decoder(self, in_channels, out_channels, kernel_size=2, stride=2, padding=0,\n",
        "                output_padding=0, bias=True):\n",
        "    layer = nn.Sequential(\n",
        "                nn.ConvTranspose3d(in_channels, out_channels, kernel_size, stride=stride,\n",
        "                               padding=padding, output_padding=output_padding, bias=bias),\n",
        "            nn.LeakyReLU(negative_slope=0.1))\n",
        "    layer.to(\"cuda\")\n",
        "    return layer\n",
        "       \n",
        "  def output(self, in_channels, out_channels, kernel_size=3, \n",
        "                bias=False, batchnorm=False):\n",
        "    layer = nn.Sequential(\n",
        "                nn.Conv3d(in_channels, out_channels, kernel_size, bias=bias),\n",
        "               )\n",
        "    layer.to(\"cuda\")\n",
        "    return layer\n",
        "\n",
        "  def forward(self, x,y):\n",
        "        # print(\"x,y\", x.shape, \"  \", y.shape)\n",
        "        x_in=torch.cat((x, y), 1)  \n",
        "        e0 = self.eninput(x_in)\n",
        "\n",
        "        # print(\"e0\", e0.shape)\n",
        "\n",
        "        e0 = self.ec1(e0)\n",
        "        es1 = self.ec2(e0)   #strided\n",
        "        # print(\"e0\", e0.shape)\n",
        "        # print(\"es1\", es1.shape)\n",
        "\n",
        "        e1 = self.ec3(es1)   \n",
        "        es2 = self.ec4(e1)   #strided\n",
        "        # print(\"e1\", e1.shape)\n",
        "        # print(\"es2\", es2.shape)\n",
        "\n",
        "        e2 = self.ec5(es2)\n",
        "        es3 = self.ec6(e2)   #strided\n",
        "        # print(\"e2\", e2.shape)\n",
        "        # print(\"es3\", es3.shape)\n",
        "\n",
        "        \n",
        "\n",
        "        d0 = self.dc1(es3)\n",
        "        # print(\"d0\", d0.shape)\n",
        "\n",
        "        d0 = torch.add(self.up1(d0), e2)\n",
        "        # print(\"d0\", d0.shape)\n",
        "\n",
        "        d1 = self.dc2(d0)\n",
        "        d1 = torch.add(self.up2(d1), e1)\n",
        "        # print(\"d1\", d1.shape)\n",
        "\n",
        "        d2 = self.dc3(d1)\n",
        "        d2 = torch.add(self.up3(d2), e0)\n",
        "        print(\"d2\", d2.shape)\n",
        "\n",
        "        output = self.dc4(d2)\n",
        "        return output"
      ],
      "execution_count": 34,
      "outputs": []
    },
    {
      "cell_type": "code",
      "metadata": {
        "id": "XRni_hDJBuhF",
        "colab": {
          "base_uri": "https://localhost:8080/",
          "height": 782
        },
        "outputId": "513d6be4-11a9-4dba-b585-e155f17b1a87"
      },
      "source": [
        "torch.cuda.empty_cache()\n",
        "model = Admir_Deformable_UNet(2,3,16).cuda() # assining cuda to model\n",
        "\n",
        "for X,Y in training_generator:\n",
        "  X = X.cuda().float()\n",
        "  Y = Y.cuda().float()\n",
        "  print(X.shape)\n",
        "  print(Y.shape)\n",
        "  out = model(X, Y)\n",
        "  print(out.shape)\n",
        "  print(\"========== ============== =============\")\n",
        "  print()"
      ],
      "execution_count": null,
      "outputs": [
        {
          "output_type": "stream",
          "text": [
            "torch.Size([2, 1, 128, 128, 128])\n",
            "torch.Size([2, 1, 128, 128, 128])\n",
            "d2 torch.Size([2, 16, 128, 128, 128])\n",
            "torch.Size([2, 3, 128, 128, 128])\n",
            "========== ============== =============\n",
            "\n",
            "torch.Size([2, 1, 128, 128, 128])\n",
            "torch.Size([2, 1, 128, 128, 128])\n",
            "d2 torch.Size([2, 16, 128, 128, 128])\n",
            "torch.Size([2, 3, 128, 128, 128])\n",
            "========== ============== =============\n",
            "\n",
            "torch.Size([2, 1, 128, 128, 128])\n",
            "torch.Size([2, 1, 128, 128, 128])\n",
            "d2 torch.Size([2, 16, 128, 128, 128])\n",
            "torch.Size([2, 3, 128, 128, 128])\n",
            "========== ============== =============\n",
            "\n",
            "torch.Size([2, 1, 128, 128, 128])\n",
            "torch.Size([2, 1, 128, 128, 128])\n",
            "d2 torch.Size([2, 16, 128, 128, 128])\n",
            "torch.Size([2, 3, 128, 128, 128])\n",
            "========== ============== =============\n",
            "\n"
          ],
          "name": "stdout"
        },
        {
          "output_type": "error",
          "ename": "KeyboardInterrupt",
          "evalue": "ignored",
          "traceback": [
            "\u001b[0;31m---------------------------------------------------------------------------\u001b[0m",
            "\u001b[0;31mKeyboardInterrupt\u001b[0m                         Traceback (most recent call last)",
            "\u001b[0;32m<ipython-input-36-df7ba31c4716>\u001b[0m in \u001b[0;36m<module>\u001b[0;34m()\u001b[0m\n\u001b[1;32m      2\u001b[0m \u001b[0mmodel\u001b[0m \u001b[0;34m=\u001b[0m \u001b[0mAdmir_Deformable_UNet\u001b[0m\u001b[0;34m(\u001b[0m\u001b[0;36m2\u001b[0m\u001b[0;34m,\u001b[0m\u001b[0;36m3\u001b[0m\u001b[0;34m,\u001b[0m\u001b[0;36m16\u001b[0m\u001b[0;34m)\u001b[0m\u001b[0;34m.\u001b[0m\u001b[0mcuda\u001b[0m\u001b[0;34m(\u001b[0m\u001b[0;34m)\u001b[0m \u001b[0;31m# assining cuda to model\u001b[0m\u001b[0;34m\u001b[0m\u001b[0;34m\u001b[0m\u001b[0m\n\u001b[1;32m      3\u001b[0m \u001b[0;34m\u001b[0m\u001b[0m\n\u001b[0;32m----> 4\u001b[0;31m \u001b[0;32mfor\u001b[0m \u001b[0mX\u001b[0m\u001b[0;34m,\u001b[0m\u001b[0mY\u001b[0m \u001b[0;32min\u001b[0m \u001b[0mtraining_generator\u001b[0m\u001b[0;34m:\u001b[0m\u001b[0;34m\u001b[0m\u001b[0;34m\u001b[0m\u001b[0m\n\u001b[0m\u001b[1;32m      5\u001b[0m   \u001b[0mX\u001b[0m \u001b[0;34m=\u001b[0m \u001b[0mX\u001b[0m\u001b[0;34m.\u001b[0m\u001b[0mcuda\u001b[0m\u001b[0;34m(\u001b[0m\u001b[0;34m)\u001b[0m\u001b[0;34m.\u001b[0m\u001b[0mfloat\u001b[0m\u001b[0;34m(\u001b[0m\u001b[0;34m)\u001b[0m\u001b[0;34m\u001b[0m\u001b[0;34m\u001b[0m\u001b[0m\n\u001b[1;32m      6\u001b[0m   \u001b[0mY\u001b[0m \u001b[0;34m=\u001b[0m \u001b[0mY\u001b[0m\u001b[0;34m.\u001b[0m\u001b[0mcuda\u001b[0m\u001b[0;34m(\u001b[0m\u001b[0;34m)\u001b[0m\u001b[0;34m.\u001b[0m\u001b[0mfloat\u001b[0m\u001b[0;34m(\u001b[0m\u001b[0;34m)\u001b[0m\u001b[0;34m\u001b[0m\u001b[0;34m\u001b[0m\u001b[0m\n",
            "\u001b[0;32m/usr/local/lib/python3.6/dist-packages/torch/utils/data/dataloader.py\u001b[0m in \u001b[0;36m__next__\u001b[0;34m(self)\u001b[0m\n\u001b[1;32m    433\u001b[0m         \u001b[0;32mif\u001b[0m \u001b[0mself\u001b[0m\u001b[0;34m.\u001b[0m\u001b[0m_sampler_iter\u001b[0m \u001b[0;32mis\u001b[0m \u001b[0;32mNone\u001b[0m\u001b[0;34m:\u001b[0m\u001b[0;34m\u001b[0m\u001b[0;34m\u001b[0m\u001b[0m\n\u001b[1;32m    434\u001b[0m             \u001b[0mself\u001b[0m\u001b[0;34m.\u001b[0m\u001b[0m_reset\u001b[0m\u001b[0;34m(\u001b[0m\u001b[0;34m)\u001b[0m\u001b[0;34m\u001b[0m\u001b[0;34m\u001b[0m\u001b[0m\n\u001b[0;32m--> 435\u001b[0;31m         \u001b[0mdata\u001b[0m \u001b[0;34m=\u001b[0m \u001b[0mself\u001b[0m\u001b[0;34m.\u001b[0m\u001b[0m_next_data\u001b[0m\u001b[0;34m(\u001b[0m\u001b[0;34m)\u001b[0m\u001b[0;34m\u001b[0m\u001b[0;34m\u001b[0m\u001b[0m\n\u001b[0m\u001b[1;32m    436\u001b[0m         \u001b[0mself\u001b[0m\u001b[0;34m.\u001b[0m\u001b[0m_num_yielded\u001b[0m \u001b[0;34m+=\u001b[0m \u001b[0;36m1\u001b[0m\u001b[0;34m\u001b[0m\u001b[0;34m\u001b[0m\u001b[0m\n\u001b[1;32m    437\u001b[0m         \u001b[0;32mif\u001b[0m \u001b[0mself\u001b[0m\u001b[0;34m.\u001b[0m\u001b[0m_dataset_kind\u001b[0m \u001b[0;34m==\u001b[0m \u001b[0m_DatasetKind\u001b[0m\u001b[0;34m.\u001b[0m\u001b[0mIterable\u001b[0m \u001b[0;32mand\u001b[0m\u001b[0;31m \u001b[0m\u001b[0;31m\\\u001b[0m\u001b[0;34m\u001b[0m\u001b[0;34m\u001b[0m\u001b[0m\n",
            "\u001b[0;32m/usr/local/lib/python3.6/dist-packages/torch/utils/data/dataloader.py\u001b[0m in \u001b[0;36m_next_data\u001b[0;34m(self)\u001b[0m\n\u001b[1;32m    473\u001b[0m     \u001b[0;32mdef\u001b[0m \u001b[0m_next_data\u001b[0m\u001b[0;34m(\u001b[0m\u001b[0mself\u001b[0m\u001b[0;34m)\u001b[0m\u001b[0;34m:\u001b[0m\u001b[0;34m\u001b[0m\u001b[0;34m\u001b[0m\u001b[0m\n\u001b[1;32m    474\u001b[0m         \u001b[0mindex\u001b[0m \u001b[0;34m=\u001b[0m \u001b[0mself\u001b[0m\u001b[0;34m.\u001b[0m\u001b[0m_next_index\u001b[0m\u001b[0;34m(\u001b[0m\u001b[0;34m)\u001b[0m  \u001b[0;31m# may raise StopIteration\u001b[0m\u001b[0;34m\u001b[0m\u001b[0;34m\u001b[0m\u001b[0m\n\u001b[0;32m--> 475\u001b[0;31m         \u001b[0mdata\u001b[0m \u001b[0;34m=\u001b[0m \u001b[0mself\u001b[0m\u001b[0;34m.\u001b[0m\u001b[0m_dataset_fetcher\u001b[0m\u001b[0;34m.\u001b[0m\u001b[0mfetch\u001b[0m\u001b[0;34m(\u001b[0m\u001b[0mindex\u001b[0m\u001b[0;34m)\u001b[0m  \u001b[0;31m# may raise StopIteration\u001b[0m\u001b[0;34m\u001b[0m\u001b[0;34m\u001b[0m\u001b[0m\n\u001b[0m\u001b[1;32m    476\u001b[0m         \u001b[0;32mif\u001b[0m \u001b[0mself\u001b[0m\u001b[0;34m.\u001b[0m\u001b[0m_pin_memory\u001b[0m\u001b[0;34m:\u001b[0m\u001b[0;34m\u001b[0m\u001b[0;34m\u001b[0m\u001b[0m\n\u001b[1;32m    477\u001b[0m             \u001b[0mdata\u001b[0m \u001b[0;34m=\u001b[0m \u001b[0m_utils\u001b[0m\u001b[0;34m.\u001b[0m\u001b[0mpin_memory\u001b[0m\u001b[0;34m.\u001b[0m\u001b[0mpin_memory\u001b[0m\u001b[0;34m(\u001b[0m\u001b[0mdata\u001b[0m\u001b[0;34m)\u001b[0m\u001b[0;34m\u001b[0m\u001b[0;34m\u001b[0m\u001b[0m\n",
            "\u001b[0;32m/usr/local/lib/python3.6/dist-packages/torch/utils/data/_utils/fetch.py\u001b[0m in \u001b[0;36mfetch\u001b[0;34m(self, possibly_batched_index)\u001b[0m\n\u001b[1;32m     42\u001b[0m     \u001b[0;32mdef\u001b[0m \u001b[0mfetch\u001b[0m\u001b[0;34m(\u001b[0m\u001b[0mself\u001b[0m\u001b[0;34m,\u001b[0m \u001b[0mpossibly_batched_index\u001b[0m\u001b[0;34m)\u001b[0m\u001b[0;34m:\u001b[0m\u001b[0;34m\u001b[0m\u001b[0;34m\u001b[0m\u001b[0m\n\u001b[1;32m     43\u001b[0m         \u001b[0;32mif\u001b[0m \u001b[0mself\u001b[0m\u001b[0;34m.\u001b[0m\u001b[0mauto_collation\u001b[0m\u001b[0;34m:\u001b[0m\u001b[0;34m\u001b[0m\u001b[0;34m\u001b[0m\u001b[0m\n\u001b[0;32m---> 44\u001b[0;31m             \u001b[0mdata\u001b[0m \u001b[0;34m=\u001b[0m \u001b[0;34m[\u001b[0m\u001b[0mself\u001b[0m\u001b[0;34m.\u001b[0m\u001b[0mdataset\u001b[0m\u001b[0;34m[\u001b[0m\u001b[0midx\u001b[0m\u001b[0;34m]\u001b[0m \u001b[0;32mfor\u001b[0m \u001b[0midx\u001b[0m \u001b[0;32min\u001b[0m \u001b[0mpossibly_batched_index\u001b[0m\u001b[0;34m]\u001b[0m\u001b[0;34m\u001b[0m\u001b[0;34m\u001b[0m\u001b[0m\n\u001b[0m\u001b[1;32m     45\u001b[0m         \u001b[0;32melse\u001b[0m\u001b[0;34m:\u001b[0m\u001b[0;34m\u001b[0m\u001b[0;34m\u001b[0m\u001b[0m\n\u001b[1;32m     46\u001b[0m             \u001b[0mdata\u001b[0m \u001b[0;34m=\u001b[0m \u001b[0mself\u001b[0m\u001b[0;34m.\u001b[0m\u001b[0mdataset\u001b[0m\u001b[0;34m[\u001b[0m\u001b[0mpossibly_batched_index\u001b[0m\u001b[0;34m]\u001b[0m\u001b[0;34m\u001b[0m\u001b[0;34m\u001b[0m\u001b[0m\n",
            "\u001b[0;32m/usr/local/lib/python3.6/dist-packages/torch/utils/data/_utils/fetch.py\u001b[0m in \u001b[0;36m<listcomp>\u001b[0;34m(.0)\u001b[0m\n\u001b[1;32m     42\u001b[0m     \u001b[0;32mdef\u001b[0m \u001b[0mfetch\u001b[0m\u001b[0;34m(\u001b[0m\u001b[0mself\u001b[0m\u001b[0;34m,\u001b[0m \u001b[0mpossibly_batched_index\u001b[0m\u001b[0;34m)\u001b[0m\u001b[0;34m:\u001b[0m\u001b[0;34m\u001b[0m\u001b[0;34m\u001b[0m\u001b[0m\n\u001b[1;32m     43\u001b[0m         \u001b[0;32mif\u001b[0m \u001b[0mself\u001b[0m\u001b[0;34m.\u001b[0m\u001b[0mauto_collation\u001b[0m\u001b[0;34m:\u001b[0m\u001b[0;34m\u001b[0m\u001b[0;34m\u001b[0m\u001b[0m\n\u001b[0;32m---> 44\u001b[0;31m             \u001b[0mdata\u001b[0m \u001b[0;34m=\u001b[0m \u001b[0;34m[\u001b[0m\u001b[0mself\u001b[0m\u001b[0;34m.\u001b[0m\u001b[0mdataset\u001b[0m\u001b[0;34m[\u001b[0m\u001b[0midx\u001b[0m\u001b[0;34m]\u001b[0m \u001b[0;32mfor\u001b[0m \u001b[0midx\u001b[0m \u001b[0;32min\u001b[0m \u001b[0mpossibly_batched_index\u001b[0m\u001b[0;34m]\u001b[0m\u001b[0;34m\u001b[0m\u001b[0;34m\u001b[0m\u001b[0m\n\u001b[0m\u001b[1;32m     45\u001b[0m         \u001b[0;32melse\u001b[0m\u001b[0;34m:\u001b[0m\u001b[0;34m\u001b[0m\u001b[0;34m\u001b[0m\u001b[0m\n\u001b[1;32m     46\u001b[0m             \u001b[0mdata\u001b[0m \u001b[0;34m=\u001b[0m \u001b[0mself\u001b[0m\u001b[0;34m.\u001b[0m\u001b[0mdataset\u001b[0m\u001b[0;34m[\u001b[0m\u001b[0mpossibly_batched_index\u001b[0m\u001b[0;34m]\u001b[0m\u001b[0;34m\u001b[0m\u001b[0;34m\u001b[0m\u001b[0m\n",
            "\u001b[0;32m<ipython-input-13-078c6b4066d9>\u001b[0m in \u001b[0;36m__getitem__\u001b[0;34m(self, idx)\u001b[0m\n\u001b[1;32m     21\u001b[0m \u001b[0;34m\u001b[0m\u001b[0m\n\u001b[1;32m     22\u001b[0m         \u001b[0;32mif\u001b[0m \u001b[0mself\u001b[0m\u001b[0;34m.\u001b[0m\u001b[0mnorm\u001b[0m\u001b[0;34m:\u001b[0m\u001b[0;34m\u001b[0m\u001b[0;34m\u001b[0m\u001b[0m\n\u001b[0;32m---> 23\u001b[0;31m             \u001b[0;32mreturn\u001b[0m  \u001b[0mNorm_Zscore\u001b[0m\u001b[0;34m(\u001b[0m\u001b[0mimgnorm\u001b[0m\u001b[0;34m(\u001b[0m\u001b[0mimg_A\u001b[0m\u001b[0;34m)\u001b[0m\u001b[0;34m)\u001b[0m \u001b[0;34m,\u001b[0m \u001b[0mNorm_Zscore\u001b[0m\u001b[0;34m(\u001b[0m\u001b[0mimgnorm\u001b[0m\u001b[0;34m(\u001b[0m\u001b[0mimg_B\u001b[0m\u001b[0;34m)\u001b[0m\u001b[0;34m)\u001b[0m\u001b[0;34m\u001b[0m\u001b[0;34m\u001b[0m\u001b[0m\n\u001b[0m\u001b[1;32m     24\u001b[0m         \u001b[0;32melse\u001b[0m\u001b[0;34m:\u001b[0m\u001b[0;34m\u001b[0m\u001b[0;34m\u001b[0m\u001b[0m\n\u001b[1;32m     25\u001b[0m             \u001b[0;32mreturn\u001b[0m \u001b[0mimg_A\u001b[0m\u001b[0;34m,\u001b[0m \u001b[0mimg_B\u001b[0m\u001b[0;34m\u001b[0m\u001b[0;34m\u001b[0m\u001b[0m\n",
            "\u001b[0;32m<ipython-input-10-29115bee761e>\u001b[0m in \u001b[0;36mimgnorm\u001b[0;34m(N_I, index1, index2)\u001b[0m\n\u001b[1;32m     12\u001b[0m     \u001b[0mI_max\u001b[0m \u001b[0;34m=\u001b[0m \u001b[0mI_sort\u001b[0m\u001b[0;34m[\u001b[0m\u001b[0;34m-\u001b[0m\u001b[0mint\u001b[0m\u001b[0;34m(\u001b[0m\u001b[0mindex2\u001b[0m\u001b[0;34m*\u001b[0m\u001b[0mlen\u001b[0m\u001b[0;34m(\u001b[0m\u001b[0mI_sort\u001b[0m\u001b[0;34m)\u001b[0m\u001b[0;34m)\u001b[0m\u001b[0;34m]\u001b[0m\u001b[0;34m\u001b[0m\u001b[0;34m\u001b[0m\u001b[0m\n\u001b[1;32m     13\u001b[0m     \u001b[0mN_I\u001b[0m \u001b[0;34m=\u001b[0m\u001b[0;36m1.0\u001b[0m\u001b[0;34m*\u001b[0m\u001b[0;34m(\u001b[0m\u001b[0mN_I\u001b[0m\u001b[0;34m-\u001b[0m\u001b[0mI_min\u001b[0m\u001b[0;34m)\u001b[0m\u001b[0;34m/\u001b[0m\u001b[0;34m(\u001b[0m\u001b[0mI_max\u001b[0m\u001b[0;34m-\u001b[0m\u001b[0mI_min\u001b[0m\u001b[0;34m)\u001b[0m\u001b[0;34m\u001b[0m\u001b[0;34m\u001b[0m\u001b[0m\n\u001b[0;32m---> 14\u001b[0;31m     \u001b[0mN_I\u001b[0m\u001b[0;34m[\u001b[0m\u001b[0mN_I\u001b[0m\u001b[0;34m>\u001b[0m\u001b[0;36m1.0\u001b[0m\u001b[0;34m]\u001b[0m\u001b[0;34m=\u001b[0m\u001b[0;36m1.0\u001b[0m\u001b[0;34m\u001b[0m\u001b[0;34m\u001b[0m\u001b[0m\n\u001b[0m\u001b[1;32m     15\u001b[0m     \u001b[0mN_I\u001b[0m\u001b[0;34m[\u001b[0m\u001b[0mN_I\u001b[0m\u001b[0;34m<\u001b[0m\u001b[0;36m0.0\u001b[0m\u001b[0;34m]\u001b[0m\u001b[0;34m=\u001b[0m\u001b[0;36m0.0\u001b[0m\u001b[0;34m\u001b[0m\u001b[0;34m\u001b[0m\u001b[0m\n\u001b[1;32m     16\u001b[0m     \u001b[0mN_I2\u001b[0m \u001b[0;34m=\u001b[0m \u001b[0mN_I\u001b[0m\u001b[0;34m.\u001b[0m\u001b[0mastype\u001b[0m\u001b[0;34m(\u001b[0m\u001b[0mnp\u001b[0m\u001b[0;34m.\u001b[0m\u001b[0mfloat32\u001b[0m\u001b[0;34m)\u001b[0m\u001b[0;34m\u001b[0m\u001b[0;34m\u001b[0m\u001b[0m\n",
            "\u001b[0;31mKeyboardInterrupt\u001b[0m: "
          ]
        }
      ]
    },
    {
      "cell_type": "markdown",
      "metadata": {
        "id": "HLFbr5Iy_HME"
      },
      "source": [
        "# Loss Function NCC"
      ]
    },
    {
      "cell_type": "markdown",
      "metadata": {
        "id": "2A3TIKScllXG"
      },
      "source": [
        "Reference: https://github.com/yuta-hi/pytorch_similarity"
      ]
    },
    {
      "cell_type": "code",
      "metadata": {
        "id": "y79_YH_Fk1vI"
      },
      "source": [
        "def normalized_cross_correlation(x, y, return_map, reduction='mean', eps=1e-8):\n",
        "    \"\"\" N-dimensional normalized cross correlation (NCC)\n",
        "    Args:\n",
        "        x (~torch.Tensor): Input tensor.\n",
        "        y (~torch.Tensor): Input tensor.\n",
        "        return_map (bool): If True, also return the correlation map.\n",
        "        reduction (str, optional): Specifies the reduction to apply to the output:\n",
        "            ``'mean'`` | ``'sum'``. Defaults to ``'sum'``.\n",
        "        eps (float, optional): Epsilon value for numerical stability. Defaults to 1e-8.\n",
        "    Returns:\n",
        "        ~torch.Tensor: Output scalar\n",
        "        ~torch.Tensor: Output tensor\n",
        "    \"\"\"\n",
        "\n",
        "    shape = x.shape\n",
        "    b = shape[0]\n",
        "\n",
        "    # reshape\n",
        "    x = x.view(b, -1)\n",
        "    y = y.view(b, -1)\n",
        "\n",
        "    # mean\n",
        "    x_mean = torch.mean(x, dim=1, keepdim=True)\n",
        "    y_mean = torch.mean(y, dim=1, keepdim=True)\n",
        "\n",
        "    # deviation\n",
        "    x = x - x_mean\n",
        "    y = y - y_mean\n",
        "\n",
        "    dev_xy = torch.mul(x,y)\n",
        "    dev_xx = torch.mul(x,x)\n",
        "    dev_yy = torch.mul(y,y)\n",
        "\n",
        "    dev_xx_sum = torch.sum(dev_xx, dim=1, keepdim=True)\n",
        "    dev_yy_sum = torch.sum(dev_yy, dim=1, keepdim=True)\n",
        "\n",
        "    ncc = torch.div(dev_xy + eps / dev_xy.shape[1],\n",
        "                    torch.sqrt( torch.mul(dev_xx_sum, dev_yy_sum)) + eps)\n",
        "    ncc_map = ncc.view(b, *shape[1:])\n",
        "\n",
        "    # reduce\n",
        "    if reduction == 'mean':\n",
        "        ncc = torch.mean(torch.sum(ncc, dim=1))\n",
        "    elif reduction == 'sum':\n",
        "        ncc = torch.sum(ncc)\n",
        "    else:\n",
        "        raise KeyError('unsupported reduction type: %s' % reduction)\n",
        "\n",
        "    if not return_map:\n",
        "        return ncc\n",
        "\n",
        "    return ncc, ncc_map\n"
      ],
      "execution_count": 38,
      "outputs": []
    },
    {
      "cell_type": "code",
      "metadata": {
        "id": "74Ck9sjlk55k"
      },
      "source": [
        "\n",
        "\n",
        "class NormalizedCrossCorrelation(nn.Module):\n",
        "    \"\"\" N-dimensional normalized cross correlation (NCC)\n",
        "    Args:\n",
        "        eps (float, optional): Epsilon value for numerical stability. Defaults to 1e-8.\n",
        "        return_map (bool, optional): If True, also return the correlation map. Defaults to False.\n",
        "        reduction (str, optional): Specifies the reduction to apply to the output:\n",
        "            ``'mean'`` | ``'sum'``. Defaults to ``'mean'``.\n",
        "    \"\"\"\n",
        "    def __init__(self,\n",
        "                 eps=1e-8,\n",
        "                 return_map=False,\n",
        "                 reduction='mean'):\n",
        "\n",
        "        super(NormalizedCrossCorrelation, self).__init__()\n",
        "\n",
        "        self._eps = eps\n",
        "        self._return_map = return_map\n",
        "        self._reduction = reduction\n",
        "\n",
        "    def forward(self, x, y):\n",
        "\n",
        "        return normalized_cross_correlation(x, y,self._return_map, self._reduction, self._eps)"
      ],
      "execution_count": 39,
      "outputs": []
    },
    {
      "cell_type": "code",
      "metadata": {
        "id": "DMVRffCTpyTm",
        "colab": {
          "base_uri": "https://localhost:8080/",
          "height": 1000
        },
        "outputId": "9862066e-40c9-4df2-c35e-70d0f4ceeb64"
      },
      "source": [
        "#  Checking NCC loss\n",
        "\n",
        "similarity_loss = NormalizedCrossCorrelation()\n",
        "for X,Y in training_generator:\n",
        "  X = X.cuda().float()\n",
        "  Y = Y.cuda().float()\n",
        "  print(X.shape)\n",
        "  print(Y.shape)\n",
        "  out = similarity_loss(X, Y)\n",
        "  print(out)\n",
        "  print(\"========== ============== =============\")\n",
        "  print()"
      ],
      "execution_count": 37,
      "outputs": [
        {
          "output_type": "stream",
          "text": [
            "torch.Size([2, 1, 128, 128, 128])\n",
            "torch.Size([2, 1, 128, 128, 128])\n",
            "tensor(0.6637, device='cuda:0')\n",
            "========== ============== =============\n",
            "\n",
            "torch.Size([2, 1, 128, 128, 128])\n",
            "torch.Size([2, 1, 128, 128, 128])\n",
            "tensor(0.7504, device='cuda:0')\n",
            "========== ============== =============\n",
            "\n",
            "torch.Size([2, 1, 128, 128, 128])\n",
            "torch.Size([2, 1, 128, 128, 128])\n",
            "tensor(0.6443, device='cuda:0')\n",
            "========== ============== =============\n",
            "\n",
            "torch.Size([2, 1, 128, 128, 128])\n",
            "torch.Size([2, 1, 128, 128, 128])\n",
            "tensor(0.6497, device='cuda:0')\n",
            "========== ============== =============\n",
            "\n",
            "torch.Size([2, 1, 128, 128, 128])\n",
            "torch.Size([2, 1, 128, 128, 128])\n",
            "tensor(0.6652, device='cuda:0')\n",
            "========== ============== =============\n",
            "\n",
            "torch.Size([2, 1, 128, 128, 128])\n",
            "torch.Size([2, 1, 128, 128, 128])\n",
            "tensor(0.6627, device='cuda:0')\n",
            "========== ============== =============\n",
            "\n",
            "torch.Size([2, 1, 128, 128, 128])\n",
            "torch.Size([2, 1, 128, 128, 128])\n",
            "tensor(0.7163, device='cuda:0')\n",
            "========== ============== =============\n",
            "\n",
            "torch.Size([2, 1, 128, 128, 128])\n",
            "torch.Size([2, 1, 128, 128, 128])\n",
            "tensor(0.7924, device='cuda:0')\n",
            "========== ============== =============\n",
            "\n"
          ],
          "name": "stdout"
        },
        {
          "output_type": "error",
          "ename": "KeyboardInterrupt",
          "evalue": "ignored",
          "traceback": [
            "\u001b[0;31m---------------------------------------------------------------------------\u001b[0m",
            "\u001b[0;31mKeyboardInterrupt\u001b[0m                         Traceback (most recent call last)",
            "\u001b[0;32m<ipython-input-37-d0aa82d05b95>\u001b[0m in \u001b[0;36m<module>\u001b[0;34m()\u001b[0m\n\u001b[1;32m      2\u001b[0m \u001b[0;34m\u001b[0m\u001b[0m\n\u001b[1;32m      3\u001b[0m \u001b[0msimilarity_loss\u001b[0m \u001b[0;34m=\u001b[0m \u001b[0mNormalizedCrossCorrelation\u001b[0m\u001b[0;34m(\u001b[0m\u001b[0;34m)\u001b[0m\u001b[0;34m\u001b[0m\u001b[0;34m\u001b[0m\u001b[0m\n\u001b[0;32m----> 4\u001b[0;31m \u001b[0;32mfor\u001b[0m \u001b[0mX\u001b[0m\u001b[0;34m,\u001b[0m\u001b[0mY\u001b[0m \u001b[0;32min\u001b[0m \u001b[0mtraining_generator\u001b[0m\u001b[0;34m:\u001b[0m\u001b[0;34m\u001b[0m\u001b[0;34m\u001b[0m\u001b[0m\n\u001b[0m\u001b[1;32m      5\u001b[0m   \u001b[0mX\u001b[0m \u001b[0;34m=\u001b[0m \u001b[0mX\u001b[0m\u001b[0;34m.\u001b[0m\u001b[0mcuda\u001b[0m\u001b[0;34m(\u001b[0m\u001b[0;34m)\u001b[0m\u001b[0;34m.\u001b[0m\u001b[0mfloat\u001b[0m\u001b[0;34m(\u001b[0m\u001b[0;34m)\u001b[0m\u001b[0;34m\u001b[0m\u001b[0;34m\u001b[0m\u001b[0m\n\u001b[1;32m      6\u001b[0m   \u001b[0mY\u001b[0m \u001b[0;34m=\u001b[0m \u001b[0mY\u001b[0m\u001b[0;34m.\u001b[0m\u001b[0mcuda\u001b[0m\u001b[0;34m(\u001b[0m\u001b[0;34m)\u001b[0m\u001b[0;34m.\u001b[0m\u001b[0mfloat\u001b[0m\u001b[0;34m(\u001b[0m\u001b[0;34m)\u001b[0m\u001b[0;34m\u001b[0m\u001b[0;34m\u001b[0m\u001b[0m\n",
            "\u001b[0;32m/usr/local/lib/python3.6/dist-packages/torch/utils/data/dataloader.py\u001b[0m in \u001b[0;36m__next__\u001b[0;34m(self)\u001b[0m\n\u001b[1;32m    433\u001b[0m         \u001b[0;32mif\u001b[0m \u001b[0mself\u001b[0m\u001b[0;34m.\u001b[0m\u001b[0m_sampler_iter\u001b[0m \u001b[0;32mis\u001b[0m \u001b[0;32mNone\u001b[0m\u001b[0;34m:\u001b[0m\u001b[0;34m\u001b[0m\u001b[0;34m\u001b[0m\u001b[0m\n\u001b[1;32m    434\u001b[0m             \u001b[0mself\u001b[0m\u001b[0;34m.\u001b[0m\u001b[0m_reset\u001b[0m\u001b[0;34m(\u001b[0m\u001b[0;34m)\u001b[0m\u001b[0;34m\u001b[0m\u001b[0;34m\u001b[0m\u001b[0m\n\u001b[0;32m--> 435\u001b[0;31m         \u001b[0mdata\u001b[0m \u001b[0;34m=\u001b[0m \u001b[0mself\u001b[0m\u001b[0;34m.\u001b[0m\u001b[0m_next_data\u001b[0m\u001b[0;34m(\u001b[0m\u001b[0;34m)\u001b[0m\u001b[0;34m\u001b[0m\u001b[0;34m\u001b[0m\u001b[0m\n\u001b[0m\u001b[1;32m    436\u001b[0m         \u001b[0mself\u001b[0m\u001b[0;34m.\u001b[0m\u001b[0m_num_yielded\u001b[0m \u001b[0;34m+=\u001b[0m \u001b[0;36m1\u001b[0m\u001b[0;34m\u001b[0m\u001b[0;34m\u001b[0m\u001b[0m\n\u001b[1;32m    437\u001b[0m         \u001b[0;32mif\u001b[0m \u001b[0mself\u001b[0m\u001b[0;34m.\u001b[0m\u001b[0m_dataset_kind\u001b[0m \u001b[0;34m==\u001b[0m \u001b[0m_DatasetKind\u001b[0m\u001b[0;34m.\u001b[0m\u001b[0mIterable\u001b[0m \u001b[0;32mand\u001b[0m\u001b[0;31m \u001b[0m\u001b[0;31m\\\u001b[0m\u001b[0;34m\u001b[0m\u001b[0;34m\u001b[0m\u001b[0m\n",
            "\u001b[0;32m/usr/local/lib/python3.6/dist-packages/torch/utils/data/dataloader.py\u001b[0m in \u001b[0;36m_next_data\u001b[0;34m(self)\u001b[0m\n\u001b[1;32m    473\u001b[0m     \u001b[0;32mdef\u001b[0m \u001b[0m_next_data\u001b[0m\u001b[0;34m(\u001b[0m\u001b[0mself\u001b[0m\u001b[0;34m)\u001b[0m\u001b[0;34m:\u001b[0m\u001b[0;34m\u001b[0m\u001b[0;34m\u001b[0m\u001b[0m\n\u001b[1;32m    474\u001b[0m         \u001b[0mindex\u001b[0m \u001b[0;34m=\u001b[0m \u001b[0mself\u001b[0m\u001b[0;34m.\u001b[0m\u001b[0m_next_index\u001b[0m\u001b[0;34m(\u001b[0m\u001b[0;34m)\u001b[0m  \u001b[0;31m# may raise StopIteration\u001b[0m\u001b[0;34m\u001b[0m\u001b[0;34m\u001b[0m\u001b[0m\n\u001b[0;32m--> 475\u001b[0;31m         \u001b[0mdata\u001b[0m \u001b[0;34m=\u001b[0m \u001b[0mself\u001b[0m\u001b[0;34m.\u001b[0m\u001b[0m_dataset_fetcher\u001b[0m\u001b[0;34m.\u001b[0m\u001b[0mfetch\u001b[0m\u001b[0;34m(\u001b[0m\u001b[0mindex\u001b[0m\u001b[0;34m)\u001b[0m  \u001b[0;31m# may raise StopIteration\u001b[0m\u001b[0;34m\u001b[0m\u001b[0;34m\u001b[0m\u001b[0m\n\u001b[0m\u001b[1;32m    476\u001b[0m         \u001b[0;32mif\u001b[0m \u001b[0mself\u001b[0m\u001b[0;34m.\u001b[0m\u001b[0m_pin_memory\u001b[0m\u001b[0;34m:\u001b[0m\u001b[0;34m\u001b[0m\u001b[0;34m\u001b[0m\u001b[0m\n\u001b[1;32m    477\u001b[0m             \u001b[0mdata\u001b[0m \u001b[0;34m=\u001b[0m \u001b[0m_utils\u001b[0m\u001b[0;34m.\u001b[0m\u001b[0mpin_memory\u001b[0m\u001b[0;34m.\u001b[0m\u001b[0mpin_memory\u001b[0m\u001b[0;34m(\u001b[0m\u001b[0mdata\u001b[0m\u001b[0;34m)\u001b[0m\u001b[0;34m\u001b[0m\u001b[0;34m\u001b[0m\u001b[0m\n",
            "\u001b[0;32m/usr/local/lib/python3.6/dist-packages/torch/utils/data/_utils/fetch.py\u001b[0m in \u001b[0;36mfetch\u001b[0;34m(self, possibly_batched_index)\u001b[0m\n\u001b[1;32m     42\u001b[0m     \u001b[0;32mdef\u001b[0m \u001b[0mfetch\u001b[0m\u001b[0;34m(\u001b[0m\u001b[0mself\u001b[0m\u001b[0;34m,\u001b[0m \u001b[0mpossibly_batched_index\u001b[0m\u001b[0;34m)\u001b[0m\u001b[0;34m:\u001b[0m\u001b[0;34m\u001b[0m\u001b[0;34m\u001b[0m\u001b[0m\n\u001b[1;32m     43\u001b[0m         \u001b[0;32mif\u001b[0m \u001b[0mself\u001b[0m\u001b[0;34m.\u001b[0m\u001b[0mauto_collation\u001b[0m\u001b[0;34m:\u001b[0m\u001b[0;34m\u001b[0m\u001b[0;34m\u001b[0m\u001b[0m\n\u001b[0;32m---> 44\u001b[0;31m             \u001b[0mdata\u001b[0m \u001b[0;34m=\u001b[0m \u001b[0;34m[\u001b[0m\u001b[0mself\u001b[0m\u001b[0;34m.\u001b[0m\u001b[0mdataset\u001b[0m\u001b[0;34m[\u001b[0m\u001b[0midx\u001b[0m\u001b[0;34m]\u001b[0m \u001b[0;32mfor\u001b[0m \u001b[0midx\u001b[0m \u001b[0;32min\u001b[0m \u001b[0mpossibly_batched_index\u001b[0m\u001b[0;34m]\u001b[0m\u001b[0;34m\u001b[0m\u001b[0;34m\u001b[0m\u001b[0m\n\u001b[0m\u001b[1;32m     45\u001b[0m         \u001b[0;32melse\u001b[0m\u001b[0;34m:\u001b[0m\u001b[0;34m\u001b[0m\u001b[0;34m\u001b[0m\u001b[0m\n\u001b[1;32m     46\u001b[0m             \u001b[0mdata\u001b[0m \u001b[0;34m=\u001b[0m \u001b[0mself\u001b[0m\u001b[0;34m.\u001b[0m\u001b[0mdataset\u001b[0m\u001b[0;34m[\u001b[0m\u001b[0mpossibly_batched_index\u001b[0m\u001b[0;34m]\u001b[0m\u001b[0;34m\u001b[0m\u001b[0;34m\u001b[0m\u001b[0m\n",
            "\u001b[0;32m/usr/local/lib/python3.6/dist-packages/torch/utils/data/_utils/fetch.py\u001b[0m in \u001b[0;36m<listcomp>\u001b[0;34m(.0)\u001b[0m\n\u001b[1;32m     42\u001b[0m     \u001b[0;32mdef\u001b[0m \u001b[0mfetch\u001b[0m\u001b[0;34m(\u001b[0m\u001b[0mself\u001b[0m\u001b[0;34m,\u001b[0m \u001b[0mpossibly_batched_index\u001b[0m\u001b[0;34m)\u001b[0m\u001b[0;34m:\u001b[0m\u001b[0;34m\u001b[0m\u001b[0;34m\u001b[0m\u001b[0m\n\u001b[1;32m     43\u001b[0m         \u001b[0;32mif\u001b[0m \u001b[0mself\u001b[0m\u001b[0;34m.\u001b[0m\u001b[0mauto_collation\u001b[0m\u001b[0;34m:\u001b[0m\u001b[0;34m\u001b[0m\u001b[0;34m\u001b[0m\u001b[0m\n\u001b[0;32m---> 44\u001b[0;31m             \u001b[0mdata\u001b[0m \u001b[0;34m=\u001b[0m \u001b[0;34m[\u001b[0m\u001b[0mself\u001b[0m\u001b[0;34m.\u001b[0m\u001b[0mdataset\u001b[0m\u001b[0;34m[\u001b[0m\u001b[0midx\u001b[0m\u001b[0;34m]\u001b[0m \u001b[0;32mfor\u001b[0m \u001b[0midx\u001b[0m \u001b[0;32min\u001b[0m \u001b[0mpossibly_batched_index\u001b[0m\u001b[0;34m]\u001b[0m\u001b[0;34m\u001b[0m\u001b[0;34m\u001b[0m\u001b[0m\n\u001b[0m\u001b[1;32m     45\u001b[0m         \u001b[0;32melse\u001b[0m\u001b[0;34m:\u001b[0m\u001b[0;34m\u001b[0m\u001b[0;34m\u001b[0m\u001b[0m\n\u001b[1;32m     46\u001b[0m             \u001b[0mdata\u001b[0m \u001b[0;34m=\u001b[0m \u001b[0mself\u001b[0m\u001b[0;34m.\u001b[0m\u001b[0mdataset\u001b[0m\u001b[0;34m[\u001b[0m\u001b[0mpossibly_batched_index\u001b[0m\u001b[0;34m]\u001b[0m\u001b[0;34m\u001b[0m\u001b[0;34m\u001b[0m\u001b[0m\n",
            "\u001b[0;32m<ipython-input-27-7cfa869fdb43>\u001b[0m in \u001b[0;36m__getitem__\u001b[0;34m(self, idx)\u001b[0m\n\u001b[1;32m     18\u001b[0m         \u001b[0;31m# index_pair = np.random.permutation(len(self.t1_filenames)) [0:4]\u001b[0m\u001b[0;34m\u001b[0m\u001b[0;34m\u001b[0m\u001b[0;34m\u001b[0m\u001b[0m\n\u001b[1;32m     19\u001b[0m         \u001b[0mimg_A\u001b[0m \u001b[0;34m=\u001b[0m \u001b[0mload_4D\u001b[0m\u001b[0;34m(\u001b[0m\u001b[0mself\u001b[0m\u001b[0;34m.\u001b[0m\u001b[0mt1_filenames\u001b[0m\u001b[0;34m[\u001b[0m\u001b[0midx\u001b[0m\u001b[0;34m]\u001b[0m\u001b[0;34m)\u001b[0m\u001b[0;34m\u001b[0m\u001b[0;34m\u001b[0m\u001b[0m\n\u001b[0;32m---> 20\u001b[0;31m         \u001b[0mimg_B\u001b[0m \u001b[0;34m=\u001b[0m \u001b[0mload_4D\u001b[0m\u001b[0;34m(\u001b[0m\u001b[0mself\u001b[0m\u001b[0;34m.\u001b[0m\u001b[0mt1_filenames\u001b[0m\u001b[0;34m[\u001b[0m\u001b[0;34m(\u001b[0m\u001b[0midx\u001b[0m \u001b[0;34m+\u001b[0m \u001b[0;36m4\u001b[0m\u001b[0;34m)\u001b[0m \u001b[0;34m%\u001b[0m \u001b[0mlen\u001b[0m\u001b[0;34m(\u001b[0m\u001b[0mself\u001b[0m\u001b[0;34m.\u001b[0m\u001b[0mt1_filenames\u001b[0m\u001b[0;34m)\u001b[0m\u001b[0;34m]\u001b[0m\u001b[0;34m)\u001b[0m\u001b[0;34m\u001b[0m\u001b[0;34m\u001b[0m\u001b[0m\n\u001b[0m\u001b[1;32m     21\u001b[0m \u001b[0;34m\u001b[0m\u001b[0m\n\u001b[1;32m     22\u001b[0m         \u001b[0;32mif\u001b[0m \u001b[0mself\u001b[0m\u001b[0;34m.\u001b[0m\u001b[0mnorm\u001b[0m\u001b[0;34m:\u001b[0m\u001b[0;34m\u001b[0m\u001b[0;34m\u001b[0m\u001b[0m\n",
            "\u001b[0;32m<ipython-input-7-8e9a0148f940>\u001b[0m in \u001b[0;36mload_4D\u001b[0;34m(name)\u001b[0m\n\u001b[1;32m      4\u001b[0m     \u001b[0mX_np\u001b[0m \u001b[0;34m=\u001b[0m \u001b[0mX_nb\u001b[0m\u001b[0;34m.\u001b[0m\u001b[0mdataobj\u001b[0m\u001b[0;34m\u001b[0m\u001b[0;34m\u001b[0m\u001b[0m\n\u001b[1;32m      5\u001b[0m     \u001b[0;31m#print(\"Oreintation: {}\".format(nb.aff2axcodes(X_nb.affine)))\u001b[0m\u001b[0;34m\u001b[0m\u001b[0;34m\u001b[0m\u001b[0;34m\u001b[0m\u001b[0m\n\u001b[0;32m----> 6\u001b[0;31m     \u001b[0mmodel_np\u001b[0m\u001b[0;34m[\u001b[0m\u001b[0;34m:\u001b[0m\u001b[0;34m,\u001b[0m \u001b[0;34m:\u001b[0m\u001b[0;34m,\u001b[0m \u001b[0;36m0\u001b[0m\u001b[0;34m:\u001b[0m\u001b[0mX_np\u001b[0m\u001b[0;34m.\u001b[0m\u001b[0mshape\u001b[0m\u001b[0;34m[\u001b[0m\u001b[0;36m2\u001b[0m\u001b[0;34m]\u001b[0m\u001b[0;34m]\u001b[0m \u001b[0;34m=\u001b[0m \u001b[0mX_np\u001b[0m\u001b[0;34m[\u001b[0m\u001b[0;36m0\u001b[0m\u001b[0;34m:\u001b[0m\u001b[0;36m128\u001b[0m\u001b[0;34m,\u001b[0m \u001b[0;36m0\u001b[0m\u001b[0;34m:\u001b[0m\u001b[0;36m128\u001b[0m\u001b[0;34m,\u001b[0m \u001b[0;34m:\u001b[0m\u001b[0;34m]\u001b[0m\u001b[0;34m\u001b[0m\u001b[0;34m\u001b[0m\u001b[0m\n\u001b[0m\u001b[1;32m      7\u001b[0m     \u001b[0mmodel_np\u001b[0m \u001b[0;34m=\u001b[0m \u001b[0mnp\u001b[0m\u001b[0;34m.\u001b[0m\u001b[0mreshape\u001b[0m\u001b[0;34m(\u001b[0m\u001b[0mmodel_np\u001b[0m\u001b[0;34m,\u001b[0m \u001b[0;34m(\u001b[0m\u001b[0;36m1\u001b[0m\u001b[0;34m,\u001b[0m\u001b[0;34m)\u001b[0m\u001b[0;34m+\u001b[0m \u001b[0mmodel_np\u001b[0m\u001b[0;34m.\u001b[0m\u001b[0mshape\u001b[0m\u001b[0;34m)\u001b[0m\u001b[0;34m\u001b[0m\u001b[0;34m\u001b[0m\u001b[0m\n\u001b[1;32m      8\u001b[0m     \u001b[0;32mreturn\u001b[0m \u001b[0mmodel_np\u001b[0m\u001b[0;34m\u001b[0m\u001b[0;34m\u001b[0m\u001b[0m\n",
            "\u001b[0;32m/usr/local/lib/python3.6/dist-packages/nibabel/arrayproxy.py\u001b[0m in \u001b[0;36m__getitem__\u001b[0;34m(self, slicer)\u001b[0m\n\u001b[1;32m    397\u001b[0m \u001b[0;34m\u001b[0m\u001b[0m\n\u001b[1;32m    398\u001b[0m     \u001b[0;32mdef\u001b[0m \u001b[0m__getitem__\u001b[0m\u001b[0;34m(\u001b[0m\u001b[0mself\u001b[0m\u001b[0;34m,\u001b[0m \u001b[0mslicer\u001b[0m\u001b[0;34m)\u001b[0m\u001b[0;34m:\u001b[0m\u001b[0;34m\u001b[0m\u001b[0;34m\u001b[0m\u001b[0m\n\u001b[0;32m--> 399\u001b[0;31m         \u001b[0;32mreturn\u001b[0m \u001b[0mself\u001b[0m\u001b[0;34m.\u001b[0m\u001b[0m_get_scaled\u001b[0m\u001b[0;34m(\u001b[0m\u001b[0mdtype\u001b[0m\u001b[0;34m=\u001b[0m\u001b[0;32mNone\u001b[0m\u001b[0;34m,\u001b[0m \u001b[0mslicer\u001b[0m\u001b[0;34m=\u001b[0m\u001b[0mslicer\u001b[0m\u001b[0;34m)\u001b[0m\u001b[0;34m\u001b[0m\u001b[0;34m\u001b[0m\u001b[0m\n\u001b[0m\u001b[1;32m    400\u001b[0m \u001b[0;34m\u001b[0m\u001b[0m\n\u001b[1;32m    401\u001b[0m     \u001b[0;32mdef\u001b[0m \u001b[0mreshape\u001b[0m\u001b[0;34m(\u001b[0m\u001b[0mself\u001b[0m\u001b[0;34m,\u001b[0m \u001b[0mshape\u001b[0m\u001b[0;34m)\u001b[0m\u001b[0;34m:\u001b[0m\u001b[0;34m\u001b[0m\u001b[0;34m\u001b[0m\u001b[0m\n",
            "\u001b[0;32m/usr/local/lib/python3.6/dist-packages/nibabel/arrayproxy.py\u001b[0m in \u001b[0;36m_get_scaled\u001b[0;34m(self, dtype, slicer)\u001b[0m\n\u001b[1;32m    358\u001b[0m             \u001b[0mscl_inter\u001b[0m \u001b[0;34m=\u001b[0m \u001b[0mscl_inter\u001b[0m\u001b[0;34m.\u001b[0m\u001b[0mastype\u001b[0m\u001b[0;34m(\u001b[0m\u001b[0muse_dtype\u001b[0m\u001b[0;34m)\u001b[0m\u001b[0;34m\u001b[0m\u001b[0;34m\u001b[0m\u001b[0m\n\u001b[1;32m    359\u001b[0m         \u001b[0;31m# Read array and upcast as necessary for big slopes, intercepts\u001b[0m\u001b[0;34m\u001b[0m\u001b[0;34m\u001b[0m\u001b[0;34m\u001b[0m\u001b[0m\n\u001b[0;32m--> 360\u001b[0;31m         \u001b[0mscaled\u001b[0m \u001b[0;34m=\u001b[0m \u001b[0mapply_read_scaling\u001b[0m\u001b[0;34m(\u001b[0m\u001b[0mself\u001b[0m\u001b[0;34m.\u001b[0m\u001b[0m_get_unscaled\u001b[0m\u001b[0;34m(\u001b[0m\u001b[0mslicer\u001b[0m\u001b[0;34m=\u001b[0m\u001b[0mslicer\u001b[0m\u001b[0;34m)\u001b[0m\u001b[0;34m,\u001b[0m \u001b[0mscl_slope\u001b[0m\u001b[0;34m,\u001b[0m \u001b[0mscl_inter\u001b[0m\u001b[0;34m)\u001b[0m\u001b[0;34m\u001b[0m\u001b[0;34m\u001b[0m\u001b[0m\n\u001b[0m\u001b[1;32m    361\u001b[0m         \u001b[0;32mif\u001b[0m \u001b[0mdtype\u001b[0m \u001b[0;32mis\u001b[0m \u001b[0;32mnot\u001b[0m \u001b[0;32mNone\u001b[0m\u001b[0;34m:\u001b[0m\u001b[0;34m\u001b[0m\u001b[0;34m\u001b[0m\u001b[0m\n\u001b[1;32m    362\u001b[0m             \u001b[0mscaled\u001b[0m \u001b[0;34m=\u001b[0m \u001b[0mscaled\u001b[0m\u001b[0;34m.\u001b[0m\u001b[0mastype\u001b[0m\u001b[0;34m(\u001b[0m\u001b[0mnp\u001b[0m\u001b[0;34m.\u001b[0m\u001b[0mpromote_types\u001b[0m\u001b[0;34m(\u001b[0m\u001b[0mscaled\u001b[0m\u001b[0;34m.\u001b[0m\u001b[0mdtype\u001b[0m\u001b[0;34m,\u001b[0m \u001b[0mdtype\u001b[0m\u001b[0;34m)\u001b[0m\u001b[0;34m,\u001b[0m \u001b[0mcopy\u001b[0m\u001b[0;34m=\u001b[0m\u001b[0;32mFalse\u001b[0m\u001b[0;34m)\u001b[0m\u001b[0;34m\u001b[0m\u001b[0;34m\u001b[0m\u001b[0m\n",
            "\u001b[0;32m/usr/local/lib/python3.6/dist-packages/nibabel/arrayproxy.py\u001b[0m in \u001b[0;36m_get_unscaled\u001b[0;34m(self, slicer)\u001b[0m\n\u001b[1;32m    337\u001b[0m                                        \u001b[0moffset\u001b[0m\u001b[0;34m=\u001b[0m\u001b[0mself\u001b[0m\u001b[0;34m.\u001b[0m\u001b[0m_offset\u001b[0m\u001b[0;34m,\u001b[0m\u001b[0;34m\u001b[0m\u001b[0;34m\u001b[0m\u001b[0m\n\u001b[1;32m    338\u001b[0m                                        \u001b[0morder\u001b[0m\u001b[0;34m=\u001b[0m\u001b[0mself\u001b[0m\u001b[0;34m.\u001b[0m\u001b[0morder\u001b[0m\u001b[0;34m,\u001b[0m\u001b[0;34m\u001b[0m\u001b[0;34m\u001b[0m\u001b[0m\n\u001b[0;32m--> 339\u001b[0;31m                                        mmap=self._mmap)\n\u001b[0m\u001b[1;32m    340\u001b[0m         \u001b[0;32mwith\u001b[0m \u001b[0mself\u001b[0m\u001b[0;34m.\u001b[0m\u001b[0m_get_fileobj\u001b[0m\u001b[0;34m(\u001b[0m\u001b[0;34m)\u001b[0m \u001b[0;32mas\u001b[0m \u001b[0mfileobj\u001b[0m\u001b[0;34m:\u001b[0m\u001b[0;34m\u001b[0m\u001b[0;34m\u001b[0m\u001b[0m\n\u001b[1;32m    341\u001b[0m             return fileslice(fileobj,\n",
            "\u001b[0;32m/usr/local/lib/python3.6/dist-packages/nibabel/volumeutils.py\u001b[0m in \u001b[0;36marray_from_file\u001b[0;34m(shape, in_dtype, infile, offset, order, mmap)\u001b[0m\n\u001b[1;32m    521\u001b[0m     \u001b[0;32mif\u001b[0m \u001b[0mhasattr\u001b[0m\u001b[0;34m(\u001b[0m\u001b[0minfile\u001b[0m\u001b[0;34m,\u001b[0m \u001b[0;34m'readinto'\u001b[0m\u001b[0;34m)\u001b[0m\u001b[0;34m:\u001b[0m\u001b[0;34m\u001b[0m\u001b[0;34m\u001b[0m\u001b[0m\n\u001b[1;32m    522\u001b[0m         \u001b[0mdata_bytes\u001b[0m \u001b[0;34m=\u001b[0m \u001b[0mbytearray\u001b[0m\u001b[0;34m(\u001b[0m\u001b[0mn_bytes\u001b[0m\u001b[0;34m)\u001b[0m\u001b[0;34m\u001b[0m\u001b[0;34m\u001b[0m\u001b[0m\n\u001b[0;32m--> 523\u001b[0;31m         \u001b[0mn_read\u001b[0m \u001b[0;34m=\u001b[0m \u001b[0minfile\u001b[0m\u001b[0;34m.\u001b[0m\u001b[0mreadinto\u001b[0m\u001b[0;34m(\u001b[0m\u001b[0mdata_bytes\u001b[0m\u001b[0;34m)\u001b[0m\u001b[0;34m\u001b[0m\u001b[0;34m\u001b[0m\u001b[0m\n\u001b[0m\u001b[1;32m    524\u001b[0m         \u001b[0mneeds_copy\u001b[0m \u001b[0;34m=\u001b[0m \u001b[0;32mFalse\u001b[0m\u001b[0;34m\u001b[0m\u001b[0;34m\u001b[0m\u001b[0m\n\u001b[1;32m    525\u001b[0m     \u001b[0;32melse\u001b[0m\u001b[0;34m:\u001b[0m\u001b[0;34m\u001b[0m\u001b[0;34m\u001b[0m\u001b[0m\n",
            "\u001b[0;31mKeyboardInterrupt\u001b[0m: "
          ]
        }
      ]
    },
    {
      "cell_type": "markdown",
      "metadata": {
        "id": "5EzA-thXh8eu"
      },
      "source": [
        "# Loss Function Mutual Information "
      ]
    },
    {
      "cell_type": "code",
      "metadata": {
        "colab": {
          "base_uri": "https://localhost:8080/"
        },
        "id": "b_uHqfWFKT8q",
        "outputId": "a6f73ba5-b5b2-4582-e3e5-d484480d5ed5"
      },
      "source": [
        "num_bins = 10\n",
        "bin_centers = np.linspace(0, 0.7, num_bins*2+1)[1::2]\n",
        "sigma = np.mean(np.diff(bin_centers)) * 0.5\n",
        "preterm = torch.tensor(1 / (2 * np.square(sigma)))\n",
        "dim_prod = 128*128*128\n",
        "print(num_bins)\n",
        "print(bin_centers)\n",
        "print(sigma)\n",
        "print(preterm)"
      ],
      "execution_count": null,
      "outputs": [
        {
          "output_type": "stream",
          "text": [
            "10\n",
            "[0.035 0.105 0.175 0.245 0.315 0.385 0.455 0.525 0.595 0.665]\n",
            "0.034999999999999996\n",
            "tensor(408.1633, dtype=torch.float64)\n"
          ],
          "name": "stdout"
        }
      ]
    },
    {
      "cell_type": "code",
      "metadata": {
        "id": "Ik-DiEUPxaHe"
      },
      "source": [
        "def mutual_information(y_true, y_pred, sigma, preterm, bin_centers, nb_voxels, dim_prod=128 * 128 * 128):\n",
        "\n",
        "  y_true = torch.reshape(y_true, (y_true.shape[0], dim_prod, 1) )\n",
        "  y_pred = torch.reshape(y_pred, (y_pred.shape[0], dim_prod, 1) )\n",
        "\n",
        "  vbc = torch.tensor(bin_centers)\n",
        "  vbc = vbc.unsqueeze(0)\n",
        "  vbc = vbc.unsqueeze(0)\n",
        "\n",
        "  # compute image terms\n",
        "  I_a = torch.exp(- preterm * torch.square(y_true  - vbc))\n",
        "  I_a = I_a/torch.sum(I_a)\n",
        "\n",
        "  #print(I_a)\n",
        "\n",
        "  I_b = torch.exp(- preterm * torch.square(y_pred  - vbc))\n",
        "  I_b = I_b/torch.sum(I_b)\n",
        "\n",
        "  #print(I_b)\n",
        "\n",
        "  # compute probabilities\n",
        "  I_a_permute = I_a.permute(0,2,1)\n",
        "  pab = torch.matmul(I_a_permute, I_b) \n",
        "  #print(pab)\n",
        "  #print(torch.sum(pab))\n",
        "\n",
        "  # should be the right size now, nb_labels x nb_bins\n",
        "  pab = pab/nb_voxels\n",
        "  pa = torch.mean(I_a, 1, keepdims=True)\n",
        "  pb = torch.mean(I_b, 1, keepdims=True)\n",
        "\n",
        "  papb = torch.matmul(pa.permute(0,2,1), pb) + torch.finfo(torch.float32).eps\n",
        "  #print(papb)\n",
        "\n",
        "  mi = torch.sum(torch.sum(pab * torch.log(pab/papb + torch.finfo(torch.float32).eps), 1), 1)\n",
        "\n",
        "  return -mi\n"
      ],
      "execution_count": null,
      "outputs": []
    },
    {
      "cell_type": "code",
      "metadata": {
        "id": "33QQ_JYoT57e"
      },
      "source": [
        "class NormalizedMutualInformation(nn.Module):\n",
        "\n",
        "    def __init__(self,\n",
        "                 dim_prod = 128*128*128,\n",
        "                 num_bins = 10,\n",
        "                 bin_centers = np.linspace(0, 0.7, 10*2+1)[1::2],\n",
        "                 sigma = np.mean(np.diff(bin_centers)) * 0.5,\n",
        "                 preterm = torch.tensor(1 / (2 * np.square(sigma))),\n",
        "                 nb_voxels = torch.tensor([dim_prod], dtype=torch.float32)\n",
        "                 ):\n",
        "\n",
        "        super(NormalizedMutualInformation, self).__init__()\n",
        "\n",
        "        self.dim_prod = dim_prod\n",
        "        self.num_bins = num_bins\n",
        "        self.bin_centers = bin_centers\n",
        "        self.sigma = sigma\n",
        "        self.preterm = preterm\n",
        "        self.nb_voxels = nb_voxels\n",
        "\n",
        "    def forward(self, x, y):\n",
        "\n",
        "        return mutual_information(x,y, self.sigma, self.preterm, self.bin_centers, self.nb_voxels, self.dim_prod)"
      ],
      "execution_count": null,
      "outputs": []
    },
    {
      "cell_type": "code",
      "metadata": {
        "colab": {
          "base_uri": "https://localhost:8080/"
        },
        "id": "7bwmejN3U9fM",
        "outputId": "6a64b684-345f-4e67-d60d-f7aaac83a84d"
      },
      "source": [
        "nmi_loss = NormalizedMutualInformation()\n",
        "counter = 0\n",
        "for X,Y in training_generator:\n",
        "\n",
        "  print(nmi_loss(X, X))\n",
        "  counter = counter + 1\n",
        "  if(counter > 2):\n",
        "    break;"
      ],
      "execution_count": null,
      "outputs": [
        {
          "output_type": "stream",
          "text": [
            "tensor([2.7666e-11, 2.9524e-11], dtype=torch.float64)\n",
            "tensor([2.7642e-11, 1.9366e-11], dtype=torch.float64)\n",
            "tensor([2.3615e-11, 1.0710e-11], dtype=torch.float64)\n"
          ],
          "name": "stdout"
        }
      ]
    },
    {
      "cell_type": "markdown",
      "metadata": {
        "id": "HEnYx3fxzvgQ"
      },
      "source": [
        "# Regularizer - DVF edge smoothness"
      ]
    },
    {
      "cell_type": "code",
      "metadata": {
        "id": "UEowSr3Pz-2_"
      },
      "source": [
        "def smoothness_regularizer( input_tensor=None):\n",
        "  if(input_tensor == None):\n",
        "    dvf_tensor = torch.randn(size=(4, 3, 128, 128, 128)).cuda()\n",
        "  else:\n",
        "    dvf_tensor = input_tensor\n",
        "  \n",
        "  dvf_x = dvf_tensor[:, 0:1, ...]\n",
        "  dvf_y = dvf_tensor[:, 1:2, ...]\n",
        "  dvf_z = dvf_tensor[:, 2:3, ...]\n",
        "\n",
        "  sobel_z = torch.FloatTensor( [ [ [ [ [1,2,1], [2,4,2], [1,2,1] ], [ [0,0,0], [0,0,0], [0,0,0] ], [ [-1,-2,-1], [-2,-4,-2], [-1,-2,-1] ] ] ] ] ).cuda()\n",
        "  sobel_y = torch.FloatTensor( [ [ [ [ [1,2,1], [0,0,0], [-1,-2,-1] ], [ [2,4,2], [0,0,0], [-2,-4,-2] ], [ [1,2,1], [0,0,0], [-1,-2,-1] ] ] ] ] ).cuda()\n",
        "  sobel_x = torch.FloatTensor( [ [ [ [ [1,0,-1], [2,0,-2], [1,0,-1] ], [ [2,0,-2], [4,0,-4], [2,0,-2] ], [ [1,0,-1], [2,0,-2], [1,0,-1] ] ] ] ] ).cuda()\n",
        "\n",
        "  edges_x = F.conv3d(input=dvf_x, weight=sobel_x , stride=1, padding=1)\n",
        "  edges_y = F.conv3d(input=dvf_y, weight=sobel_y , stride=1, padding=1)\n",
        "  edges_z = F.conv3d(input=dvf_z, weight=sobel_z , stride=1, padding=1)\n",
        "\n",
        "  magnitude_of_edges_along_x = torch.norm(edges_x)\n",
        "  magnitude_of_edges_along_y = torch.norm(edges_y)\n",
        "  magnitude_of_edges_along_z = torch.norm(edges_z)\n",
        "  #print(\"Magnitudes of gradients along x, y and z are {}, {} and {}\".format(magnitude_of_edges_along_x, magnitude_of_edges_along_y, magnitude_of_edges_along_z))\n",
        "\n",
        "  return magnitude_of_edges_along_x + magnitude_of_edges_along_y + magnitude_of_edges_along_z\n",
        "\n",
        "#print(smoothness_regularizer())\n"
      ],
      "execution_count": 40,
      "outputs": []
    },
    {
      "cell_type": "code",
      "metadata": {
        "id": "MgRsSoWYxjly"
      },
      "source": [
        "class Smoothnessloss(nn.Module):\n",
        "    def __init__(self):\n",
        "\n",
        "        super(Smoothnessloss, self).__init__()\n",
        "        \n",
        "    def forward(self, x):\n",
        "\n",
        "        return smoothness_regularizer( x)"
      ],
      "execution_count": 41,
      "outputs": []
    },
    {
      "cell_type": "code",
      "metadata": {
        "colab": {
          "base_uri": "https://localhost:8080/"
        },
        "id": "uqxCcuElyHWq",
        "outputId": "a86da811-c651-463e-b1bb-9ca551b8c505"
      },
      "source": [
        "sl = Smoothnessloss()\n",
        "sl(torch.randn(size=(2,3,128,128,128)).cuda())"
      ],
      "execution_count": null,
      "outputs": [
        {
          "output_type": "execute_result",
          "data": {
            "text/plain": [
              "tensor(51817.6641, device='cuda:0')"
            ]
          },
          "metadata": {
            "tags": []
          },
          "execution_count": 87
        }
      ]
    },
    {
      "cell_type": "code",
      "metadata": {
        "id": "POjEgxZQj5PM",
        "colab": {
          "base_uri": "https://localhost:8080/"
        },
        "outputId": "e245ff2c-57b3-4075-e0f3-1f13f638995d"
      },
      "source": [
        "dvf_tensor = torch.randn(size=(4, 3, 128, 128, 128))\n",
        "\n",
        "dvf_x = dvf_tensor[:, 0:1, ...]\n",
        "dvf_y = dvf_tensor[:, 1:2, ...]\n",
        "dvf_z = dvf_tensor[:, 2:3, ...]\n",
        "print(dvf_z.shape)"
      ],
      "execution_count": null,
      "outputs": [
        {
          "output_type": "stream",
          "text": [
            "torch.Size([4, 1, 128, 128, 128])\n"
          ],
          "name": "stdout"
        }
      ]
    },
    {
      "cell_type": "code",
      "metadata": {
        "id": "8C7TYQhGz1xb",
        "colab": {
          "base_uri": "https://localhost:8080/"
        },
        "outputId": "84228047-6edd-41b3-ca50-faf729c5c6ee"
      },
      "source": [
        "sobel_z = torch.FloatTensor( [ [ [ [ [1,2,1], [2,4,2], [1,2,1] ], [ [0,0,0], [0,0,0], [0,0,0] ], [ [-1,-2,-1], [-2,-4,-2], [-1,-2,-1] ] ] ] ] )\n",
        "sobel_y = torch.FloatTensor( [ [ [ [ [1,2,1], [0,0,0], [-1,-2,-1] ], [ [2,4,2], [0,0,0], [-2,-4,-2] ], [ [1,2,1], [0,0,0], [-1,-2,-1] ] ] ] ] )\n",
        "sobel_x = torch.FloatTensor( [ [ [ [ [1,0,-1], [2,0,-2], [1,0,-1] ], [ [2,0,-2], [4,0,-4], [2,0,-2] ], [ [1,0,-1], [2,0,-2], [1,0,-1] ] ] ] ] )\n",
        "print(sobel_x.shape)"
      ],
      "execution_count": null,
      "outputs": [
        {
          "output_type": "stream",
          "text": [
            "torch.Size([1, 1, 3, 3, 3])\n"
          ],
          "name": "stdout"
        }
      ]
    },
    {
      "cell_type": "code",
      "metadata": {
        "id": "o7etbG0v2RXS"
      },
      "source": [
        "edges_x = F.conv3d(input=dvf_x, weight=sobel_x , stride=1, padding=1)\n",
        "edges_y = F.conv3d(input=dvf_y, weight=sobel_y , stride=1, padding=1)\n",
        "edges_z = F.conv3d(input=dvf_z, weight=sobel_z , stride=1, padding=1)"
      ],
      "execution_count": null,
      "outputs": []
    },
    {
      "cell_type": "code",
      "metadata": {
        "id": "iA_X2-ILyX_l"
      },
      "source": [
        ""
      ],
      "execution_count": null,
      "outputs": []
    },
    {
      "cell_type": "code",
      "metadata": {
        "id": "gl6pwwBFnue5",
        "colab": {
          "base_uri": "https://localhost:8080/"
        },
        "outputId": "2d08b868-5e1a-4f94-9577-efa83f9a5886"
      },
      "source": [
        "edges_y.shape"
      ],
      "execution_count": null,
      "outputs": [
        {
          "output_type": "execute_result",
          "data": {
            "text/plain": [
              "torch.Size([4, 1, 128, 128, 128])"
            ]
          },
          "metadata": {
            "tags": []
          },
          "execution_count": 19
        }
      ]
    },
    {
      "cell_type": "code",
      "metadata": {
        "id": "oC5PkvD0wiAB",
        "colab": {
          "base_uri": "https://localhost:8080/"
        },
        "outputId": "38b9a518-9f9a-4957-8ac2-4b4ae46e3ed5"
      },
      "source": [
        "magnitude_of_edges_along_x = torch.norm(edges_x)\n",
        "magnitude_of_edges_along_y = torch.norm(edges_y)\n",
        "magnitude_of_edges_along_z = torch.norm(edges_z)\n",
        "print(\"Magnitudes of gradients along x, y and z are {}, {} and {}\".format(magnitude_of_edges_along_x, magnitude_of_edges_along_y, magnitude_of_edges_along_z))"
      ],
      "execution_count": null,
      "outputs": [
        {
          "output_type": "stream",
          "text": [
            "Magnitudes of gradients along x, y and z are 24247.083984375, 24260.341796875 and 24270.322265625\n"
          ],
          "name": "stdout"
        }
      ]
    },
    {
      "cell_type": "code",
      "metadata": {
        "id": "aP-_ZHtLz1zp",
        "colab": {
          "base_uri": "https://localhost:8080/"
        },
        "outputId": "092a73a2-4053-4cbb-c386-739018866f62"
      },
      "source": [
        "sobel_np_z"
      ],
      "execution_count": null,
      "outputs": [
        {
          "output_type": "execute_result",
          "data": {
            "text/plain": [
              "array([[[ 1.,  2.,  1.],\n",
              "        [ 2.,  4.,  2.],\n",
              "        [ 1.,  2.,  1.]],\n",
              "\n",
              "       [[ 0.,  0.,  0.],\n",
              "        [ 0.,  0.,  0.],\n",
              "        [ 0.,  0.,  0.]],\n",
              "\n",
              "       [[-1., -2., -1.],\n",
              "        [-2., -4., -2.],\n",
              "        [-1., -2., -1.]]], dtype=float32)"
            ]
          },
          "metadata": {
            "tags": []
          },
          "execution_count": 16
        }
      ]
    },
    {
      "cell_type": "code",
      "metadata": {
        "id": "raicgKapz12a",
        "colab": {
          "base_uri": "https://localhost:8080/"
        },
        "outputId": "2a1a16b4-e434-462e-c02d-d0cba035e7f7"
      },
      "source": [
        "sobel_np_y"
      ],
      "execution_count": null,
      "outputs": [
        {
          "output_type": "execute_result",
          "data": {
            "text/plain": [
              "array([[[ 1.,  2.,  1.],\n",
              "        [ 0.,  0.,  0.],\n",
              "        [-1., -2., -1.]],\n",
              "\n",
              "       [[ 2.,  4.,  2.],\n",
              "        [ 0.,  0.,  0.],\n",
              "        [-2., -4., -2.]],\n",
              "\n",
              "       [[ 1.,  2.,  1.],\n",
              "        [ 0.,  0.,  0.],\n",
              "        [-1., -2., -1.]]], dtype=float32)"
            ]
          },
          "metadata": {
            "tags": []
          },
          "execution_count": 17
        }
      ]
    },
    {
      "cell_type": "code",
      "metadata": {
        "id": "nrhR7ZF11Kxc",
        "colab": {
          "base_uri": "https://localhost:8080/"
        },
        "outputId": "257dc4b1-7fc3-49e6-dac4-ff1256270f32"
      },
      "source": [
        "sobel_np_x"
      ],
      "execution_count": null,
      "outputs": [
        {
          "output_type": "execute_result",
          "data": {
            "text/plain": [
              "array([[[ 1.,  0., -1.],\n",
              "        [ 2.,  0., -2.],\n",
              "        [ 1.,  0., -1.]],\n",
              "\n",
              "       [[ 2.,  0., -2.],\n",
              "        [ 4.,  0., -4.],\n",
              "        [ 2.,  0., -2.]],\n",
              "\n",
              "       [[ 1.,  0., -1.],\n",
              "        [ 2.,  0., -2.],\n",
              "        [ 1.,  0., -1.]]], dtype=float32)"
            ]
          },
          "metadata": {
            "tags": []
          },
          "execution_count": 18
        }
      ]
    },
    {
      "cell_type": "markdown",
      "metadata": {
        "id": "0sIVYfzAcG6A"
      },
      "source": [
        "# Aggregation Affine DVF and Deformable DVF "
      ]
    },
    {
      "cell_type": "markdown",
      "metadata": {
        "id": "Qk_c_UpmcQUl"
      },
      "source": [
        "\n",
        "![image.png](data:image/png;base64,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)\n",
        "\n",
        "\n",
        "\n"
      ]
    },
    {
      "cell_type": "markdown",
      "metadata": {
        "id": "I5JVxz9CeSYn"
      },
      "source": [
        "**Steps:**\n",
        " According to eq. 3, warp DVF of affine(g1) with DVF of deformable(g2), and then add the result to DVF of deformable(g2).\n"
      ]
    },
    {
      "cell_type": "code",
      "metadata": {
        "id": "ot9GAOctjrMG"
      },
      "source": [
        "affine_conv_model = Admir_Affine_Encoder(in_channel=2, start_channel=8, num_conv_blocks=5)\n",
        "affine_output_model = Admir_Affine_Output( in_units= 2560)\n",
        "stn_affine = SpatialTransformer(size=(128, 28, 128), is_affine=True, theta=torch.randn(size=(2, 3, 4)))\n",
        "\n",
        "deformable_model = Admir_Deformable_UNet(2,3,16)\n",
        "\n",
        "stn_deformable = SpatialTransformer(size=(128, 128, 128), is_affine=False)\n",
        "stn_aggregation = SpatialTransformer(size=(128, 128, 128), is_affine=False)\n",
        "\n",
        "stn_fully_warped = SpatialTransformer(size=(128, 128, 128), is_affine=False)\n",
        "\n"
      ],
      "execution_count": null,
      "outputs": []
    },
    {
      "cell_type": "code",
      "metadata": {
        "id": "cEh2kVgPtppH",
        "colab": {
          "base_uri": "https://localhost:8080/"
        },
        "outputId": "2c7771df-3b51-444b-8311-98da480c1ffd"
      },
      "source": [
        "stn_affine.grid.shape"
      ],
      "execution_count": null,
      "outputs": [
        {
          "output_type": "execute_result",
          "data": {
            "text/plain": [
              "torch.Size([2, 128, 128, 128, 3])"
            ]
          },
          "metadata": {
            "tags": []
          },
          "execution_count": 42
        }
      ]
    },
    {
      "cell_type": "code",
      "metadata": {
        "id": "MZkBbfHhqaSs"
      },
      "source": [
        "final_warped_image = stn_deformable(torch.randn(size=(2,3,128,128,128)), torch.randn(size=(2,3,128,128,128)) )"
      ],
      "execution_count": null,
      "outputs": []
    },
    {
      "cell_type": "code",
      "metadata": {
        "id": "C4SsY-fWq7C1",
        "colab": {
          "base_uri": "https://localhost:8080/"
        },
        "outputId": "ffd645d8-514a-4fda-8cff-2b60f5db79f2"
      },
      "source": [
        "final_warped_image.shape"
      ],
      "execution_count": null,
      "outputs": [
        {
          "output_type": "execute_result",
          "data": {
            "text/plain": [
              "torch.Size([2, 3, 128, 128, 128])"
            ]
          },
          "metadata": {
            "tags": []
          },
          "execution_count": 44
        }
      ]
    },
    {
      "cell_type": "code",
      "metadata": {
        "id": "hfJpI7taWKMb",
        "colab": {
          "base_uri": "https://localhost:8080/"
        },
        "outputId": "c0be3026-1424-4cba-df20-e14204c919ab"
      },
      "source": [
        "batch_size = 2\n",
        "\n",
        "\n",
        "# X --> fixed and Y --> moving\n",
        "\n",
        "for X,Y in training_generator:\n",
        "\n",
        "  # X = X.cuda().float()\n",
        "  # Y = Y.cuda().float()\n",
        "\n",
        "  print(\"X shape: {}\".format(X.shape))\n",
        "  print(\"Y shape: {}\".format(Y.shape))\n",
        "  affine_conv_out = affine_conv_model(X, Y)\n",
        "  # print(affine_conv_out.shape)\n",
        "\n",
        "  affine_output_out = affine_output_model(affine_conv_out)\n",
        "  print(affine_output_out[0].shape)\n",
        "  print(affine_output_out[1].shape)\n",
        "\n",
        "  print(\"========== ============== =============\")\n",
        "  print()\n",
        "\n",
        "  affine_tnsr = torch.cat((affine_output_out[1], affine_output_out[0]), 1)\n",
        "  theta = torch.reshape(affine_tnsr, (batch_size, 3, 4))\n",
        "\n",
        "  \n",
        "  # Suraj: Set the new theta and reshape it\n",
        "  stn_affine.theta = theta\n",
        "  print(\"========== ============== =============\")\n",
        "  print(\"theta shape: {}\".format(theta.shape))\n",
        "  print(theta)\n",
        "\n",
        "  # print(\"========== ============== =============\")\n",
        "  # grid = F.affine_grid(theta, (2, 1, 128, 128, 128))\n",
        "  # print(grid.shape)\n",
        "  # print(grid)\n",
        "\n",
        "  # Suraj: Added coarsely warped image, changed dvf_final calculation\n",
        "  # DVF1 shape was [batch size, 128, 128, 128, 3] --> permuted order of columns to match deformable dvf 2 [batch size, 3, 128, 128, 128]\n",
        "  coarsely_warped_image = stn_affine(Y)\n",
        "  dvf_1 = stn_affine.grid\n",
        "  dvf_1 = dvf_1.permute(0, 4, 1, 2, 3)\n",
        "\n",
        "  print(\"======= =============== ===========\")\n",
        "  print(\"Coarsely warped image shape: {}\".format(coarsely_warped_image.shape))\n",
        "  print(\"dvf 1 shape: {}\".format(dvf_1.shape))\n",
        "  print(\"=========== ============= ==========\")\n",
        "  print()\n",
        "\n",
        "  print(\" ==== Starting deformable warping =======\")\n",
        "  dvf_2 = deformable_model(coarsely_warped_image, Y) \n",
        "  print(\"deformable field dvf 2 shape: {}\".format(dvf_2.shape))\n",
        "  print(\"========== ============== =============\")\n",
        "  print()\n",
        "\n",
        "  print(\" interim warp \")\n",
        "  interim_warp_field = stn_aggregation(dvf_1,dvf_2)\n",
        "  print(\"interim warp field shape: {}\".format(interim_warp_field.shape))\n",
        "  print(\"========== ============== =============\")\n",
        "  print()\n",
        "\n",
        "  \n",
        "  dvf_final = dvf_2 + interim_warp_field\n",
        "  print(\"final dvf shape: {}\".format(dvf_final.shape))\n",
        "  print(\"========== ============== =============\")\n",
        "  print()\n",
        "\n",
        "  fully_warped_image =  stn_fully_warped(Y,dvf_final)  #final fully warped image , i.e. equation 4 of the image\n",
        "  print(\"final warped image shape: {}\".format(fully_warped_image.shape))\n",
        "  print(\"========== ============== =============\")\n",
        "  print()\n",
        "  \n",
        "\n",
        "  del X\n",
        "  del Y\n",
        "  del interim_warp_field\n",
        "  del dvf_1\n",
        "  del dvf_2\n",
        "  del dvf_final\n",
        "  del fully_warped_image\n",
        "\n",
        "  \"\"\"\n",
        "  # something is missing here may be: TBD\n",
        "\n",
        "  dvf_1 = F.grid_sample(Y, grid)    #named as g1 in the image\n",
        "  print(dvf_1.shape)\n",
        "  print(\"========== ============== =============\")\n",
        "  print()\n",
        "  \n",
        "  dvf_2 = deformable_model(dvf_1, Y)     #named as g2 in the image\n",
        "  print(dvf_2.shape)\n",
        "  print(\"========== ============== =============\")\n",
        "  print()\n",
        "  \n",
        "  dvf_final = dvf_2 + stn_aggregation(dvf_1,dvf_2)    # g1 * g2,  aggregation of DVF (Affine) and DVF (Deformable)\n",
        "  print(dvf_final.shape)\n",
        "  print(\"========== ============== =============\")\n",
        "  print()\n",
        "\n",
        "  fully_warped_image =  stn_fully_warped(Y,dvf_final)  #final fully warped image , i.e. equation 4 of the image\n",
        "  print(fully_warped_image.shape)\n",
        "  print(\"========== ============== =============\")\n",
        "  print()\n",
        "  \"\"\"\n",
        "  "
      ],
      "execution_count": null,
      "outputs": [
        {
          "output_type": "stream",
          "text": [
            "X shape: torch.Size([2, 1, 128, 128, 128])\n",
            "Y shape: torch.Size([2, 1, 128, 128, 128])\n",
            "torch.Size([2, 3])\n",
            "torch.Size([2, 9])\n",
            "========== ============== =============\n",
            "\n",
            "========== ============== =============\n",
            "theta shape: torch.Size([2, 3, 4])\n",
            "tensor([[[-0.1161, -0.2802, -0.3322, -0.1159],\n",
            "         [-0.1681, -0.4785,  0.0086, -0.1808],\n",
            "         [-0.1069,  0.1317, -0.0420,  0.2455]],\n",
            "\n",
            "        [[ 0.0276, -0.2756, -0.2953,  0.0351],\n",
            "         [-0.0728, -0.1741, -0.1754, -0.0482],\n",
            "         [-0.2195,  0.2257,  0.0267,  0.4620]]], grad_fn=<ViewBackward>)\n"
          ],
          "name": "stdout"
        },
        {
          "output_type": "stream",
          "text": [
            "/usr/local/lib/python3.6/dist-packages/torch/nn/functional.py:3448: UserWarning: Default grid_sample and affine_grid behavior has changed to align_corners=False since 1.3.0. Please specify align_corners=True if the old behavior is desired. See the documentation of grid_sample for details.\n",
            "  warnings.warn(\"Default grid_sample and affine_grid behavior has changed \"\n",
            "/usr/local/lib/python3.6/dist-packages/torch/nn/functional.py:3385: UserWarning: Default grid_sample and affine_grid behavior has changed to align_corners=False since 1.3.0. Please specify align_corners=True if the old behavior is desired. See the documentation of grid_sample for details.\n",
            "  warnings.warn(\"Default grid_sample and affine_grid behavior has changed \"\n"
          ],
          "name": "stderr"
        },
        {
          "output_type": "stream",
          "text": [
            "======= =============== ===========\n",
            "Coarsely warped image shape: torch.Size([2, 1, 128, 128, 128])\n",
            "dvf 1 shape: torch.Size([2, 3, 128, 128, 128])\n",
            "=========== ============= ==========\n",
            "\n",
            " ==== Starting deformable warping =======\n",
            "d2 torch.Size([2, 16, 128, 128, 128])\n",
            "deformable field dvf 2 shape: torch.Size([2, 3, 128, 128, 128])\n",
            "========== ============== =============\n",
            "\n",
            " interim warp \n",
            "interim warp field shape: torch.Size([2, 3, 128, 128, 128])\n",
            "========== ============== =============\n",
            "\n",
            "final dvf shape: torch.Size([2, 3, 128, 128, 128])\n",
            "========== ============== =============\n",
            "\n",
            "final warped image shape: torch.Size([2, 1, 128, 128, 128])\n",
            "========== ============== =============\n",
            "\n",
            "X shape: torch.Size([2, 1, 128, 128, 128])\n",
            "Y shape: torch.Size([2, 1, 128, 128, 128])\n",
            "torch.Size([2, 3])\n",
            "torch.Size([2, 9])\n",
            "========== ============== =============\n",
            "\n",
            "========== ============== =============\n",
            "theta shape: torch.Size([2, 3, 4])\n",
            "tensor([[[-0.1642, -0.2519, -0.2274, -0.0296],\n",
            "         [-0.0043, -0.4660,  0.0361,  0.0271],\n",
            "         [-0.1445,  0.2549, -0.0253,  0.3816]],\n",
            "\n",
            "        [[-0.1206, -0.3132, -0.2853,  0.0894],\n",
            "         [ 0.0377, -0.2728, -0.2956,  0.0622],\n",
            "         [-0.0333,  0.2063,  0.2739,  0.3347]]], grad_fn=<ViewBackward>)\n",
            "======= =============== ===========\n",
            "Coarsely warped image shape: torch.Size([2, 1, 128, 128, 128])\n",
            "dvf 1 shape: torch.Size([2, 3, 128, 128, 128])\n",
            "=========== ============= ==========\n",
            "\n",
            " ==== Starting deformable warping =======\n",
            "d2 torch.Size([2, 16, 128, 128, 128])\n",
            "deformable field dvf 2 shape: torch.Size([2, 3, 128, 128, 128])\n",
            "========== ============== =============\n",
            "\n",
            " interim warp \n",
            "interim warp field shape: torch.Size([2, 3, 128, 128, 128])\n",
            "========== ============== =============\n",
            "\n",
            "final dvf shape: torch.Size([2, 3, 128, 128, 128])\n",
            "========== ============== =============\n",
            "\n",
            "final warped image shape: torch.Size([2, 1, 128, 128, 128])\n",
            "========== ============== =============\n",
            "\n",
            "X shape: torch.Size([2, 1, 128, 128, 128])\n",
            "Y shape: torch.Size([2, 1, 128, 128, 128])\n",
            "torch.Size([2, 3])\n",
            "torch.Size([2, 9])\n",
            "========== ============== =============\n",
            "\n",
            "========== ============== =============\n",
            "theta shape: torch.Size([2, 3, 4])\n",
            "tensor([[[-0.0150, -0.2823, -0.3252,  0.0595],\n",
            "         [-0.0214, -0.2800, -0.1367, -0.0354],\n",
            "         [-0.2454,  0.2183,  0.0548,  0.2153]],\n",
            "\n",
            "        [[ 0.1217, -0.1062, -0.1814,  0.0401],\n",
            "         [ 0.0692, -0.2697, -0.0398, -0.1181],\n",
            "         [-0.2207,  0.2838, -0.0798,  0.2825]]], grad_fn=<ViewBackward>)\n",
            "======= =============== ===========\n",
            "Coarsely warped image shape: torch.Size([2, 1, 128, 128, 128])\n",
            "dvf 1 shape: torch.Size([2, 3, 128, 128, 128])\n",
            "=========== ============= ==========\n",
            "\n",
            " ==== Starting deformable warping =======\n",
            "d2 torch.Size([2, 16, 128, 128, 128])\n",
            "deformable field dvf 2 shape: torch.Size([2, 3, 128, 128, 128])\n",
            "========== ============== =============\n",
            "\n",
            " interim warp \n",
            "interim warp field shape: torch.Size([2, 3, 128, 128, 128])\n",
            "========== ============== =============\n",
            "\n",
            "final dvf shape: torch.Size([2, 3, 128, 128, 128])\n",
            "========== ============== =============\n",
            "\n",
            "final warped image shape: torch.Size([2, 1, 128, 128, 128])\n",
            "========== ============== =============\n",
            "\n",
            "X shape: torch.Size([2, 1, 128, 128, 128])\n",
            "Y shape: torch.Size([2, 1, 128, 128, 128])\n",
            "torch.Size([2, 3])\n",
            "torch.Size([2, 9])\n",
            "========== ============== =============\n",
            "\n",
            "========== ============== =============\n",
            "theta shape: torch.Size([2, 3, 4])\n",
            "tensor([[[-0.0684, -0.2768, -0.1116,  0.0149],\n",
            "         [ 0.0029, -0.4118,  0.0200, -0.0505],\n",
            "         [-0.2713,  0.1044,  0.1018,  0.2383]],\n",
            "\n",
            "        [[ 0.2171, -0.1166, -0.2840,  0.1628],\n",
            "         [ 0.1098, -0.1944, -0.2020, -0.2188],\n",
            "         [-0.2422,  0.2057,  0.0855,  0.2481]]], grad_fn=<ViewBackward>)\n",
            "======= =============== ===========\n",
            "Coarsely warped image shape: torch.Size([2, 1, 128, 128, 128])\n",
            "dvf 1 shape: torch.Size([2, 3, 128, 128, 128])\n",
            "=========== ============= ==========\n",
            "\n",
            " ==== Starting deformable warping =======\n",
            "d2 torch.Size([2, 16, 128, 128, 128])\n",
            "deformable field dvf 2 shape: torch.Size([2, 3, 128, 128, 128])\n",
            "========== ============== =============\n",
            "\n",
            " interim warp \n",
            "interim warp field shape: torch.Size([2, 3, 128, 128, 128])\n",
            "========== ============== =============\n",
            "\n",
            "final dvf shape: torch.Size([2, 3, 128, 128, 128])\n",
            "========== ============== =============\n",
            "\n",
            "final warped image shape: torch.Size([2, 1, 128, 128, 128])\n",
            "========== ============== =============\n",
            "\n",
            "X shape: torch.Size([2, 1, 128, 128, 128])\n",
            "Y shape: torch.Size([2, 1, 128, 128, 128])\n",
            "torch.Size([2, 3])\n",
            "torch.Size([2, 9])\n",
            "========== ============== =============\n",
            "\n",
            "========== ============== =============\n",
            "theta shape: torch.Size([2, 3, 4])\n",
            "tensor([[[ 0.0421, -0.1608, -0.2523,  0.0449],\n",
            "         [ 0.0588, -0.1663, -0.1322,  0.0111],\n",
            "         [-0.2468,  0.2117,  0.0275,  0.2985]],\n",
            "\n",
            "        [[ 0.0192, -0.1146, -0.2422,  0.0447],\n",
            "         [ 0.1173, -0.2209, -0.2120, -0.0552],\n",
            "         [-0.2051,  0.2833,  0.0202,  0.2458]]], grad_fn=<ViewBackward>)\n",
            "======= =============== ===========\n",
            "Coarsely warped image shape: torch.Size([2, 1, 128, 128, 128])\n",
            "dvf 1 shape: torch.Size([2, 3, 128, 128, 128])\n",
            "=========== ============= ==========\n",
            "\n",
            " ==== Starting deformable warping =======\n",
            "d2 torch.Size([2, 16, 128, 128, 128])\n",
            "deformable field dvf 2 shape: torch.Size([2, 3, 128, 128, 128])\n",
            "========== ============== =============\n",
            "\n",
            " interim warp \n",
            "interim warp field shape: torch.Size([2, 3, 128, 128, 128])\n",
            "========== ============== =============\n",
            "\n",
            "final dvf shape: torch.Size([2, 3, 128, 128, 128])\n",
            "========== ============== =============\n",
            "\n",
            "final warped image shape: torch.Size([2, 1, 128, 128, 128])\n",
            "========== ============== =============\n",
            "\n"
          ],
          "name": "stdout"
        }
      ]
    },
    {
      "cell_type": "markdown",
      "metadata": {
        "id": "w6Nl6L4bLmql"
      },
      "source": [
        "# Training Affine Network to sanity check"
      ]
    },
    {
      "cell_type": "code",
      "metadata": {
        "id": "6GLLtMKZLvCk"
      },
      "source": [
        "affine_conv_model = Admir_Affine_Encoder(in_channel=2, start_channel=8, num_conv_blocks=5)\n",
        "affine_conv_model.cuda()\n",
        "\n",
        "affine_output_model = Admir_Affine_Output( in_units= 2560)\n",
        "affine_output_model.cuda()\n",
        "\n",
        "\n",
        "affine_matrix = torch.from_numpy(np.array([ [ [1.0, 0.0, 0.0, 0.0], [ 0.0, 1.0, 0.0, 0.0], [0.0,  0.0, 1.0, 0.0] ] , \n",
        "                                            [ [1.0, 0.0, 0.0, 0.0], [ 0.0, 1.0, 0.0, 0.0], [0.0,  0.0, 1.0, 0.0] ]  ], dtype=\"float32\" ))\n",
        "stn_affine = SpatialTransformer(size=(128, 28, 128), is_affine=True, theta=affine_matrix)\n",
        "stn_affine.cuda()\n",
        "\n",
        "# Addd deformable part\n",
        "deformable_model = Admir_Deformable_UNet(2,3,16)\n",
        "deformable_model.cuda()\n",
        "\n",
        "stn_deformable = SpatialTransformer(size=(128, 128, 128), is_affine=False)\n",
        "stn_deformable.cuda()\n",
        "\n",
        "stn_aggregation = SpatialTransformer(size=(128, 128, 128), is_affine=False)\n",
        "stn_aggregation.cuda()\n",
        "\n",
        "stn_fully_warped = SpatialTransformer(size=(128, 128, 128), is_affine=False)\n",
        "stn_fully_warped.cuda()\n",
        "\n",
        "\n",
        "lr=5e-4\n",
        "iteration=2\n",
        "alpha = beta = gamma = 1.0\n",
        "\n",
        "for param in stn_affine.parameters():\n",
        "  param.requires_grad = False\n",
        "  param.volatile=True\n",
        "\n",
        "for param in stn_deformable.parameters():\n",
        "  param.requires_grad = False\n",
        "  param.volatile=True\n",
        "\n",
        "for param in stn_aggregation.parameters():\n",
        "  param.requires_grad = False\n",
        "  param.volatile=True\n",
        "\n",
        "for param in stn_fully_warped.parameters():\n",
        "  param.requires_grad = False\n",
        "  param.volatile=True"
      ],
      "execution_count": null,
      "outputs": []
    },
    {
      "cell_type": "code",
      "metadata": {
        "id": "sI8m4XH-au2D"
      },
      "source": [
        "similarity_loss = NormalizedCrossCorrelation()\n",
        "smooth_loss = Smoothnessloss()"
      ],
      "execution_count": null,
      "outputs": []
    },
    {
      "cell_type": "code",
      "metadata": {
        "id": "cDhBrujCXGbJ"
      },
      "source": [
        "optimizer = torch.optim.Adam( list( affine_output_model.parameters() ) + list( affine_conv_model.parameters()) ), lr=lr ) \n",
        "model_dir = '/content/drive/My Drive/Image_Registration_Project/Model'\n",
        "\n",
        "if not os.path.isdir(model_dir):\n",
        "  os.mkdir(model_dir)\n",
        "\n",
        "n_checkpoint=4000\n",
        "lossall = np.zeros((5,iteration))\n",
        "step=0"
      ],
      "execution_count": null,
      "outputs": []
    },
    {
      "cell_type": "code",
      "metadata": {
        "id": "KBVTQi5iKebt"
      },
      "source": [
        "batch_size = 2\n",
        "\n",
        "# X --> fixed and Y --> moving\n",
        "def affine_one_epoch_run(epoch=1):\n",
        "  for X,Y in training_generator:\n",
        "\n",
        "    X = X.cuda().float()\n",
        "    Y = Y.cuda().float()\n",
        "\n",
        "    #print(\"X shape: {}\".format(X.shape))\n",
        "    #print(\"Y shape: {}\".format(Y.shape))\n",
        "    affine_conv_out = affine_conv_model(X, Y)\n",
        "    # print(affine_conv_out.shape)\n",
        "\n",
        "    affine_output_out = affine_output_model(affine_conv_out)\n",
        "    #print(affine_output_out[0].shape)\n",
        "    #print(affine_output_out[1].shape)\n",
        "\n",
        "    #print(\"========== ============== =============\")\n",
        "    #print()\n",
        "\n",
        "    affine_tnsr = torch.cat((affine_output_out[1], affine_output_out[0]), 1)\n",
        "    theta = torch.reshape(affine_tnsr, (batch_size, 3, 4))\n",
        "\n",
        "    \n",
        "    # Suraj: Set the new theta and reshape it\n",
        "    stn_affine.theta = theta\n",
        "    #print(\"========== ============== =============\")\n",
        "    #print(\"theta shape: {}\".format(theta.shape))\n",
        "    #print(theta)\n",
        "\n",
        "    # print(\"========== ============== =============\")\n",
        "    # grid = F.affine_grid(theta, (2, 1, 128, 128, 128))\n",
        "    # print(grid.shape)\n",
        "    # print(grid)\n",
        "\n",
        "    # Suraj: Added coarsely warped image, changed dvf_final calculation\n",
        "    # DVF1 shape was [batch size, 128, 128, 128, 3] --> permuted order of columns to match deformable dvf 2 [batch size, 3, 128, 128, 128]\n",
        "    coarsely_warped_image = stn_affine(Y)\n",
        "    dvf_1 = stn_affine.grid\n",
        "    dvf_1 = dvf_1.permute(0, 4, 1, 2, 3)\n",
        "\n",
        "    #print(\"======= =============== ===========\")\n",
        "    #print(\"Coarsely warped image shape: {}\".format(coarsely_warped_image.shape))\n",
        "    #print(\"dvf 1 shape: {}\".format(dvf_1.shape))\n",
        "    #print(\"=========== ============= ==========\")\n",
        "    #print()\n",
        "\n",
        "    affine_loss = similarity_loss(X, coarsely_warped_image) \n",
        "    optimizer.zero_grad()          \n",
        "    affine_loss.backward()           \n",
        "    optimizer.step() \n",
        "\n",
        "    torch.cuda.empty_cache()\n",
        "\n",
        "    del X\n",
        "    del Y\n",
        "    del coarsely_warped_image\n",
        "    del dvf_1\n",
        "  \n",
        "\n",
        "\n",
        "\n",
        "  modelname = model_dir + '/' + \"affine_admir_\" + str(epoch) + '.pth'\n",
        "  torch.save({\"affine_conv_model\": affine_conv_model.state_dict(), \"affine_output_model\": affine_output_model.state_dict()}, modelname)\n",
        "  print(\"epoch: {}\".format(epoch))\n",
        "  print(\"Loss: {}\".format(affine_loss))\n",
        "  print(\"Saving model checkpoints\")\n",
        "  print(\"======= =============== ===========\")\n",
        "  print()\n"
      ],
      "execution_count": null,
      "outputs": []
    },
    {
      "cell_type": "code",
      "metadata": {
        "colab": {
          "base_uri": "https://localhost:8080/"
        },
        "id": "Vpzc1xLRK7Hw",
        "outputId": "41a7cf1a-45dc-4f95-acf6-e2e0982e148a"
      },
      "source": [
        "epochs = 50\n",
        "for e in range(epochs):\n",
        "  affine_one_epoch_run(epoch=e)"
      ],
      "execution_count": null,
      "outputs": [
        {
          "output_type": "stream",
          "text": [
            "/usr/local/lib/python3.6/dist-packages/torch/nn/functional.py:3448: UserWarning: Default grid_sample and affine_grid behavior has changed to align_corners=False since 1.3.0. Please specify align_corners=True if the old behavior is desired. See the documentation of grid_sample for details.\n",
            "  warnings.warn(\"Default grid_sample and affine_grid behavior has changed \"\n",
            "/usr/local/lib/python3.6/dist-packages/torch/nn/functional.py:3385: UserWarning: Default grid_sample and affine_grid behavior has changed to align_corners=False since 1.3.0. Please specify align_corners=True if the old behavior is desired. See the documentation of grid_sample for details.\n",
            "  warnings.warn(\"Default grid_sample and affine_grid behavior has changed \"\n"
          ],
          "name": "stderr"
        },
        {
          "output_type": "stream",
          "text": [
            "epoch: 0\n",
            "Loss: -0.007497966289520264\n",
            "Saving model checkpoints\n",
            "======= =============== ===========\n",
            "\n",
            "epoch: 1\n",
            "Loss: -0.027532506734132767\n",
            "Saving model checkpoints\n",
            "======= =============== ===========\n",
            "\n",
            "epoch: 2\n",
            "Loss: -0.09491048008203506\n",
            "Saving model checkpoints\n",
            "======= =============== ===========\n",
            "\n",
            "epoch: 3\n",
            "Loss: -0.1434415876865387\n",
            "Saving model checkpoints\n",
            "======= =============== ===========\n",
            "\n",
            "epoch: 4\n",
            "Loss: -0.26680436730384827\n",
            "Saving model checkpoints\n",
            "======= =============== ===========\n",
            "\n",
            "epoch: 5\n",
            "Loss: -0.3289644718170166\n",
            "Saving model checkpoints\n",
            "======= =============== ===========\n",
            "\n",
            "epoch: 6\n",
            "Loss: -0.37536025047302246\n",
            "Saving model checkpoints\n",
            "======= =============== ===========\n",
            "\n",
            "epoch: 7\n",
            "Loss: -0.19124223291873932\n",
            "Saving model checkpoints\n",
            "======= =============== ===========\n",
            "\n",
            "epoch: 8\n",
            "Loss: -0.04712643474340439\n",
            "Saving model checkpoints\n",
            "======= =============== ===========\n",
            "\n",
            "epoch: 9\n",
            "Loss: -0.4485160708427429\n",
            "Saving model checkpoints\n",
            "======= =============== ===========\n",
            "\n",
            "epoch: 10\n",
            "Loss: -0.29218798875808716\n",
            "Saving model checkpoints\n",
            "======= =============== ===========\n",
            "\n",
            "epoch: 11\n",
            "Loss: -0.31580495834350586\n",
            "Saving model checkpoints\n",
            "======= =============== ===========\n",
            "\n",
            "epoch: 12\n",
            "Loss: -0.33886075019836426\n",
            "Saving model checkpoints\n",
            "======= =============== ===========\n",
            "\n",
            "epoch: 13\n",
            "Loss: -0.31684181094169617\n",
            "Saving model checkpoints\n",
            "======= =============== ===========\n",
            "\n",
            "epoch: 14\n",
            "Loss: -0.4189305007457733\n",
            "Saving model checkpoints\n",
            "======= =============== ===========\n",
            "\n",
            "epoch: 15\n",
            "Loss: -0.4839571714401245\n",
            "Saving model checkpoints\n",
            "======= =============== ===========\n",
            "\n",
            "epoch: 16\n",
            "Loss: -0.4483157992362976\n",
            "Saving model checkpoints\n",
            "======= =============== ===========\n",
            "\n",
            "epoch: 17\n",
            "Loss: -0.47645479440689087\n",
            "Saving model checkpoints\n",
            "======= =============== ===========\n",
            "\n",
            "epoch: 18\n",
            "Loss: -0.4440528154373169\n",
            "Saving model checkpoints\n",
            "======= =============== ===========\n",
            "\n",
            "epoch: 19\n",
            "Loss: -0.29013651609420776\n",
            "Saving model checkpoints\n",
            "======= =============== ===========\n",
            "\n",
            "epoch: 20\n",
            "Loss: -0.35884889960289\n",
            "Saving model checkpoints\n",
            "======= =============== ===========\n",
            "\n",
            "epoch: 21\n",
            "Loss: -0.43728819489479065\n",
            "Saving model checkpoints\n",
            "======= =============== ===========\n",
            "\n",
            "epoch: 22\n",
            "Loss: -0.2993404269218445\n",
            "Saving model checkpoints\n",
            "======= =============== ===========\n",
            "\n",
            "epoch: 23\n",
            "Loss: -0.4187842607498169\n",
            "Saving model checkpoints\n",
            "======= =============== ===========\n",
            "\n",
            "epoch: 24\n",
            "Loss: -0.41684994101524353\n",
            "Saving model checkpoints\n",
            "======= =============== ===========\n",
            "\n",
            "epoch: 25\n",
            "Loss: -0.4826330840587616\n",
            "Saving model checkpoints\n",
            "======= =============== ===========\n",
            "\n",
            "epoch: 26\n",
            "Loss: -0.5780534744262695\n",
            "Saving model checkpoints\n",
            "======= =============== ===========\n",
            "\n",
            "epoch: 27\n",
            "Loss: -0.4587460458278656\n",
            "Saving model checkpoints\n",
            "======= =============== ===========\n",
            "\n",
            "epoch: 28\n",
            "Loss: -0.4993211328983307\n",
            "Saving model checkpoints\n",
            "======= =============== ===========\n",
            "\n",
            "epoch: 29\n",
            "Loss: -0.49386167526245117\n",
            "Saving model checkpoints\n",
            "======= =============== ===========\n",
            "\n",
            "epoch: 30\n",
            "Loss: -0.40098369121551514\n",
            "Saving model checkpoints\n",
            "======= =============== ===========\n",
            "\n",
            "epoch: 31\n",
            "Loss: -0.48935437202453613\n",
            "Saving model checkpoints\n",
            "======= =============== ===========\n",
            "\n",
            "epoch: 32\n",
            "Loss: -0.4710482954978943\n",
            "Saving model checkpoints\n",
            "======= =============== ===========\n",
            "\n",
            "epoch: 33\n",
            "Loss: -0.4898466169834137\n",
            "Saving model checkpoints\n",
            "======= =============== ===========\n",
            "\n",
            "epoch: 34\n",
            "Loss: -0.5475896000862122\n",
            "Saving model checkpoints\n",
            "======= =============== ===========\n",
            "\n",
            "epoch: 35\n",
            "Loss: -0.572163999080658\n",
            "Saving model checkpoints\n",
            "======= =============== ===========\n",
            "\n",
            "epoch: 36\n",
            "Loss: -0.5776903629302979\n",
            "Saving model checkpoints\n",
            "======= =============== ===========\n",
            "\n",
            "epoch: 37\n",
            "Loss: -0.6302967071533203\n",
            "Saving model checkpoints\n",
            "======= =============== ===========\n",
            "\n",
            "epoch: 38\n",
            "Loss: -0.5139049887657166\n",
            "Saving model checkpoints\n",
            "======= =============== ===========\n",
            "\n",
            "epoch: 39\n",
            "Loss: -0.5614157319068909\n",
            "Saving model checkpoints\n",
            "======= =============== ===========\n",
            "\n",
            "epoch: 40\n",
            "Loss: -0.466150164604187\n",
            "Saving model checkpoints\n",
            "======= =============== ===========\n",
            "\n",
            "epoch: 41\n",
            "Loss: -0.5293323397636414\n",
            "Saving model checkpoints\n",
            "======= =============== ===========\n",
            "\n",
            "epoch: 42\n",
            "Loss: -0.5916526317596436\n",
            "Saving model checkpoints\n",
            "======= =============== ===========\n",
            "\n",
            "epoch: 43\n",
            "Loss: -0.5005573034286499\n",
            "Saving model checkpoints\n",
            "======= =============== ===========\n",
            "\n",
            "epoch: 44\n",
            "Loss: -0.5990889072418213\n",
            "Saving model checkpoints\n",
            "======= =============== ===========\n",
            "\n",
            "epoch: 45\n",
            "Loss: -0.528457522392273\n",
            "Saving model checkpoints\n",
            "======= =============== ===========\n",
            "\n",
            "epoch: 46\n",
            "Loss: -0.6167894005775452\n",
            "Saving model checkpoints\n",
            "======= =============== ===========\n",
            "\n",
            "epoch: 47\n",
            "Loss: -0.6135929226875305\n",
            "Saving model checkpoints\n",
            "======= =============== ===========\n",
            "\n",
            "epoch: 48\n",
            "Loss: -0.5817539691925049\n",
            "Saving model checkpoints\n",
            "======= =============== ===========\n",
            "\n",
            "epoch: 49\n",
            "Loss: -0.5862562656402588\n",
            "Saving model checkpoints\n",
            "======= =============== ===========\n",
            "\n"
          ],
          "name": "stdout"
        }
      ]
    },
    {
      "cell_type": "markdown",
      "metadata": {
        "id": "tgqKcbB2Kfdg"
      },
      "source": [
        ""
      ]
    },
    {
      "cell_type": "markdown",
      "metadata": {
        "id": "2vlsb9j9KfZy"
      },
      "source": [
        ""
      ]
    },
    {
      "cell_type": "markdown",
      "metadata": {
        "id": "3b7ZwDfFAJr0"
      },
      "source": [
        "# Affine Inference"
      ]
    },
    {
      "cell_type": "code",
      "metadata": {
        "colab": {
          "base_uri": "https://localhost:8080/"
        },
        "id": "j3CmHXI8Aqq-",
        "outputId": "95b46a5a-e58b-4761-f811-7fd451a97b8b"
      },
      "source": [
        "affine_conv_model_inference = Admir_Affine_Encoder(in_channel=2, start_channel=8, num_conv_blocks=5)\n",
        "affine_conv_model_inference.cuda()\n",
        "\n",
        "affine_output_model_inference = Admir_Affine_Output( in_units= 2560)\n",
        "affine_output_model_inference.cuda()\n",
        "\n",
        "stn_affine_inference = SpatialTransformer(size=(128, 28, 128), is_affine=True, theta=torch.randn(size=(1, 3, 4)), affine_image_size =  (1, 1, 128, 128, 128))\n",
        "stn_affine_inference.cuda()"
      ],
      "execution_count": null,
      "outputs": [
        {
          "output_type": "execute_result",
          "data": {
            "text/plain": [
              "SpatialTransformer()"
            ]
          },
          "metadata": {
            "tags": []
          },
          "execution_count": 282
        }
      ]
    },
    {
      "cell_type": "code",
      "metadata": {
        "colab": {
          "base_uri": "https://localhost:8080/"
        },
        "id": "OjhlT7VD549E",
        "outputId": "2cad0fb7-f7fd-4c1f-cb0c-68e4a5a171db"
      },
      "source": [
        "checkpoint = torch.load('/content/drive/My Drive/Image_Registration_Project/fullmodel/complete_admir_49.pth')\n",
        "affine_conv_model_inference.load_state_dict(checkpoint['affine_conv_model'])\n",
        "affine_output_model_inference.load_state_dict(checkpoint['affine_output_model'])\n",
        "affine_conv_model_inference.eval()\n",
        "affine_output_model_inference.eval()"
      ],
      "execution_count": null,
      "outputs": [
        {
          "output_type": "execute_result",
          "data": {
            "text/plain": [
              "Admir_Affine_Output(\n",
              "  (trns_ob): Sequential(\n",
              "    (0): Linear(in_features=2560, out_features=128, bias=True)\n",
              "    (1): Dropout(p=0.3, inplace=False)\n",
              "    (2): Linear(in_features=128, out_features=64, bias=True)\n",
              "    (3): Dropout(p=0.3, inplace=False)\n",
              "    (4): Linear(in_features=64, out_features=32, bias=True)\n",
              "    (5): Dropout(p=0.3, inplace=False)\n",
              "    (6): Linear(in_features=32, out_features=16, bias=True)\n",
              "    (7): Dropout(p=0.3, inplace=False)\n",
              "    (8): Linear(in_features=16, out_features=3, bias=True)\n",
              "  )\n",
              "  (rss_ob): Sequential(\n",
              "    (0): Linear(in_features=2560, out_features=128, bias=True)\n",
              "    (1): Dropout(p=0.3, inplace=False)\n",
              "    (2): Linear(in_features=128, out_features=64, bias=True)\n",
              "    (3): Dropout(p=0.3, inplace=False)\n",
              "    (4): Linear(in_features=64, out_features=32, bias=True)\n",
              "    (5): Dropout(p=0.3, inplace=False)\n",
              "    (6): Linear(in_features=32, out_features=16, bias=True)\n",
              "    (7): Dropout(p=0.3, inplace=False)\n",
              "    (8): Linear(in_features=16, out_features=9, bias=True)\n",
              "    (9): Tanh()\n",
              "  )\n",
              ")"
            ]
          },
          "metadata": {
            "tags": []
          },
          "execution_count": 285
        }
      ]
    },
    {
      "cell_type": "code",
      "metadata": {
        "id": "0t6NQAOB9Ef3"
      },
      "source": [
        "counter=0"
      ],
      "execution_count": null,
      "outputs": []
    },
    {
      "cell_type": "code",
      "metadata": {
        "id": "hBbggSiYLvLy"
      },
      "source": [
        "def inference_loop(epoch=1, batch_size=1, counter=0):\n",
        "  for X,Y in validation_generator:\n",
        "\n",
        "    X = X.cuda().float()\n",
        "    Y = Y.cuda().float()\n",
        "\n",
        "    #print(\"X shape: {}\".format(X.shape))\n",
        "    #print(\"Y shape: {}\".format(Y.shape))\n",
        "    affine_conv_out = affine_conv_model_inference(X, Y)\n",
        "    # print(affine_conv_out.shape)\n",
        "\n",
        "    affine_output_out = affine_output_model_inference(affine_conv_out)\n",
        "    #print(affine_output_out[0].shape)\n",
        "    #print(affine_output_out[1].shape)\n",
        "\n",
        "    #print(\"========== ============== =============\")\n",
        "    #print()\n",
        "\n",
        "    affine_tnsr = torch.cat((affine_output_out[1], affine_output_out[0]), 1)\n",
        "    theta = torch.reshape(affine_tnsr, (batch_size, 3, 4))\n",
        "\n",
        "    \n",
        "    # Suraj: Set the new theta and reshape it\n",
        "    stn_affine_inference.theta = theta\n",
        "    #print(\"========== ============== =============\")\n",
        "    #print(\"theta shape: {}\".format(theta.shape))\n",
        "    #print(theta)\n",
        "\n",
        "    # print(\"========== ============== =============\")\n",
        "    # grid = F.affine_grid(theta, (2, 1, 128, 128, 128))\n",
        "    # print(grid.shape)\n",
        "    # print(grid)\n",
        "\n",
        "    # Suraj: Added coarsely warped image, changed dvf_final calculation\n",
        "    # DVF1 shape was [batch size, 128, 128, 128, 3] --> permuted order of columns to match deformable dvf 2 [batch size, 3, 128, 128, 128]\n",
        "    coarsely_warped_image = stn_affine_inference(Y)\n",
        "    dvf_1 = stn_affine_inference.grid\n",
        "    dvf_1 = dvf_1.permute(0, 4, 1, 2, 3)\n",
        "\n",
        "    output_warped_tensor = coarsely_warped_image.detach().to(\"cpu\")\n",
        "    #dvf_1_warped_tensor = dvf_1.detach().to(\"cpu\")\n",
        "    output_warped_np = output_warped_tensor.numpy()\n",
        "    #dvf_1_warped_np = dvf_1_warped_tensor.numpy()\n",
        "\n",
        "    output_warped_nb = nb.Nifti1Image(output_warped_np[0,0,:,:,:], np.eye(4)) \n",
        "    nb.save(output_warped_nb, '/content/drive/My Drive/Image_Registration_Project/dataset_ants_resampled/' +  'output_warped_nb_' + str(counter) + '.nii.gz')\n",
        "    #dvf_1_warped_nb = nb.Nifti1Image(dvf_1_warped_np[0,:,:,:,:], np.eye(4)) \n",
        "    #nb.save(dvf_1_warped_nb, '/content/drive/My Drive/Image_Registration_Project/dataset_ants_resampled/' +  'dvf_1_warped_nb_' + str(counter) + '.nii.gz')\n",
        "\n",
        "    counter = counter + 1\n",
        "\n",
        "    if(counter > 2):\n",
        "      break;\n",
        "\n",
        "    del output_warped_tensor\n",
        "    del dvf_1\n",
        "    #del dvf_1_warped_tensor\n",
        "    del coarsely_warped_image"
      ],
      "execution_count": null,
      "outputs": []
    },
    {
      "cell_type": "code",
      "metadata": {
        "colab": {
          "base_uri": "https://localhost:8080/"
        },
        "id": "fHHZ6pzu9xf3",
        "outputId": "8a640de8-282d-453e-a129-4e9fedca0c4d"
      },
      "source": [
        "inference_loop()"
      ],
      "execution_count": null,
      "outputs": [
        {
          "output_type": "stream",
          "text": [
            "/usr/local/lib/python3.6/dist-packages/torch/nn/functional.py:3448: UserWarning: Default grid_sample and affine_grid behavior has changed to align_corners=False since 1.3.0. Please specify align_corners=True if the old behavior is desired. See the documentation of grid_sample for details.\n",
            "  warnings.warn(\"Default grid_sample and affine_grid behavior has changed \"\n",
            "/usr/local/lib/python3.6/dist-packages/torch/nn/functional.py:3385: UserWarning: Default grid_sample and affine_grid behavior has changed to align_corners=False since 1.3.0. Please specify align_corners=True if the old behavior is desired. See the documentation of grid_sample for details.\n",
            "  warnings.warn(\"Default grid_sample and affine_grid behavior has changed \"\n"
          ],
          "name": "stderr"
        }
      ]
    },
    {
      "cell_type": "code",
      "metadata": {
        "id": "4J7bNHpJ9xjW",
        "colab": {
          "base_uri": "https://localhost:8080/",
          "height": 285
        },
        "outputId": "0bcbcb46-e081-4a9d-e0c0-3b7940f4cef3"
      },
      "source": [
        "warped_img = nb.load(\"/content/drive/My Drive/Image_Registration_Project/dataset_ants_resampled/output_warped_nb_0.nii.gz\")\n",
        "warped_img_np = warped_img.dataobj\n",
        "plt.imshow(warped_img_np[:, :, 64])"
      ],
      "execution_count": null,
      "outputs": [
        {
          "output_type": "execute_result",
          "data": {
            "text/plain": [
              "<matplotlib.image.AxesImage at 0x7f0e46efe668>"
            ]
          },
          "metadata": {
            "tags": []
          },
          "execution_count": 304
        },
        {
          "output_type": "display_data",
          "data": {
            "image/png": "[encoded data removed]",
            "text/plain": [
              "<Figure size 432x288 with 1 Axes>"
            ]
          },
          "metadata": {
            "tags": [],
            "needs_background": "light"
          }
        }
      ]
    },
    {
      "cell_type": "code",
      "metadata": {
        "id": "6YlAO3pH9xdV"
      },
      "source": [
        ""
      ],
      "execution_count": null,
      "outputs": []
    },
    {
      "cell_type": "markdown",
      "metadata": {
        "id": "Adp2NcftIdXH"
      },
      "source": [
        "# Training Full model"
      ]
    },
    {
      "cell_type": "code",
      "metadata": {
        "id": "1vtfnaPOItYb"
      },
      "source": [
        "affine_conv_model = Admir_Affine_Encoder(in_channel=2, start_channel=8, num_conv_blocks=5)\n",
        "affine_conv_model.cuda()\n",
        "\n",
        "affine_output_model = Admir_Affine_Output( in_units= 2560)\n",
        "affine_output_model.cuda()\n",
        "\n",
        "\n",
        "affine_matrix = torch.from_numpy(np.array([ [ [1.0, 0.0, 0.0, 0.0], [ 0.0, 1.0, 0.0, 0.0], [0.0,  0.0, 1.0, 0.0] ] , \n",
        "                                            [ [1.0, 0.0, 0.0, 0.0], [ 0.0, 1.0, 0.0, 0.0], [0.0,  0.0, 1.0, 0.0] ]  ], dtype=\"float32\" )).cuda()\n",
        "\n",
        "\n",
        "affine_matrix_inference = torch.from_numpy(np.array([ [ [1.0, 0.0, 0.0, 0.0], [ 0.0, 1.0, 0.0, 0.0], [0.0,  0.0, 1.0, 0.0] ]  ], dtype=\"float32\" )).cuda()\n",
        "\n",
        "\n",
        "stn_affine = SpatialTransformer(size=(128, 28, 128), is_affine=True, theta=affine_matrix)\n",
        "stn_affine.cuda()\n",
        "\n",
        "# Addd deformable part\n",
        "deformable_model = Admir_Deformable_UNet(2,3,16)\n",
        "deformable_model.cuda()\n",
        "\n",
        "stn_deformable = SpatialTransformer(size=(128, 128, 128), is_affine=False)\n",
        "stn_deformable.cuda()\n",
        "\n",
        "stn_aggregation = SpatialTransformer(size=(128, 128, 128), is_affine=False)\n",
        "stn_aggregation.cuda()\n",
        "\n",
        "stn_fully_warped = SpatialTransformer(size=(128, 128, 128), is_affine=False)\n",
        "stn_fully_warped.cuda()\n",
        "\n",
        "\n",
        "lr=5e-4\n",
        "iteration=2\n",
        "alpha = beta = 1.0\n",
        "gamma = 0.5\n",
        "\n",
        "for param in stn_affine.parameters():\n",
        "  param.requires_grad = False\n",
        "  param.volatile=True\n",
        "\n",
        "for param in stn_deformable.parameters():\n",
        "  param.requires_grad = False\n",
        "  param.volatile=True\n",
        "\n",
        "for param in stn_aggregation.parameters():\n",
        "  param.requires_grad = False\n",
        "  param.volatile=True\n",
        "\n",
        "for param in stn_fully_warped.parameters():\n",
        "  param.requires_grad = False\n",
        "  param.volatile=True"
      ],
      "execution_count": 42,
      "outputs": []
    },
    {
      "cell_type": "code",
      "metadata": {
        "id": "aWSZ-bTEIxnc"
      },
      "source": [
        "similarity_loss = NormalizedCrossCorrelation()\n",
        "smooth_loss = Smoothnessloss()"
      ],
      "execution_count": 43,
      "outputs": []
    },
    {
      "cell_type": "code",
      "metadata": {
        "id": "-aLPpke-Ixqf"
      },
      "source": [
        "optimizer = torch.optim.Adam( list( affine_output_model.parameters() ) + list( affine_conv_model.parameters()) + list(deformable_model.parameters() ), lr=lr ) \n",
        "model_dir = '/content/drive/My Drive/Image_Registration_Project/fullmodel2'\n",
        "\n",
        "if not os.path.isdir(model_dir):\n",
        "  os.mkdir(model_dir)\n",
        "\n",
        "n_checkpoint=4000\n",
        "lossall = np.zeros((5,iteration))\n",
        "step=0"
      ],
      "execution_count": 44,
      "outputs": []
    },
    {
      "cell_type": "code",
      "metadata": {
        "id": "W8AHFhNsLvFU"
      },
      "source": [
        "batch_size = 2\n",
        "\n",
        "# X --> fixed and Y --> moving\n",
        "def fullmodel_one_epoch_run(epoch=1):\n",
        "  for X,Y in training_generator:\n",
        "\n",
        "    X = X.cuda().float()\n",
        "    Y = Y.cuda().float()\n",
        "\n",
        "    #print(\"X shape: {}\".format(X.shape))\n",
        "    #print(\"Y shape: {}\".format(Y.shape))\n",
        "    affine_conv_out = affine_conv_model(X, Y)\n",
        "    # print(affine_conv_out.shape)\n",
        "\n",
        "    affine_output_out = affine_output_model(affine_conv_out)\n",
        "    #print(affine_output_out[0].shape)\n",
        "    #print(affine_output_out[1].shape)\n",
        "\n",
        "    #print(\"========== ============== =============\")\n",
        "    #print()\n",
        "\n",
        "    affine_tnsr = torch.cat((affine_output_out[1], affine_output_out[0]), 1)\n",
        "    theta = torch.reshape(affine_tnsr, (batch_size, 3, 4))\n",
        "\n",
        "\n",
        "    #theta = affine_matrix - theta\n",
        "    \n",
        "    # Suraj: Set the new theta and reshape it\n",
        "    stn_affine.theta = theta\n",
        "    #print(\"========== ============== =============\")\n",
        "    #print(\"theta shape: {}\".format(theta.shape))\n",
        "    #print(theta)\n",
        "\n",
        "    # print(\"========== ============== =============\")\n",
        "    # grid = F.affine_grid(theta, (2, 1, 128, 128, 128))\n",
        "    # print(grid.shape)\n",
        "    # print(grid)\n",
        "\n",
        "    # Suraj: Added coarsely warped image, changed dvf_final calculation\n",
        "    # DVF1 shape was [batch size, 128, 128, 128, 3] --> permuted order of columns to match deformable dvf 2 [batch size, 3, 128, 128, 128]\n",
        "    coarsely_warped_image = stn_affine(Y)\n",
        "    dvf_1 = stn_affine.grid\n",
        "    dvf_1 = dvf_1.permute(0, 4, 1, 2, 3)\n",
        "\n",
        "    #print(\"======= =============== ===========\")\n",
        "    #print(\"Coarsely warped image shape: {}\".format(coarsely_warped_image.shape))\n",
        "    #print(\"dvf 1 shape: {}\".format(dvf_1.shape))\n",
        "    #print(\"=========== ============= ==========\")\n",
        "    #print()\n",
        "\n",
        "    affine_loss = similarity_loss(X, coarsely_warped_image) \n",
        "    # optimizer.zero_grad()           # clear gradients for this training step\n",
        "    # affine_loss.backward()                 # backpropagation, compute gradients\n",
        "    # optimizer.step() \n",
        "\n",
        "    \n",
        "\n",
        "    # -----------------------Deformable part-----------------------\n",
        "\n",
        "    # print(\" ==== Starting deformable warping =======\")\n",
        "    dvf_2 = deformable_model(X, coarsely_warped_image) \n",
        "    # print(\"deformable field dvf 2 shape: {}\".format(dvf_2.shape))\n",
        "    # print(\"========== ============== =============\")\n",
        "    # print()\n",
        "\n",
        "    # print(\" interim warp \")\n",
        "    interim_warp_field = stn_aggregation(dvf_1,dvf_2)\n",
        "    # print(\"interim warp field shape: {}\".format(interim_warp_field.shape))\n",
        "    # print(\"========== ============== =============\")\n",
        "    # print()\n",
        "\n",
        "  \n",
        "    dvf_final = dvf_2 + interim_warp_field\n",
        "    # print(\"final dvf shape: {}\".format(dvf_final.shape))\n",
        "    # print(\"========== ============== =============\")\n",
        "    # print()\n",
        "\n",
        "    fully_warped_image =  stn_fully_warped(Y,dvf_final)  #final fully warped image , i.e. equation 4 of the image\n",
        "    # print(\"final warped image shape: {}\".format(fully_warped_image.shape))\n",
        "    # print(\"========== ============== =============\")\n",
        "    # print()\n",
        "\n",
        "    deformable_loss = similarity_loss(X, fully_warped_image) \n",
        "    # optimizer.zero_grad()                      \n",
        "    # deformable_loss.backward()               \n",
        "    # optimizer.step() \n",
        "     \n",
        "    smooth_loss = smoothness_regularizer(dvf_2)\n",
        "\n",
        "    total_loss = (- alpha * affine_loss )+ ( - beta * deformable_loss ) + ( gamma * smooth_loss )\n",
        "    \n",
        "    optimizer.zero_grad()          \n",
        "    total_loss.backward()           \n",
        "    optimizer.step() \n",
        "\n",
        "    del X\n",
        "    del Y\n",
        "    del coarsely_warped_image\n",
        "    del dvf_1\n",
        "    del dvf_2\n",
        "    del dvf_final\n",
        "    del fully_warped_image\n",
        "  \n",
        "\n",
        "\n",
        "\n",
        "  modelname = model_dir + '/' + \"complete_admir_\" + str(epoch) + '.pth'\n",
        "  torch.save({\"affine_conv_model\": affine_conv_model.state_dict(), \"affine_output_model\": affine_output_model.state_dict(),\n",
        "              \"deformable_model\": deformable_model.state_dict()}, modelname)\n",
        "  print(\"epoch: {}\".format(epoch))\n",
        "  print(\"Losses: {}, {} and {}\".format(affine_loss, deformable_loss, smooth_loss))\n",
        "  print(\"Saving model checkpoints\")\n",
        "  print(\"======= =============== ===========\")\n",
        "  print()"
      ],
      "execution_count": 46,
      "outputs": []
    },
    {
      "cell_type": "code",
      "metadata": {
        "id": "c8HC_8DeLvIR",
        "colab": {
          "base_uri": "https://localhost:8080/"
        },
        "outputId": "3ee5edde-1521-4e1a-bd9d-68ee869c3a89"
      },
      "source": [
        "epochs = 20\n",
        "for e in range(epochs):\n",
        "  fullmodel_one_epoch_run(epoch=e)"
      ],
      "execution_count": 47,
      "outputs": [
        {
          "output_type": "stream",
          "text": [
            "/usr/local/lib/python3.6/dist-packages/torch/nn/functional.py:3448: UserWarning: Default grid_sample and affine_grid behavior has changed to align_corners=False since 1.3.0. Please specify align_corners=True if the old behavior is desired. See the documentation of grid_sample for details.\n",
            "  warnings.warn(\"Default grid_sample and affine_grid behavior has changed \"\n",
            "/usr/local/lib/python3.6/dist-packages/torch/nn/functional.py:3385: UserWarning: Default grid_sample and affine_grid behavior has changed to align_corners=False since 1.3.0. Please specify align_corners=True if the old behavior is desired. See the documentation of grid_sample for details.\n",
            "  warnings.warn(\"Default grid_sample and affine_grid behavior has changed \"\n"
          ],
          "name": "stderr"
        },
        {
          "output_type": "stream",
          "text": [
            "d2 torch.Size([2, 16, 128, 128, 128])\n",
            "d2 torch.Size([2, 16, 128, 128, 128])\n",
            "d2 torch.Size([2, 16, 128, 128, 128])\n",
            "d2 torch.Size([2, 16, 128, 128, 128])\n",
            "d2 torch.Size([2, 16, 128, 128, 128])\n",
            "d2 torch.Size([2, 16, 128, 128, 128])\n",
            "d2 torch.Size([2, 16, 128, 128, 128])\n",
            "d2 torch.Size([2, 16, 128, 128, 128])\n",
            "d2 torch.Size([2, 16, 128, 128, 128])\n",
            "d2 torch.Size([2, 16, 128, 128, 128])\n",
            "d2 torch.Size([2, 16, 128, 128, 128])\n",
            "d2 torch.Size([2, 16, 128, 128, 128])\n",
            "d2 torch.Size([2, 16, 128, 128, 128])\n",
            "d2 torch.Size([2, 16, 128, 128, 128])\n",
            "d2 torch.Size([2, 16, 128, 128, 128])\n",
            "d2 torch.Size([2, 16, 128, 128, 128])\n",
            "d2 torch.Size([2, 16, 128, 128, 128])\n",
            "d2 torch.Size([2, 16, 128, 128, 128])\n",
            "d2 torch.Size([2, 16, 128, 128, 128])\n",
            "d2 torch.Size([2, 16, 128, 128, 128])\n",
            "d2 torch.Size([2, 16, 128, 128, 128])\n",
            "d2 torch.Size([2, 16, 128, 128, 128])\n",
            "d2 torch.Size([2, 16, 128, 128, 128])\n",
            "d2 torch.Size([2, 16, 128, 128, 128])\n",
            "d2 torch.Size([2, 16, 128, 128, 128])\n",
            "epoch: 0\n",
            "Losses: 0.07448801398277283, 0.7602592706680298 and 2912.27490234375\n",
            "Saving model checkpoints\n",
            "======= =============== ===========\n",
            "\n",
            "d2 torch.Size([2, 16, 128, 128, 128])\n",
            "d2 torch.Size([2, 16, 128, 128, 128])\n",
            "d2 torch.Size([2, 16, 128, 128, 128])\n",
            "d2 torch.Size([2, 16, 128, 128, 128])\n",
            "d2 torch.Size([2, 16, 128, 128, 128])\n",
            "d2 torch.Size([2, 16, 128, 128, 128])\n",
            "d2 torch.Size([2, 16, 128, 128, 128])\n",
            "d2 torch.Size([2, 16, 128, 128, 128])\n",
            "d2 torch.Size([2, 16, 128, 128, 128])\n",
            "d2 torch.Size([2, 16, 128, 128, 128])\n",
            "d2 torch.Size([2, 16, 128, 128, 128])\n",
            "d2 torch.Size([2, 16, 128, 128, 128])\n",
            "d2 torch.Size([2, 16, 128, 128, 128])\n",
            "d2 torch.Size([2, 16, 128, 128, 128])\n",
            "d2 torch.Size([2, 16, 128, 128, 128])\n",
            "d2 torch.Size([2, 16, 128, 128, 128])\n",
            "d2 torch.Size([2, 16, 128, 128, 128])\n",
            "d2 torch.Size([2, 16, 128, 128, 128])\n",
            "d2 torch.Size([2, 16, 128, 128, 128])\n",
            "d2 torch.Size([2, 16, 128, 128, 128])\n",
            "d2 torch.Size([2, 16, 128, 128, 128])\n",
            "d2 torch.Size([2, 16, 128, 128, 128])\n",
            "d2 torch.Size([2, 16, 128, 128, 128])\n",
            "d2 torch.Size([2, 16, 128, 128, 128])\n",
            "d2 torch.Size([2, 16, 128, 128, 128])\n",
            "epoch: 1\n",
            "Losses: 1.0, 0.7611308693885803 and 2111.57421875\n",
            "Saving model checkpoints\n",
            "======= =============== ===========\n",
            "\n",
            "d2 torch.Size([2, 16, 128, 128, 128])\n",
            "d2 torch.Size([2, 16, 128, 128, 128])\n",
            "d2 torch.Size([2, 16, 128, 128, 128])\n",
            "d2 torch.Size([2, 16, 128, 128, 128])\n",
            "d2 torch.Size([2, 16, 128, 128, 128])\n",
            "d2 torch.Size([2, 16, 128, 128, 128])\n",
            "d2 torch.Size([2, 16, 128, 128, 128])\n",
            "d2 torch.Size([2, 16, 128, 128, 128])\n",
            "d2 torch.Size([2, 16, 128, 128, 128])\n",
            "d2 torch.Size([2, 16, 128, 128, 128])\n",
            "d2 torch.Size([2, 16, 128, 128, 128])\n",
            "d2 torch.Size([2, 16, 128, 128, 128])\n",
            "d2 torch.Size([2, 16, 128, 128, 128])\n",
            "d2 torch.Size([2, 16, 128, 128, 128])\n",
            "d2 torch.Size([2, 16, 128, 128, 128])\n",
            "d2 torch.Size([2, 16, 128, 128, 128])\n",
            "d2 torch.Size([2, 16, 128, 128, 128])\n",
            "d2 torch.Size([2, 16, 128, 128, 128])\n",
            "d2 torch.Size([2, 16, 128, 128, 128])\n",
            "d2 torch.Size([2, 16, 128, 128, 128])\n",
            "d2 torch.Size([2, 16, 128, 128, 128])\n",
            "d2 torch.Size([2, 16, 128, 128, 128])\n",
            "d2 torch.Size([2, 16, 128, 128, 128])\n",
            "d2 torch.Size([2, 16, 128, 128, 128])\n",
            "d2 torch.Size([2, 16, 128, 128, 128])\n",
            "epoch: 2\n",
            "Losses: 1.0, 0.7631673216819763 and 851.4795532226562\n",
            "Saving model checkpoints\n",
            "======= =============== ===========\n",
            "\n",
            "d2 torch.Size([2, 16, 128, 128, 128])\n",
            "d2 torch.Size([2, 16, 128, 128, 128])\n",
            "d2 torch.Size([2, 16, 128, 128, 128])\n",
            "d2 torch.Size([2, 16, 128, 128, 128])\n",
            "d2 torch.Size([2, 16, 128, 128, 128])\n",
            "d2 torch.Size([2, 16, 128, 128, 128])\n",
            "d2 torch.Size([2, 16, 128, 128, 128])\n",
            "d2 torch.Size([2, 16, 128, 128, 128])\n",
            "d2 torch.Size([2, 16, 128, 128, 128])\n",
            "d2 torch.Size([2, 16, 128, 128, 128])\n",
            "d2 torch.Size([2, 16, 128, 128, 128])\n",
            "d2 torch.Size([2, 16, 128, 128, 128])\n",
            "d2 torch.Size([2, 16, 128, 128, 128])\n",
            "d2 torch.Size([2, 16, 128, 128, 128])\n",
            "d2 torch.Size([2, 16, 128, 128, 128])\n",
            "d2 torch.Size([2, 16, 128, 128, 128])\n",
            "d2 torch.Size([2, 16, 128, 128, 128])\n",
            "d2 torch.Size([2, 16, 128, 128, 128])\n",
            "d2 torch.Size([2, 16, 128, 128, 128])\n",
            "d2 torch.Size([2, 16, 128, 128, 128])\n",
            "d2 torch.Size([2, 16, 128, 128, 128])\n",
            "d2 torch.Size([2, 16, 128, 128, 128])\n",
            "d2 torch.Size([2, 16, 128, 128, 128])\n",
            "d2 torch.Size([2, 16, 128, 128, 128])\n",
            "d2 torch.Size([2, 16, 128, 128, 128])\n",
            "epoch: 3\n",
            "Losses: 1.0, 0.7638438940048218 and 515.9009399414062\n",
            "Saving model checkpoints\n",
            "======= =============== ===========\n",
            "\n",
            "d2 torch.Size([2, 16, 128, 128, 128])\n",
            "d2 torch.Size([2, 16, 128, 128, 128])\n",
            "d2 torch.Size([2, 16, 128, 128, 128])\n",
            "d2 torch.Size([2, 16, 128, 128, 128])\n",
            "d2 torch.Size([2, 16, 128, 128, 128])\n",
            "d2 torch.Size([2, 16, 128, 128, 128])\n",
            "d2 torch.Size([2, 16, 128, 128, 128])\n",
            "d2 torch.Size([2, 16, 128, 128, 128])\n",
            "d2 torch.Size([2, 16, 128, 128, 128])\n",
            "d2 torch.Size([2, 16, 128, 128, 128])\n",
            "d2 torch.Size([2, 16, 128, 128, 128])\n",
            "d2 torch.Size([2, 16, 128, 128, 128])\n",
            "d2 torch.Size([2, 16, 128, 128, 128])\n",
            "d2 torch.Size([2, 16, 128, 128, 128])\n",
            "d2 torch.Size([2, 16, 128, 128, 128])\n",
            "d2 torch.Size([2, 16, 128, 128, 128])\n",
            "d2 torch.Size([2, 16, 128, 128, 128])\n",
            "d2 torch.Size([2, 16, 128, 128, 128])\n",
            "d2 torch.Size([2, 16, 128, 128, 128])\n",
            "d2 torch.Size([2, 16, 128, 128, 128])\n",
            "d2 torch.Size([2, 16, 128, 128, 128])\n",
            "d2 torch.Size([2, 16, 128, 128, 128])\n",
            "d2 torch.Size([2, 16, 128, 128, 128])\n",
            "d2 torch.Size([2, 16, 128, 128, 128])\n",
            "d2 torch.Size([2, 16, 128, 128, 128])\n",
            "epoch: 4\n",
            "Losses: 1.0, 0.7641667127609253 and 364.67724609375\n",
            "Saving model checkpoints\n",
            "======= =============== ===========\n",
            "\n",
            "d2 torch.Size([2, 16, 128, 128, 128])\n",
            "d2 torch.Size([2, 16, 128, 128, 128])\n",
            "d2 torch.Size([2, 16, 128, 128, 128])\n",
            "d2 torch.Size([2, 16, 128, 128, 128])\n",
            "d2 torch.Size([2, 16, 128, 128, 128])\n",
            "d2 torch.Size([2, 16, 128, 128, 128])\n",
            "d2 torch.Size([2, 16, 128, 128, 128])\n",
            "d2 torch.Size([2, 16, 128, 128, 128])\n",
            "d2 torch.Size([2, 16, 128, 128, 128])\n",
            "d2 torch.Size([2, 16, 128, 128, 128])\n",
            "d2 torch.Size([2, 16, 128, 128, 128])\n",
            "d2 torch.Size([2, 16, 128, 128, 128])\n",
            "d2 torch.Size([2, 16, 128, 128, 128])\n",
            "d2 torch.Size([2, 16, 128, 128, 128])\n",
            "d2 torch.Size([2, 16, 128, 128, 128])\n",
            "d2 torch.Size([2, 16, 128, 128, 128])\n",
            "d2 torch.Size([2, 16, 128, 128, 128])\n",
            "d2 torch.Size([2, 16, 128, 128, 128])\n",
            "d2 torch.Size([2, 16, 128, 128, 128])\n",
            "d2 torch.Size([2, 16, 128, 128, 128])\n",
            "d2 torch.Size([2, 16, 128, 128, 128])\n",
            "d2 torch.Size([2, 16, 128, 128, 128])\n",
            "d2 torch.Size([2, 16, 128, 128, 128])\n",
            "d2 torch.Size([2, 16, 128, 128, 128])\n",
            "d2 torch.Size([2, 16, 128, 128, 128])\n",
            "epoch: 5\n",
            "Losses: 1.0, 0.7642292976379395 and 286.5337829589844\n",
            "Saving model checkpoints\n",
            "======= =============== ===========\n",
            "\n",
            "d2 torch.Size([2, 16, 128, 128, 128])\n",
            "d2 torch.Size([2, 16, 128, 128, 128])\n",
            "d2 torch.Size([2, 16, 128, 128, 128])\n",
            "d2 torch.Size([2, 16, 128, 128, 128])\n",
            "d2 torch.Size([2, 16, 128, 128, 128])\n",
            "d2 torch.Size([2, 16, 128, 128, 128])\n",
            "d2 torch.Size([2, 16, 128, 128, 128])\n",
            "d2 torch.Size([2, 16, 128, 128, 128])\n",
            "d2 torch.Size([2, 16, 128, 128, 128])\n",
            "d2 torch.Size([2, 16, 128, 128, 128])\n",
            "d2 torch.Size([2, 16, 128, 128, 128])\n",
            "d2 torch.Size([2, 16, 128, 128, 128])\n",
            "d2 torch.Size([2, 16, 128, 128, 128])\n",
            "d2 torch.Size([2, 16, 128, 128, 128])\n",
            "d2 torch.Size([2, 16, 128, 128, 128])\n",
            "d2 torch.Size([2, 16, 128, 128, 128])\n",
            "d2 torch.Size([2, 16, 128, 128, 128])\n",
            "d2 torch.Size([2, 16, 128, 128, 128])\n",
            "d2 torch.Size([2, 16, 128, 128, 128])\n",
            "d2 torch.Size([2, 16, 128, 128, 128])\n",
            "d2 torch.Size([2, 16, 128, 128, 128])\n",
            "d2 torch.Size([2, 16, 128, 128, 128])\n",
            "d2 torch.Size([2, 16, 128, 128, 128])\n",
            "d2 torch.Size([2, 16, 128, 128, 128])\n",
            "d2 torch.Size([2, 16, 128, 128, 128])\n",
            "epoch: 6\n",
            "Losses: 1.0, 0.7642542123794556 and 238.50936889648438\n",
            "Saving model checkpoints\n",
            "======= =============== ===========\n",
            "\n",
            "d2 torch.Size([2, 16, 128, 128, 128])\n",
            "d2 torch.Size([2, 16, 128, 128, 128])\n",
            "d2 torch.Size([2, 16, 128, 128, 128])\n",
            "d2 torch.Size([2, 16, 128, 128, 128])\n",
            "d2 torch.Size([2, 16, 128, 128, 128])\n",
            "d2 torch.Size([2, 16, 128, 128, 128])\n",
            "d2 torch.Size([2, 16, 128, 128, 128])\n",
            "d2 torch.Size([2, 16, 128, 128, 128])\n",
            "d2 torch.Size([2, 16, 128, 128, 128])\n",
            "d2 torch.Size([2, 16, 128, 128, 128])\n",
            "d2 torch.Size([2, 16, 128, 128, 128])\n",
            "d2 torch.Size([2, 16, 128, 128, 128])\n",
            "d2 torch.Size([2, 16, 128, 128, 128])\n",
            "d2 torch.Size([2, 16, 128, 128, 128])\n",
            "d2 torch.Size([2, 16, 128, 128, 128])\n",
            "d2 torch.Size([2, 16, 128, 128, 128])\n",
            "d2 torch.Size([2, 16, 128, 128, 128])\n",
            "d2 torch.Size([2, 16, 128, 128, 128])\n",
            "d2 torch.Size([2, 16, 128, 128, 128])\n",
            "d2 torch.Size([2, 16, 128, 128, 128])\n",
            "d2 torch.Size([2, 16, 128, 128, 128])\n",
            "d2 torch.Size([2, 16, 128, 128, 128])\n",
            "d2 torch.Size([2, 16, 128, 128, 128])\n",
            "d2 torch.Size([2, 16, 128, 128, 128])\n",
            "d2 torch.Size([2, 16, 128, 128, 128])\n",
            "epoch: 7\n",
            "Losses: 1.0, 0.7642626762390137 and 207.81243896484375\n",
            "Saving model checkpoints\n",
            "======= =============== ===========\n",
            "\n",
            "d2 torch.Size([2, 16, 128, 128, 128])\n",
            "d2 torch.Size([2, 16, 128, 128, 128])\n",
            "d2 torch.Size([2, 16, 128, 128, 128])\n",
            "d2 torch.Size([2, 16, 128, 128, 128])\n",
            "d2 torch.Size([2, 16, 128, 128, 128])\n",
            "d2 torch.Size([2, 16, 128, 128, 128])\n",
            "d2 torch.Size([2, 16, 128, 128, 128])\n",
            "d2 torch.Size([2, 16, 128, 128, 128])\n",
            "d2 torch.Size([2, 16, 128, 128, 128])\n",
            "d2 torch.Size([2, 16, 128, 128, 128])\n",
            "d2 torch.Size([2, 16, 128, 128, 128])\n",
            "d2 torch.Size([2, 16, 128, 128, 128])\n",
            "d2 torch.Size([2, 16, 128, 128, 128])\n",
            "d2 torch.Size([2, 16, 128, 128, 128])\n",
            "d2 torch.Size([2, 16, 128, 128, 128])\n",
            "d2 torch.Size([2, 16, 128, 128, 128])\n",
            "d2 torch.Size([2, 16, 128, 128, 128])\n",
            "d2 torch.Size([2, 16, 128, 128, 128])\n",
            "d2 torch.Size([2, 16, 128, 128, 128])\n",
            "d2 torch.Size([2, 16, 128, 128, 128])\n",
            "d2 torch.Size([2, 16, 128, 128, 128])\n",
            "d2 torch.Size([2, 16, 128, 128, 128])\n",
            "d2 torch.Size([2, 16, 128, 128, 128])\n",
            "d2 torch.Size([2, 16, 128, 128, 128])\n",
            "d2 torch.Size([2, 16, 128, 128, 128])\n",
            "epoch: 8\n",
            "Losses: 1.0, 0.7642748355865479 and 184.347900390625\n",
            "Saving model checkpoints\n",
            "======= =============== ===========\n",
            "\n",
            "d2 torch.Size([2, 16, 128, 128, 128])\n",
            "d2 torch.Size([2, 16, 128, 128, 128])\n",
            "d2 torch.Size([2, 16, 128, 128, 128])\n",
            "d2 torch.Size([2, 16, 128, 128, 128])\n",
            "d2 torch.Size([2, 16, 128, 128, 128])\n",
            "d2 torch.Size([2, 16, 128, 128, 128])\n",
            "d2 torch.Size([2, 16, 128, 128, 128])\n",
            "d2 torch.Size([2, 16, 128, 128, 128])\n",
            "d2 torch.Size([2, 16, 128, 128, 128])\n",
            "d2 torch.Size([2, 16, 128, 128, 128])\n",
            "d2 torch.Size([2, 16, 128, 128, 128])\n",
            "d2 torch.Size([2, 16, 128, 128, 128])\n",
            "d2 torch.Size([2, 16, 128, 128, 128])\n",
            "d2 torch.Size([2, 16, 128, 128, 128])\n",
            "d2 torch.Size([2, 16, 128, 128, 128])\n",
            "d2 torch.Size([2, 16, 128, 128, 128])\n",
            "d2 torch.Size([2, 16, 128, 128, 128])\n",
            "d2 torch.Size([2, 16, 128, 128, 128])\n",
            "d2 torch.Size([2, 16, 128, 128, 128])\n",
            "d2 torch.Size([2, 16, 128, 128, 128])\n",
            "d2 torch.Size([2, 16, 128, 128, 128])\n",
            "d2 torch.Size([2, 16, 128, 128, 128])\n",
            "d2 torch.Size([2, 16, 128, 128, 128])\n",
            "d2 torch.Size([2, 16, 128, 128, 128])\n",
            "d2 torch.Size([2, 16, 128, 128, 128])\n",
            "epoch: 9\n",
            "Losses: 1.0, 0.7642895579338074 and 165.70391845703125\n",
            "Saving model checkpoints\n",
            "======= =============== ===========\n",
            "\n",
            "d2 torch.Size([2, 16, 128, 128, 128])\n",
            "d2 torch.Size([2, 16, 128, 128, 128])\n",
            "d2 torch.Size([2, 16, 128, 128, 128])\n",
            "d2 torch.Size([2, 16, 128, 128, 128])\n",
            "d2 torch.Size([2, 16, 128, 128, 128])\n",
            "d2 torch.Size([2, 16, 128, 128, 128])\n",
            "d2 torch.Size([2, 16, 128, 128, 128])\n",
            "d2 torch.Size([2, 16, 128, 128, 128])\n",
            "d2 torch.Size([2, 16, 128, 128, 128])\n",
            "d2 torch.Size([2, 16, 128, 128, 128])\n",
            "d2 torch.Size([2, 16, 128, 128, 128])\n",
            "d2 torch.Size([2, 16, 128, 128, 128])\n",
            "d2 torch.Size([2, 16, 128, 128, 128])\n",
            "d2 torch.Size([2, 16, 128, 128, 128])\n",
            "d2 torch.Size([2, 16, 128, 128, 128])\n",
            "d2 torch.Size([2, 16, 128, 128, 128])\n",
            "d2 torch.Size([2, 16, 128, 128, 128])\n",
            "d2 torch.Size([2, 16, 128, 128, 128])\n",
            "d2 torch.Size([2, 16, 128, 128, 128])\n",
            "d2 torch.Size([2, 16, 128, 128, 128])\n",
            "d2 torch.Size([2, 16, 128, 128, 128])\n",
            "d2 torch.Size([2, 16, 128, 128, 128])\n",
            "d2 torch.Size([2, 16, 128, 128, 128])\n",
            "d2 torch.Size([2, 16, 128, 128, 128])\n",
            "d2 torch.Size([2, 16, 128, 128, 128])\n",
            "epoch: 10\n",
            "Losses: 1.0, 0.7642978429794312 and 151.07196044921875\n",
            "Saving model checkpoints\n",
            "======= =============== ===========\n",
            "\n",
            "d2 torch.Size([2, 16, 128, 128, 128])\n",
            "d2 torch.Size([2, 16, 128, 128, 128])\n",
            "d2 torch.Size([2, 16, 128, 128, 128])\n",
            "d2 torch.Size([2, 16, 128, 128, 128])\n",
            "d2 torch.Size([2, 16, 128, 128, 128])\n",
            "d2 torch.Size([2, 16, 128, 128, 128])\n",
            "d2 torch.Size([2, 16, 128, 128, 128])\n",
            "d2 torch.Size([2, 16, 128, 128, 128])\n",
            "d2 torch.Size([2, 16, 128, 128, 128])\n",
            "d2 torch.Size([2, 16, 128, 128, 128])\n",
            "d2 torch.Size([2, 16, 128, 128, 128])\n",
            "d2 torch.Size([2, 16, 128, 128, 128])\n",
            "d2 torch.Size([2, 16, 128, 128, 128])\n",
            "d2 torch.Size([2, 16, 128, 128, 128])\n",
            "d2 torch.Size([2, 16, 128, 128, 128])\n",
            "d2 torch.Size([2, 16, 128, 128, 128])\n",
            "d2 torch.Size([2, 16, 128, 128, 128])\n",
            "d2 torch.Size([2, 16, 128, 128, 128])\n",
            "d2 torch.Size([2, 16, 128, 128, 128])\n",
            "d2 torch.Size([2, 16, 128, 128, 128])\n",
            "d2 torch.Size([2, 16, 128, 128, 128])\n",
            "d2 torch.Size([2, 16, 128, 128, 128])\n",
            "d2 torch.Size([2, 16, 128, 128, 128])\n",
            "d2 torch.Size([2, 16, 128, 128, 128])\n",
            "d2 torch.Size([2, 16, 128, 128, 128])\n",
            "epoch: 11\n",
            "Losses: 1.0, 0.7643023729324341 and 138.51478576660156\n",
            "Saving model checkpoints\n",
            "======= =============== ===========\n",
            "\n",
            "d2 torch.Size([2, 16, 128, 128, 128])\n",
            "d2 torch.Size([2, 16, 128, 128, 128])\n",
            "d2 torch.Size([2, 16, 128, 128, 128])\n",
            "d2 torch.Size([2, 16, 128, 128, 128])\n",
            "d2 torch.Size([2, 16, 128, 128, 128])\n",
            "d2 torch.Size([2, 16, 128, 128, 128])\n",
            "d2 torch.Size([2, 16, 128, 128, 128])\n",
            "d2 torch.Size([2, 16, 128, 128, 128])\n",
            "d2 torch.Size([2, 16, 128, 128, 128])\n",
            "d2 torch.Size([2, 16, 128, 128, 128])\n",
            "d2 torch.Size([2, 16, 128, 128, 128])\n",
            "d2 torch.Size([2, 16, 128, 128, 128])\n",
            "d2 torch.Size([2, 16, 128, 128, 128])\n",
            "d2 torch.Size([2, 16, 128, 128, 128])\n",
            "d2 torch.Size([2, 16, 128, 128, 128])\n",
            "d2 torch.Size([2, 16, 128, 128, 128])\n",
            "d2 torch.Size([2, 16, 128, 128, 128])\n",
            "d2 torch.Size([2, 16, 128, 128, 128])\n",
            "d2 torch.Size([2, 16, 128, 128, 128])\n",
            "d2 torch.Size([2, 16, 128, 128, 128])\n",
            "d2 torch.Size([2, 16, 128, 128, 128])\n",
            "d2 torch.Size([2, 16, 128, 128, 128])\n",
            "d2 torch.Size([2, 16, 128, 128, 128])\n",
            "d2 torch.Size([2, 16, 128, 128, 128])\n",
            "d2 torch.Size([2, 16, 128, 128, 128])\n",
            "epoch: 12\n",
            "Losses: 1.0, 0.7643089294433594 and 127.13270568847656\n",
            "Saving model checkpoints\n",
            "======= =============== ===========\n",
            "\n",
            "d2 torch.Size([2, 16, 128, 128, 128])\n",
            "d2 torch.Size([2, 16, 128, 128, 128])\n",
            "d2 torch.Size([2, 16, 128, 128, 128])\n",
            "d2 torch.Size([2, 16, 128, 128, 128])\n",
            "d2 torch.Size([2, 16, 128, 128, 128])\n",
            "d2 torch.Size([2, 16, 128, 128, 128])\n",
            "d2 torch.Size([2, 16, 128, 128, 128])\n",
            "d2 torch.Size([2, 16, 128, 128, 128])\n",
            "d2 torch.Size([2, 16, 128, 128, 128])\n",
            "d2 torch.Size([2, 16, 128, 128, 128])\n",
            "d2 torch.Size([2, 16, 128, 128, 128])\n",
            "d2 torch.Size([2, 16, 128, 128, 128])\n",
            "d2 torch.Size([2, 16, 128, 128, 128])\n",
            "d2 torch.Size([2, 16, 128, 128, 128])\n",
            "d2 torch.Size([2, 16, 128, 128, 128])\n",
            "d2 torch.Size([2, 16, 128, 128, 128])\n",
            "d2 torch.Size([2, 16, 128, 128, 128])\n",
            "d2 torch.Size([2, 16, 128, 128, 128])\n",
            "d2 torch.Size([2, 16, 128, 128, 128])\n",
            "d2 torch.Size([2, 16, 128, 128, 128])\n",
            "d2 torch.Size([2, 16, 128, 128, 128])\n",
            "d2 torch.Size([2, 16, 128, 128, 128])\n",
            "d2 torch.Size([2, 16, 128, 128, 128])\n",
            "d2 torch.Size([2, 16, 128, 128, 128])\n",
            "d2 torch.Size([2, 16, 128, 128, 128])\n",
            "epoch: 13\n",
            "Losses: 1.0, 0.7643129825592041 and 117.86740112304688\n",
            "Saving model checkpoints\n",
            "======= =============== ===========\n",
            "\n",
            "d2 torch.Size([2, 16, 128, 128, 128])\n",
            "d2 torch.Size([2, 16, 128, 128, 128])\n",
            "d2 torch.Size([2, 16, 128, 128, 128])\n",
            "d2 torch.Size([2, 16, 128, 128, 128])\n",
            "d2 torch.Size([2, 16, 128, 128, 128])\n",
            "d2 torch.Size([2, 16, 128, 128, 128])\n",
            "d2 torch.Size([2, 16, 128, 128, 128])\n",
            "d2 torch.Size([2, 16, 128, 128, 128])\n",
            "d2 torch.Size([2, 16, 128, 128, 128])\n",
            "d2 torch.Size([2, 16, 128, 128, 128])\n",
            "d2 torch.Size([2, 16, 128, 128, 128])\n",
            "d2 torch.Size([2, 16, 128, 128, 128])\n",
            "d2 torch.Size([2, 16, 128, 128, 128])\n",
            "d2 torch.Size([2, 16, 128, 128, 128])\n",
            "d2 torch.Size([2, 16, 128, 128, 128])\n",
            "d2 torch.Size([2, 16, 128, 128, 128])\n",
            "d2 torch.Size([2, 16, 128, 128, 128])\n",
            "d2 torch.Size([2, 16, 128, 128, 128])\n",
            "d2 torch.Size([2, 16, 128, 128, 128])\n",
            "d2 torch.Size([2, 16, 128, 128, 128])\n",
            "d2 torch.Size([2, 16, 128, 128, 128])\n",
            "d2 torch.Size([2, 16, 128, 128, 128])\n",
            "d2 torch.Size([2, 16, 128, 128, 128])\n",
            "d2 torch.Size([2, 16, 128, 128, 128])\n",
            "d2 torch.Size([2, 16, 128, 128, 128])\n",
            "epoch: 14\n",
            "Losses: 1.0, 0.7643170356750488 and 110.63320922851562\n",
            "Saving model checkpoints\n",
            "======= =============== ===========\n",
            "\n",
            "d2 torch.Size([2, 16, 128, 128, 128])\n",
            "d2 torch.Size([2, 16, 128, 128, 128])\n",
            "d2 torch.Size([2, 16, 128, 128, 128])\n",
            "d2 torch.Size([2, 16, 128, 128, 128])\n",
            "d2 torch.Size([2, 16, 128, 128, 128])\n",
            "d2 torch.Size([2, 16, 128, 128, 128])\n",
            "d2 torch.Size([2, 16, 128, 128, 128])\n",
            "d2 torch.Size([2, 16, 128, 128, 128])\n",
            "d2 torch.Size([2, 16, 128, 128, 128])\n",
            "d2 torch.Size([2, 16, 128, 128, 128])\n",
            "d2 torch.Size([2, 16, 128, 128, 128])\n",
            "d2 torch.Size([2, 16, 128, 128, 128])\n",
            "d2 torch.Size([2, 16, 128, 128, 128])\n",
            "d2 torch.Size([2, 16, 128, 128, 128])\n",
            "d2 torch.Size([2, 16, 128, 128, 128])\n",
            "d2 torch.Size([2, 16, 128, 128, 128])\n",
            "d2 torch.Size([2, 16, 128, 128, 128])\n",
            "d2 torch.Size([2, 16, 128, 128, 128])\n",
            "d2 torch.Size([2, 16, 128, 128, 128])\n",
            "d2 torch.Size([2, 16, 128, 128, 128])\n",
            "d2 torch.Size([2, 16, 128, 128, 128])\n",
            "d2 torch.Size([2, 16, 128, 128, 128])\n",
            "d2 torch.Size([2, 16, 128, 128, 128])\n",
            "d2 torch.Size([2, 16, 128, 128, 128])\n",
            "d2 torch.Size([2, 16, 128, 128, 128])\n",
            "epoch: 15\n",
            "Losses: 1.0, 0.7643195390701294 and 103.01820373535156\n",
            "Saving model checkpoints\n",
            "======= =============== ===========\n",
            "\n",
            "d2 torch.Size([2, 16, 128, 128, 128])\n",
            "d2 torch.Size([2, 16, 128, 128, 128])\n",
            "d2 torch.Size([2, 16, 128, 128, 128])\n",
            "d2 torch.Size([2, 16, 128, 128, 128])\n",
            "d2 torch.Size([2, 16, 128, 128, 128])\n",
            "d2 torch.Size([2, 16, 128, 128, 128])\n",
            "d2 torch.Size([2, 16, 128, 128, 128])\n",
            "d2 torch.Size([2, 16, 128, 128, 128])\n",
            "d2 torch.Size([2, 16, 128, 128, 128])\n",
            "d2 torch.Size([2, 16, 128, 128, 128])\n",
            "d2 torch.Size([2, 16, 128, 128, 128])\n",
            "d2 torch.Size([2, 16, 128, 128, 128])\n",
            "d2 torch.Size([2, 16, 128, 128, 128])\n",
            "d2 torch.Size([2, 16, 128, 128, 128])\n",
            "d2 torch.Size([2, 16, 128, 128, 128])\n",
            "d2 torch.Size([2, 16, 128, 128, 128])\n",
            "d2 torch.Size([2, 16, 128, 128, 128])\n",
            "d2 torch.Size([2, 16, 128, 128, 128])\n",
            "d2 torch.Size([2, 16, 128, 128, 128])\n",
            "d2 torch.Size([2, 16, 128, 128, 128])\n",
            "d2 torch.Size([2, 16, 128, 128, 128])\n",
            "d2 torch.Size([2, 16, 128, 128, 128])\n",
            "d2 torch.Size([2, 16, 128, 128, 128])\n",
            "d2 torch.Size([2, 16, 128, 128, 128])\n",
            "d2 torch.Size([2, 16, 128, 128, 128])\n",
            "epoch: 16\n",
            "Losses: 1.0, 0.7643231153488159 and 96.394287109375\n",
            "Saving model checkpoints\n",
            "======= =============== ===========\n",
            "\n",
            "d2 torch.Size([2, 16, 128, 128, 128])\n",
            "d2 torch.Size([2, 16, 128, 128, 128])\n",
            "d2 torch.Size([2, 16, 128, 128, 128])\n",
            "d2 torch.Size([2, 16, 128, 128, 128])\n",
            "d2 torch.Size([2, 16, 128, 128, 128])\n",
            "d2 torch.Size([2, 16, 128, 128, 128])\n",
            "d2 torch.Size([2, 16, 128, 128, 128])\n",
            "d2 torch.Size([2, 16, 128, 128, 128])\n",
            "d2 torch.Size([2, 16, 128, 128, 128])\n",
            "d2 torch.Size([2, 16, 128, 128, 128])\n",
            "d2 torch.Size([2, 16, 128, 128, 128])\n",
            "d2 torch.Size([2, 16, 128, 128, 128])\n",
            "d2 torch.Size([2, 16, 128, 128, 128])\n",
            "d2 torch.Size([2, 16, 128, 128, 128])\n",
            "d2 torch.Size([2, 16, 128, 128, 128])\n",
            "d2 torch.Size([2, 16, 128, 128, 128])\n",
            "d2 torch.Size([2, 16, 128, 128, 128])\n",
            "d2 torch.Size([2, 16, 128, 128, 128])\n",
            "d2 torch.Size([2, 16, 128, 128, 128])\n",
            "d2 torch.Size([2, 16, 128, 128, 128])\n",
            "d2 torch.Size([2, 16, 128, 128, 128])\n",
            "d2 torch.Size([2, 16, 128, 128, 128])\n",
            "d2 torch.Size([2, 16, 128, 128, 128])\n",
            "d2 torch.Size([2, 16, 128, 128, 128])\n",
            "d2 torch.Size([2, 16, 128, 128, 128])\n",
            "epoch: 17\n",
            "Losses: 1.0, 0.7643224596977234 and 90.25077056884766\n",
            "Saving model checkpoints\n",
            "======= =============== ===========\n",
            "\n",
            "d2 torch.Size([2, 16, 128, 128, 128])\n",
            "d2 torch.Size([2, 16, 128, 128, 128])\n",
            "d2 torch.Size([2, 16, 128, 128, 128])\n",
            "d2 torch.Size([2, 16, 128, 128, 128])\n",
            "d2 torch.Size([2, 16, 128, 128, 128])\n",
            "d2 torch.Size([2, 16, 128, 128, 128])\n",
            "d2 torch.Size([2, 16, 128, 128, 128])\n",
            "d2 torch.Size([2, 16, 128, 128, 128])\n",
            "d2 torch.Size([2, 16, 128, 128, 128])\n",
            "d2 torch.Size([2, 16, 128, 128, 128])\n",
            "d2 torch.Size([2, 16, 128, 128, 128])\n",
            "d2 torch.Size([2, 16, 128, 128, 128])\n",
            "d2 torch.Size([2, 16, 128, 128, 128])\n",
            "d2 torch.Size([2, 16, 128, 128, 128])\n",
            "d2 torch.Size([2, 16, 128, 128, 128])\n",
            "d2 torch.Size([2, 16, 128, 128, 128])\n",
            "d2 torch.Size([2, 16, 128, 128, 128])\n",
            "d2 torch.Size([2, 16, 128, 128, 128])\n",
            "d2 torch.Size([2, 16, 128, 128, 128])\n",
            "d2 torch.Size([2, 16, 128, 128, 128])\n",
            "d2 torch.Size([2, 16, 128, 128, 128])\n",
            "d2 torch.Size([2, 16, 128, 128, 128])\n",
            "d2 torch.Size([2, 16, 128, 128, 128])\n",
            "d2 torch.Size([2, 16, 128, 128, 128])\n",
            "d2 torch.Size([2, 16, 128, 128, 128])\n",
            "epoch: 18\n",
            "Losses: 1.0, 0.7643258571624756 and 85.14892578125\n",
            "Saving model checkpoints\n",
            "======= =============== ===========\n",
            "\n",
            "d2 torch.Size([2, 16, 128, 128, 128])\n",
            "d2 torch.Size([2, 16, 128, 128, 128])\n",
            "d2 torch.Size([2, 16, 128, 128, 128])\n",
            "d2 torch.Size([2, 16, 128, 128, 128])\n",
            "d2 torch.Size([2, 16, 128, 128, 128])\n",
            "d2 torch.Size([2, 16, 128, 128, 128])\n",
            "d2 torch.Size([2, 16, 128, 128, 128])\n",
            "d2 torch.Size([2, 16, 128, 128, 128])\n",
            "d2 torch.Size([2, 16, 128, 128, 128])\n",
            "d2 torch.Size([2, 16, 128, 128, 128])\n",
            "d2 torch.Size([2, 16, 128, 128, 128])\n",
            "d2 torch.Size([2, 16, 128, 128, 128])\n",
            "d2 torch.Size([2, 16, 128, 128, 128])\n",
            "d2 torch.Size([2, 16, 128, 128, 128])\n",
            "d2 torch.Size([2, 16, 128, 128, 128])\n",
            "d2 torch.Size([2, 16, 128, 128, 128])\n",
            "d2 torch.Size([2, 16, 128, 128, 128])\n",
            "d2 torch.Size([2, 16, 128, 128, 128])\n",
            "d2 torch.Size([2, 16, 128, 128, 128])\n",
            "d2 torch.Size([2, 16, 128, 128, 128])\n",
            "d2 torch.Size([2, 16, 128, 128, 128])\n",
            "d2 torch.Size([2, 16, 128, 128, 128])\n",
            "d2 torch.Size([2, 16, 128, 128, 128])\n",
            "d2 torch.Size([2, 16, 128, 128, 128])\n",
            "d2 torch.Size([2, 16, 128, 128, 128])\n",
            "epoch: 19\n",
            "Losses: 1.0, 0.764327883720398 and 82.27534484863281\n",
            "Saving model checkpoints\n",
            "======= =============== ===========\n",
            "\n"
          ],
          "name": "stdout"
        }
      ]
    },
    {
      "cell_type": "markdown",
      "metadata": {
        "id": "XYP_jtTIOWl-"
      },
      "source": [
        "# Infering Full Model"
      ]
    },
    {
      "cell_type": "code",
      "metadata": {
        "colab": {
          "base_uri": "https://localhost:8080/"
        },
        "id": "XKvUKsvVOZQ2",
        "outputId": "236dc486-3593-4330-d169-48b352d08d1f"
      },
      "source": [
        "affine_conv_model_inference = Admir_Affine_Encoder(in_channel=2, start_channel=8, num_conv_blocks=5)\n",
        "affine_conv_model_inference.cuda()\n",
        "\n",
        "affine_output_model_inference = Admir_Affine_Output( in_units= 2560)\n",
        "affine_output_model_inference.cuda()\n",
        "\n",
        "\n",
        "affine_matrix_inference = torch.from_numpy(np.array([ [ [1.0, 0.0, 0.0, 0.0], [ 0.0, 1.0, 0.0, 0.0], [0.0,  0.0, 1.0, 0.0] ]  ], dtype=\"float32\" )).cuda()\n",
        "stn_affine_inference = SpatialTransformer(size=(128, 28, 128), is_affine=True, theta=torch.randn(size=(1, 3, 4)), affine_image_size =  (1, 1, 128, 128, 128))\n",
        "stn_affine_inference.cuda()\n",
        "\n",
        "# Addd deformable part\n",
        "deformable_model_inference = Admir_Deformable_UNet(2,3,16)\n",
        "deformable_model_inference.cuda()\n",
        "\n",
        "stn_deformable_inference = SpatialTransformer(size=(128, 128, 128), is_affine=False)\n",
        "stn_deformable_inference.cuda()\n",
        "\n",
        "stn_aggregation_inference = SpatialTransformer(size=(128, 128, 128), is_affine=False)\n",
        "stn_aggregation_inference.cuda()\n",
        "\n",
        "stn_fully_warped_inference = SpatialTransformer(size=(128, 128, 128), is_affine=False)\n",
        "stn_fully_warped_inference.cuda()"
      ],
      "execution_count": 48,
      "outputs": [
        {
          "output_type": "execute_result",
          "data": {
            "text/plain": [
              "SpatialTransformer()"
            ]
          },
          "metadata": {
            "tags": []
          },
          "execution_count": 48
        }
      ]
    },
    {
      "cell_type": "code",
      "metadata": {
        "colab": {
          "base_uri": "https://localhost:8080/"
        },
        "id": "f6DgymyWOZTn",
        "outputId": "6631a5b0-15ce-4cda-ba38-d3d042fb5e8d"
      },
      "source": [
        "checkpoint = torch.load('/content/drive/My Drive/Image_Registration_Project/fullmodel2/complete_admir_1.pth')\n",
        "affine_conv_model_inference.load_state_dict(checkpoint['affine_conv_model'])\n",
        "affine_output_model_inference.load_state_dict(checkpoint['affine_output_model'])\n",
        "deformable_model_inference.load_state_dict(checkpoint['deformable_model'])\n",
        "affine_conv_model_inference.eval()\n",
        "affine_output_model_inference.eval()\n",
        "deformable_model_inference.eval()"
      ],
      "execution_count": 54,
      "outputs": [
        {
          "output_type": "execute_result",
          "data": {
            "text/plain": [
              "Admir_Deformable_UNet(\n",
              "  (eninput): Sequential(\n",
              "    (0): Conv3d(2, 16, kernel_size=(3, 3, 3), stride=(1, 1, 1), padding=(1, 1, 1), bias=False)\n",
              "    (1): BatchNorm3d(16, eps=1e-05, momentum=0.1, affine=True, track_running_stats=True)\n",
              "    (2): LeakyReLU(negative_slope=0.1)\n",
              "  )\n",
              "  (ec1): Sequential(\n",
              "    (0): Conv3d(16, 16, kernel_size=(3, 3, 3), stride=(1, 1, 1), padding=(1, 1, 1), bias=False)\n",
              "    (1): BatchNorm3d(16, eps=1e-05, momentum=0.1, affine=True, track_running_stats=True)\n",
              "    (2): LeakyReLU(negative_slope=0.1)\n",
              "  )\n",
              "  (ec2): Sequential(\n",
              "    (0): Conv3d(16, 32, kernel_size=(3, 3, 3), stride=(2, 2, 2), padding=(1, 1, 1), bias=False)\n",
              "    (1): BatchNorm3d(32, eps=1e-05, momentum=0.1, affine=True, track_running_stats=True)\n",
              "    (2): LeakyReLU(negative_slope=0.1)\n",
              "  )\n",
              "  (ec3): Sequential(\n",
              "    (0): Conv3d(32, 32, kernel_size=(3, 3, 3), stride=(1, 1, 1), padding=(1, 1, 1), bias=False)\n",
              "    (1): BatchNorm3d(32, eps=1e-05, momentum=0.1, affine=True, track_running_stats=True)\n",
              "    (2): LeakyReLU(negative_slope=0.1)\n",
              "  )\n",
              "  (ec4): Sequential(\n",
              "    (0): Conv3d(32, 64, kernel_size=(3, 3, 3), stride=(2, 2, 2), padding=(1, 1, 1), bias=False)\n",
              "    (1): BatchNorm3d(64, eps=1e-05, momentum=0.1, affine=True, track_running_stats=True)\n",
              "    (2): LeakyReLU(negative_slope=0.1)\n",
              "  )\n",
              "  (ec5): Sequential(\n",
              "    (0): Conv3d(64, 64, kernel_size=(3, 3, 3), stride=(1, 1, 1), padding=(1, 1, 1), bias=False)\n",
              "    (1): BatchNorm3d(64, eps=1e-05, momentum=0.1, affine=True, track_running_stats=True)\n",
              "    (2): LeakyReLU(negative_slope=0.1)\n",
              "  )\n",
              "  (ec6): Sequential(\n",
              "    (0): Conv3d(64, 128, kernel_size=(3, 3, 3), stride=(2, 2, 2), padding=(1, 1, 1), bias=False)\n",
              "    (1): BatchNorm3d(128, eps=1e-05, momentum=0.1, affine=True, track_running_stats=True)\n",
              "    (2): LeakyReLU(negative_slope=0.1)\n",
              "  )\n",
              "  (dc1): Sequential(\n",
              "    (0): Conv3d(128, 128, kernel_size=(3, 3, 3), stride=(1, 1, 1), padding=(1, 1, 1), bias=False)\n",
              "    (1): BatchNorm3d(128, eps=1e-05, momentum=0.1, affine=True, track_running_stats=True)\n",
              "    (2): LeakyReLU(negative_slope=0.1)\n",
              "  )\n",
              "  (dc2): Sequential(\n",
              "    (0): Conv3d(64, 64, kernel_size=(3, 3, 3), stride=(1, 1, 1), padding=(1, 1, 1), bias=False)\n",
              "    (1): BatchNorm3d(64, eps=1e-05, momentum=0.1, affine=True, track_running_stats=True)\n",
              "    (2): LeakyReLU(negative_slope=0.1)\n",
              "  )\n",
              "  (dc3): Sequential(\n",
              "    (0): Conv3d(32, 32, kernel_size=(3, 3, 3), stride=(1, 1, 1), padding=(1, 1, 1), bias=False)\n",
              "    (1): BatchNorm3d(32, eps=1e-05, momentum=0.1, affine=True, track_running_stats=True)\n",
              "    (2): LeakyReLU(negative_slope=0.1)\n",
              "  )\n",
              "  (up1): Sequential(\n",
              "    (0): ConvTranspose3d(128, 64, kernel_size=(2, 2, 2), stride=(2, 2, 2))\n",
              "    (1): LeakyReLU(negative_slope=0.1)\n",
              "  )\n",
              "  (up2): Sequential(\n",
              "    (0): ConvTranspose3d(64, 32, kernel_size=(2, 2, 2), stride=(2, 2, 2))\n",
              "    (1): LeakyReLU(negative_slope=0.1)\n",
              "  )\n",
              "  (up3): Sequential(\n",
              "    (0): ConvTranspose3d(32, 16, kernel_size=(2, 2, 2), stride=(2, 2, 2))\n",
              "    (1): LeakyReLU(negative_slope=0.1)\n",
              "  )\n",
              "  (dc4): Sequential(\n",
              "    (0): Conv3d(16, 3, kernel_size=(1, 1, 1), stride=(1, 1, 1), bias=False)\n",
              "  )\n",
              ")"
            ]
          },
          "metadata": {
            "tags": []
          },
          "execution_count": 54
        }
      ]
    },
    {
      "cell_type": "code",
      "metadata": {
        "id": "sQH9o1TlRDUk"
      },
      "source": [
        "counter = 0"
      ],
      "execution_count": 55,
      "outputs": []
    },
    {
      "cell_type": "code",
      "metadata": {
        "id": "f4FEHkEnOZX9"
      },
      "source": [
        "def fullmodel_inference_loop(epoch=1, batch_size=1, counter=0):\n",
        "  for X,Y in validation_generator:\n",
        "\n",
        "    X = X.cuda().float()\n",
        "    Y = Y.cuda().float()\n",
        "\n",
        "    #print(\"X shape: {}\".format(X.shape))\n",
        "    #print(\"Y shape: {}\".format(Y.shape))\n",
        "    affine_conv_out = affine_conv_model_inference(X, Y)\n",
        "    # print(affine_conv_out.shape)\n",
        "\n",
        "    affine_output_out = affine_output_model_inference(affine_conv_out)\n",
        "    print(affine_output_out[0].shape)\n",
        "    print(affine_output_out[1].shape)\n",
        "\n",
        "    #print(\"========== ============== =============\")\n",
        "    #print()\n",
        "\n",
        "    affine_tnsr = torch.cat((affine_output_out[1], affine_output_out[0]), 1)\n",
        "    theta = torch.reshape(affine_tnsr, (1, 3, 4))\n",
        "    #theta = affine_matrix_inference - theta\n",
        "    print(theta)\n",
        "    # Suraj: Set the new theta and reshape it\n",
        "    stn_affine_inference.theta = theta\n",
        "    #print(\"========== ============== =============\")\n",
        "    #print(\"theta shape: {}\".format(theta.shape))\n",
        "    #print(theta)\n",
        "\n",
        "    # print(\"========== ============== =============\")\n",
        "    # grid = F.affine_grid(theta, (2, 1, 128, 128, 128))\n",
        "    # print(grid.shape)\n",
        "    # print(grid)\n",
        "\n",
        "    # Suraj: Added coarsely warped image, changed dvf_final calculation\n",
        "    # DVF1 shape was [batch size, 128, 128, 128, 3] --> permuted order of columns to match deformable dvf 2 [batch size, 3, 128, 128, 128]\n",
        "    coarsely_warped_image = stn_affine_inference(Y)\n",
        "    dvf_1 = stn_affine_inference.grid\n",
        "    dvf_1 = dvf_1.permute(0, 4, 1, 2, 3)\n",
        "\n",
        "    #Deformable model inference\n",
        "\n",
        "    dvf_2 = deformable_model_inference(X, coarsely_warped_image) \n",
        "    # print(\"deformable field dvf 2 shape: {}\".format(dvf_2.shape))\n",
        "    # print(\"========== ============== =============\")\n",
        "    # print()\n",
        "\n",
        "    # print(\" interim warp \")\n",
        "    interim_warp_field = stn_aggregation_inference(dvf_1,dvf_2)\n",
        "    # print(\"interim warp field shape: {}\".format(interim_warp_field.shape))\n",
        "    # print(\"========== ============== =============\")\n",
        "    # print()\n",
        "\n",
        "  \n",
        "    dvf_final = dvf_2 + interim_warp_field\n",
        "    # print(\"final dvf shape: {}\".format(dvf_final.shape))\n",
        "    # print(\"========== ============== =============\")\n",
        "    # print()\n",
        "\n",
        "    fully_warped_image =  stn_fully_warped_inference(Y, dvf_final)  #final fully warped image , i.e. equation 4 of the image\n",
        "    # print(\"final warped image shape: {}\".format(fully_warped_image.shape))\n",
        "    # print(\"========== ============== =============\")\n",
        "    # print()\n",
        "\n",
        "    output_warped_tensor = fully_warped_image.detach().to(\"cpu\")\n",
        "    #dvf_1_warped_tensor = dvf_1.detach().to(\"cpu\")\n",
        "    output_warped_np = output_warped_tensor.numpy()\n",
        "    #dvf_1_warped_np = dvf_1_warped_tensor.numpy()\n",
        "\n",
        "    output_warped_nb = nb.Nifti1Image(output_warped_np[0,0,:,:,:], np.eye(4)) \n",
        "    nb.save(output_warped_nb, '/content/drive/My Drive/Image_Registration_Project/dataset_ants_resampled/warped_images/' +  'output_warped_nb_' + str(counter) + '.nii.gz')\n",
        "    #dvf_1_warped_nb = nb.Nifti1Image(dvf_1_warped_np[0,:,:,:,:], np.eye(4)) \n",
        "    #nb.save(dvf_1_warped_nb, '/content/drive/My Drive/Image_Registration_Project/dataset_ants_resampled/' +  'dvf_1_warped_nb_' + str(counter) + '.nii.gz')\n",
        "\n",
        "    counter = counter + 1\n",
        "\n",
        "    if(counter > 2):\n",
        "      break;"
      ],
      "execution_count": 56,
      "outputs": []
    },
    {
      "cell_type": "code",
      "metadata": {
        "colab": {
          "base_uri": "https://localhost:8080/"
        },
        "id": "qmltUudqOZZt",
        "outputId": "aa2f59f8-94e2-4b91-9131-b268680bffc2"
      },
      "source": [
        "fullmodel_inference_loop()"
      ],
      "execution_count": 57,
      "outputs": [
        {
          "output_type": "stream",
          "text": [
            "torch.Size([1, 3])\n",
            "torch.Size([1, 9])\n",
            "tensor([[[nan, nan, nan, nan],\n",
            "         [nan, nan, nan, nan],\n",
            "         [nan, nan, nan, nan]]], device='cuda:0', grad_fn=<ViewBackward>)\n",
            "d2 torch.Size([1, 16, 128, 128, 128])\n"
          ],
          "name": "stdout"
        },
        {
          "output_type": "stream",
          "text": [
            "/usr/local/lib/python3.6/dist-packages/torch/nn/functional.py:3448: UserWarning: Default grid_sample and affine_grid behavior has changed to align_corners=False since 1.3.0. Please specify align_corners=True if the old behavior is desired. See the documentation of grid_sample for details.\n",
            "  warnings.warn(\"Default grid_sample and affine_grid behavior has changed \"\n",
            "/usr/local/lib/python3.6/dist-packages/torch/nn/functional.py:3385: UserWarning: Default grid_sample and affine_grid behavior has changed to align_corners=False since 1.3.0. Please specify align_corners=True if the old behavior is desired. See the documentation of grid_sample for details.\n",
            "  warnings.warn(\"Default grid_sample and affine_grid behavior has changed \"\n"
          ],
          "name": "stderr"
        },
        {
          "output_type": "stream",
          "text": [
            "torch.Size([1, 3])\n",
            "torch.Size([1, 9])\n",
            "tensor([[[nan, nan, nan, nan],\n",
            "         [nan, nan, nan, nan],\n",
            "         [nan, nan, nan, nan]]], device='cuda:0', grad_fn=<ViewBackward>)\n",
            "d2 torch.Size([1, 16, 128, 128, 128])\n",
            "torch.Size([1, 3])\n",
            "torch.Size([1, 9])\n",
            "tensor([[[nan, nan, nan, nan],\n",
            "         [nan, nan, nan, nan],\n",
            "         [nan, nan, nan, nan]]], device='cuda:0', grad_fn=<ViewBackward>)\n",
            "d2 torch.Size([1, 16, 128, 128, 128])\n"
          ],
          "name": "stdout"
        }
      ]
    },
    {
      "cell_type": "code",
      "metadata": {
        "colab": {
          "base_uri": "https://localhost:8080/",
          "height": 285
        },
        "id": "i714V1aSS5f3",
        "outputId": "ca1c8285-9a21-4264-9fdb-40a6b6ff8763"
      },
      "source": [
        "warped_img = nb.load(\"/content/drive/My Drive/Image_Registration_Project/dataset_ants_resampled/warped_images/output_warped_nb_0.nii.gz\")\n",
        "warped_img_np = warped_img.dataobj\n",
        "plt.imshow(warped_img_np[:, 84, :])"
      ],
      "execution_count": 53,
      "outputs": [
        {
          "output_type": "execute_result",
          "data": {
            "text/plain": [
              "<matplotlib.image.AxesImage at 0x7f9d0526c0f0>"
            ]
          },
          "metadata": {
            "tags": []
          },
          "execution_count": 53
        },
        {
          "output_type": "display_data",
          "data": {
            "image/png": "[encoded data removed]",
            "text/plain": [
              "<Figure size 432x288 with 1 Axes>"
            ]
          },
          "metadata": {
            "tags": [],
            "needs_background": "light"
          }
        }
      ]
    },
    {
      "cell_type": "code",
      "metadata": {
        "colab": {
          "base_uri": "https://localhost:8080/",
          "height": 285
        },
        "id": "oHNZc3wWTZ0M",
        "outputId": "91fa7d73-00a2-45a7-8afc-2d11dff70e9b"
      },
      "source": [
        "mynb_np1 = load_4D(file_names_t1[0])\n",
        "plt.imshow(mynb_np1[0, :, 78, :])"
      ],
      "execution_count": null,
      "outputs": [
        {
          "output_type": "execute_result",
          "data": {
            "text/plain": [
              "<matplotlib.image.AxesImage at 0x7f0e58c6a9b0>"
            ]
          },
          "metadata": {
            "tags": []
          },
          "execution_count": 276
        },
        {
          "output_type": "display_data",
          "data": {
            "image/png": "[encoded data removed]",
            "text/plain": [
              "<Figure size 432x288 with 1 Axes>"
            ]
          },
          "metadata": {
            "tags": [],
            "needs_background": "light"
          }
        }
      ]
    },
    {
      "cell_type": "code",
      "metadata": {
        "colab": {
          "base_uri": "https://localhost:8080/",
          "height": 285
        },
        "id": "Kn0Tw5cMTZ3G",
        "outputId": "53737215-9db9-475f-8fd9-748bfae9cb2b"
      },
      "source": [
        "mynb_np1 = load_4D(file_names_t1[4])\n",
        "plt.imshow(mynb_np1[0, :, 84, :])"
      ],
      "execution_count": null,
      "outputs": [
        {
          "output_type": "execute_result",
          "data": {
            "text/plain": [
              "<matplotlib.image.AxesImage at 0x7f0e478e97f0>"
            ]
          },
          "metadata": {
            "tags": []
          },
          "execution_count": 267
        },
        {
          "output_type": "display_data",
          "data": {
            "image/png": "[encoded data removed]",
            "text/plain": [
              "<Figure size 432x288 with 1 Axes>"
            ]
          },
          "metadata": {
            "tags": [],
            "needs_background": "light"
          }
        }
      ]
    },
    {
      "cell_type": "markdown",
      "metadata": {
        "id": "15g4F7c3V8Ce"
      },
      "source": [
        "# Miscellaneous"
      ]
    },
    {
      "cell_type": "markdown",
      "metadata": {
        "id": "EShZe-sEVgxN"
      },
      "source": [
        "=========== Below are methods for testing outside function ======="
      ]
    },
    {
      "cell_type": "code",
      "metadata": {
        "colab": {
          "base_uri": "https://localhost:8080/"
        },
        "id": "sdiV7w2tJMg1",
        "outputId": "d06e510e-bdc2-4366-8c25-8f060b186981"
      },
      "source": [
        "dim_prod = 128*128*128\n",
        "num_bins = 10\n",
        "bin_centers = np.linspace(0, 0.7, num_bins*2+1)[1::2]\n",
        "sigma = np.mean(np.diff(bin_centers)) * 0.5\n",
        "preterm = torch.tensor(1 / (2 * np.square(sigma)))\n",
        "nb_voxels = torch.tensor([dim_prod], dtype=torch.float32)\n",
        "print(bin_centers)\n",
        "print(sigma)\n",
        "print(preterm)\n",
        "print(nb_voxels)"
      ],
      "execution_count": null,
      "outputs": [
        {
          "output_type": "stream",
          "text": [
            "[0.035 0.105 0.175 0.245 0.315 0.385 0.455 0.525 0.595 0.665]\n",
            "0.034999999999999996\n",
            "tensor(408.1633, dtype=torch.float64)\n",
            "tensor([2097152.])\n"
          ],
          "name": "stdout"
        }
      ]
    },
    {
      "cell_type": "code",
      "metadata": {
        "id": "ZHi80rjlJPKw"
      },
      "source": [
        "y_true = torch.ones(size= (1, 1, 128, 128, 128) )\n",
        "y_pred = torch.ones(size = (1, 1, 128, 128, 128) )"
      ],
      "execution_count": null,
      "outputs": []
    },
    {
      "cell_type": "code",
      "metadata": {
        "id": "06jWn45ZOvGv"
      },
      "source": [
        "y_true = torch.randn(size= (1, 1, 128, 128) )\n",
        "y_pred = torch.randn(size = (1, 1, 128, 128) )"
      ],
      "execution_count": null,
      "outputs": []
    },
    {
      "cell_type": "code",
      "metadata": {
        "id": "IKJ6MtDJhQsG",
        "colab": {
          "base_uri": "https://localhost:8080/"
        },
        "outputId": "09900122-5dde-4d2b-aec2-ec9bcaaa8fcc"
      },
      "source": [
        "print(mutual_information(y_true, y_pred, sigma, preterm, bin_centers, nb_voxels, dim_prod = 128*128*128))"
      ],
      "execution_count": null,
      "outputs": [
        {
          "output_type": "stream",
          "text": [
            "tensor([[[3.1618e-152, 3.7982e-129, 8.3570e-108,  ...,  3.7735e-27,\n",
            "           3.1343e-16,  4.7684e-07],\n",
            "         [3.1618e-152, 3.7982e-129, 8.3570e-108,  ...,  3.7735e-27,\n",
            "           3.1343e-16,  4.7684e-07],\n",
            "         [3.1618e-152, 3.7982e-129, 8.3570e-108,  ...,  3.7735e-27,\n",
            "           3.1343e-16,  4.7684e-07],\n",
            "         ...,\n",
            "         [3.1618e-152, 3.7982e-129, 8.3570e-108,  ...,  3.7735e-27,\n",
            "           3.1343e-16,  4.7684e-07],\n",
            "         [3.1618e-152, 3.7982e-129, 8.3570e-108,  ...,  3.7735e-27,\n",
            "           3.1343e-16,  4.7684e-07],\n",
            "         [3.1618e-152, 3.7982e-129, 8.3570e-108,  ...,  3.7735e-27,\n",
            "           3.1343e-16,  4.7684e-07]]], dtype=torch.float64)\n",
            "tensor([[[3.1618e-152, 3.7982e-129, 8.3570e-108,  ...,  3.7735e-27,\n",
            "           3.1343e-16,  4.7684e-07],\n",
            "         [3.1618e-152, 3.7982e-129, 8.3570e-108,  ...,  3.7735e-27,\n",
            "           3.1343e-16,  4.7684e-07],\n",
            "         [3.1618e-152, 3.7982e-129, 8.3570e-108,  ...,  3.7735e-27,\n",
            "           3.1343e-16,  4.7684e-07],\n",
            "         ...,\n",
            "         [3.1618e-152, 3.7982e-129, 8.3570e-108,  ...,  3.7735e-27,\n",
            "           3.1343e-16,  4.7684e-07],\n",
            "         [3.1618e-152, 3.7982e-129, 8.3570e-108,  ...,  3.7735e-27,\n",
            "           3.1343e-16,  4.7684e-07],\n",
            "         [3.1618e-152, 3.7982e-129, 8.3570e-108,  ...,  3.7735e-27,\n",
            "           3.1343e-16,  4.7684e-07]]], dtype=torch.float64)\n",
            "tensor([[[2.0965e-297, 2.5185e-274, 5.5413e-253, 2.2331e-233, 1.6482e-215,\n",
            "          2.2282e-199, 5.5172e-185, 2.5021e-172, 2.0783e-161, 3.1618e-152],\n",
            "         [2.5185e-274, 3.0254e-251, 6.6567e-230, 2.6826e-210, 1.9800e-192,\n",
            "          2.6767e-176, 6.6278e-162, 3.0057e-149, 2.4966e-138, 3.7982e-129],\n",
            "         [5.5413e-253, 6.6567e-230, 1.4646e-208, 5.9023e-189, 4.3565e-171,\n",
            "          5.8895e-155, 1.4583e-140, 6.6133e-128, 5.4932e-117, 8.3570e-108],\n",
            "         [2.2331e-233, 2.6826e-210, 5.9023e-189, 2.3786e-169, 1.7556e-151,\n",
            "          2.3734e-135, 5.8767e-121, 2.6651e-108,  2.2137e-97,  3.3678e-88],\n",
            "         [1.6482e-215, 1.9800e-192, 4.3565e-171, 1.7556e-151, 1.2958e-133,\n",
            "          1.7518e-117, 4.3376e-103,  1.9671e-90,  1.6339e-79,  2.4858e-70],\n",
            "         [2.2282e-199, 2.6767e-176, 5.8895e-155, 2.3734e-135, 1.7518e-117,\n",
            "          2.3682e-101,  5.8639e-87,  2.6593e-74,  2.2089e-63,  3.3605e-54],\n",
            "         [5.5172e-185, 6.6278e-162, 1.4583e-140, 5.8767e-121, 4.3376e-103,\n",
            "           5.8639e-87,  1.4519e-72,  6.5846e-60,  5.4693e-49,  8.3207e-40],\n",
            "         [2.5021e-172, 3.0057e-149, 6.6133e-128, 2.6651e-108,  1.9671e-90,\n",
            "           2.6593e-74,  6.5846e-60,  2.9861e-47,  2.4804e-36,  3.7735e-27],\n",
            "         [2.0783e-161, 2.4966e-138, 5.4932e-117,  2.2137e-97,  1.6339e-79,\n",
            "           2.2089e-63,  5.4693e-49,  2.4804e-36,  2.0602e-25,  3.1343e-16],\n",
            "         [3.1618e-152, 3.7982e-129, 8.3570e-108,  3.3678e-88,  2.4858e-70,\n",
            "           3.3605e-54,  8.3207e-40,  3.7735e-27,  3.1343e-16,  4.7684e-07]]],\n",
            "       dtype=torch.float64)\n",
            "tensor(4.7684e-07, dtype=torch.float64)\n",
            "tensor([[[1.1921e-07, 1.1921e-07, 1.1921e-07, 1.1921e-07, 1.1921e-07,\n",
            "          1.1921e-07, 1.1921e-07, 1.1921e-07, 1.1921e-07, 1.1921e-07],\n",
            "         [1.1921e-07, 1.1921e-07, 1.1921e-07, 1.1921e-07, 1.1921e-07,\n",
            "          1.1921e-07, 1.1921e-07, 1.1921e-07, 1.1921e-07, 1.1921e-07],\n",
            "         [1.1921e-07, 1.1921e-07, 1.1921e-07, 1.1921e-07, 1.1921e-07,\n",
            "          1.1921e-07, 1.1921e-07, 1.1921e-07, 1.1921e-07, 1.1921e-07],\n",
            "         [1.1921e-07, 1.1921e-07, 1.1921e-07, 1.1921e-07, 1.1921e-07,\n",
            "          1.1921e-07, 1.1921e-07, 1.1921e-07, 1.1921e-07, 1.1921e-07],\n",
            "         [1.1921e-07, 1.1921e-07, 1.1921e-07, 1.1921e-07, 1.1921e-07,\n",
            "          1.1921e-07, 1.1921e-07, 1.1921e-07, 1.1921e-07, 1.1921e-07],\n",
            "         [1.1921e-07, 1.1921e-07, 1.1921e-07, 1.1921e-07, 1.1921e-07,\n",
            "          1.1921e-07, 1.1921e-07, 1.1921e-07, 1.1921e-07, 1.1921e-07],\n",
            "         [1.1921e-07, 1.1921e-07, 1.1921e-07, 1.1921e-07, 1.1921e-07,\n",
            "          1.1921e-07, 1.1921e-07, 1.1921e-07, 1.1921e-07, 1.1921e-07],\n",
            "         [1.1921e-07, 1.1921e-07, 1.1921e-07, 1.1921e-07, 1.1921e-07,\n",
            "          1.1921e-07, 1.1921e-07, 1.1921e-07, 1.1921e-07, 1.1921e-07],\n",
            "         [1.1921e-07, 1.1921e-07, 1.1921e-07, 1.1921e-07, 1.1921e-07,\n",
            "          1.1921e-07, 1.1921e-07, 1.1921e-07, 1.1921e-07, 1.1921e-07],\n",
            "         [1.1921e-07, 1.1921e-07, 1.1921e-07, 1.1921e-07, 1.1921e-07,\n",
            "          1.1921e-07, 1.1921e-07, 1.1921e-07, 1.1921e-07, 1.1921e-07]]],\n",
            "       dtype=torch.float64)\n",
            "tensor([2.9807e-12], dtype=torch.float64)\n"
          ],
          "name": "stdout"
        }
      ]
    },
    {
      "cell_type": "code",
      "metadata": {
        "id": "o4s1BW5nJcLM"
      },
      "source": [
        ""
      ],
      "execution_count": null,
      "outputs": []
    },
    {
      "cell_type": "code",
      "metadata": {
        "colab": {
          "base_uri": "https://localhost:8080/"
        },
        "id": "ZyNxA5_IJcTE",
        "outputId": "508d2f66-1be5-426e-9b07-54d1c04b5cbe"
      },
      "source": [
        "from sklearn.metrics import mutual_info_score, normalized_mutual_info_score\n",
        "\n",
        "x1 = y_pred.numpy()\n",
        "x1 = x1[0, 0, :, :]\n",
        "x1 = x1.flatten()\n",
        "x2 = y_true.numpy()\n",
        "x2 = x2[0, 0, :, :]\n",
        "x2 = x2.flatten()\n",
        "\n",
        "def calc_MI(x, y, bins):\n",
        "    #c_xy = np.histogram2d(x, y, bins)[0]\n",
        "    mi = normalized_mutual_info_score(x, y)\n",
        "    return mi\n",
        "\n",
        "print(calc_MI( np.random.randn((128*128)), np.zeros((128*128,), dtype=float) , bins=10))"
      ],
      "execution_count": null,
      "outputs": [
        {
          "output_type": "stream",
          "text": [
            "0.0\n"
          ],
          "name": "stdout"
        }
      ]
    },
    {
      "cell_type": "code",
      "metadata": {
        "colab": {
          "base_uri": "https://localhost:8080/"
        },
        "id": "Qope6a9ijUFZ",
        "outputId": "21bc96d0-7458-4f36-9c1b-fa157bce3035"
      },
      "source": [
        "torch.prod( torch.tensor(y_true.shape[1:]) ).numpy()"
      ],
      "execution_count": null,
      "outputs": [
        {
          "output_type": "execute_result",
          "data": {
            "text/plain": [
              "array(2097152)"
            ]
          },
          "metadata": {
            "tags": []
          },
          "execution_count": 48
        }
      ]
    },
    {
      "cell_type": "code",
      "metadata": {
        "id": "lq2G2LO9ilqk"
      },
      "source": [
        "y_true = torch.reshape(y_true, (y_true.shape[0], 2097152, 1) )\n",
        "y_pred = torch.reshape(y_pred, (y_pred.shape[0], 2097152, 1) )"
      ],
      "execution_count": null,
      "outputs": []
    },
    {
      "cell_type": "code",
      "metadata": {
        "id": "CWgaU8YAiBDt",
        "colab": {
          "base_uri": "https://localhost:8080/"
        },
        "outputId": "b6af6547-8e38-4a05-db62-dc022962e281"
      },
      "source": [
        "y_true.shape"
      ],
      "execution_count": null,
      "outputs": [
        {
          "output_type": "execute_result",
          "data": {
            "text/plain": [
              "torch.Size([1, 2097152, 1])"
            ]
          },
          "metadata": {
            "tags": []
          },
          "execution_count": 50
        }
      ]
    },
    {
      "cell_type": "code",
      "metadata": {
        "colab": {
          "base_uri": "https://localhost:8080/"
        },
        "id": "RtYu3GygLIOM",
        "outputId": "9c08965b-f114-461c-e313-5cb4e3fa7e2e"
      },
      "source": [
        ""
      ],
      "execution_count": null,
      "outputs": [
        {
          "output_type": "stream",
          "text": [
            "[0.035 0.105 0.175 0.245 0.315 0.385 0.455 0.525 0.595 0.665]\n",
            "0.034999999999999996\n",
            "tensor(408.1633, dtype=torch.float64)\n",
            "tensor([2097152.])\n"
          ],
          "name": "stdout"
        }
      ]
    },
    {
      "cell_type": "code",
      "metadata": {
        "colab": {
          "base_uri": "https://localhost:8080/"
        },
        "id": "KcajO0FhLggb",
        "outputId": "5d7af3db-46cc-4904-ed0f-02f69e1701e3"
      },
      "source": [
        "vbc = torch.tensor(bin_centers)\n",
        "vbc = vbc.unsqueeze(0)\n",
        "vbc = vbc.unsqueeze(0)\n",
        "vbc.shape"
      ],
      "execution_count": null,
      "outputs": [
        {
          "output_type": "execute_result",
          "data": {
            "text/plain": [
              "torch.Size([1, 1, 10])"
            ]
          },
          "metadata": {
            "tags": []
          },
          "execution_count": 52
        }
      ]
    },
    {
      "cell_type": "code",
      "metadata": {
        "id": "Gd7B_l16iBGQ"
      },
      "source": [
        "# compute image terms\n",
        "I_a = torch.exp(- preterm * torch.square(y_true  - vbc))\n",
        "I_a = I_a/torch.sum(I_a)\n",
        "\n",
        "I_b = torch.exp(- preterm * torch.square(y_pred  - vbc))\n",
        "I_b = I_b/torch.sum(I_b)\n"
      ],
      "execution_count": null,
      "outputs": []
    },
    {
      "cell_type": "code",
      "metadata": {
        "id": "yjrTbFY9iBI-",
        "colab": {
          "base_uri": "https://localhost:8080/"
        },
        "outputId": "a75fe27d-ce5d-4ce0-e7ac-c6e4265f3902"
      },
      "source": [
        "print(I_a)\n",
        "print(I_b)"
      ],
      "execution_count": null,
      "outputs": [
        {
          "output_type": "stream",
          "text": [
            "tensor([[[ 6.5326e-27,  2.2695e-19,  1.4441e-13,  ...,  1.3191e-10,\n",
            "           3.1688e-15,  1.3942e-21],\n",
            "         [ 3.9932e-30,  6.0496e-22,  1.6787e-15,  ...,  2.4180e-09,\n",
            "           2.5330e-13,  4.8598e-19],\n",
            "         [ 0.0000e+00,  0.0000e+00,  0.0000e+00,  ...,  0.0000e+00,\n",
            "           0.0000e+00,  0.0000e+00],\n",
            "         ...,\n",
            "         [ 9.1021e-54,  7.9033e-42,  1.2569e-31,  ...,  1.1196e-06,\n",
            "           6.7217e-07,  7.3913e-09],\n",
            "         [ 4.3524e-94,  1.6180e-77,  1.1017e-62,  ...,  1.4118e-14,\n",
            "           3.6289e-10,  1.7084e-07],\n",
            "         [ 1.0280e-54,  1.6155e-68,  4.6499e-84,  ..., 8.0445e-188,\n",
            "          8.7413e-214, 1.7397e-241]]], dtype=torch.float64)\n",
            "tensor([[[ 0.0000e+00,  0.0000e+00,  0.0000e+00,  ...,  0.0000e+00,\n",
            "           0.0000e+00,  0.0000e+00],\n",
            "         [6.5815e-116, 2.8716e-136, 2.2947e-158,  ..., 6.5483e-295,\n",
            "           0.0000e+00,  0.0000e+00],\n",
            "         [ 1.8454e-91, 1.6689e-109, 2.7644e-129,  ..., 3.0181e-254,\n",
            "          1.8873e-284, 2.1615e-316],\n",
            "         ...,\n",
            "         [ 9.1332e-09,  2.0992e-12,  8.8369e-18,  ...,  1.0230e-70,\n",
            "           1.6258e-86, 4.7324e-104],\n",
            "         [ 1.9477e-52,  6.2445e-66,  3.6668e-81,  ..., 2.2418e-183,\n",
            "          4.9695e-209, 2.0177e-236],\n",
            "         [ 0.0000e+00,  0.0000e+00,  0.0000e+00,  ..., 1.0780e-293,\n",
            "          5.6114e-263, 5.3498e-234]]], dtype=torch.float64)\n"
          ],
          "name": "stdout"
        }
      ]
    },
    {
      "cell_type": "code",
      "metadata": {
        "id": "gS3Uk8lNiBL3"
      },
      "source": [
        "# compute probabilities\n",
        "I_a_permute = I_a.permute(0,2,1)\n",
        "pab = torch.matmul(I_a_permute, I_b)  # should be the right size now, nb_labels x nb_bins\n",
        "pab = pab/nb_voxels\n",
        "pa = torch.mean(I_a, 1, keepdims=True)\n",
        "pb = torch.mean(I_b, 1, keepdims=True)"
      ],
      "execution_count": null,
      "outputs": []
    },
    {
      "cell_type": "code",
      "metadata": {
        "colab": {
          "base_uri": "https://localhost:8080/"
        },
        "id": "LmcEliFwio-6",
        "outputId": "31e4b308-9e55-4877-cd68-88ad8fda3349"
      },
      "source": [
        "pa"
      ],
      "execution_count": null,
      "outputs": [
        {
          "output_type": "execute_result",
          "data": {
            "text/plain": [
              "tensor([[[5.1771e-08, 5.1641e-08, 5.0861e-08, 4.9979e-08, 4.8892e-08,\n",
              "          4.7770e-08, 4.6599e-08, 4.5089e-08, 4.3151e-08, 4.1084e-08]]],\n",
              "       dtype=torch.float64)"
            ]
          },
          "metadata": {
            "tags": []
          },
          "execution_count": 71
        }
      ]
    },
    {
      "cell_type": "code",
      "metadata": {
        "colab": {
          "base_uri": "https://localhost:8080/"
        },
        "id": "vZeQCN8dhML0",
        "outputId": "974348d7-250b-4c92-eee6-d80d5e564658"
      },
      "source": [
        "pab"
      ],
      "execution_count": null,
      "outputs": [
        {
          "output_type": "execute_result",
          "data": {
            "text/plain": [
              "tensor([[[2.6876e-15, 2.6803e-15, 2.6424e-15, 2.6405e-15, 2.5752e-15,\n",
              "          2.5397e-15, 2.4038e-15, 2.3070e-15, 2.1633e-15, 2.1026e-15],\n",
              "         [2.6947e-15, 2.6716e-15, 2.6296e-15, 2.6169e-15, 2.5839e-15,\n",
              "          2.5161e-15, 2.4354e-15, 2.2867e-15, 2.2095e-15, 2.1056e-15],\n",
              "         [2.6844e-15, 2.6281e-15, 2.5919e-15, 2.6356e-15, 2.5634e-15,\n",
              "          2.4295e-15, 2.3328e-15, 2.2204e-15, 2.1457e-15, 2.1021e-15],\n",
              "         [2.5850e-15, 2.5322e-15, 2.4980e-15, 2.4965e-15, 2.4497e-15,\n",
              "          2.3960e-15, 2.3350e-15, 2.2229e-15, 2.1098e-15, 2.0467e-15],\n",
              "         [2.5047e-15, 2.4479e-15, 2.4660e-15, 2.4311e-15, 2.3562e-15,\n",
              "          2.3147e-15, 2.2752e-15, 2.1814e-15, 2.1088e-15, 1.9809e-15],\n",
              "         [2.4961e-15, 2.4172e-15, 2.4388e-15, 2.3598e-15, 2.2992e-15,\n",
              "          2.3243e-15, 2.1958e-15, 2.1224e-15, 2.0956e-15, 1.9410e-15],\n",
              "         [2.3780e-15, 2.3283e-15, 2.3683e-15, 2.3706e-15, 2.2520e-15,\n",
              "          2.2319e-15, 2.1742e-15, 2.0618e-15, 1.9718e-15, 1.8966e-15],\n",
              "         [2.3273e-15, 2.3375e-15, 2.2723e-15, 2.2385e-15, 2.1783e-15,\n",
              "          2.1715e-15, 2.1338e-15, 1.9819e-15, 1.8949e-15, 1.8474e-15],\n",
              "         [2.2469e-15, 2.2468e-15, 2.1724e-15, 2.1326e-15, 2.0815e-15,\n",
              "          2.0846e-15, 2.0284e-15, 1.8964e-15, 1.8833e-15, 1.7820e-15],\n",
              "         [2.1503e-15, 2.1071e-15, 2.0835e-15, 2.0798e-15, 2.0558e-15,\n",
              "          1.9710e-15, 1.9245e-15, 1.8610e-15, 1.7922e-15, 1.6717e-15]]],\n",
              "       dtype=torch.float64)"
            ]
          },
          "metadata": {
            "tags": []
          },
          "execution_count": 80
        }
      ]
    },
    {
      "cell_type": "code",
      "metadata": {
        "colab": {
          "base_uri": "https://localhost:8080/"
        },
        "id": "R463mZGndAn3",
        "outputId": "62ba2954-ac28-4fc8-b5c1-cfcdafc1bd04"
      },
      "source": [
        "papb = torch.matmul(pa.permute(0,2,1), pb) + torch.finfo(torch.float32).eps\n",
        "papb"
      ],
      "execution_count": null,
      "outputs": [
        {
          "output_type": "execute_result",
          "data": {
            "text/plain": [
              "tensor([[[1.1921e-07, 1.1921e-07, 1.1921e-07, 1.1921e-07, 1.1921e-07,\n",
              "          1.1921e-07, 1.1921e-07, 1.1921e-07, 1.1921e-07, 1.1921e-07],\n",
              "         [1.1921e-07, 1.1921e-07, 1.1921e-07, 1.1921e-07, 1.1921e-07,\n",
              "          1.1921e-07, 1.1921e-07, 1.1921e-07, 1.1921e-07, 1.1921e-07],\n",
              "         [1.1921e-07, 1.1921e-07, 1.1921e-07, 1.1921e-07, 1.1921e-07,\n",
              "          1.1921e-07, 1.1921e-07, 1.1921e-07, 1.1921e-07, 1.1921e-07],\n",
              "         [1.1921e-07, 1.1921e-07, 1.1921e-07, 1.1921e-07, 1.1921e-07,\n",
              "          1.1921e-07, 1.1921e-07, 1.1921e-07, 1.1921e-07, 1.1921e-07],\n",
              "         [1.1921e-07, 1.1921e-07, 1.1921e-07, 1.1921e-07, 1.1921e-07,\n",
              "          1.1921e-07, 1.1921e-07, 1.1921e-07, 1.1921e-07, 1.1921e-07],\n",
              "         [1.1921e-07, 1.1921e-07, 1.1921e-07, 1.1921e-07, 1.1921e-07,\n",
              "          1.1921e-07, 1.1921e-07, 1.1921e-07, 1.1921e-07, 1.1921e-07],\n",
              "         [1.1921e-07, 1.1921e-07, 1.1921e-07, 1.1921e-07, 1.1921e-07,\n",
              "          1.1921e-07, 1.1921e-07, 1.1921e-07, 1.1921e-07, 1.1921e-07],\n",
              "         [1.1921e-07, 1.1921e-07, 1.1921e-07, 1.1921e-07, 1.1921e-07,\n",
              "          1.1921e-07, 1.1921e-07, 1.1921e-07, 1.1921e-07, 1.1921e-07],\n",
              "         [1.1921e-07, 1.1921e-07, 1.1921e-07, 1.1921e-07, 1.1921e-07,\n",
              "          1.1921e-07, 1.1921e-07, 1.1921e-07, 1.1921e-07, 1.1921e-07],\n",
              "         [1.1921e-07, 1.1921e-07, 1.1921e-07, 1.1921e-07, 1.1921e-07,\n",
              "          1.1921e-07, 1.1921e-07, 1.1921e-07, 1.1921e-07, 1.1921e-07]]],\n",
              "       dtype=torch.float64)"
            ]
          },
          "metadata": {
            "tags": []
          },
          "execution_count": 79
        }
      ]
    },
    {
      "cell_type": "code",
      "metadata": {
        "colab": {
          "base_uri": "https://localhost:8080/"
        },
        "id": "LZ_DeS8fuNpf",
        "outputId": "6181488a-1f3d-499c-c519-84436ed480f9"
      },
      "source": [
        "torch.finfo(torch.float32).eps"
      ],
      "execution_count": null,
      "outputs": [
        {
          "output_type": "execute_result",
          "data": {
            "text/plain": [
              "1.1920928955078125e-07"
            ]
          },
          "metadata": {
            "tags": []
          },
          "execution_count": 77
        }
      ]
    },
    {
      "cell_type": "code",
      "metadata": {
        "id": "8lKbc_rGdAqu"
      },
      "source": [
        "mi = torch.sum(torch.sum(pab * torch.log(pab/papb + torch.finfo(torch.float32).eps), 1), 1)"
      ],
      "execution_count": null,
      "outputs": []
    },
    {
      "cell_type": "code",
      "metadata": {
        "colab": {
          "base_uri": "https://localhost:8080/"
        },
        "id": "OcwfhhZidAtY",
        "outputId": "9f40948e-3481-454b-b0f7-e67886faed27"
      },
      "source": [
        "mi"
      ],
      "execution_count": null,
      "outputs": [
        {
          "output_type": "execute_result",
          "data": {
            "text/plain": [
              "tensor([-3.5838e-12], dtype=torch.float64)"
            ]
          },
          "metadata": {
            "tags": []
          },
          "execution_count": 82
        }
      ]
    }
  ]
}