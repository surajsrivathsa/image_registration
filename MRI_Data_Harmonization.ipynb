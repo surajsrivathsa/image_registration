{
  "nbformat": 4,
  "nbformat_minor": 0,
  "metadata": {
    "colab": {
      "name": "MRI_Data_Harmonization.ipynb",
      "provenance": [],
      "authorship_tag": "ABX9TyPHczHDbLV4VCeA1PskKiUa",
      "include_colab_link": true
    },
    "kernelspec": {
      "name": "python3",
      "display_name": "Python 3"
    },
    "language_info": {
      "name": "python"
    },
    "accelerator": "GPU"
  },
  "cells": [
    {
      "cell_type": "markdown",
      "metadata": {
        "id": "view-in-github",
        "colab_type": "text"
      },
      "source": [
        "<a href=\"https://colab.research.google.com/github/surajsrivathsa/image_registration/blob/main/MRI_Data_Harmonization.ipynb\" target=\"_parent\"><img src=\"https://colab.research.google.com/assets/colab-badge.svg\" alt=\"Open In Colab\"/></a>"
      ]
    },
    {
      "cell_type": "markdown",
      "metadata": {
        "id": "RRsWi7UwV4Rp"
      },
      "source": [
        "# Preamble"
      ]
    },
    {
      "cell_type": "code",
      "metadata": {
        "id": "yGU_RJ5F25Ky"
      },
      "source": [
        "# !pip install --upgrade nibabel"
      ],
      "execution_count": null,
      "outputs": []
    },
    {
      "cell_type": "code",
      "metadata": {
        "id": "rPRgYP743rDZ",
        "colab": {
          "base_uri": "https://localhost:8080/"
        },
        "outputId": "b0ffc928-edfa-4e57-a0e2-48869d01cfb1"
      },
      "source": [
        "import warnings\n",
        "import os\n",
        "warnings.filterwarnings(\"ignore\")\n",
        "import numpy as np\n",
        "import torch\n",
        "print(torch.__version__)\n",
        "import torchvision\n",
        "print(torchvision.__version__)\n",
        "import torch \n",
        "import torch.nn as nn\n",
        "import torch.nn.functional as F\n",
        "import torch.utils.data as Data\n",
        "import nibabel as nb\n",
        "import os, sys, glob\n",
        "from google.colab import drive\n",
        "drive.mount('/content/drive')\n",
        "print()"
      ],
      "execution_count": 1,
      "outputs": [
        {
          "output_type": "stream",
          "text": [
            "1.8.0+cu101\n",
            "0.9.0+cu101\n",
            "Mounted at /content/drive\n",
            "\n"
          ],
          "name": "stdout"
        }
      ]
    },
    {
      "cell_type": "code",
      "metadata": {
        "id": "C499dQF-HYE0"
      },
      "source": [
        "import pandas as pd\n",
        "import matplotlib.pyplot as plt\n",
        "import re\n",
        "import seaborn as sns\n",
        "import collections"
      ],
      "execution_count": 4,
      "outputs": []
    },
    {
      "cell_type": "code",
      "metadata": {
        "id": "dsQ1Og8Xmncz"
      },
      "source": [
        "import time\n",
        "from sklearn.decomposition import PCA\n",
        "from sklearn.manifold import TSNE"
      ],
      "execution_count": 116,
      "outputs": []
    },
    {
      "cell_type": "code",
      "metadata": {
        "id": "HcQreD_r3rJY"
      },
      "source": [
        "data_path_t1 = \"/content/drive/My Drive/Image_Registration_Project/dataset_ants_resampled/T1_Train_200_Reg_downsampled_znm/\"\n",
        "data_path_t2 = \"/content/drive/My Drive/Image_Registration_Project/dataset_ants_resampled/T1_Train_200_Reg_downsampled_znm/\"\n",
        "ixi_xls_path = \"/content/drive/My Drive/Image_Registration_Project/dataset_ants_resampled/IXI.xls\"\n",
        "file_names_t1 = sorted(glob.glob(os.path.join(data_path_t1, \"*.nii.gz\")))\n",
        "file_names_t2 = sorted(glob.glob(os.path.join(data_path_t2, \"*.nii.gz\")))"
      ],
      "execution_count": 6,
      "outputs": []
    },
    {
      "cell_type": "code",
      "metadata": {
        "colab": {
          "base_uri": "https://localhost:8080/",
          "height": 201
        },
        "id": "HJgY4Ba9HJS1",
        "outputId": "997a8ed1-d1f1-49cc-e94e-0fbf2828d71d"
      },
      "source": [
        "ixi_df = pd.read_excel(ixi_xls_path, sheet_name=\"Table\")\n",
        "ixi_df.head()"
      ],
      "execution_count": 7,
      "outputs": [
        {
          "output_type": "execute_result",
          "data": {
            "text/html": [
              "<div>\n",
              "<style scoped>\n",
              "    .dataframe tbody tr th:only-of-type {\n",
              "        vertical-align: middle;\n",
              "    }\n",
              "\n",
              "    .dataframe tbody tr th {\n",
              "        vertical-align: top;\n",
              "    }\n",
              "\n",
              "    .dataframe thead th {\n",
              "        text-align: right;\n",
              "    }\n",
              "</style>\n",
              "<table border=\"1\" class=\"dataframe\">\n",
              "  <thead>\n",
              "    <tr style=\"text-align: right;\">\n",
              "      <th></th>\n",
              "      <th>IXI_ID</th>\n",
              "      <th>SEX_ID (1=m, 2=f)</th>\n",
              "      <th>HEIGHT</th>\n",
              "      <th>WEIGHT</th>\n",
              "      <th>ETHNIC_ID</th>\n",
              "      <th>MARITAL_ID</th>\n",
              "      <th>OCCUPATION_ID</th>\n",
              "      <th>QUALIFICATION_ID</th>\n",
              "      <th>DOB</th>\n",
              "      <th>DATE_AVAILABLE</th>\n",
              "      <th>STUDY_DATE</th>\n",
              "      <th>AGE</th>\n",
              "    </tr>\n",
              "  </thead>\n",
              "  <tbody>\n",
              "    <tr>\n",
              "      <th>0</th>\n",
              "      <td>1</td>\n",
              "      <td>1</td>\n",
              "      <td>170</td>\n",
              "      <td>80</td>\n",
              "      <td>2</td>\n",
              "      <td>3</td>\n",
              "      <td>5</td>\n",
              "      <td>2</td>\n",
              "      <td>1968-02-22</td>\n",
              "      <td>0</td>\n",
              "      <td>NaT</td>\n",
              "      <td>NaN</td>\n",
              "    </tr>\n",
              "    <tr>\n",
              "      <th>1</th>\n",
              "      <td>2</td>\n",
              "      <td>2</td>\n",
              "      <td>164</td>\n",
              "      <td>58</td>\n",
              "      <td>1</td>\n",
              "      <td>4</td>\n",
              "      <td>1</td>\n",
              "      <td>5</td>\n",
              "      <td>1970-01-30</td>\n",
              "      <td>1</td>\n",
              "      <td>2005-11-18</td>\n",
              "      <td>35.800137</td>\n",
              "    </tr>\n",
              "    <tr>\n",
              "      <th>2</th>\n",
              "      <td>12</td>\n",
              "      <td>1</td>\n",
              "      <td>175</td>\n",
              "      <td>70</td>\n",
              "      <td>1</td>\n",
              "      <td>2</td>\n",
              "      <td>1</td>\n",
              "      <td>5</td>\n",
              "      <td>1966-08-20</td>\n",
              "      <td>1</td>\n",
              "      <td>2005-06-01</td>\n",
              "      <td>38.781656</td>\n",
              "    </tr>\n",
              "    <tr>\n",
              "      <th>3</th>\n",
              "      <td>13</td>\n",
              "      <td>1</td>\n",
              "      <td>182</td>\n",
              "      <td>70</td>\n",
              "      <td>1</td>\n",
              "      <td>2</td>\n",
              "      <td>1</td>\n",
              "      <td>5</td>\n",
              "      <td>1958-09-15</td>\n",
              "      <td>1</td>\n",
              "      <td>2005-06-01</td>\n",
              "      <td>46.710472</td>\n",
              "    </tr>\n",
              "    <tr>\n",
              "      <th>4</th>\n",
              "      <td>14</td>\n",
              "      <td>2</td>\n",
              "      <td>163</td>\n",
              "      <td>65</td>\n",
              "      <td>1</td>\n",
              "      <td>4</td>\n",
              "      <td>1</td>\n",
              "      <td>5</td>\n",
              "      <td>1971-03-15</td>\n",
              "      <td>1</td>\n",
              "      <td>2005-06-09</td>\n",
              "      <td>34.236824</td>\n",
              "    </tr>\n",
              "  </tbody>\n",
              "</table>\n",
              "</div>"
            ],
            "text/plain": [
              "   IXI_ID  SEX_ID (1=m, 2=f)  HEIGHT  ...  DATE_AVAILABLE  STUDY_DATE        AGE\n",
              "0       1                  1     170  ...               0         NaT        NaN\n",
              "1       2                  2     164  ...               1  2005-11-18  35.800137\n",
              "2      12                  1     175  ...               1  2005-06-01  38.781656\n",
              "3      13                  1     182  ...               1  2005-06-01  46.710472\n",
              "4      14                  2     163  ...               1  2005-06-09  34.236824\n",
              "\n",
              "[5 rows x 12 columns]"
            ]
          },
          "metadata": {
            "tags": []
          },
          "execution_count": 7
        }
      ]
    },
    {
      "cell_type": "code",
      "metadata": {
        "colab": {
          "base_uri": "https://localhost:8080/",
          "height": 291
        },
        "id": "X4vAVMplPuf8",
        "outputId": "c6192a2f-75e4-40bf-aae3-d2ac7b97e4da"
      },
      "source": [
        "ixi_df.describe()"
      ],
      "execution_count": 8,
      "outputs": [
        {
          "output_type": "execute_result",
          "data": {
            "text/html": [
              "<div>\n",
              "<style scoped>\n",
              "    .dataframe tbody tr th:only-of-type {\n",
              "        vertical-align: middle;\n",
              "    }\n",
              "\n",
              "    .dataframe tbody tr th {\n",
              "        vertical-align: top;\n",
              "    }\n",
              "\n",
              "    .dataframe thead th {\n",
              "        text-align: right;\n",
              "    }\n",
              "</style>\n",
              "<table border=\"1\" class=\"dataframe\">\n",
              "  <thead>\n",
              "    <tr style=\"text-align: right;\">\n",
              "      <th></th>\n",
              "      <th>IXI_ID</th>\n",
              "      <th>SEX_ID (1=m, 2=f)</th>\n",
              "      <th>HEIGHT</th>\n",
              "      <th>WEIGHT</th>\n",
              "      <th>ETHNIC_ID</th>\n",
              "      <th>MARITAL_ID</th>\n",
              "      <th>OCCUPATION_ID</th>\n",
              "      <th>QUALIFICATION_ID</th>\n",
              "      <th>DATE_AVAILABLE</th>\n",
              "      <th>AGE</th>\n",
              "    </tr>\n",
              "  </thead>\n",
              "  <tbody>\n",
              "    <tr>\n",
              "      <th>count</th>\n",
              "      <td>619.000000</td>\n",
              "      <td>619.000000</td>\n",
              "      <td>619.000000</td>\n",
              "      <td>619.000000</td>\n",
              "      <td>619.000000</td>\n",
              "      <td>619.000000</td>\n",
              "      <td>619.00000</td>\n",
              "      <td>619.000000</td>\n",
              "      <td>619.000000</td>\n",
              "      <td>590.000000</td>\n",
              "    </tr>\n",
              "    <tr>\n",
              "      <th>mean</th>\n",
              "      <td>335.399031</td>\n",
              "      <td>1.552504</td>\n",
              "      <td>160.466882</td>\n",
              "      <td>70.195477</td>\n",
              "      <td>1.374798</td>\n",
              "      <td>2.016155</td>\n",
              "      <td>2.50727</td>\n",
              "      <td>3.733441</td>\n",
              "      <td>0.957997</td>\n",
              "      <td>49.416235</td>\n",
              "    </tr>\n",
              "    <tr>\n",
              "      <th>std</th>\n",
              "      <td>185.351230</td>\n",
              "      <td>0.497638</td>\n",
              "      <td>99.604071</td>\n",
              "      <td>56.802863</td>\n",
              "      <td>1.122762</td>\n",
              "      <td>1.280826</td>\n",
              "      <td>2.05535</td>\n",
              "      <td>1.662949</td>\n",
              "      <td>0.200759</td>\n",
              "      <td>16.715313</td>\n",
              "    </tr>\n",
              "    <tr>\n",
              "      <th>min</th>\n",
              "      <td>1.000000</td>\n",
              "      <td>1.000000</td>\n",
              "      <td>0.000000</td>\n",
              "      <td>0.000000</td>\n",
              "      <td>0.000000</td>\n",
              "      <td>0.000000</td>\n",
              "      <td>0.00000</td>\n",
              "      <td>0.000000</td>\n",
              "      <td>0.000000</td>\n",
              "      <td>19.980835</td>\n",
              "    </tr>\n",
              "    <tr>\n",
              "      <th>25%</th>\n",
              "      <td>176.500000</td>\n",
              "      <td>1.000000</td>\n",
              "      <td>160.000000</td>\n",
              "      <td>60.000000</td>\n",
              "      <td>1.000000</td>\n",
              "      <td>1.000000</td>\n",
              "      <td>1.00000</td>\n",
              "      <td>3.000000</td>\n",
              "      <td>1.000000</td>\n",
              "      <td>34.000000</td>\n",
              "    </tr>\n",
              "    <tr>\n",
              "      <th>50%</th>\n",
              "      <td>341.000000</td>\n",
              "      <td>2.000000</td>\n",
              "      <td>168.000000</td>\n",
              "      <td>70.000000</td>\n",
              "      <td>1.000000</td>\n",
              "      <td>2.000000</td>\n",
              "      <td>1.00000</td>\n",
              "      <td>5.000000</td>\n",
              "      <td>1.000000</td>\n",
              "      <td>50.611910</td>\n",
              "    </tr>\n",
              "    <tr>\n",
              "      <th>75%</th>\n",
              "      <td>498.000000</td>\n",
              "      <td>2.000000</td>\n",
              "      <td>176.000000</td>\n",
              "      <td>80.000000</td>\n",
              "      <td>1.000000</td>\n",
              "      <td>3.000000</td>\n",
              "      <td>5.00000</td>\n",
              "      <td>5.000000</td>\n",
              "      <td>1.000000</td>\n",
              "      <td>63.355921</td>\n",
              "    </tr>\n",
              "    <tr>\n",
              "      <th>max</th>\n",
              "      <td>662.000000</td>\n",
              "      <td>2.000000</td>\n",
              "      <td>1850.000000</td>\n",
              "      <td>960.000000</td>\n",
              "      <td>6.000000</td>\n",
              "      <td>5.000000</td>\n",
              "      <td>8.00000</td>\n",
              "      <td>5.000000</td>\n",
              "      <td>1.000000</td>\n",
              "      <td>86.318960</td>\n",
              "    </tr>\n",
              "  </tbody>\n",
              "</table>\n",
              "</div>"
            ],
            "text/plain": [
              "           IXI_ID  SEX_ID (1=m, 2=f)  ...  DATE_AVAILABLE         AGE\n",
              "count  619.000000         619.000000  ...      619.000000  590.000000\n",
              "mean   335.399031           1.552504  ...        0.957997   49.416235\n",
              "std    185.351230           0.497638  ...        0.200759   16.715313\n",
              "min      1.000000           1.000000  ...        0.000000   19.980835\n",
              "25%    176.500000           1.000000  ...        1.000000   34.000000\n",
              "50%    341.000000           2.000000  ...        1.000000   50.611910\n",
              "75%    498.000000           2.000000  ...        1.000000   63.355921\n",
              "max    662.000000           2.000000  ...        1.000000   86.318960\n",
              "\n",
              "[8 rows x 10 columns]"
            ]
          },
          "metadata": {
            "tags": []
          },
          "execution_count": 8
        }
      ]
    },
    {
      "cell_type": "markdown",
      "metadata": {
        "id": "WXxhfCbAQBcz"
      },
      "source": [
        "duplicate records in ixi excel file must be dropped to ensure one-one join later"
      ]
    },
    {
      "cell_type": "code",
      "metadata": {
        "id": "QggyEeUPPzly"
      },
      "source": [
        "ixi_df.drop_duplicates(subset=['IXI_ID'], keep='first', inplace=True)"
      ],
      "execution_count": 9,
      "outputs": []
    },
    {
      "cell_type": "code",
      "metadata": {
        "id": "IkjgyfMi3rMc",
        "colab": {
          "base_uri": "https://localhost:8080/"
        },
        "outputId": "4614b53b-1739-491e-bca8-e748e11f5074"
      },
      "source": [
        "count = 0\n",
        "ixi_id = []\n",
        "scanner_name = []\n",
        "contrast_type = []\n",
        "file_path = []\n",
        "for root, dirs, files in os.walk(data_path_t1):\n",
        "  for file in files:\n",
        "    parameters_search = re.search('reg_IXI(\\d*)-(\\w*)-(\\d*)-(\\w*)_downsampled_hm_zscore(.*?)', file, re.IGNORECASE)\n",
        "    \n",
        "    if parameters_search:\n",
        "      ixi_id.append(int(parameters_search.group(1)))\n",
        "      scanner_name.append(parameters_search.group(2))\n",
        "      contrast_type.append(parameters_search.group(4))\n",
        "      file_path.append(os.path.join(data_path_t1, file))\n",
        "  \n",
        "    count = count+1\n",
        "  \n",
        "  print(\"processed {} files\".format(count))"
      ],
      "execution_count": 10,
      "outputs": [
        {
          "output_type": "stream",
          "text": [
            "processed 201 files\n"
          ],
          "name": "stdout"
        }
      ]
    },
    {
      "cell_type": "markdown",
      "metadata": {
        "id": "WqdYZb3yQHJ1"
      },
      "source": [
        "check for ixi_id duplicates in our regexed list"
      ]
    },
    {
      "cell_type": "code",
      "metadata": {
        "id": "uAEPnYWfP_DK",
        "colab": {
          "base_uri": "https://localhost:8080/"
        },
        "outputId": "600e5dec-45e5-4dec-fa61-d4d1b441b385"
      },
      "source": [
        "print([item for item, count in collections.Counter(ixi_id).items() if count > 1])"
      ],
      "execution_count": null,
      "outputs": [
        {
          "output_type": "stream",
          "text": [
            "[]\n"
          ],
          "name": "stdout"
        }
      ]
    },
    {
      "cell_type": "code",
      "metadata": {
        "colab": {
          "base_uri": "https://localhost:8080/"
        },
        "id": "o7HtDIasF3VN",
        "outputId": "553b2dd6-019c-4c0b-d8d4-8697253d68ef"
      },
      "source": [
        "contrast_type[0:3]"
      ],
      "execution_count": null,
      "outputs": [
        {
          "output_type": "execute_result",
          "data": {
            "text/plain": [
              "['T1', 'T1', 'T1']"
            ]
          },
          "metadata": {
            "tags": []
          },
          "execution_count": 10
        }
      ]
    },
    {
      "cell_type": "code",
      "metadata": {
        "colab": {
          "base_uri": "https://localhost:8080/"
        },
        "id": "Sf15Wg3-F86S",
        "outputId": "520dbf06-8756-4132-f7b5-b485e0af0d53"
      },
      "source": [
        "scanner_name[0:3]"
      ],
      "execution_count": null,
      "outputs": [
        {
          "output_type": "execute_result",
          "data": {
            "text/plain": [
              "['IOP', 'Guys', 'Guys']"
            ]
          },
          "metadata": {
            "tags": []
          },
          "execution_count": 11
        }
      ]
    },
    {
      "cell_type": "code",
      "metadata": {
        "colab": {
          "base_uri": "https://localhost:8080/"
        },
        "id": "UmYyWOtMLnRf",
        "outputId": "3b37b665-4913-4e35-b16d-0b57ba1a4b0e"
      },
      "source": [
        "ixi_id[0:3]"
      ],
      "execution_count": null,
      "outputs": [
        {
          "output_type": "execute_result",
          "data": {
            "text/plain": [
              "[433, 429, 431]"
            ]
          },
          "metadata": {
            "tags": []
          },
          "execution_count": 12
        }
      ]
    },
    {
      "cell_type": "code",
      "metadata": {
        "colab": {
          "base_uri": "https://localhost:8080/",
          "height": 201
        },
        "id": "q7kKO3o8Lpy2",
        "outputId": "55ff4624-dd9d-429f-a541-f1071c92c0cf"
      },
      "source": [
        "our_df = pd.DataFrame(data={ \"our_ixi_id\": ixi_id, \"scanner_name\": scanner_name, \"contrast_type\": contrast_type, \"file_path\": file_path} )\n",
        "our_df.head()"
      ],
      "execution_count": 11,
      "outputs": [
        {
          "output_type": "execute_result",
          "data": {
            "text/html": [
              "<div>\n",
              "<style scoped>\n",
              "    .dataframe tbody tr th:only-of-type {\n",
              "        vertical-align: middle;\n",
              "    }\n",
              "\n",
              "    .dataframe tbody tr th {\n",
              "        vertical-align: top;\n",
              "    }\n",
              "\n",
              "    .dataframe thead th {\n",
              "        text-align: right;\n",
              "    }\n",
              "</style>\n",
              "<table border=\"1\" class=\"dataframe\">\n",
              "  <thead>\n",
              "    <tr style=\"text-align: right;\">\n",
              "      <th></th>\n",
              "      <th>our_ixi_id</th>\n",
              "      <th>scanner_name</th>\n",
              "      <th>contrast_type</th>\n",
              "      <th>file_path</th>\n",
              "    </tr>\n",
              "  </thead>\n",
              "  <tbody>\n",
              "    <tr>\n",
              "      <th>0</th>\n",
              "      <td>433</td>\n",
              "      <td>IOP</td>\n",
              "      <td>T1</td>\n",
              "      <td>/content/drive/My Drive/Image_Registration_Pro...</td>\n",
              "    </tr>\n",
              "    <tr>\n",
              "      <th>1</th>\n",
              "      <td>429</td>\n",
              "      <td>Guys</td>\n",
              "      <td>T1</td>\n",
              "      <td>/content/drive/My Drive/Image_Registration_Pro...</td>\n",
              "    </tr>\n",
              "    <tr>\n",
              "      <th>2</th>\n",
              "      <td>431</td>\n",
              "      <td>Guys</td>\n",
              "      <td>T1</td>\n",
              "      <td>/content/drive/My Drive/Image_Registration_Pro...</td>\n",
              "    </tr>\n",
              "    <tr>\n",
              "      <th>3</th>\n",
              "      <td>430</td>\n",
              "      <td>IOP</td>\n",
              "      <td>T1</td>\n",
              "      <td>/content/drive/My Drive/Image_Registration_Pro...</td>\n",
              "    </tr>\n",
              "    <tr>\n",
              "      <th>4</th>\n",
              "      <td>432</td>\n",
              "      <td>Guys</td>\n",
              "      <td>T1</td>\n",
              "      <td>/content/drive/My Drive/Image_Registration_Pro...</td>\n",
              "    </tr>\n",
              "  </tbody>\n",
              "</table>\n",
              "</div>"
            ],
            "text/plain": [
              "   our_ixi_id  ...                                          file_path\n",
              "0         433  ...  /content/drive/My Drive/Image_Registration_Pro...\n",
              "1         429  ...  /content/drive/My Drive/Image_Registration_Pro...\n",
              "2         431  ...  /content/drive/My Drive/Image_Registration_Pro...\n",
              "3         430  ...  /content/drive/My Drive/Image_Registration_Pro...\n",
              "4         432  ...  /content/drive/My Drive/Image_Registration_Pro...\n",
              "\n",
              "[5 rows x 4 columns]"
            ]
          },
          "metadata": {
            "tags": []
          },
          "execution_count": 11
        }
      ]
    },
    {
      "cell_type": "markdown",
      "metadata": {
        "id": "eQMz54fzQYal"
      },
      "source": [
        "IOP scanner info is pretty less, In each batch there should be atleast some IOP. Both learning and unlearning. Ofcourse this has to be decided based on age."
      ]
    },
    {
      "cell_type": "code",
      "metadata": {
        "id": "hV2AxYFFNWrE"
      },
      "source": [
        "filtered_df = pd.merge(left = ixi_df, right=our_df, left_on=\"IXI_ID\", right_on=\"our_ixi_id\", how=\"inner\", validate=\"one_to_one\")"
      ],
      "execution_count": 12,
      "outputs": []
    },
    {
      "cell_type": "code",
      "metadata": {
        "colab": {
          "base_uri": "https://localhost:8080/",
          "height": 336
        },
        "id": "SXOEUdafO2ja",
        "outputId": "5ad81dbf-479a-439c-9d2b-2437e349242b"
      },
      "source": [
        "filtered_df.head()"
      ],
      "execution_count": 13,
      "outputs": [
        {
          "output_type": "execute_result",
          "data": {
            "text/html": [
              "<div>\n",
              "<style scoped>\n",
              "    .dataframe tbody tr th:only-of-type {\n",
              "        vertical-align: middle;\n",
              "    }\n",
              "\n",
              "    .dataframe tbody tr th {\n",
              "        vertical-align: top;\n",
              "    }\n",
              "\n",
              "    .dataframe thead th {\n",
              "        text-align: right;\n",
              "    }\n",
              "</style>\n",
              "<table border=\"1\" class=\"dataframe\">\n",
              "  <thead>\n",
              "    <tr style=\"text-align: right;\">\n",
              "      <th></th>\n",
              "      <th>IXI_ID</th>\n",
              "      <th>SEX_ID (1=m, 2=f)</th>\n",
              "      <th>HEIGHT</th>\n",
              "      <th>WEIGHT</th>\n",
              "      <th>ETHNIC_ID</th>\n",
              "      <th>MARITAL_ID</th>\n",
              "      <th>OCCUPATION_ID</th>\n",
              "      <th>QUALIFICATION_ID</th>\n",
              "      <th>DOB</th>\n",
              "      <th>DATE_AVAILABLE</th>\n",
              "      <th>STUDY_DATE</th>\n",
              "      <th>AGE</th>\n",
              "      <th>our_ixi_id</th>\n",
              "      <th>scanner_name</th>\n",
              "      <th>contrast_type</th>\n",
              "      <th>file_path</th>\n",
              "    </tr>\n",
              "  </thead>\n",
              "  <tbody>\n",
              "    <tr>\n",
              "      <th>0</th>\n",
              "      <td>60</td>\n",
              "      <td>1</td>\n",
              "      <td>180</td>\n",
              "      <td>75</td>\n",
              "      <td>1</td>\n",
              "      <td>2</td>\n",
              "      <td>1</td>\n",
              "      <td>5</td>\n",
              "      <td>1974-10-26</td>\n",
              "      <td>1</td>\n",
              "      <td>2005-07-08</td>\n",
              "      <td>30.699521</td>\n",
              "      <td>60</td>\n",
              "      <td>Guys</td>\n",
              "      <td>T1</td>\n",
              "      <td>/content/drive/My Drive/Image_Registration_Pro...</td>\n",
              "    </tr>\n",
              "    <tr>\n",
              "      <th>1</th>\n",
              "      <td>428</td>\n",
              "      <td>2</td>\n",
              "      <td>163</td>\n",
              "      <td>75</td>\n",
              "      <td>1</td>\n",
              "      <td>2</td>\n",
              "      <td>1</td>\n",
              "      <td>4</td>\n",
              "      <td>1951-01-08</td>\n",
              "      <td>1</td>\n",
              "      <td>2006-07-24</td>\n",
              "      <td>55.540041</td>\n",
              "      <td>428</td>\n",
              "      <td>Guys</td>\n",
              "      <td>T1</td>\n",
              "      <td>/content/drive/My Drive/Image_Registration_Pro...</td>\n",
              "    </tr>\n",
              "    <tr>\n",
              "      <th>2</th>\n",
              "      <td>429</td>\n",
              "      <td>2</td>\n",
              "      <td>155</td>\n",
              "      <td>61</td>\n",
              "      <td>1</td>\n",
              "      <td>2</td>\n",
              "      <td>2</td>\n",
              "      <td>4</td>\n",
              "      <td>1951-01-08</td>\n",
              "      <td>1</td>\n",
              "      <td>2006-07-24</td>\n",
              "      <td>55.540041</td>\n",
              "      <td>429</td>\n",
              "      <td>Guys</td>\n",
              "      <td>T1</td>\n",
              "      <td>/content/drive/My Drive/Image_Registration_Pro...</td>\n",
              "    </tr>\n",
              "    <tr>\n",
              "      <th>3</th>\n",
              "      <td>430</td>\n",
              "      <td>2</td>\n",
              "      <td>166</td>\n",
              "      <td>70</td>\n",
              "      <td>1</td>\n",
              "      <td>4</td>\n",
              "      <td>5</td>\n",
              "      <td>5</td>\n",
              "      <td>1934-07-02</td>\n",
              "      <td>1</td>\n",
              "      <td>2006-07-04</td>\n",
              "      <td>72.005476</td>\n",
              "      <td>430</td>\n",
              "      <td>IOP</td>\n",
              "      <td>T1</td>\n",
              "      <td>/content/drive/My Drive/Image_Registration_Pro...</td>\n",
              "    </tr>\n",
              "    <tr>\n",
              "      <th>4</th>\n",
              "      <td>431</td>\n",
              "      <td>2</td>\n",
              "      <td>163</td>\n",
              "      <td>58</td>\n",
              "      <td>1</td>\n",
              "      <td>2</td>\n",
              "      <td>2</td>\n",
              "      <td>5</td>\n",
              "      <td>1947-10-05</td>\n",
              "      <td>1</td>\n",
              "      <td>2006-07-17</td>\n",
              "      <td>58.781656</td>\n",
              "      <td>431</td>\n",
              "      <td>Guys</td>\n",
              "      <td>T1</td>\n",
              "      <td>/content/drive/My Drive/Image_Registration_Pro...</td>\n",
              "    </tr>\n",
              "  </tbody>\n",
              "</table>\n",
              "</div>"
            ],
            "text/plain": [
              "   IXI_ID  ...                                          file_path\n",
              "0      60  ...  /content/drive/My Drive/Image_Registration_Pro...\n",
              "1     428  ...  /content/drive/My Drive/Image_Registration_Pro...\n",
              "2     429  ...  /content/drive/My Drive/Image_Registration_Pro...\n",
              "3     430  ...  /content/drive/My Drive/Image_Registration_Pro...\n",
              "4     431  ...  /content/drive/My Drive/Image_Registration_Pro...\n",
              "\n",
              "[5 rows x 16 columns]"
            ]
          },
          "metadata": {
            "tags": []
          },
          "execution_count": 13
        }
      ]
    },
    {
      "cell_type": "markdown",
      "metadata": {
        "id": "NSPhljBSoMH9"
      },
      "source": [
        "discretize age into bins of 10"
      ]
    },
    {
      "cell_type": "code",
      "metadata": {
        "id": "DgM7xUeLcUJI"
      },
      "source": [
        "bins = [0, 10, 20, 30, 40, 50, 60, 70, 80, 90, 100]\n",
        "labels = [\"0-10\", \"10-20\", \"20-30\", \"30-40\", \"40-50\", \"50-60\", \"60-70\", \"70-80\", \"80-90\", \"90-100\"]\n",
        "filtered_df['age_disc'] = pd.cut(filtered_df['AGE'], bins=bins, labels=labels)"
      ],
      "execution_count": 14,
      "outputs": []
    },
    {
      "cell_type": "code",
      "metadata": {
        "colab": {
          "base_uri": "https://localhost:8080/",
          "height": 291
        },
        "id": "YjC8Z7bMcBc7",
        "outputId": "cdd3676d-ae66-4f0f-98e9-33867fb09b41"
      },
      "source": [
        "filtered_df[(filtered_df[\"scanner_name\"] == \"IOP\") & (filtered_df[\"age_disc\"].isin([\"50-60\", \"60-70\"]) ) ].describe()"
      ],
      "execution_count": 15,
      "outputs": [
        {
          "output_type": "execute_result",
          "data": {
            "text/html": [
              "<div>\n",
              "<style scoped>\n",
              "    .dataframe tbody tr th:only-of-type {\n",
              "        vertical-align: middle;\n",
              "    }\n",
              "\n",
              "    .dataframe tbody tr th {\n",
              "        vertical-align: top;\n",
              "    }\n",
              "\n",
              "    .dataframe thead th {\n",
              "        text-align: right;\n",
              "    }\n",
              "</style>\n",
              "<table border=\"1\" class=\"dataframe\">\n",
              "  <thead>\n",
              "    <tr style=\"text-align: right;\">\n",
              "      <th></th>\n",
              "      <th>IXI_ID</th>\n",
              "      <th>SEX_ID (1=m, 2=f)</th>\n",
              "      <th>HEIGHT</th>\n",
              "      <th>WEIGHT</th>\n",
              "      <th>ETHNIC_ID</th>\n",
              "      <th>MARITAL_ID</th>\n",
              "      <th>OCCUPATION_ID</th>\n",
              "      <th>QUALIFICATION_ID</th>\n",
              "      <th>DATE_AVAILABLE</th>\n",
              "      <th>AGE</th>\n",
              "      <th>our_ixi_id</th>\n",
              "    </tr>\n",
              "  </thead>\n",
              "  <tbody>\n",
              "    <tr>\n",
              "      <th>count</th>\n",
              "      <td>5.000000</td>\n",
              "      <td>5.000000</td>\n",
              "      <td>5.00000</td>\n",
              "      <td>5.00000</td>\n",
              "      <td>5.0</td>\n",
              "      <td>5.000000</td>\n",
              "      <td>5.000000</td>\n",
              "      <td>5.00000</td>\n",
              "      <td>5.0</td>\n",
              "      <td>5.000000</td>\n",
              "      <td>5.000000</td>\n",
              "    </tr>\n",
              "    <tr>\n",
              "      <th>mean</th>\n",
              "      <td>494.200000</td>\n",
              "      <td>1.600000</td>\n",
              "      <td>163.40000</td>\n",
              "      <td>69.60000</td>\n",
              "      <td>1.0</td>\n",
              "      <td>1.600000</td>\n",
              "      <td>5.200000</td>\n",
              "      <td>4.20000</td>\n",
              "      <td>1.0</td>\n",
              "      <td>62.729090</td>\n",
              "      <td>494.200000</td>\n",
              "    </tr>\n",
              "    <tr>\n",
              "      <th>std</th>\n",
              "      <td>63.365606</td>\n",
              "      <td>0.547723</td>\n",
              "      <td>12.54193</td>\n",
              "      <td>18.98157</td>\n",
              "      <td>0.0</td>\n",
              "      <td>0.547723</td>\n",
              "      <td>0.447214</td>\n",
              "      <td>1.30384</td>\n",
              "      <td>0.0</td>\n",
              "      <td>7.282813</td>\n",
              "      <td>63.365606</td>\n",
              "    </tr>\n",
              "    <tr>\n",
              "      <th>min</th>\n",
              "      <td>434.000000</td>\n",
              "      <td>1.000000</td>\n",
              "      <td>153.00000</td>\n",
              "      <td>50.00000</td>\n",
              "      <td>1.0</td>\n",
              "      <td>1.000000</td>\n",
              "      <td>5.000000</td>\n",
              "      <td>2.00000</td>\n",
              "      <td>1.0</td>\n",
              "      <td>50.573580</td>\n",
              "      <td>434.000000</td>\n",
              "    </tr>\n",
              "    <tr>\n",
              "      <th>25%</th>\n",
              "      <td>442.000000</td>\n",
              "      <td>1.000000</td>\n",
              "      <td>157.00000</td>\n",
              "      <td>59.00000</td>\n",
              "      <td>1.0</td>\n",
              "      <td>1.000000</td>\n",
              "      <td>5.000000</td>\n",
              "      <td>4.00000</td>\n",
              "      <td>1.0</td>\n",
              "      <td>61.366188</td>\n",
              "      <td>442.000000</td>\n",
              "    </tr>\n",
              "    <tr>\n",
              "      <th>50%</th>\n",
              "      <td>473.000000</td>\n",
              "      <td>2.000000</td>\n",
              "      <td>160.00000</td>\n",
              "      <td>60.00000</td>\n",
              "      <td>1.0</td>\n",
              "      <td>2.000000</td>\n",
              "      <td>5.000000</td>\n",
              "      <td>5.00000</td>\n",
              "      <td>1.0</td>\n",
              "      <td>66.329911</td>\n",
              "      <td>473.000000</td>\n",
              "    </tr>\n",
              "    <tr>\n",
              "      <th>75%</th>\n",
              "      <td>548.000000</td>\n",
              "      <td>2.000000</td>\n",
              "      <td>162.00000</td>\n",
              "      <td>84.00000</td>\n",
              "      <td>1.0</td>\n",
              "      <td>2.000000</td>\n",
              "      <td>5.000000</td>\n",
              "      <td>5.00000</td>\n",
              "      <td>1.0</td>\n",
              "      <td>67.241615</td>\n",
              "      <td>548.000000</td>\n",
              "    </tr>\n",
              "    <tr>\n",
              "      <th>max</th>\n",
              "      <td>574.000000</td>\n",
              "      <td>2.000000</td>\n",
              "      <td>185.00000</td>\n",
              "      <td>95.00000</td>\n",
              "      <td>1.0</td>\n",
              "      <td>2.000000</td>\n",
              "      <td>6.000000</td>\n",
              "      <td>5.00000</td>\n",
              "      <td>1.0</td>\n",
              "      <td>68.134155</td>\n",
              "      <td>574.000000</td>\n",
              "    </tr>\n",
              "  </tbody>\n",
              "</table>\n",
              "</div>"
            ],
            "text/plain": [
              "           IXI_ID  SEX_ID (1=m, 2=f)  ...        AGE  our_ixi_id\n",
              "count    5.000000           5.000000  ...   5.000000    5.000000\n",
              "mean   494.200000           1.600000  ...  62.729090  494.200000\n",
              "std     63.365606           0.547723  ...   7.282813   63.365606\n",
              "min    434.000000           1.000000  ...  50.573580  434.000000\n",
              "25%    442.000000           1.000000  ...  61.366188  442.000000\n",
              "50%    473.000000           2.000000  ...  66.329911  473.000000\n",
              "75%    548.000000           2.000000  ...  67.241615  548.000000\n",
              "max    574.000000           2.000000  ...  68.134155  574.000000\n",
              "\n",
              "[8 rows x 11 columns]"
            ]
          },
          "metadata": {
            "tags": []
          },
          "execution_count": 15
        }
      ]
    },
    {
      "cell_type": "code",
      "metadata": {
        "colab": {
          "base_uri": "https://localhost:8080/",
          "height": 291
        },
        "id": "5EDvSxnekeHz",
        "outputId": "bdb14526-a321-4fa9-9bc2-95f75c1ca11b"
      },
      "source": [
        "filtered_df[(filtered_df[\"scanner_name\"] == \"Guys\") & (filtered_df[\"age_disc\"].isin([\"50-60\", \"60-70\"]) ) ].describe()"
      ],
      "execution_count": 16,
      "outputs": [
        {
          "output_type": "execute_result",
          "data": {
            "text/html": [
              "<div>\n",
              "<style scoped>\n",
              "    .dataframe tbody tr th:only-of-type {\n",
              "        vertical-align: middle;\n",
              "    }\n",
              "\n",
              "    .dataframe tbody tr th {\n",
              "        vertical-align: top;\n",
              "    }\n",
              "\n",
              "    .dataframe thead th {\n",
              "        text-align: right;\n",
              "    }\n",
              "</style>\n",
              "<table border=\"1\" class=\"dataframe\">\n",
              "  <thead>\n",
              "    <tr style=\"text-align: right;\">\n",
              "      <th></th>\n",
              "      <th>IXI_ID</th>\n",
              "      <th>SEX_ID (1=m, 2=f)</th>\n",
              "      <th>HEIGHT</th>\n",
              "      <th>WEIGHT</th>\n",
              "      <th>ETHNIC_ID</th>\n",
              "      <th>MARITAL_ID</th>\n",
              "      <th>OCCUPATION_ID</th>\n",
              "      <th>QUALIFICATION_ID</th>\n",
              "      <th>DATE_AVAILABLE</th>\n",
              "      <th>AGE</th>\n",
              "      <th>our_ixi_id</th>\n",
              "    </tr>\n",
              "  </thead>\n",
              "  <tbody>\n",
              "    <tr>\n",
              "      <th>count</th>\n",
              "      <td>54.000000</td>\n",
              "      <td>54.000000</td>\n",
              "      <td>54.000000</td>\n",
              "      <td>54.000000</td>\n",
              "      <td>54.000000</td>\n",
              "      <td>54.000000</td>\n",
              "      <td>54.000000</td>\n",
              "      <td>54.000000</td>\n",
              "      <td>54.0</td>\n",
              "      <td>54.000000</td>\n",
              "      <td>54.000000</td>\n",
              "    </tr>\n",
              "    <tr>\n",
              "      <th>mean</th>\n",
              "      <td>529.333333</td>\n",
              "      <td>1.555556</td>\n",
              "      <td>192.833333</td>\n",
              "      <td>66.944444</td>\n",
              "      <td>1.203704</td>\n",
              "      <td>2.388889</td>\n",
              "      <td>4.148148</td>\n",
              "      <td>3.629630</td>\n",
              "      <td>1.0</td>\n",
              "      <td>62.796360</td>\n",
              "      <td>529.333333</td>\n",
              "    </tr>\n",
              "    <tr>\n",
              "      <th>std</th>\n",
              "      <td>65.262315</td>\n",
              "      <td>0.501570</td>\n",
              "      <td>232.171354</td>\n",
              "      <td>21.576032</td>\n",
              "      <td>0.876951</td>\n",
              "      <td>1.279986</td>\n",
              "      <td>2.068701</td>\n",
              "      <td>1.593576</td>\n",
              "      <td>0.0</td>\n",
              "      <td>4.837039</td>\n",
              "      <td>65.262315</td>\n",
              "    </tr>\n",
              "    <tr>\n",
              "      <th>min</th>\n",
              "      <td>428.000000</td>\n",
              "      <td>1.000000</td>\n",
              "      <td>0.000000</td>\n",
              "      <td>0.000000</td>\n",
              "      <td>0.000000</td>\n",
              "      <td>0.000000</td>\n",
              "      <td>0.000000</td>\n",
              "      <td>0.000000</td>\n",
              "      <td>1.0</td>\n",
              "      <td>50.395619</td>\n",
              "      <td>428.000000</td>\n",
              "    </tr>\n",
              "    <tr>\n",
              "      <th>25%</th>\n",
              "      <td>486.250000</td>\n",
              "      <td>1.000000</td>\n",
              "      <td>160.250000</td>\n",
              "      <td>58.000000</td>\n",
              "      <td>1.000000</td>\n",
              "      <td>2.000000</td>\n",
              "      <td>2.000000</td>\n",
              "      <td>2.250000</td>\n",
              "      <td>1.0</td>\n",
              "      <td>59.368925</td>\n",
              "      <td>486.250000</td>\n",
              "    </tr>\n",
              "    <tr>\n",
              "      <th>50%</th>\n",
              "      <td>505.500000</td>\n",
              "      <td>2.000000</td>\n",
              "      <td>167.000000</td>\n",
              "      <td>66.500000</td>\n",
              "      <td>1.000000</td>\n",
              "      <td>2.000000</td>\n",
              "      <td>5.000000</td>\n",
              "      <td>4.000000</td>\n",
              "      <td>1.0</td>\n",
              "      <td>63.627652</td>\n",
              "      <td>505.500000</td>\n",
              "    </tr>\n",
              "    <tr>\n",
              "      <th>75%</th>\n",
              "      <td>577.500000</td>\n",
              "      <td>2.000000</td>\n",
              "      <td>175.750000</td>\n",
              "      <td>79.000000</td>\n",
              "      <td>1.000000</td>\n",
              "      <td>3.500000</td>\n",
              "      <td>5.000000</td>\n",
              "      <td>5.000000</td>\n",
              "      <td>1.0</td>\n",
              "      <td>67.071869</td>\n",
              "      <td>577.500000</td>\n",
              "    </tr>\n",
              "    <tr>\n",
              "      <th>max</th>\n",
              "      <td>651.000000</td>\n",
              "      <td>2.000000</td>\n",
              "      <td>1850.000000</td>\n",
              "      <td>110.000000</td>\n",
              "      <td>6.000000</td>\n",
              "      <td>5.000000</td>\n",
              "      <td>8.000000</td>\n",
              "      <td>5.000000</td>\n",
              "      <td>1.0</td>\n",
              "      <td>69.689254</td>\n",
              "      <td>651.000000</td>\n",
              "    </tr>\n",
              "  </tbody>\n",
              "</table>\n",
              "</div>"
            ],
            "text/plain": [
              "           IXI_ID  SEX_ID (1=m, 2=f)  ...        AGE  our_ixi_id\n",
              "count   54.000000          54.000000  ...  54.000000   54.000000\n",
              "mean   529.333333           1.555556  ...  62.796360  529.333333\n",
              "std     65.262315           0.501570  ...   4.837039   65.262315\n",
              "min    428.000000           1.000000  ...  50.395619  428.000000\n",
              "25%    486.250000           1.000000  ...  59.368925  486.250000\n",
              "50%    505.500000           2.000000  ...  63.627652  505.500000\n",
              "75%    577.500000           2.000000  ...  67.071869  577.500000\n",
              "max    651.000000           2.000000  ...  69.689254  651.000000\n",
              "\n",
              "[8 rows x 11 columns]"
            ]
          },
          "metadata": {
            "tags": []
          },
          "execution_count": 16
        }
      ]
    },
    {
      "cell_type": "code",
      "metadata": {
        "colab": {
          "base_uri": "https://localhost:8080/",
          "height": 291
        },
        "id": "_q7_dzijirQh",
        "outputId": "fb32236f-108e-4e95-a049-94dd57ba8a91"
      },
      "source": [
        "filtered_df[(filtered_df[\"scanner_name\"] == \"HH\") & (filtered_df[\"age_disc\"].isin([\"50-60\", \"60-70\"]) ) ].describe()"
      ],
      "execution_count": null,
      "outputs": [
        {
          "output_type": "execute_result",
          "data": {
            "text/html": [
              "<div>\n",
              "<style scoped>\n",
              "    .dataframe tbody tr th:only-of-type {\n",
              "        vertical-align: middle;\n",
              "    }\n",
              "\n",
              "    .dataframe tbody tr th {\n",
              "        vertical-align: top;\n",
              "    }\n",
              "\n",
              "    .dataframe thead th {\n",
              "        text-align: right;\n",
              "    }\n",
              "</style>\n",
              "<table border=\"1\" class=\"dataframe\">\n",
              "  <thead>\n",
              "    <tr style=\"text-align: right;\">\n",
              "      <th></th>\n",
              "      <th>IXI_ID</th>\n",
              "      <th>SEX_ID (1=m, 2=f)</th>\n",
              "      <th>HEIGHT</th>\n",
              "      <th>WEIGHT</th>\n",
              "      <th>ETHNIC_ID</th>\n",
              "      <th>MARITAL_ID</th>\n",
              "      <th>OCCUPATION_ID</th>\n",
              "      <th>QUALIFICATION_ID</th>\n",
              "      <th>DATE_AVAILABLE</th>\n",
              "      <th>AGE</th>\n",
              "      <th>our_ixi_id</th>\n",
              "    </tr>\n",
              "  </thead>\n",
              "  <tbody>\n",
              "    <tr>\n",
              "      <th>count</th>\n",
              "      <td>34.000000</td>\n",
              "      <td>34.000000</td>\n",
              "      <td>34.000000</td>\n",
              "      <td>34.000000</td>\n",
              "      <td>34.000000</td>\n",
              "      <td>34.000000</td>\n",
              "      <td>34.000000</td>\n",
              "      <td>34.000000</td>\n",
              "      <td>34.0</td>\n",
              "      <td>34.000000</td>\n",
              "      <td>34.000000</td>\n",
              "    </tr>\n",
              "    <tr>\n",
              "      <th>mean</th>\n",
              "      <td>520.411765</td>\n",
              "      <td>1.529412</td>\n",
              "      <td>170.617647</td>\n",
              "      <td>77.264706</td>\n",
              "      <td>1.529412</td>\n",
              "      <td>2.235294</td>\n",
              "      <td>3.500000</td>\n",
              "      <td>3.352941</td>\n",
              "      <td>1.0</td>\n",
              "      <td>61.184120</td>\n",
              "      <td>520.411765</td>\n",
              "    </tr>\n",
              "    <tr>\n",
              "      <th>std</th>\n",
              "      <td>59.219222</td>\n",
              "      <td>0.506640</td>\n",
              "      <td>9.853517</td>\n",
              "      <td>15.964561</td>\n",
              "      <td>1.022039</td>\n",
              "      <td>1.129731</td>\n",
              "      <td>2.219063</td>\n",
              "      <td>1.474682</td>\n",
              "      <td>0.0</td>\n",
              "      <td>4.891415</td>\n",
              "      <td>59.219222</td>\n",
              "    </tr>\n",
              "    <tr>\n",
              "      <th>min</th>\n",
              "      <td>437.000000</td>\n",
              "      <td>1.000000</td>\n",
              "      <td>150.000000</td>\n",
              "      <td>52.000000</td>\n",
              "      <td>1.000000</td>\n",
              "      <td>1.000000</td>\n",
              "      <td>1.000000</td>\n",
              "      <td>1.000000</td>\n",
              "      <td>1.0</td>\n",
              "      <td>52.498289</td>\n",
              "      <td>437.000000</td>\n",
              "    </tr>\n",
              "    <tr>\n",
              "      <th>25%</th>\n",
              "      <td>469.000000</td>\n",
              "      <td>1.000000</td>\n",
              "      <td>163.500000</td>\n",
              "      <td>67.750000</td>\n",
              "      <td>1.000000</td>\n",
              "      <td>2.000000</td>\n",
              "      <td>1.250000</td>\n",
              "      <td>2.000000</td>\n",
              "      <td>1.0</td>\n",
              "      <td>57.568104</td>\n",
              "      <td>469.000000</td>\n",
              "    </tr>\n",
              "    <tr>\n",
              "      <th>50%</th>\n",
              "      <td>517.500000</td>\n",
              "      <td>2.000000</td>\n",
              "      <td>170.000000</td>\n",
              "      <td>75.000000</td>\n",
              "      <td>1.000000</td>\n",
              "      <td>2.000000</td>\n",
              "      <td>3.500000</td>\n",
              "      <td>4.000000</td>\n",
              "      <td>1.0</td>\n",
              "      <td>60.735113</td>\n",
              "      <td>517.500000</td>\n",
              "    </tr>\n",
              "    <tr>\n",
              "      <th>75%</th>\n",
              "      <td>563.500000</td>\n",
              "      <td>2.000000</td>\n",
              "      <td>178.000000</td>\n",
              "      <td>88.000000</td>\n",
              "      <td>1.000000</td>\n",
              "      <td>2.000000</td>\n",
              "      <td>5.000000</td>\n",
              "      <td>4.750000</td>\n",
              "      <td>1.0</td>\n",
              "      <td>64.479808</td>\n",
              "      <td>563.500000</td>\n",
              "    </tr>\n",
              "    <tr>\n",
              "      <th>max</th>\n",
              "      <td>632.000000</td>\n",
              "      <td>2.000000</td>\n",
              "      <td>195.000000</td>\n",
              "      <td>105.000000</td>\n",
              "      <td>4.000000</td>\n",
              "      <td>5.000000</td>\n",
              "      <td>8.000000</td>\n",
              "      <td>5.000000</td>\n",
              "      <td>1.0</td>\n",
              "      <td>69.281314</td>\n",
              "      <td>632.000000</td>\n",
              "    </tr>\n",
              "  </tbody>\n",
              "</table>\n",
              "</div>"
            ],
            "text/plain": [
              "           IXI_ID  SEX_ID (1=m, 2=f)  ...        AGE  our_ixi_id\n",
              "count   34.000000          34.000000  ...  34.000000   34.000000\n",
              "mean   520.411765           1.529412  ...  61.184120  520.411765\n",
              "std     59.219222           0.506640  ...   4.891415   59.219222\n",
              "min    437.000000           1.000000  ...  52.498289  437.000000\n",
              "25%    469.000000           1.000000  ...  57.568104  469.000000\n",
              "50%    517.500000           2.000000  ...  60.735113  517.500000\n",
              "75%    563.500000           2.000000  ...  64.479808  563.500000\n",
              "max    632.000000           2.000000  ...  69.281314  632.000000\n",
              "\n",
              "[8 rows x 11 columns]"
            ]
          },
          "metadata": {
            "tags": []
          },
          "execution_count": 19
        }
      ]
    },
    {
      "cell_type": "markdown",
      "metadata": {
        "id": "A9-PEaqKWK6U"
      },
      "source": [
        "# Analyses of datasets"
      ]
    },
    {
      "cell_type": "markdown",
      "metadata": {
        "id": "O4QV4rzgWcHY"
      },
      "source": [
        "IOP has very few scans and should be handled with care during unlearning according to its age distribution"
      ]
    },
    {
      "cell_type": "code",
      "metadata": {
        "colab": {
          "base_uri": "https://localhost:8080/",
          "height": 349
        },
        "id": "1UfEVBN7Mmi4",
        "outputId": "14c71bae-96ed-4bc7-e8db-f9024ada2003"
      },
      "source": [
        "plt.figure(figsize=(12, 5))\n",
        "sns.histplot(data=our_df, x=\"scanner_name\")"
      ],
      "execution_count": 17,
      "outputs": [
        {
          "output_type": "execute_result",
          "data": {
            "text/plain": [
              "<matplotlib.axes._subplots.AxesSubplot at 0x7f0928acda10>"
            ]
          },
          "metadata": {
            "tags": []
          },
          "execution_count": 17
        },
        {
          "output_type": "display_data",
          "data": {
            "image/png": "[encoded data removed]",
            "text/plain": [
              "<Figure size 864x360 with 1 Axes>"
            ]
          },
          "metadata": {
            "tags": [],
            "needs_background": "light"
          }
        }
      ]
    },
    {
      "cell_type": "markdown",
      "metadata": {
        "id": "jHxAZRvDSHWG"
      },
      "source": [
        "As we can see below all 2 scanners Guys and HH have similar distribution and have lot of scans between 50-70 age. In other terms they have almost equal distribution and we do not need to worry about what to keep or not keep in our learning-unlearning datasets. \n",
        "\n",
        "IOP on the other hand has less scans(40 scans) and most of its scans are from younger people with peak at 30 years. How to choose train and test now as we have two equally distributed datasets and IOP as skewed?\n",
        "\n",
        "* Pick randomly into train learning, train unlearning and validation bucket from Guys and HH as they seem to be equally distributed.\n",
        "* From IOP, there are 5 scans between 50-70. Put all of them into train unlearning bucket. We dont need to learn much from these images hence dont add them to learning bucket. These 5 scans are important as they lie in same age range peak as that of Guys, HH so must be used for unlearning.\n",
        "* From rest of IOP (29 remaining) randomly sample 5 of them into validation. rest 24 of them must be used during training learning.\n",
        "\n",
        "\n",
        "Use the above while building dataset class\n",
        "\n"
      ]
    },
    {
      "cell_type": "code",
      "metadata": {
        "colab": {
          "base_uri": "https://localhost:8080/",
          "height": 457
        },
        "id": "_p1ZowyGlZoL",
        "outputId": "f3a3cc7f-d485-4406-e6d7-119d13633dd3"
      },
      "source": [
        "plt.figure(figsize=(15, 7))\n",
        "sns.histplot(data=filtered_df,x=\"AGE\", hue=\"scanner_name\", multiple=\"stack\", binwidth=10, binrange=(0,100))"
      ],
      "execution_count": null,
      "outputs": [
        {
          "output_type": "execute_result",
          "data": {
            "text/plain": [
              "<matplotlib.axes._subplots.AxesSubplot at 0x7fc56ade49d0>"
            ]
          },
          "metadata": {
            "tags": []
          },
          "execution_count": 63
        },
        {
          "output_type": "display_data",
          "data": {
            "image/png": "[encoded data removed]",
            "text/plain": [
              "<Figure size 1080x504 with 1 Axes>"
            ]
          },
          "metadata": {
            "tags": [],
            "needs_background": "light"
          }
        }
      ]
    },
    {
      "cell_type": "code",
      "metadata": {
        "colab": {
          "base_uri": "https://localhost:8080/",
          "height": 349
        },
        "id": "xEDstUruPJmd",
        "outputId": "81659b4f-9199-47d4-ffaf-7781239c25b5"
      },
      "source": [
        "plt.figure(figsize=(12, 5))\n",
        "sns.histplot(data=filtered_df[filtered_df[\"scanner_name\"] == \"IOP\"],x=\"AGE\", hue=\"scanner_name\", binwidth=10, binrange=(0,100))"
      ],
      "execution_count": null,
      "outputs": [
        {
          "output_type": "execute_result",
          "data": {
            "text/plain": [
              "<matplotlib.axes._subplots.AxesSubplot at 0x7fc56abfd690>"
            ]
          },
          "metadata": {
            "tags": []
          },
          "execution_count": 64
        },
        {
          "output_type": "display_data",
          "data": {
            "image/png": "[encoded data removed]",
            "text/plain": [
              "<Figure size 864x360 with 1 Axes>"
            ]
          },
          "metadata": {
            "tags": [],
            "needs_background": "light"
          }
        }
      ]
    },
    {
      "cell_type": "code",
      "metadata": {
        "colab": {
          "base_uri": "https://localhost:8080/",
          "height": 349
        },
        "id": "ot3MO4juQ5x6",
        "outputId": "b2ddc612-6e9d-4d87-94ac-f2cd649feddd"
      },
      "source": [
        "plt.figure(figsize=(12, 5))\n",
        "sns.histplot(data=filtered_df[filtered_df[\"scanner_name\"] == \"Guys\"],x=\"AGE\", hue=\"scanner_name\", binwidth=10, binrange=(0,100))"
      ],
      "execution_count": null,
      "outputs": [
        {
          "output_type": "execute_result",
          "data": {
            "text/plain": [
              "<matplotlib.axes._subplots.AxesSubplot at 0x7fc56ac5b8d0>"
            ]
          },
          "metadata": {
            "tags": []
          },
          "execution_count": 65
        },
        {
          "output_type": "display_data",
          "data": {
            "image/png": "[encoded data removed]",
            "text/plain": [
              "<Figure size 864x360 with 1 Axes>"
            ]
          },
          "metadata": {
            "tags": [],
            "needs_background": "light"
          }
        }
      ]
    },
    {
      "cell_type": "code",
      "metadata": {
        "colab": {
          "base_uri": "https://localhost:8080/",
          "height": 349
        },
        "id": "EWOihUUkRahv",
        "outputId": "d1d15324-5941-4f7d-b610-10262fbfb574"
      },
      "source": [
        "plt.figure(figsize=(12, 5))\n",
        "sns.histplot(data=filtered_df[filtered_df[\"scanner_name\"] == \"HH\"],x=\"AGE\", hue=\"scanner_name\", binwidth=10, binrange=(0,100))"
      ],
      "execution_count": null,
      "outputs": [
        {
          "output_type": "execute_result",
          "data": {
            "text/plain": [
              "<matplotlib.axes._subplots.AxesSubplot at 0x7fc56ab31c10>"
            ]
          },
          "metadata": {
            "tags": []
          },
          "execution_count": 66
        },
        {
          "output_type": "display_data",
          "data": {
            "image/png": "[encoded data removed]",
            "text/plain": [
              "<Figure size 864x360 with 1 Axes>"
            ]
          },
          "metadata": {
            "tags": [],
            "needs_background": "light"
          }
        }
      ]
    },
    {
      "cell_type": "markdown",
      "metadata": {
        "id": "1dE2U_ikV3EV"
      },
      "source": [
        "# Dataset Creation"
      ]
    },
    {
      "cell_type": "code",
      "metadata": {
        "id": "p5GRcPpxoc03"
      },
      "source": [
        "def place_into_buckets(age_disc, scanner_name):\n",
        "    \"\"\" \n",
        "    flag 0,1,2 = learn, unlearn, validation\n",
        "    - From IOP if its between 50-70 put it in unlearn bucket\n",
        "    - From IOP if its not between 50-70 put it learn and validation bucket with probs of 0.75 and 0.25\n",
        "    - From others put it in learn with 0.4, in unlearn with 0.3, in validation with 0.3 prob\n",
        "    \"\"\"\n",
        "    \n",
        "    if ((scanner_name == \"IOP\") and (age_disc in [\"50-60\", \"60-70\"]) ):\n",
        "      flag = 1\n",
        "    elif ((scanner_name == \"IOP\") and (age_disc not in [\"50-60\", \"60-70\"]) ):\n",
        "      flag = np.random.choice(a=[0, 2], p= [0.75, 0.25])\n",
        "    else:\n",
        "      flag = np.random.choice(a=[0, 1, 2], p=[0.5, 0.3, 0.2] )\n",
        "\n",
        "    if (flag == 0):\n",
        "      return \"train_learn\"\n",
        "    elif (flag == 1):\n",
        "      return \"train_unlearn\"\n",
        "    else:\n",
        "        return \"validation\"\n",
        "        \n"
      ],
      "execution_count": 18,
      "outputs": []
    },
    {
      "cell_type": "code",
      "metadata": {
        "id": "qp-qMcGlT3kx"
      },
      "source": [
        "def categorize_scanner( scanner_name):\n",
        "    \"\"\" \n",
        "    flag 0,1,2 = IOP, Guys, HH\n",
        "    \"\"\"\n",
        "    \n",
        "    if (scanner_name == \"IOP\") :\n",
        "      flag = 0\n",
        "    elif (scanner_name == \"Guys\"):\n",
        "      flag = 1\n",
        "    else:\n",
        "      flag = 2\n",
        "\n",
        "    return flag"
      ],
      "execution_count": 19,
      "outputs": []
    },
    {
      "cell_type": "code",
      "metadata": {
        "id": "MljIpbsnoc5i"
      },
      "source": [
        "filtered_df['dataset_flag'] = filtered_df.apply(lambda x: place_into_buckets(x['age_disc'],x['scanner_name']),axis=1)"
      ],
      "execution_count": 20,
      "outputs": []
    },
    {
      "cell_type": "code",
      "metadata": {
        "id": "H5a3bpmlUTIm"
      },
      "source": [
        "filtered_df[\"scanner_flag\"] = filtered_df.apply(lambda x: categorize_scanner(x['scanner_name']),axis=1)"
      ],
      "execution_count": 21,
      "outputs": []
    },
    {
      "cell_type": "code",
      "metadata": {
        "colab": {
          "base_uri": "https://localhost:8080/",
          "height": 195
        },
        "id": "MWeafjiIedLU",
        "outputId": "18362c8c-12ae-4ebe-b352-96755db95b0a"
      },
      "source": [
        "filtered_df[filtered_df[\"AGE\"].isnull() == True]"
      ],
      "execution_count": 22,
      "outputs": [
        {
          "output_type": "execute_result",
          "data": {
            "text/html": [
              "<div>\n",
              "<style scoped>\n",
              "    .dataframe tbody tr th:only-of-type {\n",
              "        vertical-align: middle;\n",
              "    }\n",
              "\n",
              "    .dataframe tbody tr th {\n",
              "        vertical-align: top;\n",
              "    }\n",
              "\n",
              "    .dataframe thead th {\n",
              "        text-align: right;\n",
              "    }\n",
              "</style>\n",
              "<table border=\"1\" class=\"dataframe\">\n",
              "  <thead>\n",
              "    <tr style=\"text-align: right;\">\n",
              "      <th></th>\n",
              "      <th>IXI_ID</th>\n",
              "      <th>SEX_ID (1=m, 2=f)</th>\n",
              "      <th>HEIGHT</th>\n",
              "      <th>WEIGHT</th>\n",
              "      <th>ETHNIC_ID</th>\n",
              "      <th>MARITAL_ID</th>\n",
              "      <th>OCCUPATION_ID</th>\n",
              "      <th>QUALIFICATION_ID</th>\n",
              "      <th>DOB</th>\n",
              "      <th>DATE_AVAILABLE</th>\n",
              "      <th>STUDY_DATE</th>\n",
              "      <th>AGE</th>\n",
              "      <th>our_ixi_id</th>\n",
              "      <th>scanner_name</th>\n",
              "      <th>contrast_type</th>\n",
              "      <th>file_path</th>\n",
              "      <th>age_disc</th>\n",
              "      <th>dataset_flag</th>\n",
              "      <th>scanner_flag</th>\n",
              "    </tr>\n",
              "  </thead>\n",
              "  <tbody>\n",
              "    <tr>\n",
              "      <th>8</th>\n",
              "      <td>435</td>\n",
              "      <td>1</td>\n",
              "      <td>165</td>\n",
              "      <td>70</td>\n",
              "      <td>1</td>\n",
              "      <td>5</td>\n",
              "      <td>5</td>\n",
              "      <td>4</td>\n",
              "      <td>NaN</td>\n",
              "      <td>1</td>\n",
              "      <td>2006-07-10</td>\n",
              "      <td>NaN</td>\n",
              "      <td>435</td>\n",
              "      <td>IOP</td>\n",
              "      <td>T1</td>\n",
              "      <td>/content/drive/My Drive/Image_Registration_Pro...</td>\n",
              "      <td>NaN</td>\n",
              "      <td>train_learn</td>\n",
              "      <td>0</td>\n",
              "    </tr>\n",
              "    <tr>\n",
              "      <th>171</th>\n",
              "      <td>623</td>\n",
              "      <td>1</td>\n",
              "      <td>180</td>\n",
              "      <td>80</td>\n",
              "      <td>1</td>\n",
              "      <td>1</td>\n",
              "      <td>1</td>\n",
              "      <td>5</td>\n",
              "      <td>NaN</td>\n",
              "      <td>1</td>\n",
              "      <td>2006-09-25</td>\n",
              "      <td>NaN</td>\n",
              "      <td>623</td>\n",
              "      <td>Guys</td>\n",
              "      <td>T1</td>\n",
              "      <td>/content/drive/My Drive/Image_Registration_Pro...</td>\n",
              "      <td>NaN</td>\n",
              "      <td>train_learn</td>\n",
              "      <td>1</td>\n",
              "    </tr>\n",
              "  </tbody>\n",
              "</table>\n",
              "</div>"
            ],
            "text/plain": [
              "     IXI_ID  SEX_ID (1=m, 2=f)  HEIGHT  ...  age_disc  dataset_flag  scanner_flag\n",
              "8       435                  1     165  ...       NaN   train_learn             0\n",
              "171     623                  1     180  ...       NaN   train_learn             1\n",
              "\n",
              "[2 rows x 19 columns]"
            ]
          },
          "metadata": {
            "tags": []
          },
          "execution_count": 22
        }
      ]
    },
    {
      "cell_type": "code",
      "metadata": {
        "id": "Si6im0ldfP6w"
      },
      "source": [
        "filtered_df['AGE'] = filtered_df['AGE'].fillna((filtered_df['AGE'].mean()))"
      ],
      "execution_count": 23,
      "outputs": []
    },
    {
      "cell_type": "code",
      "metadata": {
        "colab": {
          "base_uri": "https://localhost:8080/",
          "height": 100
        },
        "id": "rNdZZHcRfXdK",
        "outputId": "482b573e-7254-4cd6-943d-4d68c88fb2f4"
      },
      "source": [
        "filtered_df[filtered_df[\"AGE\"].isnull() == True]"
      ],
      "execution_count": 24,
      "outputs": [
        {
          "output_type": "execute_result",
          "data": {
            "text/html": [
              "<div>\n",
              "<style scoped>\n",
              "    .dataframe tbody tr th:only-of-type {\n",
              "        vertical-align: middle;\n",
              "    }\n",
              "\n",
              "    .dataframe tbody tr th {\n",
              "        vertical-align: top;\n",
              "    }\n",
              "\n",
              "    .dataframe thead th {\n",
              "        text-align: right;\n",
              "    }\n",
              "</style>\n",
              "<table border=\"1\" class=\"dataframe\">\n",
              "  <thead>\n",
              "    <tr style=\"text-align: right;\">\n",
              "      <th></th>\n",
              "      <th>IXI_ID</th>\n",
              "      <th>SEX_ID (1=m, 2=f)</th>\n",
              "      <th>HEIGHT</th>\n",
              "      <th>WEIGHT</th>\n",
              "      <th>ETHNIC_ID</th>\n",
              "      <th>MARITAL_ID</th>\n",
              "      <th>OCCUPATION_ID</th>\n",
              "      <th>QUALIFICATION_ID</th>\n",
              "      <th>DOB</th>\n",
              "      <th>DATE_AVAILABLE</th>\n",
              "      <th>STUDY_DATE</th>\n",
              "      <th>AGE</th>\n",
              "      <th>our_ixi_id</th>\n",
              "      <th>scanner_name</th>\n",
              "      <th>contrast_type</th>\n",
              "      <th>file_path</th>\n",
              "      <th>age_disc</th>\n",
              "      <th>dataset_flag</th>\n",
              "      <th>scanner_flag</th>\n",
              "    </tr>\n",
              "  </thead>\n",
              "  <tbody>\n",
              "  </tbody>\n",
              "</table>\n",
              "</div>"
            ],
            "text/plain": [
              "Empty DataFrame\n",
              "Columns: [IXI_ID, SEX_ID (1=m, 2=f), HEIGHT, WEIGHT, ETHNIC_ID, MARITAL_ID, OCCUPATION_ID, QUALIFICATION_ID, DOB, DATE_AVAILABLE, STUDY_DATE, AGE, our_ixi_id, scanner_name, contrast_type, file_path, age_disc, dataset_flag, scanner_flag]\n",
              "Index: []"
            ]
          },
          "metadata": {
            "tags": []
          },
          "execution_count": 24
        }
      ]
    },
    {
      "cell_type": "code",
      "metadata": {
        "colab": {
          "base_uri": "https://localhost:8080/",
          "height": 336
        },
        "id": "H0tnMD-_oc-h",
        "outputId": "115d1ab3-1a30-4740-d415-32e9a063663d"
      },
      "source": [
        "filtered_df.head()"
      ],
      "execution_count": 25,
      "outputs": [
        {
          "output_type": "execute_result",
          "data": {
            "text/html": [
              "<div>\n",
              "<style scoped>\n",
              "    .dataframe tbody tr th:only-of-type {\n",
              "        vertical-align: middle;\n",
              "    }\n",
              "\n",
              "    .dataframe tbody tr th {\n",
              "        vertical-align: top;\n",
              "    }\n",
              "\n",
              "    .dataframe thead th {\n",
              "        text-align: right;\n",
              "    }\n",
              "</style>\n",
              "<table border=\"1\" class=\"dataframe\">\n",
              "  <thead>\n",
              "    <tr style=\"text-align: right;\">\n",
              "      <th></th>\n",
              "      <th>IXI_ID</th>\n",
              "      <th>SEX_ID (1=m, 2=f)</th>\n",
              "      <th>HEIGHT</th>\n",
              "      <th>WEIGHT</th>\n",
              "      <th>ETHNIC_ID</th>\n",
              "      <th>MARITAL_ID</th>\n",
              "      <th>OCCUPATION_ID</th>\n",
              "      <th>QUALIFICATION_ID</th>\n",
              "      <th>DOB</th>\n",
              "      <th>DATE_AVAILABLE</th>\n",
              "      <th>STUDY_DATE</th>\n",
              "      <th>AGE</th>\n",
              "      <th>our_ixi_id</th>\n",
              "      <th>scanner_name</th>\n",
              "      <th>contrast_type</th>\n",
              "      <th>file_path</th>\n",
              "      <th>age_disc</th>\n",
              "      <th>dataset_flag</th>\n",
              "      <th>scanner_flag</th>\n",
              "    </tr>\n",
              "  </thead>\n",
              "  <tbody>\n",
              "    <tr>\n",
              "      <th>0</th>\n",
              "      <td>60</td>\n",
              "      <td>1</td>\n",
              "      <td>180</td>\n",
              "      <td>75</td>\n",
              "      <td>1</td>\n",
              "      <td>2</td>\n",
              "      <td>1</td>\n",
              "      <td>5</td>\n",
              "      <td>1974-10-26</td>\n",
              "      <td>1</td>\n",
              "      <td>2005-07-08</td>\n",
              "      <td>30.699521</td>\n",
              "      <td>60</td>\n",
              "      <td>Guys</td>\n",
              "      <td>T1</td>\n",
              "      <td>/content/drive/My Drive/Image_Registration_Pro...</td>\n",
              "      <td>30-40</td>\n",
              "      <td>validation</td>\n",
              "      <td>1</td>\n",
              "    </tr>\n",
              "    <tr>\n",
              "      <th>1</th>\n",
              "      <td>428</td>\n",
              "      <td>2</td>\n",
              "      <td>163</td>\n",
              "      <td>75</td>\n",
              "      <td>1</td>\n",
              "      <td>2</td>\n",
              "      <td>1</td>\n",
              "      <td>4</td>\n",
              "      <td>1951-01-08</td>\n",
              "      <td>1</td>\n",
              "      <td>2006-07-24</td>\n",
              "      <td>55.540041</td>\n",
              "      <td>428</td>\n",
              "      <td>Guys</td>\n",
              "      <td>T1</td>\n",
              "      <td>/content/drive/My Drive/Image_Registration_Pro...</td>\n",
              "      <td>50-60</td>\n",
              "      <td>train_unlearn</td>\n",
              "      <td>1</td>\n",
              "    </tr>\n",
              "    <tr>\n",
              "      <th>2</th>\n",
              "      <td>429</td>\n",
              "      <td>2</td>\n",
              "      <td>155</td>\n",
              "      <td>61</td>\n",
              "      <td>1</td>\n",
              "      <td>2</td>\n",
              "      <td>2</td>\n",
              "      <td>4</td>\n",
              "      <td>1951-01-08</td>\n",
              "      <td>1</td>\n",
              "      <td>2006-07-24</td>\n",
              "      <td>55.540041</td>\n",
              "      <td>429</td>\n",
              "      <td>Guys</td>\n",
              "      <td>T1</td>\n",
              "      <td>/content/drive/My Drive/Image_Registration_Pro...</td>\n",
              "      <td>50-60</td>\n",
              "      <td>train_unlearn</td>\n",
              "      <td>1</td>\n",
              "    </tr>\n",
              "    <tr>\n",
              "      <th>3</th>\n",
              "      <td>430</td>\n",
              "      <td>2</td>\n",
              "      <td>166</td>\n",
              "      <td>70</td>\n",
              "      <td>1</td>\n",
              "      <td>4</td>\n",
              "      <td>5</td>\n",
              "      <td>5</td>\n",
              "      <td>1934-07-02</td>\n",
              "      <td>1</td>\n",
              "      <td>2006-07-04</td>\n",
              "      <td>72.005476</td>\n",
              "      <td>430</td>\n",
              "      <td>IOP</td>\n",
              "      <td>T1</td>\n",
              "      <td>/content/drive/My Drive/Image_Registration_Pro...</td>\n",
              "      <td>70-80</td>\n",
              "      <td>train_learn</td>\n",
              "      <td>0</td>\n",
              "    </tr>\n",
              "    <tr>\n",
              "      <th>4</th>\n",
              "      <td>431</td>\n",
              "      <td>2</td>\n",
              "      <td>163</td>\n",
              "      <td>58</td>\n",
              "      <td>1</td>\n",
              "      <td>2</td>\n",
              "      <td>2</td>\n",
              "      <td>5</td>\n",
              "      <td>1947-10-05</td>\n",
              "      <td>1</td>\n",
              "      <td>2006-07-17</td>\n",
              "      <td>58.781656</td>\n",
              "      <td>431</td>\n",
              "      <td>Guys</td>\n",
              "      <td>T1</td>\n",
              "      <td>/content/drive/My Drive/Image_Registration_Pro...</td>\n",
              "      <td>50-60</td>\n",
              "      <td>train_unlearn</td>\n",
              "      <td>1</td>\n",
              "    </tr>\n",
              "  </tbody>\n",
              "</table>\n",
              "</div>"
            ],
            "text/plain": [
              "   IXI_ID  SEX_ID (1=m, 2=f)  HEIGHT  ...  age_disc   dataset_flag  scanner_flag\n",
              "0      60                  1     180  ...     30-40     validation             1\n",
              "1     428                  2     163  ...     50-60  train_unlearn             1\n",
              "2     429                  2     155  ...     50-60  train_unlearn             1\n",
              "3     430                  2     166  ...     70-80    train_learn             0\n",
              "4     431                  2     163  ...     50-60  train_unlearn             1\n",
              "\n",
              "[5 rows x 19 columns]"
            ]
          },
          "metadata": {
            "tags": []
          },
          "execution_count": 25
        }
      ]
    },
    {
      "cell_type": "markdown",
      "metadata": {
        "id": "7WhG1i1Vy8ge"
      },
      "source": [
        "From below count plot it is evident that"
      ]
    },
    {
      "cell_type": "code",
      "metadata": {
        "colab": {
          "base_uri": "https://localhost:8080/",
          "height": 458
        },
        "id": "Nd2yVaKmodAs",
        "outputId": "450b5f9a-4f79-4113-9dea-65f20819acca"
      },
      "source": [
        "plt.figure(figsize=(15, 7))\n",
        "sns.countplot(x=\"dataset_flag\", data=filtered_df, hue=\"scanner_name\")"
      ],
      "execution_count": null,
      "outputs": [
        {
          "output_type": "execute_result",
          "data": {
            "text/plain": [
              "<matplotlib.axes._subplots.AxesSubplot at 0x7fc6a90bab50>"
            ]
          },
          "metadata": {
            "tags": []
          },
          "execution_count": 75
        },
        {
          "output_type": "display_data",
          "data": {
            "image/png": "[encoded data removed]",
            "text/plain": [
              "<Figure size 1080x504 with 1 Axes>"
            ]
          },
          "metadata": {
            "tags": [],
            "needs_background": "light"
          }
        }
      ]
    },
    {
      "cell_type": "code",
      "metadata": {
        "colab": {
          "base_uri": "https://localhost:8080/",
          "height": 415
        },
        "id": "EmPraWhPyoUE",
        "outputId": "55986765-a2ae-403a-dca0-c4dc786c0b09"
      },
      "source": [
        "plt.figure(figsize=(20, 10))\n",
        "sns.catplot(x=\"age_disc\", data=filtered_df, col=\"scanner_name\", hue=\"dataset_flag\", kind=\"count\")"
      ],
      "execution_count": null,
      "outputs": [
        {
          "output_type": "execute_result",
          "data": {
            "text/plain": [
              "<seaborn.axisgrid.FacetGrid at 0x7fc6a8145290>"
            ]
          },
          "metadata": {
            "tags": []
          },
          "execution_count": 123
        },
        {
          "output_type": "display_data",
          "data": {
            "text/plain": [
              "<Figure size 1440x720 with 0 Axes>"
            ]
          },
          "metadata": {
            "tags": []
          }
        },
        {
          "output_type": "display_data",
          "data": {
            "image/png": "[encoded data removed]",
            "text/plain": [
              "<Figure size 1182.62x360 with 3 Axes>"
            ]
          },
          "metadata": {
            "tags": [],
            "needs_background": "light"
          }
        }
      ]
    },
    {
      "cell_type": "code",
      "metadata": {
        "id": "0ae1gxxJ1DOD"
      },
      "source": [
        "fp = filtered_df[\"file_path\"].iloc[0]"
      ],
      "execution_count": null,
      "outputs": []
    },
    {
      "cell_type": "code",
      "metadata": {
        "id": "AMVgCrqQ1DTz"
      },
      "source": [
        "train_learn_df = filtered_df[filtered_df[\"dataset_flag\"] == \"train_learn\"]\n",
        "train_unlearn_df = filtered_df[filtered_df[\"dataset_flag\"] == \"train_unlearn\"]\n",
        "validation_df = filtered_df[filtered_df[\"dataset_flag\"] == \"validation\"]"
      ],
      "execution_count": 26,
      "outputs": []
    },
    {
      "cell_type": "code",
      "metadata": {
        "colab": {
          "base_uri": "https://localhost:8080/"
        },
        "id": "zRzSZsu48CCm",
        "outputId": "ce0a90b0-096c-415e-8b1f-f5e90f9918a7"
      },
      "source": [
        "print(train_learn_df.shape)\n",
        "print(train_unlearn_df.shape)\n",
        "print(validation_df.shape)"
      ],
      "execution_count": 27,
      "outputs": [
        {
          "output_type": "stream",
          "text": [
            "(91, 19)\n",
            "(65, 19)\n",
            "(38, 19)\n"
          ],
          "name": "stdout"
        }
      ]
    },
    {
      "cell_type": "code",
      "metadata": {
        "id": "SvAl24tcMaAj"
      },
      "source": [
        "z_64_slices = []\n",
        "for i in range(0, 128, 2):\n",
        "  z_64_slices.append(i)"
      ],
      "execution_count": 28,
      "outputs": []
    },
    {
      "cell_type": "code",
      "metadata": {
        "colab": {
          "base_uri": "https://localhost:8080/"
        },
        "id": "hJLg4MBUMsSm",
        "outputId": "2b7f8112-bc1c-4b90-dc58-95d5f5c6cf4f"
      },
      "source": [
        "z_64_slices[0:4]"
      ],
      "execution_count": 29,
      "outputs": [
        {
          "output_type": "execute_result",
          "data": {
            "text/plain": [
              "[0, 2, 4, 6]"
            ]
          },
          "metadata": {
            "tags": []
          },
          "execution_count": 29
        }
      ]
    },
    {
      "cell_type": "code",
      "metadata": {
        "id": "YG77T0DIXVuK"
      },
      "source": [
        "def load_4D(name):\n",
        "        model_np = np.zeros(shape=(128, 128, 128))\n",
        "        resamplng_shape = (128, 128, 128)\n",
        "        X_nb = nb.load(name)\n",
        "        #print(X_nb)\n",
        "        X_np = X_nb.dataobj\n",
        "        #print(X_np)\n",
        "        x_dim, y_dim, z_dim = X_np.shape\n",
        "        #print(x_dim, y_dim, z_dim)\n",
        "        x_ltail = (resamplng_shape[0] - x_dim)//2 \n",
        "        y_ltail = (resamplng_shape[1] - y_dim)//2\n",
        "        z_ltail = (resamplng_shape[2] - z_dim)//2\n",
        "        #print(x_ltail,y_ltail,z_ltail)\n",
        "\n",
        "        x_rtail = resamplng_shape[0] - x_ltail - 1\n",
        "        y_rtail = resamplng_shape[1] - y_ltail - 1\n",
        "        z_rtail = resamplng_shape[2] - z_ltail - 1\n",
        "        #print(x_rtail,y_rtail,z_rtail)\n",
        "        model_np[x_ltail:x_rtail, y_ltail:y_rtail, z_ltail:z_rtail] = X_np[:, :, :]\n",
        "        #z_32_slices = [3, 7, 11, 15, 19, 23, 27, 31, 35, 39, 43, 47, 51, 55, 59, 63, 67, 71, 75, 79, 83, 87, 91, 95, 99, 103, 107, 111, 115, 119, 123, 127]\n",
        "        model_np = model_np[:, :, z_64_slices]\n",
        "        model_np = np.expand_dims(model_np, axis=0)\n",
        "        #print(model_np.shape)\n",
        "        #print(model_np)\n",
        "        return model_np\n",
        "\n",
        "def imgnorm(N_I,index1=0.0001,index2=0.0001):\n",
        "    I_sort = np.sort(N_I.flatten())\n",
        "    I_min = I_sort[int(index1*len(I_sort))]\n",
        "    I_max = I_sort[-int(index2*len(I_sort))]\n",
        "    N_I =1.0*(N_I-I_min)/(I_max-I_min)\n",
        "    N_I[N_I>1.0]=1.0\n",
        "    N_I[N_I<0.0]=0.0\n",
        "    N_I2 = N_I.astype(np.float32)\n",
        "    return N_I2\n",
        "\n",
        "def Norm_Zscore(img):\n",
        "    img= (img-np.mean(img))/np.std(img) \n",
        "    return img\n",
        "\n",
        "def save_img(I_img,savename):\n",
        "    I2 = sitk.GetImageFromArray(I_img,isVector=False)\n",
        "    sitk.WriteImage(I2,savename)"
      ],
      "execution_count": 30,
      "outputs": []
    },
    {
      "cell_type": "code",
      "metadata": {
        "id": "udfrDOVZR0HE"
      },
      "source": [
        "class Dataset(Data.Dataset):\n",
        "  'Characterizes a dataset for PyTorch'\n",
        "  def __init__(self, df = filtered_df, iterations =1, norm=True):\n",
        "        self.df = df\n",
        "        self.norm = norm\n",
        "        self.iterations = iterations\n",
        "        \n",
        "  def __len__(self):\n",
        "        'Denotes the total number of samples'\n",
        "        return self.df.shape[0] * self.iterations\n",
        "\n",
        "  def __getitem__(self, step):\n",
        "        'Generates one sample of data'\n",
        "        # index_pair = np.random.permutation(len(self.names)) [0:4]\n",
        "        \"\"\"\n",
        "        fp = filtered_df[\"file_path\"].iloc[step]\n",
        "        sn = filtered_df[\"scanner_name\"].iloc[step]\n",
        "        dafl = filtered_df[\"dataset_flag\"].iloc[step]\n",
        "        agdi = filtered_df[\"age_disc\"].iloc[step]\n",
        "        \"\"\"\n",
        "        fp = filtered_df[\"file_path\"].iloc[step]\n",
        "        sf = filtered_df[\"scanner_flag\"].iloc[step]\n",
        "        age = filtered_df[\"AGE\"].iloc[step]\n",
        "\n",
        "        img = load_4D(fp)   \n",
        "        \n",
        "        if self.norm:\n",
        "            # return  Norm_Zscore(imgnorm(img_A)) , Norm_Zscore(imgnorm(img_B))\n",
        "            return  imgnorm(img), age, sf\n",
        "        else:\n",
        "            return img, age, sf"
      ],
      "execution_count": 31,
      "outputs": []
    },
    {
      "cell_type": "code",
      "metadata": {
        "id": "UqoFAgBj-gBL"
      },
      "source": [
        "training_generator = Data.DataLoader(Dataset(train_learn_df, 1, True), batch_size=7,shuffle=False)"
      ],
      "execution_count": 32,
      "outputs": []
    },
    {
      "cell_type": "code",
      "metadata": {
        "colab": {
          "base_uri": "https://localhost:8080/"
        },
        "id": "nm-kXrI-_zcO",
        "outputId": "580f8776-fc7f-4c61-9e79-67e48d2a2948"
      },
      "source": [
        "for  X, Y, Z in training_generator:\n",
        "  print(torch.max(X))\n",
        "  print(X.shape)\n",
        "  print(Y, Z)\n",
        "  del X\n",
        "  break"
      ],
      "execution_count": null,
      "outputs": [
        {
          "output_type": "stream",
          "text": [
            "tensor(1.)\n",
            "torch.Size([7, 1, 128, 128, 64])\n",
            "tensor([30.6995, 55.5400, 55.5400, 72.0055, 58.7817, 57.7385, 73.9001],\n",
            "       dtype=torch.float64) tensor([1, 1, 1, 0, 1, 1, 0])\n"
          ],
          "name": "stdout"
        }
      ]
    },
    {
      "cell_type": "markdown",
      "metadata": {
        "id": "AfZDpnATFXs5"
      },
      "source": [
        "# Model Building"
      ]
    },
    {
      "cell_type": "code",
      "metadata": {
        "colab": {
          "base_uri": "https://localhost:8080/"
        },
        "id": "0g0HkknZN5Qn",
        "outputId": "dfc67b96-2b00-43a4-fd03-4abf4c380bb9"
      },
      "source": [
        "mytnsr = torch.randn(size = (4, 1, 2, 2, 2))\n",
        "mytnsr1 = mytnsr.view(4, -1)\n",
        "print(mytnsr1.shape)\n",
        "\n",
        "mytnsr2 = mytnsr.view(-1, 2)\n",
        "print(mytnsr2.shape)\n",
        "\n",
        "mytnsr3 = mytnsr.view(-1, 8)\n",
        "print(mytnsr3.shape)\n",
        "\n",
        "del mytnsr, mytnsr1, mytnsr2, mytnsr3"
      ],
      "execution_count": null,
      "outputs": [
        {
          "output_type": "stream",
          "text": [
            "torch.Size([4, 8])\n",
            "torch.Size([16, 2])\n",
            "torch.Size([4, 8])\n"
          ],
          "name": "stdout"
        }
      ]
    },
    {
      "cell_type": "code",
      "metadata": {
        "id": "h6gZFT9IFYqA"
      },
      "source": [
        "class Encoder(nn.Module):\n",
        "    def __init__(self):\n",
        "        super(Encoder, self).__init__()\n",
        "        self.feature = nn.Sequential()      # Define the feature extractor\n",
        "        self.feature.add_module('f_conv1_1', nn.Conv3d(1, 32, kernel_size=3, padding=1))\n",
        "        self.feature.add_module('f_relu_1_1', nn.ReLU(True))\n",
        "        self.feature.add_module('f_bn1_1', nn.BatchNorm3d(32))\n",
        "        self.feature.add_module('f_conv1_2', nn.Conv3d(32, 32, kernel_size=3, padding=1))\n",
        "        self.feature.add_module('f_relu_1_2', nn.ReLU(True))\n",
        "        self.feature.add_module('f_bn1_2', nn.BatchNorm3d(32))\n",
        "        self.feature.add_module('f_pool1', nn.MaxPool3d(2))\n",
        "\n",
        "        self.feature.add_module('f_conv2_1', nn.Conv3d(32, 64, kernel_size=3, padding=1))\n",
        "        self.feature.add_module('f_relu_2_1', nn.ReLU(True))\n",
        "        self.feature.add_module('f_bn2_1', nn.BatchNorm3d(64))\n",
        "        self.feature.add_module('f_conv2_2', nn.Conv3d(64, 64, kernel_size=3, padding=1))\n",
        "        self.feature.add_module('f_relu_2_2', nn.ReLU(True))\n",
        "        self.feature.add_module('f_bn2_2', nn.BatchNorm3d(64))\n",
        "        self.feature.add_module('f_pool2', nn.MaxPool3d(2))\n",
        "\n",
        "        self.feature.add_module('f_conv3_1', nn.Conv3d(64, 64, kernel_size=3, padding=1))\n",
        "        self.feature.add_module('f_relu_3_1', nn.ReLU(True))\n",
        "        self.feature.add_module('f_bn3_1', nn.BatchNorm3d(64))\n",
        "        self.feature.add_module('f_conv3_2', nn.Conv3d(64, 64, kernel_size=3, padding=1))\n",
        "        self.feature.add_module('f_relu_3_2', nn.ReLU(True))\n",
        "        self.feature.add_module('f_bn3_2', nn.BatchNorm3d(64))\n",
        "        self.feature.add_module('f_pool3', nn.MaxPool3d(2))\n",
        "\n",
        "        self.feature.add_module('f_conv4_1', nn.Conv3d(64, 96, kernel_size=3, padding=1))\n",
        "        self.feature.add_module('f_relu_4_1', nn.ReLU(True))\n",
        "        self.feature.add_module('f_bn4_1', nn.BatchNorm3d(96))\n",
        "        self.feature.add_module('f_conv4_2', nn.Conv3d(96, 96, kernel_size=3, padding=1))\n",
        "        self.feature.add_module('f_relu_4_2', nn.ReLU(True))\n",
        "        self.feature.add_module('f_bn4_2', nn.BatchNorm3d(96))\n",
        "        self.feature.add_module('f_conv4_3', nn.Conv3d(96, 96, kernel_size=3, padding=1))\n",
        "        self.feature.add_module('f_relu_4_3', nn.ReLU(True))\n",
        "        self.feature.add_module('f_bn4_3', nn.BatchNorm3d(96))\n",
        "        self.feature.add_module('f_pool4', nn.MaxPool3d(2))\n",
        "\n",
        "        self.feature.add_module('f_conv5_1', nn.Conv3d(96, 96, kernel_size=3, padding=1))\n",
        "        self.feature.add_module('f_relu_5_1', nn.ReLU(True))\n",
        "        self.feature.add_module('f_bn5_1', nn.BatchNorm3d(96))\n",
        "        self.feature.add_module('f_conv5_2', nn.Conv3d(96, 96, kernel_size=3, padding=1))\n",
        "        self.feature.add_module('f_relu_5_2', nn.ReLU(True))\n",
        "        self.feature.add_module('f_bn5_2', nn.BatchNorm3d(96))\n",
        "        self.feature.add_module('f_conv5_3', nn.Conv3d(96, 96, kernel_size=3, padding=1))\n",
        "        self.feature.add_module('f_relu_5_3', nn.ReLU(True))\n",
        "        self.feature.add_module('f_bn5_3', nn.BatchNorm3d(96))\n",
        "        self.feature.add_module('f_pool5', nn.MaxPool3d(2))\n",
        "\n",
        "        self.feature.add_module('f_conv6_1', nn.Conv3d(96, 96, kernel_size=3, padding=1))\n",
        "        self.feature.add_module('f_relu_6_1', nn.ReLU(True))\n",
        "        self.feature.add_module('f_bn6_1', nn.BatchNorm3d(96))\n",
        "        self.feature.add_module('f_conv6_2', nn.Conv3d(96, 96, kernel_size=3, padding=1))\n",
        "        self.feature.add_module('f_relu_6_2', nn.ReLU(True))\n",
        "        self.feature.add_module('f_bn6_2', nn.BatchNorm3d(96))\n",
        "        self.feature.add_module('f_conv6_3', nn.Conv3d(96, 96, kernel_size=3, padding=1))\n",
        "        self.feature.add_module('f_relu_6_3', nn.ReLU(True))\n",
        "        self.feature.add_module('f_bn6_3', nn.BatchNorm3d(96))\n",
        "        self.feature.add_module('f_pool6', nn.MaxPool3d(2))\n",
        "\n",
        "        \"\"\"\n",
        "        self.feature.add_module('f_conv7_1', nn.Conv3d(96, 96, kernel_size=3, padding=1))\n",
        "        self.feature.add_module('f_relu_7_1', nn.ReLU(True))\n",
        "        self.feature.add_module('f_bn7_1', nn.BatchNorm3d(96))\n",
        "        self.feature.add_module('f_features', nn.MaxPool3d(2))\n",
        "        \"\"\"\n",
        "\n",
        "        self.embeddings = nn.Sequential()\n",
        "        self.embeddings.add_module('r_fc1', nn.Linear(384, 96))\n",
        "        self.embeddings.add_module('r_relu1', nn.ReLU(True))\n",
        "\n",
        "\n",
        "    def forward(self, x):\n",
        "        batch_size = x.shape[0]\n",
        "        feature = self.feature(x)\n",
        "        #print(feature.shape)\n",
        "\n",
        "        #Changed below code from feature.view(-1, 384)\n",
        "        feature = feature.view(batch_size, -1)\n",
        "        #print(feature.shape)\n",
        "        feature_embedding = self.embeddings(feature)\n",
        "        return feature_embedding\n",
        "\n",
        "class Regressor(nn.Module):\n",
        "    def __init__(self):\n",
        "        super(Regressor, self).__init__()\n",
        "\n",
        "        self.regressor = nn.Sequential()\n",
        "        self.regressor.add_module('r_fc2', nn.Linear(96, 32))\n",
        "        self.regressor.add_module('r_relu2', nn.ReLU(True))\n",
        "        self.regressor.add_module('r_pred', nn.Linear(32, 1))\n",
        "\n",
        "    def forward(self, x):\n",
        "        regression = self.regressor(x)\n",
        "        return regression\n",
        "\n",
        "class DomainPredictor(nn.Module):\n",
        "    def __init__(self, nodes=3):\n",
        "        super(DomainPredictor, self).__init__()\n",
        "        self.nodes = nodes\n",
        "        self.domain = nn.Sequential()\n",
        "        self.domain.add_module('d_fc2', nn.Linear(96, 32))\n",
        "        self.domain.add_module('d_relu2', nn.ReLU(True))\n",
        "        self.domain.add_module('r_dropout', nn.Dropout3d(p=0.2))\n",
        "        self.domain.add_module('d_fc3', nn.Linear(32, nodes))\n",
        "        self.domain.add_module('d_pred', nn.Softmax(dim=1))\n",
        "\n",
        "    def forward(self, x):\n",
        "        domain_pred = self.domain(x)\n",
        "        return domain_pred\n"
      ],
      "execution_count": 33,
      "outputs": []
    },
    {
      "cell_type": "code",
      "metadata": {
        "id": "ndmhBhSeFYsp"
      },
      "source": [
        "del encoder, regressor, domain_predictor\n",
        "torch.cuda.empty_cache()\n",
        "\n",
        "encoder = Encoder().to(\"cuda\")\n",
        "regressor = Regressor().to(\"cuda\")\n",
        "domain_predictor = DomainPredictor(nodes=3).to(\"cuda\")"
      ],
      "execution_count": null,
      "outputs": []
    },
    {
      "cell_type": "code",
      "metadata": {
        "id": "EUGT9lTOTfaQ"
      },
      "source": [
        "del encoder, regressor, domain_predictor\n",
        "torch.cuda.empty_cache()"
      ],
      "execution_count": null,
      "outputs": []
    },
    {
      "cell_type": "code",
      "metadata": {
        "colab": {
          "base_uri": "https://localhost:8080/"
        },
        "id": "Jq-jBz4VFYvw",
        "outputId": "f64eb18d-57f1-4fdc-9fc4-838933dad4ef"
      },
      "source": [
        "for  X in training_generator:\n",
        "  X = X.to(\"cuda\")\n",
        "  print(X.shape)\n",
        "  enc_feats = encoder(X)\n",
        "  print(enc_feats.shape)\n",
        "  regressor_op = regressor(enc_feats)\n",
        "  print(regressor_op.shape)\n",
        "  dp_op = domain_predictor(enc_feats)\n",
        "  print(dp_op.shape)\n",
        "  del enc_feats, regressor_op, dp_op, X \n",
        "  torch.cuda.empty_cache()\n",
        "  break"
      ],
      "execution_count": null,
      "outputs": [
        {
          "output_type": "stream",
          "text": [
            "torch.Size([7, 1, 128, 128, 64])\n",
            "torch.Size([7, 96, 2, 2, 1])\n",
            "torch.Size([7, 384])\n",
            "torch.Size([7, 96])\n",
            "torch.Size([7, 1])\n",
            "torch.Size([7, 3])\n"
          ],
          "name": "stdout"
        }
      ]
    },
    {
      "cell_type": "code",
      "metadata": {
        "id": "EV5mn5LaHbNi"
      },
      "source": [
        ""
      ],
      "execution_count": null,
      "outputs": []
    },
    {
      "cell_type": "markdown",
      "metadata": {
        "id": "N544ofxHVXLJ"
      },
      "source": [
        "# Loss Functions and Miscellaneous"
      ]
    },
    {
      "cell_type": "code",
      "metadata": {
        "id": "PqIjxXIaVae8"
      },
      "source": [
        "class confusion_loss(nn.Module):\n",
        "    def __init__(self, task=0):\n",
        "        super(confusion_loss, self).__init__()\n",
        "        self.task = task\n",
        "\n",
        "    def forward(self, x, target):\n",
        "        # We only care about x\n",
        "        log = torch.log(x)\n",
        "        log_sum = torch.sum(log, dim=1)\n",
        "        normalised_log_sum = torch.div(log_sum,  x.size()[1])\n",
        "        loss = torch.mul(torch.sum(normalised_log_sum, dim=0), -1)\n",
        "        return loss"
      ],
      "execution_count": 34,
      "outputs": []
    },
    {
      "cell_type": "code",
      "metadata": {
        "id": "Q6plvm6tVajg"
      },
      "source": [
        "criteron = nn.MSELoss()     # Change this to DANN_loss normal\n",
        "domain_criterion = nn.CrossEntropyLoss()"
      ],
      "execution_count": null,
      "outputs": []
    },
    {
      "cell_type": "markdown",
      "metadata": {
        "id": "RDkIboIsPz0p"
      },
      "source": [
        "# Normal Training - without unlearning"
      ]
    },
    {
      "cell_type": "code",
      "metadata": {
        "id": "WJI3U9w31VX9"
      },
      "source": [
        "del encoder_wou, regressor_wou\n",
        "torch.cuda.empty_cache()"
      ],
      "execution_count": null,
      "outputs": []
    },
    {
      "cell_type": "code",
      "metadata": {
        "id": "_yF0Qg3wP4C6"
      },
      "source": [
        "del encoder_wou, regressor_wou\n",
        "torch.cuda.empty_cache()\n",
        "\n",
        "encoder_wou = Encoder().to(\"cuda\")\n",
        "regressor_wou = Regressor().to(\"cuda\")\n",
        "#domain_predictor_wou = DomainPredictor(nodes=3).to(\"cuda\")"
      ],
      "execution_count": null,
      "outputs": []
    },
    {
      "cell_type": "code",
      "metadata": {
        "id": "aTRQ6MV6P4JU"
      },
      "source": [
        "regressor_loss_wou = nn.MSELoss() \n",
        "lr=1e-4\n",
        "#domain_criterion_wou = nn.CrossEntropyLoss()"
      ],
      "execution_count": null,
      "outputs": []
    },
    {
      "cell_type": "code",
      "metadata": {
        "id": "qTd9HZswP4LM"
      },
      "source": [
        "optimizer = torch.optim.Adam(list(encoder_wou.parameters()) + list(regressor_wou.parameters()), lr=lr ) \n",
        "model_dir = '/content/drive/My Drive/Image_Registration_Project/mri_harmonization'\n",
        "\n",
        "LOSS_PATH = \"/content/drive/My Drive/Image_Registration_Project/mri_harmonization\"\n",
        "if not os.path.isdir(model_dir):\n",
        "  os.mkdir(model_dir)\n"
      ],
      "execution_count": null,
      "outputs": []
    },
    {
      "cell_type": "code",
      "metadata": {
        "id": "ocRtDmm_P4RV"
      },
      "source": [
        "def run_one_epoch(epoch = 1):\n",
        "  example_number = 0\n",
        "\n",
        "  for X, Y, Z in training_generator:\n",
        "    X = X.to(\"cuda\").float()\n",
        "    Y = Y.to(\"cuda\").float()\n",
        "\n",
        "    #bool_X_input = torch.isnan(X).any()\n",
        "    #bool_Y_input = torch.isnan(Y).any()\n",
        "    \n",
        "    encoder_feats = encoder_wou(X)\n",
        "    #bool_encoder_out = torch.isnan(encoder_feats).any()\n",
        "    predicted_age = regressor_wou(encoder_feats)\n",
        "    #bool_regressor_out = torch.isnan(predicted_age).any()\n",
        "    loss = regressor_loss_wou(Y, predicted_age)\n",
        "\n",
        "    #print(bool_X_input, bool_Y_input, bool_encoder_out, bool_regressor_out)\n",
        "\n",
        "    optimizer.zero_grad()          \n",
        "    loss.backward() \n",
        "    optimizer.step()\n",
        "\n",
        "    del X, Y, Z, encoder_feats, predicted_age\n",
        "    torch.cuda.empty_cache()\n",
        "    example_number = example_number + 1\n",
        "\n",
        "  if (epoch%2 == 0):\n",
        "      modelname = model_dir + '/' + \"without_unlearning_\" + str(epoch) + '.pth'\n",
        "      torch.save({\"encoder_wou_model\": encoder_wou.state_dict(), \"regressor_wou_model\": regressor_wou.state_dict()}, modelname)\n",
        "      print(\"epoch: {}\".format(epoch))\n",
        "      print(\"Losses: {}\".format(loss))\n",
        "      print(\"Saving model checkpoints\")\n",
        "      print(\"======= =============== ===========\")\n",
        "      # Save the losses each epoch so we can plot them live\n",
        "      myloss = loss.detach()\n",
        "      myloss = myloss.cpu()\n",
        "      np.save(LOSS_PATH, np.array(myloss))\n",
        "      print()\n",
        "\n"
      ],
      "execution_count": null,
      "outputs": []
    },
    {
      "cell_type": "code",
      "metadata": {
        "colab": {
          "base_uri": "https://localhost:8080/"
        },
        "id": "D6_iZRQ2P4be",
        "outputId": "e5d10bff-7c9f-4468-a2a7-da918059afa4"
      },
      "source": [
        "epochs = 11\n",
        "for e in range(epochs):\n",
        "  run_one_epoch(epoch=e)"
      ],
      "execution_count": null,
      "outputs": [
        {
          "output_type": "stream",
          "text": [
            "epoch: 0\n",
            "Losses: 643.62109375\n",
            "Saving model checkpoints\n",
            "======= =============== ===========\n",
            "\n",
            "epoch: 2\n",
            "Losses: 410.50823974609375\n",
            "Saving model checkpoints\n",
            "======= =============== ===========\n",
            "\n",
            "epoch: 4\n",
            "Losses: 317.92193603515625\n",
            "Saving model checkpoints\n",
            "======= =============== ===========\n",
            "\n",
            "epoch: 6\n",
            "Losses: 289.123779296875\n",
            "Saving model checkpoints\n",
            "======= =============== ===========\n",
            "\n",
            "epoch: 8\n",
            "Losses: 283.73828125\n",
            "Saving model checkpoints\n",
            "======= =============== ===========\n",
            "\n",
            "epoch: 10\n",
            "Losses: 278.4912109375\n",
            "Saving model checkpoints\n",
            "======= =============== ===========\n",
            "\n"
          ],
          "name": "stdout"
        }
      ]
    },
    {
      "cell_type": "code",
      "metadata": {
        "id": "WtXVu4hIP4iM"
      },
      "source": [
        ""
      ],
      "execution_count": null,
      "outputs": []
    },
    {
      "cell_type": "markdown",
      "metadata": {
        "id": "ns9BM0_gpmpt"
      },
      "source": [
        "# Validation - without unlearning"
      ]
    },
    {
      "cell_type": "code",
      "metadata": {
        "id": "pu1g59INpqtH"
      },
      "source": [
        "validation_generator = Data.DataLoader(Dataset(train_learn_df, 1, True), batch_size=5,shuffle=False)"
      ],
      "execution_count": 67,
      "outputs": []
    },
    {
      "cell_type": "code",
      "metadata": {
        "id": "3SWluZFN5WzJ"
      },
      "source": [
        "del encoder_wou_val, regressor_wou_val\n",
        "torch.cuda.empty_cache()\n"
      ],
      "execution_count": 93,
      "outputs": []
    },
    {
      "cell_type": "code",
      "metadata": {
        "id": "pF1ae_D4pqyz"
      },
      "source": [
        "encoder_wou_val = Encoder().to(\"cuda\")\n",
        "regressor_wou_val = Regressor().to(\"cuda\")"
      ],
      "execution_count": 94,
      "outputs": []
    },
    {
      "cell_type": "code",
      "metadata": {
        "colab": {
          "base_uri": "https://localhost:8080/"
        },
        "id": "lO5hUXsEpq4H",
        "outputId": "934cb718-ebfe-40df-b896-5fc5e4e27999"
      },
      "source": [
        "checkpoint = torch.load('/content/drive/My Drive/Image_Registration_Project/mri_harmonization/without_unlearning_10.pth')\n",
        "encoder_wou_val.load_state_dict(checkpoint['encoder_wou_model'])\n",
        "regressor_wou_val.load_state_dict(checkpoint['regressor_wou_model'])\n",
        "\n",
        "encoder_wou_val.eval()\n",
        "regressor_wou_val.eval()\n"
      ],
      "execution_count": 95,
      "outputs": [
        {
          "output_type": "execute_result",
          "data": {
            "text/plain": [
              "Regressor(\n",
              "  (regressor): Sequential(\n",
              "    (r_fc2): Linear(in_features=96, out_features=32, bias=True)\n",
              "    (r_relu2): ReLU(inplace=True)\n",
              "    (r_pred): Linear(in_features=32, out_features=1, bias=True)\n",
              "  )\n",
              ")"
            ]
          },
          "metadata": {
            "tags": []
          },
          "execution_count": 95
        }
      ]
    },
    {
      "cell_type": "code",
      "metadata": {
        "id": "-ge9WAy2pq-Q"
      },
      "source": [
        "def run_one_epoch_val( epoch = 1):\n",
        "  batch_num = 0\n",
        "  batch_size = 5\n",
        "  embedding_dim = 96\n",
        "  out_np = np.zeros((batch_size, embedding_dim))\n",
        "  for X, Y, Z in validation_generator:\n",
        "    X = X.to(\"cuda\").float()\n",
        "    Y = Y.to(\"cuda\").float()\n",
        "\n",
        "    #print(X.shape)\n",
        "    encoder_feats = encoder_wou_val(X)\n",
        "\n",
        "    #predicted_age = regressor_wou_val(encoder_feats)\n",
        "\n",
        "    encoder_feats_cpu = encoder_feats.detach().to(\"cpu\")\n",
        "    encoder_feats_np = encoder_feats_cpu.numpy()\n",
        "\n",
        "    print(encoder_feats_np.shape)\n",
        "    print(batch_num * batch_size)\n",
        "\n",
        "    del X, Y, Z, encoder_feats, encoder_feats_cpu\n",
        "\n",
        "    out_np = np.append(out_np, encoder_feats_np, axis=0)\n",
        "    batch_num = batch_num + 1    \n",
        "\n",
        "    del encoder_feats_np\n",
        "    torch.cuda.empty_cache()\n",
        "    \n",
        "    print(\"Batch_number: \", batch_num)\n",
        "  \n",
        "  return out_np\n",
        "\n"
      ],
      "execution_count": 96,
      "outputs": []
    },
    {
      "cell_type": "code",
      "metadata": {
        "colab": {
          "base_uri": "https://localhost:8080/"
        },
        "id": "IXneeStt-qFN",
        "outputId": "058ad8b8-bdec-4e9a-cf43-7d77b708d2e6"
      },
      "source": [
        "!nvidia-smi"
      ],
      "execution_count": 100,
      "outputs": [
        {
          "output_type": "stream",
          "text": [
            "Sat Mar 27 14:04:35 2021       \n",
            "+-----------------------------------------------------------------------------+\n",
            "| NVIDIA-SMI 460.56       Driver Version: 460.32.03    CUDA Version: 11.2     |\n",
            "|-------------------------------+----------------------+----------------------+\n",
            "| GPU  Name        Persistence-M| Bus-Id        Disp.A | Volatile Uncorr. ECC |\n",
            "| Fan  Temp  Perf  Pwr:Usage/Cap|         Memory-Usage | GPU-Util  Compute M. |\n",
            "|                               |                      |               MIG M. |\n",
            "|===============================+======================+======================|\n",
            "|   0  Tesla P100-PCIE...  Off  | 00000000:00:04.0 Off |                    0 |\n",
            "| N/A   45C    P0    34W / 250W |   8903MiB / 16280MiB |      0%      Default |\n",
            "|                               |                      |                  N/A |\n",
            "+-------------------------------+----------------------+----------------------+\n",
            "                                                                               \n",
            "+-----------------------------------------------------------------------------+\n",
            "| Processes:                                                                  |\n",
            "|  GPU   GI   CI        PID   Type   Process name                  GPU Memory |\n",
            "|        ID   ID                                                   Usage      |\n",
            "|=============================================================================|\n",
            "+-----------------------------------------------------------------------------+\n"
          ],
          "name": "stdout"
        }
      ]
    },
    {
      "cell_type": "code",
      "metadata": {
        "id": "qu0h0n7K_EMz"
      },
      "source": [
        "!ps -a | grep \"python\""
      ],
      "execution_count": 98,
      "outputs": []
    },
    {
      "cell_type": "code",
      "metadata": {
        "id": "tMYo7izv1eIP"
      },
      "source": [
        "torch.cuda.empty_cache()"
      ],
      "execution_count": 99,
      "outputs": []
    },
    {
      "cell_type": "code",
      "metadata": {
        "colab": {
          "base_uri": "https://localhost:8080/"
        },
        "id": "gnnSvEU0rJQx",
        "outputId": "578c5576-fd11-4706-eff0-82758be75f70"
      },
      "source": [
        "epochs = 1\n",
        "for e in range(epochs):\n",
        "  mynp = run_one_epoch_val(epoch=e)"
      ],
      "execution_count": 101,
      "outputs": [
        {
          "output_type": "stream",
          "text": [
            "(5, 96)\n",
            "0\n",
            "Batch_number:  1\n",
            "(5, 96)\n",
            "5\n",
            "Batch_number:  2\n",
            "(5, 96)\n",
            "10\n",
            "Batch_number:  3\n",
            "(5, 96)\n",
            "15\n",
            "Batch_number:  4\n",
            "(5, 96)\n",
            "20\n",
            "Batch_number:  5\n",
            "(5, 96)\n",
            "25\n",
            "Batch_number:  6\n",
            "(5, 96)\n",
            "30\n",
            "Batch_number:  7\n",
            "(5, 96)\n",
            "35\n",
            "Batch_number:  8\n",
            "(5, 96)\n",
            "40\n",
            "Batch_number:  9\n",
            "(5, 96)\n",
            "45\n",
            "Batch_number:  10\n",
            "(5, 96)\n",
            "50\n",
            "Batch_number:  11\n",
            "(5, 96)\n",
            "55\n",
            "Batch_number:  12\n",
            "(5, 96)\n",
            "60\n",
            "Batch_number:  13\n",
            "(5, 96)\n",
            "65\n",
            "Batch_number:  14\n",
            "(5, 96)\n",
            "70\n",
            "Batch_number:  15\n",
            "(5, 96)\n",
            "75\n",
            "Batch_number:  16\n",
            "(5, 96)\n",
            "80\n",
            "Batch_number:  17\n",
            "(5, 96)\n",
            "85\n",
            "Batch_number:  18\n",
            "(1, 96)\n",
            "90\n",
            "Batch_number:  19\n"
          ],
          "name": "stdout"
        }
      ]
    },
    {
      "cell_type": "code",
      "metadata": {
        "colab": {
          "base_uri": "https://localhost:8080/"
        },
        "id": "HoBHr3_KA-OF",
        "outputId": "a918d0ec-611c-4e48-ee07-cfa2efb64c73"
      },
      "source": [
        "mynp.shape"
      ],
      "execution_count": 102,
      "outputs": [
        {
          "output_type": "execute_result",
          "data": {
            "text/plain": [
              "(96, 96)"
            ]
          },
          "metadata": {
            "tags": []
          },
          "execution_count": 102
        }
      ]
    },
    {
      "cell_type": "code",
      "metadata": {
        "id": "MtBms4KnBOch"
      },
      "source": [
        "mynp1 = mynp[5:, :]"
      ],
      "execution_count": 107,
      "outputs": []
    },
    {
      "cell_type": "code",
      "metadata": {
        "id": "CvEbZwXGrJYh"
      },
      "source": [
        "df_subset = pd.DataFrame(mynp1)"
      ],
      "execution_count": 108,
      "outputs": []
    },
    {
      "cell_type": "code",
      "metadata": {
        "colab": {
          "base_uri": "https://localhost:8080/",
          "height": 401
        },
        "id": "HgchDBRivtG4",
        "outputId": "bddd2a4a-74e5-449f-a58c-250a81ab916f"
      },
      "source": [
        "df_subset.head(10)"
      ],
      "execution_count": 109,
      "outputs": [
        {
          "output_type": "execute_result",
          "data": {
            "text/html": [
              "<div>\n",
              "<style scoped>\n",
              "    .dataframe tbody tr th:only-of-type {\n",
              "        vertical-align: middle;\n",
              "    }\n",
              "\n",
              "    .dataframe tbody tr th {\n",
              "        vertical-align: top;\n",
              "    }\n",
              "\n",
              "    .dataframe thead th {\n",
              "        text-align: right;\n",
              "    }\n",
              "</style>\n",
              "<table border=\"1\" class=\"dataframe\">\n",
              "  <thead>\n",
              "    <tr style=\"text-align: right;\">\n",
              "      <th></th>\n",
              "      <th>0</th>\n",
              "      <th>1</th>\n",
              "      <th>2</th>\n",
              "      <th>3</th>\n",
              "      <th>4</th>\n",
              "      <th>5</th>\n",
              "      <th>6</th>\n",
              "      <th>7</th>\n",
              "      <th>8</th>\n",
              "      <th>9</th>\n",
              "      <th>10</th>\n",
              "      <th>11</th>\n",
              "      <th>12</th>\n",
              "      <th>13</th>\n",
              "      <th>14</th>\n",
              "      <th>15</th>\n",
              "      <th>16</th>\n",
              "      <th>17</th>\n",
              "      <th>18</th>\n",
              "      <th>19</th>\n",
              "      <th>20</th>\n",
              "      <th>21</th>\n",
              "      <th>22</th>\n",
              "      <th>23</th>\n",
              "      <th>24</th>\n",
              "      <th>25</th>\n",
              "      <th>26</th>\n",
              "      <th>27</th>\n",
              "      <th>28</th>\n",
              "      <th>29</th>\n",
              "      <th>30</th>\n",
              "      <th>31</th>\n",
              "      <th>32</th>\n",
              "      <th>33</th>\n",
              "      <th>34</th>\n",
              "      <th>35</th>\n",
              "      <th>36</th>\n",
              "      <th>37</th>\n",
              "      <th>38</th>\n",
              "      <th>39</th>\n",
              "      <th>...</th>\n",
              "      <th>56</th>\n",
              "      <th>57</th>\n",
              "      <th>58</th>\n",
              "      <th>59</th>\n",
              "      <th>60</th>\n",
              "      <th>61</th>\n",
              "      <th>62</th>\n",
              "      <th>63</th>\n",
              "      <th>64</th>\n",
              "      <th>65</th>\n",
              "      <th>66</th>\n",
              "      <th>67</th>\n",
              "      <th>68</th>\n",
              "      <th>69</th>\n",
              "      <th>70</th>\n",
              "      <th>71</th>\n",
              "      <th>72</th>\n",
              "      <th>73</th>\n",
              "      <th>74</th>\n",
              "      <th>75</th>\n",
              "      <th>76</th>\n",
              "      <th>77</th>\n",
              "      <th>78</th>\n",
              "      <th>79</th>\n",
              "      <th>80</th>\n",
              "      <th>81</th>\n",
              "      <th>82</th>\n",
              "      <th>83</th>\n",
              "      <th>84</th>\n",
              "      <th>85</th>\n",
              "      <th>86</th>\n",
              "      <th>87</th>\n",
              "      <th>88</th>\n",
              "      <th>89</th>\n",
              "      <th>90</th>\n",
              "      <th>91</th>\n",
              "      <th>92</th>\n",
              "      <th>93</th>\n",
              "      <th>94</th>\n",
              "      <th>95</th>\n",
              "    </tr>\n",
              "  </thead>\n",
              "  <tbody>\n",
              "    <tr>\n",
              "      <th>0</th>\n",
              "      <td>30.616865</td>\n",
              "      <td>0.0</td>\n",
              "      <td>0.0</td>\n",
              "      <td>29.636530</td>\n",
              "      <td>32.162609</td>\n",
              "      <td>0.0</td>\n",
              "      <td>0.0</td>\n",
              "      <td>0.0</td>\n",
              "      <td>0.0</td>\n",
              "      <td>30.805445</td>\n",
              "      <td>0.0</td>\n",
              "      <td>0.0</td>\n",
              "      <td>27.131577</td>\n",
              "      <td>0.0</td>\n",
              "      <td>31.778507</td>\n",
              "      <td>0.0</td>\n",
              "      <td>0.0</td>\n",
              "      <td>0.0</td>\n",
              "      <td>0.0</td>\n",
              "      <td>0.0</td>\n",
              "      <td>0.0</td>\n",
              "      <td>29.672586</td>\n",
              "      <td>30.342209</td>\n",
              "      <td>0.0</td>\n",
              "      <td>28.215734</td>\n",
              "      <td>28.790695</td>\n",
              "      <td>0.0</td>\n",
              "      <td>28.185011</td>\n",
              "      <td>30.725029</td>\n",
              "      <td>0.0</td>\n",
              "      <td>33.416763</td>\n",
              "      <td>0.0</td>\n",
              "      <td>31.006927</td>\n",
              "      <td>0.0</td>\n",
              "      <td>0.0</td>\n",
              "      <td>0.0</td>\n",
              "      <td>29.666250</td>\n",
              "      <td>0.0</td>\n",
              "      <td>28.132376</td>\n",
              "      <td>27.829586</td>\n",
              "      <td>...</td>\n",
              "      <td>0.0</td>\n",
              "      <td>30.405193</td>\n",
              "      <td>0.0</td>\n",
              "      <td>31.827873</td>\n",
              "      <td>30.070169</td>\n",
              "      <td>29.150635</td>\n",
              "      <td>0.0</td>\n",
              "      <td>0.0</td>\n",
              "      <td>0.0</td>\n",
              "      <td>29.719776</td>\n",
              "      <td>30.209934</td>\n",
              "      <td>30.314497</td>\n",
              "      <td>30.427010</td>\n",
              "      <td>31.553383</td>\n",
              "      <td>25.343884</td>\n",
              "      <td>0.0</td>\n",
              "      <td>0.0</td>\n",
              "      <td>0.0</td>\n",
              "      <td>29.653334</td>\n",
              "      <td>30.662853</td>\n",
              "      <td>27.368155</td>\n",
              "      <td>28.072155</td>\n",
              "      <td>29.638378</td>\n",
              "      <td>0.0</td>\n",
              "      <td>0.0</td>\n",
              "      <td>0.0</td>\n",
              "      <td>27.987888</td>\n",
              "      <td>29.380348</td>\n",
              "      <td>0.0</td>\n",
              "      <td>0.0</td>\n",
              "      <td>31.659018</td>\n",
              "      <td>33.969982</td>\n",
              "      <td>29.509283</td>\n",
              "      <td>0.0</td>\n",
              "      <td>0.0</td>\n",
              "      <td>0.0</td>\n",
              "      <td>0.0</td>\n",
              "      <td>28.383293</td>\n",
              "      <td>29.676710</td>\n",
              "      <td>30.095675</td>\n",
              "    </tr>\n",
              "    <tr>\n",
              "      <th>1</th>\n",
              "      <td>30.664804</td>\n",
              "      <td>0.0</td>\n",
              "      <td>0.0</td>\n",
              "      <td>29.692415</td>\n",
              "      <td>32.200027</td>\n",
              "      <td>0.0</td>\n",
              "      <td>0.0</td>\n",
              "      <td>0.0</td>\n",
              "      <td>0.0</td>\n",
              "      <td>30.871675</td>\n",
              "      <td>0.0</td>\n",
              "      <td>0.0</td>\n",
              "      <td>27.205019</td>\n",
              "      <td>0.0</td>\n",
              "      <td>31.850492</td>\n",
              "      <td>0.0</td>\n",
              "      <td>0.0</td>\n",
              "      <td>0.0</td>\n",
              "      <td>0.0</td>\n",
              "      <td>0.0</td>\n",
              "      <td>0.0</td>\n",
              "      <td>29.740578</td>\n",
              "      <td>30.386000</td>\n",
              "      <td>0.0</td>\n",
              "      <td>28.254168</td>\n",
              "      <td>28.836729</td>\n",
              "      <td>0.0</td>\n",
              "      <td>28.231327</td>\n",
              "      <td>30.789753</td>\n",
              "      <td>0.0</td>\n",
              "      <td>33.470104</td>\n",
              "      <td>0.0</td>\n",
              "      <td>31.069756</td>\n",
              "      <td>0.0</td>\n",
              "      <td>0.0</td>\n",
              "      <td>0.0</td>\n",
              "      <td>29.716040</td>\n",
              "      <td>0.0</td>\n",
              "      <td>28.158857</td>\n",
              "      <td>27.892620</td>\n",
              "      <td>...</td>\n",
              "      <td>0.0</td>\n",
              "      <td>30.467821</td>\n",
              "      <td>0.0</td>\n",
              "      <td>31.878548</td>\n",
              "      <td>30.131351</td>\n",
              "      <td>29.197927</td>\n",
              "      <td>0.0</td>\n",
              "      <td>0.0</td>\n",
              "      <td>0.0</td>\n",
              "      <td>29.767109</td>\n",
              "      <td>30.247681</td>\n",
              "      <td>30.384060</td>\n",
              "      <td>30.475931</td>\n",
              "      <td>31.611649</td>\n",
              "      <td>25.385765</td>\n",
              "      <td>0.0</td>\n",
              "      <td>0.0</td>\n",
              "      <td>0.0</td>\n",
              "      <td>29.706793</td>\n",
              "      <td>30.710014</td>\n",
              "      <td>27.436964</td>\n",
              "      <td>28.116722</td>\n",
              "      <td>29.693666</td>\n",
              "      <td>0.0</td>\n",
              "      <td>0.0</td>\n",
              "      <td>0.0</td>\n",
              "      <td>28.028595</td>\n",
              "      <td>29.423454</td>\n",
              "      <td>0.0</td>\n",
              "      <td>0.0</td>\n",
              "      <td>31.719362</td>\n",
              "      <td>34.037632</td>\n",
              "      <td>29.566994</td>\n",
              "      <td>0.0</td>\n",
              "      <td>0.0</td>\n",
              "      <td>0.0</td>\n",
              "      <td>0.0</td>\n",
              "      <td>28.436028</td>\n",
              "      <td>29.727428</td>\n",
              "      <td>30.140671</td>\n",
              "    </tr>\n",
              "    <tr>\n",
              "      <th>2</th>\n",
              "      <td>30.734240</td>\n",
              "      <td>0.0</td>\n",
              "      <td>0.0</td>\n",
              "      <td>29.751266</td>\n",
              "      <td>32.293324</td>\n",
              "      <td>0.0</td>\n",
              "      <td>0.0</td>\n",
              "      <td>0.0</td>\n",
              "      <td>0.0</td>\n",
              "      <td>30.937899</td>\n",
              "      <td>0.0</td>\n",
              "      <td>0.0</td>\n",
              "      <td>27.237865</td>\n",
              "      <td>0.0</td>\n",
              "      <td>31.913082</td>\n",
              "      <td>0.0</td>\n",
              "      <td>0.0</td>\n",
              "      <td>0.0</td>\n",
              "      <td>0.0</td>\n",
              "      <td>0.0</td>\n",
              "      <td>0.0</td>\n",
              "      <td>29.819029</td>\n",
              "      <td>30.460699</td>\n",
              "      <td>0.0</td>\n",
              "      <td>28.321264</td>\n",
              "      <td>28.902399</td>\n",
              "      <td>0.0</td>\n",
              "      <td>28.298887</td>\n",
              "      <td>30.828403</td>\n",
              "      <td>0.0</td>\n",
              "      <td>33.525120</td>\n",
              "      <td>0.0</td>\n",
              "      <td>31.143936</td>\n",
              "      <td>0.0</td>\n",
              "      <td>0.0</td>\n",
              "      <td>0.0</td>\n",
              "      <td>29.785677</td>\n",
              "      <td>0.0</td>\n",
              "      <td>28.211412</td>\n",
              "      <td>27.948410</td>\n",
              "      <td>...</td>\n",
              "      <td>0.0</td>\n",
              "      <td>30.547079</td>\n",
              "      <td>0.0</td>\n",
              "      <td>31.944427</td>\n",
              "      <td>30.198132</td>\n",
              "      <td>29.252363</td>\n",
              "      <td>0.0</td>\n",
              "      <td>0.0</td>\n",
              "      <td>0.0</td>\n",
              "      <td>29.840092</td>\n",
              "      <td>30.282213</td>\n",
              "      <td>30.480629</td>\n",
              "      <td>30.530735</td>\n",
              "      <td>31.674507</td>\n",
              "      <td>25.447525</td>\n",
              "      <td>0.0</td>\n",
              "      <td>0.0</td>\n",
              "      <td>0.0</td>\n",
              "      <td>29.747129</td>\n",
              "      <td>30.768290</td>\n",
              "      <td>27.484926</td>\n",
              "      <td>28.164555</td>\n",
              "      <td>29.755785</td>\n",
              "      <td>0.0</td>\n",
              "      <td>0.0</td>\n",
              "      <td>0.0</td>\n",
              "      <td>28.087196</td>\n",
              "      <td>29.507608</td>\n",
              "      <td>0.0</td>\n",
              "      <td>0.0</td>\n",
              "      <td>31.782143</td>\n",
              "      <td>34.111771</td>\n",
              "      <td>29.616951</td>\n",
              "      <td>0.0</td>\n",
              "      <td>0.0</td>\n",
              "      <td>0.0</td>\n",
              "      <td>0.0</td>\n",
              "      <td>28.493282</td>\n",
              "      <td>29.803076</td>\n",
              "      <td>30.195576</td>\n",
              "    </tr>\n",
              "    <tr>\n",
              "      <th>3</th>\n",
              "      <td>30.417494</td>\n",
              "      <td>0.0</td>\n",
              "      <td>0.0</td>\n",
              "      <td>29.472265</td>\n",
              "      <td>31.937672</td>\n",
              "      <td>0.0</td>\n",
              "      <td>0.0</td>\n",
              "      <td>0.0</td>\n",
              "      <td>0.0</td>\n",
              "      <td>30.610649</td>\n",
              "      <td>0.0</td>\n",
              "      <td>0.0</td>\n",
              "      <td>26.970722</td>\n",
              "      <td>0.0</td>\n",
              "      <td>31.594017</td>\n",
              "      <td>0.0</td>\n",
              "      <td>0.0</td>\n",
              "      <td>0.0</td>\n",
              "      <td>0.0</td>\n",
              "      <td>0.0</td>\n",
              "      <td>0.0</td>\n",
              "      <td>29.486300</td>\n",
              "      <td>30.158499</td>\n",
              "      <td>0.0</td>\n",
              "      <td>28.026247</td>\n",
              "      <td>28.603622</td>\n",
              "      <td>0.0</td>\n",
              "      <td>28.022591</td>\n",
              "      <td>30.556517</td>\n",
              "      <td>0.0</td>\n",
              "      <td>33.187546</td>\n",
              "      <td>0.0</td>\n",
              "      <td>30.770584</td>\n",
              "      <td>0.0</td>\n",
              "      <td>0.0</td>\n",
              "      <td>0.0</td>\n",
              "      <td>29.466650</td>\n",
              "      <td>0.0</td>\n",
              "      <td>27.974796</td>\n",
              "      <td>27.651051</td>\n",
              "      <td>...</td>\n",
              "      <td>0.0</td>\n",
              "      <td>30.222765</td>\n",
              "      <td>0.0</td>\n",
              "      <td>31.634369</td>\n",
              "      <td>29.892658</td>\n",
              "      <td>28.975607</td>\n",
              "      <td>0.0</td>\n",
              "      <td>0.0</td>\n",
              "      <td>0.0</td>\n",
              "      <td>29.516582</td>\n",
              "      <td>30.026585</td>\n",
              "      <td>30.093826</td>\n",
              "      <td>30.242973</td>\n",
              "      <td>31.351078</td>\n",
              "      <td>25.203802</td>\n",
              "      <td>0.0</td>\n",
              "      <td>0.0</td>\n",
              "      <td>0.0</td>\n",
              "      <td>29.491686</td>\n",
              "      <td>30.455414</td>\n",
              "      <td>27.198788</td>\n",
              "      <td>27.901491</td>\n",
              "      <td>29.446293</td>\n",
              "      <td>0.0</td>\n",
              "      <td>0.0</td>\n",
              "      <td>0.0</td>\n",
              "      <td>27.808722</td>\n",
              "      <td>29.200756</td>\n",
              "      <td>0.0</td>\n",
              "      <td>0.0</td>\n",
              "      <td>31.442652</td>\n",
              "      <td>33.781162</td>\n",
              "      <td>29.334930</td>\n",
              "      <td>0.0</td>\n",
              "      <td>0.0</td>\n",
              "      <td>0.0</td>\n",
              "      <td>0.0</td>\n",
              "      <td>28.212021</td>\n",
              "      <td>29.490421</td>\n",
              "      <td>29.899071</td>\n",
              "    </tr>\n",
              "    <tr>\n",
              "      <th>4</th>\n",
              "      <td>30.698364</td>\n",
              "      <td>0.0</td>\n",
              "      <td>0.0</td>\n",
              "      <td>29.739122</td>\n",
              "      <td>32.246872</td>\n",
              "      <td>0.0</td>\n",
              "      <td>0.0</td>\n",
              "      <td>0.0</td>\n",
              "      <td>0.0</td>\n",
              "      <td>30.905611</td>\n",
              "      <td>0.0</td>\n",
              "      <td>0.0</td>\n",
              "      <td>27.214806</td>\n",
              "      <td>0.0</td>\n",
              "      <td>31.893221</td>\n",
              "      <td>0.0</td>\n",
              "      <td>0.0</td>\n",
              "      <td>0.0</td>\n",
              "      <td>0.0</td>\n",
              "      <td>0.0</td>\n",
              "      <td>0.0</td>\n",
              "      <td>29.785009</td>\n",
              "      <td>30.437826</td>\n",
              "      <td>0.0</td>\n",
              "      <td>28.303766</td>\n",
              "      <td>28.882793</td>\n",
              "      <td>0.0</td>\n",
              "      <td>28.269720</td>\n",
              "      <td>30.809299</td>\n",
              "      <td>0.0</td>\n",
              "      <td>33.502735</td>\n",
              "      <td>0.0</td>\n",
              "      <td>31.117882</td>\n",
              "      <td>0.0</td>\n",
              "      <td>0.0</td>\n",
              "      <td>0.0</td>\n",
              "      <td>29.743433</td>\n",
              "      <td>0.0</td>\n",
              "      <td>28.198538</td>\n",
              "      <td>27.953930</td>\n",
              "      <td>...</td>\n",
              "      <td>0.0</td>\n",
              "      <td>30.508001</td>\n",
              "      <td>0.0</td>\n",
              "      <td>31.917027</td>\n",
              "      <td>30.166517</td>\n",
              "      <td>29.257067</td>\n",
              "      <td>0.0</td>\n",
              "      <td>0.0</td>\n",
              "      <td>0.0</td>\n",
              "      <td>29.801256</td>\n",
              "      <td>30.282646</td>\n",
              "      <td>30.410639</td>\n",
              "      <td>30.519690</td>\n",
              "      <td>31.646763</td>\n",
              "      <td>25.427948</td>\n",
              "      <td>0.0</td>\n",
              "      <td>0.0</td>\n",
              "      <td>0.0</td>\n",
              "      <td>29.752193</td>\n",
              "      <td>30.733301</td>\n",
              "      <td>27.465902</td>\n",
              "      <td>28.149921</td>\n",
              "      <td>29.736565</td>\n",
              "      <td>0.0</td>\n",
              "      <td>0.0</td>\n",
              "      <td>0.0</td>\n",
              "      <td>28.077177</td>\n",
              "      <td>29.492826</td>\n",
              "      <td>0.0</td>\n",
              "      <td>0.0</td>\n",
              "      <td>31.756920</td>\n",
              "      <td>34.108162</td>\n",
              "      <td>29.620255</td>\n",
              "      <td>0.0</td>\n",
              "      <td>0.0</td>\n",
              "      <td>0.0</td>\n",
              "      <td>0.0</td>\n",
              "      <td>28.479614</td>\n",
              "      <td>29.782131</td>\n",
              "      <td>30.178524</td>\n",
              "    </tr>\n",
              "    <tr>\n",
              "      <th>5</th>\n",
              "      <td>30.714108</td>\n",
              "      <td>0.0</td>\n",
              "      <td>0.0</td>\n",
              "      <td>29.717493</td>\n",
              "      <td>32.251934</td>\n",
              "      <td>0.0</td>\n",
              "      <td>0.0</td>\n",
              "      <td>0.0</td>\n",
              "      <td>0.0</td>\n",
              "      <td>30.888861</td>\n",
              "      <td>0.0</td>\n",
              "      <td>0.0</td>\n",
              "      <td>27.198252</td>\n",
              "      <td>0.0</td>\n",
              "      <td>31.876564</td>\n",
              "      <td>0.0</td>\n",
              "      <td>0.0</td>\n",
              "      <td>0.0</td>\n",
              "      <td>0.0</td>\n",
              "      <td>0.0</td>\n",
              "      <td>0.0</td>\n",
              "      <td>29.784336</td>\n",
              "      <td>30.424158</td>\n",
              "      <td>0.0</td>\n",
              "      <td>28.285154</td>\n",
              "      <td>28.883392</td>\n",
              "      <td>0.0</td>\n",
              "      <td>28.258377</td>\n",
              "      <td>30.804308</td>\n",
              "      <td>0.0</td>\n",
              "      <td>33.499447</td>\n",
              "      <td>0.0</td>\n",
              "      <td>31.102524</td>\n",
              "      <td>0.0</td>\n",
              "      <td>0.0</td>\n",
              "      <td>0.0</td>\n",
              "      <td>29.748808</td>\n",
              "      <td>0.0</td>\n",
              "      <td>28.209122</td>\n",
              "      <td>27.909575</td>\n",
              "      <td>...</td>\n",
              "      <td>0.0</td>\n",
              "      <td>30.507536</td>\n",
              "      <td>0.0</td>\n",
              "      <td>31.922306</td>\n",
              "      <td>30.160646</td>\n",
              "      <td>29.225973</td>\n",
              "      <td>0.0</td>\n",
              "      <td>0.0</td>\n",
              "      <td>0.0</td>\n",
              "      <td>29.794954</td>\n",
              "      <td>30.297825</td>\n",
              "      <td>30.399446</td>\n",
              "      <td>30.509872</td>\n",
              "      <td>31.646461</td>\n",
              "      <td>25.413464</td>\n",
              "      <td>0.0</td>\n",
              "      <td>0.0</td>\n",
              "      <td>0.0</td>\n",
              "      <td>29.746532</td>\n",
              "      <td>30.734900</td>\n",
              "      <td>27.453793</td>\n",
              "      <td>28.147100</td>\n",
              "      <td>29.711803</td>\n",
              "      <td>0.0</td>\n",
              "      <td>0.0</td>\n",
              "      <td>0.0</td>\n",
              "      <td>28.063751</td>\n",
              "      <td>29.465839</td>\n",
              "      <td>0.0</td>\n",
              "      <td>0.0</td>\n",
              "      <td>31.742844</td>\n",
              "      <td>34.086582</td>\n",
              "      <td>29.596415</td>\n",
              "      <td>0.0</td>\n",
              "      <td>0.0</td>\n",
              "      <td>0.0</td>\n",
              "      <td>0.0</td>\n",
              "      <td>28.458530</td>\n",
              "      <td>29.754663</td>\n",
              "      <td>30.175671</td>\n",
              "    </tr>\n",
              "    <tr>\n",
              "      <th>6</th>\n",
              "      <td>30.655893</td>\n",
              "      <td>0.0</td>\n",
              "      <td>0.0</td>\n",
              "      <td>29.694265</td>\n",
              "      <td>32.189259</td>\n",
              "      <td>0.0</td>\n",
              "      <td>0.0</td>\n",
              "      <td>0.0</td>\n",
              "      <td>0.0</td>\n",
              "      <td>30.827135</td>\n",
              "      <td>0.0</td>\n",
              "      <td>0.0</td>\n",
              "      <td>27.167133</td>\n",
              "      <td>0.0</td>\n",
              "      <td>31.837259</td>\n",
              "      <td>0.0</td>\n",
              "      <td>0.0</td>\n",
              "      <td>0.0</td>\n",
              "      <td>0.0</td>\n",
              "      <td>0.0</td>\n",
              "      <td>0.0</td>\n",
              "      <td>29.721872</td>\n",
              "      <td>30.369825</td>\n",
              "      <td>0.0</td>\n",
              "      <td>28.231459</td>\n",
              "      <td>28.828053</td>\n",
              "      <td>0.0</td>\n",
              "      <td>28.215166</td>\n",
              "      <td>30.751352</td>\n",
              "      <td>0.0</td>\n",
              "      <td>33.427677</td>\n",
              "      <td>0.0</td>\n",
              "      <td>31.033997</td>\n",
              "      <td>0.0</td>\n",
              "      <td>0.0</td>\n",
              "      <td>0.0</td>\n",
              "      <td>29.680441</td>\n",
              "      <td>0.0</td>\n",
              "      <td>28.158424</td>\n",
              "      <td>27.872194</td>\n",
              "      <td>...</td>\n",
              "      <td>0.0</td>\n",
              "      <td>30.457958</td>\n",
              "      <td>0.0</td>\n",
              "      <td>31.855900</td>\n",
              "      <td>30.109861</td>\n",
              "      <td>29.188057</td>\n",
              "      <td>0.0</td>\n",
              "      <td>0.0</td>\n",
              "      <td>0.0</td>\n",
              "      <td>29.722523</td>\n",
              "      <td>30.226877</td>\n",
              "      <td>30.342470</td>\n",
              "      <td>30.461266</td>\n",
              "      <td>31.584202</td>\n",
              "      <td>25.384886</td>\n",
              "      <td>0.0</td>\n",
              "      <td>0.0</td>\n",
              "      <td>0.0</td>\n",
              "      <td>29.713243</td>\n",
              "      <td>30.682219</td>\n",
              "      <td>27.393503</td>\n",
              "      <td>28.100019</td>\n",
              "      <td>29.646389</td>\n",
              "      <td>0.0</td>\n",
              "      <td>0.0</td>\n",
              "      <td>0.0</td>\n",
              "      <td>28.016809</td>\n",
              "      <td>29.421658</td>\n",
              "      <td>0.0</td>\n",
              "      <td>0.0</td>\n",
              "      <td>31.673929</td>\n",
              "      <td>34.018391</td>\n",
              "      <td>29.547890</td>\n",
              "      <td>0.0</td>\n",
              "      <td>0.0</td>\n",
              "      <td>0.0</td>\n",
              "      <td>0.0</td>\n",
              "      <td>28.424828</td>\n",
              "      <td>29.717476</td>\n",
              "      <td>30.126709</td>\n",
              "    </tr>\n",
              "    <tr>\n",
              "      <th>7</th>\n",
              "      <td>30.774502</td>\n",
              "      <td>0.0</td>\n",
              "      <td>0.0</td>\n",
              "      <td>29.795334</td>\n",
              "      <td>32.329300</td>\n",
              "      <td>0.0</td>\n",
              "      <td>0.0</td>\n",
              "      <td>0.0</td>\n",
              "      <td>0.0</td>\n",
              "      <td>30.958220</td>\n",
              "      <td>0.0</td>\n",
              "      <td>0.0</td>\n",
              "      <td>27.270000</td>\n",
              "      <td>0.0</td>\n",
              "      <td>31.936409</td>\n",
              "      <td>0.0</td>\n",
              "      <td>0.0</td>\n",
              "      <td>0.0</td>\n",
              "      <td>0.0</td>\n",
              "      <td>0.0</td>\n",
              "      <td>0.0</td>\n",
              "      <td>29.822495</td>\n",
              "      <td>30.509714</td>\n",
              "      <td>0.0</td>\n",
              "      <td>28.361927</td>\n",
              "      <td>28.943024</td>\n",
              "      <td>0.0</td>\n",
              "      <td>28.358534</td>\n",
              "      <td>30.891560</td>\n",
              "      <td>0.0</td>\n",
              "      <td>33.563625</td>\n",
              "      <td>0.0</td>\n",
              "      <td>31.180727</td>\n",
              "      <td>0.0</td>\n",
              "      <td>0.0</td>\n",
              "      <td>0.0</td>\n",
              "      <td>29.801107</td>\n",
              "      <td>0.0</td>\n",
              "      <td>28.280855</td>\n",
              "      <td>27.982903</td>\n",
              "      <td>...</td>\n",
              "      <td>0.0</td>\n",
              "      <td>30.576061</td>\n",
              "      <td>0.0</td>\n",
              "      <td>31.982040</td>\n",
              "      <td>30.215382</td>\n",
              "      <td>29.303574</td>\n",
              "      <td>0.0</td>\n",
              "      <td>0.0</td>\n",
              "      <td>0.0</td>\n",
              "      <td>29.862398</td>\n",
              "      <td>30.357498</td>\n",
              "      <td>30.447632</td>\n",
              "      <td>30.575981</td>\n",
              "      <td>31.697498</td>\n",
              "      <td>25.476761</td>\n",
              "      <td>0.0</td>\n",
              "      <td>0.0</td>\n",
              "      <td>0.0</td>\n",
              "      <td>29.815611</td>\n",
              "      <td>30.804638</td>\n",
              "      <td>27.524179</td>\n",
              "      <td>28.194374</td>\n",
              "      <td>29.780437</td>\n",
              "      <td>0.0</td>\n",
              "      <td>0.0</td>\n",
              "      <td>0.0</td>\n",
              "      <td>28.132790</td>\n",
              "      <td>29.541294</td>\n",
              "      <td>0.0</td>\n",
              "      <td>0.0</td>\n",
              "      <td>31.813948</td>\n",
              "      <td>34.174503</td>\n",
              "      <td>29.669292</td>\n",
              "      <td>0.0</td>\n",
              "      <td>0.0</td>\n",
              "      <td>0.0</td>\n",
              "      <td>0.0</td>\n",
              "      <td>28.505980</td>\n",
              "      <td>29.808771</td>\n",
              "      <td>30.235283</td>\n",
              "    </tr>\n",
              "    <tr>\n",
              "      <th>8</th>\n",
              "      <td>30.778109</td>\n",
              "      <td>0.0</td>\n",
              "      <td>0.0</td>\n",
              "      <td>29.778044</td>\n",
              "      <td>32.325344</td>\n",
              "      <td>0.0</td>\n",
              "      <td>0.0</td>\n",
              "      <td>0.0</td>\n",
              "      <td>0.0</td>\n",
              "      <td>30.942556</td>\n",
              "      <td>0.0</td>\n",
              "      <td>0.0</td>\n",
              "      <td>27.257416</td>\n",
              "      <td>0.0</td>\n",
              "      <td>31.946087</td>\n",
              "      <td>0.0</td>\n",
              "      <td>0.0</td>\n",
              "      <td>0.0</td>\n",
              "      <td>0.0</td>\n",
              "      <td>0.0</td>\n",
              "      <td>0.0</td>\n",
              "      <td>29.799763</td>\n",
              "      <td>30.502777</td>\n",
              "      <td>0.0</td>\n",
              "      <td>28.338984</td>\n",
              "      <td>28.937696</td>\n",
              "      <td>0.0</td>\n",
              "      <td>28.314480</td>\n",
              "      <td>30.863075</td>\n",
              "      <td>0.0</td>\n",
              "      <td>33.566666</td>\n",
              "      <td>0.0</td>\n",
              "      <td>31.183304</td>\n",
              "      <td>0.0</td>\n",
              "      <td>0.0</td>\n",
              "      <td>0.0</td>\n",
              "      <td>29.802237</td>\n",
              "      <td>0.0</td>\n",
              "      <td>28.271196</td>\n",
              "      <td>27.988268</td>\n",
              "      <td>...</td>\n",
              "      <td>0.0</td>\n",
              "      <td>30.562963</td>\n",
              "      <td>0.0</td>\n",
              "      <td>31.968269</td>\n",
              "      <td>30.211506</td>\n",
              "      <td>29.291351</td>\n",
              "      <td>0.0</td>\n",
              "      <td>0.0</td>\n",
              "      <td>0.0</td>\n",
              "      <td>29.855616</td>\n",
              "      <td>30.356674</td>\n",
              "      <td>30.474270</td>\n",
              "      <td>30.565029</td>\n",
              "      <td>31.705095</td>\n",
              "      <td>25.473240</td>\n",
              "      <td>0.0</td>\n",
              "      <td>0.0</td>\n",
              "      <td>0.0</td>\n",
              "      <td>29.817331</td>\n",
              "      <td>30.793140</td>\n",
              "      <td>27.525827</td>\n",
              "      <td>28.205240</td>\n",
              "      <td>29.750368</td>\n",
              "      <td>0.0</td>\n",
              "      <td>0.0</td>\n",
              "      <td>0.0</td>\n",
              "      <td>28.114397</td>\n",
              "      <td>29.531246</td>\n",
              "      <td>0.0</td>\n",
              "      <td>0.0</td>\n",
              "      <td>31.825903</td>\n",
              "      <td>34.149323</td>\n",
              "      <td>29.656483</td>\n",
              "      <td>0.0</td>\n",
              "      <td>0.0</td>\n",
              "      <td>0.0</td>\n",
              "      <td>0.0</td>\n",
              "      <td>28.512711</td>\n",
              "      <td>29.831280</td>\n",
              "      <td>30.242302</td>\n",
              "    </tr>\n",
              "    <tr>\n",
              "      <th>9</th>\n",
              "      <td>30.668875</td>\n",
              "      <td>0.0</td>\n",
              "      <td>0.0</td>\n",
              "      <td>29.694128</td>\n",
              "      <td>32.220818</td>\n",
              "      <td>0.0</td>\n",
              "      <td>0.0</td>\n",
              "      <td>0.0</td>\n",
              "      <td>0.0</td>\n",
              "      <td>30.845568</td>\n",
              "      <td>0.0</td>\n",
              "      <td>0.0</td>\n",
              "      <td>27.174973</td>\n",
              "      <td>0.0</td>\n",
              "      <td>31.813110</td>\n",
              "      <td>0.0</td>\n",
              "      <td>0.0</td>\n",
              "      <td>0.0</td>\n",
              "      <td>0.0</td>\n",
              "      <td>0.0</td>\n",
              "      <td>0.0</td>\n",
              "      <td>29.727690</td>\n",
              "      <td>30.401194</td>\n",
              "      <td>0.0</td>\n",
              "      <td>28.262119</td>\n",
              "      <td>28.833719</td>\n",
              "      <td>0.0</td>\n",
              "      <td>28.228168</td>\n",
              "      <td>30.785654</td>\n",
              "      <td>0.0</td>\n",
              "      <td>33.444122</td>\n",
              "      <td>0.0</td>\n",
              "      <td>31.069782</td>\n",
              "      <td>0.0</td>\n",
              "      <td>0.0</td>\n",
              "      <td>0.0</td>\n",
              "      <td>29.707602</td>\n",
              "      <td>0.0</td>\n",
              "      <td>28.166044</td>\n",
              "      <td>27.896904</td>\n",
              "      <td>...</td>\n",
              "      <td>0.0</td>\n",
              "      <td>30.478891</td>\n",
              "      <td>0.0</td>\n",
              "      <td>31.867859</td>\n",
              "      <td>30.110807</td>\n",
              "      <td>29.188955</td>\n",
              "      <td>0.0</td>\n",
              "      <td>0.0</td>\n",
              "      <td>0.0</td>\n",
              "      <td>29.759878</td>\n",
              "      <td>30.249098</td>\n",
              "      <td>30.380119</td>\n",
              "      <td>30.459972</td>\n",
              "      <td>31.581926</td>\n",
              "      <td>25.373611</td>\n",
              "      <td>0.0</td>\n",
              "      <td>0.0</td>\n",
              "      <td>0.0</td>\n",
              "      <td>29.720373</td>\n",
              "      <td>30.688307</td>\n",
              "      <td>27.429647</td>\n",
              "      <td>28.107691</td>\n",
              "      <td>29.694420</td>\n",
              "      <td>0.0</td>\n",
              "      <td>0.0</td>\n",
              "      <td>0.0</td>\n",
              "      <td>28.020794</td>\n",
              "      <td>29.433630</td>\n",
              "      <td>0.0</td>\n",
              "      <td>0.0</td>\n",
              "      <td>31.714380</td>\n",
              "      <td>34.053459</td>\n",
              "      <td>29.566582</td>\n",
              "      <td>0.0</td>\n",
              "      <td>0.0</td>\n",
              "      <td>0.0</td>\n",
              "      <td>0.0</td>\n",
              "      <td>28.418793</td>\n",
              "      <td>29.729689</td>\n",
              "      <td>30.132696</td>\n",
              "    </tr>\n",
              "  </tbody>\n",
              "</table>\n",
              "<p>10 rows × 96 columns</p>\n",
              "</div>"
            ],
            "text/plain": [
              "          0    1    2          3   ...   92         93         94         95\n",
              "0  30.616865  0.0  0.0  29.636530  ...  0.0  28.383293  29.676710  30.095675\n",
              "1  30.664804  0.0  0.0  29.692415  ...  0.0  28.436028  29.727428  30.140671\n",
              "2  30.734240  0.0  0.0  29.751266  ...  0.0  28.493282  29.803076  30.195576\n",
              "3  30.417494  0.0  0.0  29.472265  ...  0.0  28.212021  29.490421  29.899071\n",
              "4  30.698364  0.0  0.0  29.739122  ...  0.0  28.479614  29.782131  30.178524\n",
              "5  30.714108  0.0  0.0  29.717493  ...  0.0  28.458530  29.754663  30.175671\n",
              "6  30.655893  0.0  0.0  29.694265  ...  0.0  28.424828  29.717476  30.126709\n",
              "7  30.774502  0.0  0.0  29.795334  ...  0.0  28.505980  29.808771  30.235283\n",
              "8  30.778109  0.0  0.0  29.778044  ...  0.0  28.512711  29.831280  30.242302\n",
              "9  30.668875  0.0  0.0  29.694128  ...  0.0  28.418793  29.729689  30.132696\n",
              "\n",
              "[10 rows x 96 columns]"
            ]
          },
          "metadata": {
            "tags": []
          },
          "execution_count": 109
        }
      ]
    },
    {
      "cell_type": "code",
      "metadata": {
        "id": "XyP8zH4yBltI"
      },
      "source": [
        "train_learn_df.reset_index(inplace=True)"
      ],
      "execution_count": 110,
      "outputs": []
    },
    {
      "cell_type": "code",
      "metadata": {
        "colab": {
          "base_uri": "https://localhost:8080/",
          "height": 336
        },
        "id": "9nVVLztBBpzg",
        "outputId": "d4deabbe-305e-4260-ac6e-f7425b5653e0"
      },
      "source": [
        "train_learn_df.head()"
      ],
      "execution_count": 111,
      "outputs": [
        {
          "output_type": "execute_result",
          "data": {
            "text/html": [
              "<div>\n",
              "<style scoped>\n",
              "    .dataframe tbody tr th:only-of-type {\n",
              "        vertical-align: middle;\n",
              "    }\n",
              "\n",
              "    .dataframe tbody tr th {\n",
              "        vertical-align: top;\n",
              "    }\n",
              "\n",
              "    .dataframe thead th {\n",
              "        text-align: right;\n",
              "    }\n",
              "</style>\n",
              "<table border=\"1\" class=\"dataframe\">\n",
              "  <thead>\n",
              "    <tr style=\"text-align: right;\">\n",
              "      <th></th>\n",
              "      <th>index</th>\n",
              "      <th>IXI_ID</th>\n",
              "      <th>SEX_ID (1=m, 2=f)</th>\n",
              "      <th>HEIGHT</th>\n",
              "      <th>WEIGHT</th>\n",
              "      <th>ETHNIC_ID</th>\n",
              "      <th>MARITAL_ID</th>\n",
              "      <th>OCCUPATION_ID</th>\n",
              "      <th>QUALIFICATION_ID</th>\n",
              "      <th>DOB</th>\n",
              "      <th>DATE_AVAILABLE</th>\n",
              "      <th>STUDY_DATE</th>\n",
              "      <th>AGE</th>\n",
              "      <th>our_ixi_id</th>\n",
              "      <th>scanner_name</th>\n",
              "      <th>contrast_type</th>\n",
              "      <th>file_path</th>\n",
              "      <th>age_disc</th>\n",
              "      <th>dataset_flag</th>\n",
              "      <th>scanner_flag</th>\n",
              "    </tr>\n",
              "  </thead>\n",
              "  <tbody>\n",
              "    <tr>\n",
              "      <th>0</th>\n",
              "      <td>3</td>\n",
              "      <td>430</td>\n",
              "      <td>2</td>\n",
              "      <td>166</td>\n",
              "      <td>70</td>\n",
              "      <td>1</td>\n",
              "      <td>4</td>\n",
              "      <td>5</td>\n",
              "      <td>5</td>\n",
              "      <td>1934-07-02</td>\n",
              "      <td>1</td>\n",
              "      <td>2006-07-04</td>\n",
              "      <td>72.005476</td>\n",
              "      <td>430</td>\n",
              "      <td>IOP</td>\n",
              "      <td>T1</td>\n",
              "      <td>/content/drive/My Drive/Image_Registration_Pro...</td>\n",
              "      <td>70-80</td>\n",
              "      <td>train_learn</td>\n",
              "      <td>0</td>\n",
              "    </tr>\n",
              "    <tr>\n",
              "      <th>1</th>\n",
              "      <td>5</td>\n",
              "      <td>432</td>\n",
              "      <td>1</td>\n",
              "      <td>186</td>\n",
              "      <td>100</td>\n",
              "      <td>1</td>\n",
              "      <td>2</td>\n",
              "      <td>1</td>\n",
              "      <td>5</td>\n",
              "      <td>1948-10-20</td>\n",
              "      <td>1</td>\n",
              "      <td>2006-07-17</td>\n",
              "      <td>57.738535</td>\n",
              "      <td>432</td>\n",
              "      <td>Guys</td>\n",
              "      <td>T1</td>\n",
              "      <td>/content/drive/My Drive/Image_Registration_Pro...</td>\n",
              "      <td>50-60</td>\n",
              "      <td>train_learn</td>\n",
              "      <td>1</td>\n",
              "    </tr>\n",
              "    <tr>\n",
              "      <th>2</th>\n",
              "      <td>8</td>\n",
              "      <td>435</td>\n",
              "      <td>1</td>\n",
              "      <td>165</td>\n",
              "      <td>70</td>\n",
              "      <td>1</td>\n",
              "      <td>5</td>\n",
              "      <td>5</td>\n",
              "      <td>4</td>\n",
              "      <td>NaN</td>\n",
              "      <td>1</td>\n",
              "      <td>2006-07-10</td>\n",
              "      <td>55.362837</td>\n",
              "      <td>435</td>\n",
              "      <td>IOP</td>\n",
              "      <td>T1</td>\n",
              "      <td>/content/drive/My Drive/Image_Registration_Pro...</td>\n",
              "      <td>NaN</td>\n",
              "      <td>train_learn</td>\n",
              "      <td>0</td>\n",
              "    </tr>\n",
              "    <tr>\n",
              "      <th>3</th>\n",
              "      <td>9</td>\n",
              "      <td>436</td>\n",
              "      <td>1</td>\n",
              "      <td>190</td>\n",
              "      <td>73</td>\n",
              "      <td>1</td>\n",
              "      <td>1</td>\n",
              "      <td>1</td>\n",
              "      <td>1</td>\n",
              "      <td>1978-01-18</td>\n",
              "      <td>1</td>\n",
              "      <td>2006-05-25</td>\n",
              "      <td>28.347707</td>\n",
              "      <td>436</td>\n",
              "      <td>HH</td>\n",
              "      <td>T1</td>\n",
              "      <td>/content/drive/My Drive/Image_Registration_Pro...</td>\n",
              "      <td>20-30</td>\n",
              "      <td>train_learn</td>\n",
              "      <td>2</td>\n",
              "    </tr>\n",
              "    <tr>\n",
              "      <th>4</th>\n",
              "      <td>10</td>\n",
              "      <td>437</td>\n",
              "      <td>2</td>\n",
              "      <td>178</td>\n",
              "      <td>84</td>\n",
              "      <td>1</td>\n",
              "      <td>2</td>\n",
              "      <td>1</td>\n",
              "      <td>1</td>\n",
              "      <td>1950-10-19</td>\n",
              "      <td>1</td>\n",
              "      <td>2006-05-25</td>\n",
              "      <td>55.597536</td>\n",
              "      <td>437</td>\n",
              "      <td>HH</td>\n",
              "      <td>T1</td>\n",
              "      <td>/content/drive/My Drive/Image_Registration_Pro...</td>\n",
              "      <td>50-60</td>\n",
              "      <td>train_learn</td>\n",
              "      <td>2</td>\n",
              "    </tr>\n",
              "  </tbody>\n",
              "</table>\n",
              "</div>"
            ],
            "text/plain": [
              "   index  IXI_ID  SEX_ID (1=m, 2=f)  ...  age_disc  dataset_flag  scanner_flag\n",
              "0      3     430                  2  ...     70-80   train_learn             0\n",
              "1      5     432                  1  ...     50-60   train_learn             1\n",
              "2      8     435                  1  ...       NaN   train_learn             0\n",
              "3      9     436                  1  ...     20-30   train_learn             2\n",
              "4     10     437                  2  ...     50-60   train_learn             2\n",
              "\n",
              "[5 rows x 20 columns]"
            ]
          },
          "metadata": {
            "tags": []
          },
          "execution_count": 111
        }
      ]
    },
    {
      "cell_type": "code",
      "metadata": {
        "id": "KwAEvc87x1XN"
      },
      "source": [
        "validation_df.reset_index(inplace=True)"
      ],
      "execution_count": null,
      "outputs": []
    },
    {
      "cell_type": "code",
      "metadata": {
        "colab": {
          "base_uri": "https://localhost:8080/",
          "height": 336
        },
        "id": "sLfRKpajyGMQ",
        "outputId": "e08b88a2-ec2f-4c04-86d3-0b6e388e22c1"
      },
      "source": [
        "validation_df.head()"
      ],
      "execution_count": null,
      "outputs": [
        {
          "output_type": "execute_result",
          "data": {
            "text/html": [
              "<div>\n",
              "<style scoped>\n",
              "    .dataframe tbody tr th:only-of-type {\n",
              "        vertical-align: middle;\n",
              "    }\n",
              "\n",
              "    .dataframe tbody tr th {\n",
              "        vertical-align: top;\n",
              "    }\n",
              "\n",
              "    .dataframe thead th {\n",
              "        text-align: right;\n",
              "    }\n",
              "</style>\n",
              "<table border=\"1\" class=\"dataframe\">\n",
              "  <thead>\n",
              "    <tr style=\"text-align: right;\">\n",
              "      <th></th>\n",
              "      <th>level_0</th>\n",
              "      <th>index</th>\n",
              "      <th>IXI_ID</th>\n",
              "      <th>SEX_ID (1=m, 2=f)</th>\n",
              "      <th>HEIGHT</th>\n",
              "      <th>WEIGHT</th>\n",
              "      <th>ETHNIC_ID</th>\n",
              "      <th>MARITAL_ID</th>\n",
              "      <th>OCCUPATION_ID</th>\n",
              "      <th>QUALIFICATION_ID</th>\n",
              "      <th>DOB</th>\n",
              "      <th>DATE_AVAILABLE</th>\n",
              "      <th>STUDY_DATE</th>\n",
              "      <th>AGE</th>\n",
              "      <th>our_ixi_id</th>\n",
              "      <th>scanner_name</th>\n",
              "      <th>contrast_type</th>\n",
              "      <th>file_path</th>\n",
              "      <th>age_disc</th>\n",
              "      <th>dataset_flag</th>\n",
              "      <th>scanner_flag</th>\n",
              "    </tr>\n",
              "  </thead>\n",
              "  <tbody>\n",
              "    <tr>\n",
              "      <th>0</th>\n",
              "      <td>0</td>\n",
              "      <td>3</td>\n",
              "      <td>430</td>\n",
              "      <td>2</td>\n",
              "      <td>166</td>\n",
              "      <td>70</td>\n",
              "      <td>1</td>\n",
              "      <td>4</td>\n",
              "      <td>5</td>\n",
              "      <td>5</td>\n",
              "      <td>1934-07-02</td>\n",
              "      <td>1</td>\n",
              "      <td>2006-07-04</td>\n",
              "      <td>72.005476</td>\n",
              "      <td>430</td>\n",
              "      <td>IOP</td>\n",
              "      <td>T1</td>\n",
              "      <td>/content/drive/My Drive/Image_Registration_Pro...</td>\n",
              "      <td>70-80</td>\n",
              "      <td>validation</td>\n",
              "      <td>0</td>\n",
              "    </tr>\n",
              "    <tr>\n",
              "      <th>1</th>\n",
              "      <td>1</td>\n",
              "      <td>8</td>\n",
              "      <td>435</td>\n",
              "      <td>1</td>\n",
              "      <td>165</td>\n",
              "      <td>70</td>\n",
              "      <td>1</td>\n",
              "      <td>5</td>\n",
              "      <td>5</td>\n",
              "      <td>4</td>\n",
              "      <td>NaN</td>\n",
              "      <td>1</td>\n",
              "      <td>2006-07-10</td>\n",
              "      <td>NaN</td>\n",
              "      <td>435</td>\n",
              "      <td>IOP</td>\n",
              "      <td>T1</td>\n",
              "      <td>/content/drive/My Drive/Image_Registration_Pro...</td>\n",
              "      <td>NaN</td>\n",
              "      <td>validation</td>\n",
              "      <td>0</td>\n",
              "    </tr>\n",
              "    <tr>\n",
              "      <th>2</th>\n",
              "      <td>2</td>\n",
              "      <td>23</td>\n",
              "      <td>450</td>\n",
              "      <td>1</td>\n",
              "      <td>170</td>\n",
              "      <td>64</td>\n",
              "      <td>3</td>\n",
              "      <td>4</td>\n",
              "      <td>5</td>\n",
              "      <td>5</td>\n",
              "      <td>1938-05-08</td>\n",
              "      <td>1</td>\n",
              "      <td>2006-11-10</td>\n",
              "      <td>68.509240</td>\n",
              "      <td>450</td>\n",
              "      <td>Guys</td>\n",
              "      <td>T1</td>\n",
              "      <td>/content/drive/My Drive/Image_Registration_Pro...</td>\n",
              "      <td>60-70</td>\n",
              "      <td>validation</td>\n",
              "      <td>1</td>\n",
              "    </tr>\n",
              "    <tr>\n",
              "      <th>3</th>\n",
              "      <td>3</td>\n",
              "      <td>26</td>\n",
              "      <td>453</td>\n",
              "      <td>1</td>\n",
              "      <td>185</td>\n",
              "      <td>98</td>\n",
              "      <td>1</td>\n",
              "      <td>2</td>\n",
              "      <td>7</td>\n",
              "      <td>2</td>\n",
              "      <td>1943-02-25</td>\n",
              "      <td>1</td>\n",
              "      <td>2006-07-27</td>\n",
              "      <td>63.416838</td>\n",
              "      <td>453</td>\n",
              "      <td>HH</td>\n",
              "      <td>T1</td>\n",
              "      <td>/content/drive/My Drive/Image_Registration_Pro...</td>\n",
              "      <td>60-70</td>\n",
              "      <td>validation</td>\n",
              "      <td>2</td>\n",
              "    </tr>\n",
              "    <tr>\n",
              "      <th>4</th>\n",
              "      <td>4</td>\n",
              "      <td>27</td>\n",
              "      <td>454</td>\n",
              "      <td>1</td>\n",
              "      <td>180</td>\n",
              "      <td>100</td>\n",
              "      <td>1</td>\n",
              "      <td>1</td>\n",
              "      <td>7</td>\n",
              "      <td>5</td>\n",
              "      <td>1974-04-02</td>\n",
              "      <td>1</td>\n",
              "      <td>2006-10-30</td>\n",
              "      <td>32.577687</td>\n",
              "      <td>454</td>\n",
              "      <td>Guys</td>\n",
              "      <td>T1</td>\n",
              "      <td>/content/drive/My Drive/Image_Registration_Pro...</td>\n",
              "      <td>30-40</td>\n",
              "      <td>validation</td>\n",
              "      <td>1</td>\n",
              "    </tr>\n",
              "  </tbody>\n",
              "</table>\n",
              "</div>"
            ],
            "text/plain": [
              "   level_0  index  IXI_ID  ...  age_disc  dataset_flag  scanner_flag\n",
              "0        0      3     430  ...     70-80    validation             0\n",
              "1        1      8     435  ...       NaN    validation             0\n",
              "2        2     23     450  ...     60-70    validation             1\n",
              "3        3     26     453  ...     60-70    validation             2\n",
              "4        4     27     454  ...     30-40    validation             1\n",
              "\n",
              "[5 rows x 21 columns]"
            ]
          },
          "metadata": {
            "tags": []
          },
          "execution_count": 189
        }
      ]
    },
    {
      "cell_type": "code",
      "metadata": {
        "id": "HbwkS5YUvhQl"
      },
      "source": [
        "result = pd.merge(left=train_learn_df, right=df_subset, how=\"inner\", left_index=True, right_index=True, validate=\"one_to_one\")"
      ],
      "execution_count": 112,
      "outputs": []
    },
    {
      "cell_type": "markdown",
      "metadata": {
        "id": "HwCVDIbxmefX"
      },
      "source": [
        "# Validation and Visualization"
      ]
    },
    {
      "cell_type": "code",
      "metadata": {
        "id": "x8sB8120mhnG"
      },
      "source": [
        "sample_np = np.random.randn(100, 384)"
      ],
      "execution_count": null,
      "outputs": []
    },
    {
      "cell_type": "code",
      "metadata": {
        "id": "uaFfRbOqmhrO"
      },
      "source": [
        "time_start = time.time()\n",
        "tsne = TSNE(n_components=2, verbose=1, perplexity=40, n_iter=300)\n"
      ],
      "execution_count": 117,
      "outputs": []
    },
    {
      "cell_type": "code",
      "metadata": {
        "colab": {
          "base_uri": "https://localhost:8080/"
        },
        "id": "q-yHARBYmhs9",
        "outputId": "24e0ae6d-6aac-4ce6-f561-bbdd0eb88cbe"
      },
      "source": [
        "tsne_results = tsne.fit_transform(mynp1)\n",
        "print('t-SNE done! Time elapsed: {} seconds'.format(time.time()-time_start))"
      ],
      "execution_count": 118,
      "outputs": [
        {
          "output_type": "stream",
          "text": [
            "[t-SNE] Computing 90 nearest neighbors...\n",
            "[t-SNE] Indexed 91 samples in 0.000s...\n",
            "[t-SNE] Computed neighbors for 91 samples in 0.008s...\n",
            "[t-SNE] Computed conditional probabilities for sample 91 / 91\n",
            "[t-SNE] Mean sigma: 0.250666\n",
            "[t-SNE] KL divergence after 250 iterations with early exaggeration: 51.442505\n",
            "[t-SNE] KL divergence after 300 iterations: 0.260926\n",
            "t-SNE done! Time elapsed: 3.7065112590789795 seconds\n"
          ],
          "name": "stdout"
        }
      ]
    },
    {
      "cell_type": "code",
      "metadata": {
        "id": "_MlfPB1yoKLQ"
      },
      "source": [
        "df_subset = pd.DataFrame(tsne_results, columns = ['tsne-2d-one','tsne-2d-two'])"
      ],
      "execution_count": 119,
      "outputs": []
    },
    {
      "cell_type": "code",
      "metadata": {
        "id": "sF9catCJytbL"
      },
      "source": [
        "result[\"tsne-2d-one\"] = tsne_results[:, 0]\n",
        "result[\"tsne-2d-two\"] = tsne_results[:, 1]"
      ],
      "execution_count": 120,
      "outputs": []
    },
    {
      "cell_type": "code",
      "metadata": {
        "colab": {
          "base_uri": "https://localhost:8080/",
          "height": 364
        },
        "id": "WJaBNURvzX4r",
        "outputId": "4d49a157-7b66-4b19-ffb0-46f2baa31842"
      },
      "source": [
        "result.head()"
      ],
      "execution_count": 121,
      "outputs": [
        {
          "output_type": "execute_result",
          "data": {
            "text/html": [
              "<div>\n",
              "<style scoped>\n",
              "    .dataframe tbody tr th:only-of-type {\n",
              "        vertical-align: middle;\n",
              "    }\n",
              "\n",
              "    .dataframe tbody tr th {\n",
              "        vertical-align: top;\n",
              "    }\n",
              "\n",
              "    .dataframe thead th {\n",
              "        text-align: right;\n",
              "    }\n",
              "</style>\n",
              "<table border=\"1\" class=\"dataframe\">\n",
              "  <thead>\n",
              "    <tr style=\"text-align: right;\">\n",
              "      <th></th>\n",
              "      <th>index</th>\n",
              "      <th>IXI_ID</th>\n",
              "      <th>SEX_ID (1=m, 2=f)</th>\n",
              "      <th>HEIGHT</th>\n",
              "      <th>WEIGHT</th>\n",
              "      <th>ETHNIC_ID</th>\n",
              "      <th>MARITAL_ID</th>\n",
              "      <th>OCCUPATION_ID</th>\n",
              "      <th>QUALIFICATION_ID</th>\n",
              "      <th>DOB</th>\n",
              "      <th>DATE_AVAILABLE</th>\n",
              "      <th>STUDY_DATE</th>\n",
              "      <th>AGE</th>\n",
              "      <th>our_ixi_id</th>\n",
              "      <th>scanner_name</th>\n",
              "      <th>contrast_type</th>\n",
              "      <th>file_path</th>\n",
              "      <th>age_disc</th>\n",
              "      <th>dataset_flag</th>\n",
              "      <th>scanner_flag</th>\n",
              "      <th>0</th>\n",
              "      <th>1</th>\n",
              "      <th>2</th>\n",
              "      <th>3</th>\n",
              "      <th>4</th>\n",
              "      <th>5</th>\n",
              "      <th>6</th>\n",
              "      <th>7</th>\n",
              "      <th>8</th>\n",
              "      <th>9</th>\n",
              "      <th>10</th>\n",
              "      <th>11</th>\n",
              "      <th>12</th>\n",
              "      <th>13</th>\n",
              "      <th>14</th>\n",
              "      <th>15</th>\n",
              "      <th>16</th>\n",
              "      <th>17</th>\n",
              "      <th>18</th>\n",
              "      <th>19</th>\n",
              "      <th>...</th>\n",
              "      <th>58</th>\n",
              "      <th>59</th>\n",
              "      <th>60</th>\n",
              "      <th>61</th>\n",
              "      <th>62</th>\n",
              "      <th>63</th>\n",
              "      <th>64</th>\n",
              "      <th>65</th>\n",
              "      <th>66</th>\n",
              "      <th>67</th>\n",
              "      <th>68</th>\n",
              "      <th>69</th>\n",
              "      <th>70</th>\n",
              "      <th>71</th>\n",
              "      <th>72</th>\n",
              "      <th>73</th>\n",
              "      <th>74</th>\n",
              "      <th>75</th>\n",
              "      <th>76</th>\n",
              "      <th>77</th>\n",
              "      <th>78</th>\n",
              "      <th>79</th>\n",
              "      <th>80</th>\n",
              "      <th>81</th>\n",
              "      <th>82</th>\n",
              "      <th>83</th>\n",
              "      <th>84</th>\n",
              "      <th>85</th>\n",
              "      <th>86</th>\n",
              "      <th>87</th>\n",
              "      <th>88</th>\n",
              "      <th>89</th>\n",
              "      <th>90</th>\n",
              "      <th>91</th>\n",
              "      <th>92</th>\n",
              "      <th>93</th>\n",
              "      <th>94</th>\n",
              "      <th>95</th>\n",
              "      <th>tsne-2d-one</th>\n",
              "      <th>tsne-2d-two</th>\n",
              "    </tr>\n",
              "  </thead>\n",
              "  <tbody>\n",
              "    <tr>\n",
              "      <th>0</th>\n",
              "      <td>3</td>\n",
              "      <td>430</td>\n",
              "      <td>2</td>\n",
              "      <td>166</td>\n",
              "      <td>70</td>\n",
              "      <td>1</td>\n",
              "      <td>4</td>\n",
              "      <td>5</td>\n",
              "      <td>5</td>\n",
              "      <td>1934-07-02</td>\n",
              "      <td>1</td>\n",
              "      <td>2006-07-04</td>\n",
              "      <td>72.005476</td>\n",
              "      <td>430</td>\n",
              "      <td>IOP</td>\n",
              "      <td>T1</td>\n",
              "      <td>/content/drive/My Drive/Image_Registration_Pro...</td>\n",
              "      <td>70-80</td>\n",
              "      <td>train_learn</td>\n",
              "      <td>0</td>\n",
              "      <td>30.616865</td>\n",
              "      <td>0.0</td>\n",
              "      <td>0.0</td>\n",
              "      <td>29.636530</td>\n",
              "      <td>32.162609</td>\n",
              "      <td>0.0</td>\n",
              "      <td>0.0</td>\n",
              "      <td>0.0</td>\n",
              "      <td>0.0</td>\n",
              "      <td>30.805445</td>\n",
              "      <td>0.0</td>\n",
              "      <td>0.0</td>\n",
              "      <td>27.131577</td>\n",
              "      <td>0.0</td>\n",
              "      <td>31.778507</td>\n",
              "      <td>0.0</td>\n",
              "      <td>0.0</td>\n",
              "      <td>0.0</td>\n",
              "      <td>0.0</td>\n",
              "      <td>0.0</td>\n",
              "      <td>...</td>\n",
              "      <td>0.0</td>\n",
              "      <td>31.827873</td>\n",
              "      <td>30.070169</td>\n",
              "      <td>29.150635</td>\n",
              "      <td>0.0</td>\n",
              "      <td>0.0</td>\n",
              "      <td>0.0</td>\n",
              "      <td>29.719776</td>\n",
              "      <td>30.209934</td>\n",
              "      <td>30.314497</td>\n",
              "      <td>30.427010</td>\n",
              "      <td>31.553383</td>\n",
              "      <td>25.343884</td>\n",
              "      <td>0.0</td>\n",
              "      <td>0.0</td>\n",
              "      <td>0.0</td>\n",
              "      <td>29.653334</td>\n",
              "      <td>30.662853</td>\n",
              "      <td>27.368155</td>\n",
              "      <td>28.072155</td>\n",
              "      <td>29.638378</td>\n",
              "      <td>0.0</td>\n",
              "      <td>0.0</td>\n",
              "      <td>0.0</td>\n",
              "      <td>27.987888</td>\n",
              "      <td>29.380348</td>\n",
              "      <td>0.0</td>\n",
              "      <td>0.0</td>\n",
              "      <td>31.659018</td>\n",
              "      <td>33.969982</td>\n",
              "      <td>29.509283</td>\n",
              "      <td>0.0</td>\n",
              "      <td>0.0</td>\n",
              "      <td>0.0</td>\n",
              "      <td>0.0</td>\n",
              "      <td>28.383293</td>\n",
              "      <td>29.676710</td>\n",
              "      <td>30.095675</td>\n",
              "      <td>-12.177871</td>\n",
              "      <td>7.799654</td>\n",
              "    </tr>\n",
              "    <tr>\n",
              "      <th>1</th>\n",
              "      <td>5</td>\n",
              "      <td>432</td>\n",
              "      <td>1</td>\n",
              "      <td>186</td>\n",
              "      <td>100</td>\n",
              "      <td>1</td>\n",
              "      <td>2</td>\n",
              "      <td>1</td>\n",
              "      <td>5</td>\n",
              "      <td>1948-10-20</td>\n",
              "      <td>1</td>\n",
              "      <td>2006-07-17</td>\n",
              "      <td>57.738535</td>\n",
              "      <td>432</td>\n",
              "      <td>Guys</td>\n",
              "      <td>T1</td>\n",
              "      <td>/content/drive/My Drive/Image_Registration_Pro...</td>\n",
              "      <td>50-60</td>\n",
              "      <td>train_learn</td>\n",
              "      <td>1</td>\n",
              "      <td>30.664804</td>\n",
              "      <td>0.0</td>\n",
              "      <td>0.0</td>\n",
              "      <td>29.692415</td>\n",
              "      <td>32.200027</td>\n",
              "      <td>0.0</td>\n",
              "      <td>0.0</td>\n",
              "      <td>0.0</td>\n",
              "      <td>0.0</td>\n",
              "      <td>30.871675</td>\n",
              "      <td>0.0</td>\n",
              "      <td>0.0</td>\n",
              "      <td>27.205019</td>\n",
              "      <td>0.0</td>\n",
              "      <td>31.850492</td>\n",
              "      <td>0.0</td>\n",
              "      <td>0.0</td>\n",
              "      <td>0.0</td>\n",
              "      <td>0.0</td>\n",
              "      <td>0.0</td>\n",
              "      <td>...</td>\n",
              "      <td>0.0</td>\n",
              "      <td>31.878548</td>\n",
              "      <td>30.131351</td>\n",
              "      <td>29.197927</td>\n",
              "      <td>0.0</td>\n",
              "      <td>0.0</td>\n",
              "      <td>0.0</td>\n",
              "      <td>29.767109</td>\n",
              "      <td>30.247681</td>\n",
              "      <td>30.384060</td>\n",
              "      <td>30.475931</td>\n",
              "      <td>31.611649</td>\n",
              "      <td>25.385765</td>\n",
              "      <td>0.0</td>\n",
              "      <td>0.0</td>\n",
              "      <td>0.0</td>\n",
              "      <td>29.706793</td>\n",
              "      <td>30.710014</td>\n",
              "      <td>27.436964</td>\n",
              "      <td>28.116722</td>\n",
              "      <td>29.693666</td>\n",
              "      <td>0.0</td>\n",
              "      <td>0.0</td>\n",
              "      <td>0.0</td>\n",
              "      <td>28.028595</td>\n",
              "      <td>29.423454</td>\n",
              "      <td>0.0</td>\n",
              "      <td>0.0</td>\n",
              "      <td>31.719362</td>\n",
              "      <td>34.037632</td>\n",
              "      <td>29.566994</td>\n",
              "      <td>0.0</td>\n",
              "      <td>0.0</td>\n",
              "      <td>0.0</td>\n",
              "      <td>0.0</td>\n",
              "      <td>28.436028</td>\n",
              "      <td>29.727428</td>\n",
              "      <td>30.140671</td>\n",
              "      <td>-8.380808</td>\n",
              "      <td>2.868613</td>\n",
              "    </tr>\n",
              "    <tr>\n",
              "      <th>2</th>\n",
              "      <td>8</td>\n",
              "      <td>435</td>\n",
              "      <td>1</td>\n",
              "      <td>165</td>\n",
              "      <td>70</td>\n",
              "      <td>1</td>\n",
              "      <td>5</td>\n",
              "      <td>5</td>\n",
              "      <td>4</td>\n",
              "      <td>NaN</td>\n",
              "      <td>1</td>\n",
              "      <td>2006-07-10</td>\n",
              "      <td>55.362837</td>\n",
              "      <td>435</td>\n",
              "      <td>IOP</td>\n",
              "      <td>T1</td>\n",
              "      <td>/content/drive/My Drive/Image_Registration_Pro...</td>\n",
              "      <td>NaN</td>\n",
              "      <td>train_learn</td>\n",
              "      <td>0</td>\n",
              "      <td>30.734240</td>\n",
              "      <td>0.0</td>\n",
              "      <td>0.0</td>\n",
              "      <td>29.751266</td>\n",
              "      <td>32.293324</td>\n",
              "      <td>0.0</td>\n",
              "      <td>0.0</td>\n",
              "      <td>0.0</td>\n",
              "      <td>0.0</td>\n",
              "      <td>30.937899</td>\n",
              "      <td>0.0</td>\n",
              "      <td>0.0</td>\n",
              "      <td>27.237865</td>\n",
              "      <td>0.0</td>\n",
              "      <td>31.913082</td>\n",
              "      <td>0.0</td>\n",
              "      <td>0.0</td>\n",
              "      <td>0.0</td>\n",
              "      <td>0.0</td>\n",
              "      <td>0.0</td>\n",
              "      <td>...</td>\n",
              "      <td>0.0</td>\n",
              "      <td>31.944427</td>\n",
              "      <td>30.198132</td>\n",
              "      <td>29.252363</td>\n",
              "      <td>0.0</td>\n",
              "      <td>0.0</td>\n",
              "      <td>0.0</td>\n",
              "      <td>29.840092</td>\n",
              "      <td>30.282213</td>\n",
              "      <td>30.480629</td>\n",
              "      <td>30.530735</td>\n",
              "      <td>31.674507</td>\n",
              "      <td>25.447525</td>\n",
              "      <td>0.0</td>\n",
              "      <td>0.0</td>\n",
              "      <td>0.0</td>\n",
              "      <td>29.747129</td>\n",
              "      <td>30.768290</td>\n",
              "      <td>27.484926</td>\n",
              "      <td>28.164555</td>\n",
              "      <td>29.755785</td>\n",
              "      <td>0.0</td>\n",
              "      <td>0.0</td>\n",
              "      <td>0.0</td>\n",
              "      <td>28.087196</td>\n",
              "      <td>29.507608</td>\n",
              "      <td>0.0</td>\n",
              "      <td>0.0</td>\n",
              "      <td>31.782143</td>\n",
              "      <td>34.111771</td>\n",
              "      <td>29.616951</td>\n",
              "      <td>0.0</td>\n",
              "      <td>0.0</td>\n",
              "      <td>0.0</td>\n",
              "      <td>0.0</td>\n",
              "      <td>28.493282</td>\n",
              "      <td>29.803076</td>\n",
              "      <td>30.195576</td>\n",
              "      <td>4.126670</td>\n",
              "      <td>-5.765513</td>\n",
              "    </tr>\n",
              "    <tr>\n",
              "      <th>3</th>\n",
              "      <td>9</td>\n",
              "      <td>436</td>\n",
              "      <td>1</td>\n",
              "      <td>190</td>\n",
              "      <td>73</td>\n",
              "      <td>1</td>\n",
              "      <td>1</td>\n",
              "      <td>1</td>\n",
              "      <td>1</td>\n",
              "      <td>1978-01-18</td>\n",
              "      <td>1</td>\n",
              "      <td>2006-05-25</td>\n",
              "      <td>28.347707</td>\n",
              "      <td>436</td>\n",
              "      <td>HH</td>\n",
              "      <td>T1</td>\n",
              "      <td>/content/drive/My Drive/Image_Registration_Pro...</td>\n",
              "      <td>20-30</td>\n",
              "      <td>train_learn</td>\n",
              "      <td>2</td>\n",
              "      <td>30.417494</td>\n",
              "      <td>0.0</td>\n",
              "      <td>0.0</td>\n",
              "      <td>29.472265</td>\n",
              "      <td>31.937672</td>\n",
              "      <td>0.0</td>\n",
              "      <td>0.0</td>\n",
              "      <td>0.0</td>\n",
              "      <td>0.0</td>\n",
              "      <td>30.610649</td>\n",
              "      <td>0.0</td>\n",
              "      <td>0.0</td>\n",
              "      <td>26.970722</td>\n",
              "      <td>0.0</td>\n",
              "      <td>31.594017</td>\n",
              "      <td>0.0</td>\n",
              "      <td>0.0</td>\n",
              "      <td>0.0</td>\n",
              "      <td>0.0</td>\n",
              "      <td>0.0</td>\n",
              "      <td>...</td>\n",
              "      <td>0.0</td>\n",
              "      <td>31.634369</td>\n",
              "      <td>29.892658</td>\n",
              "      <td>28.975607</td>\n",
              "      <td>0.0</td>\n",
              "      <td>0.0</td>\n",
              "      <td>0.0</td>\n",
              "      <td>29.516582</td>\n",
              "      <td>30.026585</td>\n",
              "      <td>30.093826</td>\n",
              "      <td>30.242973</td>\n",
              "      <td>31.351078</td>\n",
              "      <td>25.203802</td>\n",
              "      <td>0.0</td>\n",
              "      <td>0.0</td>\n",
              "      <td>0.0</td>\n",
              "      <td>29.491686</td>\n",
              "      <td>30.455414</td>\n",
              "      <td>27.198788</td>\n",
              "      <td>27.901491</td>\n",
              "      <td>29.446293</td>\n",
              "      <td>0.0</td>\n",
              "      <td>0.0</td>\n",
              "      <td>0.0</td>\n",
              "      <td>27.808722</td>\n",
              "      <td>29.200756</td>\n",
              "      <td>0.0</td>\n",
              "      <td>0.0</td>\n",
              "      <td>31.442652</td>\n",
              "      <td>33.781162</td>\n",
              "      <td>29.334930</td>\n",
              "      <td>0.0</td>\n",
              "      <td>0.0</td>\n",
              "      <td>0.0</td>\n",
              "      <td>0.0</td>\n",
              "      <td>28.212021</td>\n",
              "      <td>29.490421</td>\n",
              "      <td>29.899071</td>\n",
              "      <td>-15.926909</td>\n",
              "      <td>8.591712</td>\n",
              "    </tr>\n",
              "    <tr>\n",
              "      <th>4</th>\n",
              "      <td>10</td>\n",
              "      <td>437</td>\n",
              "      <td>2</td>\n",
              "      <td>178</td>\n",
              "      <td>84</td>\n",
              "      <td>1</td>\n",
              "      <td>2</td>\n",
              "      <td>1</td>\n",
              "      <td>1</td>\n",
              "      <td>1950-10-19</td>\n",
              "      <td>1</td>\n",
              "      <td>2006-05-25</td>\n",
              "      <td>55.597536</td>\n",
              "      <td>437</td>\n",
              "      <td>HH</td>\n",
              "      <td>T1</td>\n",
              "      <td>/content/drive/My Drive/Image_Registration_Pro...</td>\n",
              "      <td>50-60</td>\n",
              "      <td>train_learn</td>\n",
              "      <td>2</td>\n",
              "      <td>30.698364</td>\n",
              "      <td>0.0</td>\n",
              "      <td>0.0</td>\n",
              "      <td>29.739122</td>\n",
              "      <td>32.246872</td>\n",
              "      <td>0.0</td>\n",
              "      <td>0.0</td>\n",
              "      <td>0.0</td>\n",
              "      <td>0.0</td>\n",
              "      <td>30.905611</td>\n",
              "      <td>0.0</td>\n",
              "      <td>0.0</td>\n",
              "      <td>27.214806</td>\n",
              "      <td>0.0</td>\n",
              "      <td>31.893221</td>\n",
              "      <td>0.0</td>\n",
              "      <td>0.0</td>\n",
              "      <td>0.0</td>\n",
              "      <td>0.0</td>\n",
              "      <td>0.0</td>\n",
              "      <td>...</td>\n",
              "      <td>0.0</td>\n",
              "      <td>31.917027</td>\n",
              "      <td>30.166517</td>\n",
              "      <td>29.257067</td>\n",
              "      <td>0.0</td>\n",
              "      <td>0.0</td>\n",
              "      <td>0.0</td>\n",
              "      <td>29.801256</td>\n",
              "      <td>30.282646</td>\n",
              "      <td>30.410639</td>\n",
              "      <td>30.519690</td>\n",
              "      <td>31.646763</td>\n",
              "      <td>25.427948</td>\n",
              "      <td>0.0</td>\n",
              "      <td>0.0</td>\n",
              "      <td>0.0</td>\n",
              "      <td>29.752193</td>\n",
              "      <td>30.733301</td>\n",
              "      <td>27.465902</td>\n",
              "      <td>28.149921</td>\n",
              "      <td>29.736565</td>\n",
              "      <td>0.0</td>\n",
              "      <td>0.0</td>\n",
              "      <td>0.0</td>\n",
              "      <td>28.077177</td>\n",
              "      <td>29.492826</td>\n",
              "      <td>0.0</td>\n",
              "      <td>0.0</td>\n",
              "      <td>31.756920</td>\n",
              "      <td>34.108162</td>\n",
              "      <td>29.620255</td>\n",
              "      <td>0.0</td>\n",
              "      <td>0.0</td>\n",
              "      <td>0.0</td>\n",
              "      <td>0.0</td>\n",
              "      <td>28.479614</td>\n",
              "      <td>29.782131</td>\n",
              "      <td>30.178524</td>\n",
              "      <td>-0.195845</td>\n",
              "      <td>-2.644053</td>\n",
              "    </tr>\n",
              "  </tbody>\n",
              "</table>\n",
              "<p>5 rows × 118 columns</p>\n",
              "</div>"
            ],
            "text/plain": [
              "   index  IXI_ID  SEX_ID (1=m, 2=f)  ...         95  tsne-2d-one  tsne-2d-two\n",
              "0      3     430                  2  ...  30.095675   -12.177871     7.799654\n",
              "1      5     432                  1  ...  30.140671    -8.380808     2.868613\n",
              "2      8     435                  1  ...  30.195576     4.126670    -5.765513\n",
              "3      9     436                  1  ...  29.899071   -15.926909     8.591712\n",
              "4     10     437                  2  ...  30.178524    -0.195845    -2.644053\n",
              "\n",
              "[5 rows x 118 columns]"
            ]
          },
          "metadata": {
            "tags": []
          },
          "execution_count": 121
        }
      ]
    },
    {
      "cell_type": "code",
      "metadata": {
        "colab": {
          "base_uri": "https://localhost:8080/",
          "height": 621
        },
        "id": "_MnXhLZzmhzO",
        "outputId": "ea4ff97b-406c-4045-a45f-d473e8ab792d"
      },
      "source": [
        "plt.figure(figsize=(16,10))\n",
        "sns.scatterplot(\n",
        "    x=\"tsne-2d-one\", y=\"tsne-2d-two\", hue = \"scanner_name\",\n",
        "    data=result,\n",
        "    legend=\"full\",\n",
        "    alpha=0.3)"
      ],
      "execution_count": 122,
      "outputs": [
        {
          "output_type": "execute_result",
          "data": {
            "text/plain": [
              "<matplotlib.axes._subplots.AxesSubplot at 0x7f0803523390>"
            ]
          },
          "metadata": {
            "tags": []
          },
          "execution_count": 122
        },
        {
          "output_type": "display_data",
          "data": {
            "image/png": "[encoded data removed]",
            "text/plain": [
              "<Figure size 1152x720 with 1 Axes>"
            ]
          },
          "metadata": {
            "tags": [],
            "needs_background": "light"
          }
        }
      ]
    },
    {
      "cell_type": "code",
      "metadata": {
        "id": "Zakbg7tcmh09"
      },
      "source": [
        ""
      ],
      "execution_count": null,
      "outputs": []
    },
    {
      "cell_type": "markdown",
      "metadata": {
        "id": "d2suYEmLP2Sp"
      },
      "source": [
        "# Training with unlearning"
      ]
    }
  ]
}