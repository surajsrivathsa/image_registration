{
  "nbformat": 4,
  "nbformat_minor": 0,
  "metadata": {
    "colab": {
      "name": "MRI_Data_Harmonization.ipynb",
      "provenance": [],
      "authorship_tag": "ABX9TyPVeyRbJp/swJBMWAX8fSuQ",
      "include_colab_link": true
    },
    "kernelspec": {
      "name": "python3",
      "display_name": "Python 3"
    },
    "language_info": {
      "name": "python"
    }
  },
  "cells": [
    {
      "cell_type": "markdown",
      "metadata": {
        "id": "view-in-github",
        "colab_type": "text"
      },
      "source": [
        "<a href=\"https://colab.research.google.com/github/surajsrivathsa/image_registration/blob/main/MRI_Data_Harmonization.ipynb\" target=\"_parent\"><img src=\"https://colab.research.google.com/assets/colab-badge.svg\" alt=\"Open In Colab\"/></a>"
      ]
    },
    {
      "cell_type": "markdown",
      "metadata": {
        "id": "RRsWi7UwV4Rp"
      },
      "source": [
        "# Preamble"
      ]
    },
    {
      "cell_type": "code",
      "metadata": {
        "id": "yGU_RJ5F25Ky"
      },
      "source": [
        "# !pip install --upgrade nibabel"
      ],
      "execution_count": null,
      "outputs": []
    },
    {
      "cell_type": "code",
      "metadata": {
        "id": "rPRgYP743rDZ",
        "colab": {
          "base_uri": "https://localhost:8080/"
        },
        "outputId": "c1d7baf4-c0c3-4a97-d93e-c5204a33463d"
      },
      "source": [
        "import warnings\n",
        "import os\n",
        "warnings.filterwarnings(\"ignore\")\n",
        "import numpy as np\n",
        "import torch\n",
        "print(torch.__version__)\n",
        "import torchvision\n",
        "print(torchvision.__version__)\n",
        "import torch \n",
        "import torch.nn as nn\n",
        "import torch.nn.functional as F\n",
        "import torch.utils.data as Data\n",
        "import nibabel as nb\n",
        "import os, sys, glob\n",
        "from google.colab import drive\n",
        "drive.mount('/content/drive')\n",
        "print()"
      ],
      "execution_count": 1,
      "outputs": [
        {
          "output_type": "stream",
          "text": [
            "1.8.0+cu101\n",
            "0.9.0+cu101\n",
            "Mounted at /content/drive\n",
            "\n"
          ],
          "name": "stdout"
        }
      ]
    },
    {
      "cell_type": "code",
      "metadata": {
        "id": "C499dQF-HYE0"
      },
      "source": [
        "import pandas as pd\n",
        "import matplotlib.pyplot as plt\n",
        "import re\n",
        "import seaborn as sns"
      ],
      "execution_count": 25,
      "outputs": []
    },
    {
      "cell_type": "code",
      "metadata": {
        "id": "HcQreD_r3rJY"
      },
      "source": [
        "data_path_t1 = \"/content/drive/My Drive/Image_Registration_Project/dataset_ants_resampled/T1_Train_200_Reg_downsampled_znm/\"\n",
        "data_path_t2 = \"/content/drive/My Drive/Image_Registration_Project/dataset_ants_resampled/T1_Train_200_Reg_downsampled_znm/\"\n",
        "ixi_xls_path = \"/content/drive/My Drive/Image_Registration_Project/dataset_ants_resampled/IXI.xls\"\n",
        "file_names_t1 = sorted(glob.glob(os.path.join(data_path_t1, \"*.nii.gz\")))\n",
        "file_names_t2 = sorted(glob.glob(os.path.join(data_path_t2, \"*.nii.gz\")))"
      ],
      "execution_count": 2,
      "outputs": []
    },
    {
      "cell_type": "code",
      "metadata": {
        "colab": {
          "base_uri": "https://localhost:8080/",
          "height": 201
        },
        "id": "HJgY4Ba9HJS1",
        "outputId": "b831bfca-be0e-4a58-b559-68b35ec300d9"
      },
      "source": [
        "ixi_df = pd.read_excel(ixi_xls_path, sheet_name=\"Table\")\n",
        "ixi_df.head()"
      ],
      "execution_count": 8,
      "outputs": [
        {
          "output_type": "execute_result",
          "data": {
            "text/html": [
              "<div>\n",
              "<style scoped>\n",
              "    .dataframe tbody tr th:only-of-type {\n",
              "        vertical-align: middle;\n",
              "    }\n",
              "\n",
              "    .dataframe tbody tr th {\n",
              "        vertical-align: top;\n",
              "    }\n",
              "\n",
              "    .dataframe thead th {\n",
              "        text-align: right;\n",
              "    }\n",
              "</style>\n",
              "<table border=\"1\" class=\"dataframe\">\n",
              "  <thead>\n",
              "    <tr style=\"text-align: right;\">\n",
              "      <th></th>\n",
              "      <th>IXI_ID</th>\n",
              "      <th>SEX_ID (1=m, 2=f)</th>\n",
              "      <th>HEIGHT</th>\n",
              "      <th>WEIGHT</th>\n",
              "      <th>ETHNIC_ID</th>\n",
              "      <th>MARITAL_ID</th>\n",
              "      <th>OCCUPATION_ID</th>\n",
              "      <th>QUALIFICATION_ID</th>\n",
              "      <th>DOB</th>\n",
              "      <th>DATE_AVAILABLE</th>\n",
              "      <th>STUDY_DATE</th>\n",
              "      <th>AGE</th>\n",
              "    </tr>\n",
              "  </thead>\n",
              "  <tbody>\n",
              "    <tr>\n",
              "      <th>0</th>\n",
              "      <td>1</td>\n",
              "      <td>1</td>\n",
              "      <td>170</td>\n",
              "      <td>80</td>\n",
              "      <td>2</td>\n",
              "      <td>3</td>\n",
              "      <td>5</td>\n",
              "      <td>2</td>\n",
              "      <td>1968-02-22</td>\n",
              "      <td>0</td>\n",
              "      <td>NaT</td>\n",
              "      <td>NaN</td>\n",
              "    </tr>\n",
              "    <tr>\n",
              "      <th>1</th>\n",
              "      <td>2</td>\n",
              "      <td>2</td>\n",
              "      <td>164</td>\n",
              "      <td>58</td>\n",
              "      <td>1</td>\n",
              "      <td>4</td>\n",
              "      <td>1</td>\n",
              "      <td>5</td>\n",
              "      <td>1970-01-30</td>\n",
              "      <td>1</td>\n",
              "      <td>2005-11-18</td>\n",
              "      <td>35.800137</td>\n",
              "    </tr>\n",
              "    <tr>\n",
              "      <th>2</th>\n",
              "      <td>12</td>\n",
              "      <td>1</td>\n",
              "      <td>175</td>\n",
              "      <td>70</td>\n",
              "      <td>1</td>\n",
              "      <td>2</td>\n",
              "      <td>1</td>\n",
              "      <td>5</td>\n",
              "      <td>1966-08-20</td>\n",
              "      <td>1</td>\n",
              "      <td>2005-06-01</td>\n",
              "      <td>38.781656</td>\n",
              "    </tr>\n",
              "    <tr>\n",
              "      <th>3</th>\n",
              "      <td>13</td>\n",
              "      <td>1</td>\n",
              "      <td>182</td>\n",
              "      <td>70</td>\n",
              "      <td>1</td>\n",
              "      <td>2</td>\n",
              "      <td>1</td>\n",
              "      <td>5</td>\n",
              "      <td>1958-09-15</td>\n",
              "      <td>1</td>\n",
              "      <td>2005-06-01</td>\n",
              "      <td>46.710472</td>\n",
              "    </tr>\n",
              "    <tr>\n",
              "      <th>4</th>\n",
              "      <td>14</td>\n",
              "      <td>2</td>\n",
              "      <td>163</td>\n",
              "      <td>65</td>\n",
              "      <td>1</td>\n",
              "      <td>4</td>\n",
              "      <td>1</td>\n",
              "      <td>5</td>\n",
              "      <td>1971-03-15</td>\n",
              "      <td>1</td>\n",
              "      <td>2005-06-09</td>\n",
              "      <td>34.236824</td>\n",
              "    </tr>\n",
              "  </tbody>\n",
              "</table>\n",
              "</div>"
            ],
            "text/plain": [
              "   IXI_ID  SEX_ID (1=m, 2=f)  HEIGHT  ...  DATE_AVAILABLE  STUDY_DATE        AGE\n",
              "0       1                  1     170  ...               0         NaT        NaN\n",
              "1       2                  2     164  ...               1  2005-11-18  35.800137\n",
              "2      12                  1     175  ...               1  2005-06-01  38.781656\n",
              "3      13                  1     182  ...               1  2005-06-01  46.710472\n",
              "4      14                  2     163  ...               1  2005-06-09  34.236824\n",
              "\n",
              "[5 rows x 12 columns]"
            ]
          },
          "metadata": {
            "tags": []
          },
          "execution_count": 8
        }
      ]
    },
    {
      "cell_type": "code",
      "metadata": {
        "colab": {
          "base_uri": "https://localhost:8080/",
          "height": 291
        },
        "id": "X4vAVMplPuf8",
        "outputId": "8518ed29-8c65-4c48-a932-08e620674ad8"
      },
      "source": [
        "ixi_df.describe()"
      ],
      "execution_count": 29,
      "outputs": [
        {
          "output_type": "execute_result",
          "data": {
            "text/html": [
              "<div>\n",
              "<style scoped>\n",
              "    .dataframe tbody tr th:only-of-type {\n",
              "        vertical-align: middle;\n",
              "    }\n",
              "\n",
              "    .dataframe tbody tr th {\n",
              "        vertical-align: top;\n",
              "    }\n",
              "\n",
              "    .dataframe thead th {\n",
              "        text-align: right;\n",
              "    }\n",
              "</style>\n",
              "<table border=\"1\" class=\"dataframe\">\n",
              "  <thead>\n",
              "    <tr style=\"text-align: right;\">\n",
              "      <th></th>\n",
              "      <th>IXI_ID</th>\n",
              "      <th>SEX_ID (1=m, 2=f)</th>\n",
              "      <th>HEIGHT</th>\n",
              "      <th>WEIGHT</th>\n",
              "      <th>ETHNIC_ID</th>\n",
              "      <th>MARITAL_ID</th>\n",
              "      <th>OCCUPATION_ID</th>\n",
              "      <th>QUALIFICATION_ID</th>\n",
              "      <th>DATE_AVAILABLE</th>\n",
              "      <th>AGE</th>\n",
              "    </tr>\n",
              "  </thead>\n",
              "  <tbody>\n",
              "    <tr>\n",
              "      <th>count</th>\n",
              "      <td>619.000000</td>\n",
              "      <td>619.000000</td>\n",
              "      <td>619.000000</td>\n",
              "      <td>619.000000</td>\n",
              "      <td>619.000000</td>\n",
              "      <td>619.000000</td>\n",
              "      <td>619.00000</td>\n",
              "      <td>619.000000</td>\n",
              "      <td>619.000000</td>\n",
              "      <td>590.000000</td>\n",
              "    </tr>\n",
              "    <tr>\n",
              "      <th>mean</th>\n",
              "      <td>335.399031</td>\n",
              "      <td>1.552504</td>\n",
              "      <td>160.466882</td>\n",
              "      <td>70.195477</td>\n",
              "      <td>1.374798</td>\n",
              "      <td>2.016155</td>\n",
              "      <td>2.50727</td>\n",
              "      <td>3.733441</td>\n",
              "      <td>0.957997</td>\n",
              "      <td>49.416235</td>\n",
              "    </tr>\n",
              "    <tr>\n",
              "      <th>std</th>\n",
              "      <td>185.351230</td>\n",
              "      <td>0.497638</td>\n",
              "      <td>99.604071</td>\n",
              "      <td>56.802863</td>\n",
              "      <td>1.122762</td>\n",
              "      <td>1.280826</td>\n",
              "      <td>2.05535</td>\n",
              "      <td>1.662949</td>\n",
              "      <td>0.200759</td>\n",
              "      <td>16.715313</td>\n",
              "    </tr>\n",
              "    <tr>\n",
              "      <th>min</th>\n",
              "      <td>1.000000</td>\n",
              "      <td>1.000000</td>\n",
              "      <td>0.000000</td>\n",
              "      <td>0.000000</td>\n",
              "      <td>0.000000</td>\n",
              "      <td>0.000000</td>\n",
              "      <td>0.00000</td>\n",
              "      <td>0.000000</td>\n",
              "      <td>0.000000</td>\n",
              "      <td>19.980835</td>\n",
              "    </tr>\n",
              "    <tr>\n",
              "      <th>25%</th>\n",
              "      <td>176.500000</td>\n",
              "      <td>1.000000</td>\n",
              "      <td>160.000000</td>\n",
              "      <td>60.000000</td>\n",
              "      <td>1.000000</td>\n",
              "      <td>1.000000</td>\n",
              "      <td>1.00000</td>\n",
              "      <td>3.000000</td>\n",
              "      <td>1.000000</td>\n",
              "      <td>34.000000</td>\n",
              "    </tr>\n",
              "    <tr>\n",
              "      <th>50%</th>\n",
              "      <td>341.000000</td>\n",
              "      <td>2.000000</td>\n",
              "      <td>168.000000</td>\n",
              "      <td>70.000000</td>\n",
              "      <td>1.000000</td>\n",
              "      <td>2.000000</td>\n",
              "      <td>1.00000</td>\n",
              "      <td>5.000000</td>\n",
              "      <td>1.000000</td>\n",
              "      <td>50.611910</td>\n",
              "    </tr>\n",
              "    <tr>\n",
              "      <th>75%</th>\n",
              "      <td>498.000000</td>\n",
              "      <td>2.000000</td>\n",
              "      <td>176.000000</td>\n",
              "      <td>80.000000</td>\n",
              "      <td>1.000000</td>\n",
              "      <td>3.000000</td>\n",
              "      <td>5.00000</td>\n",
              "      <td>5.000000</td>\n",
              "      <td>1.000000</td>\n",
              "      <td>63.355921</td>\n",
              "    </tr>\n",
              "    <tr>\n",
              "      <th>max</th>\n",
              "      <td>662.000000</td>\n",
              "      <td>2.000000</td>\n",
              "      <td>1850.000000</td>\n",
              "      <td>960.000000</td>\n",
              "      <td>6.000000</td>\n",
              "      <td>5.000000</td>\n",
              "      <td>8.00000</td>\n",
              "      <td>5.000000</td>\n",
              "      <td>1.000000</td>\n",
              "      <td>86.318960</td>\n",
              "    </tr>\n",
              "  </tbody>\n",
              "</table>\n",
              "</div>"
            ],
            "text/plain": [
              "           IXI_ID  SEX_ID (1=m, 2=f)  ...  DATE_AVAILABLE         AGE\n",
              "count  619.000000         619.000000  ...      619.000000  590.000000\n",
              "mean   335.399031           1.552504  ...        0.957997   49.416235\n",
              "std    185.351230           0.497638  ...        0.200759   16.715313\n",
              "min      1.000000           1.000000  ...        0.000000   19.980835\n",
              "25%    176.500000           1.000000  ...        1.000000   34.000000\n",
              "50%    341.000000           2.000000  ...        1.000000   50.611910\n",
              "75%    498.000000           2.000000  ...        1.000000   63.355921\n",
              "max    662.000000           2.000000  ...        1.000000   86.318960\n",
              "\n",
              "[8 rows x 10 columns]"
            ]
          },
          "metadata": {
            "tags": []
          },
          "execution_count": 29
        }
      ]
    },
    {
      "cell_type": "markdown",
      "metadata": {
        "id": "WXxhfCbAQBcz"
      },
      "source": [
        "duplicate records in ixi excel file must be dropped to ensure one-one join later"
      ]
    },
    {
      "cell_type": "code",
      "metadata": {
        "id": "QggyEeUPPzly"
      },
      "source": [
        "ixi_df.drop_duplicates(subset=['IXI_ID'], keep='first', inplace=True)"
      ],
      "execution_count": 30,
      "outputs": []
    },
    {
      "cell_type": "code",
      "metadata": {
        "id": "IkjgyfMi3rMc",
        "colab": {
          "base_uri": "https://localhost:8080/"
        },
        "outputId": "c5a597c5-3635-4324-a2ac-408e5e2db8ed"
      },
      "source": [
        "count = 0\n",
        "ixi_id = []\n",
        "scanner_name = []\n",
        "contrast_type = []\n",
        "file_path = []\n",
        "for root, dirs, files in os.walk(data_path_t1):\n",
        "  for file in files:\n",
        "    parameters_search = re.search('reg_IXI(\\d*)-(\\w*)-(\\d*)-(\\w*)_downsampled_hm_zscore(.*?)', file, re.IGNORECASE)\n",
        "    \n",
        "    if parameters_search:\n",
        "      ixi_id.append(int(parameters_search.group(1)))\n",
        "      scanner_name.append(parameters_search.group(2))\n",
        "      contrast_type.append(parameters_search.group(4))\n",
        "      file_path.append(os.path.join(data_path_t1, file))\n",
        "  \n",
        "    count = count+1\n",
        "  \n",
        "  print(\"processed {} files\".format(count))"
      ],
      "execution_count": 40,
      "outputs": [
        {
          "output_type": "stream",
          "text": [
            "processed 201 files\n"
          ],
          "name": "stdout"
        }
      ]
    },
    {
      "cell_type": "markdown",
      "metadata": {
        "id": "WqdYZb3yQHJ1"
      },
      "source": [
        "check for ixi_id duplicates in our regexed list"
      ]
    },
    {
      "cell_type": "code",
      "metadata": {
        "id": "uAEPnYWfP_DK"
      },
      "source": [
        "import collections\n",
        "print([item for item, count in collections.Counter(ixi_id).items() if count > 1])"
      ],
      "execution_count": null,
      "outputs": []
    },
    {
      "cell_type": "code",
      "metadata": {
        "colab": {
          "base_uri": "https://localhost:8080/"
        },
        "id": "o7HtDIasF3VN",
        "outputId": "cebcdbd6-2c5e-4b99-e742-3dc7c0f89a45"
      },
      "source": [
        "contrast_type[0:3]"
      ],
      "execution_count": 19,
      "outputs": [
        {
          "output_type": "execute_result",
          "data": {
            "text/plain": [
              "['T1', 'T1', 'T1']"
            ]
          },
          "metadata": {
            "tags": []
          },
          "execution_count": 19
        }
      ]
    },
    {
      "cell_type": "code",
      "metadata": {
        "colab": {
          "base_uri": "https://localhost:8080/"
        },
        "id": "Sf15Wg3-F86S",
        "outputId": "76009dfd-035a-49ba-a04c-27d50cc1ef75"
      },
      "source": [
        "scanner_name[0:3]"
      ],
      "execution_count": 20,
      "outputs": [
        {
          "output_type": "execute_result",
          "data": {
            "text/plain": [
              "['IOP', 'Guys', 'Guys']"
            ]
          },
          "metadata": {
            "tags": []
          },
          "execution_count": 20
        }
      ]
    },
    {
      "cell_type": "code",
      "metadata": {
        "colab": {
          "base_uri": "https://localhost:8080/"
        },
        "id": "UmYyWOtMLnRf",
        "outputId": "e2b60cc2-112d-4aaa-c961-661278ad751a"
      },
      "source": [
        "ixi_id[0:3]"
      ],
      "execution_count": 23,
      "outputs": [
        {
          "output_type": "execute_result",
          "data": {
            "text/plain": [
              "[433, 429, 431]"
            ]
          },
          "metadata": {
            "tags": []
          },
          "execution_count": 23
        }
      ]
    },
    {
      "cell_type": "code",
      "metadata": {
        "colab": {
          "base_uri": "https://localhost:8080/",
          "height": 201
        },
        "id": "q7kKO3o8Lpy2",
        "outputId": "6abe7171-d885-4f40-8f33-f3d091f690a5"
      },
      "source": [
        "our_df = pd.DataFrame(data={ \"our_ixi_id\": ixi_id, \"scanner_name\": scanner_name, \"contrast_type\": contrast_type, \"file_path\": file_path} )\n",
        "our_df.head()"
      ],
      "execution_count": 41,
      "outputs": [
        {
          "output_type": "execute_result",
          "data": {
            "text/html": [
              "<div>\n",
              "<style scoped>\n",
              "    .dataframe tbody tr th:only-of-type {\n",
              "        vertical-align: middle;\n",
              "    }\n",
              "\n",
              "    .dataframe tbody tr th {\n",
              "        vertical-align: top;\n",
              "    }\n",
              "\n",
              "    .dataframe thead th {\n",
              "        text-align: right;\n",
              "    }\n",
              "</style>\n",
              "<table border=\"1\" class=\"dataframe\">\n",
              "  <thead>\n",
              "    <tr style=\"text-align: right;\">\n",
              "      <th></th>\n",
              "      <th>our_ixi_id</th>\n",
              "      <th>scanner_name</th>\n",
              "      <th>contrast_type</th>\n",
              "      <th>file_path</th>\n",
              "    </tr>\n",
              "  </thead>\n",
              "  <tbody>\n",
              "    <tr>\n",
              "      <th>0</th>\n",
              "      <td>433</td>\n",
              "      <td>IOP</td>\n",
              "      <td>T1</td>\n",
              "      <td>/content/drive/My Drive/Image_Registration_Pro...</td>\n",
              "    </tr>\n",
              "    <tr>\n",
              "      <th>1</th>\n",
              "      <td>429</td>\n",
              "      <td>Guys</td>\n",
              "      <td>T1</td>\n",
              "      <td>/content/drive/My Drive/Image_Registration_Pro...</td>\n",
              "    </tr>\n",
              "    <tr>\n",
              "      <th>2</th>\n",
              "      <td>431</td>\n",
              "      <td>Guys</td>\n",
              "      <td>T1</td>\n",
              "      <td>/content/drive/My Drive/Image_Registration_Pro...</td>\n",
              "    </tr>\n",
              "    <tr>\n",
              "      <th>3</th>\n",
              "      <td>430</td>\n",
              "      <td>IOP</td>\n",
              "      <td>T1</td>\n",
              "      <td>/content/drive/My Drive/Image_Registration_Pro...</td>\n",
              "    </tr>\n",
              "    <tr>\n",
              "      <th>4</th>\n",
              "      <td>432</td>\n",
              "      <td>Guys</td>\n",
              "      <td>T1</td>\n",
              "      <td>/content/drive/My Drive/Image_Registration_Pro...</td>\n",
              "    </tr>\n",
              "  </tbody>\n",
              "</table>\n",
              "</div>"
            ],
            "text/plain": [
              "   our_ixi_id  ...                                          file_path\n",
              "0         433  ...  /content/drive/My Drive/Image_Registration_Pro...\n",
              "1         429  ...  /content/drive/My Drive/Image_Registration_Pro...\n",
              "2         431  ...  /content/drive/My Drive/Image_Registration_Pro...\n",
              "3         430  ...  /content/drive/My Drive/Image_Registration_Pro...\n",
              "4         432  ...  /content/drive/My Drive/Image_Registration_Pro...\n",
              "\n",
              "[5 rows x 4 columns]"
            ]
          },
          "metadata": {
            "tags": []
          },
          "execution_count": 41
        }
      ]
    },
    {
      "cell_type": "markdown",
      "metadata": {
        "id": "eQMz54fzQYal"
      },
      "source": [
        "IOP scanner info is pretty less, In each batch there should be atleast some IOP. Both learning and unlearning. Ofcourse this has to be decided based on age."
      ]
    },
    {
      "cell_type": "code",
      "metadata": {
        "id": "hV2AxYFFNWrE"
      },
      "source": [
        "filtered_df = pd.merge(left = ixi_df, right=our_df, left_on=\"IXI_ID\", right_on=\"our_ixi_id\", how=\"inner\", validate=\"one_to_one\")"
      ],
      "execution_count": 42,
      "outputs": []
    },
    {
      "cell_type": "code",
      "metadata": {
        "colab": {
          "base_uri": "https://localhost:8080/",
          "height": 336
        },
        "id": "SXOEUdafO2ja",
        "outputId": "af0d421d-614a-4adb-9379-8cf940926fc3"
      },
      "source": [
        "filtered_df.head()"
      ],
      "execution_count": 43,
      "outputs": [
        {
          "output_type": "execute_result",
          "data": {
            "text/html": [
              "<div>\n",
              "<style scoped>\n",
              "    .dataframe tbody tr th:only-of-type {\n",
              "        vertical-align: middle;\n",
              "    }\n",
              "\n",
              "    .dataframe tbody tr th {\n",
              "        vertical-align: top;\n",
              "    }\n",
              "\n",
              "    .dataframe thead th {\n",
              "        text-align: right;\n",
              "    }\n",
              "</style>\n",
              "<table border=\"1\" class=\"dataframe\">\n",
              "  <thead>\n",
              "    <tr style=\"text-align: right;\">\n",
              "      <th></th>\n",
              "      <th>IXI_ID</th>\n",
              "      <th>SEX_ID (1=m, 2=f)</th>\n",
              "      <th>HEIGHT</th>\n",
              "      <th>WEIGHT</th>\n",
              "      <th>ETHNIC_ID</th>\n",
              "      <th>MARITAL_ID</th>\n",
              "      <th>OCCUPATION_ID</th>\n",
              "      <th>QUALIFICATION_ID</th>\n",
              "      <th>DOB</th>\n",
              "      <th>DATE_AVAILABLE</th>\n",
              "      <th>STUDY_DATE</th>\n",
              "      <th>AGE</th>\n",
              "      <th>our_ixi_id</th>\n",
              "      <th>scanner_name</th>\n",
              "      <th>contrast_type</th>\n",
              "      <th>file_path</th>\n",
              "    </tr>\n",
              "  </thead>\n",
              "  <tbody>\n",
              "    <tr>\n",
              "      <th>0</th>\n",
              "      <td>60</td>\n",
              "      <td>1</td>\n",
              "      <td>180</td>\n",
              "      <td>75</td>\n",
              "      <td>1</td>\n",
              "      <td>2</td>\n",
              "      <td>1</td>\n",
              "      <td>5</td>\n",
              "      <td>1974-10-26</td>\n",
              "      <td>1</td>\n",
              "      <td>2005-07-08</td>\n",
              "      <td>30.699521</td>\n",
              "      <td>60</td>\n",
              "      <td>Guys</td>\n",
              "      <td>T1</td>\n",
              "      <td>/content/drive/My Drive/Image_Registration_Pro...</td>\n",
              "    </tr>\n",
              "    <tr>\n",
              "      <th>1</th>\n",
              "      <td>428</td>\n",
              "      <td>2</td>\n",
              "      <td>163</td>\n",
              "      <td>75</td>\n",
              "      <td>1</td>\n",
              "      <td>2</td>\n",
              "      <td>1</td>\n",
              "      <td>4</td>\n",
              "      <td>1951-01-08</td>\n",
              "      <td>1</td>\n",
              "      <td>2006-07-24</td>\n",
              "      <td>55.540041</td>\n",
              "      <td>428</td>\n",
              "      <td>Guys</td>\n",
              "      <td>T1</td>\n",
              "      <td>/content/drive/My Drive/Image_Registration_Pro...</td>\n",
              "    </tr>\n",
              "    <tr>\n",
              "      <th>2</th>\n",
              "      <td>429</td>\n",
              "      <td>2</td>\n",
              "      <td>155</td>\n",
              "      <td>61</td>\n",
              "      <td>1</td>\n",
              "      <td>2</td>\n",
              "      <td>2</td>\n",
              "      <td>4</td>\n",
              "      <td>1951-01-08</td>\n",
              "      <td>1</td>\n",
              "      <td>2006-07-24</td>\n",
              "      <td>55.540041</td>\n",
              "      <td>429</td>\n",
              "      <td>Guys</td>\n",
              "      <td>T1</td>\n",
              "      <td>/content/drive/My Drive/Image_Registration_Pro...</td>\n",
              "    </tr>\n",
              "    <tr>\n",
              "      <th>3</th>\n",
              "      <td>430</td>\n",
              "      <td>2</td>\n",
              "      <td>166</td>\n",
              "      <td>70</td>\n",
              "      <td>1</td>\n",
              "      <td>4</td>\n",
              "      <td>5</td>\n",
              "      <td>5</td>\n",
              "      <td>1934-07-02</td>\n",
              "      <td>1</td>\n",
              "      <td>2006-07-04</td>\n",
              "      <td>72.005476</td>\n",
              "      <td>430</td>\n",
              "      <td>IOP</td>\n",
              "      <td>T1</td>\n",
              "      <td>/content/drive/My Drive/Image_Registration_Pro...</td>\n",
              "    </tr>\n",
              "    <tr>\n",
              "      <th>4</th>\n",
              "      <td>431</td>\n",
              "      <td>2</td>\n",
              "      <td>163</td>\n",
              "      <td>58</td>\n",
              "      <td>1</td>\n",
              "      <td>2</td>\n",
              "      <td>2</td>\n",
              "      <td>5</td>\n",
              "      <td>1947-10-05</td>\n",
              "      <td>1</td>\n",
              "      <td>2006-07-17</td>\n",
              "      <td>58.781656</td>\n",
              "      <td>431</td>\n",
              "      <td>Guys</td>\n",
              "      <td>T1</td>\n",
              "      <td>/content/drive/My Drive/Image_Registration_Pro...</td>\n",
              "    </tr>\n",
              "  </tbody>\n",
              "</table>\n",
              "</div>"
            ],
            "text/plain": [
              "   IXI_ID  ...                                          file_path\n",
              "0      60  ...  /content/drive/My Drive/Image_Registration_Pro...\n",
              "1     428  ...  /content/drive/My Drive/Image_Registration_Pro...\n",
              "2     429  ...  /content/drive/My Drive/Image_Registration_Pro...\n",
              "3     430  ...  /content/drive/My Drive/Image_Registration_Pro...\n",
              "4     431  ...  /content/drive/My Drive/Image_Registration_Pro...\n",
              "\n",
              "[5 rows x 16 columns]"
            ]
          },
          "metadata": {
            "tags": []
          },
          "execution_count": 43
        }
      ]
    },
    {
      "cell_type": "markdown",
      "metadata": {
        "id": "NSPhljBSoMH9"
      },
      "source": [
        "discretize age into bins of 10"
      ]
    },
    {
      "cell_type": "code",
      "metadata": {
        "id": "DgM7xUeLcUJI"
      },
      "source": [
        "bins = [0, 10, 20, 30, 40, 50, 60, 70, 80, 90, 100]\n",
        "labels = [\"0-10\", \"10-20\", \"20-30\", \"30-40\", \"40-50\", \"50-60\", \"60-70\", \"70-80\", \"80-90\", \"90-100\"]\n",
        "filtered_df['age_disc'] = pd.cut(filtered_df['AGE'], bins=bins, labels=labels)"
      ],
      "execution_count": 45,
      "outputs": []
    },
    {
      "cell_type": "code",
      "metadata": {
        "colab": {
          "base_uri": "https://localhost:8080/",
          "height": 291
        },
        "id": "YjC8Z7bMcBc7",
        "outputId": "b412304f-b1f1-4ad3-897f-f72ecf614b35"
      },
      "source": [
        "filtered_df[(filtered_df[\"scanner_name\"] == \"IOP\") & (filtered_df[\"age_disc\"].isin([\"50-60\", \"60-70\"]) ) ].describe()"
      ],
      "execution_count": 52,
      "outputs": [
        {
          "output_type": "execute_result",
          "data": {
            "text/html": [
              "<div>\n",
              "<style scoped>\n",
              "    .dataframe tbody tr th:only-of-type {\n",
              "        vertical-align: middle;\n",
              "    }\n",
              "\n",
              "    .dataframe tbody tr th {\n",
              "        vertical-align: top;\n",
              "    }\n",
              "\n",
              "    .dataframe thead th {\n",
              "        text-align: right;\n",
              "    }\n",
              "</style>\n",
              "<table border=\"1\" class=\"dataframe\">\n",
              "  <thead>\n",
              "    <tr style=\"text-align: right;\">\n",
              "      <th></th>\n",
              "      <th>IXI_ID</th>\n",
              "      <th>SEX_ID (1=m, 2=f)</th>\n",
              "      <th>HEIGHT</th>\n",
              "      <th>WEIGHT</th>\n",
              "      <th>ETHNIC_ID</th>\n",
              "      <th>MARITAL_ID</th>\n",
              "      <th>OCCUPATION_ID</th>\n",
              "      <th>QUALIFICATION_ID</th>\n",
              "      <th>DATE_AVAILABLE</th>\n",
              "      <th>AGE</th>\n",
              "      <th>our_ixi_id</th>\n",
              "    </tr>\n",
              "  </thead>\n",
              "  <tbody>\n",
              "    <tr>\n",
              "      <th>count</th>\n",
              "      <td>5.000000</td>\n",
              "      <td>5.000000</td>\n",
              "      <td>5.00000</td>\n",
              "      <td>5.00000</td>\n",
              "      <td>5.0</td>\n",
              "      <td>5.000000</td>\n",
              "      <td>5.000000</td>\n",
              "      <td>5.00000</td>\n",
              "      <td>5.0</td>\n",
              "      <td>5.000000</td>\n",
              "      <td>5.000000</td>\n",
              "    </tr>\n",
              "    <tr>\n",
              "      <th>mean</th>\n",
              "      <td>494.200000</td>\n",
              "      <td>1.600000</td>\n",
              "      <td>163.40000</td>\n",
              "      <td>69.60000</td>\n",
              "      <td>1.0</td>\n",
              "      <td>1.600000</td>\n",
              "      <td>5.200000</td>\n",
              "      <td>4.20000</td>\n",
              "      <td>1.0</td>\n",
              "      <td>62.729090</td>\n",
              "      <td>494.200000</td>\n",
              "    </tr>\n",
              "    <tr>\n",
              "      <th>std</th>\n",
              "      <td>63.365606</td>\n",
              "      <td>0.547723</td>\n",
              "      <td>12.54193</td>\n",
              "      <td>18.98157</td>\n",
              "      <td>0.0</td>\n",
              "      <td>0.547723</td>\n",
              "      <td>0.447214</td>\n",
              "      <td>1.30384</td>\n",
              "      <td>0.0</td>\n",
              "      <td>7.282813</td>\n",
              "      <td>63.365606</td>\n",
              "    </tr>\n",
              "    <tr>\n",
              "      <th>min</th>\n",
              "      <td>434.000000</td>\n",
              "      <td>1.000000</td>\n",
              "      <td>153.00000</td>\n",
              "      <td>50.00000</td>\n",
              "      <td>1.0</td>\n",
              "      <td>1.000000</td>\n",
              "      <td>5.000000</td>\n",
              "      <td>2.00000</td>\n",
              "      <td>1.0</td>\n",
              "      <td>50.573580</td>\n",
              "      <td>434.000000</td>\n",
              "    </tr>\n",
              "    <tr>\n",
              "      <th>25%</th>\n",
              "      <td>442.000000</td>\n",
              "      <td>1.000000</td>\n",
              "      <td>157.00000</td>\n",
              "      <td>59.00000</td>\n",
              "      <td>1.0</td>\n",
              "      <td>1.000000</td>\n",
              "      <td>5.000000</td>\n",
              "      <td>4.00000</td>\n",
              "      <td>1.0</td>\n",
              "      <td>61.366188</td>\n",
              "      <td>442.000000</td>\n",
              "    </tr>\n",
              "    <tr>\n",
              "      <th>50%</th>\n",
              "      <td>473.000000</td>\n",
              "      <td>2.000000</td>\n",
              "      <td>160.00000</td>\n",
              "      <td>60.00000</td>\n",
              "      <td>1.0</td>\n",
              "      <td>2.000000</td>\n",
              "      <td>5.000000</td>\n",
              "      <td>5.00000</td>\n",
              "      <td>1.0</td>\n",
              "      <td>66.329911</td>\n",
              "      <td>473.000000</td>\n",
              "    </tr>\n",
              "    <tr>\n",
              "      <th>75%</th>\n",
              "      <td>548.000000</td>\n",
              "      <td>2.000000</td>\n",
              "      <td>162.00000</td>\n",
              "      <td>84.00000</td>\n",
              "      <td>1.0</td>\n",
              "      <td>2.000000</td>\n",
              "      <td>5.000000</td>\n",
              "      <td>5.00000</td>\n",
              "      <td>1.0</td>\n",
              "      <td>67.241615</td>\n",
              "      <td>548.000000</td>\n",
              "    </tr>\n",
              "    <tr>\n",
              "      <th>max</th>\n",
              "      <td>574.000000</td>\n",
              "      <td>2.000000</td>\n",
              "      <td>185.00000</td>\n",
              "      <td>95.00000</td>\n",
              "      <td>1.0</td>\n",
              "      <td>2.000000</td>\n",
              "      <td>6.000000</td>\n",
              "      <td>5.00000</td>\n",
              "      <td>1.0</td>\n",
              "      <td>68.134155</td>\n",
              "      <td>574.000000</td>\n",
              "    </tr>\n",
              "  </tbody>\n",
              "</table>\n",
              "</div>"
            ],
            "text/plain": [
              "           IXI_ID  SEX_ID (1=m, 2=f)  ...        AGE  our_ixi_id\n",
              "count    5.000000           5.000000  ...   5.000000    5.000000\n",
              "mean   494.200000           1.600000  ...  62.729090  494.200000\n",
              "std     63.365606           0.547723  ...   7.282813   63.365606\n",
              "min    434.000000           1.000000  ...  50.573580  434.000000\n",
              "25%    442.000000           1.000000  ...  61.366188  442.000000\n",
              "50%    473.000000           2.000000  ...  66.329911  473.000000\n",
              "75%    548.000000           2.000000  ...  67.241615  548.000000\n",
              "max    574.000000           2.000000  ...  68.134155  574.000000\n",
              "\n",
              "[8 rows x 11 columns]"
            ]
          },
          "metadata": {
            "tags": []
          },
          "execution_count": 52
        }
      ]
    },
    {
      "cell_type": "code",
      "metadata": {
        "colab": {
          "base_uri": "https://localhost:8080/",
          "height": 291
        },
        "id": "5EDvSxnekeHz",
        "outputId": "c4de6740-16b8-4f05-db0d-78cdc9545277"
      },
      "source": [
        "filtered_df[(filtered_df[\"scanner_name\"] == \"Guys\") & (filtered_df[\"age_disc\"].isin([\"50-60\", \"60-70\"]) ) ].describe()"
      ],
      "execution_count": 53,
      "outputs": [
        {
          "output_type": "execute_result",
          "data": {
            "text/html": [
              "<div>\n",
              "<style scoped>\n",
              "    .dataframe tbody tr th:only-of-type {\n",
              "        vertical-align: middle;\n",
              "    }\n",
              "\n",
              "    .dataframe tbody tr th {\n",
              "        vertical-align: top;\n",
              "    }\n",
              "\n",
              "    .dataframe thead th {\n",
              "        text-align: right;\n",
              "    }\n",
              "</style>\n",
              "<table border=\"1\" class=\"dataframe\">\n",
              "  <thead>\n",
              "    <tr style=\"text-align: right;\">\n",
              "      <th></th>\n",
              "      <th>IXI_ID</th>\n",
              "      <th>SEX_ID (1=m, 2=f)</th>\n",
              "      <th>HEIGHT</th>\n",
              "      <th>WEIGHT</th>\n",
              "      <th>ETHNIC_ID</th>\n",
              "      <th>MARITAL_ID</th>\n",
              "      <th>OCCUPATION_ID</th>\n",
              "      <th>QUALIFICATION_ID</th>\n",
              "      <th>DATE_AVAILABLE</th>\n",
              "      <th>AGE</th>\n",
              "      <th>our_ixi_id</th>\n",
              "    </tr>\n",
              "  </thead>\n",
              "  <tbody>\n",
              "    <tr>\n",
              "      <th>count</th>\n",
              "      <td>54.000000</td>\n",
              "      <td>54.000000</td>\n",
              "      <td>54.000000</td>\n",
              "      <td>54.000000</td>\n",
              "      <td>54.000000</td>\n",
              "      <td>54.000000</td>\n",
              "      <td>54.000000</td>\n",
              "      <td>54.000000</td>\n",
              "      <td>54.0</td>\n",
              "      <td>54.000000</td>\n",
              "      <td>54.000000</td>\n",
              "    </tr>\n",
              "    <tr>\n",
              "      <th>mean</th>\n",
              "      <td>529.333333</td>\n",
              "      <td>1.555556</td>\n",
              "      <td>192.833333</td>\n",
              "      <td>66.944444</td>\n",
              "      <td>1.203704</td>\n",
              "      <td>2.388889</td>\n",
              "      <td>4.148148</td>\n",
              "      <td>3.629630</td>\n",
              "      <td>1.0</td>\n",
              "      <td>62.796360</td>\n",
              "      <td>529.333333</td>\n",
              "    </tr>\n",
              "    <tr>\n",
              "      <th>std</th>\n",
              "      <td>65.262315</td>\n",
              "      <td>0.501570</td>\n",
              "      <td>232.171354</td>\n",
              "      <td>21.576032</td>\n",
              "      <td>0.876951</td>\n",
              "      <td>1.279986</td>\n",
              "      <td>2.068701</td>\n",
              "      <td>1.593576</td>\n",
              "      <td>0.0</td>\n",
              "      <td>4.837039</td>\n",
              "      <td>65.262315</td>\n",
              "    </tr>\n",
              "    <tr>\n",
              "      <th>min</th>\n",
              "      <td>428.000000</td>\n",
              "      <td>1.000000</td>\n",
              "      <td>0.000000</td>\n",
              "      <td>0.000000</td>\n",
              "      <td>0.000000</td>\n",
              "      <td>0.000000</td>\n",
              "      <td>0.000000</td>\n",
              "      <td>0.000000</td>\n",
              "      <td>1.0</td>\n",
              "      <td>50.395619</td>\n",
              "      <td>428.000000</td>\n",
              "    </tr>\n",
              "    <tr>\n",
              "      <th>25%</th>\n",
              "      <td>486.250000</td>\n",
              "      <td>1.000000</td>\n",
              "      <td>160.250000</td>\n",
              "      <td>58.000000</td>\n",
              "      <td>1.000000</td>\n",
              "      <td>2.000000</td>\n",
              "      <td>2.000000</td>\n",
              "      <td>2.250000</td>\n",
              "      <td>1.0</td>\n",
              "      <td>59.368925</td>\n",
              "      <td>486.250000</td>\n",
              "    </tr>\n",
              "    <tr>\n",
              "      <th>50%</th>\n",
              "      <td>505.500000</td>\n",
              "      <td>2.000000</td>\n",
              "      <td>167.000000</td>\n",
              "      <td>66.500000</td>\n",
              "      <td>1.000000</td>\n",
              "      <td>2.000000</td>\n",
              "      <td>5.000000</td>\n",
              "      <td>4.000000</td>\n",
              "      <td>1.0</td>\n",
              "      <td>63.627652</td>\n",
              "      <td>505.500000</td>\n",
              "    </tr>\n",
              "    <tr>\n",
              "      <th>75%</th>\n",
              "      <td>577.500000</td>\n",
              "      <td>2.000000</td>\n",
              "      <td>175.750000</td>\n",
              "      <td>79.000000</td>\n",
              "      <td>1.000000</td>\n",
              "      <td>3.500000</td>\n",
              "      <td>5.000000</td>\n",
              "      <td>5.000000</td>\n",
              "      <td>1.0</td>\n",
              "      <td>67.071869</td>\n",
              "      <td>577.500000</td>\n",
              "    </tr>\n",
              "    <tr>\n",
              "      <th>max</th>\n",
              "      <td>651.000000</td>\n",
              "      <td>2.000000</td>\n",
              "      <td>1850.000000</td>\n",
              "      <td>110.000000</td>\n",
              "      <td>6.000000</td>\n",
              "      <td>5.000000</td>\n",
              "      <td>8.000000</td>\n",
              "      <td>5.000000</td>\n",
              "      <td>1.0</td>\n",
              "      <td>69.689254</td>\n",
              "      <td>651.000000</td>\n",
              "    </tr>\n",
              "  </tbody>\n",
              "</table>\n",
              "</div>"
            ],
            "text/plain": [
              "           IXI_ID  SEX_ID (1=m, 2=f)  ...        AGE  our_ixi_id\n",
              "count   54.000000          54.000000  ...  54.000000   54.000000\n",
              "mean   529.333333           1.555556  ...  62.796360  529.333333\n",
              "std     65.262315           0.501570  ...   4.837039   65.262315\n",
              "min    428.000000           1.000000  ...  50.395619  428.000000\n",
              "25%    486.250000           1.000000  ...  59.368925  486.250000\n",
              "50%    505.500000           2.000000  ...  63.627652  505.500000\n",
              "75%    577.500000           2.000000  ...  67.071869  577.500000\n",
              "max    651.000000           2.000000  ...  69.689254  651.000000\n",
              "\n",
              "[8 rows x 11 columns]"
            ]
          },
          "metadata": {
            "tags": []
          },
          "execution_count": 53
        }
      ]
    },
    {
      "cell_type": "code",
      "metadata": {
        "colab": {
          "base_uri": "https://localhost:8080/",
          "height": 291
        },
        "id": "_q7_dzijirQh",
        "outputId": "f0aa83bd-8d7c-4d53-e71d-2824b7cd89ce"
      },
      "source": [
        "filtered_df[(filtered_df[\"scanner_name\"] == \"HH\") & (filtered_df[\"age_disc\"].isin([\"50-60\", \"60-70\"]) ) ].describe()"
      ],
      "execution_count": 54,
      "outputs": [
        {
          "output_type": "execute_result",
          "data": {
            "text/html": [
              "<div>\n",
              "<style scoped>\n",
              "    .dataframe tbody tr th:only-of-type {\n",
              "        vertical-align: middle;\n",
              "    }\n",
              "\n",
              "    .dataframe tbody tr th {\n",
              "        vertical-align: top;\n",
              "    }\n",
              "\n",
              "    .dataframe thead th {\n",
              "        text-align: right;\n",
              "    }\n",
              "</style>\n",
              "<table border=\"1\" class=\"dataframe\">\n",
              "  <thead>\n",
              "    <tr style=\"text-align: right;\">\n",
              "      <th></th>\n",
              "      <th>IXI_ID</th>\n",
              "      <th>SEX_ID (1=m, 2=f)</th>\n",
              "      <th>HEIGHT</th>\n",
              "      <th>WEIGHT</th>\n",
              "      <th>ETHNIC_ID</th>\n",
              "      <th>MARITAL_ID</th>\n",
              "      <th>OCCUPATION_ID</th>\n",
              "      <th>QUALIFICATION_ID</th>\n",
              "      <th>DATE_AVAILABLE</th>\n",
              "      <th>AGE</th>\n",
              "      <th>our_ixi_id</th>\n",
              "    </tr>\n",
              "  </thead>\n",
              "  <tbody>\n",
              "    <tr>\n",
              "      <th>count</th>\n",
              "      <td>34.000000</td>\n",
              "      <td>34.000000</td>\n",
              "      <td>34.000000</td>\n",
              "      <td>34.000000</td>\n",
              "      <td>34.000000</td>\n",
              "      <td>34.000000</td>\n",
              "      <td>34.000000</td>\n",
              "      <td>34.000000</td>\n",
              "      <td>34.0</td>\n",
              "      <td>34.000000</td>\n",
              "      <td>34.000000</td>\n",
              "    </tr>\n",
              "    <tr>\n",
              "      <th>mean</th>\n",
              "      <td>520.411765</td>\n",
              "      <td>1.529412</td>\n",
              "      <td>170.617647</td>\n",
              "      <td>77.264706</td>\n",
              "      <td>1.529412</td>\n",
              "      <td>2.235294</td>\n",
              "      <td>3.500000</td>\n",
              "      <td>3.352941</td>\n",
              "      <td>1.0</td>\n",
              "      <td>61.184120</td>\n",
              "      <td>520.411765</td>\n",
              "    </tr>\n",
              "    <tr>\n",
              "      <th>std</th>\n",
              "      <td>59.219222</td>\n",
              "      <td>0.506640</td>\n",
              "      <td>9.853517</td>\n",
              "      <td>15.964561</td>\n",
              "      <td>1.022039</td>\n",
              "      <td>1.129731</td>\n",
              "      <td>2.219063</td>\n",
              "      <td>1.474682</td>\n",
              "      <td>0.0</td>\n",
              "      <td>4.891415</td>\n",
              "      <td>59.219222</td>\n",
              "    </tr>\n",
              "    <tr>\n",
              "      <th>min</th>\n",
              "      <td>437.000000</td>\n",
              "      <td>1.000000</td>\n",
              "      <td>150.000000</td>\n",
              "      <td>52.000000</td>\n",
              "      <td>1.000000</td>\n",
              "      <td>1.000000</td>\n",
              "      <td>1.000000</td>\n",
              "      <td>1.000000</td>\n",
              "      <td>1.0</td>\n",
              "      <td>52.498289</td>\n",
              "      <td>437.000000</td>\n",
              "    </tr>\n",
              "    <tr>\n",
              "      <th>25%</th>\n",
              "      <td>469.000000</td>\n",
              "      <td>1.000000</td>\n",
              "      <td>163.500000</td>\n",
              "      <td>67.750000</td>\n",
              "      <td>1.000000</td>\n",
              "      <td>2.000000</td>\n",
              "      <td>1.250000</td>\n",
              "      <td>2.000000</td>\n",
              "      <td>1.0</td>\n",
              "      <td>57.568104</td>\n",
              "      <td>469.000000</td>\n",
              "    </tr>\n",
              "    <tr>\n",
              "      <th>50%</th>\n",
              "      <td>517.500000</td>\n",
              "      <td>2.000000</td>\n",
              "      <td>170.000000</td>\n",
              "      <td>75.000000</td>\n",
              "      <td>1.000000</td>\n",
              "      <td>2.000000</td>\n",
              "      <td>3.500000</td>\n",
              "      <td>4.000000</td>\n",
              "      <td>1.0</td>\n",
              "      <td>60.735113</td>\n",
              "      <td>517.500000</td>\n",
              "    </tr>\n",
              "    <tr>\n",
              "      <th>75%</th>\n",
              "      <td>563.500000</td>\n",
              "      <td>2.000000</td>\n",
              "      <td>178.000000</td>\n",
              "      <td>88.000000</td>\n",
              "      <td>1.000000</td>\n",
              "      <td>2.000000</td>\n",
              "      <td>5.000000</td>\n",
              "      <td>4.750000</td>\n",
              "      <td>1.0</td>\n",
              "      <td>64.479808</td>\n",
              "      <td>563.500000</td>\n",
              "    </tr>\n",
              "    <tr>\n",
              "      <th>max</th>\n",
              "      <td>632.000000</td>\n",
              "      <td>2.000000</td>\n",
              "      <td>195.000000</td>\n",
              "      <td>105.000000</td>\n",
              "      <td>4.000000</td>\n",
              "      <td>5.000000</td>\n",
              "      <td>8.000000</td>\n",
              "      <td>5.000000</td>\n",
              "      <td>1.0</td>\n",
              "      <td>69.281314</td>\n",
              "      <td>632.000000</td>\n",
              "    </tr>\n",
              "  </tbody>\n",
              "</table>\n",
              "</div>"
            ],
            "text/plain": [
              "           IXI_ID  SEX_ID (1=m, 2=f)  ...        AGE  our_ixi_id\n",
              "count   34.000000          34.000000  ...  34.000000   34.000000\n",
              "mean   520.411765           1.529412  ...  61.184120  520.411765\n",
              "std     59.219222           0.506640  ...   4.891415   59.219222\n",
              "min    437.000000           1.000000  ...  52.498289  437.000000\n",
              "25%    469.000000           1.000000  ...  57.568104  469.000000\n",
              "50%    517.500000           2.000000  ...  60.735113  517.500000\n",
              "75%    563.500000           2.000000  ...  64.479808  563.500000\n",
              "max    632.000000           2.000000  ...  69.281314  632.000000\n",
              "\n",
              "[8 rows x 11 columns]"
            ]
          },
          "metadata": {
            "tags": []
          },
          "execution_count": 54
        }
      ]
    },
    {
      "cell_type": "markdown",
      "metadata": {
        "id": "A9-PEaqKWK6U"
      },
      "source": [
        "# Analyses of datasets"
      ]
    },
    {
      "cell_type": "markdown",
      "metadata": {
        "id": "O4QV4rzgWcHY"
      },
      "source": [
        "IOP has very few scans and should be handled with care during unlearning according to its age distribution"
      ]
    },
    {
      "cell_type": "code",
      "metadata": {
        "colab": {
          "base_uri": "https://localhost:8080/",
          "height": 349
        },
        "id": "1UfEVBN7Mmi4",
        "outputId": "696abeec-befe-4ff4-83c7-7d0cde1ea7f0"
      },
      "source": [
        "plt.figure(figsize=(12, 5))\n",
        "sns.histplot(data=our_df, x=\"scanner_name\")"
      ],
      "execution_count": 26,
      "outputs": [
        {
          "output_type": "execute_result",
          "data": {
            "text/plain": [
              "<matplotlib.axes._subplots.AxesSubplot at 0x7fc57b724fd0>"
            ]
          },
          "metadata": {
            "tags": []
          },
          "execution_count": 26
        },
        {
          "output_type": "display_data",
          "data": {
            "image/png": "[encoded data removed]",
            "text/plain": [
              "<Figure size 864x360 with 1 Axes>"
            ]
          },
          "metadata": {
            "tags": [],
            "needs_background": "light"
          }
        }
      ]
    },
    {
      "cell_type": "markdown",
      "metadata": {
        "id": "jHxAZRvDSHWG"
      },
      "source": [
        "As we can see below all 2 scanners Guys and HH have similar distribution and have lot of scans between 50-70 age. In other terms they have almost equal distribution and we do not need to worry about what to keep or not keep in our learning-unlearning datasets. \n",
        "\n",
        "IOP on the other hand has less scans(40 scans) and most of its scans are from younger people with peak at 30 years. How to choose train and test now as we have two equally distributed datasets and IOP as skewed?\n",
        "\n",
        "* Pick randomly into train learning, train unlearning and validation bucket from Guys and HH as they seem to be equally distributed.\n",
        "* From IOP, there are 5 scans between 50-70. Put all of them into train unlearning bucket. We dont need to learn much from these images hence dont add them to learning bucket. These 5 scans are important as they lie in same age range peak as that of Guys, HH so must be used for unlearning.\n",
        "* From rest of IOP (29 remaining) randomly sample 5 of them into validation. rest 24 of them must be used during training learning.\n",
        "\n",
        "\n",
        "Use the above while building dataset class\n",
        "\n"
      ]
    },
    {
      "cell_type": "code",
      "metadata": {
        "colab": {
          "base_uri": "https://localhost:8080/",
          "height": 457
        },
        "id": "_p1ZowyGlZoL",
        "outputId": "f3a3cc7f-d485-4406-e6d7-119d13633dd3"
      },
      "source": [
        "plt.figure(figsize=(15, 7))\n",
        "sns.histplot(data=filtered_df,x=\"AGE\", hue=\"scanner_name\", multiple=\"stack\", binwidth=10, binrange=(0,100))"
      ],
      "execution_count": 63,
      "outputs": [
        {
          "output_type": "execute_result",
          "data": {
            "text/plain": [
              "<matplotlib.axes._subplots.AxesSubplot at 0x7fc56ade49d0>"
            ]
          },
          "metadata": {
            "tags": []
          },
          "execution_count": 63
        },
        {
          "output_type": "display_data",
          "data": {
            "image/png": "[encoded data removed]",
            "text/plain": [
              "<Figure size 1080x504 with 1 Axes>"
            ]
          },
          "metadata": {
            "tags": [],
            "needs_background": "light"
          }
        }
      ]
    },
    {
      "cell_type": "code",
      "metadata": {
        "colab": {
          "base_uri": "https://localhost:8080/",
          "height": 349
        },
        "id": "xEDstUruPJmd",
        "outputId": "81659b4f-9199-47d4-ffaf-7781239c25b5"
      },
      "source": [
        "plt.figure(figsize=(12, 5))\n",
        "sns.histplot(data=filtered_df[filtered_df[\"scanner_name\"] == \"IOP\"],x=\"AGE\", hue=\"scanner_name\", binwidth=10, binrange=(0,100))"
      ],
      "execution_count": 64,
      "outputs": [
        {
          "output_type": "execute_result",
          "data": {
            "text/plain": [
              "<matplotlib.axes._subplots.AxesSubplot at 0x7fc56abfd690>"
            ]
          },
          "metadata": {
            "tags": []
          },
          "execution_count": 64
        },
        {
          "output_type": "display_data",
          "data": {
            "image/png": "[encoded data removed]",
            "text/plain": [
              "<Figure size 864x360 with 1 Axes>"
            ]
          },
          "metadata": {
            "tags": [],
            "needs_background": "light"
          }
        }
      ]
    },
    {
      "cell_type": "code",
      "metadata": {
        "colab": {
          "base_uri": "https://localhost:8080/",
          "height": 349
        },
        "id": "ot3MO4juQ5x6",
        "outputId": "b2ddc612-6e9d-4d87-94ac-f2cd649feddd"
      },
      "source": [
        "plt.figure(figsize=(12, 5))\n",
        "sns.histplot(data=filtered_df[filtered_df[\"scanner_name\"] == \"Guys\"],x=\"AGE\", hue=\"scanner_name\", binwidth=10, binrange=(0,100))"
      ],
      "execution_count": 65,
      "outputs": [
        {
          "output_type": "execute_result",
          "data": {
            "text/plain": [
              "<matplotlib.axes._subplots.AxesSubplot at 0x7fc56ac5b8d0>"
            ]
          },
          "metadata": {
            "tags": []
          },
          "execution_count": 65
        },
        {
          "output_type": "display_data",
          "data": {
            "image/png": "[encoded data removed]",
            "text/plain": [
              "<Figure size 864x360 with 1 Axes>"
            ]
          },
          "metadata": {
            "tags": [],
            "needs_background": "light"
          }
        }
      ]
    },
    {
      "cell_type": "code",
      "metadata": {
        "colab": {
          "base_uri": "https://localhost:8080/",
          "height": 349
        },
        "id": "EWOihUUkRahv",
        "outputId": "d1d15324-5941-4f7d-b610-10262fbfb574"
      },
      "source": [
        "plt.figure(figsize=(12, 5))\n",
        "sns.histplot(data=filtered_df[filtered_df[\"scanner_name\"] == \"HH\"],x=\"AGE\", hue=\"scanner_name\", binwidth=10, binrange=(0,100))"
      ],
      "execution_count": 66,
      "outputs": [
        {
          "output_type": "execute_result",
          "data": {
            "text/plain": [
              "<matplotlib.axes._subplots.AxesSubplot at 0x7fc56ab31c10>"
            ]
          },
          "metadata": {
            "tags": []
          },
          "execution_count": 66
        },
        {
          "output_type": "display_data",
          "data": {
            "image/png": "[encoded data removed]",
            "text/plain": [
              "<Figure size 864x360 with 1 Axes>"
            ]
          },
          "metadata": {
            "tags": [],
            "needs_background": "light"
          }
        }
      ]
    },
    {
      "cell_type": "markdown",
      "metadata": {
        "id": "1dE2U_ikV3EV"
      },
      "source": [
        "# Dataset Creation"
      ]
    },
    {
      "cell_type": "code",
      "metadata": {
        "id": "p5GRcPpxoc03"
      },
      "source": [
        "def place_into_buckets(age_disc, scanner_name):\n",
        "    \"\"\" \n",
        "    flag 0,1,2 = learn, unlearn, validation\n",
        "    - From IOP if its between 50-70 put it in unlearn bucket\n",
        "    - From IOP if its not between 50-70 put it learn and validation bucket with probs of 0.75 and 0.25\n",
        "    - From others put it in learn with 0.4, in unlearn with 0.3, in validation with 0.3 prob\n",
        "    \"\"\"\n",
        "    \n",
        "    if ((scanner_name == \"IOP\") and (age_disc in [\"50-60\", \"60-70\"]) ):\n",
        "      flag = 1\n",
        "    elif ((scanner_name == \"IOP\") and (age_disc not in [\"50-60\", \"60-70\"]) ):\n",
        "      flag = np.random.choice(a=[0, 2], p= [0.75, 0.25])\n",
        "    else:\n",
        "      flag = np.random.choice(a=[0, 1, 2], p=[0.5, 0.3, 0.2] )\n",
        "\n",
        "    if (flag == 0):\n",
        "      return \"train_learn\"\n",
        "    elif (flag == 1):\n",
        "      return \"train_unlearn\"\n",
        "    else:\n",
        "        return \"validation\"\n",
        "        \n"
      ],
      "execution_count": 84,
      "outputs": []
    },
    {
      "cell_type": "code",
      "metadata": {
        "id": "MljIpbsnoc5i"
      },
      "source": [
        "filtered_df['dataset_flag'] = filtered_df.apply(lambda x: place_into_buckets(x['age_disc'],x['scanner_name']),axis=1)"
      ],
      "execution_count": 85,
      "outputs": []
    },
    {
      "cell_type": "code",
      "metadata": {
        "colab": {
          "base_uri": "https://localhost:8080/",
          "height": 336
        },
        "id": "H0tnMD-_oc-h",
        "outputId": "6277719f-8974-414e-bc7f-e0332b2a5686"
      },
      "source": [
        "filtered_df.head()"
      ],
      "execution_count": 86,
      "outputs": [
        {
          "output_type": "execute_result",
          "data": {
            "text/html": [
              "<div>\n",
              "<style scoped>\n",
              "    .dataframe tbody tr th:only-of-type {\n",
              "        vertical-align: middle;\n",
              "    }\n",
              "\n",
              "    .dataframe tbody tr th {\n",
              "        vertical-align: top;\n",
              "    }\n",
              "\n",
              "    .dataframe thead th {\n",
              "        text-align: right;\n",
              "    }\n",
              "</style>\n",
              "<table border=\"1\" class=\"dataframe\">\n",
              "  <thead>\n",
              "    <tr style=\"text-align: right;\">\n",
              "      <th></th>\n",
              "      <th>IXI_ID</th>\n",
              "      <th>SEX_ID (1=m, 2=f)</th>\n",
              "      <th>HEIGHT</th>\n",
              "      <th>WEIGHT</th>\n",
              "      <th>ETHNIC_ID</th>\n",
              "      <th>MARITAL_ID</th>\n",
              "      <th>OCCUPATION_ID</th>\n",
              "      <th>QUALIFICATION_ID</th>\n",
              "      <th>DOB</th>\n",
              "      <th>DATE_AVAILABLE</th>\n",
              "      <th>STUDY_DATE</th>\n",
              "      <th>AGE</th>\n",
              "      <th>our_ixi_id</th>\n",
              "      <th>scanner_name</th>\n",
              "      <th>contrast_type</th>\n",
              "      <th>file_path</th>\n",
              "      <th>age_disc</th>\n",
              "      <th>dataset_flag</th>\n",
              "    </tr>\n",
              "  </thead>\n",
              "  <tbody>\n",
              "    <tr>\n",
              "      <th>0</th>\n",
              "      <td>60</td>\n",
              "      <td>1</td>\n",
              "      <td>180</td>\n",
              "      <td>75</td>\n",
              "      <td>1</td>\n",
              "      <td>2</td>\n",
              "      <td>1</td>\n",
              "      <td>5</td>\n",
              "      <td>1974-10-26</td>\n",
              "      <td>1</td>\n",
              "      <td>2005-07-08</td>\n",
              "      <td>30.699521</td>\n",
              "      <td>60</td>\n",
              "      <td>Guys</td>\n",
              "      <td>T1</td>\n",
              "      <td>/content/drive/My Drive/Image_Registration_Pro...</td>\n",
              "      <td>30-40</td>\n",
              "      <td>train_learn</td>\n",
              "    </tr>\n",
              "    <tr>\n",
              "      <th>1</th>\n",
              "      <td>428</td>\n",
              "      <td>2</td>\n",
              "      <td>163</td>\n",
              "      <td>75</td>\n",
              "      <td>1</td>\n",
              "      <td>2</td>\n",
              "      <td>1</td>\n",
              "      <td>4</td>\n",
              "      <td>1951-01-08</td>\n",
              "      <td>1</td>\n",
              "      <td>2006-07-24</td>\n",
              "      <td>55.540041</td>\n",
              "      <td>428</td>\n",
              "      <td>Guys</td>\n",
              "      <td>T1</td>\n",
              "      <td>/content/drive/My Drive/Image_Registration_Pro...</td>\n",
              "      <td>50-60</td>\n",
              "      <td>train_unlearn</td>\n",
              "    </tr>\n",
              "    <tr>\n",
              "      <th>2</th>\n",
              "      <td>429</td>\n",
              "      <td>2</td>\n",
              "      <td>155</td>\n",
              "      <td>61</td>\n",
              "      <td>1</td>\n",
              "      <td>2</td>\n",
              "      <td>2</td>\n",
              "      <td>4</td>\n",
              "      <td>1951-01-08</td>\n",
              "      <td>1</td>\n",
              "      <td>2006-07-24</td>\n",
              "      <td>55.540041</td>\n",
              "      <td>429</td>\n",
              "      <td>Guys</td>\n",
              "      <td>T1</td>\n",
              "      <td>/content/drive/My Drive/Image_Registration_Pro...</td>\n",
              "      <td>50-60</td>\n",
              "      <td>train_learn</td>\n",
              "    </tr>\n",
              "    <tr>\n",
              "      <th>3</th>\n",
              "      <td>430</td>\n",
              "      <td>2</td>\n",
              "      <td>166</td>\n",
              "      <td>70</td>\n",
              "      <td>1</td>\n",
              "      <td>4</td>\n",
              "      <td>5</td>\n",
              "      <td>5</td>\n",
              "      <td>1934-07-02</td>\n",
              "      <td>1</td>\n",
              "      <td>2006-07-04</td>\n",
              "      <td>72.005476</td>\n",
              "      <td>430</td>\n",
              "      <td>IOP</td>\n",
              "      <td>T1</td>\n",
              "      <td>/content/drive/My Drive/Image_Registration_Pro...</td>\n",
              "      <td>70-80</td>\n",
              "      <td>train_learn</td>\n",
              "    </tr>\n",
              "    <tr>\n",
              "      <th>4</th>\n",
              "      <td>431</td>\n",
              "      <td>2</td>\n",
              "      <td>163</td>\n",
              "      <td>58</td>\n",
              "      <td>1</td>\n",
              "      <td>2</td>\n",
              "      <td>2</td>\n",
              "      <td>5</td>\n",
              "      <td>1947-10-05</td>\n",
              "      <td>1</td>\n",
              "      <td>2006-07-17</td>\n",
              "      <td>58.781656</td>\n",
              "      <td>431</td>\n",
              "      <td>Guys</td>\n",
              "      <td>T1</td>\n",
              "      <td>/content/drive/My Drive/Image_Registration_Pro...</td>\n",
              "      <td>50-60</td>\n",
              "      <td>train_learn</td>\n",
              "    </tr>\n",
              "  </tbody>\n",
              "</table>\n",
              "</div>"
            ],
            "text/plain": [
              "   IXI_ID  SEX_ID (1=m, 2=f)  ...  age_disc   dataset_flag\n",
              "0      60                  1  ...     30-40    train_learn\n",
              "1     428                  2  ...     50-60  train_unlearn\n",
              "2     429                  2  ...     50-60    train_learn\n",
              "3     430                  2  ...     70-80    train_learn\n",
              "4     431                  2  ...     50-60    train_learn\n",
              "\n",
              "[5 rows x 18 columns]"
            ]
          },
          "metadata": {
            "tags": []
          },
          "execution_count": 86
        }
      ]
    },
    {
      "cell_type": "markdown",
      "metadata": {
        "id": "7WhG1i1Vy8ge"
      },
      "source": [
        "From below count plot it is evident that"
      ]
    },
    {
      "cell_type": "code",
      "metadata": {
        "colab": {
          "base_uri": "https://localhost:8080/",
          "height": 458
        },
        "id": "Nd2yVaKmodAs",
        "outputId": "77c97e68-f281-4c7a-d700-1df796eef72f"
      },
      "source": [
        "plt.figure(figsize=(15, 7))\n",
        "sns.countplot(x=\"dataset_flag\", data=filtered_df, hue=\"scanner_name\")"
      ],
      "execution_count": 87,
      "outputs": [
        {
          "output_type": "execute_result",
          "data": {
            "text/plain": [
              "<matplotlib.axes._subplots.AxesSubplot at 0x7fc56aa34850>"
            ]
          },
          "metadata": {
            "tags": []
          },
          "execution_count": 87
        },
        {
          "output_type": "display_data",
          "data": {
            "image/png": "[encoded data removed]",
            "text/plain": [
              "<Figure size 1080x504 with 1 Axes>"
            ]
          },
          "metadata": {
            "tags": [],
            "needs_background": "light"
          }
        }
      ]
    },
    {
      "cell_type": "code",
      "metadata": {
        "colab": {
          "base_uri": "https://localhost:8080/",
          "height": 415
        },
        "id": "EmPraWhPyoUE",
        "outputId": "340bf4b5-27b5-451c-9157-24403d308210"
      },
      "source": [
        "plt.figure(figsize=(20, 10))\n",
        "sns.catplot(x=\"age_disc\", data=filtered_df, col=\"scanner_name\", hue=\"dataset_flag\", kind=\"count\")"
      ],
      "execution_count": 92,
      "outputs": [
        {
          "output_type": "execute_result",
          "data": {
            "text/plain": [
              "<seaborn.axisgrid.FacetGrid at 0x7fc5619b6e50>"
            ]
          },
          "metadata": {
            "tags": []
          },
          "execution_count": 92
        },
        {
          "output_type": "display_data",
          "data": {
            "text/plain": [
              "<Figure size 1440x720 with 0 Axes>"
            ]
          },
          "metadata": {
            "tags": []
          }
        },
        {
          "output_type": "display_data",
          "data": {
            "image/png": "[encoded data removed]",
            "text/plain": [
              "<Figure size 1182.62x360 with 3 Axes>"
            ]
          },
          "metadata": {
            "tags": [],
            "needs_background": "light"
          }
        }
      ]
    },
    {
      "cell_type": "code",
      "metadata": {
        "id": "YG77T0DIXVuK"
      },
      "source": [
        "def load_4D(name):\n",
        "        model_np = np.zeros(shape=(128, 128, 128))\n",
        "        resamplng_shape = (128, 128, 128)\n",
        "        X_nb = nb.load(name)\n",
        "        #print(X_nb)\n",
        "        X_np = X_nb.dataobj\n",
        "        #print(X_np)\n",
        "        x_dim, y_dim, z_dim = X_np.shape\n",
        "        #print(x_dim, y_dim, z_dim)\n",
        "        x_ltail = (resamplng_shape[0] - x_dim)//2 \n",
        "        y_ltail = (resamplng_shape[1] - y_dim)//2\n",
        "        z_ltail = (resamplng_shape[2] - z_dim)//2\n",
        "        #print(x_ltail,y_ltail,z_ltail)\n",
        "\n",
        "        x_rtail = resamplng_shape[0] - x_ltail - 1\n",
        "        y_rtail = resamplng_shape[1] - y_ltail - 1\n",
        "        z_rtail = resamplng_shape[2] - z_ltail - 1\n",
        "        #print(x_rtail,y_rtail,z_rtail)\n",
        "        model_np[x_ltail:x_rtail, y_ltail:y_rtail, z_ltail:z_rtail] = X_np[:, :, :]\n",
        "        #print(model_np)\n",
        "        return model_np\n",
        "\n",
        "def imgnorm(N_I,index1=0.0001,index2=0.0001):\n",
        "    I_sort = np.sort(N_I.flatten())\n",
        "    I_min = I_sort[int(index1*len(I_sort))]\n",
        "    I_max = I_sort[-int(index2*len(I_sort))]\n",
        "    N_I =1.0*(N_I-I_min)/(I_max-I_min)\n",
        "    N_I[N_I>1.0]=1.0\n",
        "    N_I[N_I<0.0]=0.0\n",
        "    N_I2 = N_I.astype(np.float32)\n",
        "    return N_I2\n",
        "\n",
        "def Norm_Zscore(img):\n",
        "    img= (img-np.mean(img))/np.std(img) \n",
        "    return img\n",
        "\n",
        "def save_img(I_img,savename):\n",
        "    I2 = sitk.GetImageFromArray(I_img,isVector=False)\n",
        "    sitk.WriteImage(I2,savename)"
      ],
      "execution_count": null,
      "outputs": []
    },
    {
      "cell_type": "code",
      "metadata": {
        "id": "udfrDOVZR0HE"
      },
      "source": [
        "class Dataset(Data.Dataset):\n",
        "  'Characterizes a dataset for PyTorch'\n",
        "  def __init__(self, df = filtered_df, iterations =1,norm=True):\n",
        "        self.df = df\n",
        "        self.norm = norm\n",
        "        self.iterations = iterations\n",
        "  def __len__(self):\n",
        "        'Denotes the total number of samples'\n",
        "        return len(self.names_t1) * self.iterations\n",
        "\n",
        "  def __getitem__(self, step):\n",
        "        'Generates one sample of data'\n",
        "        # index_pair = np.random.permutation(len(self.names)) [0:4]\n",
        "        img_A = load_4D(self.names_t1[step])\n",
        "        img_B = load_4D(self.names_t2[step])     \n",
        "        \n",
        "        if self.norm:\n",
        "            # return  Norm_Zscore(imgnorm(img_A)) , Norm_Zscore(imgnorm(img_B))\n",
        "            return  imgnorm(img_A) , imgnorm(img_B)\n",
        "        else:\n",
        "            return img_A, img_B"
      ],
      "execution_count": null,
      "outputs": []
    }
  ]
}