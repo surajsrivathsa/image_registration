{
  "nbformat": 4,
  "nbformat_minor": 0,
  "metadata": {
    "colab": {
      "name": "MRI_Data_Harmonization.ipynb",
      "provenance": [],
      "authorship_tag": "ABX9TyP/Yhnul6M5brlF0CQnZkxk",
      "include_colab_link": true
    },
    "kernelspec": {
      "name": "python3",
      "display_name": "Python 3"
    },
    "language_info": {
      "name": "python"
    },
    "accelerator": "GPU"
  },
  "cells": [
    {
      "cell_type": "markdown",
      "metadata": {
        "id": "view-in-github",
        "colab_type": "text"
      },
      "source": [
        "<a href=\"https://colab.research.google.com/github/surajsrivathsa/image_registration/blob/main/MRI_Data_Harmonization.ipynb\" target=\"_parent\"><img src=\"https://colab.research.google.com/assets/colab-badge.svg\" alt=\"Open In Colab\"/></a>"
      ]
    },
    {
      "cell_type": "markdown",
      "metadata": {
        "id": "RRsWi7UwV4Rp"
      },
      "source": [
        "# Preamble"
      ]
    },
    {
      "cell_type": "code",
      "metadata": {
        "id": "yGU_RJ5F25Ky"
      },
      "source": [
        "# !pip install --upgrade nibabel"
      ],
      "execution_count": null,
      "outputs": []
    },
    {
      "cell_type": "code",
      "metadata": {
        "id": "rPRgYP743rDZ",
        "colab": {
          "base_uri": "https://localhost:8080/"
        },
        "outputId": "b88f3b38-f4bd-4673-bbf5-2cf166f68414"
      },
      "source": [
        "import warnings\n",
        "import os\n",
        "warnings.filterwarnings(\"ignore\")\n",
        "import numpy as np\n",
        "import torch\n",
        "print(torch.__version__)\n",
        "import torchvision\n",
        "print(torchvision.__version__)\n",
        "import torch \n",
        "import torch.nn as nn\n",
        "import torch.nn.functional as F\n",
        "import torch.utils.data as Data\n",
        "import nibabel as nb\n",
        "import os, sys, glob\n",
        "from google.colab import drive\n",
        "drive.mount('/content/drive')\n",
        "print()"
      ],
      "execution_count": null,
      "outputs": [
        {
          "output_type": "stream",
          "text": [
            "1.8.0+cu101\n",
            "0.9.0+cu101\n",
            "Mounted at /content/drive\n",
            "\n"
          ],
          "name": "stdout"
        }
      ]
    },
    {
      "cell_type": "code",
      "metadata": {
        "id": "C499dQF-HYE0"
      },
      "source": [
        "import pandas as pd\n",
        "import matplotlib.pyplot as plt\n",
        "import re\n",
        "import seaborn as sns\n",
        "import collections"
      ],
      "execution_count": null,
      "outputs": []
    },
    {
      "cell_type": "code",
      "metadata": {
        "id": "dsQ1Og8Xmncz"
      },
      "source": [
        "import time\n",
        "from sklearn.decomposition import PCA\n",
        "from sklearn.manifold import TSNE"
      ],
      "execution_count": null,
      "outputs": []
    },
    {
      "cell_type": "code",
      "metadata": {
        "id": "HcQreD_r3rJY"
      },
      "source": [
        "data_path_t1 = \"/content/drive/My Drive/Image_Registration_Project/dataset_ants_resampled/T1_Train_200_Reg_downsampled_znm/\"\n",
        "data_path_t2 = \"/content/drive/My Drive/Image_Registration_Project/dataset_ants_resampled/T1_Train_200_Reg_downsampled_znm/\"\n",
        "ixi_xls_path = \"/content/drive/My Drive/Image_Registration_Project/dataset_ants_resampled/IXI.xls\"\n",
        "file_names_t1 = sorted(glob.glob(os.path.join(data_path_t1, \"*.nii.gz\")))\n",
        "file_names_t2 = sorted(glob.glob(os.path.join(data_path_t2, \"*.nii.gz\")))"
      ],
      "execution_count": null,
      "outputs": []
    },
    {
      "cell_type": "code",
      "metadata": {
        "colab": {
          "base_uri": "https://localhost:8080/",
          "height": 201
        },
        "id": "HJgY4Ba9HJS1",
        "outputId": "f73058a3-77b6-4da7-8d95-f7f71489af1f"
      },
      "source": [
        "ixi_df = pd.read_excel(ixi_xls_path, sheet_name=\"Table\")\n",
        "ixi_df.head()"
      ],
      "execution_count": null,
      "outputs": [
        {
          "output_type": "execute_result",
          "data": {
            "text/html": [
              "<div>\n",
              "<style scoped>\n",
              "    .dataframe tbody tr th:only-of-type {\n",
              "        vertical-align: middle;\n",
              "    }\n",
              "\n",
              "    .dataframe tbody tr th {\n",
              "        vertical-align: top;\n",
              "    }\n",
              "\n",
              "    .dataframe thead th {\n",
              "        text-align: right;\n",
              "    }\n",
              "</style>\n",
              "<table border=\"1\" class=\"dataframe\">\n",
              "  <thead>\n",
              "    <tr style=\"text-align: right;\">\n",
              "      <th></th>\n",
              "      <th>IXI_ID</th>\n",
              "      <th>SEX_ID (1=m, 2=f)</th>\n",
              "      <th>HEIGHT</th>\n",
              "      <th>WEIGHT</th>\n",
              "      <th>ETHNIC_ID</th>\n",
              "      <th>MARITAL_ID</th>\n",
              "      <th>OCCUPATION_ID</th>\n",
              "      <th>QUALIFICATION_ID</th>\n",
              "      <th>DOB</th>\n",
              "      <th>DATE_AVAILABLE</th>\n",
              "      <th>STUDY_DATE</th>\n",
              "      <th>AGE</th>\n",
              "    </tr>\n",
              "  </thead>\n",
              "  <tbody>\n",
              "    <tr>\n",
              "      <th>0</th>\n",
              "      <td>1</td>\n",
              "      <td>1</td>\n",
              "      <td>170</td>\n",
              "      <td>80</td>\n",
              "      <td>2</td>\n",
              "      <td>3</td>\n",
              "      <td>5</td>\n",
              "      <td>2</td>\n",
              "      <td>1968-02-22</td>\n",
              "      <td>0</td>\n",
              "      <td>NaT</td>\n",
              "      <td>NaN</td>\n",
              "    </tr>\n",
              "    <tr>\n",
              "      <th>1</th>\n",
              "      <td>2</td>\n",
              "      <td>2</td>\n",
              "      <td>164</td>\n",
              "      <td>58</td>\n",
              "      <td>1</td>\n",
              "      <td>4</td>\n",
              "      <td>1</td>\n",
              "      <td>5</td>\n",
              "      <td>1970-01-30</td>\n",
              "      <td>1</td>\n",
              "      <td>2005-11-18</td>\n",
              "      <td>35.800137</td>\n",
              "    </tr>\n",
              "    <tr>\n",
              "      <th>2</th>\n",
              "      <td>12</td>\n",
              "      <td>1</td>\n",
              "      <td>175</td>\n",
              "      <td>70</td>\n",
              "      <td>1</td>\n",
              "      <td>2</td>\n",
              "      <td>1</td>\n",
              "      <td>5</td>\n",
              "      <td>1966-08-20</td>\n",
              "      <td>1</td>\n",
              "      <td>2005-06-01</td>\n",
              "      <td>38.781656</td>\n",
              "    </tr>\n",
              "    <tr>\n",
              "      <th>3</th>\n",
              "      <td>13</td>\n",
              "      <td>1</td>\n",
              "      <td>182</td>\n",
              "      <td>70</td>\n",
              "      <td>1</td>\n",
              "      <td>2</td>\n",
              "      <td>1</td>\n",
              "      <td>5</td>\n",
              "      <td>1958-09-15</td>\n",
              "      <td>1</td>\n",
              "      <td>2005-06-01</td>\n",
              "      <td>46.710472</td>\n",
              "    </tr>\n",
              "    <tr>\n",
              "      <th>4</th>\n",
              "      <td>14</td>\n",
              "      <td>2</td>\n",
              "      <td>163</td>\n",
              "      <td>65</td>\n",
              "      <td>1</td>\n",
              "      <td>4</td>\n",
              "      <td>1</td>\n",
              "      <td>5</td>\n",
              "      <td>1971-03-15</td>\n",
              "      <td>1</td>\n",
              "      <td>2005-06-09</td>\n",
              "      <td>34.236824</td>\n",
              "    </tr>\n",
              "  </tbody>\n",
              "</table>\n",
              "</div>"
            ],
            "text/plain": [
              "   IXI_ID  SEX_ID (1=m, 2=f)  HEIGHT  ...  DATE_AVAILABLE  STUDY_DATE        AGE\n",
              "0       1                  1     170  ...               0         NaT        NaN\n",
              "1       2                  2     164  ...               1  2005-11-18  35.800137\n",
              "2      12                  1     175  ...               1  2005-06-01  38.781656\n",
              "3      13                  1     182  ...               1  2005-06-01  46.710472\n",
              "4      14                  2     163  ...               1  2005-06-09  34.236824\n",
              "\n",
              "[5 rows x 12 columns]"
            ]
          },
          "metadata": {
            "tags": []
          },
          "execution_count": 5
        }
      ]
    },
    {
      "cell_type": "code",
      "metadata": {
        "colab": {
          "base_uri": "https://localhost:8080/",
          "height": 291
        },
        "id": "X4vAVMplPuf8",
        "outputId": "0ae93329-970f-46d3-f8e8-07e26efd5ae4"
      },
      "source": [
        "ixi_df.describe()"
      ],
      "execution_count": null,
      "outputs": [
        {
          "output_type": "execute_result",
          "data": {
            "text/html": [
              "<div>\n",
              "<style scoped>\n",
              "    .dataframe tbody tr th:only-of-type {\n",
              "        vertical-align: middle;\n",
              "    }\n",
              "\n",
              "    .dataframe tbody tr th {\n",
              "        vertical-align: top;\n",
              "    }\n",
              "\n",
              "    .dataframe thead th {\n",
              "        text-align: right;\n",
              "    }\n",
              "</style>\n",
              "<table border=\"1\" class=\"dataframe\">\n",
              "  <thead>\n",
              "    <tr style=\"text-align: right;\">\n",
              "      <th></th>\n",
              "      <th>IXI_ID</th>\n",
              "      <th>SEX_ID (1=m, 2=f)</th>\n",
              "      <th>HEIGHT</th>\n",
              "      <th>WEIGHT</th>\n",
              "      <th>ETHNIC_ID</th>\n",
              "      <th>MARITAL_ID</th>\n",
              "      <th>OCCUPATION_ID</th>\n",
              "      <th>QUALIFICATION_ID</th>\n",
              "      <th>DATE_AVAILABLE</th>\n",
              "      <th>AGE</th>\n",
              "    </tr>\n",
              "  </thead>\n",
              "  <tbody>\n",
              "    <tr>\n",
              "      <th>count</th>\n",
              "      <td>619.000000</td>\n",
              "      <td>619.000000</td>\n",
              "      <td>619.000000</td>\n",
              "      <td>619.000000</td>\n",
              "      <td>619.000000</td>\n",
              "      <td>619.000000</td>\n",
              "      <td>619.00000</td>\n",
              "      <td>619.000000</td>\n",
              "      <td>619.000000</td>\n",
              "      <td>590.000000</td>\n",
              "    </tr>\n",
              "    <tr>\n",
              "      <th>mean</th>\n",
              "      <td>335.399031</td>\n",
              "      <td>1.552504</td>\n",
              "      <td>160.466882</td>\n",
              "      <td>70.195477</td>\n",
              "      <td>1.374798</td>\n",
              "      <td>2.016155</td>\n",
              "      <td>2.50727</td>\n",
              "      <td>3.733441</td>\n",
              "      <td>0.957997</td>\n",
              "      <td>49.416235</td>\n",
              "    </tr>\n",
              "    <tr>\n",
              "      <th>std</th>\n",
              "      <td>185.351230</td>\n",
              "      <td>0.497638</td>\n",
              "      <td>99.604071</td>\n",
              "      <td>56.802863</td>\n",
              "      <td>1.122762</td>\n",
              "      <td>1.280826</td>\n",
              "      <td>2.05535</td>\n",
              "      <td>1.662949</td>\n",
              "      <td>0.200759</td>\n",
              "      <td>16.715313</td>\n",
              "    </tr>\n",
              "    <tr>\n",
              "      <th>min</th>\n",
              "      <td>1.000000</td>\n",
              "      <td>1.000000</td>\n",
              "      <td>0.000000</td>\n",
              "      <td>0.000000</td>\n",
              "      <td>0.000000</td>\n",
              "      <td>0.000000</td>\n",
              "      <td>0.00000</td>\n",
              "      <td>0.000000</td>\n",
              "      <td>0.000000</td>\n",
              "      <td>19.980835</td>\n",
              "    </tr>\n",
              "    <tr>\n",
              "      <th>25%</th>\n",
              "      <td>176.500000</td>\n",
              "      <td>1.000000</td>\n",
              "      <td>160.000000</td>\n",
              "      <td>60.000000</td>\n",
              "      <td>1.000000</td>\n",
              "      <td>1.000000</td>\n",
              "      <td>1.00000</td>\n",
              "      <td>3.000000</td>\n",
              "      <td>1.000000</td>\n",
              "      <td>34.000000</td>\n",
              "    </tr>\n",
              "    <tr>\n",
              "      <th>50%</th>\n",
              "      <td>341.000000</td>\n",
              "      <td>2.000000</td>\n",
              "      <td>168.000000</td>\n",
              "      <td>70.000000</td>\n",
              "      <td>1.000000</td>\n",
              "      <td>2.000000</td>\n",
              "      <td>1.00000</td>\n",
              "      <td>5.000000</td>\n",
              "      <td>1.000000</td>\n",
              "      <td>50.611910</td>\n",
              "    </tr>\n",
              "    <tr>\n",
              "      <th>75%</th>\n",
              "      <td>498.000000</td>\n",
              "      <td>2.000000</td>\n",
              "      <td>176.000000</td>\n",
              "      <td>80.000000</td>\n",
              "      <td>1.000000</td>\n",
              "      <td>3.000000</td>\n",
              "      <td>5.00000</td>\n",
              "      <td>5.000000</td>\n",
              "      <td>1.000000</td>\n",
              "      <td>63.355921</td>\n",
              "    </tr>\n",
              "    <tr>\n",
              "      <th>max</th>\n",
              "      <td>662.000000</td>\n",
              "      <td>2.000000</td>\n",
              "      <td>1850.000000</td>\n",
              "      <td>960.000000</td>\n",
              "      <td>6.000000</td>\n",
              "      <td>5.000000</td>\n",
              "      <td>8.00000</td>\n",
              "      <td>5.000000</td>\n",
              "      <td>1.000000</td>\n",
              "      <td>86.318960</td>\n",
              "    </tr>\n",
              "  </tbody>\n",
              "</table>\n",
              "</div>"
            ],
            "text/plain": [
              "           IXI_ID  SEX_ID (1=m, 2=f)  ...  DATE_AVAILABLE         AGE\n",
              "count  619.000000         619.000000  ...      619.000000  590.000000\n",
              "mean   335.399031           1.552504  ...        0.957997   49.416235\n",
              "std    185.351230           0.497638  ...        0.200759   16.715313\n",
              "min      1.000000           1.000000  ...        0.000000   19.980835\n",
              "25%    176.500000           1.000000  ...        1.000000   34.000000\n",
              "50%    341.000000           2.000000  ...        1.000000   50.611910\n",
              "75%    498.000000           2.000000  ...        1.000000   63.355921\n",
              "max    662.000000           2.000000  ...        1.000000   86.318960\n",
              "\n",
              "[8 rows x 10 columns]"
            ]
          },
          "metadata": {
            "tags": []
          },
          "execution_count": 6
        }
      ]
    },
    {
      "cell_type": "markdown",
      "metadata": {
        "id": "WXxhfCbAQBcz"
      },
      "source": [
        "duplicate records in ixi excel file must be dropped to ensure one-one join later"
      ]
    },
    {
      "cell_type": "code",
      "metadata": {
        "id": "QggyEeUPPzly"
      },
      "source": [
        "ixi_df.drop_duplicates(subset=['IXI_ID'], keep='first', inplace=True)"
      ],
      "execution_count": null,
      "outputs": []
    },
    {
      "cell_type": "code",
      "metadata": {
        "id": "IkjgyfMi3rMc",
        "colab": {
          "base_uri": "https://localhost:8080/"
        },
        "outputId": "b0b48ad6-76d7-4e4e-fa03-fba888d5db4b"
      },
      "source": [
        "count = 0\n",
        "ixi_id = []\n",
        "scanner_name = []\n",
        "contrast_type = []\n",
        "file_path = []\n",
        "for root, dirs, files in os.walk(data_path_t1):\n",
        "  for file in files:\n",
        "    parameters_search = re.search('reg_IXI(\\d*)-(\\w*)-(\\d*)-(\\w*)_downsampled_hm_zscore(.*?)', file, re.IGNORECASE)\n",
        "    \n",
        "    if parameters_search:\n",
        "      ixi_id.append(int(parameters_search.group(1)))\n",
        "      scanner_name.append(parameters_search.group(2))\n",
        "      contrast_type.append(parameters_search.group(4))\n",
        "      file_path.append(os.path.join(data_path_t1, file))\n",
        "  \n",
        "    count = count+1\n",
        "  \n",
        "  print(\"processed {} files\".format(count))"
      ],
      "execution_count": null,
      "outputs": [
        {
          "output_type": "stream",
          "text": [
            "processed 201 files\n"
          ],
          "name": "stdout"
        }
      ]
    },
    {
      "cell_type": "markdown",
      "metadata": {
        "id": "WqdYZb3yQHJ1"
      },
      "source": [
        "check for ixi_id duplicates in our regexed list"
      ]
    },
    {
      "cell_type": "code",
      "metadata": {
        "id": "uAEPnYWfP_DK",
        "colab": {
          "base_uri": "https://localhost:8080/"
        },
        "outputId": "600e5dec-45e5-4dec-fa61-d4d1b441b385"
      },
      "source": [
        "print([item for item, count in collections.Counter(ixi_id).items() if count > 1])"
      ],
      "execution_count": null,
      "outputs": [
        {
          "output_type": "stream",
          "text": [
            "[]\n"
          ],
          "name": "stdout"
        }
      ]
    },
    {
      "cell_type": "code",
      "metadata": {
        "colab": {
          "base_uri": "https://localhost:8080/"
        },
        "id": "o7HtDIasF3VN",
        "outputId": "553b2dd6-019c-4c0b-d8d4-8697253d68ef"
      },
      "source": [
        "contrast_type[0:3]"
      ],
      "execution_count": null,
      "outputs": [
        {
          "output_type": "execute_result",
          "data": {
            "text/plain": [
              "['T1', 'T1', 'T1']"
            ]
          },
          "metadata": {
            "tags": []
          },
          "execution_count": 10
        }
      ]
    },
    {
      "cell_type": "code",
      "metadata": {
        "colab": {
          "base_uri": "https://localhost:8080/"
        },
        "id": "Sf15Wg3-F86S",
        "outputId": "520dbf06-8756-4132-f7b5-b485e0af0d53"
      },
      "source": [
        "scanner_name[0:3]"
      ],
      "execution_count": null,
      "outputs": [
        {
          "output_type": "execute_result",
          "data": {
            "text/plain": [
              "['IOP', 'Guys', 'Guys']"
            ]
          },
          "metadata": {
            "tags": []
          },
          "execution_count": 11
        }
      ]
    },
    {
      "cell_type": "code",
      "metadata": {
        "colab": {
          "base_uri": "https://localhost:8080/"
        },
        "id": "UmYyWOtMLnRf",
        "outputId": "3b37b665-4913-4e35-b16d-0b57ba1a4b0e"
      },
      "source": [
        "ixi_id[0:3]"
      ],
      "execution_count": null,
      "outputs": [
        {
          "output_type": "execute_result",
          "data": {
            "text/plain": [
              "[433, 429, 431]"
            ]
          },
          "metadata": {
            "tags": []
          },
          "execution_count": 12
        }
      ]
    },
    {
      "cell_type": "code",
      "metadata": {
        "colab": {
          "base_uri": "https://localhost:8080/",
          "height": 201
        },
        "id": "q7kKO3o8Lpy2",
        "outputId": "51e3fd8c-846e-40c6-9559-c983a53a6e9e"
      },
      "source": [
        "our_df = pd.DataFrame(data={ \"our_ixi_id\": ixi_id, \"scanner_name\": scanner_name, \"contrast_type\": contrast_type, \"file_path\": file_path} )\n",
        "our_df.head()"
      ],
      "execution_count": null,
      "outputs": [
        {
          "output_type": "execute_result",
          "data": {
            "text/html": [
              "<div>\n",
              "<style scoped>\n",
              "    .dataframe tbody tr th:only-of-type {\n",
              "        vertical-align: middle;\n",
              "    }\n",
              "\n",
              "    .dataframe tbody tr th {\n",
              "        vertical-align: top;\n",
              "    }\n",
              "\n",
              "    .dataframe thead th {\n",
              "        text-align: right;\n",
              "    }\n",
              "</style>\n",
              "<table border=\"1\" class=\"dataframe\">\n",
              "  <thead>\n",
              "    <tr style=\"text-align: right;\">\n",
              "      <th></th>\n",
              "      <th>our_ixi_id</th>\n",
              "      <th>scanner_name</th>\n",
              "      <th>contrast_type</th>\n",
              "      <th>file_path</th>\n",
              "    </tr>\n",
              "  </thead>\n",
              "  <tbody>\n",
              "    <tr>\n",
              "      <th>0</th>\n",
              "      <td>433</td>\n",
              "      <td>IOP</td>\n",
              "      <td>T1</td>\n",
              "      <td>/content/drive/My Drive/Image_Registration_Pro...</td>\n",
              "    </tr>\n",
              "    <tr>\n",
              "      <th>1</th>\n",
              "      <td>429</td>\n",
              "      <td>Guys</td>\n",
              "      <td>T1</td>\n",
              "      <td>/content/drive/My Drive/Image_Registration_Pro...</td>\n",
              "    </tr>\n",
              "    <tr>\n",
              "      <th>2</th>\n",
              "      <td>431</td>\n",
              "      <td>Guys</td>\n",
              "      <td>T1</td>\n",
              "      <td>/content/drive/My Drive/Image_Registration_Pro...</td>\n",
              "    </tr>\n",
              "    <tr>\n",
              "      <th>3</th>\n",
              "      <td>430</td>\n",
              "      <td>IOP</td>\n",
              "      <td>T1</td>\n",
              "      <td>/content/drive/My Drive/Image_Registration_Pro...</td>\n",
              "    </tr>\n",
              "    <tr>\n",
              "      <th>4</th>\n",
              "      <td>432</td>\n",
              "      <td>Guys</td>\n",
              "      <td>T1</td>\n",
              "      <td>/content/drive/My Drive/Image_Registration_Pro...</td>\n",
              "    </tr>\n",
              "  </tbody>\n",
              "</table>\n",
              "</div>"
            ],
            "text/plain": [
              "   our_ixi_id  ...                                          file_path\n",
              "0         433  ...  /content/drive/My Drive/Image_Registration_Pro...\n",
              "1         429  ...  /content/drive/My Drive/Image_Registration_Pro...\n",
              "2         431  ...  /content/drive/My Drive/Image_Registration_Pro...\n",
              "3         430  ...  /content/drive/My Drive/Image_Registration_Pro...\n",
              "4         432  ...  /content/drive/My Drive/Image_Registration_Pro...\n",
              "\n",
              "[5 rows x 4 columns]"
            ]
          },
          "metadata": {
            "tags": []
          },
          "execution_count": 13
        }
      ]
    },
    {
      "cell_type": "markdown",
      "metadata": {
        "id": "eQMz54fzQYal"
      },
      "source": [
        "IOP scanner info is pretty less, In each batch there should be atleast some IOP. Both learning and unlearning. Ofcourse this has to be decided based on age."
      ]
    },
    {
      "cell_type": "code",
      "metadata": {
        "id": "hV2AxYFFNWrE"
      },
      "source": [
        "filtered_df = pd.merge(left = ixi_df, right=our_df, left_on=\"IXI_ID\", right_on=\"our_ixi_id\", how=\"inner\", validate=\"one_to_one\")"
      ],
      "execution_count": null,
      "outputs": []
    },
    {
      "cell_type": "code",
      "metadata": {
        "colab": {
          "base_uri": "https://localhost:8080/",
          "height": 336
        },
        "id": "SXOEUdafO2ja",
        "outputId": "24e01682-ec77-4c04-97b4-a26fdc2a6447"
      },
      "source": [
        "filtered_df.head()"
      ],
      "execution_count": null,
      "outputs": [
        {
          "output_type": "execute_result",
          "data": {
            "text/html": [
              "<div>\n",
              "<style scoped>\n",
              "    .dataframe tbody tr th:only-of-type {\n",
              "        vertical-align: middle;\n",
              "    }\n",
              "\n",
              "    .dataframe tbody tr th {\n",
              "        vertical-align: top;\n",
              "    }\n",
              "\n",
              "    .dataframe thead th {\n",
              "        text-align: right;\n",
              "    }\n",
              "</style>\n",
              "<table border=\"1\" class=\"dataframe\">\n",
              "  <thead>\n",
              "    <tr style=\"text-align: right;\">\n",
              "      <th></th>\n",
              "      <th>IXI_ID</th>\n",
              "      <th>SEX_ID (1=m, 2=f)</th>\n",
              "      <th>HEIGHT</th>\n",
              "      <th>WEIGHT</th>\n",
              "      <th>ETHNIC_ID</th>\n",
              "      <th>MARITAL_ID</th>\n",
              "      <th>OCCUPATION_ID</th>\n",
              "      <th>QUALIFICATION_ID</th>\n",
              "      <th>DOB</th>\n",
              "      <th>DATE_AVAILABLE</th>\n",
              "      <th>STUDY_DATE</th>\n",
              "      <th>AGE</th>\n",
              "      <th>our_ixi_id</th>\n",
              "      <th>scanner_name</th>\n",
              "      <th>contrast_type</th>\n",
              "      <th>file_path</th>\n",
              "    </tr>\n",
              "  </thead>\n",
              "  <tbody>\n",
              "    <tr>\n",
              "      <th>0</th>\n",
              "      <td>60</td>\n",
              "      <td>1</td>\n",
              "      <td>180</td>\n",
              "      <td>75</td>\n",
              "      <td>1</td>\n",
              "      <td>2</td>\n",
              "      <td>1</td>\n",
              "      <td>5</td>\n",
              "      <td>1974-10-26</td>\n",
              "      <td>1</td>\n",
              "      <td>2005-07-08</td>\n",
              "      <td>30.699521</td>\n",
              "      <td>60</td>\n",
              "      <td>Guys</td>\n",
              "      <td>T1</td>\n",
              "      <td>/content/drive/My Drive/Image_Registration_Pro...</td>\n",
              "    </tr>\n",
              "    <tr>\n",
              "      <th>1</th>\n",
              "      <td>428</td>\n",
              "      <td>2</td>\n",
              "      <td>163</td>\n",
              "      <td>75</td>\n",
              "      <td>1</td>\n",
              "      <td>2</td>\n",
              "      <td>1</td>\n",
              "      <td>4</td>\n",
              "      <td>1951-01-08</td>\n",
              "      <td>1</td>\n",
              "      <td>2006-07-24</td>\n",
              "      <td>55.540041</td>\n",
              "      <td>428</td>\n",
              "      <td>Guys</td>\n",
              "      <td>T1</td>\n",
              "      <td>/content/drive/My Drive/Image_Registration_Pro...</td>\n",
              "    </tr>\n",
              "    <tr>\n",
              "      <th>2</th>\n",
              "      <td>429</td>\n",
              "      <td>2</td>\n",
              "      <td>155</td>\n",
              "      <td>61</td>\n",
              "      <td>1</td>\n",
              "      <td>2</td>\n",
              "      <td>2</td>\n",
              "      <td>4</td>\n",
              "      <td>1951-01-08</td>\n",
              "      <td>1</td>\n",
              "      <td>2006-07-24</td>\n",
              "      <td>55.540041</td>\n",
              "      <td>429</td>\n",
              "      <td>Guys</td>\n",
              "      <td>T1</td>\n",
              "      <td>/content/drive/My Drive/Image_Registration_Pro...</td>\n",
              "    </tr>\n",
              "    <tr>\n",
              "      <th>3</th>\n",
              "      <td>430</td>\n",
              "      <td>2</td>\n",
              "      <td>166</td>\n",
              "      <td>70</td>\n",
              "      <td>1</td>\n",
              "      <td>4</td>\n",
              "      <td>5</td>\n",
              "      <td>5</td>\n",
              "      <td>1934-07-02</td>\n",
              "      <td>1</td>\n",
              "      <td>2006-07-04</td>\n",
              "      <td>72.005476</td>\n",
              "      <td>430</td>\n",
              "      <td>IOP</td>\n",
              "      <td>T1</td>\n",
              "      <td>/content/drive/My Drive/Image_Registration_Pro...</td>\n",
              "    </tr>\n",
              "    <tr>\n",
              "      <th>4</th>\n",
              "      <td>431</td>\n",
              "      <td>2</td>\n",
              "      <td>163</td>\n",
              "      <td>58</td>\n",
              "      <td>1</td>\n",
              "      <td>2</td>\n",
              "      <td>2</td>\n",
              "      <td>5</td>\n",
              "      <td>1947-10-05</td>\n",
              "      <td>1</td>\n",
              "      <td>2006-07-17</td>\n",
              "      <td>58.781656</td>\n",
              "      <td>431</td>\n",
              "      <td>Guys</td>\n",
              "      <td>T1</td>\n",
              "      <td>/content/drive/My Drive/Image_Registration_Pro...</td>\n",
              "    </tr>\n",
              "  </tbody>\n",
              "</table>\n",
              "</div>"
            ],
            "text/plain": [
              "   IXI_ID  ...                                          file_path\n",
              "0      60  ...  /content/drive/My Drive/Image_Registration_Pro...\n",
              "1     428  ...  /content/drive/My Drive/Image_Registration_Pro...\n",
              "2     429  ...  /content/drive/My Drive/Image_Registration_Pro...\n",
              "3     430  ...  /content/drive/My Drive/Image_Registration_Pro...\n",
              "4     431  ...  /content/drive/My Drive/Image_Registration_Pro...\n",
              "\n",
              "[5 rows x 16 columns]"
            ]
          },
          "metadata": {
            "tags": []
          },
          "execution_count": 15
        }
      ]
    },
    {
      "cell_type": "markdown",
      "metadata": {
        "id": "NSPhljBSoMH9"
      },
      "source": [
        "discretize age into bins of 10"
      ]
    },
    {
      "cell_type": "code",
      "metadata": {
        "id": "DgM7xUeLcUJI"
      },
      "source": [
        "bins = [0, 10, 20, 30, 40, 50, 60, 70, 80, 90, 100]\n",
        "labels = [\"0-10\", \"10-20\", \"20-30\", \"30-40\", \"40-50\", \"50-60\", \"60-70\", \"70-80\", \"80-90\", \"90-100\"]\n",
        "filtered_df['age_disc'] = pd.cut(filtered_df['AGE'], bins=bins, labels=labels)"
      ],
      "execution_count": null,
      "outputs": []
    },
    {
      "cell_type": "code",
      "metadata": {
        "colab": {
          "base_uri": "https://localhost:8080/",
          "height": 291
        },
        "id": "YjC8Z7bMcBc7",
        "outputId": "399d998f-8f7f-433a-b37f-8dfd28829a81"
      },
      "source": [
        "filtered_df[(filtered_df[\"scanner_name\"] == \"IOP\") & (filtered_df[\"age_disc\"].isin([\"50-60\", \"60-70\"]) ) ].describe()"
      ],
      "execution_count": null,
      "outputs": [
        {
          "output_type": "execute_result",
          "data": {
            "text/html": [
              "<div>\n",
              "<style scoped>\n",
              "    .dataframe tbody tr th:only-of-type {\n",
              "        vertical-align: middle;\n",
              "    }\n",
              "\n",
              "    .dataframe tbody tr th {\n",
              "        vertical-align: top;\n",
              "    }\n",
              "\n",
              "    .dataframe thead th {\n",
              "        text-align: right;\n",
              "    }\n",
              "</style>\n",
              "<table border=\"1\" class=\"dataframe\">\n",
              "  <thead>\n",
              "    <tr style=\"text-align: right;\">\n",
              "      <th></th>\n",
              "      <th>IXI_ID</th>\n",
              "      <th>SEX_ID (1=m, 2=f)</th>\n",
              "      <th>HEIGHT</th>\n",
              "      <th>WEIGHT</th>\n",
              "      <th>ETHNIC_ID</th>\n",
              "      <th>MARITAL_ID</th>\n",
              "      <th>OCCUPATION_ID</th>\n",
              "      <th>QUALIFICATION_ID</th>\n",
              "      <th>DATE_AVAILABLE</th>\n",
              "      <th>AGE</th>\n",
              "      <th>our_ixi_id</th>\n",
              "    </tr>\n",
              "  </thead>\n",
              "  <tbody>\n",
              "    <tr>\n",
              "      <th>count</th>\n",
              "      <td>5.000000</td>\n",
              "      <td>5.000000</td>\n",
              "      <td>5.00000</td>\n",
              "      <td>5.00000</td>\n",
              "      <td>5.0</td>\n",
              "      <td>5.000000</td>\n",
              "      <td>5.000000</td>\n",
              "      <td>5.00000</td>\n",
              "      <td>5.0</td>\n",
              "      <td>5.000000</td>\n",
              "      <td>5.000000</td>\n",
              "    </tr>\n",
              "    <tr>\n",
              "      <th>mean</th>\n",
              "      <td>494.200000</td>\n",
              "      <td>1.600000</td>\n",
              "      <td>163.40000</td>\n",
              "      <td>69.60000</td>\n",
              "      <td>1.0</td>\n",
              "      <td>1.600000</td>\n",
              "      <td>5.200000</td>\n",
              "      <td>4.20000</td>\n",
              "      <td>1.0</td>\n",
              "      <td>62.729090</td>\n",
              "      <td>494.200000</td>\n",
              "    </tr>\n",
              "    <tr>\n",
              "      <th>std</th>\n",
              "      <td>63.365606</td>\n",
              "      <td>0.547723</td>\n",
              "      <td>12.54193</td>\n",
              "      <td>18.98157</td>\n",
              "      <td>0.0</td>\n",
              "      <td>0.547723</td>\n",
              "      <td>0.447214</td>\n",
              "      <td>1.30384</td>\n",
              "      <td>0.0</td>\n",
              "      <td>7.282813</td>\n",
              "      <td>63.365606</td>\n",
              "    </tr>\n",
              "    <tr>\n",
              "      <th>min</th>\n",
              "      <td>434.000000</td>\n",
              "      <td>1.000000</td>\n",
              "      <td>153.00000</td>\n",
              "      <td>50.00000</td>\n",
              "      <td>1.0</td>\n",
              "      <td>1.000000</td>\n",
              "      <td>5.000000</td>\n",
              "      <td>2.00000</td>\n",
              "      <td>1.0</td>\n",
              "      <td>50.573580</td>\n",
              "      <td>434.000000</td>\n",
              "    </tr>\n",
              "    <tr>\n",
              "      <th>25%</th>\n",
              "      <td>442.000000</td>\n",
              "      <td>1.000000</td>\n",
              "      <td>157.00000</td>\n",
              "      <td>59.00000</td>\n",
              "      <td>1.0</td>\n",
              "      <td>1.000000</td>\n",
              "      <td>5.000000</td>\n",
              "      <td>4.00000</td>\n",
              "      <td>1.0</td>\n",
              "      <td>61.366188</td>\n",
              "      <td>442.000000</td>\n",
              "    </tr>\n",
              "    <tr>\n",
              "      <th>50%</th>\n",
              "      <td>473.000000</td>\n",
              "      <td>2.000000</td>\n",
              "      <td>160.00000</td>\n",
              "      <td>60.00000</td>\n",
              "      <td>1.0</td>\n",
              "      <td>2.000000</td>\n",
              "      <td>5.000000</td>\n",
              "      <td>5.00000</td>\n",
              "      <td>1.0</td>\n",
              "      <td>66.329911</td>\n",
              "      <td>473.000000</td>\n",
              "    </tr>\n",
              "    <tr>\n",
              "      <th>75%</th>\n",
              "      <td>548.000000</td>\n",
              "      <td>2.000000</td>\n",
              "      <td>162.00000</td>\n",
              "      <td>84.00000</td>\n",
              "      <td>1.0</td>\n",
              "      <td>2.000000</td>\n",
              "      <td>5.000000</td>\n",
              "      <td>5.00000</td>\n",
              "      <td>1.0</td>\n",
              "      <td>67.241615</td>\n",
              "      <td>548.000000</td>\n",
              "    </tr>\n",
              "    <tr>\n",
              "      <th>max</th>\n",
              "      <td>574.000000</td>\n",
              "      <td>2.000000</td>\n",
              "      <td>185.00000</td>\n",
              "      <td>95.00000</td>\n",
              "      <td>1.0</td>\n",
              "      <td>2.000000</td>\n",
              "      <td>6.000000</td>\n",
              "      <td>5.00000</td>\n",
              "      <td>1.0</td>\n",
              "      <td>68.134155</td>\n",
              "      <td>574.000000</td>\n",
              "    </tr>\n",
              "  </tbody>\n",
              "</table>\n",
              "</div>"
            ],
            "text/plain": [
              "           IXI_ID  SEX_ID (1=m, 2=f)  ...        AGE  our_ixi_id\n",
              "count    5.000000           5.000000  ...   5.000000    5.000000\n",
              "mean   494.200000           1.600000  ...  62.729090  494.200000\n",
              "std     63.365606           0.547723  ...   7.282813   63.365606\n",
              "min    434.000000           1.000000  ...  50.573580  434.000000\n",
              "25%    442.000000           1.000000  ...  61.366188  442.000000\n",
              "50%    473.000000           2.000000  ...  66.329911  473.000000\n",
              "75%    548.000000           2.000000  ...  67.241615  548.000000\n",
              "max    574.000000           2.000000  ...  68.134155  574.000000\n",
              "\n",
              "[8 rows x 11 columns]"
            ]
          },
          "metadata": {
            "tags": []
          },
          "execution_count": 17
        }
      ]
    },
    {
      "cell_type": "code",
      "metadata": {
        "colab": {
          "base_uri": "https://localhost:8080/",
          "height": 291
        },
        "id": "5EDvSxnekeHz",
        "outputId": "0bcbfdef-adb0-4b61-89f3-6eb891a81436"
      },
      "source": [
        "filtered_df[(filtered_df[\"scanner_name\"] == \"Guys\") & (filtered_df[\"age_disc\"].isin([\"50-60\", \"60-70\"]) ) ].describe()"
      ],
      "execution_count": null,
      "outputs": [
        {
          "output_type": "execute_result",
          "data": {
            "text/html": [
              "<div>\n",
              "<style scoped>\n",
              "    .dataframe tbody tr th:only-of-type {\n",
              "        vertical-align: middle;\n",
              "    }\n",
              "\n",
              "    .dataframe tbody tr th {\n",
              "        vertical-align: top;\n",
              "    }\n",
              "\n",
              "    .dataframe thead th {\n",
              "        text-align: right;\n",
              "    }\n",
              "</style>\n",
              "<table border=\"1\" class=\"dataframe\">\n",
              "  <thead>\n",
              "    <tr style=\"text-align: right;\">\n",
              "      <th></th>\n",
              "      <th>IXI_ID</th>\n",
              "      <th>SEX_ID (1=m, 2=f)</th>\n",
              "      <th>HEIGHT</th>\n",
              "      <th>WEIGHT</th>\n",
              "      <th>ETHNIC_ID</th>\n",
              "      <th>MARITAL_ID</th>\n",
              "      <th>OCCUPATION_ID</th>\n",
              "      <th>QUALIFICATION_ID</th>\n",
              "      <th>DATE_AVAILABLE</th>\n",
              "      <th>AGE</th>\n",
              "      <th>our_ixi_id</th>\n",
              "    </tr>\n",
              "  </thead>\n",
              "  <tbody>\n",
              "    <tr>\n",
              "      <th>count</th>\n",
              "      <td>54.000000</td>\n",
              "      <td>54.000000</td>\n",
              "      <td>54.000000</td>\n",
              "      <td>54.000000</td>\n",
              "      <td>54.000000</td>\n",
              "      <td>54.000000</td>\n",
              "      <td>54.000000</td>\n",
              "      <td>54.000000</td>\n",
              "      <td>54.0</td>\n",
              "      <td>54.000000</td>\n",
              "      <td>54.000000</td>\n",
              "    </tr>\n",
              "    <tr>\n",
              "      <th>mean</th>\n",
              "      <td>529.333333</td>\n",
              "      <td>1.555556</td>\n",
              "      <td>192.833333</td>\n",
              "      <td>66.944444</td>\n",
              "      <td>1.203704</td>\n",
              "      <td>2.388889</td>\n",
              "      <td>4.148148</td>\n",
              "      <td>3.629630</td>\n",
              "      <td>1.0</td>\n",
              "      <td>62.796360</td>\n",
              "      <td>529.333333</td>\n",
              "    </tr>\n",
              "    <tr>\n",
              "      <th>std</th>\n",
              "      <td>65.262315</td>\n",
              "      <td>0.501570</td>\n",
              "      <td>232.171354</td>\n",
              "      <td>21.576032</td>\n",
              "      <td>0.876951</td>\n",
              "      <td>1.279986</td>\n",
              "      <td>2.068701</td>\n",
              "      <td>1.593576</td>\n",
              "      <td>0.0</td>\n",
              "      <td>4.837039</td>\n",
              "      <td>65.262315</td>\n",
              "    </tr>\n",
              "    <tr>\n",
              "      <th>min</th>\n",
              "      <td>428.000000</td>\n",
              "      <td>1.000000</td>\n",
              "      <td>0.000000</td>\n",
              "      <td>0.000000</td>\n",
              "      <td>0.000000</td>\n",
              "      <td>0.000000</td>\n",
              "      <td>0.000000</td>\n",
              "      <td>0.000000</td>\n",
              "      <td>1.0</td>\n",
              "      <td>50.395619</td>\n",
              "      <td>428.000000</td>\n",
              "    </tr>\n",
              "    <tr>\n",
              "      <th>25%</th>\n",
              "      <td>486.250000</td>\n",
              "      <td>1.000000</td>\n",
              "      <td>160.250000</td>\n",
              "      <td>58.000000</td>\n",
              "      <td>1.000000</td>\n",
              "      <td>2.000000</td>\n",
              "      <td>2.000000</td>\n",
              "      <td>2.250000</td>\n",
              "      <td>1.0</td>\n",
              "      <td>59.368925</td>\n",
              "      <td>486.250000</td>\n",
              "    </tr>\n",
              "    <tr>\n",
              "      <th>50%</th>\n",
              "      <td>505.500000</td>\n",
              "      <td>2.000000</td>\n",
              "      <td>167.000000</td>\n",
              "      <td>66.500000</td>\n",
              "      <td>1.000000</td>\n",
              "      <td>2.000000</td>\n",
              "      <td>5.000000</td>\n",
              "      <td>4.000000</td>\n",
              "      <td>1.0</td>\n",
              "      <td>63.627652</td>\n",
              "      <td>505.500000</td>\n",
              "    </tr>\n",
              "    <tr>\n",
              "      <th>75%</th>\n",
              "      <td>577.500000</td>\n",
              "      <td>2.000000</td>\n",
              "      <td>175.750000</td>\n",
              "      <td>79.000000</td>\n",
              "      <td>1.000000</td>\n",
              "      <td>3.500000</td>\n",
              "      <td>5.000000</td>\n",
              "      <td>5.000000</td>\n",
              "      <td>1.0</td>\n",
              "      <td>67.071869</td>\n",
              "      <td>577.500000</td>\n",
              "    </tr>\n",
              "    <tr>\n",
              "      <th>max</th>\n",
              "      <td>651.000000</td>\n",
              "      <td>2.000000</td>\n",
              "      <td>1850.000000</td>\n",
              "      <td>110.000000</td>\n",
              "      <td>6.000000</td>\n",
              "      <td>5.000000</td>\n",
              "      <td>8.000000</td>\n",
              "      <td>5.000000</td>\n",
              "      <td>1.0</td>\n",
              "      <td>69.689254</td>\n",
              "      <td>651.000000</td>\n",
              "    </tr>\n",
              "  </tbody>\n",
              "</table>\n",
              "</div>"
            ],
            "text/plain": [
              "           IXI_ID  SEX_ID (1=m, 2=f)  ...        AGE  our_ixi_id\n",
              "count   54.000000          54.000000  ...  54.000000   54.000000\n",
              "mean   529.333333           1.555556  ...  62.796360  529.333333\n",
              "std     65.262315           0.501570  ...   4.837039   65.262315\n",
              "min    428.000000           1.000000  ...  50.395619  428.000000\n",
              "25%    486.250000           1.000000  ...  59.368925  486.250000\n",
              "50%    505.500000           2.000000  ...  63.627652  505.500000\n",
              "75%    577.500000           2.000000  ...  67.071869  577.500000\n",
              "max    651.000000           2.000000  ...  69.689254  651.000000\n",
              "\n",
              "[8 rows x 11 columns]"
            ]
          },
          "metadata": {
            "tags": []
          },
          "execution_count": 18
        }
      ]
    },
    {
      "cell_type": "code",
      "metadata": {
        "colab": {
          "base_uri": "https://localhost:8080/",
          "height": 291
        },
        "id": "_q7_dzijirQh",
        "outputId": "fb32236f-108e-4e95-a049-94dd57ba8a91"
      },
      "source": [
        "filtered_df[(filtered_df[\"scanner_name\"] == \"HH\") & (filtered_df[\"age_disc\"].isin([\"50-60\", \"60-70\"]) ) ].describe()"
      ],
      "execution_count": null,
      "outputs": [
        {
          "output_type": "execute_result",
          "data": {
            "text/html": [
              "<div>\n",
              "<style scoped>\n",
              "    .dataframe tbody tr th:only-of-type {\n",
              "        vertical-align: middle;\n",
              "    }\n",
              "\n",
              "    .dataframe tbody tr th {\n",
              "        vertical-align: top;\n",
              "    }\n",
              "\n",
              "    .dataframe thead th {\n",
              "        text-align: right;\n",
              "    }\n",
              "</style>\n",
              "<table border=\"1\" class=\"dataframe\">\n",
              "  <thead>\n",
              "    <tr style=\"text-align: right;\">\n",
              "      <th></th>\n",
              "      <th>IXI_ID</th>\n",
              "      <th>SEX_ID (1=m, 2=f)</th>\n",
              "      <th>HEIGHT</th>\n",
              "      <th>WEIGHT</th>\n",
              "      <th>ETHNIC_ID</th>\n",
              "      <th>MARITAL_ID</th>\n",
              "      <th>OCCUPATION_ID</th>\n",
              "      <th>QUALIFICATION_ID</th>\n",
              "      <th>DATE_AVAILABLE</th>\n",
              "      <th>AGE</th>\n",
              "      <th>our_ixi_id</th>\n",
              "    </tr>\n",
              "  </thead>\n",
              "  <tbody>\n",
              "    <tr>\n",
              "      <th>count</th>\n",
              "      <td>34.000000</td>\n",
              "      <td>34.000000</td>\n",
              "      <td>34.000000</td>\n",
              "      <td>34.000000</td>\n",
              "      <td>34.000000</td>\n",
              "      <td>34.000000</td>\n",
              "      <td>34.000000</td>\n",
              "      <td>34.000000</td>\n",
              "      <td>34.0</td>\n",
              "      <td>34.000000</td>\n",
              "      <td>34.000000</td>\n",
              "    </tr>\n",
              "    <tr>\n",
              "      <th>mean</th>\n",
              "      <td>520.411765</td>\n",
              "      <td>1.529412</td>\n",
              "      <td>170.617647</td>\n",
              "      <td>77.264706</td>\n",
              "      <td>1.529412</td>\n",
              "      <td>2.235294</td>\n",
              "      <td>3.500000</td>\n",
              "      <td>3.352941</td>\n",
              "      <td>1.0</td>\n",
              "      <td>61.184120</td>\n",
              "      <td>520.411765</td>\n",
              "    </tr>\n",
              "    <tr>\n",
              "      <th>std</th>\n",
              "      <td>59.219222</td>\n",
              "      <td>0.506640</td>\n",
              "      <td>9.853517</td>\n",
              "      <td>15.964561</td>\n",
              "      <td>1.022039</td>\n",
              "      <td>1.129731</td>\n",
              "      <td>2.219063</td>\n",
              "      <td>1.474682</td>\n",
              "      <td>0.0</td>\n",
              "      <td>4.891415</td>\n",
              "      <td>59.219222</td>\n",
              "    </tr>\n",
              "    <tr>\n",
              "      <th>min</th>\n",
              "      <td>437.000000</td>\n",
              "      <td>1.000000</td>\n",
              "      <td>150.000000</td>\n",
              "      <td>52.000000</td>\n",
              "      <td>1.000000</td>\n",
              "      <td>1.000000</td>\n",
              "      <td>1.000000</td>\n",
              "      <td>1.000000</td>\n",
              "      <td>1.0</td>\n",
              "      <td>52.498289</td>\n",
              "      <td>437.000000</td>\n",
              "    </tr>\n",
              "    <tr>\n",
              "      <th>25%</th>\n",
              "      <td>469.000000</td>\n",
              "      <td>1.000000</td>\n",
              "      <td>163.500000</td>\n",
              "      <td>67.750000</td>\n",
              "      <td>1.000000</td>\n",
              "      <td>2.000000</td>\n",
              "      <td>1.250000</td>\n",
              "      <td>2.000000</td>\n",
              "      <td>1.0</td>\n",
              "      <td>57.568104</td>\n",
              "      <td>469.000000</td>\n",
              "    </tr>\n",
              "    <tr>\n",
              "      <th>50%</th>\n",
              "      <td>517.500000</td>\n",
              "      <td>2.000000</td>\n",
              "      <td>170.000000</td>\n",
              "      <td>75.000000</td>\n",
              "      <td>1.000000</td>\n",
              "      <td>2.000000</td>\n",
              "      <td>3.500000</td>\n",
              "      <td>4.000000</td>\n",
              "      <td>1.0</td>\n",
              "      <td>60.735113</td>\n",
              "      <td>517.500000</td>\n",
              "    </tr>\n",
              "    <tr>\n",
              "      <th>75%</th>\n",
              "      <td>563.500000</td>\n",
              "      <td>2.000000</td>\n",
              "      <td>178.000000</td>\n",
              "      <td>88.000000</td>\n",
              "      <td>1.000000</td>\n",
              "      <td>2.000000</td>\n",
              "      <td>5.000000</td>\n",
              "      <td>4.750000</td>\n",
              "      <td>1.0</td>\n",
              "      <td>64.479808</td>\n",
              "      <td>563.500000</td>\n",
              "    </tr>\n",
              "    <tr>\n",
              "      <th>max</th>\n",
              "      <td>632.000000</td>\n",
              "      <td>2.000000</td>\n",
              "      <td>195.000000</td>\n",
              "      <td>105.000000</td>\n",
              "      <td>4.000000</td>\n",
              "      <td>5.000000</td>\n",
              "      <td>8.000000</td>\n",
              "      <td>5.000000</td>\n",
              "      <td>1.0</td>\n",
              "      <td>69.281314</td>\n",
              "      <td>632.000000</td>\n",
              "    </tr>\n",
              "  </tbody>\n",
              "</table>\n",
              "</div>"
            ],
            "text/plain": [
              "           IXI_ID  SEX_ID (1=m, 2=f)  ...        AGE  our_ixi_id\n",
              "count   34.000000          34.000000  ...  34.000000   34.000000\n",
              "mean   520.411765           1.529412  ...  61.184120  520.411765\n",
              "std     59.219222           0.506640  ...   4.891415   59.219222\n",
              "min    437.000000           1.000000  ...  52.498289  437.000000\n",
              "25%    469.000000           1.000000  ...  57.568104  469.000000\n",
              "50%    517.500000           2.000000  ...  60.735113  517.500000\n",
              "75%    563.500000           2.000000  ...  64.479808  563.500000\n",
              "max    632.000000           2.000000  ...  69.281314  632.000000\n",
              "\n",
              "[8 rows x 11 columns]"
            ]
          },
          "metadata": {
            "tags": []
          },
          "execution_count": 19
        }
      ]
    },
    {
      "cell_type": "markdown",
      "metadata": {
        "id": "A9-PEaqKWK6U"
      },
      "source": [
        "# Analyses of datasets"
      ]
    },
    {
      "cell_type": "markdown",
      "metadata": {
        "id": "O4QV4rzgWcHY"
      },
      "source": [
        "IOP has very few scans and should be handled with care during unlearning according to its age distribution"
      ]
    },
    {
      "cell_type": "code",
      "metadata": {
        "colab": {
          "base_uri": "https://localhost:8080/",
          "height": 349
        },
        "id": "1UfEVBN7Mmi4",
        "outputId": "1eb648dc-e836-40cd-d66e-d7b48e485ef1"
      },
      "source": [
        "plt.figure(figsize=(12, 5))\n",
        "sns.histplot(data=our_df, x=\"scanner_name\")"
      ],
      "execution_count": null,
      "outputs": [
        {
          "output_type": "execute_result",
          "data": {
            "text/plain": [
              "<matplotlib.axes._subplots.AxesSubplot at 0x7fb41a142e10>"
            ]
          },
          "metadata": {
            "tags": []
          },
          "execution_count": 15
        },
        {
          "output_type": "display_data",
          "data": {
            "image/png": "[encoded data removed]",
            "text/plain": [
              "<Figure size 864x360 with 1 Axes>"
            ]
          },
          "metadata": {
            "tags": [],
            "needs_background": "light"
          }
        }
      ]
    },
    {
      "cell_type": "markdown",
      "metadata": {
        "id": "jHxAZRvDSHWG"
      },
      "source": [
        "As we can see below all 2 scanners Guys and HH have similar distribution and have lot of scans between 50-70 age. In other terms they have almost equal distribution and we do not need to worry about what to keep or not keep in our learning-unlearning datasets. \n",
        "\n",
        "IOP on the other hand has less scans(40 scans) and most of its scans are from younger people with peak at 30 years. How to choose train and test now as we have two equally distributed datasets and IOP as skewed?\n",
        "\n",
        "* Pick randomly into train learning, train unlearning and validation bucket from Guys and HH as they seem to be equally distributed.\n",
        "* From IOP, there are 5 scans between 50-70. Put all of them into train unlearning bucket. We dont need to learn much from these images hence dont add them to learning bucket. These 5 scans are important as they lie in same age range peak as that of Guys, HH so must be used for unlearning.\n",
        "* From rest of IOP (29 remaining) randomly sample 5 of them into validation. rest 24 of them must be used during training learning.\n",
        "\n",
        "\n",
        "Use the above while building dataset class\n",
        "\n"
      ]
    },
    {
      "cell_type": "code",
      "metadata": {
        "colab": {
          "base_uri": "https://localhost:8080/",
          "height": 457
        },
        "id": "_p1ZowyGlZoL",
        "outputId": "f3a3cc7f-d485-4406-e6d7-119d13633dd3"
      },
      "source": [
        "plt.figure(figsize=(15, 7))\n",
        "sns.histplot(data=filtered_df,x=\"AGE\", hue=\"scanner_name\", multiple=\"stack\", binwidth=10, binrange=(0,100))"
      ],
      "execution_count": null,
      "outputs": [
        {
          "output_type": "execute_result",
          "data": {
            "text/plain": [
              "<matplotlib.axes._subplots.AxesSubplot at 0x7fc56ade49d0>"
            ]
          },
          "metadata": {
            "tags": []
          },
          "execution_count": 63
        },
        {
          "output_type": "display_data",
          "data": {
            "image/png": "[encoded data removed]",
            "text/plain": [
              "<Figure size 1080x504 with 1 Axes>"
            ]
          },
          "metadata": {
            "tags": [],
            "needs_background": "light"
          }
        }
      ]
    },
    {
      "cell_type": "code",
      "metadata": {
        "colab": {
          "base_uri": "https://localhost:8080/",
          "height": 349
        },
        "id": "xEDstUruPJmd",
        "outputId": "81659b4f-9199-47d4-ffaf-7781239c25b5"
      },
      "source": [
        "plt.figure(figsize=(12, 5))\n",
        "sns.histplot(data=filtered_df[filtered_df[\"scanner_name\"] == \"IOP\"],x=\"AGE\", hue=\"scanner_name\", binwidth=10, binrange=(0,100))"
      ],
      "execution_count": null,
      "outputs": [
        {
          "output_type": "execute_result",
          "data": {
            "text/plain": [
              "<matplotlib.axes._subplots.AxesSubplot at 0x7fc56abfd690>"
            ]
          },
          "metadata": {
            "tags": []
          },
          "execution_count": 64
        },
        {
          "output_type": "display_data",
          "data": {
            "image/png": "[encoded data removed]",
            "text/plain": [
              "<Figure size 864x360 with 1 Axes>"
            ]
          },
          "metadata": {
            "tags": [],
            "needs_background": "light"
          }
        }
      ]
    },
    {
      "cell_type": "code",
      "metadata": {
        "colab": {
          "base_uri": "https://localhost:8080/",
          "height": 349
        },
        "id": "ot3MO4juQ5x6",
        "outputId": "b2ddc612-6e9d-4d87-94ac-f2cd649feddd"
      },
      "source": [
        "plt.figure(figsize=(12, 5))\n",
        "sns.histplot(data=filtered_df[filtered_df[\"scanner_name\"] == \"Guys\"],x=\"AGE\", hue=\"scanner_name\", binwidth=10, binrange=(0,100))"
      ],
      "execution_count": null,
      "outputs": [
        {
          "output_type": "execute_result",
          "data": {
            "text/plain": [
              "<matplotlib.axes._subplots.AxesSubplot at 0x7fc56ac5b8d0>"
            ]
          },
          "metadata": {
            "tags": []
          },
          "execution_count": 65
        },
        {
          "output_type": "display_data",
          "data": {
            "image/png": "[encoded data removed]",
            "text/plain": [
              "<Figure size 864x360 with 1 Axes>"
            ]
          },
          "metadata": {
            "tags": [],
            "needs_background": "light"
          }
        }
      ]
    },
    {
      "cell_type": "code",
      "metadata": {
        "colab": {
          "base_uri": "https://localhost:8080/",
          "height": 349
        },
        "id": "EWOihUUkRahv",
        "outputId": "d1d15324-5941-4f7d-b610-10262fbfb574"
      },
      "source": [
        "plt.figure(figsize=(12, 5))\n",
        "sns.histplot(data=filtered_df[filtered_df[\"scanner_name\"] == \"HH\"],x=\"AGE\", hue=\"scanner_name\", binwidth=10, binrange=(0,100))"
      ],
      "execution_count": null,
      "outputs": [
        {
          "output_type": "execute_result",
          "data": {
            "text/plain": [
              "<matplotlib.axes._subplots.AxesSubplot at 0x7fc56ab31c10>"
            ]
          },
          "metadata": {
            "tags": []
          },
          "execution_count": 66
        },
        {
          "output_type": "display_data",
          "data": {
            "image/png": "[encoded data removed]",
            "text/plain": [
              "<Figure size 864x360 with 1 Axes>"
            ]
          },
          "metadata": {
            "tags": [],
            "needs_background": "light"
          }
        }
      ]
    },
    {
      "cell_type": "markdown",
      "metadata": {
        "id": "1dE2U_ikV3EV"
      },
      "source": [
        "# Dataset Creation"
      ]
    },
    {
      "cell_type": "code",
      "metadata": {
        "id": "p5GRcPpxoc03"
      },
      "source": [
        "def place_into_buckets(age_disc, scanner_name):\n",
        "    \"\"\" \n",
        "    flag 0,1,2 = learn, unlearn, validation\n",
        "    - From IOP if its between 50-70 put it in unlearn bucket\n",
        "    - From IOP if its not between 50-70 put it learn and validation bucket with probs of 0.75 and 0.25\n",
        "    - From others put it in learn with 0.4, in unlearn with 0.3, in validation with 0.3 prob\n",
        "    \"\"\"\n",
        "    \n",
        "    if ((scanner_name == \"IOP\") and (age_disc in [\"50-60\", \"60-70\"]) ):\n",
        "      flag = 1\n",
        "    elif ((scanner_name == \"IOP\") and (age_disc not in [\"50-60\", \"60-70\"]) ):\n",
        "      flag = np.random.choice(a=[0, 2], p= [0.75, 0.25])\n",
        "    else:\n",
        "      flag = np.random.choice(a=[0, 1, 2], p=[0.5, 0.3, 0.2] )\n",
        "\n",
        "    if (flag == 0):\n",
        "      return \"train_learn\"\n",
        "    elif (flag == 1):\n",
        "      return \"train_unlearn\"\n",
        "    else:\n",
        "        return \"validation\"\n",
        "        \n"
      ],
      "execution_count": null,
      "outputs": []
    },
    {
      "cell_type": "code",
      "metadata": {
        "id": "qp-qMcGlT3kx"
      },
      "source": [
        "def categorize_scanner( scanner_name):\n",
        "    \"\"\" \n",
        "    flag 0,1,2 = IOP, Guys, HH\n",
        "    \"\"\"\n",
        "    \n",
        "    if (scanner_name == \"IOP\") :\n",
        "      flag = 0\n",
        "    elif (scanner_name == \"Guys\"):\n",
        "      flag = 1\n",
        "    else:\n",
        "      flag = 2\n",
        "\n",
        "    return flag"
      ],
      "execution_count": null,
      "outputs": []
    },
    {
      "cell_type": "code",
      "metadata": {
        "id": "MljIpbsnoc5i"
      },
      "source": [
        "filtered_df['dataset_flag'] = filtered_df.apply(lambda x: place_into_buckets(x['age_disc'],x['scanner_name']),axis=1)"
      ],
      "execution_count": null,
      "outputs": []
    },
    {
      "cell_type": "code",
      "metadata": {
        "id": "H5a3bpmlUTIm"
      },
      "source": [
        "filtered_df[\"scanner_flag\"] = filtered_df.apply(lambda x: categorize_scanner(x['scanner_name']),axis=1)"
      ],
      "execution_count": null,
      "outputs": []
    },
    {
      "cell_type": "code",
      "metadata": {
        "colab": {
          "base_uri": "https://localhost:8080/",
          "height": 195
        },
        "id": "MWeafjiIedLU",
        "outputId": "c9547fdf-a277-4969-de46-71f5fc6a4ab4"
      },
      "source": [
        "filtered_df[filtered_df[\"AGE\"].isnull() == True]"
      ],
      "execution_count": null,
      "outputs": [
        {
          "output_type": "execute_result",
          "data": {
            "text/html": [
              "<div>\n",
              "<style scoped>\n",
              "    .dataframe tbody tr th:only-of-type {\n",
              "        vertical-align: middle;\n",
              "    }\n",
              "\n",
              "    .dataframe tbody tr th {\n",
              "        vertical-align: top;\n",
              "    }\n",
              "\n",
              "    .dataframe thead th {\n",
              "        text-align: right;\n",
              "    }\n",
              "</style>\n",
              "<table border=\"1\" class=\"dataframe\">\n",
              "  <thead>\n",
              "    <tr style=\"text-align: right;\">\n",
              "      <th></th>\n",
              "      <th>IXI_ID</th>\n",
              "      <th>SEX_ID (1=m, 2=f)</th>\n",
              "      <th>HEIGHT</th>\n",
              "      <th>WEIGHT</th>\n",
              "      <th>ETHNIC_ID</th>\n",
              "      <th>MARITAL_ID</th>\n",
              "      <th>OCCUPATION_ID</th>\n",
              "      <th>QUALIFICATION_ID</th>\n",
              "      <th>DOB</th>\n",
              "      <th>DATE_AVAILABLE</th>\n",
              "      <th>STUDY_DATE</th>\n",
              "      <th>AGE</th>\n",
              "      <th>our_ixi_id</th>\n",
              "      <th>scanner_name</th>\n",
              "      <th>contrast_type</th>\n",
              "      <th>file_path</th>\n",
              "      <th>age_disc</th>\n",
              "      <th>dataset_flag</th>\n",
              "      <th>scanner_flag</th>\n",
              "    </tr>\n",
              "  </thead>\n",
              "  <tbody>\n",
              "    <tr>\n",
              "      <th>8</th>\n",
              "      <td>435</td>\n",
              "      <td>1</td>\n",
              "      <td>165</td>\n",
              "      <td>70</td>\n",
              "      <td>1</td>\n",
              "      <td>5</td>\n",
              "      <td>5</td>\n",
              "      <td>4</td>\n",
              "      <td>NaN</td>\n",
              "      <td>1</td>\n",
              "      <td>2006-07-10</td>\n",
              "      <td>NaN</td>\n",
              "      <td>435</td>\n",
              "      <td>IOP</td>\n",
              "      <td>T1</td>\n",
              "      <td>/content/drive/My Drive/Image_Registration_Pro...</td>\n",
              "      <td>NaN</td>\n",
              "      <td>validation</td>\n",
              "      <td>0</td>\n",
              "    </tr>\n",
              "    <tr>\n",
              "      <th>171</th>\n",
              "      <td>623</td>\n",
              "      <td>1</td>\n",
              "      <td>180</td>\n",
              "      <td>80</td>\n",
              "      <td>1</td>\n",
              "      <td>1</td>\n",
              "      <td>1</td>\n",
              "      <td>5</td>\n",
              "      <td>NaN</td>\n",
              "      <td>1</td>\n",
              "      <td>2006-09-25</td>\n",
              "      <td>NaN</td>\n",
              "      <td>623</td>\n",
              "      <td>Guys</td>\n",
              "      <td>T1</td>\n",
              "      <td>/content/drive/My Drive/Image_Registration_Pro...</td>\n",
              "      <td>NaN</td>\n",
              "      <td>train_learn</td>\n",
              "      <td>1</td>\n",
              "    </tr>\n",
              "  </tbody>\n",
              "</table>\n",
              "</div>"
            ],
            "text/plain": [
              "     IXI_ID  SEX_ID (1=m, 2=f)  HEIGHT  ...  age_disc  dataset_flag  scanner_flag\n",
              "8       435                  1     165  ...       NaN    validation             0\n",
              "171     623                  1     180  ...       NaN   train_learn             1\n",
              "\n",
              "[2 rows x 19 columns]"
            ]
          },
          "metadata": {
            "tags": []
          },
          "execution_count": 119
        }
      ]
    },
    {
      "cell_type": "code",
      "metadata": {
        "id": "Si6im0ldfP6w"
      },
      "source": [
        "filtered_df['AGE'] = filtered_df['AGE'].fillna((filtered_df['AGE'].mean()))"
      ],
      "execution_count": null,
      "outputs": []
    },
    {
      "cell_type": "code",
      "metadata": {
        "colab": {
          "base_uri": "https://localhost:8080/",
          "height": 100
        },
        "id": "rNdZZHcRfXdK",
        "outputId": "f0f95643-141e-49c8-b1ae-74660e5c1971"
      },
      "source": [
        "filtered_df[filtered_df[\"AGE\"].isnull() == True]"
      ],
      "execution_count": null,
      "outputs": [
        {
          "output_type": "execute_result",
          "data": {
            "text/html": [
              "<div>\n",
              "<style scoped>\n",
              "    .dataframe tbody tr th:only-of-type {\n",
              "        vertical-align: middle;\n",
              "    }\n",
              "\n",
              "    .dataframe tbody tr th {\n",
              "        vertical-align: top;\n",
              "    }\n",
              "\n",
              "    .dataframe thead th {\n",
              "        text-align: right;\n",
              "    }\n",
              "</style>\n",
              "<table border=\"1\" class=\"dataframe\">\n",
              "  <thead>\n",
              "    <tr style=\"text-align: right;\">\n",
              "      <th></th>\n",
              "      <th>IXI_ID</th>\n",
              "      <th>SEX_ID (1=m, 2=f)</th>\n",
              "      <th>HEIGHT</th>\n",
              "      <th>WEIGHT</th>\n",
              "      <th>ETHNIC_ID</th>\n",
              "      <th>MARITAL_ID</th>\n",
              "      <th>OCCUPATION_ID</th>\n",
              "      <th>QUALIFICATION_ID</th>\n",
              "      <th>DOB</th>\n",
              "      <th>DATE_AVAILABLE</th>\n",
              "      <th>STUDY_DATE</th>\n",
              "      <th>AGE</th>\n",
              "      <th>our_ixi_id</th>\n",
              "      <th>scanner_name</th>\n",
              "      <th>contrast_type</th>\n",
              "      <th>file_path</th>\n",
              "      <th>age_disc</th>\n",
              "      <th>dataset_flag</th>\n",
              "      <th>scanner_flag</th>\n",
              "    </tr>\n",
              "  </thead>\n",
              "  <tbody>\n",
              "  </tbody>\n",
              "</table>\n",
              "</div>"
            ],
            "text/plain": [
              "Empty DataFrame\n",
              "Columns: [IXI_ID, SEX_ID (1=m, 2=f), HEIGHT, WEIGHT, ETHNIC_ID, MARITAL_ID, OCCUPATION_ID, QUALIFICATION_ID, DOB, DATE_AVAILABLE, STUDY_DATE, AGE, our_ixi_id, scanner_name, contrast_type, file_path, age_disc, dataset_flag, scanner_flag]\n",
              "Index: []"
            ]
          },
          "metadata": {
            "tags": []
          },
          "execution_count": 121
        }
      ]
    },
    {
      "cell_type": "code",
      "metadata": {
        "colab": {
          "base_uri": "https://localhost:8080/",
          "height": 336
        },
        "id": "H0tnMD-_oc-h",
        "outputId": "6e27732d-683d-486c-eada-866aa6b628bc"
      },
      "source": [
        "filtered_df.head()"
      ],
      "execution_count": null,
      "outputs": [
        {
          "output_type": "execute_result",
          "data": {
            "text/html": [
              "<div>\n",
              "<style scoped>\n",
              "    .dataframe tbody tr th:only-of-type {\n",
              "        vertical-align: middle;\n",
              "    }\n",
              "\n",
              "    .dataframe tbody tr th {\n",
              "        vertical-align: top;\n",
              "    }\n",
              "\n",
              "    .dataframe thead th {\n",
              "        text-align: right;\n",
              "    }\n",
              "</style>\n",
              "<table border=\"1\" class=\"dataframe\">\n",
              "  <thead>\n",
              "    <tr style=\"text-align: right;\">\n",
              "      <th></th>\n",
              "      <th>IXI_ID</th>\n",
              "      <th>SEX_ID (1=m, 2=f)</th>\n",
              "      <th>HEIGHT</th>\n",
              "      <th>WEIGHT</th>\n",
              "      <th>ETHNIC_ID</th>\n",
              "      <th>MARITAL_ID</th>\n",
              "      <th>OCCUPATION_ID</th>\n",
              "      <th>QUALIFICATION_ID</th>\n",
              "      <th>DOB</th>\n",
              "      <th>DATE_AVAILABLE</th>\n",
              "      <th>STUDY_DATE</th>\n",
              "      <th>AGE</th>\n",
              "      <th>our_ixi_id</th>\n",
              "      <th>scanner_name</th>\n",
              "      <th>contrast_type</th>\n",
              "      <th>file_path</th>\n",
              "      <th>age_disc</th>\n",
              "      <th>dataset_flag</th>\n",
              "      <th>scanner_flag</th>\n",
              "    </tr>\n",
              "  </thead>\n",
              "  <tbody>\n",
              "    <tr>\n",
              "      <th>0</th>\n",
              "      <td>60</td>\n",
              "      <td>1</td>\n",
              "      <td>180</td>\n",
              "      <td>75</td>\n",
              "      <td>1</td>\n",
              "      <td>2</td>\n",
              "      <td>1</td>\n",
              "      <td>5</td>\n",
              "      <td>1974-10-26</td>\n",
              "      <td>1</td>\n",
              "      <td>2005-07-08</td>\n",
              "      <td>30.699521</td>\n",
              "      <td>60</td>\n",
              "      <td>Guys</td>\n",
              "      <td>T1</td>\n",
              "      <td>/content/drive/My Drive/Image_Registration_Pro...</td>\n",
              "      <td>30-40</td>\n",
              "      <td>train_learn</td>\n",
              "      <td>1</td>\n",
              "    </tr>\n",
              "    <tr>\n",
              "      <th>1</th>\n",
              "      <td>428</td>\n",
              "      <td>2</td>\n",
              "      <td>163</td>\n",
              "      <td>75</td>\n",
              "      <td>1</td>\n",
              "      <td>2</td>\n",
              "      <td>1</td>\n",
              "      <td>4</td>\n",
              "      <td>1951-01-08</td>\n",
              "      <td>1</td>\n",
              "      <td>2006-07-24</td>\n",
              "      <td>55.540041</td>\n",
              "      <td>428</td>\n",
              "      <td>Guys</td>\n",
              "      <td>T1</td>\n",
              "      <td>/content/drive/My Drive/Image_Registration_Pro...</td>\n",
              "      <td>50-60</td>\n",
              "      <td>train_unlearn</td>\n",
              "      <td>1</td>\n",
              "    </tr>\n",
              "    <tr>\n",
              "      <th>2</th>\n",
              "      <td>429</td>\n",
              "      <td>2</td>\n",
              "      <td>155</td>\n",
              "      <td>61</td>\n",
              "      <td>1</td>\n",
              "      <td>2</td>\n",
              "      <td>2</td>\n",
              "      <td>4</td>\n",
              "      <td>1951-01-08</td>\n",
              "      <td>1</td>\n",
              "      <td>2006-07-24</td>\n",
              "      <td>55.540041</td>\n",
              "      <td>429</td>\n",
              "      <td>Guys</td>\n",
              "      <td>T1</td>\n",
              "      <td>/content/drive/My Drive/Image_Registration_Pro...</td>\n",
              "      <td>50-60</td>\n",
              "      <td>train_learn</td>\n",
              "      <td>1</td>\n",
              "    </tr>\n",
              "    <tr>\n",
              "      <th>3</th>\n",
              "      <td>430</td>\n",
              "      <td>2</td>\n",
              "      <td>166</td>\n",
              "      <td>70</td>\n",
              "      <td>1</td>\n",
              "      <td>4</td>\n",
              "      <td>5</td>\n",
              "      <td>5</td>\n",
              "      <td>1934-07-02</td>\n",
              "      <td>1</td>\n",
              "      <td>2006-07-04</td>\n",
              "      <td>72.005476</td>\n",
              "      <td>430</td>\n",
              "      <td>IOP</td>\n",
              "      <td>T1</td>\n",
              "      <td>/content/drive/My Drive/Image_Registration_Pro...</td>\n",
              "      <td>70-80</td>\n",
              "      <td>validation</td>\n",
              "      <td>0</td>\n",
              "    </tr>\n",
              "    <tr>\n",
              "      <th>4</th>\n",
              "      <td>431</td>\n",
              "      <td>2</td>\n",
              "      <td>163</td>\n",
              "      <td>58</td>\n",
              "      <td>1</td>\n",
              "      <td>2</td>\n",
              "      <td>2</td>\n",
              "      <td>5</td>\n",
              "      <td>1947-10-05</td>\n",
              "      <td>1</td>\n",
              "      <td>2006-07-17</td>\n",
              "      <td>58.781656</td>\n",
              "      <td>431</td>\n",
              "      <td>Guys</td>\n",
              "      <td>T1</td>\n",
              "      <td>/content/drive/My Drive/Image_Registration_Pro...</td>\n",
              "      <td>50-60</td>\n",
              "      <td>train_unlearn</td>\n",
              "      <td>1</td>\n",
              "    </tr>\n",
              "  </tbody>\n",
              "</table>\n",
              "</div>"
            ],
            "text/plain": [
              "   IXI_ID  SEX_ID (1=m, 2=f)  HEIGHT  ...  age_disc   dataset_flag  scanner_flag\n",
              "0      60                  1     180  ...     30-40    train_learn             1\n",
              "1     428                  2     163  ...     50-60  train_unlearn             1\n",
              "2     429                  2     155  ...     50-60    train_learn             1\n",
              "3     430                  2     166  ...     70-80     validation             0\n",
              "4     431                  2     163  ...     50-60  train_unlearn             1\n",
              "\n",
              "[5 rows x 19 columns]"
            ]
          },
          "metadata": {
            "tags": []
          },
          "execution_count": 122
        }
      ]
    },
    {
      "cell_type": "markdown",
      "metadata": {
        "id": "7WhG1i1Vy8ge"
      },
      "source": [
        "From below count plot it is evident that"
      ]
    },
    {
      "cell_type": "code",
      "metadata": {
        "colab": {
          "base_uri": "https://localhost:8080/",
          "height": 458
        },
        "id": "Nd2yVaKmodAs",
        "outputId": "450b5f9a-4f79-4113-9dea-65f20819acca"
      },
      "source": [
        "plt.figure(figsize=(15, 7))\n",
        "sns.countplot(x=\"dataset_flag\", data=filtered_df, hue=\"scanner_name\")"
      ],
      "execution_count": null,
      "outputs": [
        {
          "output_type": "execute_result",
          "data": {
            "text/plain": [
              "<matplotlib.axes._subplots.AxesSubplot at 0x7fc6a90bab50>"
            ]
          },
          "metadata": {
            "tags": []
          },
          "execution_count": 75
        },
        {
          "output_type": "display_data",
          "data": {
            "image/png": "[encoded data removed]",
            "text/plain": [
              "<Figure size 1080x504 with 1 Axes>"
            ]
          },
          "metadata": {
            "tags": [],
            "needs_background": "light"
          }
        }
      ]
    },
    {
      "cell_type": "code",
      "metadata": {
        "colab": {
          "base_uri": "https://localhost:8080/",
          "height": 415
        },
        "id": "EmPraWhPyoUE",
        "outputId": "55986765-a2ae-403a-dca0-c4dc786c0b09"
      },
      "source": [
        "plt.figure(figsize=(20, 10))\n",
        "sns.catplot(x=\"age_disc\", data=filtered_df, col=\"scanner_name\", hue=\"dataset_flag\", kind=\"count\")"
      ],
      "execution_count": null,
      "outputs": [
        {
          "output_type": "execute_result",
          "data": {
            "text/plain": [
              "<seaborn.axisgrid.FacetGrid at 0x7fc6a8145290>"
            ]
          },
          "metadata": {
            "tags": []
          },
          "execution_count": 123
        },
        {
          "output_type": "display_data",
          "data": {
            "text/plain": [
              "<Figure size 1440x720 with 0 Axes>"
            ]
          },
          "metadata": {
            "tags": []
          }
        },
        {
          "output_type": "display_data",
          "data": {
            "image/png": "[encoded data removed]",
            "text/plain": [
              "<Figure size 1182.62x360 with 3 Axes>"
            ]
          },
          "metadata": {
            "tags": [],
            "needs_background": "light"
          }
        }
      ]
    },
    {
      "cell_type": "code",
      "metadata": {
        "id": "0ae1gxxJ1DOD"
      },
      "source": [
        "fp = filtered_df[\"file_path\"].iloc[0]"
      ],
      "execution_count": null,
      "outputs": []
    },
    {
      "cell_type": "code",
      "metadata": {
        "id": "AMVgCrqQ1DTz"
      },
      "source": [
        "train_learn_df = filtered_df[filtered_df[\"dataset_flag\"] == \"train_learn\"]\n",
        "train_unlearn_df = filtered_df[filtered_df[\"dataset_flag\"] == \"train_unlearn\"]\n",
        "validation_df = filtered_df[filtered_df[\"dataset_flag\"] == \"validation\"]"
      ],
      "execution_count": null,
      "outputs": []
    },
    {
      "cell_type": "code",
      "metadata": {
        "colab": {
          "base_uri": "https://localhost:8080/"
        },
        "id": "zRzSZsu48CCm",
        "outputId": "56671062-b11f-4ade-aa6a-6a79d2566fc7"
      },
      "source": [
        "print(train_learn_df.shape)\n",
        "print(train_unlearn_df.shape)\n",
        "print(validation_df.shape)"
      ],
      "execution_count": null,
      "outputs": [
        {
          "output_type": "stream",
          "text": [
            "(103, 19)\n",
            "(50, 19)\n",
            "(41, 19)\n"
          ],
          "name": "stdout"
        }
      ]
    },
    {
      "cell_type": "code",
      "metadata": {
        "id": "SvAl24tcMaAj"
      },
      "source": [
        "z_64_slices = []\n",
        "for i in range(0, 128, 2):\n",
        "  z_64_slices.append(i)"
      ],
      "execution_count": null,
      "outputs": []
    },
    {
      "cell_type": "code",
      "metadata": {
        "colab": {
          "base_uri": "https://localhost:8080/"
        },
        "id": "hJLg4MBUMsSm",
        "outputId": "6f1f28ce-c30d-4a85-8e63-252be4dfd4b8"
      },
      "source": [
        "z_64_slices[0:4]"
      ],
      "execution_count": null,
      "outputs": [
        {
          "output_type": "execute_result",
          "data": {
            "text/plain": [
              "[0, 2, 4, 6]"
            ]
          },
          "metadata": {
            "tags": []
          },
          "execution_count": 49
        }
      ]
    },
    {
      "cell_type": "code",
      "metadata": {
        "id": "YG77T0DIXVuK"
      },
      "source": [
        "def load_4D(name):\n",
        "        model_np = np.zeros(shape=(128, 128, 128))\n",
        "        resamplng_shape = (128, 128, 128)\n",
        "        X_nb = nb.load(name)\n",
        "        #print(X_nb)\n",
        "        X_np = X_nb.dataobj\n",
        "        #print(X_np)\n",
        "        x_dim, y_dim, z_dim = X_np.shape\n",
        "        #print(x_dim, y_dim, z_dim)\n",
        "        x_ltail = (resamplng_shape[0] - x_dim)//2 \n",
        "        y_ltail = (resamplng_shape[1] - y_dim)//2\n",
        "        z_ltail = (resamplng_shape[2] - z_dim)//2\n",
        "        #print(x_ltail,y_ltail,z_ltail)\n",
        "\n",
        "        x_rtail = resamplng_shape[0] - x_ltail - 1\n",
        "        y_rtail = resamplng_shape[1] - y_ltail - 1\n",
        "        z_rtail = resamplng_shape[2] - z_ltail - 1\n",
        "        #print(x_rtail,y_rtail,z_rtail)\n",
        "        model_np[x_ltail:x_rtail, y_ltail:y_rtail, z_ltail:z_rtail] = X_np[:, :, :]\n",
        "        #z_32_slices = [3, 7, 11, 15, 19, 23, 27, 31, 35, 39, 43, 47, 51, 55, 59, 63, 67, 71, 75, 79, 83, 87, 91, 95, 99, 103, 107, 111, 115, 119, 123, 127]\n",
        "        model_np = model_np[:, :, z_64_slices]\n",
        "        model_np = np.expand_dims(model_np, axis=0)\n",
        "        #print(model_np.shape)\n",
        "        #print(model_np)\n",
        "        return model_np\n",
        "\n",
        "def imgnorm(N_I,index1=0.0001,index2=0.0001):\n",
        "    I_sort = np.sort(N_I.flatten())\n",
        "    I_min = I_sort[int(index1*len(I_sort))]\n",
        "    I_max = I_sort[-int(index2*len(I_sort))]\n",
        "    N_I =1.0*(N_I-I_min)/(I_max-I_min)\n",
        "    N_I[N_I>1.0]=1.0\n",
        "    N_I[N_I<0.0]=0.0\n",
        "    N_I2 = N_I.astype(np.float32)\n",
        "    return N_I2\n",
        "\n",
        "def Norm_Zscore(img):\n",
        "    img= (img-np.mean(img))/np.std(img) \n",
        "    return img\n",
        "\n",
        "def save_img(I_img,savename):\n",
        "    I2 = sitk.GetImageFromArray(I_img,isVector=False)\n",
        "    sitk.WriteImage(I2,savename)"
      ],
      "execution_count": null,
      "outputs": []
    },
    {
      "cell_type": "code",
      "metadata": {
        "id": "udfrDOVZR0HE"
      },
      "source": [
        "class Dataset(Data.Dataset):\n",
        "  'Characterizes a dataset for PyTorch'\n",
        "  def __init__(self, df = filtered_df, iterations =1, norm=True):\n",
        "        self.df = df\n",
        "        self.norm = norm\n",
        "        self.iterations = iterations\n",
        "        \n",
        "  def __len__(self):\n",
        "        'Denotes the total number of samples'\n",
        "        return self.df.shape[0] * self.iterations\n",
        "\n",
        "  def __getitem__(self, step):\n",
        "        'Generates one sample of data'\n",
        "        # index_pair = np.random.permutation(len(self.names)) [0:4]\n",
        "        \"\"\"\n",
        "        fp = filtered_df[\"file_path\"].iloc[step]\n",
        "        sn = filtered_df[\"scanner_name\"].iloc[step]\n",
        "        dafl = filtered_df[\"dataset_flag\"].iloc[step]\n",
        "        agdi = filtered_df[\"age_disc\"].iloc[step]\n",
        "        \"\"\"\n",
        "        fp = filtered_df[\"file_path\"].iloc[step]\n",
        "        sf = filtered_df[\"scanner_flag\"].iloc[step]\n",
        "        age = filtered_df[\"AGE\"].iloc[step]\n",
        "\n",
        "        img = load_4D(fp)   \n",
        "        \n",
        "        if self.norm:\n",
        "            # return  Norm_Zscore(imgnorm(img_A)) , Norm_Zscore(imgnorm(img_B))\n",
        "            return  imgnorm(img), age, sf\n",
        "        else:\n",
        "            return img, age, sf"
      ],
      "execution_count": null,
      "outputs": []
    },
    {
      "cell_type": "code",
      "metadata": {
        "id": "UqoFAgBj-gBL"
      },
      "source": [
        "training_generator = Data.DataLoader(Dataset(train_learn_df, 1, True), batch_size=7,shuffle=False)"
      ],
      "execution_count": null,
      "outputs": []
    },
    {
      "cell_type": "code",
      "metadata": {
        "colab": {
          "base_uri": "https://localhost:8080/"
        },
        "id": "nm-kXrI-_zcO",
        "outputId": "580f8776-fc7f-4c61-9e79-67e48d2a2948"
      },
      "source": [
        "for  X, Y, Z in training_generator:\n",
        "  print(torch.max(X))\n",
        "  print(X.shape)\n",
        "  print(Y, Z)\n",
        "  del X\n",
        "  break"
      ],
      "execution_count": null,
      "outputs": [
        {
          "output_type": "stream",
          "text": [
            "tensor(1.)\n",
            "torch.Size([7, 1, 128, 128, 64])\n",
            "tensor([30.6995, 55.5400, 55.5400, 72.0055, 58.7817, 57.7385, 73.9001],\n",
            "       dtype=torch.float64) tensor([1, 1, 1, 0, 1, 1, 0])\n"
          ],
          "name": "stdout"
        }
      ]
    },
    {
      "cell_type": "markdown",
      "metadata": {
        "id": "AfZDpnATFXs5"
      },
      "source": [
        "# Model Building"
      ]
    },
    {
      "cell_type": "code",
      "metadata": {
        "colab": {
          "base_uri": "https://localhost:8080/"
        },
        "id": "0g0HkknZN5Qn",
        "outputId": "dfc67b96-2b00-43a4-fd03-4abf4c380bb9"
      },
      "source": [
        "mytnsr = torch.randn(size = (4, 1, 2, 2, 2))\n",
        "mytnsr1 = mytnsr.view(4, -1)\n",
        "print(mytnsr1.shape)\n",
        "\n",
        "mytnsr2 = mytnsr.view(-1, 2)\n",
        "print(mytnsr2.shape)\n",
        "\n",
        "mytnsr3 = mytnsr.view(-1, 8)\n",
        "print(mytnsr3.shape)\n",
        "\n",
        "del mytnsr, mytnsr1, mytnsr2, mytnsr3"
      ],
      "execution_count": null,
      "outputs": [
        {
          "output_type": "stream",
          "text": [
            "torch.Size([4, 8])\n",
            "torch.Size([16, 2])\n",
            "torch.Size([4, 8])\n"
          ],
          "name": "stdout"
        }
      ]
    },
    {
      "cell_type": "code",
      "metadata": {
        "id": "h6gZFT9IFYqA"
      },
      "source": [
        "class Encoder(nn.Module):\n",
        "    def __init__(self):\n",
        "        super(Encoder, self).__init__()\n",
        "        self.feature = nn.Sequential()      # Define the feature extractor\n",
        "        self.feature.add_module('f_conv1_1', nn.Conv3d(1, 32, kernel_size=3, padding=1))\n",
        "        self.feature.add_module('f_relu_1_1', nn.ReLU(True))\n",
        "        self.feature.add_module('f_bn1_1', nn.BatchNorm3d(32))\n",
        "        self.feature.add_module('f_conv1_2', nn.Conv3d(32, 32, kernel_size=3, padding=1))\n",
        "        self.feature.add_module('f_relu_1_2', nn.ReLU(True))\n",
        "        self.feature.add_module('f_bn1_2', nn.BatchNorm3d(32))\n",
        "        self.feature.add_module('f_pool1', nn.MaxPool3d(2))\n",
        "\n",
        "        self.feature.add_module('f_conv2_1', nn.Conv3d(32, 64, kernel_size=3, padding=1))\n",
        "        self.feature.add_module('f_relu_2_1', nn.ReLU(True))\n",
        "        self.feature.add_module('f_bn2_1', nn.BatchNorm3d(64))\n",
        "        self.feature.add_module('f_conv2_2', nn.Conv3d(64, 64, kernel_size=3, padding=1))\n",
        "        self.feature.add_module('f_relu_2_2', nn.ReLU(True))\n",
        "        self.feature.add_module('f_bn2_2', nn.BatchNorm3d(64))\n",
        "        self.feature.add_module('f_pool2', nn.MaxPool3d(2))\n",
        "\n",
        "        self.feature.add_module('f_conv3_1', nn.Conv3d(64, 64, kernel_size=3, padding=1))\n",
        "        self.feature.add_module('f_relu_3_1', nn.ReLU(True))\n",
        "        self.feature.add_module('f_bn3_1', nn.BatchNorm3d(64))\n",
        "        self.feature.add_module('f_conv3_2', nn.Conv3d(64, 64, kernel_size=3, padding=1))\n",
        "        self.feature.add_module('f_relu_3_2', nn.ReLU(True))\n",
        "        self.feature.add_module('f_bn3_2', nn.BatchNorm3d(64))\n",
        "        self.feature.add_module('f_pool3', nn.MaxPool3d(2))\n",
        "\n",
        "        self.feature.add_module('f_conv4_1', nn.Conv3d(64, 96, kernel_size=3, padding=1))\n",
        "        self.feature.add_module('f_relu_4_1', nn.ReLU(True))\n",
        "        self.feature.add_module('f_bn4_1', nn.BatchNorm3d(96))\n",
        "        self.feature.add_module('f_conv4_2', nn.Conv3d(96, 96, kernel_size=3, padding=1))\n",
        "        self.feature.add_module('f_relu_4_2', nn.ReLU(True))\n",
        "        self.feature.add_module('f_bn4_2', nn.BatchNorm3d(96))\n",
        "        self.feature.add_module('f_conv4_3', nn.Conv3d(96, 96, kernel_size=3, padding=1))\n",
        "        self.feature.add_module('f_relu_4_3', nn.ReLU(True))\n",
        "        self.feature.add_module('f_bn4_3', nn.BatchNorm3d(96))\n",
        "        self.feature.add_module('f_pool4', nn.MaxPool3d(2))\n",
        "\n",
        "        self.feature.add_module('f_conv5_1', nn.Conv3d(96, 96, kernel_size=3, padding=1))\n",
        "        self.feature.add_module('f_relu_5_1', nn.ReLU(True))\n",
        "        self.feature.add_module('f_bn5_1', nn.BatchNorm3d(96))\n",
        "        self.feature.add_module('f_conv5_2', nn.Conv3d(96, 96, kernel_size=3, padding=1))\n",
        "        self.feature.add_module('f_relu_5_2', nn.ReLU(True))\n",
        "        self.feature.add_module('f_bn5_2', nn.BatchNorm3d(96))\n",
        "        self.feature.add_module('f_conv5_3', nn.Conv3d(96, 96, kernel_size=3, padding=1))\n",
        "        self.feature.add_module('f_relu_5_3', nn.ReLU(True))\n",
        "        self.feature.add_module('f_bn5_3', nn.BatchNorm3d(96))\n",
        "        self.feature.add_module('f_pool5', nn.MaxPool3d(2))\n",
        "\n",
        "        self.feature.add_module('f_conv6_1', nn.Conv3d(96, 96, kernel_size=3, padding=1))\n",
        "        self.feature.add_module('f_relu_6_1', nn.ReLU(True))\n",
        "        self.feature.add_module('f_bn6_1', nn.BatchNorm3d(96))\n",
        "        self.feature.add_module('f_conv6_2', nn.Conv3d(96, 96, kernel_size=3, padding=1))\n",
        "        self.feature.add_module('f_relu_6_2', nn.ReLU(True))\n",
        "        self.feature.add_module('f_bn6_2', nn.BatchNorm3d(96))\n",
        "        self.feature.add_module('f_conv6_3', nn.Conv3d(96, 96, kernel_size=3, padding=1))\n",
        "        self.feature.add_module('f_relu_6_3', nn.ReLU(True))\n",
        "        self.feature.add_module('f_bn6_3', nn.BatchNorm3d(96))\n",
        "        self.feature.add_module('f_pool6', nn.MaxPool3d(2))\n",
        "\n",
        "        \"\"\"\n",
        "        self.feature.add_module('f_conv7_1', nn.Conv3d(96, 96, kernel_size=3, padding=1))\n",
        "        self.feature.add_module('f_relu_7_1', nn.ReLU(True))\n",
        "        self.feature.add_module('f_bn7_1', nn.BatchNorm3d(96))\n",
        "        self.feature.add_module('f_features', nn.MaxPool3d(2))\n",
        "        \"\"\"\n",
        "\n",
        "        self.embeddings = nn.Sequential()\n",
        "        self.embeddings.add_module('r_fc1', nn.Linear(384, 96))\n",
        "        self.embeddings.add_module('r_relu1', nn.ReLU(True))\n",
        "\n",
        "\n",
        "    def forward(self, x):\n",
        "        batch_size = x.shape[0]\n",
        "        feature = self.feature(x)\n",
        "        #print(feature.shape)\n",
        "\n",
        "        #Changed below code from feature.view(-1, 384)\n",
        "        feature = feature.view(batch_size, -1)\n",
        "        #print(feature.shape)\n",
        "        feature_embedding = self.embeddings(feature)\n",
        "        return feature_embedding\n",
        "\n",
        "class Regressor(nn.Module):\n",
        "    def __init__(self):\n",
        "        super(Regressor, self).__init__()\n",
        "\n",
        "        self.regressor = nn.Sequential()\n",
        "        self.regressor.add_module('r_fc2', nn.Linear(96, 32))\n",
        "        self.regressor.add_module('r_relu2', nn.ReLU(True))\n",
        "        self.regressor.add_module('r_pred', nn.Linear(32, 1))\n",
        "\n",
        "    def forward(self, x):\n",
        "        regression = self.regressor(x)\n",
        "        return regression\n",
        "\n",
        "class DomainPredictor(nn.Module):\n",
        "    def __init__(self, nodes=3):\n",
        "        super(DomainPredictor, self).__init__()\n",
        "        self.nodes = nodes\n",
        "        self.domain = nn.Sequential()\n",
        "        self.domain.add_module('d_fc2', nn.Linear(96, 32))\n",
        "        self.domain.add_module('d_relu2', nn.ReLU(True))\n",
        "        self.domain.add_module('r_dropout', nn.Dropout3d(p=0.2))\n",
        "        self.domain.add_module('d_fc3', nn.Linear(32, nodes))\n",
        "        self.domain.add_module('d_pred', nn.Softmax(dim=1))\n",
        "\n",
        "    def forward(self, x):\n",
        "        domain_pred = self.domain(x)\n",
        "        return domain_pred\n"
      ],
      "execution_count": null,
      "outputs": []
    },
    {
      "cell_type": "code",
      "metadata": {
        "id": "ndmhBhSeFYsp"
      },
      "source": [
        "del encoder, regressor, domain_predictor\n",
        "torch.cuda.empty_cache()\n",
        "\n",
        "encoder = Encoder().to(\"cuda\")\n",
        "regressor = Regressor().to(\"cuda\")\n",
        "domain_predictor = DomainPredictor(nodes=3).to(\"cuda\")"
      ],
      "execution_count": null,
      "outputs": []
    },
    {
      "cell_type": "code",
      "metadata": {
        "id": "EUGT9lTOTfaQ"
      },
      "source": [
        "del encoder, regressor, domain_predictor\n",
        "torch.cuda.empty_cache()"
      ],
      "execution_count": null,
      "outputs": []
    },
    {
      "cell_type": "code",
      "metadata": {
        "colab": {
          "base_uri": "https://localhost:8080/"
        },
        "id": "Jq-jBz4VFYvw",
        "outputId": "f64eb18d-57f1-4fdc-9fc4-838933dad4ef"
      },
      "source": [
        "for  X in training_generator:\n",
        "  X = X.to(\"cuda\")\n",
        "  print(X.shape)\n",
        "  enc_feats = encoder(X)\n",
        "  print(enc_feats.shape)\n",
        "  regressor_op = regressor(enc_feats)\n",
        "  print(regressor_op.shape)\n",
        "  dp_op = domain_predictor(enc_feats)\n",
        "  print(dp_op.shape)\n",
        "  del enc_feats, regressor_op, dp_op, X \n",
        "  torch.cuda.empty_cache()\n",
        "  break"
      ],
      "execution_count": null,
      "outputs": [
        {
          "output_type": "stream",
          "text": [
            "torch.Size([7, 1, 128, 128, 64])\n",
            "torch.Size([7, 96, 2, 2, 1])\n",
            "torch.Size([7, 384])\n",
            "torch.Size([7, 96])\n",
            "torch.Size([7, 1])\n",
            "torch.Size([7, 3])\n"
          ],
          "name": "stdout"
        }
      ]
    },
    {
      "cell_type": "code",
      "metadata": {
        "id": "EV5mn5LaHbNi"
      },
      "source": [
        ""
      ],
      "execution_count": null,
      "outputs": []
    },
    {
      "cell_type": "markdown",
      "metadata": {
        "id": "N544ofxHVXLJ"
      },
      "source": [
        "# Loss Functions and Miscellaneous"
      ]
    },
    {
      "cell_type": "code",
      "metadata": {
        "id": "PqIjxXIaVae8"
      },
      "source": [
        "class confusion_loss(nn.Module):\n",
        "    def __init__(self, task=0):\n",
        "        super(confusion_loss, self).__init__()\n",
        "        self.task = task\n",
        "\n",
        "    def forward(self, x, target):\n",
        "        # We only care about x\n",
        "        log = torch.log(x)\n",
        "        log_sum = torch.sum(log, dim=1)\n",
        "        normalised_log_sum = torch.div(log_sum,  x.size()[1])\n",
        "        loss = torch.mul(torch.sum(normalised_log_sum, dim=0), -1)\n",
        "        return loss"
      ],
      "execution_count": null,
      "outputs": []
    },
    {
      "cell_type": "code",
      "metadata": {
        "id": "Q6plvm6tVajg"
      },
      "source": [
        "criteron = nn.MSELoss()     # Change this to DANN_loss normal\n",
        "domain_criterion = nn.CrossEntropyLoss()"
      ],
      "execution_count": null,
      "outputs": []
    },
    {
      "cell_type": "markdown",
      "metadata": {
        "id": "RDkIboIsPz0p"
      },
      "source": [
        "# Normal Training - without unlearning"
      ]
    },
    {
      "cell_type": "code",
      "metadata": {
        "id": "WJI3U9w31VX9"
      },
      "source": [
        "del encoder_wou, regressor_wou\n",
        "torch.cuda.empty_cache()"
      ],
      "execution_count": null,
      "outputs": []
    },
    {
      "cell_type": "code",
      "metadata": {
        "id": "_yF0Qg3wP4C6"
      },
      "source": [
        "del encoder_wou, regressor_wou\n",
        "torch.cuda.empty_cache()\n",
        "\n",
        "encoder_wou = Encoder().to(\"cuda\")\n",
        "regressor_wou = Regressor().to(\"cuda\")\n",
        "#domain_predictor_wou = DomainPredictor(nodes=3).to(\"cuda\")"
      ],
      "execution_count": null,
      "outputs": []
    },
    {
      "cell_type": "code",
      "metadata": {
        "id": "aTRQ6MV6P4JU"
      },
      "source": [
        "regressor_loss_wou = nn.MSELoss() \n",
        "lr=1e-4\n",
        "#domain_criterion_wou = nn.CrossEntropyLoss()"
      ],
      "execution_count": null,
      "outputs": []
    },
    {
      "cell_type": "code",
      "metadata": {
        "id": "qTd9HZswP4LM"
      },
      "source": [
        "optimizer = torch.optim.Adam(list(encoder_wou.parameters()) + list(regressor_wou.parameters()), lr=lr ) \n",
        "model_dir = '/content/drive/My Drive/Image_Registration_Project/mri_harmonization'\n",
        "\n",
        "LOSS_PATH = \"/content/drive/My Drive/Image_Registration_Project/mri_harmonization\"\n",
        "if not os.path.isdir(model_dir):\n",
        "  os.mkdir(model_dir)\n"
      ],
      "execution_count": null,
      "outputs": []
    },
    {
      "cell_type": "code",
      "metadata": {
        "id": "ocRtDmm_P4RV"
      },
      "source": [
        "def run_one_epoch(epoch = 1):\n",
        "  example_number = 0\n",
        "\n",
        "  for X, Y, Z in training_generator:\n",
        "    X = X.to(\"cuda\").float()\n",
        "    Y = Y.to(\"cuda\").float()\n",
        "\n",
        "    #bool_X_input = torch.isnan(X).any()\n",
        "    #bool_Y_input = torch.isnan(Y).any()\n",
        "    \n",
        "    encoder_feats = encoder_wou(X)\n",
        "    #bool_encoder_out = torch.isnan(encoder_feats).any()\n",
        "    predicted_age = regressor_wou(encoder_feats)\n",
        "    #bool_regressor_out = torch.isnan(predicted_age).any()\n",
        "    loss = regressor_loss_wou(Y, predicted_age)\n",
        "\n",
        "    #print(bool_X_input, bool_Y_input, bool_encoder_out, bool_regressor_out)\n",
        "\n",
        "    optimizer.zero_grad()          \n",
        "    loss.backward() \n",
        "    optimizer.step()\n",
        "\n",
        "    del X, Y, Z, encoder_feats, predicted_age\n",
        "    torch.cuda.empty_cache()\n",
        "    example_number = example_number + 1\n",
        "\n",
        "  if (epoch%2 == 0):\n",
        "      modelname = model_dir + '/' + \"without_unlearning_\" + str(epoch) + '.pth'\n",
        "      torch.save({\"encoder_wou_model\": encoder_wou.state_dict(), \"regressor_wou_model\": regressor_wou.state_dict()}, modelname)\n",
        "      print(\"epoch: {}\".format(epoch))\n",
        "      print(\"Losses: {}\".format(loss))\n",
        "      print(\"Saving model checkpoints\")\n",
        "      print(\"======= =============== ===========\")\n",
        "      # Save the losses each epoch so we can plot them live\n",
        "      myloss = loss.detach()\n",
        "      myloss = myloss.cpu()\n",
        "      np.save(LOSS_PATH, np.array(myloss))\n",
        "      print()\n",
        "\n"
      ],
      "execution_count": null,
      "outputs": []
    },
    {
      "cell_type": "code",
      "metadata": {
        "colab": {
          "base_uri": "https://localhost:8080/"
        },
        "id": "D6_iZRQ2P4be",
        "outputId": "e5d10bff-7c9f-4468-a2a7-da918059afa4"
      },
      "source": [
        "epochs = 11\n",
        "for e in range(epochs):\n",
        "  run_one_epoch(epoch=e)"
      ],
      "execution_count": null,
      "outputs": [
        {
          "output_type": "stream",
          "text": [
            "epoch: 0\n",
            "Losses: 643.62109375\n",
            "Saving model checkpoints\n",
            "======= =============== ===========\n",
            "\n",
            "epoch: 2\n",
            "Losses: 410.50823974609375\n",
            "Saving model checkpoints\n",
            "======= =============== ===========\n",
            "\n",
            "epoch: 4\n",
            "Losses: 317.92193603515625\n",
            "Saving model checkpoints\n",
            "======= =============== ===========\n",
            "\n",
            "epoch: 6\n",
            "Losses: 289.123779296875\n",
            "Saving model checkpoints\n",
            "======= =============== ===========\n",
            "\n",
            "epoch: 8\n",
            "Losses: 283.73828125\n",
            "Saving model checkpoints\n",
            "======= =============== ===========\n",
            "\n",
            "epoch: 10\n",
            "Losses: 278.4912109375\n",
            "Saving model checkpoints\n",
            "======= =============== ===========\n",
            "\n"
          ],
          "name": "stdout"
        }
      ]
    },
    {
      "cell_type": "code",
      "metadata": {
        "id": "WtXVu4hIP4iM"
      },
      "source": [
        ""
      ],
      "execution_count": null,
      "outputs": []
    },
    {
      "cell_type": "markdown",
      "metadata": {
        "id": "ns9BM0_gpmpt"
      },
      "source": [
        "# Validation - without unlearning"
      ]
    },
    {
      "cell_type": "code",
      "metadata": {
        "id": "pu1g59INpqtH"
      },
      "source": [
        "validation_generator = Data.DataLoader(Dataset(validation_df, 1, True), batch_size=5,shuffle=False)"
      ],
      "execution_count": null,
      "outputs": []
    },
    {
      "cell_type": "code",
      "metadata": {
        "id": "pF1ae_D4pqyz"
      },
      "source": [
        "encoder_wou_val = Encoder().to(\"cuda\")\n",
        "regressor_wou_val = Regressor().to(\"cuda\")"
      ],
      "execution_count": null,
      "outputs": []
    },
    {
      "cell_type": "code",
      "metadata": {
        "colab": {
          "base_uri": "https://localhost:8080/"
        },
        "id": "lO5hUXsEpq4H",
        "outputId": "596a3ce4-b1cb-4573-894d-f90bd7e59909"
      },
      "source": [
        "checkpoint = torch.load('/content/drive/My Drive/Image_Registration_Project/mri_harmonization/without_unlearning_10.pth')\n",
        "encoder_wou_val.load_state_dict(checkpoint['encoder_wou_model'])\n",
        "regressor_wou_val.load_state_dict(checkpoint['regressor_wou_model'])\n",
        "\n",
        "encoder_wou_val.eval()\n",
        "regressor_wou_val.eval()\n"
      ],
      "execution_count": null,
      "outputs": [
        {
          "output_type": "execute_result",
          "data": {
            "text/plain": [
              "Regressor(\n",
              "  (regressor): Sequential(\n",
              "    (r_fc2): Linear(in_features=96, out_features=32, bias=True)\n",
              "    (r_relu2): ReLU(inplace=True)\n",
              "    (r_pred): Linear(in_features=32, out_features=1, bias=True)\n",
              "  )\n",
              ")"
            ]
          },
          "metadata": {
            "tags": []
          },
          "execution_count": 161
        }
      ]
    },
    {
      "cell_type": "code",
      "metadata": {
        "id": "-ge9WAy2pq-Q"
      },
      "source": [
        "def run_one_epoch_val( epoch = 1):\n",
        "  batch_num = 0\n",
        "  batch_size = 7\n",
        "  batch_size = 103\n",
        "  embedding_dim = 96\n",
        "  out_np = np.zeros((batch_size, embedding_dim))\n",
        "  for X, Y, Z in training_generator:\n",
        "    X = X.to(\"cuda\").float()\n",
        "    Y = Y.to(\"cuda\").float()\n",
        "\n",
        "    encoder_feats = encoder_wou_val(X)\n",
        "\n",
        "    predicted_age = regressor_wou_val(encoder_feats)\n",
        "\n",
        "    encoder_feats_cpu = encoder_feats.detach().to(\"cpu\")\n",
        "    encoder_feats_np = encoder_feats_cpu.numpy()\n",
        "\n",
        "    out_np[batch_num * batch_size : (batch_num + 1) * batch_size, :] = encoder_feats_np\n",
        "    \n",
        "\n",
        "    del X, Y, Z, encoder_feats, encoder_feats_cpu, predicted_age, encoder_feats_np\n",
        "    torch.cuda.empty_cache()\n",
        "    batch_num = batch_num + 1\n",
        "    print(\"Batch_number: \", batch_num)\n",
        "\n",
        "  \n",
        "  return out_np\n",
        "\n"
      ],
      "execution_count": null,
      "outputs": []
    },
    {
      "cell_type": "code",
      "metadata": {
        "id": "tMYo7izv1eIP"
      },
      "source": [
        "torch.cuda.empty_cache()"
      ],
      "execution_count": null,
      "outputs": []
    },
    {
      "cell_type": "code",
      "metadata": {
        "colab": {
          "base_uri": "https://localhost:8080/",
          "height": 331
        },
        "id": "gnnSvEU0rJQx",
        "outputId": "d2ec68a0-1def-4ff1-b963-27360dedd942"
      },
      "source": [
        "epochs = 1\n",
        "for e in range(epochs):\n",
        "  mynp = run_one_epoch_val(epoch=e)"
      ],
      "execution_count": null,
      "outputs": [
        {
          "output_type": "error",
          "ename": "RuntimeError",
          "evalue": "ignored",
          "traceback": [
            "\u001b[0;31m---------------------------------------------------------------------------\u001b[0m",
            "\u001b[0;31mRuntimeError\u001b[0m                              Traceback (most recent call last)",
            "\u001b[0;32m<ipython-input-210-38906cf38346>\u001b[0m in \u001b[0;36m<module>\u001b[0;34m()\u001b[0m\n\u001b[1;32m      1\u001b[0m \u001b[0mepochs\u001b[0m \u001b[0;34m=\u001b[0m \u001b[0;36m1\u001b[0m\u001b[0;34m\u001b[0m\u001b[0;34m\u001b[0m\u001b[0m\n\u001b[1;32m      2\u001b[0m \u001b[0;32mfor\u001b[0m \u001b[0me\u001b[0m \u001b[0;32min\u001b[0m \u001b[0mrange\u001b[0m\u001b[0;34m(\u001b[0m\u001b[0mepochs\u001b[0m\u001b[0;34m)\u001b[0m\u001b[0;34m:\u001b[0m\u001b[0;34m\u001b[0m\u001b[0;34m\u001b[0m\u001b[0m\n\u001b[0;32m----> 3\u001b[0;31m   \u001b[0mmynp\u001b[0m \u001b[0;34m=\u001b[0m \u001b[0mrun_one_epoch_val\u001b[0m\u001b[0;34m(\u001b[0m\u001b[0mepoch\u001b[0m\u001b[0;34m=\u001b[0m\u001b[0me\u001b[0m\u001b[0;34m)\u001b[0m\u001b[0;34m\u001b[0m\u001b[0;34m\u001b[0m\u001b[0m\n\u001b[0m",
            "\u001b[0;32m<ipython-input-207-4ab791260ba4>\u001b[0m in \u001b[0;36mrun_one_epoch_val\u001b[0;34m(epoch)\u001b[0m\n\u001b[1;32m      9\u001b[0m     \u001b[0mY\u001b[0m \u001b[0;34m=\u001b[0m \u001b[0mY\u001b[0m\u001b[0;34m.\u001b[0m\u001b[0mto\u001b[0m\u001b[0;34m(\u001b[0m\u001b[0;34m\"cuda\"\u001b[0m\u001b[0;34m)\u001b[0m\u001b[0;34m.\u001b[0m\u001b[0mfloat\u001b[0m\u001b[0;34m(\u001b[0m\u001b[0;34m)\u001b[0m\u001b[0;34m\u001b[0m\u001b[0;34m\u001b[0m\u001b[0m\n\u001b[1;32m     10\u001b[0m \u001b[0;34m\u001b[0m\u001b[0m\n\u001b[0;32m---> 11\u001b[0;31m     \u001b[0mencoder_feats\u001b[0m \u001b[0;34m=\u001b[0m \u001b[0mencoder_wou_val\u001b[0m\u001b[0;34m(\u001b[0m\u001b[0mX\u001b[0m\u001b[0;34m)\u001b[0m\u001b[0;34m\u001b[0m\u001b[0;34m\u001b[0m\u001b[0m\n\u001b[0m\u001b[1;32m     12\u001b[0m \u001b[0;34m\u001b[0m\u001b[0m\n\u001b[1;32m     13\u001b[0m     \u001b[0mpredicted_age\u001b[0m \u001b[0;34m=\u001b[0m \u001b[0mregressor_wou_val\u001b[0m\u001b[0;34m(\u001b[0m\u001b[0mencoder_feats\u001b[0m\u001b[0;34m)\u001b[0m\u001b[0;34m\u001b[0m\u001b[0;34m\u001b[0m\u001b[0m\n",
            "\u001b[0;32m/usr/local/lib/python3.7/dist-packages/torch/nn/modules/module.py\u001b[0m in \u001b[0;36m_call_impl\u001b[0;34m(self, *input, **kwargs)\u001b[0m\n\u001b[1;32m    887\u001b[0m             \u001b[0mresult\u001b[0m \u001b[0;34m=\u001b[0m \u001b[0mself\u001b[0m\u001b[0;34m.\u001b[0m\u001b[0m_slow_forward\u001b[0m\u001b[0;34m(\u001b[0m\u001b[0;34m*\u001b[0m\u001b[0minput\u001b[0m\u001b[0;34m,\u001b[0m \u001b[0;34m**\u001b[0m\u001b[0mkwargs\u001b[0m\u001b[0;34m)\u001b[0m\u001b[0;34m\u001b[0m\u001b[0;34m\u001b[0m\u001b[0m\n\u001b[1;32m    888\u001b[0m         \u001b[0;32melse\u001b[0m\u001b[0;34m:\u001b[0m\u001b[0;34m\u001b[0m\u001b[0;34m\u001b[0m\u001b[0m\n\u001b[0;32m--> 889\u001b[0;31m             \u001b[0mresult\u001b[0m \u001b[0;34m=\u001b[0m \u001b[0mself\u001b[0m\u001b[0;34m.\u001b[0m\u001b[0mforward\u001b[0m\u001b[0;34m(\u001b[0m\u001b[0;34m*\u001b[0m\u001b[0minput\u001b[0m\u001b[0;34m,\u001b[0m \u001b[0;34m**\u001b[0m\u001b[0mkwargs\u001b[0m\u001b[0;34m)\u001b[0m\u001b[0;34m\u001b[0m\u001b[0;34m\u001b[0m\u001b[0m\n\u001b[0m\u001b[1;32m    890\u001b[0m         for hook in itertools.chain(\n\u001b[1;32m    891\u001b[0m                 \u001b[0m_global_forward_hooks\u001b[0m\u001b[0;34m.\u001b[0m\u001b[0mvalues\u001b[0m\u001b[0;34m(\u001b[0m\u001b[0;34m)\u001b[0m\u001b[0;34m,\u001b[0m\u001b[0;34m\u001b[0m\u001b[0;34m\u001b[0m\u001b[0m\n",
            "\u001b[0;32m<ipython-input-98-dc30cfd04f16>\u001b[0m in \u001b[0;36mforward\u001b[0;34m(self, x)\u001b[0m\n\u001b[1;32m     74\u001b[0m     \u001b[0;32mdef\u001b[0m \u001b[0mforward\u001b[0m\u001b[0;34m(\u001b[0m\u001b[0mself\u001b[0m\u001b[0;34m,\u001b[0m \u001b[0mx\u001b[0m\u001b[0;34m)\u001b[0m\u001b[0;34m:\u001b[0m\u001b[0;34m\u001b[0m\u001b[0;34m\u001b[0m\u001b[0m\n\u001b[1;32m     75\u001b[0m         \u001b[0mbatch_size\u001b[0m \u001b[0;34m=\u001b[0m \u001b[0mx\u001b[0m\u001b[0;34m.\u001b[0m\u001b[0mshape\u001b[0m\u001b[0;34m[\u001b[0m\u001b[0;36m0\u001b[0m\u001b[0;34m]\u001b[0m\u001b[0;34m\u001b[0m\u001b[0;34m\u001b[0m\u001b[0m\n\u001b[0;32m---> 76\u001b[0;31m         \u001b[0mfeature\u001b[0m \u001b[0;34m=\u001b[0m \u001b[0mself\u001b[0m\u001b[0;34m.\u001b[0m\u001b[0mfeature\u001b[0m\u001b[0;34m(\u001b[0m\u001b[0mx\u001b[0m\u001b[0;34m)\u001b[0m\u001b[0;34m\u001b[0m\u001b[0;34m\u001b[0m\u001b[0m\n\u001b[0m\u001b[1;32m     77\u001b[0m         \u001b[0;31m#print(feature.shape)\u001b[0m\u001b[0;34m\u001b[0m\u001b[0;34m\u001b[0m\u001b[0;34m\u001b[0m\u001b[0m\n\u001b[1;32m     78\u001b[0m \u001b[0;34m\u001b[0m\u001b[0m\n",
            "\u001b[0;32m/usr/local/lib/python3.7/dist-packages/torch/nn/modules/module.py\u001b[0m in \u001b[0;36m_call_impl\u001b[0;34m(self, *input, **kwargs)\u001b[0m\n\u001b[1;32m    887\u001b[0m             \u001b[0mresult\u001b[0m \u001b[0;34m=\u001b[0m \u001b[0mself\u001b[0m\u001b[0;34m.\u001b[0m\u001b[0m_slow_forward\u001b[0m\u001b[0;34m(\u001b[0m\u001b[0;34m*\u001b[0m\u001b[0minput\u001b[0m\u001b[0;34m,\u001b[0m \u001b[0;34m**\u001b[0m\u001b[0mkwargs\u001b[0m\u001b[0;34m)\u001b[0m\u001b[0;34m\u001b[0m\u001b[0;34m\u001b[0m\u001b[0m\n\u001b[1;32m    888\u001b[0m         \u001b[0;32melse\u001b[0m\u001b[0;34m:\u001b[0m\u001b[0;34m\u001b[0m\u001b[0;34m\u001b[0m\u001b[0m\n\u001b[0;32m--> 889\u001b[0;31m             \u001b[0mresult\u001b[0m \u001b[0;34m=\u001b[0m \u001b[0mself\u001b[0m\u001b[0;34m.\u001b[0m\u001b[0mforward\u001b[0m\u001b[0;34m(\u001b[0m\u001b[0;34m*\u001b[0m\u001b[0minput\u001b[0m\u001b[0;34m,\u001b[0m \u001b[0;34m**\u001b[0m\u001b[0mkwargs\u001b[0m\u001b[0;34m)\u001b[0m\u001b[0;34m\u001b[0m\u001b[0;34m\u001b[0m\u001b[0m\n\u001b[0m\u001b[1;32m    890\u001b[0m         for hook in itertools.chain(\n\u001b[1;32m    891\u001b[0m                 \u001b[0m_global_forward_hooks\u001b[0m\u001b[0;34m.\u001b[0m\u001b[0mvalues\u001b[0m\u001b[0;34m(\u001b[0m\u001b[0;34m)\u001b[0m\u001b[0;34m,\u001b[0m\u001b[0;34m\u001b[0m\u001b[0;34m\u001b[0m\u001b[0m\n",
            "\u001b[0;32m/usr/local/lib/python3.7/dist-packages/torch/nn/modules/container.py\u001b[0m in \u001b[0;36mforward\u001b[0;34m(self, input)\u001b[0m\n\u001b[1;32m    117\u001b[0m     \u001b[0;32mdef\u001b[0m \u001b[0mforward\u001b[0m\u001b[0;34m(\u001b[0m\u001b[0mself\u001b[0m\u001b[0;34m,\u001b[0m \u001b[0minput\u001b[0m\u001b[0;34m)\u001b[0m\u001b[0;34m:\u001b[0m\u001b[0;34m\u001b[0m\u001b[0;34m\u001b[0m\u001b[0m\n\u001b[1;32m    118\u001b[0m         \u001b[0;32mfor\u001b[0m \u001b[0mmodule\u001b[0m \u001b[0;32min\u001b[0m \u001b[0mself\u001b[0m\u001b[0;34m:\u001b[0m\u001b[0;34m\u001b[0m\u001b[0;34m\u001b[0m\u001b[0m\n\u001b[0;32m--> 119\u001b[0;31m             \u001b[0minput\u001b[0m \u001b[0;34m=\u001b[0m \u001b[0mmodule\u001b[0m\u001b[0;34m(\u001b[0m\u001b[0minput\u001b[0m\u001b[0;34m)\u001b[0m\u001b[0;34m\u001b[0m\u001b[0;34m\u001b[0m\u001b[0m\n\u001b[0m\u001b[1;32m    120\u001b[0m         \u001b[0;32mreturn\u001b[0m \u001b[0minput\u001b[0m\u001b[0;34m\u001b[0m\u001b[0;34m\u001b[0m\u001b[0m\n\u001b[1;32m    121\u001b[0m \u001b[0;34m\u001b[0m\u001b[0m\n",
            "\u001b[0;32m/usr/local/lib/python3.7/dist-packages/torch/nn/modules/module.py\u001b[0m in \u001b[0;36m_call_impl\u001b[0;34m(self, *input, **kwargs)\u001b[0m\n\u001b[1;32m    887\u001b[0m             \u001b[0mresult\u001b[0m \u001b[0;34m=\u001b[0m \u001b[0mself\u001b[0m\u001b[0;34m.\u001b[0m\u001b[0m_slow_forward\u001b[0m\u001b[0;34m(\u001b[0m\u001b[0;34m*\u001b[0m\u001b[0minput\u001b[0m\u001b[0;34m,\u001b[0m \u001b[0;34m**\u001b[0m\u001b[0mkwargs\u001b[0m\u001b[0;34m)\u001b[0m\u001b[0;34m\u001b[0m\u001b[0;34m\u001b[0m\u001b[0m\n\u001b[1;32m    888\u001b[0m         \u001b[0;32melse\u001b[0m\u001b[0;34m:\u001b[0m\u001b[0;34m\u001b[0m\u001b[0;34m\u001b[0m\u001b[0m\n\u001b[0;32m--> 889\u001b[0;31m             \u001b[0mresult\u001b[0m \u001b[0;34m=\u001b[0m \u001b[0mself\u001b[0m\u001b[0;34m.\u001b[0m\u001b[0mforward\u001b[0m\u001b[0;34m(\u001b[0m\u001b[0;34m*\u001b[0m\u001b[0minput\u001b[0m\u001b[0;34m,\u001b[0m \u001b[0;34m**\u001b[0m\u001b[0mkwargs\u001b[0m\u001b[0;34m)\u001b[0m\u001b[0;34m\u001b[0m\u001b[0;34m\u001b[0m\u001b[0m\n\u001b[0m\u001b[1;32m    890\u001b[0m         for hook in itertools.chain(\n\u001b[1;32m    891\u001b[0m                 \u001b[0m_global_forward_hooks\u001b[0m\u001b[0;34m.\u001b[0m\u001b[0mvalues\u001b[0m\u001b[0;34m(\u001b[0m\u001b[0;34m)\u001b[0m\u001b[0;34m,\u001b[0m\u001b[0;34m\u001b[0m\u001b[0;34m\u001b[0m\u001b[0m\n",
            "\u001b[0;32m/usr/local/lib/python3.7/dist-packages/torch/nn/modules/conv.py\u001b[0m in \u001b[0;36mforward\u001b[0;34m(self, input)\u001b[0m\n\u001b[1;32m    519\u001b[0m                             self.dilation, self.groups)\n\u001b[1;32m    520\u001b[0m         return F.conv3d(input, self.weight, self.bias, self.stride,\n\u001b[0;32m--> 521\u001b[0;31m                         self.padding, self.dilation, self.groups)\n\u001b[0m\u001b[1;32m    522\u001b[0m \u001b[0;34m\u001b[0m\u001b[0m\n\u001b[1;32m    523\u001b[0m \u001b[0;34m\u001b[0m\u001b[0m\n",
            "\u001b[0;31mRuntimeError\u001b[0m: CUDA out of memory. Tried to allocate 896.00 MiB (GPU 0; 14.76 GiB total capacity; 13.12 GiB already allocated; 77.75 MiB free; 13.65 GiB reserved in total by PyTorch)"
          ]
        }
      ]
    },
    {
      "cell_type": "code",
      "metadata": {
        "id": "CvEbZwXGrJYh"
      },
      "source": [
        "df_subset = pd.DataFrame(mynp)"
      ],
      "execution_count": null,
      "outputs": []
    },
    {
      "cell_type": "code",
      "metadata": {
        "colab": {
          "base_uri": "https://localhost:8080/",
          "height": 401
        },
        "id": "HgchDBRivtG4",
        "outputId": "df904161-818a-41fd-fe37-84bb20a51ca8"
      },
      "source": [
        "df_subset.head(10)"
      ],
      "execution_count": null,
      "outputs": [
        {
          "output_type": "execute_result",
          "data": {
            "text/html": [
              "<div>\n",
              "<style scoped>\n",
              "    .dataframe tbody tr th:only-of-type {\n",
              "        vertical-align: middle;\n",
              "    }\n",
              "\n",
              "    .dataframe tbody tr th {\n",
              "        vertical-align: top;\n",
              "    }\n",
              "\n",
              "    .dataframe thead th {\n",
              "        text-align: right;\n",
              "    }\n",
              "</style>\n",
              "<table border=\"1\" class=\"dataframe\">\n",
              "  <thead>\n",
              "    <tr style=\"text-align: right;\">\n",
              "      <th></th>\n",
              "      <th>0</th>\n",
              "      <th>1</th>\n",
              "      <th>2</th>\n",
              "      <th>3</th>\n",
              "      <th>4</th>\n",
              "      <th>5</th>\n",
              "      <th>6</th>\n",
              "      <th>7</th>\n",
              "      <th>8</th>\n",
              "      <th>9</th>\n",
              "      <th>10</th>\n",
              "      <th>11</th>\n",
              "      <th>12</th>\n",
              "      <th>13</th>\n",
              "      <th>14</th>\n",
              "      <th>15</th>\n",
              "      <th>16</th>\n",
              "      <th>17</th>\n",
              "      <th>18</th>\n",
              "      <th>19</th>\n",
              "      <th>20</th>\n",
              "      <th>21</th>\n",
              "      <th>22</th>\n",
              "      <th>23</th>\n",
              "      <th>24</th>\n",
              "      <th>25</th>\n",
              "      <th>26</th>\n",
              "      <th>27</th>\n",
              "      <th>28</th>\n",
              "      <th>29</th>\n",
              "      <th>30</th>\n",
              "      <th>31</th>\n",
              "      <th>32</th>\n",
              "      <th>33</th>\n",
              "      <th>34</th>\n",
              "      <th>35</th>\n",
              "      <th>36</th>\n",
              "      <th>37</th>\n",
              "      <th>38</th>\n",
              "      <th>39</th>\n",
              "      <th>...</th>\n",
              "      <th>56</th>\n",
              "      <th>57</th>\n",
              "      <th>58</th>\n",
              "      <th>59</th>\n",
              "      <th>60</th>\n",
              "      <th>61</th>\n",
              "      <th>62</th>\n",
              "      <th>63</th>\n",
              "      <th>64</th>\n",
              "      <th>65</th>\n",
              "      <th>66</th>\n",
              "      <th>67</th>\n",
              "      <th>68</th>\n",
              "      <th>69</th>\n",
              "      <th>70</th>\n",
              "      <th>71</th>\n",
              "      <th>72</th>\n",
              "      <th>73</th>\n",
              "      <th>74</th>\n",
              "      <th>75</th>\n",
              "      <th>76</th>\n",
              "      <th>77</th>\n",
              "      <th>78</th>\n",
              "      <th>79</th>\n",
              "      <th>80</th>\n",
              "      <th>81</th>\n",
              "      <th>82</th>\n",
              "      <th>83</th>\n",
              "      <th>84</th>\n",
              "      <th>85</th>\n",
              "      <th>86</th>\n",
              "      <th>87</th>\n",
              "      <th>88</th>\n",
              "      <th>89</th>\n",
              "      <th>90</th>\n",
              "      <th>91</th>\n",
              "      <th>92</th>\n",
              "      <th>93</th>\n",
              "      <th>94</th>\n",
              "      <th>95</th>\n",
              "    </tr>\n",
              "  </thead>\n",
              "  <tbody>\n",
              "    <tr>\n",
              "      <th>0</th>\n",
              "      <td>30.616867</td>\n",
              "      <td>0.0</td>\n",
              "      <td>0.0</td>\n",
              "      <td>29.636526</td>\n",
              "      <td>32.162609</td>\n",
              "      <td>0.0</td>\n",
              "      <td>0.0</td>\n",
              "      <td>0.0</td>\n",
              "      <td>0.0</td>\n",
              "      <td>30.805445</td>\n",
              "      <td>0.0</td>\n",
              "      <td>0.0</td>\n",
              "      <td>27.131578</td>\n",
              "      <td>0.0</td>\n",
              "      <td>31.778505</td>\n",
              "      <td>0.0</td>\n",
              "      <td>0.0</td>\n",
              "      <td>0.0</td>\n",
              "      <td>0.0</td>\n",
              "      <td>0.0</td>\n",
              "      <td>0.0</td>\n",
              "      <td>29.672590</td>\n",
              "      <td>30.342213</td>\n",
              "      <td>0.0</td>\n",
              "      <td>28.215733</td>\n",
              "      <td>28.790693</td>\n",
              "      <td>0.0</td>\n",
              "      <td>28.185005</td>\n",
              "      <td>30.725031</td>\n",
              "      <td>0.0</td>\n",
              "      <td>33.416767</td>\n",
              "      <td>0.0</td>\n",
              "      <td>31.006927</td>\n",
              "      <td>0.0</td>\n",
              "      <td>0.0</td>\n",
              "      <td>0.0</td>\n",
              "      <td>29.666250</td>\n",
              "      <td>0.0</td>\n",
              "      <td>28.132376</td>\n",
              "      <td>27.829586</td>\n",
              "      <td>...</td>\n",
              "      <td>0.0</td>\n",
              "      <td>30.405191</td>\n",
              "      <td>0.0</td>\n",
              "      <td>31.827873</td>\n",
              "      <td>30.070164</td>\n",
              "      <td>29.150633</td>\n",
              "      <td>0.0</td>\n",
              "      <td>0.0</td>\n",
              "      <td>0.0</td>\n",
              "      <td>29.719778</td>\n",
              "      <td>30.209930</td>\n",
              "      <td>30.314495</td>\n",
              "      <td>30.427006</td>\n",
              "      <td>31.553383</td>\n",
              "      <td>25.343882</td>\n",
              "      <td>0.0</td>\n",
              "      <td>0.0</td>\n",
              "      <td>0.0</td>\n",
              "      <td>29.653337</td>\n",
              "      <td>30.662849</td>\n",
              "      <td>27.368153</td>\n",
              "      <td>28.072157</td>\n",
              "      <td>29.638372</td>\n",
              "      <td>0.0</td>\n",
              "      <td>0.0</td>\n",
              "      <td>0.0</td>\n",
              "      <td>27.987888</td>\n",
              "      <td>29.380346</td>\n",
              "      <td>0.0</td>\n",
              "      <td>0.0</td>\n",
              "      <td>31.659018</td>\n",
              "      <td>33.969978</td>\n",
              "      <td>29.509285</td>\n",
              "      <td>0.0</td>\n",
              "      <td>0.0</td>\n",
              "      <td>0.0</td>\n",
              "      <td>0.0</td>\n",
              "      <td>28.383293</td>\n",
              "      <td>29.676708</td>\n",
              "      <td>30.095673</td>\n",
              "    </tr>\n",
              "    <tr>\n",
              "      <th>1</th>\n",
              "      <td>30.664806</td>\n",
              "      <td>0.0</td>\n",
              "      <td>0.0</td>\n",
              "      <td>29.692413</td>\n",
              "      <td>32.200027</td>\n",
              "      <td>0.0</td>\n",
              "      <td>0.0</td>\n",
              "      <td>0.0</td>\n",
              "      <td>0.0</td>\n",
              "      <td>30.871675</td>\n",
              "      <td>0.0</td>\n",
              "      <td>0.0</td>\n",
              "      <td>27.205021</td>\n",
              "      <td>0.0</td>\n",
              "      <td>31.850491</td>\n",
              "      <td>0.0</td>\n",
              "      <td>0.0</td>\n",
              "      <td>0.0</td>\n",
              "      <td>0.0</td>\n",
              "      <td>0.0</td>\n",
              "      <td>0.0</td>\n",
              "      <td>29.740582</td>\n",
              "      <td>30.385996</td>\n",
              "      <td>0.0</td>\n",
              "      <td>28.254162</td>\n",
              "      <td>28.836729</td>\n",
              "      <td>0.0</td>\n",
              "      <td>28.231325</td>\n",
              "      <td>30.789755</td>\n",
              "      <td>0.0</td>\n",
              "      <td>33.470104</td>\n",
              "      <td>0.0</td>\n",
              "      <td>31.069757</td>\n",
              "      <td>0.0</td>\n",
              "      <td>0.0</td>\n",
              "      <td>0.0</td>\n",
              "      <td>29.716038</td>\n",
              "      <td>0.0</td>\n",
              "      <td>28.158859</td>\n",
              "      <td>27.892616</td>\n",
              "      <td>...</td>\n",
              "      <td>0.0</td>\n",
              "      <td>30.467821</td>\n",
              "      <td>0.0</td>\n",
              "      <td>31.878544</td>\n",
              "      <td>30.131351</td>\n",
              "      <td>29.197922</td>\n",
              "      <td>0.0</td>\n",
              "      <td>0.0</td>\n",
              "      <td>0.0</td>\n",
              "      <td>29.767113</td>\n",
              "      <td>30.247681</td>\n",
              "      <td>30.384054</td>\n",
              "      <td>30.475931</td>\n",
              "      <td>31.611652</td>\n",
              "      <td>25.385765</td>\n",
              "      <td>0.0</td>\n",
              "      <td>0.0</td>\n",
              "      <td>0.0</td>\n",
              "      <td>29.706791</td>\n",
              "      <td>30.710016</td>\n",
              "      <td>27.436964</td>\n",
              "      <td>28.116720</td>\n",
              "      <td>29.693666</td>\n",
              "      <td>0.0</td>\n",
              "      <td>0.0</td>\n",
              "      <td>0.0</td>\n",
              "      <td>28.028591</td>\n",
              "      <td>29.423454</td>\n",
              "      <td>0.0</td>\n",
              "      <td>0.0</td>\n",
              "      <td>31.719360</td>\n",
              "      <td>34.037636</td>\n",
              "      <td>29.566992</td>\n",
              "      <td>0.0</td>\n",
              "      <td>0.0</td>\n",
              "      <td>0.0</td>\n",
              "      <td>0.0</td>\n",
              "      <td>28.436022</td>\n",
              "      <td>29.727427</td>\n",
              "      <td>30.140673</td>\n",
              "    </tr>\n",
              "    <tr>\n",
              "      <th>2</th>\n",
              "      <td>30.734238</td>\n",
              "      <td>0.0</td>\n",
              "      <td>0.0</td>\n",
              "      <td>29.751266</td>\n",
              "      <td>32.293331</td>\n",
              "      <td>0.0</td>\n",
              "      <td>0.0</td>\n",
              "      <td>0.0</td>\n",
              "      <td>0.0</td>\n",
              "      <td>30.937901</td>\n",
              "      <td>0.0</td>\n",
              "      <td>0.0</td>\n",
              "      <td>27.237867</td>\n",
              "      <td>0.0</td>\n",
              "      <td>31.913078</td>\n",
              "      <td>0.0</td>\n",
              "      <td>0.0</td>\n",
              "      <td>0.0</td>\n",
              "      <td>0.0</td>\n",
              "      <td>0.0</td>\n",
              "      <td>0.0</td>\n",
              "      <td>29.819033</td>\n",
              "      <td>30.460699</td>\n",
              "      <td>0.0</td>\n",
              "      <td>28.321260</td>\n",
              "      <td>28.902403</td>\n",
              "      <td>0.0</td>\n",
              "      <td>28.298883</td>\n",
              "      <td>30.828402</td>\n",
              "      <td>0.0</td>\n",
              "      <td>33.525116</td>\n",
              "      <td>0.0</td>\n",
              "      <td>31.143936</td>\n",
              "      <td>0.0</td>\n",
              "      <td>0.0</td>\n",
              "      <td>0.0</td>\n",
              "      <td>29.785675</td>\n",
              "      <td>0.0</td>\n",
              "      <td>28.211412</td>\n",
              "      <td>27.948406</td>\n",
              "      <td>...</td>\n",
              "      <td>0.0</td>\n",
              "      <td>30.547081</td>\n",
              "      <td>0.0</td>\n",
              "      <td>31.944426</td>\n",
              "      <td>30.198130</td>\n",
              "      <td>29.252367</td>\n",
              "      <td>0.0</td>\n",
              "      <td>0.0</td>\n",
              "      <td>0.0</td>\n",
              "      <td>29.840096</td>\n",
              "      <td>30.282207</td>\n",
              "      <td>30.480629</td>\n",
              "      <td>30.530731</td>\n",
              "      <td>31.674507</td>\n",
              "      <td>25.447525</td>\n",
              "      <td>0.0</td>\n",
              "      <td>0.0</td>\n",
              "      <td>0.0</td>\n",
              "      <td>29.747126</td>\n",
              "      <td>30.768293</td>\n",
              "      <td>27.484926</td>\n",
              "      <td>28.164557</td>\n",
              "      <td>29.755779</td>\n",
              "      <td>0.0</td>\n",
              "      <td>0.0</td>\n",
              "      <td>0.0</td>\n",
              "      <td>28.087194</td>\n",
              "      <td>29.507608</td>\n",
              "      <td>0.0</td>\n",
              "      <td>0.0</td>\n",
              "      <td>31.782141</td>\n",
              "      <td>34.111771</td>\n",
              "      <td>29.616953</td>\n",
              "      <td>0.0</td>\n",
              "      <td>0.0</td>\n",
              "      <td>0.0</td>\n",
              "      <td>0.0</td>\n",
              "      <td>28.493284</td>\n",
              "      <td>29.803070</td>\n",
              "      <td>30.195574</td>\n",
              "    </tr>\n",
              "    <tr>\n",
              "      <th>3</th>\n",
              "      <td>30.417492</td>\n",
              "      <td>0.0</td>\n",
              "      <td>0.0</td>\n",
              "      <td>29.472260</td>\n",
              "      <td>31.937670</td>\n",
              "      <td>0.0</td>\n",
              "      <td>0.0</td>\n",
              "      <td>0.0</td>\n",
              "      <td>0.0</td>\n",
              "      <td>30.610645</td>\n",
              "      <td>0.0</td>\n",
              "      <td>0.0</td>\n",
              "      <td>26.970720</td>\n",
              "      <td>0.0</td>\n",
              "      <td>31.594007</td>\n",
              "      <td>0.0</td>\n",
              "      <td>0.0</td>\n",
              "      <td>0.0</td>\n",
              "      <td>0.0</td>\n",
              "      <td>0.0</td>\n",
              "      <td>0.0</td>\n",
              "      <td>29.486300</td>\n",
              "      <td>30.158493</td>\n",
              "      <td>0.0</td>\n",
              "      <td>28.026239</td>\n",
              "      <td>28.603619</td>\n",
              "      <td>0.0</td>\n",
              "      <td>28.022589</td>\n",
              "      <td>30.556517</td>\n",
              "      <td>0.0</td>\n",
              "      <td>33.187538</td>\n",
              "      <td>0.0</td>\n",
              "      <td>30.770580</td>\n",
              "      <td>0.0</td>\n",
              "      <td>0.0</td>\n",
              "      <td>0.0</td>\n",
              "      <td>29.466646</td>\n",
              "      <td>0.0</td>\n",
              "      <td>27.974791</td>\n",
              "      <td>27.651045</td>\n",
              "      <td>...</td>\n",
              "      <td>0.0</td>\n",
              "      <td>30.222765</td>\n",
              "      <td>0.0</td>\n",
              "      <td>31.634369</td>\n",
              "      <td>29.892654</td>\n",
              "      <td>28.975603</td>\n",
              "      <td>0.0</td>\n",
              "      <td>0.0</td>\n",
              "      <td>0.0</td>\n",
              "      <td>29.516582</td>\n",
              "      <td>30.026577</td>\n",
              "      <td>30.093824</td>\n",
              "      <td>30.242966</td>\n",
              "      <td>31.351076</td>\n",
              "      <td>25.203798</td>\n",
              "      <td>0.0</td>\n",
              "      <td>0.0</td>\n",
              "      <td>0.0</td>\n",
              "      <td>29.491680</td>\n",
              "      <td>30.455410</td>\n",
              "      <td>27.198782</td>\n",
              "      <td>27.901487</td>\n",
              "      <td>29.446285</td>\n",
              "      <td>0.0</td>\n",
              "      <td>0.0</td>\n",
              "      <td>0.0</td>\n",
              "      <td>27.808714</td>\n",
              "      <td>29.200752</td>\n",
              "      <td>0.0</td>\n",
              "      <td>0.0</td>\n",
              "      <td>31.442646</td>\n",
              "      <td>33.781155</td>\n",
              "      <td>29.334921</td>\n",
              "      <td>0.0</td>\n",
              "      <td>0.0</td>\n",
              "      <td>0.0</td>\n",
              "      <td>0.0</td>\n",
              "      <td>28.212015</td>\n",
              "      <td>29.490416</td>\n",
              "      <td>29.899065</td>\n",
              "    </tr>\n",
              "    <tr>\n",
              "      <th>4</th>\n",
              "      <td>30.698362</td>\n",
              "      <td>0.0</td>\n",
              "      <td>0.0</td>\n",
              "      <td>29.739126</td>\n",
              "      <td>32.246872</td>\n",
              "      <td>0.0</td>\n",
              "      <td>0.0</td>\n",
              "      <td>0.0</td>\n",
              "      <td>0.0</td>\n",
              "      <td>30.905609</td>\n",
              "      <td>0.0</td>\n",
              "      <td>0.0</td>\n",
              "      <td>27.214804</td>\n",
              "      <td>0.0</td>\n",
              "      <td>31.893217</td>\n",
              "      <td>0.0</td>\n",
              "      <td>0.0</td>\n",
              "      <td>0.0</td>\n",
              "      <td>0.0</td>\n",
              "      <td>0.0</td>\n",
              "      <td>0.0</td>\n",
              "      <td>29.785013</td>\n",
              "      <td>30.437826</td>\n",
              "      <td>0.0</td>\n",
              "      <td>28.303764</td>\n",
              "      <td>28.882792</td>\n",
              "      <td>0.0</td>\n",
              "      <td>28.269718</td>\n",
              "      <td>30.809301</td>\n",
              "      <td>0.0</td>\n",
              "      <td>33.502731</td>\n",
              "      <td>0.0</td>\n",
              "      <td>31.117882</td>\n",
              "      <td>0.0</td>\n",
              "      <td>0.0</td>\n",
              "      <td>0.0</td>\n",
              "      <td>29.743435</td>\n",
              "      <td>0.0</td>\n",
              "      <td>28.198540</td>\n",
              "      <td>27.953930</td>\n",
              "      <td>...</td>\n",
              "      <td>0.0</td>\n",
              "      <td>30.508001</td>\n",
              "      <td>0.0</td>\n",
              "      <td>31.917023</td>\n",
              "      <td>30.166517</td>\n",
              "      <td>29.257061</td>\n",
              "      <td>0.0</td>\n",
              "      <td>0.0</td>\n",
              "      <td>0.0</td>\n",
              "      <td>29.801260</td>\n",
              "      <td>30.282646</td>\n",
              "      <td>30.410635</td>\n",
              "      <td>30.519686</td>\n",
              "      <td>31.646761</td>\n",
              "      <td>25.427944</td>\n",
              "      <td>0.0</td>\n",
              "      <td>0.0</td>\n",
              "      <td>0.0</td>\n",
              "      <td>29.752188</td>\n",
              "      <td>30.733305</td>\n",
              "      <td>27.465899</td>\n",
              "      <td>28.149925</td>\n",
              "      <td>29.736561</td>\n",
              "      <td>0.0</td>\n",
              "      <td>0.0</td>\n",
              "      <td>0.0</td>\n",
              "      <td>28.077177</td>\n",
              "      <td>29.492826</td>\n",
              "      <td>0.0</td>\n",
              "      <td>0.0</td>\n",
              "      <td>31.756918</td>\n",
              "      <td>34.108166</td>\n",
              "      <td>29.620253</td>\n",
              "      <td>0.0</td>\n",
              "      <td>0.0</td>\n",
              "      <td>0.0</td>\n",
              "      <td>0.0</td>\n",
              "      <td>28.479616</td>\n",
              "      <td>29.782129</td>\n",
              "      <td>30.178522</td>\n",
              "    </tr>\n",
              "    <tr>\n",
              "      <th>5</th>\n",
              "      <td>30.714109</td>\n",
              "      <td>0.0</td>\n",
              "      <td>0.0</td>\n",
              "      <td>29.717493</td>\n",
              "      <td>32.251934</td>\n",
              "      <td>0.0</td>\n",
              "      <td>0.0</td>\n",
              "      <td>0.0</td>\n",
              "      <td>0.0</td>\n",
              "      <td>30.888861</td>\n",
              "      <td>0.0</td>\n",
              "      <td>0.0</td>\n",
              "      <td>27.198254</td>\n",
              "      <td>0.0</td>\n",
              "      <td>31.876562</td>\n",
              "      <td>0.0</td>\n",
              "      <td>0.0</td>\n",
              "      <td>0.0</td>\n",
              "      <td>0.0</td>\n",
              "      <td>0.0</td>\n",
              "      <td>0.0</td>\n",
              "      <td>29.784336</td>\n",
              "      <td>30.424158</td>\n",
              "      <td>0.0</td>\n",
              "      <td>28.285151</td>\n",
              "      <td>28.883392</td>\n",
              "      <td>0.0</td>\n",
              "      <td>28.258379</td>\n",
              "      <td>30.804312</td>\n",
              "      <td>0.0</td>\n",
              "      <td>33.499447</td>\n",
              "      <td>0.0</td>\n",
              "      <td>31.102522</td>\n",
              "      <td>0.0</td>\n",
              "      <td>0.0</td>\n",
              "      <td>0.0</td>\n",
              "      <td>29.748810</td>\n",
              "      <td>0.0</td>\n",
              "      <td>28.209120</td>\n",
              "      <td>27.909571</td>\n",
              "      <td>...</td>\n",
              "      <td>0.0</td>\n",
              "      <td>30.507540</td>\n",
              "      <td>0.0</td>\n",
              "      <td>31.922308</td>\n",
              "      <td>30.160641</td>\n",
              "      <td>29.225975</td>\n",
              "      <td>0.0</td>\n",
              "      <td>0.0</td>\n",
              "      <td>0.0</td>\n",
              "      <td>29.794956</td>\n",
              "      <td>30.297821</td>\n",
              "      <td>30.399443</td>\n",
              "      <td>30.509872</td>\n",
              "      <td>31.646461</td>\n",
              "      <td>25.413458</td>\n",
              "      <td>0.0</td>\n",
              "      <td>0.0</td>\n",
              "      <td>0.0</td>\n",
              "      <td>29.746534</td>\n",
              "      <td>30.734900</td>\n",
              "      <td>27.453793</td>\n",
              "      <td>28.147102</td>\n",
              "      <td>29.711803</td>\n",
              "      <td>0.0</td>\n",
              "      <td>0.0</td>\n",
              "      <td>0.0</td>\n",
              "      <td>28.063749</td>\n",
              "      <td>29.465839</td>\n",
              "      <td>0.0</td>\n",
              "      <td>0.0</td>\n",
              "      <td>31.742846</td>\n",
              "      <td>34.086575</td>\n",
              "      <td>29.596416</td>\n",
              "      <td>0.0</td>\n",
              "      <td>0.0</td>\n",
              "      <td>0.0</td>\n",
              "      <td>0.0</td>\n",
              "      <td>28.458530</td>\n",
              "      <td>29.754658</td>\n",
              "      <td>30.175665</td>\n",
              "    </tr>\n",
              "    <tr>\n",
              "      <th>6</th>\n",
              "      <td>30.655888</td>\n",
              "      <td>0.0</td>\n",
              "      <td>0.0</td>\n",
              "      <td>29.694267</td>\n",
              "      <td>32.189255</td>\n",
              "      <td>0.0</td>\n",
              "      <td>0.0</td>\n",
              "      <td>0.0</td>\n",
              "      <td>0.0</td>\n",
              "      <td>30.827137</td>\n",
              "      <td>0.0</td>\n",
              "      <td>0.0</td>\n",
              "      <td>27.167135</td>\n",
              "      <td>0.0</td>\n",
              "      <td>31.837257</td>\n",
              "      <td>0.0</td>\n",
              "      <td>0.0</td>\n",
              "      <td>0.0</td>\n",
              "      <td>0.0</td>\n",
              "      <td>0.0</td>\n",
              "      <td>0.0</td>\n",
              "      <td>29.721874</td>\n",
              "      <td>30.369827</td>\n",
              "      <td>0.0</td>\n",
              "      <td>28.231459</td>\n",
              "      <td>28.828051</td>\n",
              "      <td>0.0</td>\n",
              "      <td>28.215166</td>\n",
              "      <td>30.751352</td>\n",
              "      <td>0.0</td>\n",
              "      <td>33.427677</td>\n",
              "      <td>0.0</td>\n",
              "      <td>31.033997</td>\n",
              "      <td>0.0</td>\n",
              "      <td>0.0</td>\n",
              "      <td>0.0</td>\n",
              "      <td>29.680439</td>\n",
              "      <td>0.0</td>\n",
              "      <td>28.158426</td>\n",
              "      <td>27.872192</td>\n",
              "      <td>...</td>\n",
              "      <td>0.0</td>\n",
              "      <td>30.457960</td>\n",
              "      <td>0.0</td>\n",
              "      <td>31.855904</td>\n",
              "      <td>30.109861</td>\n",
              "      <td>29.188053</td>\n",
              "      <td>0.0</td>\n",
              "      <td>0.0</td>\n",
              "      <td>0.0</td>\n",
              "      <td>29.722525</td>\n",
              "      <td>30.226875</td>\n",
              "      <td>30.342468</td>\n",
              "      <td>30.461269</td>\n",
              "      <td>31.584204</td>\n",
              "      <td>25.384884</td>\n",
              "      <td>0.0</td>\n",
              "      <td>0.0</td>\n",
              "      <td>0.0</td>\n",
              "      <td>29.713243</td>\n",
              "      <td>30.682217</td>\n",
              "      <td>27.393505</td>\n",
              "      <td>28.100025</td>\n",
              "      <td>29.646391</td>\n",
              "      <td>0.0</td>\n",
              "      <td>0.0</td>\n",
              "      <td>0.0</td>\n",
              "      <td>28.016809</td>\n",
              "      <td>29.421658</td>\n",
              "      <td>0.0</td>\n",
              "      <td>0.0</td>\n",
              "      <td>31.673931</td>\n",
              "      <td>34.018387</td>\n",
              "      <td>29.547888</td>\n",
              "      <td>0.0</td>\n",
              "      <td>0.0</td>\n",
              "      <td>0.0</td>\n",
              "      <td>0.0</td>\n",
              "      <td>28.424826</td>\n",
              "      <td>29.717476</td>\n",
              "      <td>30.126707</td>\n",
              "    </tr>\n",
              "    <tr>\n",
              "      <th>7</th>\n",
              "      <td>30.774502</td>\n",
              "      <td>0.0</td>\n",
              "      <td>0.0</td>\n",
              "      <td>29.795328</td>\n",
              "      <td>32.329304</td>\n",
              "      <td>0.0</td>\n",
              "      <td>0.0</td>\n",
              "      <td>0.0</td>\n",
              "      <td>0.0</td>\n",
              "      <td>30.958218</td>\n",
              "      <td>0.0</td>\n",
              "      <td>0.0</td>\n",
              "      <td>27.269999</td>\n",
              "      <td>0.0</td>\n",
              "      <td>31.936405</td>\n",
              "      <td>0.0</td>\n",
              "      <td>0.0</td>\n",
              "      <td>0.0</td>\n",
              "      <td>0.0</td>\n",
              "      <td>0.0</td>\n",
              "      <td>0.0</td>\n",
              "      <td>29.822495</td>\n",
              "      <td>30.509710</td>\n",
              "      <td>0.0</td>\n",
              "      <td>28.361921</td>\n",
              "      <td>28.943026</td>\n",
              "      <td>0.0</td>\n",
              "      <td>28.358534</td>\n",
              "      <td>30.891563</td>\n",
              "      <td>0.0</td>\n",
              "      <td>33.563629</td>\n",
              "      <td>0.0</td>\n",
              "      <td>31.180725</td>\n",
              "      <td>0.0</td>\n",
              "      <td>0.0</td>\n",
              "      <td>0.0</td>\n",
              "      <td>29.801113</td>\n",
              "      <td>0.0</td>\n",
              "      <td>28.280851</td>\n",
              "      <td>27.982901</td>\n",
              "      <td>...</td>\n",
              "      <td>0.0</td>\n",
              "      <td>30.576063</td>\n",
              "      <td>0.0</td>\n",
              "      <td>31.982042</td>\n",
              "      <td>30.215378</td>\n",
              "      <td>29.303568</td>\n",
              "      <td>0.0</td>\n",
              "      <td>0.0</td>\n",
              "      <td>0.0</td>\n",
              "      <td>29.862396</td>\n",
              "      <td>30.357498</td>\n",
              "      <td>30.447632</td>\n",
              "      <td>30.575981</td>\n",
              "      <td>31.697496</td>\n",
              "      <td>25.476757</td>\n",
              "      <td>0.0</td>\n",
              "      <td>0.0</td>\n",
              "      <td>0.0</td>\n",
              "      <td>29.815607</td>\n",
              "      <td>30.804636</td>\n",
              "      <td>27.524176</td>\n",
              "      <td>28.194376</td>\n",
              "      <td>29.780434</td>\n",
              "      <td>0.0</td>\n",
              "      <td>0.0</td>\n",
              "      <td>0.0</td>\n",
              "      <td>28.132790</td>\n",
              "      <td>29.541294</td>\n",
              "      <td>0.0</td>\n",
              "      <td>0.0</td>\n",
              "      <td>31.813948</td>\n",
              "      <td>34.174503</td>\n",
              "      <td>29.669289</td>\n",
              "      <td>0.0</td>\n",
              "      <td>0.0</td>\n",
              "      <td>0.0</td>\n",
              "      <td>0.0</td>\n",
              "      <td>28.505978</td>\n",
              "      <td>29.808767</td>\n",
              "      <td>30.235287</td>\n",
              "    </tr>\n",
              "    <tr>\n",
              "      <th>8</th>\n",
              "      <td>30.778107</td>\n",
              "      <td>0.0</td>\n",
              "      <td>0.0</td>\n",
              "      <td>29.778042</td>\n",
              "      <td>32.325344</td>\n",
              "      <td>0.0</td>\n",
              "      <td>0.0</td>\n",
              "      <td>0.0</td>\n",
              "      <td>0.0</td>\n",
              "      <td>30.942556</td>\n",
              "      <td>0.0</td>\n",
              "      <td>0.0</td>\n",
              "      <td>27.257418</td>\n",
              "      <td>0.0</td>\n",
              "      <td>31.946081</td>\n",
              "      <td>0.0</td>\n",
              "      <td>0.0</td>\n",
              "      <td>0.0</td>\n",
              "      <td>0.0</td>\n",
              "      <td>0.0</td>\n",
              "      <td>0.0</td>\n",
              "      <td>29.799765</td>\n",
              "      <td>30.502773</td>\n",
              "      <td>0.0</td>\n",
              "      <td>28.338984</td>\n",
              "      <td>28.937693</td>\n",
              "      <td>0.0</td>\n",
              "      <td>28.314478</td>\n",
              "      <td>30.863073</td>\n",
              "      <td>0.0</td>\n",
              "      <td>33.566666</td>\n",
              "      <td>0.0</td>\n",
              "      <td>31.183302</td>\n",
              "      <td>0.0</td>\n",
              "      <td>0.0</td>\n",
              "      <td>0.0</td>\n",
              "      <td>29.802231</td>\n",
              "      <td>0.0</td>\n",
              "      <td>28.271191</td>\n",
              "      <td>27.988266</td>\n",
              "      <td>...</td>\n",
              "      <td>0.0</td>\n",
              "      <td>30.562960</td>\n",
              "      <td>0.0</td>\n",
              "      <td>31.968266</td>\n",
              "      <td>30.211500</td>\n",
              "      <td>29.291348</td>\n",
              "      <td>0.0</td>\n",
              "      <td>0.0</td>\n",
              "      <td>0.0</td>\n",
              "      <td>29.855612</td>\n",
              "      <td>30.356668</td>\n",
              "      <td>30.474270</td>\n",
              "      <td>30.565027</td>\n",
              "      <td>31.705093</td>\n",
              "      <td>25.473234</td>\n",
              "      <td>0.0</td>\n",
              "      <td>0.0</td>\n",
              "      <td>0.0</td>\n",
              "      <td>29.817329</td>\n",
              "      <td>30.793139</td>\n",
              "      <td>27.525824</td>\n",
              "      <td>28.205242</td>\n",
              "      <td>29.750362</td>\n",
              "      <td>0.0</td>\n",
              "      <td>0.0</td>\n",
              "      <td>0.0</td>\n",
              "      <td>28.114393</td>\n",
              "      <td>29.531248</td>\n",
              "      <td>0.0</td>\n",
              "      <td>0.0</td>\n",
              "      <td>31.825897</td>\n",
              "      <td>34.149319</td>\n",
              "      <td>29.656481</td>\n",
              "      <td>0.0</td>\n",
              "      <td>0.0</td>\n",
              "      <td>0.0</td>\n",
              "      <td>0.0</td>\n",
              "      <td>28.512703</td>\n",
              "      <td>29.831278</td>\n",
              "      <td>30.242298</td>\n",
              "    </tr>\n",
              "    <tr>\n",
              "      <th>9</th>\n",
              "      <td>30.668875</td>\n",
              "      <td>0.0</td>\n",
              "      <td>0.0</td>\n",
              "      <td>29.694128</td>\n",
              "      <td>32.220818</td>\n",
              "      <td>0.0</td>\n",
              "      <td>0.0</td>\n",
              "      <td>0.0</td>\n",
              "      <td>0.0</td>\n",
              "      <td>30.845573</td>\n",
              "      <td>0.0</td>\n",
              "      <td>0.0</td>\n",
              "      <td>27.174976</td>\n",
              "      <td>0.0</td>\n",
              "      <td>31.813108</td>\n",
              "      <td>0.0</td>\n",
              "      <td>0.0</td>\n",
              "      <td>0.0</td>\n",
              "      <td>0.0</td>\n",
              "      <td>0.0</td>\n",
              "      <td>0.0</td>\n",
              "      <td>29.727692</td>\n",
              "      <td>30.401194</td>\n",
              "      <td>0.0</td>\n",
              "      <td>28.262119</td>\n",
              "      <td>28.833717</td>\n",
              "      <td>0.0</td>\n",
              "      <td>28.228170</td>\n",
              "      <td>30.785656</td>\n",
              "      <td>0.0</td>\n",
              "      <td>33.444122</td>\n",
              "      <td>0.0</td>\n",
              "      <td>31.069786</td>\n",
              "      <td>0.0</td>\n",
              "      <td>0.0</td>\n",
              "      <td>0.0</td>\n",
              "      <td>29.707603</td>\n",
              "      <td>0.0</td>\n",
              "      <td>28.166040</td>\n",
              "      <td>27.896902</td>\n",
              "      <td>...</td>\n",
              "      <td>0.0</td>\n",
              "      <td>30.478891</td>\n",
              "      <td>0.0</td>\n",
              "      <td>31.867861</td>\n",
              "      <td>30.110807</td>\n",
              "      <td>29.188953</td>\n",
              "      <td>0.0</td>\n",
              "      <td>0.0</td>\n",
              "      <td>0.0</td>\n",
              "      <td>29.759880</td>\n",
              "      <td>30.249094</td>\n",
              "      <td>30.380117</td>\n",
              "      <td>30.459974</td>\n",
              "      <td>31.581928</td>\n",
              "      <td>25.373611</td>\n",
              "      <td>0.0</td>\n",
              "      <td>0.0</td>\n",
              "      <td>0.0</td>\n",
              "      <td>29.720373</td>\n",
              "      <td>30.688311</td>\n",
              "      <td>27.429642</td>\n",
              "      <td>28.107695</td>\n",
              "      <td>29.694420</td>\n",
              "      <td>0.0</td>\n",
              "      <td>0.0</td>\n",
              "      <td>0.0</td>\n",
              "      <td>28.020796</td>\n",
              "      <td>29.433632</td>\n",
              "      <td>0.0</td>\n",
              "      <td>0.0</td>\n",
              "      <td>31.714378</td>\n",
              "      <td>34.053459</td>\n",
              "      <td>29.566582</td>\n",
              "      <td>0.0</td>\n",
              "      <td>0.0</td>\n",
              "      <td>0.0</td>\n",
              "      <td>0.0</td>\n",
              "      <td>28.418789</td>\n",
              "      <td>29.729687</td>\n",
              "      <td>30.132696</td>\n",
              "    </tr>\n",
              "  </tbody>\n",
              "</table>\n",
              "<p>10 rows × 96 columns</p>\n",
              "</div>"
            ],
            "text/plain": [
              "          0    1    2          3   ...   92         93         94         95\n",
              "0  30.616867  0.0  0.0  29.636526  ...  0.0  28.383293  29.676708  30.095673\n",
              "1  30.664806  0.0  0.0  29.692413  ...  0.0  28.436022  29.727427  30.140673\n",
              "2  30.734238  0.0  0.0  29.751266  ...  0.0  28.493284  29.803070  30.195574\n",
              "3  30.417492  0.0  0.0  29.472260  ...  0.0  28.212015  29.490416  29.899065\n",
              "4  30.698362  0.0  0.0  29.739126  ...  0.0  28.479616  29.782129  30.178522\n",
              "5  30.714109  0.0  0.0  29.717493  ...  0.0  28.458530  29.754658  30.175665\n",
              "6  30.655888  0.0  0.0  29.694267  ...  0.0  28.424826  29.717476  30.126707\n",
              "7  30.774502  0.0  0.0  29.795328  ...  0.0  28.505978  29.808767  30.235287\n",
              "8  30.778107  0.0  0.0  29.778042  ...  0.0  28.512703  29.831278  30.242298\n",
              "9  30.668875  0.0  0.0  29.694128  ...  0.0  28.418789  29.729687  30.132696\n",
              "\n",
              "[10 rows x 96 columns]"
            ]
          },
          "metadata": {
            "tags": []
          },
          "execution_count": 181
        }
      ]
    },
    {
      "cell_type": "code",
      "metadata": {
        "id": "KwAEvc87x1XN"
      },
      "source": [
        "validation_df.reset_index(inplace=True)"
      ],
      "execution_count": null,
      "outputs": []
    },
    {
      "cell_type": "code",
      "metadata": {
        "colab": {
          "base_uri": "https://localhost:8080/",
          "height": 336
        },
        "id": "sLfRKpajyGMQ",
        "outputId": "e08b88a2-ec2f-4c04-86d3-0b6e388e22c1"
      },
      "source": [
        "validation_df.head()"
      ],
      "execution_count": null,
      "outputs": [
        {
          "output_type": "execute_result",
          "data": {
            "text/html": [
              "<div>\n",
              "<style scoped>\n",
              "    .dataframe tbody tr th:only-of-type {\n",
              "        vertical-align: middle;\n",
              "    }\n",
              "\n",
              "    .dataframe tbody tr th {\n",
              "        vertical-align: top;\n",
              "    }\n",
              "\n",
              "    .dataframe thead th {\n",
              "        text-align: right;\n",
              "    }\n",
              "</style>\n",
              "<table border=\"1\" class=\"dataframe\">\n",
              "  <thead>\n",
              "    <tr style=\"text-align: right;\">\n",
              "      <th></th>\n",
              "      <th>level_0</th>\n",
              "      <th>index</th>\n",
              "      <th>IXI_ID</th>\n",
              "      <th>SEX_ID (1=m, 2=f)</th>\n",
              "      <th>HEIGHT</th>\n",
              "      <th>WEIGHT</th>\n",
              "      <th>ETHNIC_ID</th>\n",
              "      <th>MARITAL_ID</th>\n",
              "      <th>OCCUPATION_ID</th>\n",
              "      <th>QUALIFICATION_ID</th>\n",
              "      <th>DOB</th>\n",
              "      <th>DATE_AVAILABLE</th>\n",
              "      <th>STUDY_DATE</th>\n",
              "      <th>AGE</th>\n",
              "      <th>our_ixi_id</th>\n",
              "      <th>scanner_name</th>\n",
              "      <th>contrast_type</th>\n",
              "      <th>file_path</th>\n",
              "      <th>age_disc</th>\n",
              "      <th>dataset_flag</th>\n",
              "      <th>scanner_flag</th>\n",
              "    </tr>\n",
              "  </thead>\n",
              "  <tbody>\n",
              "    <tr>\n",
              "      <th>0</th>\n",
              "      <td>0</td>\n",
              "      <td>3</td>\n",
              "      <td>430</td>\n",
              "      <td>2</td>\n",
              "      <td>166</td>\n",
              "      <td>70</td>\n",
              "      <td>1</td>\n",
              "      <td>4</td>\n",
              "      <td>5</td>\n",
              "      <td>5</td>\n",
              "      <td>1934-07-02</td>\n",
              "      <td>1</td>\n",
              "      <td>2006-07-04</td>\n",
              "      <td>72.005476</td>\n",
              "      <td>430</td>\n",
              "      <td>IOP</td>\n",
              "      <td>T1</td>\n",
              "      <td>/content/drive/My Drive/Image_Registration_Pro...</td>\n",
              "      <td>70-80</td>\n",
              "      <td>validation</td>\n",
              "      <td>0</td>\n",
              "    </tr>\n",
              "    <tr>\n",
              "      <th>1</th>\n",
              "      <td>1</td>\n",
              "      <td>8</td>\n",
              "      <td>435</td>\n",
              "      <td>1</td>\n",
              "      <td>165</td>\n",
              "      <td>70</td>\n",
              "      <td>1</td>\n",
              "      <td>5</td>\n",
              "      <td>5</td>\n",
              "      <td>4</td>\n",
              "      <td>NaN</td>\n",
              "      <td>1</td>\n",
              "      <td>2006-07-10</td>\n",
              "      <td>NaN</td>\n",
              "      <td>435</td>\n",
              "      <td>IOP</td>\n",
              "      <td>T1</td>\n",
              "      <td>/content/drive/My Drive/Image_Registration_Pro...</td>\n",
              "      <td>NaN</td>\n",
              "      <td>validation</td>\n",
              "      <td>0</td>\n",
              "    </tr>\n",
              "    <tr>\n",
              "      <th>2</th>\n",
              "      <td>2</td>\n",
              "      <td>23</td>\n",
              "      <td>450</td>\n",
              "      <td>1</td>\n",
              "      <td>170</td>\n",
              "      <td>64</td>\n",
              "      <td>3</td>\n",
              "      <td>4</td>\n",
              "      <td>5</td>\n",
              "      <td>5</td>\n",
              "      <td>1938-05-08</td>\n",
              "      <td>1</td>\n",
              "      <td>2006-11-10</td>\n",
              "      <td>68.509240</td>\n",
              "      <td>450</td>\n",
              "      <td>Guys</td>\n",
              "      <td>T1</td>\n",
              "      <td>/content/drive/My Drive/Image_Registration_Pro...</td>\n",
              "      <td>60-70</td>\n",
              "      <td>validation</td>\n",
              "      <td>1</td>\n",
              "    </tr>\n",
              "    <tr>\n",
              "      <th>3</th>\n",
              "      <td>3</td>\n",
              "      <td>26</td>\n",
              "      <td>453</td>\n",
              "      <td>1</td>\n",
              "      <td>185</td>\n",
              "      <td>98</td>\n",
              "      <td>1</td>\n",
              "      <td>2</td>\n",
              "      <td>7</td>\n",
              "      <td>2</td>\n",
              "      <td>1943-02-25</td>\n",
              "      <td>1</td>\n",
              "      <td>2006-07-27</td>\n",
              "      <td>63.416838</td>\n",
              "      <td>453</td>\n",
              "      <td>HH</td>\n",
              "      <td>T1</td>\n",
              "      <td>/content/drive/My Drive/Image_Registration_Pro...</td>\n",
              "      <td>60-70</td>\n",
              "      <td>validation</td>\n",
              "      <td>2</td>\n",
              "    </tr>\n",
              "    <tr>\n",
              "      <th>4</th>\n",
              "      <td>4</td>\n",
              "      <td>27</td>\n",
              "      <td>454</td>\n",
              "      <td>1</td>\n",
              "      <td>180</td>\n",
              "      <td>100</td>\n",
              "      <td>1</td>\n",
              "      <td>1</td>\n",
              "      <td>7</td>\n",
              "      <td>5</td>\n",
              "      <td>1974-04-02</td>\n",
              "      <td>1</td>\n",
              "      <td>2006-10-30</td>\n",
              "      <td>32.577687</td>\n",
              "      <td>454</td>\n",
              "      <td>Guys</td>\n",
              "      <td>T1</td>\n",
              "      <td>/content/drive/My Drive/Image_Registration_Pro...</td>\n",
              "      <td>30-40</td>\n",
              "      <td>validation</td>\n",
              "      <td>1</td>\n",
              "    </tr>\n",
              "  </tbody>\n",
              "</table>\n",
              "</div>"
            ],
            "text/plain": [
              "   level_0  index  IXI_ID  ...  age_disc  dataset_flag  scanner_flag\n",
              "0        0      3     430  ...     70-80    validation             0\n",
              "1        1      8     435  ...       NaN    validation             0\n",
              "2        2     23     450  ...     60-70    validation             1\n",
              "3        3     26     453  ...     60-70    validation             2\n",
              "4        4     27     454  ...     30-40    validation             1\n",
              "\n",
              "[5 rows x 21 columns]"
            ]
          },
          "metadata": {
            "tags": []
          },
          "execution_count": 189
        }
      ]
    },
    {
      "cell_type": "code",
      "metadata": {
        "id": "HbwkS5YUvhQl"
      },
      "source": [
        "result = pd.merge(left=validation_df, right=df_subset, how=\"inner\", left_index=True, right_index=True, validate=\"one_to_one\")"
      ],
      "execution_count": null,
      "outputs": []
    },
    {
      "cell_type": "markdown",
      "metadata": {
        "id": "HwCVDIbxmefX"
      },
      "source": [
        "# Validation and Visualization"
      ]
    },
    {
      "cell_type": "code",
      "metadata": {
        "id": "x8sB8120mhnG"
      },
      "source": [
        "sample_np = np.random.randn(100, 384)"
      ],
      "execution_count": null,
      "outputs": []
    },
    {
      "cell_type": "code",
      "metadata": {
        "id": "uaFfRbOqmhrO"
      },
      "source": [
        "time_start = time.time()\n",
        "tsne = TSNE(n_components=2, verbose=1, perplexity=40, n_iter=300)\n"
      ],
      "execution_count": null,
      "outputs": []
    },
    {
      "cell_type": "code",
      "metadata": {
        "colab": {
          "base_uri": "https://localhost:8080/"
        },
        "id": "q-yHARBYmhs9",
        "outputId": "52b3836d-3923-41ca-83a2-9b70169f75b6"
      },
      "source": [
        "tsne_results = tsne.fit_transform(mynp)\n",
        "print('t-SNE done! Time elapsed: {} seconds'.format(time.time()-time_start))"
      ],
      "execution_count": null,
      "outputs": [
        {
          "output_type": "stream",
          "text": [
            "[t-SNE] Computing 40 nearest neighbors...\n",
            "[t-SNE] Indexed 41 samples in 0.000s...\n",
            "[t-SNE] Computed neighbors for 41 samples in 0.003s...\n",
            "[t-SNE] Computed conditional probabilities for sample 41 / 41\n",
            "[t-SNE] Mean sigma: 13.751986\n",
            "[t-SNE] KL divergence after 250 iterations with early exaggeration: 47.292187\n",
            "[t-SNE] KL divergence after 300 iterations: 0.595415\n",
            "t-SNE done! Time elapsed: 2320.2724051475525 seconds\n"
          ],
          "name": "stdout"
        }
      ]
    },
    {
      "cell_type": "code",
      "metadata": {
        "id": "_MlfPB1yoKLQ"
      },
      "source": [
        "df_subset = pd.DataFrame(tsne_results, columns = ['tsne-2d-one','tsne-2d-two'])"
      ],
      "execution_count": null,
      "outputs": []
    },
    {
      "cell_type": "code",
      "metadata": {
        "id": "sF9catCJytbL"
      },
      "source": [
        "result[\"tnse-2d-one\"] = tsne_results[:, 0]\n",
        "result[\"tnse-2d-two\"] = tsne_results[:, 1]"
      ],
      "execution_count": null,
      "outputs": []
    },
    {
      "cell_type": "code",
      "metadata": {
        "colab": {
          "base_uri": "https://localhost:8080/",
          "height": 364
        },
        "id": "WJaBNURvzX4r",
        "outputId": "3e236dfb-7325-4d22-8bd3-1235400ee671"
      },
      "source": [
        "result.head()"
      ],
      "execution_count": null,
      "outputs": [
        {
          "output_type": "execute_result",
          "data": {
            "text/html": [
              "<div>\n",
              "<style scoped>\n",
              "    .dataframe tbody tr th:only-of-type {\n",
              "        vertical-align: middle;\n",
              "    }\n",
              "\n",
              "    .dataframe tbody tr th {\n",
              "        vertical-align: top;\n",
              "    }\n",
              "\n",
              "    .dataframe thead th {\n",
              "        text-align: right;\n",
              "    }\n",
              "</style>\n",
              "<table border=\"1\" class=\"dataframe\">\n",
              "  <thead>\n",
              "    <tr style=\"text-align: right;\">\n",
              "      <th></th>\n",
              "      <th>level_0</th>\n",
              "      <th>index</th>\n",
              "      <th>IXI_ID</th>\n",
              "      <th>SEX_ID (1=m, 2=f)</th>\n",
              "      <th>HEIGHT</th>\n",
              "      <th>WEIGHT</th>\n",
              "      <th>ETHNIC_ID</th>\n",
              "      <th>MARITAL_ID</th>\n",
              "      <th>OCCUPATION_ID</th>\n",
              "      <th>QUALIFICATION_ID</th>\n",
              "      <th>DOB</th>\n",
              "      <th>DATE_AVAILABLE</th>\n",
              "      <th>STUDY_DATE</th>\n",
              "      <th>AGE</th>\n",
              "      <th>our_ixi_id</th>\n",
              "      <th>scanner_name</th>\n",
              "      <th>contrast_type</th>\n",
              "      <th>file_path</th>\n",
              "      <th>age_disc</th>\n",
              "      <th>dataset_flag</th>\n",
              "      <th>scanner_flag</th>\n",
              "      <th>0</th>\n",
              "      <th>1</th>\n",
              "      <th>2</th>\n",
              "      <th>3</th>\n",
              "      <th>4</th>\n",
              "      <th>5</th>\n",
              "      <th>6</th>\n",
              "      <th>7</th>\n",
              "      <th>8</th>\n",
              "      <th>9</th>\n",
              "      <th>10</th>\n",
              "      <th>11</th>\n",
              "      <th>12</th>\n",
              "      <th>13</th>\n",
              "      <th>14</th>\n",
              "      <th>15</th>\n",
              "      <th>16</th>\n",
              "      <th>17</th>\n",
              "      <th>18</th>\n",
              "      <th>...</th>\n",
              "      <th>58</th>\n",
              "      <th>59</th>\n",
              "      <th>60</th>\n",
              "      <th>61</th>\n",
              "      <th>62</th>\n",
              "      <th>63</th>\n",
              "      <th>64</th>\n",
              "      <th>65</th>\n",
              "      <th>66</th>\n",
              "      <th>67</th>\n",
              "      <th>68</th>\n",
              "      <th>69</th>\n",
              "      <th>70</th>\n",
              "      <th>71</th>\n",
              "      <th>72</th>\n",
              "      <th>73</th>\n",
              "      <th>74</th>\n",
              "      <th>75</th>\n",
              "      <th>76</th>\n",
              "      <th>77</th>\n",
              "      <th>78</th>\n",
              "      <th>79</th>\n",
              "      <th>80</th>\n",
              "      <th>81</th>\n",
              "      <th>82</th>\n",
              "      <th>83</th>\n",
              "      <th>84</th>\n",
              "      <th>85</th>\n",
              "      <th>86</th>\n",
              "      <th>87</th>\n",
              "      <th>88</th>\n",
              "      <th>89</th>\n",
              "      <th>90</th>\n",
              "      <th>91</th>\n",
              "      <th>92</th>\n",
              "      <th>93</th>\n",
              "      <th>94</th>\n",
              "      <th>95</th>\n",
              "      <th>tnse-2d-one</th>\n",
              "      <th>tnse-2d-two</th>\n",
              "    </tr>\n",
              "  </thead>\n",
              "  <tbody>\n",
              "    <tr>\n",
              "      <th>0</th>\n",
              "      <td>0</td>\n",
              "      <td>3</td>\n",
              "      <td>430</td>\n",
              "      <td>2</td>\n",
              "      <td>166</td>\n",
              "      <td>70</td>\n",
              "      <td>1</td>\n",
              "      <td>4</td>\n",
              "      <td>5</td>\n",
              "      <td>5</td>\n",
              "      <td>1934-07-02</td>\n",
              "      <td>1</td>\n",
              "      <td>2006-07-04</td>\n",
              "      <td>72.005476</td>\n",
              "      <td>430</td>\n",
              "      <td>IOP</td>\n",
              "      <td>T1</td>\n",
              "      <td>/content/drive/My Drive/Image_Registration_Pro...</td>\n",
              "      <td>70-80</td>\n",
              "      <td>validation</td>\n",
              "      <td>0</td>\n",
              "      <td>30.616867</td>\n",
              "      <td>0.0</td>\n",
              "      <td>0.0</td>\n",
              "      <td>29.636526</td>\n",
              "      <td>32.162609</td>\n",
              "      <td>0.0</td>\n",
              "      <td>0.0</td>\n",
              "      <td>0.0</td>\n",
              "      <td>0.0</td>\n",
              "      <td>30.805445</td>\n",
              "      <td>0.0</td>\n",
              "      <td>0.0</td>\n",
              "      <td>27.131578</td>\n",
              "      <td>0.0</td>\n",
              "      <td>31.778505</td>\n",
              "      <td>0.0</td>\n",
              "      <td>0.0</td>\n",
              "      <td>0.0</td>\n",
              "      <td>0.0</td>\n",
              "      <td>...</td>\n",
              "      <td>0.0</td>\n",
              "      <td>31.827873</td>\n",
              "      <td>30.070164</td>\n",
              "      <td>29.150633</td>\n",
              "      <td>0.0</td>\n",
              "      <td>0.0</td>\n",
              "      <td>0.0</td>\n",
              "      <td>29.719778</td>\n",
              "      <td>30.209930</td>\n",
              "      <td>30.314495</td>\n",
              "      <td>30.427006</td>\n",
              "      <td>31.553383</td>\n",
              "      <td>25.343882</td>\n",
              "      <td>0.0</td>\n",
              "      <td>0.0</td>\n",
              "      <td>0.0</td>\n",
              "      <td>29.653337</td>\n",
              "      <td>30.662849</td>\n",
              "      <td>27.368153</td>\n",
              "      <td>28.072157</td>\n",
              "      <td>29.638372</td>\n",
              "      <td>0.0</td>\n",
              "      <td>0.0</td>\n",
              "      <td>0.0</td>\n",
              "      <td>27.987888</td>\n",
              "      <td>29.380346</td>\n",
              "      <td>0.0</td>\n",
              "      <td>0.0</td>\n",
              "      <td>31.659018</td>\n",
              "      <td>33.969978</td>\n",
              "      <td>29.509285</td>\n",
              "      <td>0.0</td>\n",
              "      <td>0.0</td>\n",
              "      <td>0.0</td>\n",
              "      <td>0.0</td>\n",
              "      <td>28.383293</td>\n",
              "      <td>29.676708</td>\n",
              "      <td>30.095673</td>\n",
              "      <td>86.824020</td>\n",
              "      <td>-21.097017</td>\n",
              "    </tr>\n",
              "    <tr>\n",
              "      <th>1</th>\n",
              "      <td>1</td>\n",
              "      <td>8</td>\n",
              "      <td>435</td>\n",
              "      <td>1</td>\n",
              "      <td>165</td>\n",
              "      <td>70</td>\n",
              "      <td>1</td>\n",
              "      <td>5</td>\n",
              "      <td>5</td>\n",
              "      <td>4</td>\n",
              "      <td>NaN</td>\n",
              "      <td>1</td>\n",
              "      <td>2006-07-10</td>\n",
              "      <td>NaN</td>\n",
              "      <td>435</td>\n",
              "      <td>IOP</td>\n",
              "      <td>T1</td>\n",
              "      <td>/content/drive/My Drive/Image_Registration_Pro...</td>\n",
              "      <td>NaN</td>\n",
              "      <td>validation</td>\n",
              "      <td>0</td>\n",
              "      <td>30.664806</td>\n",
              "      <td>0.0</td>\n",
              "      <td>0.0</td>\n",
              "      <td>29.692413</td>\n",
              "      <td>32.200027</td>\n",
              "      <td>0.0</td>\n",
              "      <td>0.0</td>\n",
              "      <td>0.0</td>\n",
              "      <td>0.0</td>\n",
              "      <td>30.871675</td>\n",
              "      <td>0.0</td>\n",
              "      <td>0.0</td>\n",
              "      <td>27.205021</td>\n",
              "      <td>0.0</td>\n",
              "      <td>31.850491</td>\n",
              "      <td>0.0</td>\n",
              "      <td>0.0</td>\n",
              "      <td>0.0</td>\n",
              "      <td>0.0</td>\n",
              "      <td>...</td>\n",
              "      <td>0.0</td>\n",
              "      <td>31.878544</td>\n",
              "      <td>30.131351</td>\n",
              "      <td>29.197922</td>\n",
              "      <td>0.0</td>\n",
              "      <td>0.0</td>\n",
              "      <td>0.0</td>\n",
              "      <td>29.767113</td>\n",
              "      <td>30.247681</td>\n",
              "      <td>30.384054</td>\n",
              "      <td>30.475931</td>\n",
              "      <td>31.611652</td>\n",
              "      <td>25.385765</td>\n",
              "      <td>0.0</td>\n",
              "      <td>0.0</td>\n",
              "      <td>0.0</td>\n",
              "      <td>29.706791</td>\n",
              "      <td>30.710016</td>\n",
              "      <td>27.436964</td>\n",
              "      <td>28.116720</td>\n",
              "      <td>29.693666</td>\n",
              "      <td>0.0</td>\n",
              "      <td>0.0</td>\n",
              "      <td>0.0</td>\n",
              "      <td>28.028591</td>\n",
              "      <td>29.423454</td>\n",
              "      <td>0.0</td>\n",
              "      <td>0.0</td>\n",
              "      <td>31.719360</td>\n",
              "      <td>34.037636</td>\n",
              "      <td>29.566992</td>\n",
              "      <td>0.0</td>\n",
              "      <td>0.0</td>\n",
              "      <td>0.0</td>\n",
              "      <td>0.0</td>\n",
              "      <td>28.436022</td>\n",
              "      <td>29.727427</td>\n",
              "      <td>30.140673</td>\n",
              "      <td>-56.327362</td>\n",
              "      <td>14.789541</td>\n",
              "    </tr>\n",
              "    <tr>\n",
              "      <th>2</th>\n",
              "      <td>2</td>\n",
              "      <td>23</td>\n",
              "      <td>450</td>\n",
              "      <td>1</td>\n",
              "      <td>170</td>\n",
              "      <td>64</td>\n",
              "      <td>3</td>\n",
              "      <td>4</td>\n",
              "      <td>5</td>\n",
              "      <td>5</td>\n",
              "      <td>1938-05-08</td>\n",
              "      <td>1</td>\n",
              "      <td>2006-11-10</td>\n",
              "      <td>68.509240</td>\n",
              "      <td>450</td>\n",
              "      <td>Guys</td>\n",
              "      <td>T1</td>\n",
              "      <td>/content/drive/My Drive/Image_Registration_Pro...</td>\n",
              "      <td>60-70</td>\n",
              "      <td>validation</td>\n",
              "      <td>1</td>\n",
              "      <td>30.734238</td>\n",
              "      <td>0.0</td>\n",
              "      <td>0.0</td>\n",
              "      <td>29.751266</td>\n",
              "      <td>32.293331</td>\n",
              "      <td>0.0</td>\n",
              "      <td>0.0</td>\n",
              "      <td>0.0</td>\n",
              "      <td>0.0</td>\n",
              "      <td>30.937901</td>\n",
              "      <td>0.0</td>\n",
              "      <td>0.0</td>\n",
              "      <td>27.237867</td>\n",
              "      <td>0.0</td>\n",
              "      <td>31.913078</td>\n",
              "      <td>0.0</td>\n",
              "      <td>0.0</td>\n",
              "      <td>0.0</td>\n",
              "      <td>0.0</td>\n",
              "      <td>...</td>\n",
              "      <td>0.0</td>\n",
              "      <td>31.944426</td>\n",
              "      <td>30.198130</td>\n",
              "      <td>29.252367</td>\n",
              "      <td>0.0</td>\n",
              "      <td>0.0</td>\n",
              "      <td>0.0</td>\n",
              "      <td>29.840096</td>\n",
              "      <td>30.282207</td>\n",
              "      <td>30.480629</td>\n",
              "      <td>30.530731</td>\n",
              "      <td>31.674507</td>\n",
              "      <td>25.447525</td>\n",
              "      <td>0.0</td>\n",
              "      <td>0.0</td>\n",
              "      <td>0.0</td>\n",
              "      <td>29.747126</td>\n",
              "      <td>30.768293</td>\n",
              "      <td>27.484926</td>\n",
              "      <td>28.164557</td>\n",
              "      <td>29.755779</td>\n",
              "      <td>0.0</td>\n",
              "      <td>0.0</td>\n",
              "      <td>0.0</td>\n",
              "      <td>28.087194</td>\n",
              "      <td>29.507608</td>\n",
              "      <td>0.0</td>\n",
              "      <td>0.0</td>\n",
              "      <td>31.782141</td>\n",
              "      <td>34.111771</td>\n",
              "      <td>29.616953</td>\n",
              "      <td>0.0</td>\n",
              "      <td>0.0</td>\n",
              "      <td>0.0</td>\n",
              "      <td>0.0</td>\n",
              "      <td>28.493284</td>\n",
              "      <td>29.803070</td>\n",
              "      <td>30.195574</td>\n",
              "      <td>-53.612114</td>\n",
              "      <td>41.834824</td>\n",
              "    </tr>\n",
              "    <tr>\n",
              "      <th>3</th>\n",
              "      <td>3</td>\n",
              "      <td>26</td>\n",
              "      <td>453</td>\n",
              "      <td>1</td>\n",
              "      <td>185</td>\n",
              "      <td>98</td>\n",
              "      <td>1</td>\n",
              "      <td>2</td>\n",
              "      <td>7</td>\n",
              "      <td>2</td>\n",
              "      <td>1943-02-25</td>\n",
              "      <td>1</td>\n",
              "      <td>2006-07-27</td>\n",
              "      <td>63.416838</td>\n",
              "      <td>453</td>\n",
              "      <td>HH</td>\n",
              "      <td>T1</td>\n",
              "      <td>/content/drive/My Drive/Image_Registration_Pro...</td>\n",
              "      <td>60-70</td>\n",
              "      <td>validation</td>\n",
              "      <td>2</td>\n",
              "      <td>30.417492</td>\n",
              "      <td>0.0</td>\n",
              "      <td>0.0</td>\n",
              "      <td>29.472260</td>\n",
              "      <td>31.937670</td>\n",
              "      <td>0.0</td>\n",
              "      <td>0.0</td>\n",
              "      <td>0.0</td>\n",
              "      <td>0.0</td>\n",
              "      <td>30.610645</td>\n",
              "      <td>0.0</td>\n",
              "      <td>0.0</td>\n",
              "      <td>26.970720</td>\n",
              "      <td>0.0</td>\n",
              "      <td>31.594007</td>\n",
              "      <td>0.0</td>\n",
              "      <td>0.0</td>\n",
              "      <td>0.0</td>\n",
              "      <td>0.0</td>\n",
              "      <td>...</td>\n",
              "      <td>0.0</td>\n",
              "      <td>31.634369</td>\n",
              "      <td>29.892654</td>\n",
              "      <td>28.975603</td>\n",
              "      <td>0.0</td>\n",
              "      <td>0.0</td>\n",
              "      <td>0.0</td>\n",
              "      <td>29.516582</td>\n",
              "      <td>30.026577</td>\n",
              "      <td>30.093824</td>\n",
              "      <td>30.242966</td>\n",
              "      <td>31.351076</td>\n",
              "      <td>25.203798</td>\n",
              "      <td>0.0</td>\n",
              "      <td>0.0</td>\n",
              "      <td>0.0</td>\n",
              "      <td>29.491680</td>\n",
              "      <td>30.455410</td>\n",
              "      <td>27.198782</td>\n",
              "      <td>27.901487</td>\n",
              "      <td>29.446285</td>\n",
              "      <td>0.0</td>\n",
              "      <td>0.0</td>\n",
              "      <td>0.0</td>\n",
              "      <td>27.808714</td>\n",
              "      <td>29.200752</td>\n",
              "      <td>0.0</td>\n",
              "      <td>0.0</td>\n",
              "      <td>31.442646</td>\n",
              "      <td>33.781155</td>\n",
              "      <td>29.334921</td>\n",
              "      <td>0.0</td>\n",
              "      <td>0.0</td>\n",
              "      <td>0.0</td>\n",
              "      <td>0.0</td>\n",
              "      <td>28.212015</td>\n",
              "      <td>29.490416</td>\n",
              "      <td>29.899065</td>\n",
              "      <td>-57.644947</td>\n",
              "      <td>78.634071</td>\n",
              "    </tr>\n",
              "    <tr>\n",
              "      <th>4</th>\n",
              "      <td>4</td>\n",
              "      <td>27</td>\n",
              "      <td>454</td>\n",
              "      <td>1</td>\n",
              "      <td>180</td>\n",
              "      <td>100</td>\n",
              "      <td>1</td>\n",
              "      <td>1</td>\n",
              "      <td>7</td>\n",
              "      <td>5</td>\n",
              "      <td>1974-04-02</td>\n",
              "      <td>1</td>\n",
              "      <td>2006-10-30</td>\n",
              "      <td>32.577687</td>\n",
              "      <td>454</td>\n",
              "      <td>Guys</td>\n",
              "      <td>T1</td>\n",
              "      <td>/content/drive/My Drive/Image_Registration_Pro...</td>\n",
              "      <td>30-40</td>\n",
              "      <td>validation</td>\n",
              "      <td>1</td>\n",
              "      <td>30.698362</td>\n",
              "      <td>0.0</td>\n",
              "      <td>0.0</td>\n",
              "      <td>29.739126</td>\n",
              "      <td>32.246872</td>\n",
              "      <td>0.0</td>\n",
              "      <td>0.0</td>\n",
              "      <td>0.0</td>\n",
              "      <td>0.0</td>\n",
              "      <td>30.905609</td>\n",
              "      <td>0.0</td>\n",
              "      <td>0.0</td>\n",
              "      <td>27.214804</td>\n",
              "      <td>0.0</td>\n",
              "      <td>31.893217</td>\n",
              "      <td>0.0</td>\n",
              "      <td>0.0</td>\n",
              "      <td>0.0</td>\n",
              "      <td>0.0</td>\n",
              "      <td>...</td>\n",
              "      <td>0.0</td>\n",
              "      <td>31.917023</td>\n",
              "      <td>30.166517</td>\n",
              "      <td>29.257061</td>\n",
              "      <td>0.0</td>\n",
              "      <td>0.0</td>\n",
              "      <td>0.0</td>\n",
              "      <td>29.801260</td>\n",
              "      <td>30.282646</td>\n",
              "      <td>30.410635</td>\n",
              "      <td>30.519686</td>\n",
              "      <td>31.646761</td>\n",
              "      <td>25.427944</td>\n",
              "      <td>0.0</td>\n",
              "      <td>0.0</td>\n",
              "      <td>0.0</td>\n",
              "      <td>29.752188</td>\n",
              "      <td>30.733305</td>\n",
              "      <td>27.465899</td>\n",
              "      <td>28.149925</td>\n",
              "      <td>29.736561</td>\n",
              "      <td>0.0</td>\n",
              "      <td>0.0</td>\n",
              "      <td>0.0</td>\n",
              "      <td>28.077177</td>\n",
              "      <td>29.492826</td>\n",
              "      <td>0.0</td>\n",
              "      <td>0.0</td>\n",
              "      <td>31.756918</td>\n",
              "      <td>34.108166</td>\n",
              "      <td>29.620253</td>\n",
              "      <td>0.0</td>\n",
              "      <td>0.0</td>\n",
              "      <td>0.0</td>\n",
              "      <td>0.0</td>\n",
              "      <td>28.479616</td>\n",
              "      <td>29.782129</td>\n",
              "      <td>30.178522</td>\n",
              "      <td>-0.942935</td>\n",
              "      <td>9.737861</td>\n",
              "    </tr>\n",
              "  </tbody>\n",
              "</table>\n",
              "<p>5 rows × 119 columns</p>\n",
              "</div>"
            ],
            "text/plain": [
              "   level_0  index  IXI_ID  ...         95  tnse-2d-one  tnse-2d-two\n",
              "0        0      3     430  ...  30.095673    86.824020   -21.097017\n",
              "1        1      8     435  ...  30.140673   -56.327362    14.789541\n",
              "2        2     23     450  ...  30.195574   -53.612114    41.834824\n",
              "3        3     26     453  ...  29.899065   -57.644947    78.634071\n",
              "4        4     27     454  ...  30.178522    -0.942935     9.737861\n",
              "\n",
              "[5 rows x 119 columns]"
            ]
          },
          "metadata": {
            "tags": []
          },
          "execution_count": 198
        }
      ]
    },
    {
      "cell_type": "code",
      "metadata": {
        "colab": {
          "base_uri": "https://localhost:8080/",
          "height": 624
        },
        "id": "_MnXhLZzmhzO",
        "outputId": "c2feb4e1-035a-4d10-ae93-c05cf9182ea8"
      },
      "source": [
        "plt.figure(figsize=(16,10))\n",
        "sns.scatterplot(\n",
        "    x=\"tnse-2d-one\", y=\"tnse-2d-two\", hue = \"scanner_name\",\n",
        "    data=result,\n",
        "    legend=\"full\",\n",
        "    alpha=0.3)"
      ],
      "execution_count": null,
      "outputs": [
        {
          "output_type": "execute_result",
          "data": {
            "text/plain": [
              "<matplotlib.axes._subplots.AxesSubplot at 0x7fc6a08da190>"
            ]
          },
          "metadata": {
            "tags": []
          },
          "execution_count": 204
        },
        {
          "output_type": "display_data",
          "data": {
            "image/png": "[encoded data removed]",
            "text/plain": [
              "<Figure size 1152x720 with 1 Axes>"
            ]
          },
          "metadata": {
            "tags": [],
            "needs_background": "light"
          }
        }
      ]
    },
    {
      "cell_type": "code",
      "metadata": {
        "id": "Zakbg7tcmh09"
      },
      "source": [
        ""
      ],
      "execution_count": null,
      "outputs": []
    },
    {
      "cell_type": "markdown",
      "metadata": {
        "id": "d2suYEmLP2Sp"
      },
      "source": [
        "# Training with unlearning"
      ]
    }
  ]
}