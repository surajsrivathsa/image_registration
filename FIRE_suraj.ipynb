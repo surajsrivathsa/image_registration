{
  "nbformat": 4,
  "nbformat_minor": 0,
  "metadata": {
    "colab": {
      "name": "FIRE_suraj.ipynb",
      "provenance": [],
      "collapsed_sections": [
        "YfqeSayHYFx-",
        "fcAimkddt5rY",
        "x2Mqd5OXHH50",
        "ZxojInOoNSIq",
        "-sQ97m5DNGZI",
        "oNBGCuMdM0oz",
        "ma8ojypQM-9T"
      ],
      "include_colab_link": true
    },
    "kernelspec": {
      "name": "python3",
      "display_name": "Python 3"
    },
    "accelerator": "GPU"
  },
  "cells": [
    {
      "cell_type": "markdown",
      "metadata": {
        "id": "view-in-github",
        "colab_type": "text"
      },
      "source": [
        "<a href=\"https://colab.research.google.com/github/surajsrivathsa/image_registration/blob/main/FIRE_suraj.ipynb\" target=\"_parent\"><img src=\"https://colab.research.google.com/assets/colab-badge.svg\" alt=\"Open In Colab\"/></a>"
      ]
    },
    {
      "cell_type": "markdown",
      "metadata": {
        "id": "fdXND0_09Rn0"
      },
      "source": [
        "Reference Paper -\n",
        "\n",
        "https://arxiv.org/pdf/1907.05062.pdf"
      ]
    },
    {
      "cell_type": "code",
      "metadata": {
        "colab": {
          "base_uri": "https://localhost:8080/"
        },
        "id": "-R6avvhUb1ux",
        "outputId": "d6e3a545-44e6-4f98-afd5-30b69eb07d1c"
      },
      "source": [
        "!pip install SimpleITK"
      ],
      "execution_count": null,
      "outputs": [
        {
          "output_type": "stream",
          "text": [
            "Collecting SimpleITK\n",
            "\u001b[?25l  Downloading https://files.pythonhosted.org/packages/9c/6b/85df5eb3a8059b23a53a9f224476e75473f9bcc0a8583ed1a9c34619f372/SimpleITK-2.0.2-cp37-cp37m-manylinux2010_x86_64.whl (47.4MB)\n",
            "\u001b[K     |████████████████████████████████| 47.4MB 61kB/s \n",
            "\u001b[?25hInstalling collected packages: SimpleITK\n",
            "Successfully installed SimpleITK-2.0.2\n"
          ],
          "name": "stdout"
        }
      ]
    },
    {
      "cell_type": "code",
      "metadata": {
        "colab": {
          "base_uri": "https://localhost:8080/"
        },
        "id": "4o0NgdMOKRJb",
        "outputId": "ec1f35c9-4fc6-4b54-8319-eabaf65ffde8"
      },
      "source": [
        "import os as os\n",
        "import warnings\n",
        "warnings.filterwarnings(\"ignore\")\n",
        "import numpy as np\n",
        "import torch\n",
        "print(torch.__version__)\n",
        "import torchvision\n",
        "print(torchvision.__version__)\n",
        "import torch \n",
        "import torch.nn as nn\n",
        "import torch.nn.functional as F\n",
        "import torch.utils.data as Data\n",
        "# !pip install --upgrade nibabel\n",
        "import nibabel as nb\n",
        "import os, sys, glob\n",
        "import SimpleITK as sitk\n",
        "print()"
      ],
      "execution_count": null,
      "outputs": [
        {
          "output_type": "stream",
          "text": [
            "1.8.0+cu101\n",
            "0.9.0+cu101\n",
            "\n"
          ],
          "name": "stdout"
        }
      ]
    },
    {
      "cell_type": "code",
      "metadata": {
        "id": "jUlnwd8pcKmG"
      },
      "source": [
        "import glob"
      ],
      "execution_count": null,
      "outputs": []
    },
    {
      "cell_type": "code",
      "metadata": {
        "colab": {
          "base_uri": "https://localhost:8080/"
        },
        "id": "WuWp0MZrnICl",
        "outputId": "2f4b6e54-214a-49d6-9036-2d8ee4b0b2a2"
      },
      "source": [
        "from google.colab import drive\n",
        "drive.mount('/content/drive')"
      ],
      "execution_count": null,
      "outputs": [
        {
          "output_type": "stream",
          "text": [
            "Mounted at /content/drive\n"
          ],
          "name": "stdout"
        }
      ]
    },
    {
      "cell_type": "code",
      "metadata": {
        "id": "QvfubAXWp0GT"
      },
      "source": [
        "data_path_t1 = \"/content/drive/My Drive/Image_Registration_Project/dataset_ants_resampled/T1_Train_200_Reg_downsampled_znm/\"\n",
        "data_path_t2 = \"/content/drive/My Drive/Image_Registration_Project/dataset_ants_resampled/T1_Train_200_Reg_downsampled_znm/\"\n",
        "#data_path_t1 = \"/content/drive/My Drive/Colab Notebooks/ImageRegistrationUsingDeepLearning/FIRE/Dataset/T1_resampled/\"\n",
        "#data_path_t2 = \"/content/drive/My Drive/Colab Notebooks/ImageRegistrationUsingDeepLearning/FIRE/Dataset/T2_resampled/\"\n",
        "file_names_t1 = sorted(glob.glob(os.path.join(data_path_t1, \"*.nii.gz\")))\n",
        "file_names_t2 = sorted(glob.glob(os.path.join(data_path_t2, \"*.nii.gz\")))"
      ],
      "execution_count": null,
      "outputs": []
    },
    {
      "cell_type": "code",
      "metadata": {
        "colab": {
          "base_uri": "https://localhost:8080/"
        },
        "id": "ypOa-6BWrGKt",
        "outputId": "93dea7b9-5ea6-4cb8-a6f2-52875309bbd9"
      },
      "source": [
        "img_nb1 = nb.load(file_names_t1[0])\n",
        "print(img_nb1.shape)\n",
        "img_nb2 = nb.load(file_names_t2[0])\n",
        "print(img_nb2.shape)"
      ],
      "execution_count": null,
      "outputs": [
        {
          "output_type": "stream",
          "text": [
            "(91, 109, 91)\n",
            "(91, 109, 91)\n"
          ],
          "name": "stdout"
        }
      ]
    },
    {
      "cell_type": "code",
      "metadata": {
        "id": "zQZX1vxeoYBp"
      },
      "source": [
        "del img_nb1, img_nb2"
      ],
      "execution_count": null,
      "outputs": []
    },
    {
      "cell_type": "code",
      "metadata": {
        "id": "WNwHulnurnmY"
      },
      "source": [
        "def load_4D(name):\n",
        "        resamplng_shape = (128, 128, 128)\n",
        "        X_nb = nb.load(name)\n",
        "        X_np = X_nb.dataobj\n",
        "       \n",
        "        min_pixel_value = np.min(X_np)   # getting minimum pixel value which is -1 in my case.\n",
        "        model_np = np.full(shape=(128, 128, 128),fill_value=min_pixel_value)\n",
        "        x_dim, y_dim, z_dim = X_np.shape\n",
        "        x_ltail = (resamplng_shape[0] - x_dim)//2 \n",
        "        y_ltail = (resamplng_shape[1] - y_dim)//2\n",
        "        z_ltail = (resamplng_shape[2] - z_dim)//2\n",
        "\n",
        "        x_rtail = resamplng_shape[0] - x_ltail - 1\n",
        "        y_rtail = resamplng_shape[1] - y_ltail - 1\n",
        "        z_rtail = resamplng_shape[2] - z_ltail - 1\n",
        "        model_np[x_ltail:x_rtail, y_ltail:y_rtail, z_ltail:z_rtail] = X_np[:, :, :]\n",
        "        model_np = np.reshape(model_np, (1,)+ model_np.shape)\n",
        "        return model_np\n",
        "\n",
        "def imgnorm(N_I,index1=0.0001,index2=0.0001):\n",
        "    I_sort = np.sort(N_I.flatten())\n",
        "    I_min = I_sort[int(index1*len(I_sort))]\n",
        "    I_max = I_sort[-int(index2*len(I_sort))]\n",
        "    N_I =1.0*(N_I-I_min)/(I_max-I_min)\n",
        "    N_I[N_I>1.0]=1.0\n",
        "    N_I[N_I<0.0]=0.0\n",
        "    N_I2 = N_I.astype(np.float32)\n",
        "    return N_I2\n",
        "\n",
        "def Norm_Zscore(img):\n",
        "    img= (img-np.mean(img))/np.std(img) \n",
        "    return img\n",
        "\n",
        "def save_img(I_img,savename):\n",
        "    I2 = sitk.GetImageFromArray(I_img,isVector=False)\n",
        "    sitk.WriteImage(I2,savename)"
      ],
      "execution_count": null,
      "outputs": []
    },
    {
      "cell_type": "code",
      "metadata": {
        "id": "2fPbE6P0sAY9"
      },
      "source": [
        "class Dataset(Data.Dataset):\n",
        "  'Characterizes a dataset for PyTorch'\n",
        "  def __init__(self, names_t1,names_t2,iterations =1,norm=True):\n",
        "        'Initialization'\n",
        "        self.names_t1 = names_t1\n",
        "        self.names_t2 = names_t2\n",
        "        self.norm = norm\n",
        "        self.iterations = iterations\n",
        "  def __len__(self):\n",
        "        'Denotes the total number of samples'\n",
        "        return len(self.names_t1) * self.iterations\n",
        "\n",
        "  def __getitem__(self, step):\n",
        "        'Generates one sample of data'\n",
        "        # index_pair = np.random.permutation(len(self.names)) [0:4]\n",
        "        img_A = load_4D(self.names_t1[step])\n",
        "        img_B = load_4D(self.names_t2[step])     \n",
        "        \n",
        "        if self.norm:\n",
        "            # return  Norm_Zscore(imgnorm(img_A)) , Norm_Zscore(imgnorm(img_B))\n",
        "            return  imgnorm(img_A) , imgnorm(img_B)\n",
        "        else:\n",
        "            return img_A, img_B\n"
      ],
      "execution_count": null,
      "outputs": []
    },
    {
      "cell_type": "code",
      "metadata": {
        "id": "RESGorrI8bjQ"
      },
      "source": [
        "training_generator = Data.DataLoader(Dataset(file_names_t1,file_names_t2,True), batch_size=2,shuffle=False)"
      ],
      "execution_count": null,
      "outputs": []
    },
    {
      "cell_type": "code",
      "metadata": {
        "colab": {
          "base_uri": "https://localhost:8080/"
        },
        "id": "qvB1_YjTYEaU",
        "outputId": "4f32ecce-96ec-45a1-9871-bfdc0e449f3c"
      },
      "source": [
        "for  X,Y in training_generator:\n",
        "  print(torch.max(X))\n",
        "  print(torch.min(Y))\n",
        "  print(X.shape)\n",
        "  print(Y.shape)\n",
        "  break"
      ],
      "execution_count": null,
      "outputs": [
        {
          "output_type": "stream",
          "text": [
            "tensor(1.)\n",
            "tensor(0.)\n",
            "torch.Size([2, 1, 128, 128, 128])\n",
            "torch.Size([2, 1, 128, 128, 128])\n"
          ],
          "name": "stdout"
        }
      ]
    },
    {
      "cell_type": "code",
      "metadata": {
        "colab": {
          "base_uri": "https://localhost:8080/"
        },
        "id": "I5Ml3SHDbn2G",
        "outputId": "4d11da59-2450-4fc0-d2b6-1db611842faf"
      },
      "source": [
        "# sitk_t1 = sitk.ReadImage(file_names_t1[0])\n",
        "# print(sitk_t1.GetSize())\n",
        "print(load_4D(file_names_t1[0]).shape)\n",
        "print(load_4D(file_names_t2[0]).shape)"
      ],
      "execution_count": null,
      "outputs": [
        {
          "output_type": "stream",
          "text": [
            "(1, 128, 128, 128)\n",
            "(1, 128, 128, 128)\n"
          ],
          "name": "stdout"
        }
      ]
    },
    {
      "cell_type": "markdown",
      "metadata": {
        "id": "YfqeSayHYFx-"
      },
      "source": [
        "### residual block"
      ]
    },
    {
      "cell_type": "code",
      "metadata": {
        "id": "RmHEHEv2WC4l"
      },
      "source": [
        "def conv3x3x3(in_channels, out_channels, stride=1):\n",
        "    return nn.Conv3d(in_channels,out_channels,kernel_size=3,stride=stride,padding=1,bias=False)\n",
        "    \n",
        "class ResidualBlock(nn.Module):\n",
        "    def __init__(self, in_channels, out_channels, stride=1, downsample=None):\n",
        "        super(ResidualBlock, self).__init__()\n",
        "        self.conv1 = conv3x3x3(in_channels, out_channels, stride)\n",
        "        self.bn1 = nn.BatchNorm3d(out_channels)\n",
        "        self.relu = nn.ReLU(inplace=True)\n",
        "        self.conv2 = conv3x3x3(out_channels, out_channels)\n",
        "        self.bn2 = nn.BatchNorm3d(out_channels)\n",
        "        self.downsample = downsample\n",
        "        \n",
        "    def forward(self, x):\n",
        "        residual = x\n",
        "        out = self.conv1(x)\n",
        "        out = self.bn1(out)\n",
        "        out = self.relu(out)\n",
        "        out = self.conv2(out)\n",
        "        out = self.bn2(out)\n",
        "        if self.downsample:\n",
        "            residual = self.downsample(x)\n",
        "        out += residual\n",
        "        out = self.relu(out)\n",
        "        return out"
      ],
      "execution_count": null,
      "outputs": []
    },
    {
      "cell_type": "code",
      "metadata": {
        "colab": {
          "base_uri": "https://localhost:8080/"
        },
        "id": "zJ-q0zHUh0G4",
        "outputId": "b7dc285d-f65a-4f7e-c4c8-790803165672"
      },
      "source": [
        "ResidualBlock(in_channels = 2, out_channels = 512)"
      ],
      "execution_count": null,
      "outputs": [
        {
          "output_type": "execute_result",
          "data": {
            "text/plain": [
              "ResidualBlock(\n",
              "  (conv1): Conv3d(2, 512, kernel_size=(3, 3, 3), stride=(1, 1, 1), padding=(1, 1, 1), bias=False)\n",
              "  (bn1): BatchNorm3d(512, eps=1e-05, momentum=0.1, affine=True, track_running_stats=True)\n",
              "  (relu): ReLU(inplace=True)\n",
              "  (conv2): Conv3d(512, 512, kernel_size=(3, 3, 3), stride=(1, 1, 1), padding=(1, 1, 1), bias=False)\n",
              "  (bn2): BatchNorm3d(512, eps=1e-05, momentum=0.1, affine=True, track_running_stats=True)\n",
              ")"
            ]
          },
          "metadata": {
            "tags": []
          },
          "execution_count": 14
        }
      ]
    },
    {
      "cell_type": "markdown",
      "metadata": {
        "id": "fcAimkddt5rY"
      },
      "source": [
        "### encoder"
      ]
    },
    {
      "cell_type": "code",
      "metadata": {
        "id": "zuYEvzwPOpW8"
      },
      "source": [
        "class Fire_Encoder(nn.Module):\n",
        "    def __init__(self, in_channel, start_channel):\n",
        "        self.in_channel = in_channel\n",
        "        self.start_channel = start_channel\n",
        "        super(Fire_Encoder, self).__init__()\n",
        "        self.encoder0 = self.encoder(self.in_channel, self.start_channel, bias=True)\n",
        "       \n",
        "        self.encoder1 = self.encoder(self.start_channel, self.start_channel*2, stride=2, bias=True)\n",
        "\n",
        "        self.encoder2 = self.encoder(self.start_channel*2, self.start_channel*4, stride=2, bias=True)\n",
        "\n",
        "        self.residual_block1 = ResidualBlock(self.start_channel*4, self.start_channel*4)\n",
        "\n",
        "        self.residual_block2 = ResidualBlock(self.start_channel*4, self.start_channel*4)\n",
        "\n",
        "        self.residual_block3 = ResidualBlock(self.start_channel*4, self.start_channel*4)\n",
        "\n",
        "        self.residual_block4 = ResidualBlock(self.start_channel*4, self.start_channel*4)\n",
        "\n",
        "    def encoder(self, in_channels, out_channels, kernel_size = 3, stride = 1, padding = 1, bias=True ):\n",
        "      layer = nn.Sequential(nn.Conv3d(in_channels, out_channels, kernel_size, stride=stride, padding=padding, bias=bias ),\n",
        "                            nn.InstanceNorm3d(out_channels),\n",
        "                            nn.LeakyReLU())\n",
        "      layer.to(\"cuda\")\n",
        "      return layer\n",
        "  \n",
        "    def forward(self, x):\n",
        "      e0 = self.encoder0(x)\n",
        "      e1 = self.encoder1(e0)\n",
        "      e2 = self.encoder2(e1)\n",
        "      e3 = self.residual_block1(e2)\n",
        "      e4 = self.residual_block1(e3)\n",
        "      e5 = self.residual_block1(e4)\n",
        "      e6 = self.residual_block1(e5)\n",
        "\n",
        "      return e6"
      ],
      "execution_count": null,
      "outputs": []
    },
    {
      "cell_type": "code",
      "metadata": {
        "id": "titp1Oy7Lplw"
      },
      "source": [
        "encoder = Fire_Encoder(in_channel=1, start_channel=16).to(\"cuda\")\n"
      ],
      "execution_count": null,
      "outputs": []
    },
    {
      "cell_type": "code",
      "metadata": {
        "colab": {
          "base_uri": "https://localhost:8080/"
        },
        "id": "rTndBwweRlMI",
        "outputId": "066633fc-b25d-4054-a438-ea63aedbe199"
      },
      "source": [
        "encoder"
      ],
      "execution_count": null,
      "outputs": [
        {
          "output_type": "execute_result",
          "data": {
            "text/plain": [
              "Fire_Encoder(\n",
              "  (encoder0): Sequential(\n",
              "    (0): Conv3d(1, 16, kernel_size=(3, 3, 3), stride=(1, 1, 1), padding=(1, 1, 1))\n",
              "    (1): InstanceNorm3d(16, eps=1e-05, momentum=0.1, affine=False, track_running_stats=False)\n",
              "    (2): LeakyReLU(negative_slope=0.01)\n",
              "  )\n",
              "  (encoder1): Sequential(\n",
              "    (0): Conv3d(16, 32, kernel_size=(3, 3, 3), stride=(2, 2, 2), padding=(1, 1, 1))\n",
              "    (1): InstanceNorm3d(32, eps=1e-05, momentum=0.1, affine=False, track_running_stats=False)\n",
              "    (2): LeakyReLU(negative_slope=0.01)\n",
              "  )\n",
              "  (encoder2): Sequential(\n",
              "    (0): Conv3d(32, 64, kernel_size=(3, 3, 3), stride=(2, 2, 2), padding=(1, 1, 1))\n",
              "    (1): InstanceNorm3d(64, eps=1e-05, momentum=0.1, affine=False, track_running_stats=False)\n",
              "    (2): LeakyReLU(negative_slope=0.01)\n",
              "  )\n",
              "  (residual_block1): ResidualBlock(\n",
              "    (conv1): Conv3d(64, 64, kernel_size=(3, 3, 3), stride=(1, 1, 1), padding=(1, 1, 1), bias=False)\n",
              "    (bn1): BatchNorm3d(64, eps=1e-05, momentum=0.1, affine=True, track_running_stats=True)\n",
              "    (relu): ReLU(inplace=True)\n",
              "    (conv2): Conv3d(64, 64, kernel_size=(3, 3, 3), stride=(1, 1, 1), padding=(1, 1, 1), bias=False)\n",
              "    (bn2): BatchNorm3d(64, eps=1e-05, momentum=0.1, affine=True, track_running_stats=True)\n",
              "  )\n",
              "  (residual_block2): ResidualBlock(\n",
              "    (conv1): Conv3d(64, 64, kernel_size=(3, 3, 3), stride=(1, 1, 1), padding=(1, 1, 1), bias=False)\n",
              "    (bn1): BatchNorm3d(64, eps=1e-05, momentum=0.1, affine=True, track_running_stats=True)\n",
              "    (relu): ReLU(inplace=True)\n",
              "    (conv2): Conv3d(64, 64, kernel_size=(3, 3, 3), stride=(1, 1, 1), padding=(1, 1, 1), bias=False)\n",
              "    (bn2): BatchNorm3d(64, eps=1e-05, momentum=0.1, affine=True, track_running_stats=True)\n",
              "  )\n",
              "  (residual_block3): ResidualBlock(\n",
              "    (conv1): Conv3d(64, 64, kernel_size=(3, 3, 3), stride=(1, 1, 1), padding=(1, 1, 1), bias=False)\n",
              "    (bn1): BatchNorm3d(64, eps=1e-05, momentum=0.1, affine=True, track_running_stats=True)\n",
              "    (relu): ReLU(inplace=True)\n",
              "    (conv2): Conv3d(64, 64, kernel_size=(3, 3, 3), stride=(1, 1, 1), padding=(1, 1, 1), bias=False)\n",
              "    (bn2): BatchNorm3d(64, eps=1e-05, momentum=0.1, affine=True, track_running_stats=True)\n",
              "  )\n",
              "  (residual_block4): ResidualBlock(\n",
              "    (conv1): Conv3d(64, 64, kernel_size=(3, 3, 3), stride=(1, 1, 1), padding=(1, 1, 1), bias=False)\n",
              "    (bn1): BatchNorm3d(64, eps=1e-05, momentum=0.1, affine=True, track_running_stats=True)\n",
              "    (relu): ReLU(inplace=True)\n",
              "    (conv2): Conv3d(64, 64, kernel_size=(3, 3, 3), stride=(1, 1, 1), padding=(1, 1, 1), bias=False)\n",
              "    (bn2): BatchNorm3d(64, eps=1e-05, momentum=0.1, affine=True, track_running_stats=True)\n",
              "  )\n",
              ")"
            ]
          },
          "metadata": {
            "tags": []
          },
          "execution_count": 17
        }
      ]
    },
    {
      "cell_type": "code",
      "metadata": {
        "colab": {
          "base_uri": "https://localhost:8080/"
        },
        "id": "ADZ1-AMEYgYc",
        "outputId": "c48b9cce-d920-4777-f1a0-61c1ba353464"
      },
      "source": [
        "for X,Y in training_generator:\n",
        "  X = X.cuda().float()\n",
        "  # Y = Y.cuda().float()\n",
        "  print(X.shape)\n",
        "  # print(Y.shape)\n",
        "  encoder_output = encoder(X)\n",
        "  print(encoder_output.shape)\n",
        "  break"
      ],
      "execution_count": null,
      "outputs": [
        {
          "output_type": "stream",
          "text": [
            "torch.Size([2, 1, 128, 128, 128])\n",
            "torch.Size([2, 64, 32, 32, 32])\n"
          ],
          "name": "stdout"
        }
      ]
    },
    {
      "cell_type": "code",
      "metadata": {
        "id": "vopFyXN8RCZ7"
      },
      "source": [
        "tnsr = torch.randn((2, 64, 32, 32, 32))"
      ],
      "execution_count": null,
      "outputs": []
    },
    {
      "cell_type": "markdown",
      "metadata": {
        "id": "x2Mqd5OXHH50"
      },
      "source": [
        "### Decoder"
      ]
    },
    {
      "cell_type": "code",
      "metadata": {
        "id": "bM0JFYTqHKMq"
      },
      "source": [
        "class Synthesizer_Decoder(nn.Module):\n",
        "  def __init__(self,start_channel):\n",
        "        # self.in_channel = in_channel\n",
        "        self.start_channel = start_channel\n",
        "\n",
        "        ## Declarations #####      \n",
        "        super(Synthesizer_Decoder, self).__init__()\n",
        "        self.rb1 = ResidualBlock(self.start_channel*4, self.start_channel*4, 1)\n",
        "        self.rb2 = ResidualBlock(self.start_channel*4, self.start_channel*4, 1)\n",
        "        self.rb3 = ResidualBlock(self.start_channel*4, self.start_channel*4, 1)\n",
        "        self.rb4 = ResidualBlock(self.start_channel*4, self.start_channel*4, 1)\n",
        "\n",
        "        self.up1 = self.decoder(self.start_channel*4, self.start_channel*2)\n",
        "        self.up2 = self.decoder(self.start_channel*2, self.start_channel*1)\n",
        "\n",
        "\n",
        "        self.cb = self.convblock(self.start_channel*1, self.start_channel//2)\n",
        "        self.out = self.onecrossoneblock(self.start_channel//2, 1)\n",
        "        return;\n",
        "\n",
        "  ### Decoder upsampler block start #####\n",
        "  def decoder(self, in_channels, out_channels, kernel_size=2, stride=2, padding=0,\n",
        "                output_padding=0, bias=True):\n",
        "    layer = nn.Sequential(\n",
        "                nn.ConvTranspose3d(in_channels, out_channels, kernel_size, stride=stride,\n",
        "                               padding=padding, output_padding=output_padding, bias=bias),\n",
        "                                nn.LeakyReLU())\n",
        "    return layer\n",
        "\n",
        "  def convblock(self, in_channels, out_channels, kernel_size=3, \n",
        "                bias=False, batchnorm=False):\n",
        "    layer = nn.Sequential(nn.Conv3d(in_channels, out_channels, kernel_size, bias=bias, padding=0),)\n",
        "    return layer\n",
        "       \n",
        "  def onecrossoneblock(self, in_channels, out_channels=1, kernel_size=1, \n",
        "                bias=False, batchnorm=False):\n",
        "    layer = nn.Sequential(\n",
        "                nn.Conv3d(in_channels, out_channels, kernel_size, bias=bias, padding=1),\n",
        "               )\n",
        "    return layer\n",
        "\n",
        "  def forward(self, x):\n",
        "        rout = self.rb1(x) \n",
        "        rout = self.rb2(rout)\n",
        "        rout = self.rb3(rout)\n",
        "        rout = self.rb4(rout) \n",
        "        dec1 = self.up1(rout)\n",
        "        dec2 = self.up2(dec1)\n",
        "\n",
        "        cbo = self.cb(dec2)\n",
        "        output = self.out(cbo)\n",
        "        return output"
      ],
      "execution_count": null,
      "outputs": []
    },
    {
      "cell_type": "code",
      "metadata": {
        "id": "g0L5XTjFH7US"
      },
      "source": [
        "decoder_fixed = Synthesizer_Decoder(start_channel=16).to(\"cuda\")\n",
        "decoder_moving = Synthesizer_Decoder(start_channel=16).to(\"cuda\")"
      ],
      "execution_count": null,
      "outputs": []
    },
    {
      "cell_type": "code",
      "metadata": {
        "colab": {
          "base_uri": "https://localhost:8080/"
        },
        "id": "d7lh-ftgHncl",
        "outputId": "27058f7d-3506-46aa-9606-e8e4945ec0c0"
      },
      "source": [
        "for X,Y in training_generator:\n",
        "  X = X.cuda().float()\n",
        "  Y = Y.cuda().float()\n",
        "  # print(X.shape)\n",
        "  # print(Y.shape)\n",
        "  encoder_output1 = encoder(X) \n",
        "  encoder_output2 = encoder(Y)\n",
        "  print(encoder_output1.shape)\n",
        "  print(encoder_output2.shape)\n",
        "  decoder_output_fixed = decoder_fixed(encoder_output1)\n",
        "  decoder_output_moving = decoder_moving(encoder_output2)\n",
        "  print(decoder_output_fixed.shape)\n",
        "  print(decoder_output_moving.shape)\n",
        "  break"
      ],
      "execution_count": null,
      "outputs": [
        {
          "output_type": "stream",
          "text": [
            "torch.Size([2, 64, 32, 32, 32])\n",
            "torch.Size([2, 64, 32, 32, 32])\n",
            "torch.Size([2, 1, 128, 128, 128])\n",
            "torch.Size([2, 1, 128, 128, 128])\n"
          ],
          "name": "stdout"
        }
      ]
    },
    {
      "cell_type": "markdown",
      "metadata": {
        "id": "HJ27mQLEe3bU"
      },
      "source": [
        "# Transformer"
      ]
    },
    {
      "cell_type": "markdown",
      "metadata": {
        "id": "ZxojInOoNSIq"
      },
      "source": [
        "### downsampler "
      ]
    },
    {
      "cell_type": "code",
      "metadata": {
        "id": "UOquAndvMTps"
      },
      "source": [
        "class down_sampler(nn.Module):\n",
        "    def __init__(self, in_channel, start_channel):\n",
        "        self.in_channel = in_channel\n",
        "        self.start_channel = start_channel\n",
        "        super(down_sampler, self).__init__()\n",
        "        self.cnv0 = self.down_sampling(self.in_channel, self.start_channel, bias=True)\n",
        "       \n",
        "        self.ds1 = self.down_sampling(self.start_channel, self.start_channel*2, stride=2, bias=True)\n",
        "\n",
        "        self.ds2 = self.down_sampling(self.start_channel*2, self.start_channel*4, stride=2, bias=True)\n",
        "\n",
        "        self.ds3 = self.down_sampling(self.start_channel*4, self.start_channel*8, stride=2, bias=True)\n",
        "\n",
        "        # self.ds4 = self.down_sampling(self.start_channel*8, self.start_channel*16, stride=2, bias=True)\n",
        "\n",
        "        # self.ds5 = self.down_sampling(self.start_channel*16, self.start_channel*32, stride=2, bias=True)\n",
        "\n",
        "    def down_sampling(self, in_channels, out_channels, kernel_size = 3, stride = 2, padding = 1, bias=True ):\n",
        "      layer = nn.Sequential(nn.Conv3d(in_channels, out_channels, kernel_size, stride=stride, padding=padding, bias=bias ),\n",
        "                            nn.InstanceNorm3d(out_channels),\n",
        "                            nn.LeakyReLU())\n",
        "      # layer.to(\"cuda\")\n",
        "      return layer\n",
        "  \n",
        "    def forward(self, x):\n",
        "      d0 = self.cnv0(x)\n",
        "      d1 = self.ds1(d0)\n",
        "      d2 = self.ds2(d1)\n",
        "      d3 = self.ds3(d2)\n",
        "      # d4 = self.ds4(d3)\n",
        "      # d5 = self.ds5(d4)\n",
        "\n",
        "      return d3"
      ],
      "execution_count": null,
      "outputs": []
    },
    {
      "cell_type": "code",
      "metadata": {
        "colab": {
          "base_uri": "https://localhost:8080/"
        },
        "id": "NnOFUx2sNwM_",
        "outputId": "2d08567f-34b9-44b0-ebac-83421acb2949"
      },
      "source": [
        "down_sampler_obj = down_sampler(in_channel=2, start_channel=4).to(\"cuda\")\n",
        "down_sampler_obj"
      ],
      "execution_count": null,
      "outputs": [
        {
          "output_type": "execute_result",
          "data": {
            "text/plain": [
              "down_sampler(\n",
              "  (cnv0): Sequential(\n",
              "    (0): Conv3d(2, 4, kernel_size=(3, 3, 3), stride=(2, 2, 2), padding=(1, 1, 1))\n",
              "    (1): InstanceNorm3d(4, eps=1e-05, momentum=0.1, affine=False, track_running_stats=False)\n",
              "    (2): LeakyReLU(negative_slope=0.01)\n",
              "  )\n",
              "  (ds1): Sequential(\n",
              "    (0): Conv3d(4, 8, kernel_size=(3, 3, 3), stride=(2, 2, 2), padding=(1, 1, 1))\n",
              "    (1): InstanceNorm3d(8, eps=1e-05, momentum=0.1, affine=False, track_running_stats=False)\n",
              "    (2): LeakyReLU(negative_slope=0.01)\n",
              "  )\n",
              "  (ds2): Sequential(\n",
              "    (0): Conv3d(8, 16, kernel_size=(3, 3, 3), stride=(2, 2, 2), padding=(1, 1, 1))\n",
              "    (1): InstanceNorm3d(16, eps=1e-05, momentum=0.1, affine=False, track_running_stats=False)\n",
              "    (2): LeakyReLU(negative_slope=0.01)\n",
              "  )\n",
              "  (ds3): Sequential(\n",
              "    (0): Conv3d(16, 32, kernel_size=(3, 3, 3), stride=(2, 2, 2), padding=(1, 1, 1))\n",
              "    (1): InstanceNorm3d(32, eps=1e-05, momentum=0.1, affine=False, track_running_stats=False)\n",
              "    (2): LeakyReLU(negative_slope=0.01)\n",
              "  )\n",
              ")"
            ]
          },
          "metadata": {
            "tags": []
          },
          "execution_count": 18
        }
      ]
    },
    {
      "cell_type": "markdown",
      "metadata": {
        "id": "-sQ97m5DNGZI"
      },
      "source": [
        "### affine transformer code"
      ]
    },
    {
      "cell_type": "code",
      "metadata": {
        "id": "4iGCEmHF3rqP"
      },
      "source": [
        "class transformer_affine(nn.Module):\n",
        "    def __init__(self,start_channel,in_units=256):\n",
        "        self.start_channel = start_channel\n",
        "        super(transformer_affine, self).__init__()\n",
        "        self.affine0 = self.conv_block(self.start_channel, self.start_channel, bias=True)\n",
        "        self.affine1 = self.conv_block(self.start_channel, self.start_channel, bias=True)\n",
        "\n",
        "        self.affine2 = self.conv_block(self.start_channel, self.start_channel, bias=True, pooling = \"Global Average\")\n",
        "        self.affine3 = self.fullconv_block(in_units)\n",
        "\n",
        "    def conv_block(self, in_channels, out_channels, kernel_size = 3, stride = 1, padding = 1, bias=True, pooling = None ):\n",
        "      if pooling == \"Global Average\":\n",
        "        layer = nn.Sequential(nn.Conv3d(in_channels, out_channels, kernel_size, stride=stride, padding=padding, bias=bias ),\n",
        "                              nn.InstanceNorm3d(out_channels),\n",
        "                              nn.AvgPool3d(kernel_size=(3, 3, 3)),\n",
        "                              nn.ReLU())\n",
        "      else:\n",
        "        layer = nn.Sequential(nn.Conv3d(in_channels, out_channels, kernel_size, stride=stride, padding=padding, bias=bias ),\n",
        "                            nn.InstanceNorm3d(out_channels),\n",
        "                            nn.ReLU())\n",
        "      # layer.to(\"cuda\")\n",
        "      return layer\n",
        "\n",
        "    def fullconv_block(self,in_units):\n",
        "      layer = nn.Sequential(\n",
        "                              nn.Linear(in_features = in_units, out_features= 128),\n",
        "                              nn.LeakyReLU(),\n",
        "                              nn.Linear(in_features = 128, out_features= 9)\n",
        "        )\n",
        "      # layer.to(\"cuda\")\n",
        "      return layer\n",
        "  \n",
        "    def forward(self, x):\n",
        "      af0 = self.affine0(x)\n",
        "      af1 = self.affine1(af0)\n",
        "      af2 = self.affine2(af1)\n",
        "      af_flatten = af2.flatten(start_dim=1, end_dim=4)\n",
        "      print(af_flatten.shape)\n",
        "      af3 = self.affine3(af_flatten)\n",
        "\n",
        "      return af3"
      ],
      "execution_count": null,
      "outputs": []
    },
    {
      "cell_type": "code",
      "metadata": {
        "colab": {
          "base_uri": "https://localhost:8080/"
        },
        "id": "UOMk_7NtECF1",
        "outputId": "81ff943a-3a67-47b3-90a4-fc3b10d0f0a0"
      },
      "source": [
        "transformer_affine_obj = transformer_affine(start_channel=32,in_units=256).to(\"cuda\")\n",
        "transformer_affine_obj"
      ],
      "execution_count": null,
      "outputs": [
        {
          "output_type": "execute_result",
          "data": {
            "text/plain": [
              "transformer_affine(\n",
              "  (affine0): Sequential(\n",
              "    (0): Conv3d(32, 32, kernel_size=(3, 3, 3), stride=(1, 1, 1), padding=(1, 1, 1))\n",
              "    (1): InstanceNorm3d(32, eps=1e-05, momentum=0.1, affine=False, track_running_stats=False)\n",
              "    (2): ReLU()\n",
              "  )\n",
              "  (affine1): Sequential(\n",
              "    (0): Conv3d(32, 32, kernel_size=(3, 3, 3), stride=(1, 1, 1), padding=(1, 1, 1))\n",
              "    (1): InstanceNorm3d(32, eps=1e-05, momentum=0.1, affine=False, track_running_stats=False)\n",
              "    (2): ReLU()\n",
              "  )\n",
              "  (affine2): Sequential(\n",
              "    (0): Conv3d(32, 32, kernel_size=(3, 3, 3), stride=(1, 1, 1), padding=(1, 1, 1))\n",
              "    (1): InstanceNorm3d(32, eps=1e-05, momentum=0.1, affine=False, track_running_stats=False)\n",
              "    (2): AvgPool3d(kernel_size=(3, 3, 3), stride=(3, 3, 3), padding=0)\n",
              "    (3): ReLU()\n",
              "  )\n",
              "  (affine3): Sequential(\n",
              "    (0): Linear(in_features=256, out_features=128, bias=True)\n",
              "    (1): LeakyReLU(negative_slope=0.01)\n",
              "    (2): Linear(in_features=128, out_features=9, bias=True)\n",
              "  )\n",
              ")"
            ]
          },
          "metadata": {
            "tags": []
          },
          "execution_count": 20
        }
      ]
    },
    {
      "cell_type": "markdown",
      "metadata": {
        "id": "oNBGCuMdM0oz"
      },
      "source": [
        "### spatial transformer / grid sampler"
      ]
    },
    {
      "cell_type": "code",
      "metadata": {
        "id": "92pTNfqkMZs0"
      },
      "source": [
        "#  grid sampler code\n",
        "\n",
        "class SpatialTransformer(nn.Module):\n",
        "    \"\"\"\n",
        "    N-D Spatial Transformer\n",
        "    \"\"\"\n",
        "\n",
        "    def __init__(self, size, is_affine=False, theta = None, mode='bilinear', affine_image_size =  (2, 1, 128, 128, 128)):\n",
        "        super().__init__()\n",
        "\n",
        "        self.mode = mode\n",
        "        self.isaffine = is_affine\n",
        "        self.theta = theta\n",
        "        self.affine_image_size =  affine_image_size\n",
        "        # create sampling grid\n",
        "        # registering the grid as a buffer cleanly moves it to the GPU, but it also\n",
        "        # adds it to the state dict. this is annoying since everything in the state dict\n",
        "        # is included when saving weights to disk, so the model files are way bigger\n",
        "        # than they need to be. so far, there does not appear to be an elegant solution.\n",
        "        # see: https://discuss.pytorch.org/t/how-to-register-buffer-without-polluting-state-dict\n",
        "\n",
        "        if (self.isaffine):\n",
        "          grid = F.affine_grid(self.theta, self.affine_image_size, align_corners=False)\n",
        "          #grid = grid.permute(0, 4, 1, 2, 3)\n",
        "          self.register_buffer('grid', grid)\n",
        "        else:\n",
        "          vectors = [torch.arange(0, s) for s in size]\n",
        "          grids = torch.meshgrid(vectors)\n",
        "          grid = torch.stack(grids)\n",
        "          grid = torch.unsqueeze(grid, 0)\n",
        "          grid = grid.type(torch.FloatTensor)\n",
        "          self.register_buffer('grid', grid)\n",
        "\n",
        "\n",
        "    def forward(self, src, flow=None):      \n",
        "      if (self.isaffine):\n",
        "        grid = F.affine_grid(self.theta, self.affine_image_size)    \n",
        "  \n",
        "        warped_image = F.grid_sample(src, grid)\n",
        "\n",
        "        #warped_image = warped_image.permute(0, 4, 1, 2, 3)\n",
        "        return warped_image\n",
        "      else:\n",
        "        # new locations\n",
        "        new_locs = self.grid + flow\n",
        "        shape = flow.shape[2:]\n",
        "\n",
        "        # need to normalize grid values to [-1, 1] for resampler\n",
        "        for i in range(len(shape)):\n",
        "            new_locs[:, i, ...] = 2 * (new_locs[:, i, ...] / (shape[i] - 1) - 0.5)\n",
        "\n",
        "        # move channels dim to last position\n",
        "        # also not sure why, but the channels need to be reversed\n",
        "        if len(shape) == 2:\n",
        "            new_locs = new_locs.permute(0, 2, 3, 1)\n",
        "            new_locs = new_locs[..., [1, 0]]\n",
        "        elif len(shape) == 3:\n",
        "            new_locs = new_locs.permute(0, 2, 3, 4, 1)\n",
        "            new_locs = new_locs[..., [2, 1, 0]]\n",
        "\n",
        "        return F.grid_sample(src, new_locs, align_corners=True, mode=self.mode)"
      ],
      "execution_count": null,
      "outputs": []
    },
    {
      "cell_type": "code",
      "metadata": {
        "id": "QvWpmJN1zNC7"
      },
      "source": [
        "affine_matrix = torch.from_numpy(np.array([ [ [1.0, 0.0, 0.0, 0.0], [ 0.0, 1.0, 0.0, 0.0], [0.0,  0.0, 1.0, 0.0] ] , \n",
        "                                            [ [1.0, 0.0, 0.0, 0.0], [ 0.0, 1.0, 0.0, 0.0], [0.0,  0.0, 1.0, 0.0] ]  ], dtype=\"float32\" )).to(\"cuda\")\n",
        "spatial_transformer_affine = SpatialTransformer(size=(128, 128, 128), is_affine=True, theta=affine_matrix,  affine_image_size =  (2, 1, 128, 128, 128)).to(\"cuda\")"
      ],
      "execution_count": null,
      "outputs": []
    },
    {
      "cell_type": "markdown",
      "metadata": {
        "id": "ma8ojypQM-9T"
      },
      "source": [
        "### training generator"
      ]
    },
    {
      "cell_type": "code",
      "metadata": {
        "colab": {
          "base_uri": "https://localhost:8080/"
        },
        "id": "VA4ACJ88OTZA",
        "outputId": "002efc5d-d898-40fa-a999-c6b440ce79a9"
      },
      "source": [
        "# passing original images to affine block\n",
        "\n",
        "for X,Y in training_generator:\n",
        "  X = X.cuda().float()\n",
        "  Y = Y.cuda().float()\n",
        "  print(\"X shape: {}\".format(X.shape))\n",
        "  print(\"Y shape: {}\".format(Y.shape))\n",
        "\n",
        "  x_in=torch.cat((X, Y), 1)\n",
        "  print(x_in.shape)\n",
        "\n",
        "  # inserting here downsampling layers \n",
        "  out = down_sampler_obj(x_in)\n",
        "  print(out.shape)\n",
        "\n",
        "  # block from paper starts from here\n",
        "  phi_affine = transformer_affine_obj(out)\n",
        "  print(phi_affine.shape)\n",
        "\n",
        "  # pass this phi affine to spatial transformer --\n",
        "  affine_rt = torch.reshape(phi_affine,(2, 3, 3))\n",
        "  print(affine_rt.shape)\n",
        "  # affine_rt.to('cuda')\n",
        "\n",
        "  tt =  torch.zeros(size = (2, 3, 1) ).to(\"cuda\")\n",
        "  print(tt.shape)\n",
        "  print(affine_rt.is_cuda)\n",
        "  print(tt.is_cuda)\n",
        "  affine_rt_new = torch.cat([affine_rt,tt],2)\n",
        "  theta = affine_rt_new\n",
        "  print(theta.shape)\n",
        "\n",
        "  spatial_transformer_affine.theta = theta\n",
        "  spatial_transformer_affine_output = spatial_transformer_affine(X)\n",
        "  print(spatial_transformer_affine_output.shape)\n",
        "  print(spatial_transformer_affine_output)"
      ],
      "execution_count": null,
      "outputs": [
        {
          "output_type": "stream",
          "text": [
            "X shape: torch.Size([2, 1, 128, 128, 128])\n",
            "Y shape: torch.Size([2, 1, 128, 128, 128])\n",
            "torch.Size([2, 2, 128, 128, 128])\n",
            "torch.Size([2, 32, 8, 8, 8])\n",
            "torch.Size([2, 256])\n",
            "torch.Size([2, 9])\n",
            "torch.Size([2, 3, 3])\n",
            "torch.Size([2, 3, 1])\n",
            "True\n",
            "True\n",
            "torch.Size([2, 3, 4])\n",
            "torch.Size([2, 1, 128, 128, 128])\n",
            "tensor([[[[[0.4009, 0.4039, 0.4023,  ..., 0.5490, 0.5581, 0.5687],\n",
            "           [0.4054, 0.4073, 0.4058,  ..., 0.5477, 0.5567, 0.5676],\n",
            "           [0.4099, 0.4108, 0.4094,  ..., 0.5467, 0.5555, 0.5667],\n",
            "           ...,\n",
            "           [0.3588, 0.3525, 0.3458,  ..., 0.5642, 0.5625, 0.5605],\n",
            "           [0.3543, 0.3483, 0.3420,  ..., 0.5628, 0.5612, 0.5594],\n",
            "           [0.3500, 0.3443, 0.3383,  ..., 0.5615, 0.5602, 0.5586]],\n",
            "\n",
            "          [[0.4008, 0.3993, 0.3978,  ..., 0.5686, 0.5797, 0.5903],\n",
            "           [0.4042, 0.4029, 0.4014,  ..., 0.5647, 0.5764, 0.5875],\n",
            "           [0.4077, 0.4065, 0.4051,  ..., 0.5608, 0.5730, 0.5847],\n",
            "           ...,\n",
            "           [0.3627, 0.3547, 0.3464,  ..., 0.5679, 0.5652, 0.5622],\n",
            "           [0.3585, 0.3508, 0.3428,  ..., 0.5664, 0.5638, 0.5611],\n",
            "           [0.3545, 0.3471, 0.3393,  ..., 0.5651, 0.5628, 0.5602]],\n",
            "\n",
            "          [[0.3964, 0.3949, 0.3933,  ..., 0.5920, 0.6014, 0.6104],\n",
            "           [0.4000, 0.3987, 0.3973,  ..., 0.5889, 0.5989, 0.6084],\n",
            "           [0.4037, 0.4024, 0.4011,  ..., 0.5859, 0.5964, 0.6063],\n",
            "           ...,\n",
            "           [0.3626, 0.3529, 0.3429,  ..., 0.5613, 0.5563, 0.5516],\n",
            "           [0.3587, 0.3493, 0.3395,  ..., 0.5640, 0.5589, 0.5541],\n",
            "           [0.3548, 0.3457, 0.3363,  ..., 0.5662, 0.5615, 0.5565]],\n",
            "\n",
            "          ...,\n",
            "\n",
            "          [[0.1806, 0.1792, 0.1784,  ..., 0.6276, 0.6324, 0.6368],\n",
            "           [0.1831, 0.1815, 0.1801,  ..., 0.6245, 0.6296, 0.6343],\n",
            "           [0.1853, 0.1835, 0.1819,  ..., 0.6216, 0.6270, 0.6320],\n",
            "           ...,\n",
            "           [0.2654, 0.2705, 0.2755,  ..., 0.2684, 0.2602, 0.2521],\n",
            "           [0.2775, 0.2828, 0.2880,  ..., 0.2700, 0.2615, 0.2533],\n",
            "           [0.2896, 0.2951, 0.3004,  ..., 0.2756, 0.2644, 0.2545]],\n",
            "\n",
            "          [[0.1876, 0.1863, 0.1849,  ..., 0.6343, 0.6365, 0.6382],\n",
            "           [0.1876, 0.1865, 0.1852,  ..., 0.6312, 0.6338, 0.6359],\n",
            "           [0.1873, 0.1863, 0.1852,  ..., 0.6282, 0.6312, 0.6337],\n",
            "           ...,\n",
            "           [0.2616, 0.2657, 0.2696,  ..., 0.2585, 0.2504, 0.2424],\n",
            "           [0.2740, 0.2783, 0.2825,  ..., 0.2597, 0.2515, 0.2434],\n",
            "           [0.2864, 0.2909, 0.2952,  ..., 0.2610, 0.2526, 0.2444]],\n",
            "\n",
            "          [[0.1934, 0.1906, 0.1877,  ..., 0.6345, 0.6340, 0.6330],\n",
            "           [0.1939, 0.1912, 0.1884,  ..., 0.6315, 0.6315, 0.6310],\n",
            "           [0.1941, 0.1915, 0.1888,  ..., 0.6288, 0.6292, 0.6291],\n",
            "           ...,\n",
            "           [0.2613, 0.2655, 0.2714,  ..., 0.2486, 0.2405, 0.2333],\n",
            "           [0.2720, 0.2764, 0.2804,  ..., 0.2496, 0.2414, 0.2347],\n",
            "           [0.2827, 0.2872, 0.2911,  ..., 0.2506, 0.2424, 0.2360]]]],\n",
            "\n",
            "\n",
            "\n",
            "        [[[[0.6029, 0.6051, 0.6069,  ..., 0.4959, 0.4871, 0.4796],\n",
            "           [0.6003, 0.6026, 0.6045,  ..., 0.4949, 0.4861, 0.4782],\n",
            "           [0.5978, 0.6002, 0.6021,  ..., 0.4940, 0.4852, 0.4768],\n",
            "           ...,\n",
            "           [0.6143, 0.6169, 0.6184,  ..., 0.5771, 0.5806, 0.5928],\n",
            "           [0.6163, 0.6190, 0.6206,  ..., 0.5768, 0.5814, 0.5937],\n",
            "           [0.6183, 0.6212, 0.6228,  ..., 0.5765, 0.5824, 0.5947]],\n",
            "\n",
            "          [[0.6233, 0.6237, 0.6244,  ..., 0.4841, 0.4758, 0.4703],\n",
            "           [0.6211, 0.6215, 0.6222,  ..., 0.4832, 0.4744, 0.4688],\n",
            "           [0.6189, 0.6193, 0.6199,  ..., 0.4822, 0.4730, 0.4674],\n",
            "           ...,\n",
            "           [0.6078, 0.6090, 0.6099,  ..., 0.6098, 0.6221, 0.6344],\n",
            "           [0.6100, 0.6111, 0.6121,  ..., 0.6107, 0.6229, 0.6352],\n",
            "           [0.6121, 0.6133, 0.6143,  ..., 0.6116, 0.6238, 0.6361]],\n",
            "\n",
            "          [[0.6400, 0.6412, 0.6426,  ..., 0.4717, 0.4664, 0.4613],\n",
            "           [0.6378, 0.6390, 0.6404,  ..., 0.4704, 0.4649, 0.4599],\n",
            "           [0.6356, 0.6368, 0.6382,  ..., 0.4694, 0.4635, 0.4584],\n",
            "           ...,\n",
            "           [0.5986, 0.5992, 0.5996,  ..., 0.6499, 0.6621, 0.6743],\n",
            "           [0.6008, 0.6013, 0.6018,  ..., 0.6507, 0.6628, 0.6750],\n",
            "           [0.6029, 0.6035, 0.6039,  ..., 0.6515, 0.6636, 0.6757]],\n",
            "\n",
            "          ...,\n",
            "\n",
            "          [[0.4244, 0.4357, 0.4466,  ..., 0.6563, 0.6568, 0.6571],\n",
            "           [0.4267, 0.4380, 0.4490,  ..., 0.6561, 0.6566, 0.6569],\n",
            "           [0.4290, 0.4404, 0.4514,  ..., 0.6559, 0.6564, 0.6568],\n",
            "           ...,\n",
            "           [0.7335, 0.7378, 0.7414,  ..., 0.6685, 0.6674, 0.6663],\n",
            "           [0.7297, 0.7339, 0.7380,  ..., 0.6687, 0.6677, 0.6665],\n",
            "           [0.7260, 0.7300, 0.7341,  ..., 0.6690, 0.6680, 0.6668]],\n",
            "\n",
            "          [[0.4236, 0.4335, 0.4431,  ..., 0.6552, 0.6553, 0.6553],\n",
            "           [0.4259, 0.4358, 0.4454,  ..., 0.6550, 0.6551, 0.6551],\n",
            "           [0.4282, 0.4381, 0.4477,  ..., 0.6548, 0.6549, 0.6550],\n",
            "           ...,\n",
            "           [0.7493, 0.7552, 0.7492,  ..., 0.6586, 0.6574, 0.6561],\n",
            "           [0.7453, 0.7510, 0.7484,  ..., 0.6589, 0.6577, 0.6564],\n",
            "           [0.7413, 0.7469, 0.7477,  ..., 0.6592, 0.6580, 0.6567]],\n",
            "\n",
            "          [[0.4180, 0.4266, 0.4368,  ..., 0.6532, 0.6529, 0.6522],\n",
            "           [0.4202, 0.4288, 0.4394,  ..., 0.6530, 0.6528, 0.6521],\n",
            "           [0.4224, 0.4311, 0.4420,  ..., 0.6528, 0.6526, 0.6520],\n",
            "           ...,\n",
            "           [0.7402, 0.7371, 0.7341,  ..., 0.6519, 0.6517, 0.6513],\n",
            "           [0.7389, 0.7365, 0.7334,  ..., 0.6518, 0.6516, 0.6513],\n",
            "           [0.7375, 0.7358, 0.7326,  ..., 0.6517, 0.6515, 0.6512]]]]],\n",
            "       device='cuda:0', grad_fn=<GridSampler3DBackward>)\n",
            "X shape: torch.Size([2, 1, 128, 128, 128])\n",
            "Y shape: torch.Size([2, 1, 128, 128, 128])\n",
            "torch.Size([2, 2, 128, 128, 128])\n",
            "torch.Size([2, 32, 8, 8, 8])\n",
            "torch.Size([2, 256])\n",
            "torch.Size([2, 9])\n",
            "torch.Size([2, 3, 3])\n",
            "torch.Size([2, 3, 1])\n",
            "True\n",
            "True\n",
            "torch.Size([2, 3, 4])\n",
            "torch.Size([2, 1, 128, 128, 128])\n",
            "tensor([[[[[0.5224, 0.5281, 0.5330,  ..., 0.6025, 0.6017, 0.6007],\n",
            "           [0.5210, 0.5266, 0.5304,  ..., 0.6026, 0.6018, 0.6010],\n",
            "           [0.5196, 0.5239, 0.5276,  ..., 0.6027, 0.6019, 0.6011],\n",
            "           ...,\n",
            "           [0.4618, 0.4624, 0.4621,  ..., 0.5850, 0.5839, 0.5828],\n",
            "           [0.4650, 0.4662, 0.4664,  ..., 0.5864, 0.5853, 0.5842],\n",
            "           [0.4691, 0.4708, 0.4715,  ..., 0.5878, 0.5867, 0.5867]],\n",
            "\n",
            "          [[0.5341, 0.5362, 0.5379,  ..., 0.5987, 0.5974, 0.5961],\n",
            "           [0.5338, 0.5360, 0.5380,  ..., 0.5994, 0.5981, 0.5968],\n",
            "           [0.5313, 0.5352, 0.5383,  ..., 0.5998, 0.5988, 0.5975],\n",
            "           ...,\n",
            "           [0.4581, 0.4577, 0.4571,  ..., 0.5810, 0.5825, 0.5858],\n",
            "           [0.4616, 0.4599, 0.4579,  ..., 0.5812, 0.5822, 0.5855],\n",
            "           [0.4660, 0.4649, 0.4628,  ..., 0.5835, 0.5847, 0.5861]],\n",
            "\n",
            "          [[0.5382, 0.5394, 0.5402,  ..., 0.5940, 0.5926, 0.5912],\n",
            "           [0.5380, 0.5394, 0.5404,  ..., 0.5947, 0.5934, 0.5919],\n",
            "           [0.5381, 0.5396, 0.5408,  ..., 0.5955, 0.5941, 0.5927],\n",
            "           ...,\n",
            "           [0.4562, 0.4543, 0.4535,  ..., 0.5862, 0.5896, 0.5929],\n",
            "           [0.4564, 0.4548, 0.4594,  ..., 0.5859, 0.5892, 0.5925],\n",
            "           [0.4572, 0.4587, 0.4657,  ..., 0.5855, 0.5888, 0.5921]],\n",
            "\n",
            "          ...,\n",
            "\n",
            "          [[0.2346, 0.2329, 0.2311,  ..., 0.2396, 0.2421, 0.2491],\n",
            "           [0.2331, 0.2315, 0.2297,  ..., 0.2402, 0.2442, 0.2531],\n",
            "           [0.2317, 0.2302, 0.2285,  ..., 0.2408, 0.2480, 0.2567],\n",
            "           ...,\n",
            "           [0.4752, 0.4787, 0.4822,  ..., 0.3985, 0.3963, 0.3947],\n",
            "           [0.4773, 0.4808, 0.4843,  ..., 0.3946, 0.3921, 0.3902],\n",
            "           [0.4794, 0.4828, 0.4863,  ..., 0.3902, 0.3874, 0.3852]],\n",
            "\n",
            "          [[0.2316, 0.2299, 0.2277,  ..., 0.2483, 0.2586, 0.2690],\n",
            "           [0.2298, 0.2277, 0.2261,  ..., 0.2516, 0.2616, 0.2719],\n",
            "           [0.2285, 0.2265, 0.2256,  ..., 0.2555, 0.2649, 0.2748],\n",
            "           ...,\n",
            "           [0.4829, 0.4865, 0.4903,  ..., 0.3982, 0.3969, 0.3951],\n",
            "           [0.4851, 0.4886, 0.4922,  ..., 0.3940, 0.3932, 0.3929],\n",
            "           [0.4872, 0.4907, 0.4943,  ..., 0.3894, 0.3882, 0.3876]],\n",
            "\n",
            "          [[0.2285, 0.2267, 0.2262,  ..., 0.2689, 0.2796, 0.2904],\n",
            "           [0.2263, 0.2260, 0.2256,  ..., 0.2719, 0.2826, 0.2933],\n",
            "           [0.2256, 0.2253, 0.2250,  ..., 0.2749, 0.2854, 0.2961],\n",
            "           ...,\n",
            "           [0.4916, 0.4953, 0.4988,  ..., 0.3964, 0.3950, 0.3902],\n",
            "           [0.4933, 0.4970, 0.5006,  ..., 0.3943, 0.3928, 0.3826],\n",
            "           [0.4951, 0.4988, 0.5025,  ..., 0.3921, 0.3853, 0.3744]]]],\n",
            "\n",
            "\n",
            "\n",
            "        [[[[0.3902, 0.3899, 0.3898,  ..., 0.6083, 0.6111, 0.6083],\n",
            "           [0.3888, 0.3886, 0.3884,  ..., 0.6074, 0.6069, 0.6042],\n",
            "           [0.3874, 0.3871, 0.3869,  ..., 0.6046, 0.6027, 0.6002],\n",
            "           ...,\n",
            "           [0.5535, 0.5529, 0.5507,  ..., 0.6750, 0.6781, 0.6808],\n",
            "           [0.5560, 0.5546, 0.5523,  ..., 0.6748, 0.6779, 0.6806],\n",
            "           [0.5586, 0.5563, 0.5539,  ..., 0.6747, 0.6778, 0.6806]],\n",
            "\n",
            "          [[0.3772, 0.3769, 0.3767,  ..., 0.6090, 0.6062, 0.6033],\n",
            "           [0.3759, 0.3756, 0.3754,  ..., 0.6049, 0.6022, 0.5994],\n",
            "           [0.3746, 0.3743, 0.3740,  ..., 0.6009, 0.5983, 0.5956],\n",
            "           ...,\n",
            "           [0.5515, 0.5497, 0.5480,  ..., 0.6838, 0.6847, 0.6855],\n",
            "           [0.5533, 0.5514, 0.5496,  ..., 0.6840, 0.6849, 0.6858],\n",
            "           [0.5550, 0.5530, 0.5512,  ..., 0.6841, 0.6851, 0.6860]],\n",
            "\n",
            "          [[0.3640, 0.3637, 0.3628,  ..., 0.6041, 0.6011, 0.5981],\n",
            "           [0.3628, 0.3624, 0.3614,  ..., 0.6002, 0.5974, 0.5945],\n",
            "           [0.3616, 0.3609, 0.3599,  ..., 0.5964, 0.5937, 0.5909],\n",
            "           ...,\n",
            "           [0.5491, 0.5478, 0.5467,  ..., 0.6851, 0.6858, 0.6865],\n",
            "           [0.5509, 0.5495, 0.5484,  ..., 0.6853, 0.6860, 0.6867],\n",
            "           [0.5526, 0.5512, 0.5500,  ..., 0.6855, 0.6863, 0.6870]],\n",
            "\n",
            "          ...,\n",
            "\n",
            "          [[0.2239, 0.2297, 0.2356,  ..., 0.6311, 0.6276, 0.6240],\n",
            "           [0.2292, 0.2350, 0.2409,  ..., 0.6302, 0.6266, 0.6230],\n",
            "           [0.2344, 0.2403, 0.2463,  ..., 0.6292, 0.6256, 0.6220],\n",
            "           ...,\n",
            "           [0.5098, 0.5099, 0.5100,  ..., 0.4697, 0.4833, 0.4874],\n",
            "           [0.5138, 0.5137, 0.5138,  ..., 0.4733, 0.4868, 0.4838],\n",
            "           [0.5176, 0.5175, 0.5175,  ..., 0.4767, 0.4881, 0.4802]],\n",
            "\n",
            "          [[0.2190, 0.2254, 0.2320,  ..., 0.6200, 0.6163, 0.6127],\n",
            "           [0.2245, 0.2310, 0.2375,  ..., 0.6191, 0.6155, 0.6118],\n",
            "           [0.2300, 0.2365, 0.2432,  ..., 0.6181, 0.6146, 0.6110],\n",
            "           ...,\n",
            "           [0.5040, 0.5041, 0.5042,  ..., 0.4931, 0.4851, 0.4770],\n",
            "           [0.5078, 0.5078, 0.5079,  ..., 0.4895, 0.4816, 0.4737],\n",
            "           [0.5116, 0.5115, 0.5115,  ..., 0.4860, 0.4783, 0.4704]],\n",
            "\n",
            "          [[0.2214, 0.2279, 0.2341,  ..., 0.6086, 0.6049, 0.6008],\n",
            "           [0.2259, 0.2326, 0.2388,  ..., 0.6079, 0.6042, 0.5991],\n",
            "           [0.2305, 0.2374, 0.2438,  ..., 0.6071, 0.6034, 0.5974],\n",
            "           ...,\n",
            "           [0.4981, 0.4982, 0.4977,  ..., 0.4829, 0.4750, 0.4670],\n",
            "           [0.5019, 0.5019, 0.5026,  ..., 0.4796, 0.4718, 0.4639],\n",
            "           [0.5056, 0.5056, 0.5073,  ..., 0.4764, 0.4686, 0.4608]]]]],\n",
            "       device='cuda:0', grad_fn=<GridSampler3DBackward>)\n"
          ],
          "name": "stdout"
        }
      ]
    },
    {
      "cell_type": "markdown",
      "metadata": {
        "id": "sY8tL0ngKHV_"
      },
      "source": [
        "## non rigid transformation"
      ]
    },
    {
      "cell_type": "markdown",
      "metadata": {
        "id": "ALPvGe30KUZ3"
      },
      "source": [
        "#### Please uncomment cdb variables as they are intended to be used for fullsized images Xa and not Ga, Gb ######\n",
        "  ### Once commented take care of the same in the forward layer ########  \n",
        "\n",
        "  In actual code it is better to hardcode number of channels instead of using start channels"
      ]
    },
    {
      "cell_type": "code",
      "metadata": {
        "id": "3AzZ7HbVKOFV"
      },
      "source": [
        "class Transformation_Deformable_Network(nn.Module):\n",
        "  def __init__(self,start_channel):\n",
        "        # self.in_channel = in_channel\n",
        "        self.start_channel = start_channel\n",
        "\n",
        "        ## Declarations ##### \n",
        "        ### Please uncomment cdb variables as they are intended to be used for fullsized images Xa and not Ga, Gb ######\n",
        "        ### Once commented take care of the same in the forward layer ########     \n",
        "        super(Transformation_Deformable_Network, self).__init__()\n",
        "        # self.cdb_1_1 = self.convdownsampleblock(1, 16)\n",
        "        # self.cdb_1_2 = self.convdownsampleblock(1, 16)\n",
        "        # self.cdb_2_1 = self.convdownsampleblock(16, 64)\n",
        "        # self.cdb_2_2 = self.convdownsampleblock(16, 64)\n",
        "\n",
        "        #self.convblock1 = self.convblock(self.start_channel * 32, self.start_channel * 16)\n",
        "        #self.convblock2 = self.convblock(self.start_channel * 16, self.start_channel * 4)\n",
        "        self.convblock1 = self.convblock(self.start_channel * 32, 8)\n",
        "        self.convblock2 = self.convblock(self.start_channel * 32, 8)\n",
        "\n",
        "        self.rb1 = ResidualBlock(16, 16, 1)\n",
        "\n",
        "        ## Harcoded to get the output channels to 3 as deformable field has 3 fields ##\n",
        "        self.convblock3 = self.convblock(16, 3)\n",
        "        self.lkrelublock1 = self.leakyrelublock()\n",
        "        self.lkrelublock2 = self.leakyrelublock()\n",
        "        self.lkrelublock3 = self.leakyrelublock()\n",
        "\n",
        "        #self.inb1 = self.instancenormblock(self.start_channel * 3)\n",
        "        #self.inb2 = self.instancenormblock(self.start_channel * 3)\n",
        "\n",
        "        self.inb1 = self.instancenormblock(3)\n",
        "        self.inb2 = self.instancenormblock(3)\n",
        "\n",
        "\n",
        "        self.tb1 = self.tanhblock()\n",
        "\n",
        "        return;\n",
        "\n",
        "\n",
        "  def convblock(self, in_channels, out_channels, kernel_size=3, bias=False, batchnorm=False):\n",
        "    layer = nn.Sequential(nn.Conv3d(in_channels, out_channels, kernel_size, bias=bias, padding=1),)\n",
        "    return layer\n",
        "\n",
        "  def convdownsampleblock(self, in_channels , out_channels, kernel_size=3, stride=2, padding=1, bias=True):\n",
        "    layer = nn.Sequential(nn.Conv3d(in_channels, out_channels, kernel_size, stride=stride, padding=padding, bias=bias),\n",
        "                                      nn.BatchNorm3d(out_channels),\n",
        "                                      nn.ReLU())\n",
        "    return layer\n",
        "          \n",
        "  def leakyrelublock(self):\n",
        "    layer = nn.LeakyReLU()\n",
        "    return layer\n",
        "          \n",
        "  def instancenormblock(self, out_channels):\n",
        "    layer = nn.InstanceNorm3d(out_channels)\n",
        "    return layer\n",
        "\n",
        "  def tanhblock(self):\n",
        "    layer = nn.Tanh()\n",
        "    return layer\n",
        "\n",
        "  def forward(self, gx, gy):\n",
        "    #cdb11 = self.cdb_1_1(gx)\n",
        "    #cdb12 = self.cdb_1_2(gy)\n",
        "    #cdb21 = self.cdb_2_1(cdb11)\n",
        "    #cdb22 = self.cdb_2_2(cdb12)\n",
        "\n",
        "    cb1 = self.convblock1(gx)\n",
        "    cb1 = self.lkrelublock1(cb1)\n",
        "    cb2 = self.convblock2(gy)\n",
        "    cb2 = self.lkrelublock2(cb2)\n",
        "\n",
        "    cat_in=torch.cat((cb1, cb2), 1)\n",
        "    #print(cat_in.shape)\n",
        "    rb = self.rb1(cat_in)\n",
        "    #print(rb.shape)\n",
        "    ib1 = self.inb1(rb)\n",
        "    #print(ib1.shape)\n",
        "    lk = self.lkrelublock3(ib1)\n",
        "    cb3 = self.convblock3(lk)\n",
        "    ib2 = self.inb2(cb3)\n",
        "    tanhb1 = self.tb1(ib2)\n",
        "    return tanhb1"
      ],
      "execution_count": null,
      "outputs": []
    },
    {
      "cell_type": "code",
      "metadata": {
        "id": "19_agX7fKu--"
      },
      "source": [
        "mymodel = Transformation_Deformable_Network(2).to(\"cuda\")"
      ],
      "execution_count": null,
      "outputs": []
    },
    {
      "cell_type": "code",
      "metadata": {
        "colab": {
          "base_uri": "https://localhost:8080/",
          "height": 908
        },
        "id": "2X5U_mBIK2Nc",
        "outputId": "20efe3c2-6dc2-47a0-ecaf-03c89b458cdf"
      },
      "source": [
        "x = torch.randn(size=(2, 1, 128, 128, 128)).to(\"cuda\")\n",
        "y = torch.randn(size=(2, 1, 128, 128, 128)).to(\"cuda\")\n",
        "tanhbo = mymodel(x, y)"
      ],
      "execution_count": null,
      "outputs": [
        {
          "output_type": "error",
          "ename": "RuntimeError",
          "evalue": "ignored",
          "traceback": [
            "\u001b[0;31m---------------------------------------------------------------------------\u001b[0m",
            "\u001b[0;31mRuntimeError\u001b[0m                              Traceback (most recent call last)",
            "\u001b[0;32m<ipython-input-26-97d33985c4c0>\u001b[0m in \u001b[0;36m<module>\u001b[0;34m()\u001b[0m\n\u001b[1;32m      1\u001b[0m \u001b[0mx\u001b[0m \u001b[0;34m=\u001b[0m \u001b[0mtorch\u001b[0m\u001b[0;34m.\u001b[0m\u001b[0mrandn\u001b[0m\u001b[0;34m(\u001b[0m\u001b[0msize\u001b[0m\u001b[0;34m=\u001b[0m\u001b[0;34m(\u001b[0m\u001b[0;36m2\u001b[0m\u001b[0;34m,\u001b[0m \u001b[0;36m1\u001b[0m\u001b[0;34m,\u001b[0m \u001b[0;36m128\u001b[0m\u001b[0;34m,\u001b[0m \u001b[0;36m128\u001b[0m\u001b[0;34m,\u001b[0m \u001b[0;36m128\u001b[0m\u001b[0;34m)\u001b[0m\u001b[0;34m)\u001b[0m\u001b[0;34m.\u001b[0m\u001b[0mto\u001b[0m\u001b[0;34m(\u001b[0m\u001b[0;34m\"cuda\"\u001b[0m\u001b[0;34m)\u001b[0m\u001b[0;34m\u001b[0m\u001b[0;34m\u001b[0m\u001b[0m\n\u001b[1;32m      2\u001b[0m \u001b[0my\u001b[0m \u001b[0;34m=\u001b[0m \u001b[0mtorch\u001b[0m\u001b[0;34m.\u001b[0m\u001b[0mrandn\u001b[0m\u001b[0;34m(\u001b[0m\u001b[0msize\u001b[0m\u001b[0;34m=\u001b[0m\u001b[0;34m(\u001b[0m\u001b[0;36m2\u001b[0m\u001b[0;34m,\u001b[0m \u001b[0;36m1\u001b[0m\u001b[0;34m,\u001b[0m \u001b[0;36m128\u001b[0m\u001b[0;34m,\u001b[0m \u001b[0;36m128\u001b[0m\u001b[0;34m,\u001b[0m \u001b[0;36m128\u001b[0m\u001b[0;34m)\u001b[0m\u001b[0;34m)\u001b[0m\u001b[0;34m.\u001b[0m\u001b[0mto\u001b[0m\u001b[0;34m(\u001b[0m\u001b[0;34m\"cuda\"\u001b[0m\u001b[0;34m)\u001b[0m\u001b[0;34m\u001b[0m\u001b[0;34m\u001b[0m\u001b[0m\n\u001b[0;32m----> 3\u001b[0;31m \u001b[0mtanhbo\u001b[0m \u001b[0;34m=\u001b[0m \u001b[0mmymodel\u001b[0m\u001b[0;34m(\u001b[0m\u001b[0mx\u001b[0m\u001b[0;34m,\u001b[0m \u001b[0my\u001b[0m\u001b[0;34m)\u001b[0m\u001b[0;34m\u001b[0m\u001b[0;34m\u001b[0m\u001b[0m\n\u001b[0m",
            "\u001b[0;32m/usr/local/lib/python3.7/dist-packages/torch/nn/modules/module.py\u001b[0m in \u001b[0;36m_call_impl\u001b[0;34m(self, *input, **kwargs)\u001b[0m\n\u001b[1;32m    887\u001b[0m             \u001b[0mresult\u001b[0m \u001b[0;34m=\u001b[0m \u001b[0mself\u001b[0m\u001b[0;34m.\u001b[0m\u001b[0m_slow_forward\u001b[0m\u001b[0;34m(\u001b[0m\u001b[0;34m*\u001b[0m\u001b[0minput\u001b[0m\u001b[0;34m,\u001b[0m \u001b[0;34m**\u001b[0m\u001b[0mkwargs\u001b[0m\u001b[0;34m)\u001b[0m\u001b[0;34m\u001b[0m\u001b[0;34m\u001b[0m\u001b[0m\n\u001b[1;32m    888\u001b[0m         \u001b[0;32melse\u001b[0m\u001b[0;34m:\u001b[0m\u001b[0;34m\u001b[0m\u001b[0;34m\u001b[0m\u001b[0m\n\u001b[0;32m--> 889\u001b[0;31m             \u001b[0mresult\u001b[0m \u001b[0;34m=\u001b[0m \u001b[0mself\u001b[0m\u001b[0;34m.\u001b[0m\u001b[0mforward\u001b[0m\u001b[0;34m(\u001b[0m\u001b[0;34m*\u001b[0m\u001b[0minput\u001b[0m\u001b[0;34m,\u001b[0m \u001b[0;34m**\u001b[0m\u001b[0mkwargs\u001b[0m\u001b[0;34m)\u001b[0m\u001b[0;34m\u001b[0m\u001b[0;34m\u001b[0m\u001b[0m\n\u001b[0m\u001b[1;32m    890\u001b[0m         for hook in itertools.chain(\n\u001b[1;32m    891\u001b[0m                 \u001b[0m_global_forward_hooks\u001b[0m\u001b[0;34m.\u001b[0m\u001b[0mvalues\u001b[0m\u001b[0;34m(\u001b[0m\u001b[0;34m)\u001b[0m\u001b[0;34m,\u001b[0m\u001b[0;34m\u001b[0m\u001b[0;34m\u001b[0m\u001b[0m\n",
            "\u001b[0;32m<ipython-input-24-daa5ae97acae>\u001b[0m in \u001b[0;36mforward\u001b[0;34m(self, gx, gy)\u001b[0m\n\u001b[1;32m     66\u001b[0m     \u001b[0;31m#cdb22 = self.cdb_2_2(cdb12)\u001b[0m\u001b[0;34m\u001b[0m\u001b[0;34m\u001b[0m\u001b[0;34m\u001b[0m\u001b[0m\n\u001b[1;32m     67\u001b[0m \u001b[0;34m\u001b[0m\u001b[0m\n\u001b[0;32m---> 68\u001b[0;31m     \u001b[0mcb1\u001b[0m \u001b[0;34m=\u001b[0m \u001b[0mself\u001b[0m\u001b[0;34m.\u001b[0m\u001b[0mconvblock1\u001b[0m\u001b[0;34m(\u001b[0m\u001b[0mgx\u001b[0m\u001b[0;34m)\u001b[0m\u001b[0;34m\u001b[0m\u001b[0;34m\u001b[0m\u001b[0m\n\u001b[0m\u001b[1;32m     69\u001b[0m     \u001b[0mcb1\u001b[0m \u001b[0;34m=\u001b[0m \u001b[0mself\u001b[0m\u001b[0;34m.\u001b[0m\u001b[0mlkrelublock1\u001b[0m\u001b[0;34m(\u001b[0m\u001b[0mcb1\u001b[0m\u001b[0;34m)\u001b[0m\u001b[0;34m\u001b[0m\u001b[0;34m\u001b[0m\u001b[0m\n\u001b[1;32m     70\u001b[0m     \u001b[0mcb2\u001b[0m \u001b[0;34m=\u001b[0m \u001b[0mself\u001b[0m\u001b[0;34m.\u001b[0m\u001b[0mconvblock2\u001b[0m\u001b[0;34m(\u001b[0m\u001b[0mgy\u001b[0m\u001b[0;34m)\u001b[0m\u001b[0;34m\u001b[0m\u001b[0;34m\u001b[0m\u001b[0m\n",
            "\u001b[0;32m/usr/local/lib/python3.7/dist-packages/torch/nn/modules/module.py\u001b[0m in \u001b[0;36m_call_impl\u001b[0;34m(self, *input, **kwargs)\u001b[0m\n\u001b[1;32m    887\u001b[0m             \u001b[0mresult\u001b[0m \u001b[0;34m=\u001b[0m \u001b[0mself\u001b[0m\u001b[0;34m.\u001b[0m\u001b[0m_slow_forward\u001b[0m\u001b[0;34m(\u001b[0m\u001b[0;34m*\u001b[0m\u001b[0minput\u001b[0m\u001b[0;34m,\u001b[0m \u001b[0;34m**\u001b[0m\u001b[0mkwargs\u001b[0m\u001b[0;34m)\u001b[0m\u001b[0;34m\u001b[0m\u001b[0;34m\u001b[0m\u001b[0m\n\u001b[1;32m    888\u001b[0m         \u001b[0;32melse\u001b[0m\u001b[0;34m:\u001b[0m\u001b[0;34m\u001b[0m\u001b[0;34m\u001b[0m\u001b[0m\n\u001b[0;32m--> 889\u001b[0;31m             \u001b[0mresult\u001b[0m \u001b[0;34m=\u001b[0m \u001b[0mself\u001b[0m\u001b[0;34m.\u001b[0m\u001b[0mforward\u001b[0m\u001b[0;34m(\u001b[0m\u001b[0;34m*\u001b[0m\u001b[0minput\u001b[0m\u001b[0;34m,\u001b[0m \u001b[0;34m**\u001b[0m\u001b[0mkwargs\u001b[0m\u001b[0;34m)\u001b[0m\u001b[0;34m\u001b[0m\u001b[0;34m\u001b[0m\u001b[0m\n\u001b[0m\u001b[1;32m    890\u001b[0m         for hook in itertools.chain(\n\u001b[1;32m    891\u001b[0m                 \u001b[0m_global_forward_hooks\u001b[0m\u001b[0;34m.\u001b[0m\u001b[0mvalues\u001b[0m\u001b[0;34m(\u001b[0m\u001b[0;34m)\u001b[0m\u001b[0;34m,\u001b[0m\u001b[0;34m\u001b[0m\u001b[0;34m\u001b[0m\u001b[0m\n",
            "\u001b[0;32m/usr/local/lib/python3.7/dist-packages/torch/nn/modules/container.py\u001b[0m in \u001b[0;36mforward\u001b[0;34m(self, input)\u001b[0m\n\u001b[1;32m    117\u001b[0m     \u001b[0;32mdef\u001b[0m \u001b[0mforward\u001b[0m\u001b[0;34m(\u001b[0m\u001b[0mself\u001b[0m\u001b[0;34m,\u001b[0m \u001b[0minput\u001b[0m\u001b[0;34m)\u001b[0m\u001b[0;34m:\u001b[0m\u001b[0;34m\u001b[0m\u001b[0;34m\u001b[0m\u001b[0m\n\u001b[1;32m    118\u001b[0m         \u001b[0;32mfor\u001b[0m \u001b[0mmodule\u001b[0m \u001b[0;32min\u001b[0m \u001b[0mself\u001b[0m\u001b[0;34m:\u001b[0m\u001b[0;34m\u001b[0m\u001b[0;34m\u001b[0m\u001b[0m\n\u001b[0;32m--> 119\u001b[0;31m             \u001b[0minput\u001b[0m \u001b[0;34m=\u001b[0m \u001b[0mmodule\u001b[0m\u001b[0;34m(\u001b[0m\u001b[0minput\u001b[0m\u001b[0;34m)\u001b[0m\u001b[0;34m\u001b[0m\u001b[0;34m\u001b[0m\u001b[0m\n\u001b[0m\u001b[1;32m    120\u001b[0m         \u001b[0;32mreturn\u001b[0m \u001b[0minput\u001b[0m\u001b[0;34m\u001b[0m\u001b[0;34m\u001b[0m\u001b[0m\n\u001b[1;32m    121\u001b[0m \u001b[0;34m\u001b[0m\u001b[0m\n",
            "\u001b[0;32m/usr/local/lib/python3.7/dist-packages/torch/nn/modules/module.py\u001b[0m in \u001b[0;36m_call_impl\u001b[0;34m(self, *input, **kwargs)\u001b[0m\n\u001b[1;32m    887\u001b[0m             \u001b[0mresult\u001b[0m \u001b[0;34m=\u001b[0m \u001b[0mself\u001b[0m\u001b[0;34m.\u001b[0m\u001b[0m_slow_forward\u001b[0m\u001b[0;34m(\u001b[0m\u001b[0;34m*\u001b[0m\u001b[0minput\u001b[0m\u001b[0;34m,\u001b[0m \u001b[0;34m**\u001b[0m\u001b[0mkwargs\u001b[0m\u001b[0;34m)\u001b[0m\u001b[0;34m\u001b[0m\u001b[0;34m\u001b[0m\u001b[0m\n\u001b[1;32m    888\u001b[0m         \u001b[0;32melse\u001b[0m\u001b[0;34m:\u001b[0m\u001b[0;34m\u001b[0m\u001b[0;34m\u001b[0m\u001b[0m\n\u001b[0;32m--> 889\u001b[0;31m             \u001b[0mresult\u001b[0m \u001b[0;34m=\u001b[0m \u001b[0mself\u001b[0m\u001b[0;34m.\u001b[0m\u001b[0mforward\u001b[0m\u001b[0;34m(\u001b[0m\u001b[0;34m*\u001b[0m\u001b[0minput\u001b[0m\u001b[0;34m,\u001b[0m \u001b[0;34m**\u001b[0m\u001b[0mkwargs\u001b[0m\u001b[0;34m)\u001b[0m\u001b[0;34m\u001b[0m\u001b[0;34m\u001b[0m\u001b[0m\n\u001b[0m\u001b[1;32m    890\u001b[0m         for hook in itertools.chain(\n\u001b[1;32m    891\u001b[0m                 \u001b[0m_global_forward_hooks\u001b[0m\u001b[0;34m.\u001b[0m\u001b[0mvalues\u001b[0m\u001b[0;34m(\u001b[0m\u001b[0;34m)\u001b[0m\u001b[0;34m,\u001b[0m\u001b[0;34m\u001b[0m\u001b[0;34m\u001b[0m\u001b[0m\n",
            "\u001b[0;32m/usr/local/lib/python3.7/dist-packages/torch/nn/modules/conv.py\u001b[0m in \u001b[0;36mforward\u001b[0;34m(self, input)\u001b[0m\n\u001b[1;32m    519\u001b[0m                             self.dilation, self.groups)\n\u001b[1;32m    520\u001b[0m         return F.conv3d(input, self.weight, self.bias, self.stride,\n\u001b[0;32m--> 521\u001b[0;31m                         self.padding, self.dilation, self.groups)\n\u001b[0m\u001b[1;32m    522\u001b[0m \u001b[0;34m\u001b[0m\u001b[0m\n\u001b[1;32m    523\u001b[0m \u001b[0;34m\u001b[0m\u001b[0m\n",
            "\u001b[0;31mRuntimeError\u001b[0m: Given groups=1, weight of size [64, 64, 3, 3, 3], expected input[2, 1, 128, 128, 128] to have 64 channels, but got 1 channels instead"
          ]
        }
      ]
    },
    {
      "cell_type": "code",
      "metadata": {
        "colab": {
          "base_uri": "https://localhost:8080/"
        },
        "id": "3vx56DSgK8Gf",
        "outputId": "40147774-9813-4503-e0f5-6fc120505b2d"
      },
      "source": [
        "spatial_transformer_deformable = SpatialTransformer(size=(32, 32, 32), is_affine=False).to(\"cuda\")\n",
        "print(spatial_transformer_deformable.grid.shape)\n",
        "print(spatial_transformer_deformable.isaffine)\n",
        "print(\"========= =========== ======\")\n",
        "print()"
      ],
      "execution_count": null,
      "outputs": [
        {
          "output_type": "stream",
          "text": [
            "torch.Size([1, 3, 32, 32, 32])\n",
            "False\n",
            "========= =========== ======\n",
            "\n"
          ],
          "name": "stdout"
        }
      ]
    },
    {
      "cell_type": "code",
      "metadata": {
        "id": "cXP8UlWrLFxt"
      },
      "source": [
        "gx_affine = torch.randn(size=(2, 128, 32, 32, 32)).to(\"cuda\")"
      ],
      "execution_count": null,
      "outputs": []
    },
    {
      "cell_type": "code",
      "metadata": {
        "colab": {
          "base_uri": "https://localhost:8080/"
        },
        "id": "0T4Savm-LLjy",
        "outputId": "f4b93d3c-db0f-4918-ce8d-e1e453e0e8c0"
      },
      "source": [
        "stdef_op = spatial_transformer_deformable(gx_affine, tanhbo)\n",
        "print(stdef_op.shape)"
      ],
      "execution_count": null,
      "outputs": [
        {
          "output_type": "stream",
          "text": [
            "torch.Size([2, 128, 32, 32, 32])\n"
          ],
          "name": "stdout"
        }
      ]
    },
    {
      "cell_type": "markdown",
      "metadata": {
        "id": "9KCepj2QdAln"
      },
      "source": [
        "# Complete Model\n",
        "\n"
      ]
    },
    {
      "cell_type": "markdown",
      "metadata": {
        "id": "ERbpV85YoFfB"
      },
      "source": [
        "![image.png](data:image/png;base64,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)"
      ]
    },
    {
      "cell_type": "markdown",
      "metadata": {
        "id": "VGIZibvLoBsO"
      },
      "source": [
        "![image.png](data:image/png;base64,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)"
      ]
    },
    {
      "cell_type": "code",
      "metadata": {
        "id": "0jyAZrF1dEV0"
      },
      "source": [
        "class Fire_Model(nn.Module):\n",
        "  def __init__(self):\n",
        "    super(Fire_Model, self).__init__()\n",
        "    self.encoder_A = Fire_Encoder(in_channel=1, start_channel=16)\n",
        "    self.encoder_B = Fire_Encoder(in_channel=1, start_channel=16)\n",
        "\n",
        "    self.decoder_A_B = Synthesizer_Decoder(start_channel=16)\n",
        "    self.decoder_B_A = Synthesizer_Decoder(start_channel=16)\n",
        "\n",
        "    self.transformer_A_B = Transformation_Deformable_Network(2)\n",
        "    self.transformer_B_A = Transformation_Deformable_Network(2)\n",
        "\n",
        "    self.spatial_transformer_deformable_A_B = SpatialTransformer(size=(32, 32, 32), is_affine=False)\n",
        "    self.spatial_transformer_deformable_B_A = SpatialTransformer(size=(32, 32, 32), is_affine=False)\n",
        "\n",
        "  def forward(self, XA, XB):\n",
        "    GX_A = self.encoder_A(XA)\n",
        "    GX_B = self.encoder_B(XB)\n",
        "\n",
        "    # Transforming images\n",
        "\n",
        "    # Get the deformation field\n",
        "    phi_A_B = self.transformer_A_B(GX_A, GX_B)\n",
        "    phi_B_A = self.transformer_B_A(GX_B, GX_A)\n",
        "\n",
        "    #print(\"phi_A_B shape: {}\".format(phi_A_B.shape) )\n",
        "    #print(\"GX_A shape: {}\".format(GX_A.shape))\n",
        "\n",
        "    # Apply field to encoders\n",
        "    print(phi_A_B.shape, GX_A.shape)\n",
        "    GX_T_A = self.spatial_transformer_deformable_A_B(GX_A, phi_A_B )\n",
        "    GX_T_B = self.spatial_transformer_deformable_B_A(GX_B, phi_B_A)\n",
        "\n",
        "    # Registered images that actually deformed according to the other image through deformation field\n",
        "    Xhat_T_A = self.decoder_A_B(GX_T_A)\n",
        "    Xhat_T_B = self.decoder_B_A(GX_T_B)\n",
        "\n",
        "    # Synthesis images that are identical to its counterpart without having deformation field applied\n",
        "    Xhat_B = self.decoder_A_B(GX_A)\n",
        "    Xhat_A = self.decoder_B_A(GX_B)\n",
        "\n",
        "    return Xhat_T_A, Xhat_T_B, Xhat_A, Xhat_B\n"
      ],
      "execution_count": null,
      "outputs": []
    },
    {
      "cell_type": "code",
      "metadata": {
        "id": "ixRxvzEodEYi"
      },
      "source": [
        "firemodel = Fire_Model().to(\"cuda\")"
      ],
      "execution_count": null,
      "outputs": []
    },
    {
      "cell_type": "code",
      "metadata": {
        "id": "MqdCV_YKdEa_"
      },
      "source": [
        "xa = torch.randn(size=(2, 1, 128, 128, 128)).to(\"cuda\")\n",
        "xb = torch.randn(size=(2, 1, 128, 128, 128)).to(\"cuda\")"
      ],
      "execution_count": null,
      "outputs": []
    },
    {
      "cell_type": "code",
      "metadata": {
        "colab": {
          "base_uri": "https://localhost:8080/"
        },
        "id": "hgruPuzkdEfO",
        "outputId": "6176c072-9ae4-4782-e578-7ff7fb87b7db"
      },
      "source": [
        "xhat_t_a, xhat_t_b, xhat_a, xhat_b = firemodel(xa, xb)"
      ],
      "execution_count": null,
      "outputs": [
        {
          "output_type": "stream",
          "text": [
            "torch.Size([2, 16, 32, 32, 32])\n",
            "torch.Size([2, 16, 32, 32, 32])\n",
            "torch.Size([2, 16, 32, 32, 32])\n",
            "torch.Size([2, 16, 32, 32, 32])\n",
            "torch.Size([2, 16, 32, 32, 32])\n",
            "torch.Size([2, 16, 32, 32, 32])\n",
            "phi_A_B shape: torch.Size([2, 3, 32, 32, 32])\n",
            "GX_A shape: torch.Size([2, 64, 32, 32, 32])\n",
            "torch.Size([2, 3, 32, 32, 32]) torch.Size([2, 64, 32, 32, 32])\n"
          ],
          "name": "stdout"
        }
      ]
    },
    {
      "cell_type": "code",
      "metadata": {
        "id": "sEm0UR_sdEiA"
      },
      "source": [
        "del firemodel"
      ],
      "execution_count": null,
      "outputs": []
    },
    {
      "cell_type": "code",
      "metadata": {
        "id": "-sPDp2O_fqwe"
      },
      "source": [
        "torch.cuda.empty_cache()"
      ],
      "execution_count": null,
      "outputs": []
    },
    {
      "cell_type": "code",
      "metadata": {
        "colab": {
          "base_uri": "https://localhost:8080/"
        },
        "id": "nnJHsZtzn3HU",
        "outputId": "818528fe-9d58-4843-9b9b-d95d569f77f0"
      },
      "source": [
        "!nvidia-smi"
      ],
      "execution_count": null,
      "outputs": [
        {
          "output_type": "stream",
          "text": [
            "Thu Mar 18 13:56:29 2021       \n",
            "+-----------------------------------------------------------------------------+\n",
            "| NVIDIA-SMI 460.56       Driver Version: 460.32.03    CUDA Version: 11.2     |\n",
            "|-------------------------------+----------------------+----------------------+\n",
            "| GPU  Name        Persistence-M| Bus-Id        Disp.A | Volatile Uncorr. ECC |\n",
            "| Fan  Temp  Perf  Pwr:Usage/Cap|         Memory-Usage | GPU-Util  Compute M. |\n",
            "|                               |                      |               MIG M. |\n",
            "|===============================+======================+======================|\n",
            "|   0  Tesla T4            Off  | 00000000:00:04.0 Off |                    0 |\n",
            "| N/A   54C    P0    28W /  70W |  12512MiB / 15109MiB |      0%      Default |\n",
            "|                               |                      |                  N/A |\n",
            "+-------------------------------+----------------------+----------------------+\n",
            "                                                                               \n",
            "+-----------------------------------------------------------------------------+\n",
            "| Processes:                                                                  |\n",
            "|  GPU   GI   CI        PID   Type   Process name                  GPU Memory |\n",
            "|        ID   ID                                                   Usage      |\n",
            "|=============================================================================|\n",
            "+-----------------------------------------------------------------------------+\n"
          ],
          "name": "stdout"
        }
      ]
    },
    {
      "cell_type": "code",
      "metadata": {
        "id": "UM4O0bpJn5Jq"
      },
      "source": [
        ""
      ],
      "execution_count": null,
      "outputs": []
    }
  ]
}