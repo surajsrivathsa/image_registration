{
  "nbformat": 4,
  "nbformat_minor": 0,
  "metadata": {
    "colab": {
      "name": "Disentangled_Latent_space_for_MRI_Harmonization.ipynb",
      "provenance": [],
      "collapsed_sections": [
        "k57w1emYso1Q",
        "L4bZF0Epspb8",
        "ZGyIkH8Ospzy"
      ],
      "authorship_tag": "ABX9TyPl8sUhbw6gs5QXpmuJc9p+",
      "include_colab_link": true
    },
    "kernelspec": {
      "name": "python3",
      "display_name": "Python 3"
    },
    "language_info": {
      "name": "python"
    },
    "accelerator": "GPU"
  },
  "cells": [
    {
      "cell_type": "markdown",
      "metadata": {
        "id": "view-in-github",
        "colab_type": "text"
      },
      "source": [
        "<a href=\"https://colab.research.google.com/github/surajsrivathsa/image_registration/blob/main/Disentangled_Latent_space_for_MRI_Harmonization.ipynb\" target=\"_parent\"><img src=\"https://colab.research.google.com/assets/colab-badge.svg\" alt=\"Open In Colab\"/></a>"
      ]
    },
    {
      "cell_type": "markdown",
      "metadata": {
        "id": "k57w1emYso1Q"
      },
      "source": [
        "# Preamble"
      ]
    },
    {
      "cell_type": "code",
      "metadata": {
        "colab": {
          "base_uri": "https://localhost:8080/"
        },
        "id": "rCvdlIoatKXg",
        "outputId": "ee48ff68-bd21-4102-e8f8-ddf8dfbd838c"
      },
      "source": [
        "# !pip install --upgrade nibabel\n",
        "!pip install torchviz"
      ],
      "execution_count": null,
      "outputs": [
        {
          "output_type": "stream",
          "text": [
            "Collecting torchviz\n",
            "  Downloading https://files.pythonhosted.org/packages/79/e7/643808913211d6c1fc96a3a4333bf4c9276858fab00bcafaf98ea58a97be/torchviz-0.0.2.tar.gz\n",
            "Requirement already satisfied: torch in /usr/local/lib/python3.7/dist-packages (from torchviz) (1.8.1+cu101)\n",
            "Requirement already satisfied: graphviz in /usr/local/lib/python3.7/dist-packages (from torchviz) (0.10.1)\n",
            "Requirement already satisfied: typing-extensions in /usr/local/lib/python3.7/dist-packages (from torch->torchviz) (3.7.4.3)\n",
            "Requirement already satisfied: numpy in /usr/local/lib/python3.7/dist-packages (from torch->torchviz) (1.19.5)\n",
            "Building wheels for collected packages: torchviz\n",
            "  Building wheel for torchviz (setup.py) ... \u001b[?25l\u001b[?25hdone\n",
            "  Created wheel for torchviz: filename=torchviz-0.0.2-cp37-none-any.whl size=4152 sha256=1ca6545c9b142d798e6977ee90efbfdeb8dac7c55606a335374750173979ac04\n",
            "  Stored in directory: /root/.cache/pip/wheels/01/26/58/026ffd533dbe8b3972eb423da9c7949beca68d1c98ed9e8624\n",
            "Successfully built torchviz\n",
            "Installing collected packages: torchviz\n",
            "Successfully installed torchviz-0.0.2\n"
          ],
          "name": "stdout"
        }
      ]
    },
    {
      "cell_type": "code",
      "metadata": {
        "colab": {
          "base_uri": "https://localhost:8080/"
        },
        "id": "My0zIlMKtKbB",
        "outputId": "5defb503-ec0c-4f9e-c7ea-1f574cd86769"
      },
      "source": [
        "import warnings\n",
        "import os\n",
        "warnings.filterwarnings(\"ignore\")\n",
        "import numpy as np\n",
        "import torch\n",
        "print(torch.__version__)\n",
        "import torchvision\n",
        "print(torchvision.__version__)\n",
        "import torch \n",
        "import torch.nn as nn\n",
        "import torch.nn.functional as F\n",
        "import torch.utils.data as Data\n",
        "import nibabel as nb\n",
        "import os, sys, glob\n",
        "from google.colab import drive\n",
        "drive.mount('/content/drive')\n",
        "print()"
      ],
      "execution_count": null,
      "outputs": [
        {
          "output_type": "stream",
          "text": [
            "1.8.1+cu101\n",
            "0.9.1+cu101\n",
            "Mounted at /content/drive\n",
            "\n"
          ],
          "name": "stdout"
        }
      ]
    },
    {
      "cell_type": "code",
      "metadata": {
        "id": "Utr4LN70tKej"
      },
      "source": [
        "import pandas as pd\n",
        "import matplotlib.pyplot as plt\n",
        "import re\n",
        "import seaborn as sns\n",
        "import collections\n",
        "from torch.autograd import Variable"
      ],
      "execution_count": null,
      "outputs": []
    },
    {
      "cell_type": "code",
      "metadata": {
        "id": "iKIbijqbtKiN"
      },
      "source": [
        "import time\n",
        "from sklearn.decomposition import PCA\n",
        "from sklearn.manifold import TSNE\n",
        "from sklearn.metrics import accuracy_score\n",
        "from torchviz import make_dot\n",
        "import urllib\n",
        "from random import randint, seed\n",
        "seed(1)"
      ],
      "execution_count": null,
      "outputs": []
    },
    {
      "cell_type": "code",
      "metadata": {
        "id": "iZlrK6umtPt5"
      },
      "source": [
        "#data_path_t1 = \"/content/drive/My Drive/Image_Registration_Project/dataset_ants_resampled/T1_Train_200_Reg_downsampled_znm/\"\n",
        "data_path_t1 = \"/content/drive/My Drive/Image_Registration_Project/dataset_ants_resampled/voxelmorp_intermodal/T1_Train_50_Reg_downsampled_hm_znm/\" \n",
        "data_path_t2 = \"/content/drive/My Drive/Image_Registration_Project/dataset_ants_resampled/voxelmorp_intermodal/T2-T1/\"\n",
        "ixi_xls_path = \"/content/drive/My Drive/Image_Registration_Project/dataset_ants_resampled/IXI.xls\"\n",
        "file_names_t1 = sorted(glob.glob(os.path.join(data_path_t1, \"*.nii.gz\")))\n",
        "file_names_t2 = sorted(glob.glob(os.path.join(data_path_t2, \"*.nii.gz\")))"
      ],
      "execution_count": null,
      "outputs": []
    },
    {
      "cell_type": "code",
      "metadata": {
        "colab": {
          "base_uri": "https://localhost:8080/"
        },
        "id": "kRa2Tp0FehnM",
        "outputId": "5463a48f-cb1f-4ca5-eb1a-0dec79bc2e6d"
      },
      "source": [
        "file_names_t1[0:3]"
      ],
      "execution_count": null,
      "outputs": [
        {
          "output_type": "execute_result",
          "data": {
            "text/plain": [
              "['/content/drive/My Drive/Image_Registration_Project/dataset_ants_resampled/voxelmorp_intermodal/T1_Train_50_Reg_downsampled_hm_znm/reg_IXI430-IOP-0990-T1_downsampled_hm_zscore.nii.gz',\n",
              " '/content/drive/My Drive/Image_Registration_Project/dataset_ants_resampled/voxelmorp_intermodal/T1_Train_50_Reg_downsampled_hm_znm/reg_IXI438-HH-2155-T1_downsampled_hm_zscore.nii.gz',\n",
              " '/content/drive/My Drive/Image_Registration_Project/dataset_ants_resampled/voxelmorp_intermodal/T1_Train_50_Reg_downsampled_hm_znm/reg_IXI439-HH-2114-T1_downsampled_hm_zscore.nii.gz']"
            ]
          },
          "metadata": {
            "tags": []
          },
          "execution_count": 6
        }
      ]
    },
    {
      "cell_type": "code",
      "metadata": {
        "colab": {
          "base_uri": "https://localhost:8080/"
        },
        "id": "wwCb9fFJejWA",
        "outputId": "f7bea0a4-eb99-4678-9e26-20ea56667dd9"
      },
      "source": [
        "file_names_t2[0:3]"
      ],
      "execution_count": null,
      "outputs": [
        {
          "output_type": "execute_result",
          "data": {
            "text/plain": [
              "['/content/drive/My Drive/Image_Registration_Project/dataset_ants_resampled/voxelmorp_intermodal/T2-T1/T2-T1reg_IXI430-IOP-0990-T1_downsampled_hm_zscore.nii.gz',\n",
              " '/content/drive/My Drive/Image_Registration_Project/dataset_ants_resampled/voxelmorp_intermodal/T2-T1/T2-T1reg_IXI438-HH-2155-T1_downsampled_hm_zscore.nii.gz',\n",
              " '/content/drive/My Drive/Image_Registration_Project/dataset_ants_resampled/voxelmorp_intermodal/T2-T1/T2-T1reg_IXI439-HH-2114-T1_downsampled_hm_zscore.nii.gz']"
            ]
          },
          "metadata": {
            "tags": []
          },
          "execution_count": 7
        }
      ]
    },
    {
      "cell_type": "code",
      "metadata": {
        "colab": {
          "base_uri": "https://localhost:8080/",
          "height": 201
        },
        "id": "zr3u2c5TtPyX",
        "outputId": "df40fa70-184d-437b-da3d-37994a89b403"
      },
      "source": [
        "ixi_df = pd.read_excel(ixi_xls_path, sheet_name=\"Table\")\n",
        "ixi_df.head()"
      ],
      "execution_count": null,
      "outputs": [
        {
          "output_type": "execute_result",
          "data": {
            "text/html": [
              "<div>\n",
              "<style scoped>\n",
              "    .dataframe tbody tr th:only-of-type {\n",
              "        vertical-align: middle;\n",
              "    }\n",
              "\n",
              "    .dataframe tbody tr th {\n",
              "        vertical-align: top;\n",
              "    }\n",
              "\n",
              "    .dataframe thead th {\n",
              "        text-align: right;\n",
              "    }\n",
              "</style>\n",
              "<table border=\"1\" class=\"dataframe\">\n",
              "  <thead>\n",
              "    <tr style=\"text-align: right;\">\n",
              "      <th></th>\n",
              "      <th>IXI_ID</th>\n",
              "      <th>SEX_ID (1=m, 2=f)</th>\n",
              "      <th>HEIGHT</th>\n",
              "      <th>WEIGHT</th>\n",
              "      <th>ETHNIC_ID</th>\n",
              "      <th>MARITAL_ID</th>\n",
              "      <th>OCCUPATION_ID</th>\n",
              "      <th>QUALIFICATION_ID</th>\n",
              "      <th>DOB</th>\n",
              "      <th>DATE_AVAILABLE</th>\n",
              "      <th>STUDY_DATE</th>\n",
              "      <th>AGE</th>\n",
              "    </tr>\n",
              "  </thead>\n",
              "  <tbody>\n",
              "    <tr>\n",
              "      <th>0</th>\n",
              "      <td>1</td>\n",
              "      <td>1</td>\n",
              "      <td>170</td>\n",
              "      <td>80</td>\n",
              "      <td>2</td>\n",
              "      <td>3</td>\n",
              "      <td>5</td>\n",
              "      <td>2</td>\n",
              "      <td>1968-02-22</td>\n",
              "      <td>0</td>\n",
              "      <td>NaT</td>\n",
              "      <td>NaN</td>\n",
              "    </tr>\n",
              "    <tr>\n",
              "      <th>1</th>\n",
              "      <td>2</td>\n",
              "      <td>2</td>\n",
              "      <td>164</td>\n",
              "      <td>58</td>\n",
              "      <td>1</td>\n",
              "      <td>4</td>\n",
              "      <td>1</td>\n",
              "      <td>5</td>\n",
              "      <td>1970-01-30</td>\n",
              "      <td>1</td>\n",
              "      <td>2005-11-18</td>\n",
              "      <td>35.800137</td>\n",
              "    </tr>\n",
              "    <tr>\n",
              "      <th>2</th>\n",
              "      <td>12</td>\n",
              "      <td>1</td>\n",
              "      <td>175</td>\n",
              "      <td>70</td>\n",
              "      <td>1</td>\n",
              "      <td>2</td>\n",
              "      <td>1</td>\n",
              "      <td>5</td>\n",
              "      <td>1966-08-20</td>\n",
              "      <td>1</td>\n",
              "      <td>2005-06-01</td>\n",
              "      <td>38.781656</td>\n",
              "    </tr>\n",
              "    <tr>\n",
              "      <th>3</th>\n",
              "      <td>13</td>\n",
              "      <td>1</td>\n",
              "      <td>182</td>\n",
              "      <td>70</td>\n",
              "      <td>1</td>\n",
              "      <td>2</td>\n",
              "      <td>1</td>\n",
              "      <td>5</td>\n",
              "      <td>1958-09-15</td>\n",
              "      <td>1</td>\n",
              "      <td>2005-06-01</td>\n",
              "      <td>46.710472</td>\n",
              "    </tr>\n",
              "    <tr>\n",
              "      <th>4</th>\n",
              "      <td>14</td>\n",
              "      <td>2</td>\n",
              "      <td>163</td>\n",
              "      <td>65</td>\n",
              "      <td>1</td>\n",
              "      <td>4</td>\n",
              "      <td>1</td>\n",
              "      <td>5</td>\n",
              "      <td>1971-03-15</td>\n",
              "      <td>1</td>\n",
              "      <td>2005-06-09</td>\n",
              "      <td>34.236824</td>\n",
              "    </tr>\n",
              "  </tbody>\n",
              "</table>\n",
              "</div>"
            ],
            "text/plain": [
              "   IXI_ID  SEX_ID (1=m, 2=f)  HEIGHT  ...  DATE_AVAILABLE  STUDY_DATE        AGE\n",
              "0       1                  1     170  ...               0         NaT        NaN\n",
              "1       2                  2     164  ...               1  2005-11-18  35.800137\n",
              "2      12                  1     175  ...               1  2005-06-01  38.781656\n",
              "3      13                  1     182  ...               1  2005-06-01  46.710472\n",
              "4      14                  2     163  ...               1  2005-06-09  34.236824\n",
              "\n",
              "[5 rows x 12 columns]"
            ]
          },
          "metadata": {
            "tags": []
          },
          "execution_count": 8
        }
      ]
    },
    {
      "cell_type": "code",
      "metadata": {
        "id": "XcTpqC7ItP27"
      },
      "source": [
        "ixi_df.drop_duplicates(subset=['IXI_ID'], keep='first', inplace=True)"
      ],
      "execution_count": null,
      "outputs": []
    },
    {
      "cell_type": "code",
      "metadata": {
        "colab": {
          "base_uri": "https://localhost:8080/"
        },
        "id": "EeQMoUC1taiD",
        "outputId": "6e586aec-8dd1-44fe-aa04-109cdad10e5b"
      },
      "source": [
        "count = 0\n",
        "ixi_id = []\n",
        "scanner_name = []\n",
        "contrast_type = []\n",
        "file_path = []\n",
        "for root, dirs, files in os.walk(data_path_t1):\n",
        "  for file in files:\n",
        "    parameters_search = re.search('reg_IXI(\\d*)-(\\w*)-(\\d*)-(\\w*)_downsampled_hm_zscore(.*?)', file, re.IGNORECASE)\n",
        "    \n",
        "    if parameters_search:\n",
        "      ixi_id.append(int(parameters_search.group(1)))\n",
        "      scanner_name.append(parameters_search.group(2))\n",
        "      contrast_type.append(parameters_search.group(4))\n",
        "      file_path.append(os.path.join(data_path_t1, file))\n",
        "  \n",
        "    count = count+1\n",
        "  \n",
        "  print(\"processed T1 {} files\".format(count))\n",
        "\n",
        "for root, dirs, files in os.walk(data_path_t2):\n",
        "  for file in files:\n",
        "    parameters_search = re.search('T2-T1reg_IXI(\\d*)-(\\w*)-(\\d*)-(\\w*)_downsampled_hm_zscore(.*?)', file, re.IGNORECASE)\n",
        "    \n",
        "    if parameters_search:\n",
        "      ixi_id.append(int(parameters_search.group(1)))\n",
        "      scanner_name.append(parameters_search.group(2))\n",
        "      #contrast_type.append(parameters_search.group(4))\n",
        "      contrast_type.append(\"T2\")\n",
        "      file_path.append(os.path.join(data_path_t2, file))\n",
        "  \n",
        "    count = count+1\n",
        "  \n",
        "  print(\"processed T2 {} files\".format(count))"
      ],
      "execution_count": null,
      "outputs": [
        {
          "output_type": "stream",
          "text": [
            "processed T1 49 files\n",
            "processed T2 98 files\n"
          ],
          "name": "stdout"
        }
      ]
    },
    {
      "cell_type": "code",
      "metadata": {
        "colab": {
          "base_uri": "https://localhost:8080/",
          "height": 201
        },
        "id": "xa6BBT8itam6",
        "outputId": "3491912c-86f5-4375-c5aa-f0e60f1028e1"
      },
      "source": [
        "our_df = pd.DataFrame(data={\"our_ixi_id\": ixi_id, \"scanner_name\": scanner_name, \"contrast_type\": contrast_type, \"file_path\": file_path} )\n",
        "our_df.head()"
      ],
      "execution_count": null,
      "outputs": [
        {
          "output_type": "execute_result",
          "data": {
            "text/html": [
              "<div>\n",
              "<style scoped>\n",
              "    .dataframe tbody tr th:only-of-type {\n",
              "        vertical-align: middle;\n",
              "    }\n",
              "\n",
              "    .dataframe tbody tr th {\n",
              "        vertical-align: top;\n",
              "    }\n",
              "\n",
              "    .dataframe thead th {\n",
              "        text-align: right;\n",
              "    }\n",
              "</style>\n",
              "<table border=\"1\" class=\"dataframe\">\n",
              "  <thead>\n",
              "    <tr style=\"text-align: right;\">\n",
              "      <th></th>\n",
              "      <th>our_ixi_id</th>\n",
              "      <th>scanner_name</th>\n",
              "      <th>contrast_type</th>\n",
              "      <th>file_path</th>\n",
              "    </tr>\n",
              "  </thead>\n",
              "  <tbody>\n",
              "    <tr>\n",
              "      <th>0</th>\n",
              "      <td>452</td>\n",
              "      <td>HH</td>\n",
              "      <td>T1</td>\n",
              "      <td>/content/drive/My Drive/Image_Registration_Pro...</td>\n",
              "    </tr>\n",
              "    <tr>\n",
              "      <th>1</th>\n",
              "      <td>534</td>\n",
              "      <td>Guys</td>\n",
              "      <td>T1</td>\n",
              "      <td>/content/drive/My Drive/Image_Registration_Pro...</td>\n",
              "    </tr>\n",
              "    <tr>\n",
              "      <th>2</th>\n",
              "      <td>527</td>\n",
              "      <td>HH</td>\n",
              "      <td>T1</td>\n",
              "      <td>/content/drive/My Drive/Image_Registration_Pro...</td>\n",
              "    </tr>\n",
              "    <tr>\n",
              "      <th>3</th>\n",
              "      <td>571</td>\n",
              "      <td>IOP</td>\n",
              "      <td>T1</td>\n",
              "      <td>/content/drive/My Drive/Image_Registration_Pro...</td>\n",
              "    </tr>\n",
              "    <tr>\n",
              "      <th>4</th>\n",
              "      <td>633</td>\n",
              "      <td>HH</td>\n",
              "      <td>T1</td>\n",
              "      <td>/content/drive/My Drive/Image_Registration_Pro...</td>\n",
              "    </tr>\n",
              "  </tbody>\n",
              "</table>\n",
              "</div>"
            ],
            "text/plain": [
              "   our_ixi_id  ...                                          file_path\n",
              "0         452  ...  /content/drive/My Drive/Image_Registration_Pro...\n",
              "1         534  ...  /content/drive/My Drive/Image_Registration_Pro...\n",
              "2         527  ...  /content/drive/My Drive/Image_Registration_Pro...\n",
              "3         571  ...  /content/drive/My Drive/Image_Registration_Pro...\n",
              "4         633  ...  /content/drive/My Drive/Image_Registration_Pro...\n",
              "\n",
              "[5 rows x 4 columns]"
            ]
          },
          "metadata": {
            "tags": []
          },
          "execution_count": 11
        }
      ]
    },
    {
      "cell_type": "code",
      "metadata": {
        "id": "kxjf7l2Otasr"
      },
      "source": [
        "filtered_df = pd.merge(left = ixi_df, right=our_df, left_on=\"IXI_ID\", right_on=\"our_ixi_id\", how=\"inner\")"
      ],
      "execution_count": null,
      "outputs": []
    },
    {
      "cell_type": "code",
      "metadata": {
        "id": "edoV_-NwtwUq"
      },
      "source": [
        "filtered_df.columns = ['IXI_ID', 'SEX_ID', 'HEIGHT', 'WEIGHT', 'ETHNIC_ID',\n",
        "       'MARITAL_ID', 'OCCUPATION_ID', 'QUALIFICATION_ID', 'DOB',\n",
        "       'DATE_AVAILABLE', 'STUDY_DATE', 'AGE', 'our_ixi_id', 'scanner_name',\n",
        "       'contrast_type', 'file_path']"
      ],
      "execution_count": null,
      "outputs": []
    },
    {
      "cell_type": "code",
      "metadata": {
        "id": "ZyEJeu4Ltwaq"
      },
      "source": [
        "bins = [0, 10, 20, 30, 40, 50, 60, 70, 80, 90, 100]\n",
        "labels = [\"0-10\", \"10-20\", \"20-30\", \"30-40\", \"40-50\", \"50-60\", \"60-70\", \"70-80\", \"80-90\", \"90-100\"]\n",
        "filtered_df['age_disc'] = pd.cut(filtered_df['AGE'], bins=bins, labels=labels)"
      ],
      "execution_count": null,
      "outputs": []
    },
    {
      "cell_type": "code",
      "metadata": {
        "id": "fD6KlJuUtwc2"
      },
      "source": [
        ""
      ],
      "execution_count": null,
      "outputs": []
    },
    {
      "cell_type": "markdown",
      "metadata": {
        "id": "L4bZF0Epspb8"
      },
      "source": [
        "# Dataset Analyses"
      ]
    },
    {
      "cell_type": "code",
      "metadata": {
        "colab": {
          "base_uri": "https://localhost:8080/",
          "height": 457
        },
        "id": "TIAXrqXxdMeu",
        "outputId": "395d88d0-335b-4d1a-e074-ce18496da5be"
      },
      "source": [
        "plt.figure(figsize=(15, 7))\n",
        "sns.histplot(data=filtered_df,x=\"AGE\", hue=\"contrast_type\", multiple=\"stack\", binwidth=10, binrange=(0,100))"
      ],
      "execution_count": null,
      "outputs": [
        {
          "output_type": "execute_result",
          "data": {
            "text/plain": [
              "<matplotlib.axes._subplots.AxesSubplot at 0x7f4ae7190910>"
            ]
          },
          "metadata": {
            "tags": []
          },
          "execution_count": 15
        },
        {
          "output_type": "display_data",
          "data": {
            "image/png": "[encoded data removed]",
            "text/plain": [
              "<Figure size 1080x504 with 1 Axes>"
            ]
          },
          "metadata": {
            "tags": [],
            "needs_background": "light"
          }
        }
      ]
    },
    {
      "cell_type": "code",
      "metadata": {
        "colab": {
          "base_uri": "https://localhost:8080/",
          "height": 457
        },
        "id": "gvCZu7Y5t5t9",
        "outputId": "169b4c38-425c-492d-a155-cb631a3641c5"
      },
      "source": [
        "plt.figure(figsize=(15, 7))\n",
        "sns.histplot(data=filtered_df,x=\"AGE\", hue=\"SEX_ID\", multiple=\"stack\", binwidth=10, binrange=(0,100))"
      ],
      "execution_count": null,
      "outputs": [
        {
          "output_type": "execute_result",
          "data": {
            "text/plain": [
              "<matplotlib.axes._subplots.AxesSubplot at 0x7f4ae7190e90>"
            ]
          },
          "metadata": {
            "tags": []
          },
          "execution_count": 16
        },
        {
          "output_type": "display_data",
          "data": {
            "image/png": "[encoded data removed]",
            "text/plain": [
              "<Figure size 1080x504 with 1 Axes>"
            ]
          },
          "metadata": {
            "tags": [],
            "needs_background": "light"
          }
        }
      ]
    },
    {
      "cell_type": "code",
      "metadata": {
        "colab": {
          "base_uri": "https://localhost:8080/",
          "height": 457
        },
        "id": "XASpiWwJ6ggW",
        "outputId": "2af41afb-3081-4ad1-895f-3d04b0a5ee83"
      },
      "source": [
        "plt.figure(figsize=(15, 7))\n",
        "sns.histplot(data=filtered_df,x=\"AGE\", hue=\"scanner_name\", multiple=\"stack\", binwidth=10, binrange=(0,100))"
      ],
      "execution_count": null,
      "outputs": [
        {
          "output_type": "execute_result",
          "data": {
            "text/plain": [
              "<matplotlib.axes._subplots.AxesSubplot at 0x7f4ae5e05490>"
            ]
          },
          "metadata": {
            "tags": []
          },
          "execution_count": 17
        },
        {
          "output_type": "display_data",
          "data": {
            "image/png": "[encoded data removed]",
            "text/plain": [
              "<Figure size 1080x504 with 1 Axes>"
            ]
          },
          "metadata": {
            "tags": [],
            "needs_background": "light"
          }
        }
      ]
    },
    {
      "cell_type": "markdown",
      "metadata": {
        "id": "ZGyIkH8Ospzy"
      },
      "source": [
        "# Dataset Creation"
      ]
    },
    {
      "cell_type": "code",
      "metadata": {
        "id": "q_5FTADjuBt4"
      },
      "source": [
        "def place_into_buckets(age_disc, scanner_name, contrast_type, SEX_ID):\n",
        "    \"\"\" \n",
        "    flag 0,1,2 = learn, unlearn, validation\n",
        "    - From IOP if its between 50-70 put it in unlearn bucket\n",
        "    - From IOP if its not between 50-70 put it learn and validation bucket with probs of 0.75 and 0.25\n",
        "    - From others put it in learn with 0.4, in unlearn with 0.3, in validation with 0.3 prob\n",
        "    \"\"\"\n",
        "    \"\"\"\n",
        "    - After addition of T2 images we removed the above conditionals,\n",
        "    - We will remove IOP from dataset as its distribution is completely different than other two.\n",
        "    - Use flag = 3 as no train/test/validation bucket to place IOP data.\n",
        "    - Later another test IOP will be added and above conditionals will be used\n",
        "    \"\"\"\n",
        "\n",
        "    if ((scanner_name == \"IOP\")):\n",
        "      flag = np.random.choice(a=[0, 1, 2], p=[0.8, 0.0, 0.2] )\n",
        "    if ((scanner_name == \"Guys\")):\n",
        "      flag = np.random.choice(a=[0, 1, 2], p=[0.7, 0.0, 0.3] )\n",
        "      #flag = -1\n",
        "    else:\n",
        "      flag = np.random.choice(a=[0, 1, 2], p=[0.6, 0.0, 0.4] )\n",
        "\n",
        "    # flag = np.random.choice(a=[0, 1, 2], p=[0.75, 0.00, 0.25] )\n",
        "\n",
        "    if (flag == 0):\n",
        "      return \"train_learn\"\n",
        "    elif (flag == 1):\n",
        "      return \"train_unlearn\"\n",
        "    elif (flag == 2):\n",
        "        return \"validation\"\n",
        "    else:\n",
        "      return \"nouse\"\n",
        "\n",
        "    # if ((scanner_name == \"IOP\") and (age_disc in [\"50-60\", \"60-70\"]) ):\n",
        "    #   flag = 1\n",
        "    # elif ((scanner_name == \"IOP\") and (age_disc not in [\"50-60\", \"60-70\"]) ):\n",
        "    #   flag = np.random.choice(a=[0, 2], p= [0.75, 0.25])\n",
        "    # else:\n",
        "    #   flag = np.random.choice(a=[0, 1, 2], p=[0.5, 0.3, 0.2] )\n",
        "\n",
        "    # if (flag == 0):\n",
        "    #   return \"train_learn\"\n",
        "    # elif (flag == 1):\n",
        "    #   return \"train_unlearn\"\n",
        "    # else:\n",
        "    #     return \"validation\"\n",
        "        \n"
      ],
      "execution_count": null,
      "outputs": []
    },
    {
      "cell_type": "code",
      "metadata": {
        "id": "Ufefwsx8uBxX"
      },
      "source": [
        "def categorize_scanner( scanner_name):\n",
        "    \"\"\" \n",
        "    flag 0,1,2 = IOP, Guys, HH\n",
        "    \"\"\"\n",
        "    \n",
        "    if (scanner_name == \"HH\") :\n",
        "      flag = 0\n",
        "    elif (scanner_name == \"Guys\"):\n",
        "      flag = 1\n",
        "    else:\n",
        "      flag = 2\n",
        "\n",
        "    return flag"
      ],
      "execution_count": null,
      "outputs": []
    },
    {
      "cell_type": "code",
      "metadata": {
        "id": "EBAHGDGguB1F"
      },
      "source": [
        "def categorize_contrast(contrast_type):\n",
        "    \"\"\" \n",
        "    flag 0,1 = T1, T2\n",
        "    \n",
        "    \"\"\"\n",
        "    \n",
        "    if (contrast_type == \"T1\") :\n",
        "      flag = 0\n",
        "    elif (contrast_type == \"T2\"):\n",
        "      flag = 1\n",
        "    else:\n",
        "      flag = -1\n",
        "\n",
        "    return flag"
      ],
      "execution_count": null,
      "outputs": []
    },
    {
      "cell_type": "code",
      "metadata": {
        "id": "lbqt7RCkuGhp"
      },
      "source": [
        "def categorize_sex( SEX_ID):\n",
        "    \"\"\" \n",
        "    flag 1,2 = F, M\n",
        "    \"\"\"\n",
        "    \n",
        "    if (SEX_ID == 1) :\n",
        "      flag = 0\n",
        "    elif (SEX_ID == 2):\n",
        "      flag = 1\n",
        "    else:\n",
        "      flag = -1\n",
        "\n",
        "    return flag"
      ],
      "execution_count": null,
      "outputs": []
    },
    {
      "cell_type": "code",
      "metadata": {
        "id": "bW2FP6XEuGkO"
      },
      "source": [
        "filtered_df['dataset_flag'] = filtered_df.apply(lambda x: place_into_buckets(x['age_disc'],x['scanner_name'], x['contrast_type'], x[\"SEX_ID\"]),axis=1)"
      ],
      "execution_count": null,
      "outputs": []
    },
    {
      "cell_type": "code",
      "metadata": {
        "id": "1ktE68jWuMAJ"
      },
      "source": [
        "filtered_df[\"scanner_flag\"] = filtered_df.apply(lambda x: categorize_scanner(x['scanner_name']),axis=1)"
      ],
      "execution_count": null,
      "outputs": []
    },
    {
      "cell_type": "code",
      "metadata": {
        "id": "qPmDn5rBuMFq"
      },
      "source": [
        "filtered_df[\"contrast_flag\"] = filtered_df.apply(lambda x: categorize_contrast(x['contrast_type']),axis=1)"
      ],
      "execution_count": null,
      "outputs": []
    },
    {
      "cell_type": "code",
      "metadata": {
        "id": "SoKTHxP5uMMJ"
      },
      "source": [
        "filtered_df[\"sex_flag\"] = filtered_df.apply(lambda x: categorize_sex(x['SEX_ID']),axis=1)"
      ],
      "execution_count": null,
      "outputs": []
    },
    {
      "cell_type": "code",
      "metadata": {
        "colab": {
          "base_uri": "https://localhost:8080/",
          "height": 291
        },
        "id": "T7ZP7X1luB4x",
        "outputId": "4716fd99-a987-4ab6-8b1a-ae563647ed7c"
      },
      "source": [
        "filtered_df.describe()"
      ],
      "execution_count": null,
      "outputs": [
        {
          "output_type": "execute_result",
          "data": {
            "text/html": [
              "<div>\n",
              "<style scoped>\n",
              "    .dataframe tbody tr th:only-of-type {\n",
              "        vertical-align: middle;\n",
              "    }\n",
              "\n",
              "    .dataframe tbody tr th {\n",
              "        vertical-align: top;\n",
              "    }\n",
              "\n",
              "    .dataframe thead th {\n",
              "        text-align: right;\n",
              "    }\n",
              "</style>\n",
              "<table border=\"1\" class=\"dataframe\">\n",
              "  <thead>\n",
              "    <tr style=\"text-align: right;\">\n",
              "      <th></th>\n",
              "      <th>IXI_ID</th>\n",
              "      <th>SEX_ID</th>\n",
              "      <th>HEIGHT</th>\n",
              "      <th>WEIGHT</th>\n",
              "      <th>ETHNIC_ID</th>\n",
              "      <th>MARITAL_ID</th>\n",
              "      <th>OCCUPATION_ID</th>\n",
              "      <th>QUALIFICATION_ID</th>\n",
              "      <th>DATE_AVAILABLE</th>\n",
              "      <th>AGE</th>\n",
              "      <th>our_ixi_id</th>\n",
              "      <th>scanner_flag</th>\n",
              "      <th>contrast_flag</th>\n",
              "      <th>sex_flag</th>\n",
              "    </tr>\n",
              "  </thead>\n",
              "  <tbody>\n",
              "    <tr>\n",
              "      <th>count</th>\n",
              "      <td>98.000000</td>\n",
              "      <td>98.000000</td>\n",
              "      <td>98.000000</td>\n",
              "      <td>98.000000</td>\n",
              "      <td>98.000000</td>\n",
              "      <td>98.000000</td>\n",
              "      <td>98.000000</td>\n",
              "      <td>98.000000</td>\n",
              "      <td>98.0</td>\n",
              "      <td>98.000000</td>\n",
              "      <td>98.000000</td>\n",
              "      <td>98.000000</td>\n",
              "      <td>98.000000</td>\n",
              "      <td>98.000000</td>\n",
              "    </tr>\n",
              "    <tr>\n",
              "      <th>mean</th>\n",
              "      <td>545.775510</td>\n",
              "      <td>1.469388</td>\n",
              "      <td>204.612245</td>\n",
              "      <td>70.367347</td>\n",
              "      <td>1.265306</td>\n",
              "      <td>2.346939</td>\n",
              "      <td>3.204082</td>\n",
              "      <td>3.714286</td>\n",
              "      <td>1.0</td>\n",
              "      <td>55.188702</td>\n",
              "      <td>545.775510</td>\n",
              "      <td>0.612245</td>\n",
              "      <td>0.500000</td>\n",
              "      <td>0.469388</td>\n",
              "    </tr>\n",
              "    <tr>\n",
              "      <th>std</th>\n",
              "      <td>66.209061</td>\n",
              "      <td>0.501628</td>\n",
              "      <td>238.908067</td>\n",
              "      <td>17.070737</td>\n",
              "      <td>0.856160</td>\n",
              "      <td>1.324644</td>\n",
              "      <td>2.110158</td>\n",
              "      <td>1.435916</td>\n",
              "      <td>0.0</td>\n",
              "      <td>15.986628</td>\n",
              "      <td>66.209061</td>\n",
              "      <td>0.698048</td>\n",
              "      <td>0.502571</td>\n",
              "      <td>0.501628</td>\n",
              "    </tr>\n",
              "    <tr>\n",
              "      <th>min</th>\n",
              "      <td>430.000000</td>\n",
              "      <td>1.000000</td>\n",
              "      <td>152.000000</td>\n",
              "      <td>0.000000</td>\n",
              "      <td>1.000000</td>\n",
              "      <td>1.000000</td>\n",
              "      <td>1.000000</td>\n",
              "      <td>1.000000</td>\n",
              "      <td>1.0</td>\n",
              "      <td>24.876112</td>\n",
              "      <td>430.000000</td>\n",
              "      <td>0.000000</td>\n",
              "      <td>0.000000</td>\n",
              "      <td>0.000000</td>\n",
              "    </tr>\n",
              "    <tr>\n",
              "      <th>25%</th>\n",
              "      <td>494.000000</td>\n",
              "      <td>1.000000</td>\n",
              "      <td>163.000000</td>\n",
              "      <td>60.000000</td>\n",
              "      <td>1.000000</td>\n",
              "      <td>1.000000</td>\n",
              "      <td>1.000000</td>\n",
              "      <td>2.000000</td>\n",
              "      <td>1.0</td>\n",
              "      <td>39.383984</td>\n",
              "      <td>494.000000</td>\n",
              "      <td>0.000000</td>\n",
              "      <td>0.000000</td>\n",
              "      <td>0.000000</td>\n",
              "    </tr>\n",
              "    <tr>\n",
              "      <th>50%</th>\n",
              "      <td>538.000000</td>\n",
              "      <td>1.000000</td>\n",
              "      <td>170.000000</td>\n",
              "      <td>70.000000</td>\n",
              "      <td>1.000000</td>\n",
              "      <td>2.000000</td>\n",
              "      <td>3.000000</td>\n",
              "      <td>4.000000</td>\n",
              "      <td>1.0</td>\n",
              "      <td>58.042437</td>\n",
              "      <td>538.000000</td>\n",
              "      <td>0.000000</td>\n",
              "      <td>0.500000</td>\n",
              "      <td>0.000000</td>\n",
              "    </tr>\n",
              "    <tr>\n",
              "      <th>75%</th>\n",
              "      <td>609.000000</td>\n",
              "      <td>2.000000</td>\n",
              "      <td>175.000000</td>\n",
              "      <td>76.000000</td>\n",
              "      <td>1.000000</td>\n",
              "      <td>3.000000</td>\n",
              "      <td>5.000000</td>\n",
              "      <td>5.000000</td>\n",
              "      <td>1.0</td>\n",
              "      <td>67.455168</td>\n",
              "      <td>609.000000</td>\n",
              "      <td>1.000000</td>\n",
              "      <td>1.000000</td>\n",
              "      <td>1.000000</td>\n",
              "    </tr>\n",
              "    <tr>\n",
              "      <th>max</th>\n",
              "      <td>652.000000</td>\n",
              "      <td>2.000000</td>\n",
              "      <td>1850.000000</td>\n",
              "      <td>110.000000</td>\n",
              "      <td>6.000000</td>\n",
              "      <td>5.000000</td>\n",
              "      <td>8.000000</td>\n",
              "      <td>5.000000</td>\n",
              "      <td>1.0</td>\n",
              "      <td>82.187543</td>\n",
              "      <td>652.000000</td>\n",
              "      <td>2.000000</td>\n",
              "      <td>1.000000</td>\n",
              "      <td>1.000000</td>\n",
              "    </tr>\n",
              "  </tbody>\n",
              "</table>\n",
              "</div>"
            ],
            "text/plain": [
              "           IXI_ID     SEX_ID  ...  contrast_flag   sex_flag\n",
              "count   98.000000  98.000000  ...      98.000000  98.000000\n",
              "mean   545.775510   1.469388  ...       0.500000   0.469388\n",
              "std     66.209061   0.501628  ...       0.502571   0.501628\n",
              "min    430.000000   1.000000  ...       0.000000   0.000000\n",
              "25%    494.000000   1.000000  ...       0.000000   0.000000\n",
              "50%    538.000000   1.000000  ...       0.500000   0.000000\n",
              "75%    609.000000   2.000000  ...       1.000000   1.000000\n",
              "max    652.000000   2.000000  ...       1.000000   1.000000\n",
              "\n",
              "[8 rows x 14 columns]"
            ]
          },
          "metadata": {
            "tags": []
          },
          "execution_count": 26
        }
      ]
    },
    {
      "cell_type": "code",
      "metadata": {
        "colab": {
          "base_uri": "https://localhost:8080/",
          "height": 458
        },
        "id": "V-BK1QsOuWXd",
        "outputId": "af5876e7-9586-43b9-cf69-ef276a9118a9"
      },
      "source": [
        "plt.figure(figsize=(15, 7))\n",
        "sns.countplot(x=\"dataset_flag\", data=filtered_df, hue=\"scanner_name\")"
      ],
      "execution_count": null,
      "outputs": [
        {
          "output_type": "execute_result",
          "data": {
            "text/plain": [
              "<matplotlib.axes._subplots.AxesSubplot at 0x7f4ae5766ed0>"
            ]
          },
          "metadata": {
            "tags": []
          },
          "execution_count": 27
        },
        {
          "output_type": "display_data",
          "data": {
            "image/png": "[encoded data removed]",
            "text/plain": [
              "<Figure size 1080x504 with 1 Axes>"
            ]
          },
          "metadata": {
            "tags": [],
            "needs_background": "light"
          }
        }
      ]
    },
    {
      "cell_type": "code",
      "metadata": {
        "id": "Am3-flQouWdr"
      },
      "source": [
        "train_learn_df = filtered_df[filtered_df[\"dataset_flag\"] == \"train_learn\"]\n",
        "train_learn_df.reset_index(inplace=True)\n",
        "train_unlearn_df = filtered_df[filtered_df[\"dataset_flag\"] == \"train_unlearn\"]\n",
        "validation_df = filtered_df[filtered_df[\"dataset_flag\"] == \"validation\"]\n",
        "validation_df.reset_index(inplace=True)"
      ],
      "execution_count": null,
      "outputs": []
    },
    {
      "cell_type": "code",
      "metadata": {
        "colab": {
          "base_uri": "https://localhost:8080/",
          "height": 303
        },
        "id": "ZDSkygvw-m-G",
        "outputId": "13a6c445-6441-43ac-c2aa-edeb16b00e7c"
      },
      "source": [
        "train_learn_df.head(5)"
      ],
      "execution_count": null,
      "outputs": [
        {
          "output_type": "execute_result",
          "data": {
            "text/html": [
              "<div>\n",
              "<style scoped>\n",
              "    .dataframe tbody tr th:only-of-type {\n",
              "        vertical-align: middle;\n",
              "    }\n",
              "\n",
              "    .dataframe tbody tr th {\n",
              "        vertical-align: top;\n",
              "    }\n",
              "\n",
              "    .dataframe thead th {\n",
              "        text-align: right;\n",
              "    }\n",
              "</style>\n",
              "<table border=\"1\" class=\"dataframe\">\n",
              "  <thead>\n",
              "    <tr style=\"text-align: right;\">\n",
              "      <th></th>\n",
              "      <th>index</th>\n",
              "      <th>IXI_ID</th>\n",
              "      <th>SEX_ID</th>\n",
              "      <th>HEIGHT</th>\n",
              "      <th>WEIGHT</th>\n",
              "      <th>ETHNIC_ID</th>\n",
              "      <th>MARITAL_ID</th>\n",
              "      <th>OCCUPATION_ID</th>\n",
              "      <th>QUALIFICATION_ID</th>\n",
              "      <th>DOB</th>\n",
              "      <th>DATE_AVAILABLE</th>\n",
              "      <th>STUDY_DATE</th>\n",
              "      <th>AGE</th>\n",
              "      <th>our_ixi_id</th>\n",
              "      <th>scanner_name</th>\n",
              "      <th>contrast_type</th>\n",
              "      <th>file_path</th>\n",
              "      <th>age_disc</th>\n",
              "      <th>dataset_flag</th>\n",
              "      <th>scanner_flag</th>\n",
              "      <th>contrast_flag</th>\n",
              "      <th>sex_flag</th>\n",
              "    </tr>\n",
              "  </thead>\n",
              "  <tbody>\n",
              "    <tr>\n",
              "      <th>0</th>\n",
              "      <td>0</td>\n",
              "      <td>430</td>\n",
              "      <td>2</td>\n",
              "      <td>166</td>\n",
              "      <td>70</td>\n",
              "      <td>1</td>\n",
              "      <td>4</td>\n",
              "      <td>5</td>\n",
              "      <td>5</td>\n",
              "      <td>1934-07-02</td>\n",
              "      <td>1</td>\n",
              "      <td>2006-07-04</td>\n",
              "      <td>72.005476</td>\n",
              "      <td>430</td>\n",
              "      <td>IOP</td>\n",
              "      <td>T1</td>\n",
              "      <td>/content/drive/My Drive/Image_Registration_Pro...</td>\n",
              "      <td>70-80</td>\n",
              "      <td>train_learn</td>\n",
              "      <td>2</td>\n",
              "      <td>0</td>\n",
              "      <td>1</td>\n",
              "    </tr>\n",
              "    <tr>\n",
              "      <th>1</th>\n",
              "      <td>1</td>\n",
              "      <td>430</td>\n",
              "      <td>2</td>\n",
              "      <td>166</td>\n",
              "      <td>70</td>\n",
              "      <td>1</td>\n",
              "      <td>4</td>\n",
              "      <td>5</td>\n",
              "      <td>5</td>\n",
              "      <td>1934-07-02</td>\n",
              "      <td>1</td>\n",
              "      <td>2006-07-04</td>\n",
              "      <td>72.005476</td>\n",
              "      <td>430</td>\n",
              "      <td>IOP</td>\n",
              "      <td>T2</td>\n",
              "      <td>/content/drive/My Drive/Image_Registration_Pro...</td>\n",
              "      <td>70-80</td>\n",
              "      <td>train_learn</td>\n",
              "      <td>2</td>\n",
              "      <td>1</td>\n",
              "      <td>1</td>\n",
              "    </tr>\n",
              "    <tr>\n",
              "      <th>2</th>\n",
              "      <td>4</td>\n",
              "      <td>439</td>\n",
              "      <td>2</td>\n",
              "      <td>158</td>\n",
              "      <td>67</td>\n",
              "      <td>1</td>\n",
              "      <td>2</td>\n",
              "      <td>1</td>\n",
              "      <td>2</td>\n",
              "      <td>1962-06-03</td>\n",
              "      <td>1</td>\n",
              "      <td>2006-05-04</td>\n",
              "      <td>43.917864</td>\n",
              "      <td>439</td>\n",
              "      <td>HH</td>\n",
              "      <td>T1</td>\n",
              "      <td>/content/drive/My Drive/Image_Registration_Pro...</td>\n",
              "      <td>40-50</td>\n",
              "      <td>train_learn</td>\n",
              "      <td>0</td>\n",
              "      <td>0</td>\n",
              "      <td>1</td>\n",
              "    </tr>\n",
              "    <tr>\n",
              "      <th>3</th>\n",
              "      <td>6</td>\n",
              "      <td>441</td>\n",
              "      <td>2</td>\n",
              "      <td>159</td>\n",
              "      <td>69</td>\n",
              "      <td>1</td>\n",
              "      <td>1</td>\n",
              "      <td>1</td>\n",
              "      <td>5</td>\n",
              "      <td>1958-04-18</td>\n",
              "      <td>1</td>\n",
              "      <td>2006-05-25</td>\n",
              "      <td>48.101300</td>\n",
              "      <td>441</td>\n",
              "      <td>HH</td>\n",
              "      <td>T1</td>\n",
              "      <td>/content/drive/My Drive/Image_Registration_Pro...</td>\n",
              "      <td>40-50</td>\n",
              "      <td>train_learn</td>\n",
              "      <td>0</td>\n",
              "      <td>0</td>\n",
              "      <td>1</td>\n",
              "    </tr>\n",
              "    <tr>\n",
              "      <th>4</th>\n",
              "      <td>8</td>\n",
              "      <td>451</td>\n",
              "      <td>2</td>\n",
              "      <td>160</td>\n",
              "      <td>60</td>\n",
              "      <td>1</td>\n",
              "      <td>1</td>\n",
              "      <td>1</td>\n",
              "      <td>5</td>\n",
              "      <td>1965-06-09</td>\n",
              "      <td>1</td>\n",
              "      <td>2006-07-27</td>\n",
              "      <td>41.130732</td>\n",
              "      <td>451</td>\n",
              "      <td>HH</td>\n",
              "      <td>T1</td>\n",
              "      <td>/content/drive/My Drive/Image_Registration_Pro...</td>\n",
              "      <td>40-50</td>\n",
              "      <td>train_learn</td>\n",
              "      <td>0</td>\n",
              "      <td>0</td>\n",
              "      <td>1</td>\n",
              "    </tr>\n",
              "  </tbody>\n",
              "</table>\n",
              "</div>"
            ],
            "text/plain": [
              "   index  IXI_ID  SEX_ID  ...  scanner_flag  contrast_flag  sex_flag\n",
              "0      0     430       2  ...             2              0         1\n",
              "1      1     430       2  ...             2              1         1\n",
              "2      4     439       2  ...             0              0         1\n",
              "3      6     441       2  ...             0              0         1\n",
              "4      8     451       2  ...             0              0         1\n",
              "\n",
              "[5 rows x 22 columns]"
            ]
          },
          "metadata": {
            "tags": []
          },
          "execution_count": 29
        }
      ]
    },
    {
      "cell_type": "code",
      "metadata": {
        "id": "DP7mLbfeuWk1"
      },
      "source": [
        "z_64_slices = []\n",
        "for i in range(0, 128, 2):\n",
        "  z_64_slices.append(i)"
      ],
      "execution_count": null,
      "outputs": []
    },
    {
      "cell_type": "code",
      "metadata": {
        "id": "bQSX9-QWujdj"
      },
      "source": [
        "z_32_slices = []\n",
        "for i in range(0, 128, 4):\n",
        "  z_32_slices.append(i)"
      ],
      "execution_count": null,
      "outputs": []
    },
    {
      "cell_type": "code",
      "metadata": {
        "id": "UBlFvT4IpKZG"
      },
      "source": [
        "fp2 = train_learn_df[\"file_path\"].iloc[195]\n",
        "fp2"
      ],
      "execution_count": null,
      "outputs": []
    },
    {
      "cell_type": "code",
      "metadata": {
        "colab": {
          "base_uri": "https://localhost:8080/"
        },
        "id": "DnvcyTKcpcdK",
        "outputId": "9d3df70f-2932-40cb-a168-539d8c1d79c1"
      },
      "source": [
        "len(train_learn_df.index.tolist())"
      ],
      "execution_count": null,
      "outputs": [
        {
          "output_type": "execute_result",
          "data": {
            "text/plain": [
              "131"
            ]
          },
          "metadata": {
            "tags": []
          },
          "execution_count": 26
        }
      ]
    },
    {
      "cell_type": "code",
      "metadata": {
        "id": "gnVMtMimujkP"
      },
      "source": [
        "def load_4D(name):\n",
        "        model_np = np.zeros(shape=(128, 128, 128))\n",
        "        resamplng_shape = (128, 128, 128)\n",
        "        X_nb = nb.load(name)\n",
        "        #print(X_nb)\n",
        "        X_np = X_nb.dataobj\n",
        "        #print(X_np)\n",
        "        x_dim, y_dim, z_dim = X_np.shape\n",
        "        #print(x_dim, y_dim, z_dim)\n",
        "        x_ltail = (resamplng_shape[0] - x_dim)//2 \n",
        "        y_ltail = (resamplng_shape[1] - y_dim)//2\n",
        "        z_ltail = (resamplng_shape[2] - z_dim)//2\n",
        "        #print(x_ltail,y_ltail,z_ltail)\n",
        "\n",
        "        x_rtail = resamplng_shape[0] - x_ltail - 1\n",
        "        y_rtail = resamplng_shape[1] - y_ltail - 1\n",
        "        z_rtail = resamplng_shape[2] - z_ltail - 1\n",
        "        #print(x_rtail,y_rtail,z_rtail)\n",
        "        model_np[x_ltail:x_rtail, y_ltail:y_rtail, z_ltail:z_rtail] = X_np[:, :, :]\n",
        "        #z_32_slices = [3, 7, 11, 15, 19, 23, 27, 31, 35, 39, 43, 47, 51, 55, 59, 63, 67, 71, 75, 79, 83, 87, 91, 95, 99, 103, 107, 111, 115, 119, 123, 127]\n",
        "        model_np = model_np[:, :, 64]\n",
        "        model_np = np.expand_dims(model_np, axis=0)\n",
        "        #print(model_np.shape)\n",
        "        #print(model_np)\n",
        "        return model_np\n",
        "\n",
        "def imgnorm(N_I,index1=0.0001,index2=0.0001):\n",
        "    I_sort = np.sort(N_I.flatten())\n",
        "    I_min = I_sort[int(index1*len(I_sort))]\n",
        "    I_max = I_sort[-int(index2*len(I_sort))]\n",
        "    N_I =1.0*(N_I-I_min)/(I_max-I_min)\n",
        "    N_I[N_I>1.0]=1.0\n",
        "    N_I[N_I<0.0]=0.0\n",
        "    N_I2 = N_I.astype(np.float32)\n",
        "    return N_I2\n",
        "\n",
        "def Norm_Zscore(img):\n",
        "    img= (img-np.mean(img))/np.std(img) \n",
        "    return img\n",
        "\n",
        "def save_img(I_img,savename):\n",
        "    I2 = sitk.GetImageFromArray(I_img,isVector=False)\n",
        "    sitk.WriteImage(I2,savename)"
      ],
      "execution_count": null,
      "outputs": []
    },
    {
      "cell_type": "code",
      "metadata": {
        "id": "0qgpnP2iujme"
      },
      "source": [
        "class Dataset(Data.Dataset):\n",
        "  'Characterizes a dataset for PyTorch'\n",
        "  def __init__(self, df = filtered_df, iterations =1, norm=True):\n",
        "        self.df = df\n",
        "        self.norm = norm\n",
        "        self.iterations = iterations\n",
        "        self.s0 = self.df[self.df[\"scanner_flag\"] == 0].index.tolist()\n",
        "        self.s1 = self.df[self.df[\"scanner_flag\"] == 1].index.tolist()\n",
        "        self.s2 = self.df[self.df[\"scanner_flag\"] == 2].index.tolist()\n",
        "        \n",
        "  def __len__(self):\n",
        "        'Denotes the total number of samples'\n",
        "        # return self.df.shape[0] * self.iterations\n",
        "        return 50\n",
        "\n",
        "  def __getitem__(self, step):\n",
        "        'Generates one sample of data'\n",
        "        # index_pair = np.random.permutation(len(self.names)) [0:4]\n",
        "        \"\"\"\n",
        "        fp = filtered_df[\"file_path\"].iloc[step]\n",
        "        sn = filtered_df[\"scanner_name\"].iloc[step]\n",
        "        dafl = filtered_df[\"dataset_flag\"].iloc[step]\n",
        "        agdi = filtered_df[\"age_disc\"].iloc[step]\n",
        "        \"\"\"\n",
        "\n",
        "        img1_contrast_flag = np.random.randint(3, size=1).item()\n",
        "        img2_contrast_flag = (img1_contrast_flag+1)%3\n",
        "\n",
        "        if (img1_contrast_flag == 0):\n",
        "          i1_idx = np.random.choice(self.s0, 1).item()\n",
        "          i2_idx = np.random.choice(self.s1, 1).item()\n",
        "        elif (img1_contrast_flag == 1):\n",
        "          i1_idx = np.random.choice(self.s1, 1).item()\n",
        "          i2_idx = np.random.choice(self.s2, 1).item()\n",
        "        else:\n",
        "          i1_idx = np.random.choice(self.s2, 1).item()\n",
        "          i2_idx = np.random.choice(self.s0, 1).item()\n",
        "\n",
        "        # print(img1_contrast_flag, i1_idx, img2_contrast_flag, i2_idx)\n",
        "        fp1 = self.df[\"file_path\"].iloc[i1_idx]\n",
        "        fp2 = self.df[\"file_path\"].iloc[i2_idx]\n",
        "\n",
        "        img1 = imgnorm(load_4D(fp1))  \n",
        "        img2 = imgnorm(load_4D(fp2))   \n",
        "        \n",
        "        return img1, img2"
      ],
      "execution_count": null,
      "outputs": []
    },
    {
      "cell_type": "code",
      "metadata": {
        "id": "6Sd0FfBIeWIT"
      },
      "source": [
        "class IntermodalDataset(Data.Dataset):\n",
        "  'Characterizes a dataset for PyTorch'\n",
        "  def __init__(self, t1_filenames, t2_filenames, iterations=1,norm=True):\n",
        "        'Initialization'\n",
        "        self.t1_filenames = t1_filenames\n",
        "        self.t2_filenames = t2_filenames\n",
        "        self.norm = norm\n",
        "        self.iterations = iterations\n",
        "  def __len__(self):\n",
        "        'Denotes the total number of samples'\n",
        "        return len(self.t1_filenames) * self.iterations\n",
        "\n",
        "  def __getitem__(self, idx):\n",
        "        'Generates one sample of data'\n",
        "        A_idx = randint(0, len(self.t1_filenames)-1)\n",
        "        B_idx = A_idx\n",
        "        # B_idx = randint(0, len(self.t2_filenames)-1)\n",
        "        # if (A_idx == B_idx):\n",
        "        #   B_idx = (B_idx + 1) % (len(self.t1_filenames)-1)\n",
        "\n",
        "        #img_A = load_4D(self.t1_filenames[idx])\n",
        "        #img_B = load_4D(self.t1_filenames[(idx + 4) % len(self.t1_filenames)])\n",
        "\n",
        "        img_A = load_4D(self.t1_filenames[A_idx])\n",
        "        img_B = load_4D(self.t2_filenames[B_idx])\n",
        "\n",
        "        #print(A_idx, B_idx)\n",
        "                       \n",
        "        if self.norm:\n",
        "            #return  Norm_Zscore(imgnorm(img_A)) , Norm_Zscore(imgnorm(img_B))\n",
        "            full_img_A = imgnorm(img_A) \n",
        "            full_img_B = imgnorm(img_B)\n",
        "            return  full_img_A , full_img_B\n",
        "        else:\n",
        "            return img_A, img_B"
      ],
      "execution_count": null,
      "outputs": []
    },
    {
      "cell_type": "code",
      "metadata": {
        "id": "ANthQKQdu3tl"
      },
      "source": [
        "#training_generator = Data.DataLoader(Dataset(train_learn_df, 1, True), batch_size=7,shuffle=True)\n",
        "\n",
        "training_generator = Data.DataLoader(IntermodalDataset(file_names_t1, file_names_t2, 1, True), batch_size=7,shuffle=True)"
      ],
      "execution_count": null,
      "outputs": []
    },
    {
      "cell_type": "code",
      "metadata": {
        "colab": {
          "base_uri": "https://localhost:8080/"
        },
        "id": "BP89_j87ujzS",
        "outputId": "720a9f3e-be04-408d-9695-442c151a4c2a"
      },
      "source": [
        "for  X, Y in training_generator:\n",
        "  print(torch.max(X))\n",
        "  print(X.shape)\n",
        "  del X, Y\n",
        "  break"
      ],
      "execution_count": null,
      "outputs": [
        {
          "output_type": "stream",
          "text": [
            "tensor(1.)\n",
            "torch.Size([7, 1, 128, 128])\n"
          ],
          "name": "stdout"
        }
      ]
    },
    {
      "cell_type": "code",
      "metadata": {
        "colab": {
          "base_uri": "https://localhost:8080/"
        },
        "id": "JySMvrN9BfL3",
        "outputId": "b0f14e1f-ec9f-4241-9e4c-5a6895c05713"
      },
      "source": [
        "np.random.randint(3, size=1).item()"
      ],
      "execution_count": null,
      "outputs": [
        {
          "output_type": "execute_result",
          "data": {
            "text/plain": [
              "2"
            ]
          },
          "metadata": {
            "tags": []
          },
          "execution_count": 71
        }
      ]
    },
    {
      "cell_type": "code",
      "metadata": {
        "colab": {
          "base_uri": "https://localhost:8080/"
        },
        "id": "RJlnhQ01LIn7",
        "outputId": "987f02e7-9816-4fa3-c58f-c5de53920981"
      },
      "source": [
        "np.random.permutation(2)[0:4]"
      ],
      "execution_count": null,
      "outputs": [
        {
          "output_type": "execute_result",
          "data": {
            "text/plain": [
              "array([0, 1])"
            ]
          },
          "metadata": {
            "tags": []
          },
          "execution_count": 84
        }
      ]
    },
    {
      "cell_type": "markdown",
      "metadata": {
        "id": "1baHnaH5sqKS"
      },
      "source": [
        "# Model Creation"
      ]
    },
    {
      "cell_type": "code",
      "metadata": {
        "id": "d02sjhZN4mmQ"
      },
      "source": [
        "class UnetEncoder(nn.Module):\n",
        "  def __init__(self,in_channel, start_channel):\n",
        "        self.in_channel = in_channel\n",
        "        self.start_channel = start_channel\n",
        "        super(UnetEncoder, self).__init__()\n",
        "        self.en0_b0 = self.encoder(self.in_channel, self.start_channel * 1, bias=True)\n",
        "        self.en1_b0 = self.encoder(self.start_channel * 1, self.start_channel * 1, bias=True)\n",
        "        self.en2_b0 = self.encoder(self.start_channel * 1, self.start_channel * 2, stride=2, padding=61, bias=True, )\n",
        "\n",
        "        self.en0_b1 = self.encoder(self.start_channel * 2, self.start_channel * 2, bias=True)\n",
        "        self.en1_b1 = self.encoder(self.start_channel * 2, self.start_channel * 2, bias=True)\n",
        "        self.en2_b1 = self.encoder(self.start_channel * 2, self.start_channel * 4, stride=2, padding=63, bias=True)\n",
        "\n",
        "        self.en0_b2 = self.encoder(self.start_channel * 4, self.start_channel * 4, bias=True)\n",
        "        self.en1_b2 = self.encoder(self.start_channel * 4, self.start_channel * 4, bias=True)\n",
        "        self.en2_b2 = self.encoder(self.start_channel * 4, self.start_channel * 8, stride=2, padding=63, bias=True)\n",
        "\n",
        "  def encoder(self, in_channels, out_channels, kernel_size=3, stride=1, padding=1, bias=True):\n",
        "    layer = nn.Sequential(\n",
        "                nn.Conv2d(in_channels, out_channels, kernel_size, stride=stride, padding=padding, bias=bias ),\n",
        "                nn.BatchNorm2d(out_channels),\n",
        "                nn.ReLU())\n",
        "    return layer\n",
        "\n",
        "  def forward(self, x):  \n",
        "        enc_op_b0 = self.en0_b0(x)\n",
        "        enc_op_b0 = self.en1_b0(enc_op_b0)\n",
        "        enc_op_b0 = self.en2_b0(enc_op_b0)\n",
        "\n",
        "        enc_op_b1 = self.en0_b1(enc_op_b0)\n",
        "        enc_op_b1 = self.en1_b1(enc_op_b1)\n",
        "        enc_op_b1 = self.en2_b1(enc_op_b1)\n",
        "\n",
        "        enc_op_b2 = self.en0_b2(enc_op_b1)\n",
        "        enc_op_b2 = self.en1_b2(enc_op_b2)\n",
        "        enc_op_b2 = self.en2_b2(enc_op_b2)\n",
        "\n",
        "        return enc_op_b0, enc_op_b1, enc_op_b2"
      ],
      "execution_count": null,
      "outputs": []
    },
    {
      "cell_type": "code",
      "metadata": {
        "id": "S6vH3vwNztYH"
      },
      "source": [
        "class DoubleConv(nn.Module):\n",
        "    \"\"\"(convolution => [BN] => ReLU) * 2\"\"\"\n",
        "\n",
        "    def __init__(self, in_channels, out_channels, mid_channels=None):\n",
        "        super().__init__()\n",
        "        if not mid_channels:\n",
        "            mid_channels = out_channels\n",
        "        self.double_conv = nn.Sequential(\n",
        "            nn.Conv2d(in_channels, mid_channels, kernel_size=3, padding=1),\n",
        "            nn.BatchNorm2d(mid_channels),\n",
        "            nn.ReLU(inplace=True),\n",
        "            nn.Conv2d(mid_channels, out_channels, kernel_size=3, padding=1),\n",
        "            nn.BatchNorm2d(out_channels),\n",
        "            nn.ReLU(inplace=True)\n",
        "        )\n",
        "\n",
        "    def forward(self, x):\n",
        "        return self.double_conv(x)\n",
        "\n",
        "\n",
        "class Down(nn.Module):\n",
        "    \"\"\"Downscaling with maxpool then double conv\"\"\"\n",
        "\n",
        "    def __init__(self, in_channels, out_channels):\n",
        "        super().__init__()\n",
        "        self.maxpool_conv = nn.Sequential(\n",
        "            nn.MaxPool2d(2),\n",
        "            DoubleConv(in_channels, out_channels)\n",
        "        )\n",
        "\n",
        "    def forward(self, x):\n",
        "        return self.maxpool_conv(x)\n",
        "\n",
        "\n",
        "class Up(nn.Module):\n",
        "    \"\"\"Upscaling then double conv\"\"\"\n",
        "\n",
        "    def __init__(self, in_channels, out_channels, bilinear=True):\n",
        "        super().__init__()\n",
        "\n",
        "        # if bilinear, use the normal convolutions to reduce the number of channels\n",
        "        if bilinear:\n",
        "            self.up = nn.Upsample(scale_factor=2, mode='bilinear', align_corners=True)\n",
        "            self.conv = DoubleConv(in_channels, out_channels, in_channels // 2)\n",
        "        else:\n",
        "            self.up = nn.ConvTranspose2d(in_channels , in_channels // 2, kernel_size=2, stride=2)\n",
        "            self.conv = DoubleConv(in_channels, out_channels)\n",
        "\n",
        "\n",
        "    def forward(self, x1, x2):\n",
        "        x1 = self.up(x1)\n",
        "        # input is CHW\n",
        "        diffY = x2.size()[2] - x1.size()[2]\n",
        "        diffX = x2.size()[3] - x1.size()[3]\n",
        "\n",
        "        x1 = F.pad(x1, [diffX // 2, diffX - diffX // 2,\n",
        "                        diffY // 2, diffY - diffY // 2])\n",
        "        # if you have padding issues, see\n",
        "        # https://github.com/HaiyongJiang/U-Net-Pytorch-Unstructured-Buggy/commit/0e854509c2cea854e247a9c615f175f76fbb2e3a\n",
        "        # https://github.com/xiaopeng-liao/Pytorch-UNet/commit/8ebac70e633bac59fc22bb5195e513d5832fb3bd\n",
        "        x = torch.cat([x2, x1], dim=1)\n",
        "        return self.conv(x)\n",
        "\n",
        "\n",
        "class OutConv(nn.Module):\n",
        "    def __init__(self, in_channels, out_channels):\n",
        "        super(OutConv, self).__init__()\n",
        "        self.conv = nn.Conv2d(in_channels, out_channels, kernel_size=1)\n",
        "\n",
        "    def forward(self, x):\n",
        "        return self.conv(x)"
      ],
      "execution_count": null,
      "outputs": []
    },
    {
      "cell_type": "code",
      "metadata": {
        "id": "vnEuL6MBzhPG"
      },
      "source": [
        "class UNet(nn.Module):\n",
        "    def __init__(self, n_channels, n_classes, bilinear=True):\n",
        "        super(UNet, self).__init__()\n",
        "        self.n_channels = n_channels\n",
        "        self.n_classes = n_classes\n",
        "        self.bilinear = bilinear\n",
        "\n",
        "        self.inc = DoubleConv(n_channels, 64)\n",
        "        self.down1 = Down(64, 128)\n",
        "        self.down2 = Down(128, 256)\n",
        "        self.down3 = Down(256, 512)\n",
        "        factor = 2 if bilinear else 1\n",
        "        self.down4 = Down(512, 1024 // factor)\n",
        "        self.up1 = Up(1024, 512 // factor, bilinear)\n",
        "        self.up2 = Up(512, 256 // factor, bilinear)\n",
        "        self.up3 = Up(256, 128 // factor, bilinear)\n",
        "        self.up4 = Up(128, 64, bilinear)\n",
        "        self.outc = OutConv(64, n_classes)\n",
        "\n",
        "    def forward(self, x):\n",
        "        x1 = self.inc(x)\n",
        "        x2 = self.down1(x1)\n",
        "        x3 = self.down2(x2)\n",
        "        x4 = self.down3(x3)\n",
        "        x5 = self.down4(x4)\n",
        "        x = self.up1(x5, x4)\n",
        "        x = self.up2(x, x3)\n",
        "        x = self.up3(x, x2)\n",
        "        x = self.up4(x, x1)\n",
        "        logits = self.outc(x)\n",
        "        return logits"
      ],
      "execution_count": null,
      "outputs": []
    },
    {
      "cell_type": "code",
      "metadata": {
        "id": "zgMf5sHRURsE"
      },
      "source": [
        "class BetaHead(nn.Module):\n",
        "  def __init__(self,in_channel, Cb=5, Ct=2):\n",
        "        self.in_channel = in_channel\n",
        "        self.Cb = Cb\n",
        "        self.Ct = Ct\n",
        "\n",
        "        super(BetaHead, self).__init__()\n",
        "        self.probmaps = self.probability_map(self.in_channel, self.Cb * 1)\n",
        "\n",
        "  def probability_map(self, in_channel, Cb, ks=3, st=1, pd=1, bi=True):\n",
        "    layer = nn.Sequential(\n",
        "                nn.Conv2d(in_channels=in_channel, out_channels = Cb, kernel_size=ks, stride=st, padding=pd, bias=bi),                \n",
        "                nn.Sigmoid())\n",
        "    return layer\n",
        "  \n",
        "  def onehotencode(self):\n",
        "    layer = nn.Sequential(nn.functional.gumbel_softmax(tau=1, hard=False, dim=1),)\n",
        "    return layer\n",
        "\n",
        "  def forward(self, x):  \n",
        "        pmap = self.probmaps(x)\n",
        "        ohe = nn.functional.gumbel_softmax(pmap, tau=1, hard=False, dim=1)\n",
        "        return pmap, ohe"
      ],
      "execution_count": null,
      "outputs": []
    },
    {
      "cell_type": "code",
      "metadata": {
        "id": "nspTEGNxB0JP"
      },
      "source": [
        "class ThetaHead(nn.Module):\n",
        "  def __init__(self,in_channel, Ct=2):\n",
        "        self.in_channel = in_channel\n",
        "        self.Ct = Ct\n",
        "\n",
        "        super(ThetaHead, self).__init__()\n",
        "        self.td = self.theta_head(self.in_channel)\n",
        "\n",
        "  def theta_head(self, in_channel):\n",
        "    layer = nn.Sequential(\n",
        "                nn.Conv2d(in_channels=in_channel, out_channels = 1, kernel_size=32, stride=2, padding=1, bias=True),\n",
        "                nn.Flatten(),\n",
        "                nn.Linear(2500, self.Ct))\n",
        "    return layer\n",
        "\n",
        "  def forward(self, x):  \n",
        "        theta_op = self.td(x)\n",
        "        return theta_op"
      ],
      "execution_count": null,
      "outputs": []
    },
    {
      "cell_type": "code",
      "metadata": {
        "id": "VhgINXgH4WG6"
      },
      "source": [
        "class ReconstructionHead(nn.Module):\n",
        "  def __init__(self,in_channel, Cb=5, Ct=2):\n",
        "        self.in_channel = in_channel\n",
        "        self.Cb = Cb\n",
        "        self.Ct = Ct\n",
        "        super(ReconstructionHead, self).__init__()\n",
        "        self.reconstruction_head = self.reconstruct()\n",
        "\n",
        "  def reconstruct(self):\n",
        "    layer = nn.Sequential(nn.Conv2d(in_channels=self.Cb+self.Ct,out_channels=1, stride=1, padding=1, kernel_size=3, bias=True ), )\n",
        "    return layer\n",
        "\n",
        "  def forward(self, input_recon): \n",
        "      batch_size = input_recon.shape[0] \n",
        "      #theta_reconstructed = theta.repeat(1, 128, 128).reshape(batch_size, self.Ct, 128, 128)\n",
        "      #x_in = torch.cat((beta, theta_reconstructed), 1)\n",
        "      rh = self.reconstruction_head(input_recon)\n",
        "      return rh"
      ],
      "execution_count": null,
      "outputs": []
    },
    {
      "cell_type": "code",
      "metadata": {
        "id": "mr-X7Y0uC3Qc"
      },
      "source": [
        "class RandomizationHead(nn.Module):\n",
        "  def __init__(self, Cb=5, Ct=1):\n",
        "        self.Cb = Cb\n",
        "        self.Ct = Ct\n",
        "        super(RandomizationHead, self).__init__()\n",
        "        self.feature_map_selection_lst_recon1 = self.randomize_betas()\n",
        "        self.feature_map_selection_lst_recon2 = self.randomize_betas()\n",
        "        self.feature_map_selection_lst_recon3 = self.randomize_betas()\n",
        "        self.feature_map_selection_lst_recon4 = self.randomize_betas()\n",
        "        print(\"beta_selection1: {}\".format(self.feature_map_selection_lst_recon1 ))\n",
        "        print(\"beta_selection2: {}\".format(self.feature_map_selection_lst_recon2 ))\n",
        "        print(\"beta_selection3: {}\".format(self.feature_map_selection_lst_recon3 ))\n",
        "        print(\"beta_selection4: {}\".format(self.feature_map_selection_lst_recon4 ))\n",
        "\n",
        "  def randomize_betas(self):\n",
        "        rnd_lst = np.random.choice(2, self.Cb, p=[0.5, 0.5]).tolist()\n",
        "\n",
        "        for i in range(len(rnd_lst)):\n",
        "          ln = len(rnd_lst) - 1\n",
        "          if (rnd_lst[i] == 0):\n",
        "            rnd_lst[i] = rnd_lst[i] + i\n",
        "          else:\n",
        "            rnd_lst[i] = rnd_lst[i] + ln + i  \n",
        "          \n",
        "        return rnd_lst\n",
        "\n",
        "  def forward(self, beta1, beta2, theta1, theta2): \n",
        "\n",
        "      self.feature_map_selection_lst_recon1 = self.randomize_betas()\n",
        "      self.feature_map_selection_lst_recon2 = self.randomize_betas()\n",
        "      self.feature_map_selection_lst_recon3 = self.randomize_betas()\n",
        "      self.feature_map_selection_lst_recon4 = self.randomize_betas()\n",
        "      \n",
        "      batch_size = beta1.shape[0] \n",
        "      theta1_reconstructed = theta1.repeat(1, 128, 128).reshape(batch_size, self.Ct, 128, 128)\n",
        "      theta2_reconstructed = theta1.repeat(1, 128, 128).reshape(batch_size, self.Ct, 128, 128)\n",
        "\n",
        "      beta = torch.cat((beta1, beta2), dim=1)\n",
        "\n",
        "      beta_recon1 = beta[:,self.feature_map_selection_lst_recon1, :, : ]\n",
        "      beta_recon2 = beta[:,self.feature_map_selection_lst_recon2, :, : ]\n",
        "      beta_recon3 = beta[:,self.feature_map_selection_lst_recon3, :, : ]\n",
        "      beta_recon4 = beta[:,self.feature_map_selection_lst_recon4, :, : ]\n",
        "\n",
        "      input_recon1 = torch.cat((beta_recon1, theta1_reconstructed), 1)\n",
        "      input_recon2 = torch.cat((beta_recon2, theta2_reconstructed), 1)\n",
        "      input_recon3 = torch.cat((beta_recon3, theta1_reconstructed), 1)\n",
        "      input_recon4 = torch.cat((beta_recon4, theta2_reconstructed), 1)\n",
        "\n",
        "      return input_recon1, input_recon2, input_recon3, input_recon4"
      ],
      "execution_count": null,
      "outputs": []
    },
    {
      "cell_type": "code",
      "metadata": {
        "id": "VHZi2Ln04mpX",
        "colab": {
          "base_uri": "https://localhost:8080/"
        },
        "outputId": "303bee52-e6b2-4ff9-80dc-08440dba8e69"
      },
      "source": [
        "input = torch.randn(size=(2, 1, 128, 128))\n",
        "input1 = torch.randn(size=(2, 3, 128, 128))\n",
        "input_t1 = torch.randn(size=(2, 1, 128, 128))\n",
        "input_t2 = torch.randn(size=(2, 1, 128, 128))\n",
        "encoder = UnetEncoder(1, 8)\n",
        "beta = BetaHead(16)\n",
        "theta = ThetaHead(16, 1)\n",
        "unet_model = UNet(1, 16)\n",
        "recon = ReconstructionHead(6, 5, 1)\n",
        "rndh = RandomizationHead()"
      ],
      "execution_count": null,
      "outputs": [
        {
          "output_type": "stream",
          "text": [
            "beta_selection1: [0, 6, 7, 3, 4]\n",
            "beta_selection2: [5, 1, 7, 3, 4]\n",
            "beta_selection3: [5, 1, 7, 8, 9]\n",
            "beta_selection4: [0, 1, 7, 3, 4]\n"
          ],
          "name": "stdout"
        }
      ]
    },
    {
      "cell_type": "code",
      "metadata": {
        "id": "9ut1UyBb4msa"
      },
      "source": [
        "u1 = unet_model(input_t1)\n",
        "p1, o1 = beta(u1)\n",
        "t1  = theta(u1)\n",
        "\n",
        "#r1 = recon(o1, t1)"
      ],
      "execution_count": null,
      "outputs": []
    },
    {
      "cell_type": "code",
      "metadata": {
        "id": "KZ0d8zhcAST_"
      },
      "source": [
        "u2 = unet_model(input_t2)\n",
        "p2, o2 = beta(u2)\n",
        "t2  = theta(u2)\n",
        "#r2 = recon(o2, t2)"
      ],
      "execution_count": null,
      "outputs": []
    },
    {
      "cell_type": "code",
      "metadata": {
        "id": "JronGzaQHcJY"
      },
      "source": [
        "input_recon1, input_recon2, input_recon3, input_recon4 = rndh(o1, o2, t1, t2)"
      ],
      "execution_count": null,
      "outputs": []
    },
    {
      "cell_type": "code",
      "metadata": {
        "id": "-Ja3ixLpH2Y-"
      },
      "source": [
        "r1 = recon(input_recon1)\n",
        "r2 = recon(input_recon2)\n",
        "r3 = recon(input_recon3)\n",
        "r4 = recon(input_recon4)"
      ],
      "execution_count": null,
      "outputs": []
    },
    {
      "cell_type": "markdown",
      "metadata": {
        "id": "K6IN6YUTIy5J"
      },
      "source": [
        "Model tested"
      ]
    },
    {
      "cell_type": "code",
      "metadata": {
        "id": "JRGTqNjZIx1j"
      },
      "source": [
        ""
      ],
      "execution_count": null,
      "outputs": []
    },
    {
      "cell_type": "code",
      "metadata": {
        "id": "0Jn-YysrIyA5"
      },
      "source": [
        ""
      ],
      "execution_count": null,
      "outputs": []
    },
    {
      "cell_type": "code",
      "metadata": {
        "id": "Zvvizal37S9k"
      },
      "source": [
        "x = torch.randn(size=(7,2))\n",
        "y = x.repeat(1, 128, 128).reshape(7, 2, 128, 128)"
      ],
      "execution_count": null,
      "outputs": []
    },
    {
      "cell_type": "code",
      "metadata": {
        "colab": {
          "base_uri": "https://localhost:8080/"
        },
        "id": "9INkwK-iIzRX",
        "outputId": "c18bf52c-d112-4117-a181-e49cd814e968"
      },
      "source": [
        "rnd_lst = np.random.choice(2, 5, p=[0.5, 0.5]).tolist()\n",
        "print(rnd_lst)\n",
        "for i in range(len(rnd_lst)):\n",
        "  ln = len(rnd_lst) - 1\n",
        "  if (rnd_lst[i] == 0):\n",
        "    rnd_lst[i] = rnd_lst[i] + i\n",
        "  else:\n",
        "    rnd_lst[i] = rnd_lst[i] + ln + i  \n",
        "  \n",
        "print(rnd_lst)"
      ],
      "execution_count": null,
      "outputs": [
        {
          "output_type": "stream",
          "text": [
            "[0, 1, 1, 0, 0]\n",
            "[0, 6, 7, 3, 4]\n"
          ],
          "name": "stdout"
        }
      ]
    },
    {
      "cell_type": "code",
      "metadata": {
        "colab": {
          "base_uri": "https://localhost:8080/"
        },
        "id": "TAh3pUIbAq_x",
        "outputId": "1e140c49-4c2f-4f44-cac5-91763d90e0f1"
      },
      "source": [
        "x.unsqueeze(1)"
      ],
      "execution_count": null,
      "outputs": [
        {
          "output_type": "execute_result",
          "data": {
            "text/plain": [
              "tensor([[4],\n",
              "        [1]])"
            ]
          },
          "metadata": {
            "tags": []
          },
          "execution_count": 41
        }
      ]
    },
    {
      "cell_type": "code",
      "metadata": {
        "colab": {
          "base_uri": "https://localhost:8080/"
        },
        "id": "z4qf36cE_1kx",
        "outputId": "2c263e26-abb2-4ccb-8a4e-9ad643942c78"
      },
      "source": [
        "t"
      ],
      "execution_count": null,
      "outputs": [
        {
          "output_type": "execute_result",
          "data": {
            "text/plain": [
              "tensor([[0.0101],\n",
              "        [0.2455]], grad_fn=<AddmmBackward>)"
            ]
          },
          "metadata": {
            "tags": []
          },
          "execution_count": 166
        }
      ]
    },
    {
      "cell_type": "code",
      "metadata": {
        "colab": {
          "base_uri": "https://localhost:8080/",
          "height": 283
        },
        "id": "wzK5Cm9F8uil",
        "outputId": "e2563329-2320-477f-88e9-f65c1c5a3212"
      },
      "source": [
        "plt.imshow(o[0, 0, :, :].detach().numpy())"
      ],
      "execution_count": null,
      "outputs": [
        {
          "output_type": "execute_result",
          "data": {
            "text/plain": [
              "<matplotlib.image.AxesImage at 0x7f7df52bc410>"
            ]
          },
          "metadata": {
            "tags": []
          },
          "execution_count": 139
        },
        {
          "output_type": "display_data",
          "data": {
            "image/png": "[encoded data removed]",
            "text/plain": [
              "<Figure size 432x288 with 1 Axes>"
            ]
          },
          "metadata": {
            "tags": [],
            "needs_background": "light"
          }
        }
      ]
    },
    {
      "cell_type": "code",
      "metadata": {
        "colab": {
          "base_uri": "https://localhost:8080/",
          "height": 283
        },
        "id": "hfJiAcbe8_Yh",
        "outputId": "045b7b90-e1bb-4625-b9d9-59c94ba7ebe7"
      },
      "source": [
        "plt.imshow(o[0, 1, :, :].detach().numpy())"
      ],
      "execution_count": null,
      "outputs": [
        {
          "output_type": "execute_result",
          "data": {
            "text/plain": [
              "<matplotlib.image.AxesImage at 0x7f7df2a3d290>"
            ]
          },
          "metadata": {
            "tags": []
          },
          "execution_count": 140
        },
        {
          "output_type": "display_data",
          "data": {
            "image/png": "[encoded data removed]",
            "text/plain": [
              "<Figure size 432x288 with 1 Axes>"
            ]
          },
          "metadata": {
            "tags": [],
            "needs_background": "light"
          }
        }
      ]
    },
    {
      "cell_type": "code",
      "metadata": {
        "colab": {
          "base_uri": "https://localhost:8080/",
          "height": 283
        },
        "id": "1Do1AmpX-W9p",
        "outputId": "580f2722-34b6-4993-9e13-7b4ee98a8f4f"
      },
      "source": [
        "plt.imshow(p[0, 4, :, :].detach().numpy())"
      ],
      "execution_count": null,
      "outputs": [
        {
          "output_type": "execute_result",
          "data": {
            "text/plain": [
              "<matplotlib.image.AxesImage at 0x7ff1f5bf7750>"
            ]
          },
          "metadata": {
            "tags": []
          },
          "execution_count": 57
        },
        {
          "output_type": "display_data",
          "data": {
            "image/png": "[encoded data removed]",
            "text/plain": [
              "<Figure size 432x288 with 1 Axes>"
            ]
          },
          "metadata": {
            "tags": [],
            "needs_background": "light"
          }
        }
      ]
    },
    {
      "cell_type": "code",
      "metadata": {
        "colab": {
          "base_uri": "https://localhost:8080/"
        },
        "id": "apEmm5XK9RpM",
        "outputId": "eba93cf0-cdec-4dee-9aa3-62988b5d76d1"
      },
      "source": [
        "p[0, 1, :, :]"
      ],
      "execution_count": null,
      "outputs": [
        {
          "output_type": "execute_result",
          "data": {
            "text/plain": [
              "tensor([[0.4579, 0.4844, 0.4844,  ..., 0.4844, 0.4844, 0.4771],\n",
              "        [0.4406, 0.4701, 0.4701,  ..., 0.4701, 0.4701, 0.4590],\n",
              "        [0.4406, 0.4701, 0.4701,  ..., 0.4701, 0.4701, 0.4590],\n",
              "        ...,\n",
              "        [0.4406, 0.4701, 0.4701,  ..., 0.4701, 0.4701, 0.4590],\n",
              "        [0.4406, 0.4701, 0.4701,  ..., 0.4701, 0.4701, 0.4590],\n",
              "        [0.4458, 0.4731, 0.4731,  ..., 0.4731, 0.4731, 0.4567]],\n",
              "       grad_fn=<SliceBackward>)"
            ]
          },
          "metadata": {
            "tags": []
          },
          "execution_count": 194
        }
      ]
    },
    {
      "cell_type": "code",
      "metadata": {
        "colab": {
          "base_uri": "https://localhost:8080/"
        },
        "id": "JkRvlY0F9LKF",
        "outputId": "d375bc5a-3f19-4171-c3e8-b0ddc5dd3dfd"
      },
      "source": [
        "o[0, 1, :, :]"
      ],
      "execution_count": null,
      "outputs": [
        {
          "output_type": "execute_result",
          "data": {
            "text/plain": [
              "tensor([[0., 0., 0.,  ..., 0., 0., 0.],\n",
              "        [0., 1., 0.,  ..., 0., 0., 0.],\n",
              "        [0., 0., 0.,  ..., 0., 0., 0.],\n",
              "        ...,\n",
              "        [1., 0., 0.,  ..., 1., 0., 0.],\n",
              "        [1., 0., 0.,  ..., 1., 0., 0.],\n",
              "        [0., 1., 0.,  ..., 0., 0., 0.]], grad_fn=<SliceBackward>)"
            ]
          },
          "metadata": {
            "tags": []
          },
          "execution_count": 189
        }
      ]
    },
    {
      "cell_type": "code",
      "metadata": {
        "colab": {
          "base_uri": "https://localhost:8080/"
        },
        "id": "KkC7erA8ST6c",
        "outputId": "a267f236-8db3-421c-fb87-a22cc39b91a9"
      },
      "source": [
        "print(x.shape)\n",
        "print(y.shape)\n",
        "print(z.shape)"
      ],
      "execution_count": null,
      "outputs": [
        {
          "output_type": "stream",
          "text": [
            "torch.Size([2, 16, 124, 124])\n",
            "torch.Size([2, 32, 124, 124])\n",
            "torch.Size([2, 64, 124, 124])\n"
          ],
          "name": "stdout"
        }
      ]
    },
    {
      "cell_type": "code",
      "metadata": {
        "colab": {
          "base_uri": "https://localhost:8080/"
        },
        "id": "V6vcklIZPgLI",
        "outputId": "7b9a5e8d-d1c3-4cf9-fda1-2922f77c8901"
      },
      "source": [
        "pretrained_unetmodel = torch.hub.load('mateuszbuda/brain-segmentation-pytorch', 'unet', in_channels=3, out_channels=1, init_features=32, pretrained=True)"
      ],
      "execution_count": null,
      "outputs": [
        {
          "output_type": "stream",
          "text": [
            "Downloading: \"https://github.com/mateuszbuda/brain-segmentation-pytorch/archive/master.zip\" to /root/.cache/torch/hub/master.zip\n",
            "Downloading: \"https://github.com/mateuszbuda/brain-segmentation-pytorch/releases/download/v1.0/unet-e012d006.pt\" to /root/.cache/torch/hub/checkpoints/unet-e012d006.pt\n"
          ],
          "name": "stderr"
        }
      ]
    },
    {
      "cell_type": "code",
      "metadata": {
        "id": "IDofxwDwP2Zf"
      },
      "source": [
        "model_layers_lst = list(pretrained_unetmodel.children())"
      ],
      "execution_count": null,
      "outputs": []
    },
    {
      "cell_type": "code",
      "metadata": {
        "id": "FpISIO88QHa_"
      },
      "source": [
        "model_layers_lst"
      ],
      "execution_count": null,
      "outputs": []
    },
    {
      "cell_type": "code",
      "metadata": {
        "id": "Q2LWkMhkQHdn"
      },
      "source": [
        "features = nn.ModuleList(pretrained_unetmodel.children())[:-1]\n",
        "unetencoder = torch.nn.Sequential(nn.Conv2d(1, 32, 3, 1, 1) , *(list(pretrained_unetmodel.children())[2:7]))\n",
        "bb = nn.Sequential(nn.Conv2d(1, 3, 3, 1, 1), *(list(pretrained_unetmodel.children())[0:9]))\n",
        "cc = nn.Sequential(*(list(pretrained_unetmodel.children())[9:-1]))\n",
        "dd = nn.Sequential(*(list(pretrained_unetmodel.children())))"
      ],
      "execution_count": null,
      "outputs": []
    },
    {
      "cell_type": "code",
      "metadata": {
        "id": "TIiUz7sMrbee"
      },
      "source": [
        "print(bb)"
      ],
      "execution_count": null,
      "outputs": []
    },
    {
      "cell_type": "code",
      "metadata": {
        "id": "GF_Pu5L3yaJc"
      },
      "source": [
        "print(cc)"
      ],
      "execution_count": null,
      "outputs": []
    },
    {
      "cell_type": "code",
      "metadata": {
        "id": "O3Ad0S9bpUw_"
      },
      "source": [
        "op1 = bb(input)\n",
        "print(op1.shape)\n",
        "op2 = cc(op1)"
      ],
      "execution_count": null,
      "outputs": []
    },
    {
      "cell_type": "code",
      "metadata": {
        "colab": {
          "base_uri": "https://localhost:8080/",
          "height": 298
        },
        "id": "XJEoYM1xpU0e",
        "outputId": "75f1999a-fd1c-429f-d419-8922d991a39d"
      },
      "source": [
        "op3 = dd(input1)"
      ],
      "execution_count": null,
      "outputs": [
        {
          "output_type": "error",
          "ename": "RuntimeError",
          "evalue": "ignored",
          "traceback": [
            "\u001b[0;31m---------------------------------------------------------------------------\u001b[0m",
            "\u001b[0;31mRuntimeError\u001b[0m                              Traceback (most recent call last)",
            "\u001b[0;32m<ipython-input-106-a550972435b0>\u001b[0m in \u001b[0;36m<module>\u001b[0;34m()\u001b[0m\n\u001b[0;32m----> 1\u001b[0;31m \u001b[0mop3\u001b[0m \u001b[0;34m=\u001b[0m \u001b[0mdd\u001b[0m\u001b[0;34m(\u001b[0m\u001b[0minput1\u001b[0m\u001b[0;34m)\u001b[0m\u001b[0;34m\u001b[0m\u001b[0;34m\u001b[0m\u001b[0m\n\u001b[0m",
            "\u001b[0;32m/usr/local/lib/python3.7/dist-packages/torch/nn/modules/module.py\u001b[0m in \u001b[0;36m_call_impl\u001b[0;34m(self, *input, **kwargs)\u001b[0m\n\u001b[1;32m    887\u001b[0m             \u001b[0mresult\u001b[0m \u001b[0;34m=\u001b[0m \u001b[0mself\u001b[0m\u001b[0;34m.\u001b[0m\u001b[0m_slow_forward\u001b[0m\u001b[0;34m(\u001b[0m\u001b[0;34m*\u001b[0m\u001b[0minput\u001b[0m\u001b[0;34m,\u001b[0m \u001b[0;34m**\u001b[0m\u001b[0mkwargs\u001b[0m\u001b[0;34m)\u001b[0m\u001b[0;34m\u001b[0m\u001b[0;34m\u001b[0m\u001b[0m\n\u001b[1;32m    888\u001b[0m         \u001b[0;32melse\u001b[0m\u001b[0;34m:\u001b[0m\u001b[0;34m\u001b[0m\u001b[0;34m\u001b[0m\u001b[0m\n\u001b[0;32m--> 889\u001b[0;31m             \u001b[0mresult\u001b[0m \u001b[0;34m=\u001b[0m \u001b[0mself\u001b[0m\u001b[0;34m.\u001b[0m\u001b[0mforward\u001b[0m\u001b[0;34m(\u001b[0m\u001b[0;34m*\u001b[0m\u001b[0minput\u001b[0m\u001b[0;34m,\u001b[0m \u001b[0;34m**\u001b[0m\u001b[0mkwargs\u001b[0m\u001b[0;34m)\u001b[0m\u001b[0;34m\u001b[0m\u001b[0;34m\u001b[0m\u001b[0m\n\u001b[0m\u001b[1;32m    890\u001b[0m         for hook in itertools.chain(\n\u001b[1;32m    891\u001b[0m                 \u001b[0m_global_forward_hooks\u001b[0m\u001b[0;34m.\u001b[0m\u001b[0mvalues\u001b[0m\u001b[0;34m(\u001b[0m\u001b[0;34m)\u001b[0m\u001b[0;34m,\u001b[0m\u001b[0;34m\u001b[0m\u001b[0;34m\u001b[0m\u001b[0m\n",
            "\u001b[0;32m/usr/local/lib/python3.7/dist-packages/torch/nn/modules/container.py\u001b[0m in \u001b[0;36mforward\u001b[0;34m(self, input)\u001b[0m\n\u001b[1;32m    117\u001b[0m     \u001b[0;32mdef\u001b[0m \u001b[0mforward\u001b[0m\u001b[0;34m(\u001b[0m\u001b[0mself\u001b[0m\u001b[0;34m,\u001b[0m \u001b[0minput\u001b[0m\u001b[0;34m)\u001b[0m\u001b[0;34m:\u001b[0m\u001b[0;34m\u001b[0m\u001b[0;34m\u001b[0m\u001b[0m\n\u001b[1;32m    118\u001b[0m         \u001b[0;32mfor\u001b[0m \u001b[0mmodule\u001b[0m \u001b[0;32min\u001b[0m \u001b[0mself\u001b[0m\u001b[0;34m:\u001b[0m\u001b[0;34m\u001b[0m\u001b[0;34m\u001b[0m\u001b[0m\n\u001b[0;32m--> 119\u001b[0;31m             \u001b[0minput\u001b[0m \u001b[0;34m=\u001b[0m \u001b[0mmodule\u001b[0m\u001b[0;34m(\u001b[0m\u001b[0minput\u001b[0m\u001b[0;34m)\u001b[0m\u001b[0;34m\u001b[0m\u001b[0;34m\u001b[0m\u001b[0m\n\u001b[0m\u001b[1;32m    120\u001b[0m         \u001b[0;32mreturn\u001b[0m \u001b[0minput\u001b[0m\u001b[0;34m\u001b[0m\u001b[0;34m\u001b[0m\u001b[0m\n\u001b[1;32m    121\u001b[0m \u001b[0;34m\u001b[0m\u001b[0m\n",
            "\u001b[0;32m/usr/local/lib/python3.7/dist-packages/torch/nn/modules/module.py\u001b[0m in \u001b[0;36m_call_impl\u001b[0;34m(self, *input, **kwargs)\u001b[0m\n\u001b[1;32m    887\u001b[0m             \u001b[0mresult\u001b[0m \u001b[0;34m=\u001b[0m \u001b[0mself\u001b[0m\u001b[0;34m.\u001b[0m\u001b[0m_slow_forward\u001b[0m\u001b[0;34m(\u001b[0m\u001b[0;34m*\u001b[0m\u001b[0minput\u001b[0m\u001b[0;34m,\u001b[0m \u001b[0;34m**\u001b[0m\u001b[0mkwargs\u001b[0m\u001b[0;34m)\u001b[0m\u001b[0;34m\u001b[0m\u001b[0;34m\u001b[0m\u001b[0m\n\u001b[1;32m    888\u001b[0m         \u001b[0;32melse\u001b[0m\u001b[0;34m:\u001b[0m\u001b[0;34m\u001b[0m\u001b[0;34m\u001b[0m\u001b[0m\n\u001b[0;32m--> 889\u001b[0;31m             \u001b[0mresult\u001b[0m \u001b[0;34m=\u001b[0m \u001b[0mself\u001b[0m\u001b[0;34m.\u001b[0m\u001b[0mforward\u001b[0m\u001b[0;34m(\u001b[0m\u001b[0;34m*\u001b[0m\u001b[0minput\u001b[0m\u001b[0;34m,\u001b[0m \u001b[0;34m**\u001b[0m\u001b[0mkwargs\u001b[0m\u001b[0;34m)\u001b[0m\u001b[0;34m\u001b[0m\u001b[0;34m\u001b[0m\u001b[0m\n\u001b[0m\u001b[1;32m    890\u001b[0m         for hook in itertools.chain(\n\u001b[1;32m    891\u001b[0m                 \u001b[0m_global_forward_hooks\u001b[0m\u001b[0;34m.\u001b[0m\u001b[0mvalues\u001b[0m\u001b[0;34m(\u001b[0m\u001b[0;34m)\u001b[0m\u001b[0;34m,\u001b[0m\u001b[0;34m\u001b[0m\u001b[0;34m\u001b[0m\u001b[0m\n",
            "\u001b[0;32m/usr/local/lib/python3.7/dist-packages/torch/nn/modules/container.py\u001b[0m in \u001b[0;36mforward\u001b[0;34m(self, input)\u001b[0m\n\u001b[1;32m    117\u001b[0m     \u001b[0;32mdef\u001b[0m \u001b[0mforward\u001b[0m\u001b[0;34m(\u001b[0m\u001b[0mself\u001b[0m\u001b[0;34m,\u001b[0m \u001b[0minput\u001b[0m\u001b[0;34m)\u001b[0m\u001b[0;34m:\u001b[0m\u001b[0;34m\u001b[0m\u001b[0;34m\u001b[0m\u001b[0m\n\u001b[1;32m    118\u001b[0m         \u001b[0;32mfor\u001b[0m \u001b[0mmodule\u001b[0m \u001b[0;32min\u001b[0m \u001b[0mself\u001b[0m\u001b[0;34m:\u001b[0m\u001b[0;34m\u001b[0m\u001b[0;34m\u001b[0m\u001b[0m\n\u001b[0;32m--> 119\u001b[0;31m             \u001b[0minput\u001b[0m \u001b[0;34m=\u001b[0m \u001b[0mmodule\u001b[0m\u001b[0;34m(\u001b[0m\u001b[0minput\u001b[0m\u001b[0;34m)\u001b[0m\u001b[0;34m\u001b[0m\u001b[0;34m\u001b[0m\u001b[0m\n\u001b[0m\u001b[1;32m    120\u001b[0m         \u001b[0;32mreturn\u001b[0m \u001b[0minput\u001b[0m\u001b[0;34m\u001b[0m\u001b[0;34m\u001b[0m\u001b[0m\n\u001b[1;32m    121\u001b[0m \u001b[0;34m\u001b[0m\u001b[0m\n",
            "\u001b[0;32m/usr/local/lib/python3.7/dist-packages/torch/nn/modules/module.py\u001b[0m in \u001b[0;36m_call_impl\u001b[0;34m(self, *input, **kwargs)\u001b[0m\n\u001b[1;32m    887\u001b[0m             \u001b[0mresult\u001b[0m \u001b[0;34m=\u001b[0m \u001b[0mself\u001b[0m\u001b[0;34m.\u001b[0m\u001b[0m_slow_forward\u001b[0m\u001b[0;34m(\u001b[0m\u001b[0;34m*\u001b[0m\u001b[0minput\u001b[0m\u001b[0;34m,\u001b[0m \u001b[0;34m**\u001b[0m\u001b[0mkwargs\u001b[0m\u001b[0;34m)\u001b[0m\u001b[0;34m\u001b[0m\u001b[0;34m\u001b[0m\u001b[0m\n\u001b[1;32m    888\u001b[0m         \u001b[0;32melse\u001b[0m\u001b[0;34m:\u001b[0m\u001b[0;34m\u001b[0m\u001b[0;34m\u001b[0m\u001b[0m\n\u001b[0;32m--> 889\u001b[0;31m             \u001b[0mresult\u001b[0m \u001b[0;34m=\u001b[0m \u001b[0mself\u001b[0m\u001b[0;34m.\u001b[0m\u001b[0mforward\u001b[0m\u001b[0;34m(\u001b[0m\u001b[0;34m*\u001b[0m\u001b[0minput\u001b[0m\u001b[0;34m,\u001b[0m \u001b[0;34m**\u001b[0m\u001b[0mkwargs\u001b[0m\u001b[0;34m)\u001b[0m\u001b[0;34m\u001b[0m\u001b[0;34m\u001b[0m\u001b[0m\n\u001b[0m\u001b[1;32m    890\u001b[0m         for hook in itertools.chain(\n\u001b[1;32m    891\u001b[0m                 \u001b[0m_global_forward_hooks\u001b[0m\u001b[0;34m.\u001b[0m\u001b[0mvalues\u001b[0m\u001b[0;34m(\u001b[0m\u001b[0;34m)\u001b[0m\u001b[0;34m,\u001b[0m\u001b[0;34m\u001b[0m\u001b[0;34m\u001b[0m\u001b[0m\n",
            "\u001b[0;32m/usr/local/lib/python3.7/dist-packages/torch/nn/modules/conv.py\u001b[0m in \u001b[0;36mforward\u001b[0;34m(self, input)\u001b[0m\n\u001b[1;32m    397\u001b[0m \u001b[0;34m\u001b[0m\u001b[0m\n\u001b[1;32m    398\u001b[0m     \u001b[0;32mdef\u001b[0m \u001b[0mforward\u001b[0m\u001b[0;34m(\u001b[0m\u001b[0mself\u001b[0m\u001b[0;34m,\u001b[0m \u001b[0minput\u001b[0m\u001b[0;34m:\u001b[0m \u001b[0mTensor\u001b[0m\u001b[0;34m)\u001b[0m \u001b[0;34m->\u001b[0m \u001b[0mTensor\u001b[0m\u001b[0;34m:\u001b[0m\u001b[0;34m\u001b[0m\u001b[0;34m\u001b[0m\u001b[0m\n\u001b[0;32m--> 399\u001b[0;31m         \u001b[0;32mreturn\u001b[0m \u001b[0mself\u001b[0m\u001b[0;34m.\u001b[0m\u001b[0m_conv_forward\u001b[0m\u001b[0;34m(\u001b[0m\u001b[0minput\u001b[0m\u001b[0;34m,\u001b[0m \u001b[0mself\u001b[0m\u001b[0;34m.\u001b[0m\u001b[0mweight\u001b[0m\u001b[0;34m,\u001b[0m \u001b[0mself\u001b[0m\u001b[0;34m.\u001b[0m\u001b[0mbias\u001b[0m\u001b[0;34m)\u001b[0m\u001b[0;34m\u001b[0m\u001b[0;34m\u001b[0m\u001b[0m\n\u001b[0m\u001b[1;32m    400\u001b[0m \u001b[0;34m\u001b[0m\u001b[0m\n\u001b[1;32m    401\u001b[0m \u001b[0;32mclass\u001b[0m \u001b[0mConv3d\u001b[0m\u001b[0;34m(\u001b[0m\u001b[0m_ConvNd\u001b[0m\u001b[0;34m)\u001b[0m\u001b[0;34m:\u001b[0m\u001b[0;34m\u001b[0m\u001b[0;34m\u001b[0m\u001b[0m\n",
            "\u001b[0;32m/usr/local/lib/python3.7/dist-packages/torch/nn/modules/conv.py\u001b[0m in \u001b[0;36m_conv_forward\u001b[0;34m(self, input, weight, bias)\u001b[0m\n\u001b[1;32m    394\u001b[0m                             _pair(0), self.dilation, self.groups)\n\u001b[1;32m    395\u001b[0m         return F.conv2d(input, weight, bias, self.stride,\n\u001b[0;32m--> 396\u001b[0;31m                         self.padding, self.dilation, self.groups)\n\u001b[0m\u001b[1;32m    397\u001b[0m \u001b[0;34m\u001b[0m\u001b[0m\n\u001b[1;32m    398\u001b[0m     \u001b[0;32mdef\u001b[0m \u001b[0mforward\u001b[0m\u001b[0;34m(\u001b[0m\u001b[0mself\u001b[0m\u001b[0;34m,\u001b[0m \u001b[0minput\u001b[0m\u001b[0;34m:\u001b[0m \u001b[0mTensor\u001b[0m\u001b[0;34m)\u001b[0m \u001b[0;34m->\u001b[0m \u001b[0mTensor\u001b[0m\u001b[0;34m:\u001b[0m\u001b[0;34m\u001b[0m\u001b[0;34m\u001b[0m\u001b[0m\n",
            "\u001b[0;31mRuntimeError\u001b[0m: Given groups=1, weight of size [256, 512, 3, 3], expected input[2, 256, 16, 16] to have 512 channels, but got 256 channels instead"
          ]
        }
      ]
    },
    {
      "cell_type": "markdown",
      "metadata": {
        "id": "xAOt2XdZsqiP"
      },
      "source": [
        "# Loss Functions and Miscellaneous"
      ]
    },
    {
      "cell_type": "code",
      "metadata": {
        "id": "fHLgyIT9KYqO"
      },
      "source": [
        "def normalized_cross_correlation(x, y, return_map, reduction='mean', eps=1e-8):\n",
        "    \"\"\" N-dimensional normalized cross correlation (NCC)\n",
        "    Args:\n",
        "        x (~torch.Tensor): Input tensor.\n",
        "        y (~torch.Tensor): Input tensor.\n",
        "        return_map (bool): If True, also return the correlation map.\n",
        "        reduction (str, optional): Specifies the reduction to apply to the output:\n",
        "            ``'mean'`` | ``'sum'``. Defaults to ``'sum'``.\n",
        "        eps (float, optional): Epsilon value for numerical stability. Defaults to 1e-8.\n",
        "    Returns:\n",
        "        ~torch.Tensor: Output scalar\n",
        "        ~torch.Tensor: Output tensor\n",
        "    \"\"\"\n",
        "\n",
        "    shape = x.shape\n",
        "    b = shape[0]\n",
        "\n",
        "    # reshape\n",
        "    x = x.view(b, -1)\n",
        "    y = y.view(b, -1)\n",
        "\n",
        "    # mean\n",
        "    x_mean = torch.mean(x, dim=1, keepdim=True)\n",
        "    y_mean = torch.mean(y, dim=1, keepdim=True)\n",
        "\n",
        "    # deviation\n",
        "    x = x - x_mean\n",
        "    y = y - y_mean\n",
        "\n",
        "    dev_xy = torch.mul(x,y)\n",
        "    dev_xx = torch.mul(x,x)\n",
        "    dev_yy = torch.mul(y,y)\n",
        "\n",
        "    dev_xx_sum = torch.sum(dev_xx, dim=1, keepdim=True)\n",
        "    dev_yy_sum = torch.sum(dev_yy, dim=1, keepdim=True)\n",
        "\n",
        "    ncc = torch.div(dev_xy + eps / dev_xy.shape[1],\n",
        "                    torch.sqrt( torch.mul(dev_xx_sum, dev_yy_sum)) + eps)\n",
        "    ncc_map = ncc.view(b, *shape[1:])\n",
        "\n",
        "    # reduce\n",
        "    if reduction == 'mean':\n",
        "        ncc = torch.mean(torch.sum(ncc, dim=1))\n",
        "    elif reduction == 'sum':\n",
        "        ncc = torch.sum(ncc)\n",
        "    else:\n",
        "        raise KeyError('unsupported reduction type: %s' % reduction)\n",
        "\n",
        "    if not return_map:\n",
        "        return ncc\n",
        "    \n",
        "    if (torch.isclose(torch.tensor([-1.0]).to(\"cuda\"), ncc).any()):\n",
        "      ncc = ncc + torch.tensor([0.01]).to(\"cuda\")\n",
        "\n",
        "    elif (torch.isclose(torch.tensor([1.0]).to(\"cuda\"), ncc).any()):\n",
        "      ncc = ncc - torch.tensor([0.01]).to(\"cuda\")\n",
        "\n",
        "    return ncc, ncc_map\n"
      ],
      "execution_count": null,
      "outputs": []
    },
    {
      "cell_type": "code",
      "metadata": {
        "id": "GyxbbWYoKZMK"
      },
      "source": [
        "class NormalizedCrossCorrelation(nn.Module):\n",
        "    \"\"\" N-dimensional normalized cross correlation (NCC)\n",
        "    Args:\n",
        "        eps (float, optional): Epsilon value for numerical stability. Defaults to 1e-8.\n",
        "        return_map (bool, optional): If True, also return the correlation map. Defaults to False.\n",
        "        reduction (str, optional): Specifies the reduction to apply to the output:\n",
        "            ``'mean'`` | ``'sum'``. Defaults to ``'mean'``.\n",
        "    \"\"\"\n",
        "    def __init__(self,\n",
        "                 eps=1e-8,\n",
        "                 return_map=False,\n",
        "                 reduction='mean'):\n",
        "\n",
        "        super(NormalizedCrossCorrelation, self).__init__()\n",
        "\n",
        "        self._eps = eps\n",
        "        self._return_map = return_map\n",
        "        self._reduction = reduction\n",
        "\n",
        "    def forward(self, x, y):\n",
        "\n",
        "        return normalized_cross_correlation(x, y,self._return_map, self._reduction, self._eps)"
      ],
      "execution_count": null,
      "outputs": []
    },
    {
      "cell_type": "code",
      "metadata": {
        "colab": {
          "base_uri": "https://localhost:8080/",
          "height": 191
        },
        "id": "4LO5oapALHCj",
        "outputId": "6eb55221-fa1a-48a1-da1e-de6377433170"
      },
      "source": [
        "cosine_similarity = torch.nn.CosineSimilarity(dim=2, eps=1e-08)\n",
        "similarity_loss = cosine_similarity(o1.view(2,5,-1), o2.view(2,5,-1))\n",
        "similarity_loss.mean(dim=1)"
      ],
      "execution_count": null,
      "outputs": [
        {
          "output_type": "error",
          "ename": "NameError",
          "evalue": "ignored",
          "traceback": [
            "\u001b[0;31m---------------------------------------------------------------------------\u001b[0m",
            "\u001b[0;31mNameError\u001b[0m                                 Traceback (most recent call last)",
            "\u001b[0;32m<ipython-input-47-0f882ed90b6b>\u001b[0m in \u001b[0;36m<module>\u001b[0;34m()\u001b[0m\n\u001b[1;32m      1\u001b[0m \u001b[0mcosine_similarity\u001b[0m \u001b[0;34m=\u001b[0m \u001b[0mtorch\u001b[0m\u001b[0;34m.\u001b[0m\u001b[0mnn\u001b[0m\u001b[0;34m.\u001b[0m\u001b[0mCosineSimilarity\u001b[0m\u001b[0;34m(\u001b[0m\u001b[0mdim\u001b[0m\u001b[0;34m=\u001b[0m\u001b[0;36m2\u001b[0m\u001b[0;34m,\u001b[0m \u001b[0meps\u001b[0m\u001b[0;34m=\u001b[0m\u001b[0;36m1e-08\u001b[0m\u001b[0;34m)\u001b[0m\u001b[0;34m\u001b[0m\u001b[0;34m\u001b[0m\u001b[0m\n\u001b[0;32m----> 2\u001b[0;31m \u001b[0msimilarity_loss\u001b[0m \u001b[0;34m=\u001b[0m \u001b[0mcosine_similarity\u001b[0m\u001b[0;34m(\u001b[0m\u001b[0mo1\u001b[0m\u001b[0;34m.\u001b[0m\u001b[0mview\u001b[0m\u001b[0;34m(\u001b[0m\u001b[0;36m2\u001b[0m\u001b[0;34m,\u001b[0m\u001b[0;36m5\u001b[0m\u001b[0;34m,\u001b[0m\u001b[0;34m-\u001b[0m\u001b[0;36m1\u001b[0m\u001b[0;34m)\u001b[0m\u001b[0;34m,\u001b[0m \u001b[0mo2\u001b[0m\u001b[0;34m.\u001b[0m\u001b[0mview\u001b[0m\u001b[0;34m(\u001b[0m\u001b[0;36m2\u001b[0m\u001b[0;34m,\u001b[0m\u001b[0;36m5\u001b[0m\u001b[0;34m,\u001b[0m\u001b[0;34m-\u001b[0m\u001b[0;36m1\u001b[0m\u001b[0;34m)\u001b[0m\u001b[0;34m)\u001b[0m\u001b[0;34m\u001b[0m\u001b[0;34m\u001b[0m\u001b[0m\n\u001b[0m\u001b[1;32m      3\u001b[0m \u001b[0msimilarity_loss\u001b[0m\u001b[0;34m.\u001b[0m\u001b[0mmean\u001b[0m\u001b[0;34m(\u001b[0m\u001b[0mdim\u001b[0m\u001b[0;34m=\u001b[0m\u001b[0;36m1\u001b[0m\u001b[0;34m)\u001b[0m\u001b[0;34m\u001b[0m\u001b[0;34m\u001b[0m\u001b[0m\n",
            "\u001b[0;31mNameError\u001b[0m: name 'o1' is not defined"
          ]
        }
      ]
    },
    {
      "cell_type": "markdown",
      "metadata": {
        "id": "d-ng2ZnKsq3l"
      },
      "source": [
        "# Training"
      ]
    },
    {
      "cell_type": "code",
      "metadata": {
        "id": "ylTFoBTEKrBe"
      },
      "source": [
        "del unet_model, betahead, thetahead, randomizehead, reconstructionhead\n",
        "torch.cuda.empty_cache()"
      ],
      "execution_count": null,
      "outputs": []
    },
    {
      "cell_type": "code",
      "metadata": {
        "colab": {
          "base_uri": "https://localhost:8080/"
        },
        "id": "vVh6IEHDKrD7",
        "outputId": "889083eb-c25c-4e56-e14e-89acdd0a13e5"
      },
      "source": [
        "unet_model = UNet(1, 16).to(\"cuda\")\n",
        "\n",
        "betahead = BetaHead(16).to(\"cuda\")\n",
        "thetahead = ThetaHead(16, 1).to(\"cuda\")\n",
        "\n",
        "randomizehead = RandomizationHead(5, 1).to(\"cuda\")\n",
        "reconstructionhead = ReconstructionHead(6, 5, 1).to(\"cuda\")\n"
      ],
      "execution_count": null,
      "outputs": [
        {
          "output_type": "stream",
          "text": [
            "beta_selection1: [5, 6, 2, 8, 9]\n",
            "beta_selection2: [0, 1, 7, 8, 9]\n",
            "beta_selection3: [5, 1, 7, 3, 4]\n",
            "beta_selection4: [5, 1, 2, 8, 4]\n"
          ],
          "name": "stdout"
        }
      ]
    },
    {
      "cell_type": "code",
      "metadata": {
        "id": "iSWVQVmAKrGT"
      },
      "source": [
        "reconstruction_loss = NormalizedCrossCorrelation().to(\"cuda\")\n",
        "similarity_loss = torch.nn.CosineSimilarity(dim=2, eps=1e-08)\n",
        "hyperparam1 = 1.0\n",
        "hyperparam2 = -1.0\n",
        "lmbda = 0.0005\n",
        "lr=1e-3"
      ],
      "execution_count": null,
      "outputs": []
    },
    {
      "cell_type": "code",
      "metadata": {
        "id": "XrWn5yaoKrI9"
      },
      "source": [
        "optimizer = torch.optim.Adam( list( unet_model.parameters()) + list( betahead.parameters() ) + \n",
        "                             list(thetahead.parameters()) + list(randomizehead.parameters()) + \n",
        "                             list( reconstructionhead.parameters()), lr=lr ) \n",
        "model_dir = '/content/drive/My Drive/Image_Registration_Project/disentangled_latent_space'\n",
        "\n",
        "if not os.path.isdir(model_dir):\n",
        "  os.mkdir(model_dir)"
      ],
      "execution_count": null,
      "outputs": []
    },
    {
      "cell_type": "code",
      "metadata": {
        "id": "6SZGcbAyKrMJ"
      },
      "source": [
        "def fullmodel_one_epoch_run(epoch=1):\n",
        "  example_number = 0\n",
        "  reconstruction_loss_lst = []\n",
        "  similarity_loss_lst = []\n",
        "  total_loss_lst = []\n",
        "  for X,Y in training_generator:\n",
        "\n",
        "    X = X.float().to(\"cuda\")\n",
        "    Y = Y.float().to(\"cuda\")\n",
        "\n",
        "    x_size = X.size()\n",
        "\n",
        "    u_x = unet_model(X)\n",
        "    p_x, o_x = betahead(u_x)\n",
        "    t_x  = thetahead(u_x)\n",
        "\n",
        "    u_y = unet_model(Y)\n",
        "    p_y, o_y = betahead(u_y)\n",
        "    t_y  = thetahead(u_y)\n",
        "\n",
        "    input_recon1, input_recon2, input_recon3, input_recon4 = randomizehead(o_x, o_y, t_x, t_y)\n",
        "\n",
        "    r1 = reconstructionhead(input_recon1)\n",
        "    r2 = reconstructionhead(input_recon2)\n",
        "    r3 = reconstructionhead(input_recon3)\n",
        "    r4 = reconstructionhead(input_recon4)\n",
        "\n",
        "    recon_loss_1 = reconstruction_loss(X, r1)\n",
        "    recon_loss_2 = reconstruction_loss(Y, r2)\n",
        "    recon_loss_3 = reconstruction_loss(X, r3)\n",
        "    recon_loss_4 = reconstruction_loss(Y, r4)\n",
        "\n",
        "    recon_loss = (recon_loss_1 + recon_loss_2 + recon_loss_3 + recon_loss_4)/4\n",
        "\n",
        "    #print(recon_loss)\n",
        "\n",
        "    sim_loss = similarity_loss(o_x.view(x_size[0], 5, -1), o_y.view(x_size[0], 5, -1))\n",
        "    sim_loss = sim_loss.mean()\n",
        "\n",
        "    #print(sim_loss)\n",
        "\n",
        "    total_loss = hyperparam1 * recon_loss + hyperparam2 * lmbda * sim_loss\n",
        "\n",
        "    #print(total_loss)\n",
        "\n",
        "    optimizer.zero_grad()          \n",
        "    total_loss.backward() \n",
        "    optimizer.step()\n",
        "\n",
        "    reconstruction_loss_lst.append(recon_loss.detach().cpu().numpy().item())\n",
        "    similarity_loss_lst.append(sim_loss.detach().cpu().numpy().item())\n",
        "    total_loss_lst.append(total_loss.detach().cpu().numpy().item())\n",
        "    #print(\"============= =============== ===========\")\n",
        "\n",
        "    del X, Y, u_x, p_x, t_x, u_y, p_y, t_y, input_recon1, input_recon2, input_recon3, input_recon4, r1, r2, r3, r4\n",
        "    torch.cuda.empty_cache()    \n",
        "    example_number = example_number + 1\n",
        "    \n",
        "\n",
        "  if (epoch%4 == 0):\n",
        "    modelname = model_dir + '/' + \"latent_space_harmonization_\" + str(epoch+52) + '.pth'\n",
        "    torch.save({\"unet_model\": unet_model.state_dict(), \"beta\": beta.state_dict(), \"theta\": theta.state_dict(),\n",
        "                \"randomizehead\": randomizehead.state_dict(), \"reconstructionhead\": reconstructionhead.state_dict()}, modelname)\n",
        "    print(\"epoch: {}\".format(epoch+52))\n",
        "    #print(similarity_loss_lst)\n",
        "    print(\"Losses: {}, {} and {}\".format(recon_loss*hyperparam1, sim_loss*hyperparam2*lmbda, total_loss))\n",
        "    print(\"Average Losses: {}, {} {}\".format(sum(reconstruction_loss_lst)/len(reconstruction_loss_lst), sum(abs(x) for x in similarity_loss_lst)/len(similarity_loss_lst) ,\n",
        "                                            sum(abs(x) for x in total_loss_lst)/len(total_loss_lst) ) )\n",
        "    print(\"Saving model checkpoints\")\n",
        "    print(\"======= =============== ===========\")\n",
        "    print()\n",
        "  \n",
        "  return reconstruction_loss_lst, similarity_loss_lst, total_loss_lst"
      ],
      "execution_count": null,
      "outputs": []
    },
    {
      "cell_type": "code",
      "metadata": {
        "colab": {
          "base_uri": "https://localhost:8080/"
        },
        "id": "G1LSFWhoSN0Z",
        "outputId": "5e4d6bac-ba7f-4821-8274-f35ddcef4ff5"
      },
      "source": [
        "epochs = 101\n",
        "a = []\n",
        "b = []\n",
        "c = []\n",
        "for e in range(epochs):\n",
        "  m,n,o = fullmodel_one_epoch_run(epoch=e)\n",
        "  a.append(m)\n",
        "  b.append(n)\n",
        "  c.append(o)"
      ],
      "execution_count": null,
      "outputs": [
        {
          "output_type": "stream",
          "text": [
            "epoch: 52\n",
            "Losses: -0.6882099509239197, -0.00023792932915966958 and -0.688447892665863\n",
            "Average Losses: -0.6869959916387286, 0.47750127741268705 0.687234742300851\n",
            "Saving model checkpoints\n",
            "======= =============== ===========\n",
            "\n",
            "epoch: 56\n",
            "Losses: -0.7125113606452942, -0.00023868028074502945 and -0.7127500176429749\n",
            "Average Losses: -0.6981612358774457, 0.47735137598855154 0.6983999013900757\n",
            "Saving model checkpoints\n",
            "======= =============== ===========\n",
            "\n",
            "epoch: 60\n",
            "Losses: -0.6924126148223877, -0.00023911558673717082 and -0.6926517486572266\n",
            "Average Losses: -0.6937205280576434, 0.47714334300586153 0.6939590999058315\n",
            "Saving model checkpoints\n",
            "======= =============== ===========\n",
            "\n",
            "epoch: 64\n",
            "Losses: -0.7109810709953308, -0.00023922898981254548 and -0.7112203240394592\n",
            "Average Losses: -0.6870452676500592, 0.4775627723761967 0.6872840438570295\n",
            "Saving model checkpoints\n",
            "======= =============== ===========\n",
            "\n",
            "epoch: 68\n",
            "Losses: -0.6609257459640503, -0.00023911720199976116 and -0.6611648797988892\n",
            "Average Losses: -0.6845671960285732, 0.47727371539388386 0.6848058274814061\n",
            "Saving model checkpoints\n",
            "======= =============== ===========\n",
            "\n",
            "epoch: 72\n",
            "Losses: -0.6947532892227173, -0.0002380282967351377 and -0.6949912905693054\n",
            "Average Losses: -0.6973695584705898, 0.47753665702683584 0.6976083176476615\n",
            "Saving model checkpoints\n",
            "======= =============== ===========\n",
            "\n",
            "epoch: 76\n",
            "Losses: -0.6909877061843872, -0.00023853336460888386 and -0.6912262439727783\n",
            "Average Losses: -0.6886978234563556, 0.47743592091969084 0.688936540058681\n",
            "Saving model checkpoints\n",
            "======= =============== ===========\n",
            "\n",
            "epoch: 80\n",
            "Losses: -0.7045597434043884, -0.000239453132962808 and -0.7047991752624512\n",
            "Average Losses: -0.6900631019047329, 0.47832768304007395 0.6903022697993687\n",
            "Saving model checkpoints\n",
            "======= =============== ===========\n",
            "\n",
            "epoch: 84\n",
            "Losses: -0.6989710927009583, -0.0002390798181295395 and -0.6992101669311523\n",
            "Average Losses: -0.7110293677874974, 0.4772351597036634 0.7112679736954826\n",
            "Saving model checkpoints\n",
            "======= =============== ===========\n",
            "\n",
            "epoch: 88\n",
            "Losses: -0.6988938450813293, -0.0002390961890341714 and -0.6991329193115234\n",
            "Average Losses: -0.7028941597257342, 0.4779496576104845 0.703133123261588\n",
            "Saving model checkpoints\n",
            "======= =============== ===========\n",
            "\n",
            "epoch: 92\n",
            "Losses: -0.6993420124053955, -0.00023986949236132205 and -0.6995818614959717\n",
            "Average Losses: -0.7056603005954197, 0.4786054236548288 0.7058995962142944\n",
            "Saving model checkpoints\n",
            "======= =============== ===========\n",
            "\n",
            "epoch: 96\n",
            "Losses: -0.7010892629623413, -0.00023893687466625124 and -0.7013282179832458\n",
            "Average Losses: -0.6970180358205523, 0.47826237763677326 0.6972571781703404\n",
            "Saving model checkpoints\n",
            "======= =============== ===========\n",
            "\n",
            "epoch: 100\n",
            "Losses: -0.7046783566474915, -0.00023962381237652153 and -0.7049179673194885\n",
            "Average Losses: -0.7002699034554618, 0.47839770572526114 0.7005091054098946\n",
            "Saving model checkpoints\n",
            "======= =============== ===========\n",
            "\n",
            "epoch: 104\n",
            "Losses: -0.6802253723144531, -0.00023921886167954654 and -0.6804645657539368\n",
            "Average Losses: -0.698505026953561, 0.47811297859464374 0.6987440841538566\n",
            "Saving model checkpoints\n",
            "======= =============== ===========\n",
            "\n",
            "epoch: 108\n",
            "Losses: -0.7239749431610107, -0.00023922714171931148 and -0.7242141962051392\n",
            "Average Losses: -0.6984234537397113, 0.4779592624732426 0.6986624343054635\n",
            "Saving model checkpoints\n",
            "======= =============== ===========\n",
            "\n",
            "epoch: 112\n",
            "Losses: -0.6804870963096619, -0.00023920409148558974 and -0.6807262897491455\n",
            "Average Losses: -0.6912829961095538, 0.47831545983042034 0.6915221469742912\n",
            "Saving model checkpoints\n",
            "======= =============== ===========\n",
            "\n",
            "epoch: 116\n",
            "Losses: -0.6985651850700378, -0.00023826475080568343 and -0.6988034248352051\n",
            "Average Losses: -0.7060987779072353, 0.47801920771598816 0.7063377755028861\n",
            "Saving model checkpoints\n",
            "======= =============== ===========\n",
            "\n",
            "epoch: 120\n",
            "Losses: -0.6891347169876099, -0.00023914013581816107 and -0.6893738508224487\n",
            "Average Losses: -0.7006055201802935, 0.4785769624369485 0.7008447987692696\n",
            "Saving model checkpoints\n",
            "======= =============== ===========\n",
            "\n",
            "epoch: 124\n",
            "Losses: -0.7097555994987488, -0.00023934977070894092 and -0.7099949717521667\n",
            "Average Losses: -0.7057373608861651, 0.4778039710862296 0.7059762733323234\n",
            "Saving model checkpoints\n",
            "======= =============== ===========\n",
            "\n",
            "epoch: 128\n",
            "Losses: -0.7197545170783997, -0.00023843851522542536 and -0.7199929356575012\n",
            "Average Losses: -0.6994021449770246, 0.4779534212180546 0.6996411170278277\n",
            "Saving model checkpoints\n",
            "======= =============== ===========\n",
            "\n",
            "epoch: 132\n",
            "Losses: -0.7024771571159363, -0.00023866847914177924 and -0.7027158141136169\n",
            "Average Losses: -0.6953417062759399, 0.4774808032172067 0.6955804484231132\n",
            "Saving model checkpoints\n",
            "======= =============== ===========\n",
            "\n",
            "epoch: 136\n",
            "Losses: -0.7071632742881775, -0.0002395840419922024 and -0.7074028849601746\n",
            "Average Losses: -0.6958539996828351, 0.47842295680727276 0.6960932186671666\n",
            "Saving model checkpoints\n",
            "======= =============== ===========\n",
            "\n",
            "epoch: 140\n",
            "Losses: -0.6722500324249268, -0.00023895477352198213 and -0.6724889874458313\n",
            "Average Losses: -0.6967130133083889, 0.477980124098914 0.6969520023890904\n",
            "Saving model checkpoints\n",
            "======= =============== ===========\n",
            "\n",
            "epoch: 144\n",
            "Losses: -0.7058866024017334, -0.00023941929975990206 and -0.7061260342597961\n",
            "Average Losses: -0.7015003476824079, 0.4786771663597652 0.7017396943909782\n",
            "Saving model checkpoints\n",
            "======= =============== ===========\n",
            "\n",
            "epoch: 148\n",
            "Losses: -0.6876024007797241, -0.00023886789858806878 and -0.6878412961959839\n",
            "Average Losses: -0.7025964770998273, 0.4782221274716513 0.7028355939047677\n",
            "Saving model checkpoints\n",
            "======= =============== ===========\n",
            "\n",
            "epoch: 152\n",
            "Losses: -0.6819248199462891, -0.00023919915838632733 and -0.6821640133857727\n",
            "Average Losses: -0.6975709966250828, 0.4787020172391619 0.697810343333653\n",
            "Saving model checkpoints\n",
            "======= =============== ===========\n",
            "\n"
          ],
          "name": "stdout"
        }
      ]
    },
    {
      "cell_type": "code",
      "metadata": {
        "colab": {
          "base_uri": "https://localhost:8080/"
        },
        "id": "orbi38ZQSN3H",
        "outputId": "6fb24053-f56f-426d-8fea-038f6df6873b"
      },
      "source": [
        "similarity_loss_lst = [0.46767109632492065, 0.46727612614631653, 0.4673558473587036, 0.46867337822914124, 0.46916383504867554, 0.4692424237728119, 0.4691184461116791]\n",
        "sum(abs(x) for x in similarity_loss_lst)/len(similarity_loss_lst) "
      ],
      "execution_count": null,
      "outputs": [
        {
          "output_type": "execute_result",
          "data": {
            "text/plain": [
              "0.46835730757032124"
            ]
          },
          "metadata": {
            "tags": []
          },
          "execution_count": 61
        }
      ]
    },
    {
      "cell_type": "code",
      "metadata": {
        "id": "uPUxqF1BSN57"
      },
      "source": [
        ""
      ],
      "execution_count": null,
      "outputs": []
    },
    {
      "cell_type": "code",
      "metadata": {
        "id": "sNIut3vQSN83"
      },
      "source": [
        ""
      ],
      "execution_count": null,
      "outputs": []
    },
    {
      "cell_type": "markdown",
      "metadata": {
        "id": "r8yPmLzytEG6"
      },
      "source": [
        "# Validation and visualization"
      ]
    }
  ]
}