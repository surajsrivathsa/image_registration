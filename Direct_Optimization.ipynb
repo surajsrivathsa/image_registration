{
  "nbformat": 4,
  "nbformat_minor": 0,
  "metadata": {
    "colab": {
      "name": "Direct_Optimization.ipynb",
      "provenance": [],
      "include_colab_link": true
    },
    "kernelspec": {
      "name": "python3",
      "display_name": "Python 3"
    }
  },
  "cells": [
    {
      "cell_type": "markdown",
      "metadata": {
        "id": "view-in-github",
        "colab_type": "text"
      },
      "source": [
        "<a href=\"https://colab.research.google.com/github/surajsrivathsa/image_registration/blob/main/Direct_Optimization.ipynb\" target=\"_parent\"><img src=\"https://colab.research.google.com/assets/colab-badge.svg\" alt=\"Open In Colab\"/></a>"
      ]
    },
    {
      "cell_type": "markdown",
      "metadata": {
        "id": "36WX9Dk2X8l9"
      },
      "source": [
        "# Preamble"
      ]
    },
    {
      "cell_type": "code",
      "metadata": {
        "id": "oGOQROEA7cVp"
      },
      "source": [
        "import numpy as np\n",
        "import torch\n",
        "import torch.nn as nn\n",
        "import torch.nn.functional as F\n",
        "import torch.utils.data as Data\n",
        "import torch.optim as optim\n",
        "import torchvision\n",
        "from torchvision import datasets, transforms\n",
        "from matplotlib import pyplot as plt"
      ],
      "execution_count": 1,
      "outputs": []
    },
    {
      "cell_type": "markdown",
      "metadata": {
        "id": "VAK0-4oUYAtn"
      },
      "source": [
        "# Data creation"
      ]
    },
    {
      "cell_type": "code",
      "metadata": {
        "id": "76t-Nbv7GwGB"
      },
      "source": [
        "fixed_img = np.zeros(shape=(1, 1, 128, 128, 128), dtype = np.float32)\n",
        "moving_img = np.zeros(shape=(1, 1, 128, 128, 128), dtype = np.float32)\n",
        "\n",
        "fixed_img[:, :, 32:96, 32:96, 32:96] = 1.0\n",
        "moving_img[:, :, 50:114, 50:114, 50:114] = 1.0"
      ],
      "execution_count": 38,
      "outputs": []
    },
    {
      "cell_type": "code",
      "metadata": {
        "colab": {
          "base_uri": "https://localhost:8080/",
          "height": 285
        },
        "id": "iDEtOMjkGwJB",
        "outputId": "7ef8b3c7-2fbd-4f41-c1aa-0a8130f7a991"
      },
      "source": [
        "plt.imshow(fixed_img[0, 0, 64, :, :])"
      ],
      "execution_count": 39,
      "outputs": [
        {
          "output_type": "execute_result",
          "data": {
            "text/plain": [
              "<matplotlib.image.AxesImage at 0x7f14d5e6ef28>"
            ]
          },
          "metadata": {
            "tags": []
          },
          "execution_count": 39
        },
        {
          "output_type": "display_data",
          "data": {
            "image/png": "[encoded data removed]",
            "text/plain": [
              "<Figure size 432x288 with 1 Axes>"
            ]
          },
          "metadata": {
            "tags": [],
            "needs_background": "light"
          }
        }
      ]
    },
    {
      "cell_type": "code",
      "metadata": {
        "colab": {
          "base_uri": "https://localhost:8080/",
          "height": 285
        },
        "id": "McZljVolGwL4",
        "outputId": "60eb2b3a-ed86-4b52-a6d1-fccb299d5bb6"
      },
      "source": [
        "plt.imshow(moving_img[0, 0, 64, :, :])"
      ],
      "execution_count": 40,
      "outputs": [
        {
          "output_type": "execute_result",
          "data": {
            "text/plain": [
              "<matplotlib.image.AxesImage at 0x7f14d5e53cc0>"
            ]
          },
          "metadata": {
            "tags": []
          },
          "execution_count": 40
        },
        {
          "output_type": "display_data",
          "data": {
            "image/png": "[encoded data removed]",
            "text/plain": [
              "<Figure size 432x288 with 1 Axes>"
            ]
          },
          "metadata": {
            "tags": [],
            "needs_background": "light"
          }
        }
      ]
    },
    {
      "cell_type": "code",
      "metadata": {
        "id": "Ajq3g9mBMkek"
      },
      "source": [
        "fixed_img_tnsr = torch.from_numpy(fixed_img)\n",
        "moving_img_tnsr = torch.from_numpy(moving_img)"
      ],
      "execution_count": 43,
      "outputs": []
    },
    {
      "cell_type": "markdown",
      "metadata": {
        "id": "BhOvBxYHYECL"
      },
      "source": [
        "# Model Building"
      ]
    },
    {
      "cell_type": "code",
      "metadata": {
        "id": "dWG7gdSPIX4v"
      },
      "source": [
        "class SpatialTransformer(nn.Module):\n",
        "    \"\"\"\n",
        "    N-D Spatial Transformer\n",
        "    \"\"\"\n",
        "\n",
        "    def __init__(self, size, is_affine=False, theta = None, mode='bilinear', affine_image_size =  (1, 1, 128, 128, 128)):\n",
        "        super().__init__()\n",
        "\n",
        "        self.mode = mode\n",
        "        self.isaffine = is_affine\n",
        "        self.theta = theta\n",
        "        self.affine_image_size =  affine_image_size\n",
        "        # create sampling grid\n",
        "        # registering the grid as a buffer cleanly moves it to the GPU, but it also\n",
        "        # adds it to the state dict. this is annoying since everything in the state dict\n",
        "        # is included when saving weights to disk, so the model files are way bigger\n",
        "        # than they need to be. so far, there does not appear to be an elegant solution.\n",
        "        # see: https://discuss.pytorch.org/t/how-to-register-buffer-without-polluting-state-dict\n",
        "\n",
        "        if (self.isaffine):\n",
        "          grid = F.affine_grid(self.theta, self.affine_image_size, align_corners=False)\n",
        "          #grid = grid.permute(0, 4, 1, 2, 3)\n",
        "          self.register_buffer('grid', grid)\n",
        "        else:\n",
        "          vectors = [torch.arange(0, s) for s in size]\n",
        "          grids = torch.meshgrid(vectors)\n",
        "          grid = torch.stack(grids)\n",
        "          grid = torch.unsqueeze(grid, 0)\n",
        "          grid = grid.type(torch.FloatTensor)\n",
        "          self.register_buffer('grid', grid)\n",
        "\n",
        "    def forward(self, src, flow=None):      \n",
        "      if (self.isaffine):\n",
        "        grid = F.affine_grid(self.theta, self.affine_image_size)        \n",
        "        warped_image = F.grid_sample(src, grid)\n",
        "        #warped_image = warped_image.permute(0, 4, 1, 2, 3)\n",
        "        return warped_image\n",
        "      else:\n",
        "        # new locations\n",
        "        new_locs = self.grid + flow\n",
        "        shape = flow.shape[2:]\n",
        "\n",
        "        # need to normalize grid values to [-1, 1] for resampler\n",
        "        for i in range(len(shape)):\n",
        "            new_locs[:, i, ...] = 2 * (new_locs[:, i, ...] / (shape[i] - 1) - 0.5)\n",
        "\n",
        "        # move channels dim to last position\n",
        "        # also not sure why, but the channels need to be reversed\n",
        "        if len(shape) == 2:\n",
        "            new_locs = new_locs.permute(0, 2, 3, 1)\n",
        "            new_locs = new_locs[..., [1, 0]]\n",
        "        elif len(shape) == 3:\n",
        "            new_locs = new_locs.permute(0, 2, 3, 4, 1)\n",
        "            new_locs = new_locs[..., [2, 1, 0]]\n",
        "\n",
        "        return F.grid_sample(src, new_locs, align_corners=True, mode=self.mode)\n"
      ],
      "execution_count": 6,
      "outputs": []
    },
    {
      "cell_type": "code",
      "metadata": {
        "id": "u_B18_ZAIX7-"
      },
      "source": [
        "rotated_affine_matrix = torch.from_numpy(np.array([ [ [0.0, 0.0, -1.0, 0.0], [ 0.0, -1.0, 0.0, 0.0], [-1.0,  0.0, 0.0, 0.0] ] ], dtype=\"float32\" ))\n",
        "affine_matrix = torch.from_numpy(np.array([ [ [1.0, 0.0, 0.0, 0.0], [ 0.0, 1.0, 0.0, 0.0], [0.0,  0.0, 1.0, 0.0] ] ], dtype=\"float32\" ))"
      ],
      "execution_count": 61,
      "outputs": []
    },
    {
      "cell_type": "code",
      "metadata": {
        "colab": {
          "base_uri": "https://localhost:8080/"
        },
        "id": "fyMfYcXBIX-x",
        "outputId": "ecafeb6d-d89a-4fdf-c1e5-91926149d36e"
      },
      "source": [
        "spatial_transformer_affine = SpatialTransformer(size=(128, 128, 128), is_affine=True, theta=affine_matrix,  affine_image_size =  (1, 1, 128, 128, 128))\n",
        "print(spatial_transformer_affine.grid.shape)\n",
        "print(spatial_transformer_affine.isaffine)\n",
        "print(\"========= =========== ======\")\n",
        "print()"
      ],
      "execution_count": 62,
      "outputs": [
        {
          "output_type": "stream",
          "text": [
            "torch.Size([1, 128, 128, 128, 3])\n",
            "True\n",
            "========= =========== ======\n",
            "\n"
          ],
          "name": "stdout"
        }
      ]
    },
    {
      "cell_type": "code",
      "metadata": {
        "colab": {
          "base_uri": "https://localhost:8080/",
          "height": 374
        },
        "id": "g1om0P3sNKe4",
        "outputId": "f234017a-3731-4056-da1c-e5ecdbeb8bb0"
      },
      "source": [
        "warped_image_tensor = spatial_transformer_affine(fixed_img_tnsr)\n",
        "warped_image_np = warped_image_tensor.numpy()\n",
        "plt.imshow(warped_image_np[0, 0, 40, :, :])"
      ],
      "execution_count": 9,
      "outputs": [
        {
          "output_type": "stream",
          "text": [
            "/usr/local/lib/python3.6/dist-packages/torch/nn/functional.py:3448: UserWarning: Default grid_sample and affine_grid behavior has changed to align_corners=False since 1.3.0. Please specify align_corners=True if the old behavior is desired. See the documentation of grid_sample for details.\n",
            "  warnings.warn(\"Default grid_sample and affine_grid behavior has changed \"\n",
            "/usr/local/lib/python3.6/dist-packages/torch/nn/functional.py:3385: UserWarning: Default grid_sample and affine_grid behavior has changed to align_corners=False since 1.3.0. Please specify align_corners=True if the old behavior is desired. See the documentation of grid_sample for details.\n",
            "  warnings.warn(\"Default grid_sample and affine_grid behavior has changed \"\n"
          ],
          "name": "stderr"
        },
        {
          "output_type": "execute_result",
          "data": {
            "text/plain": [
              "<matplotlib.image.AxesImage at 0x7f14de6f95f8>"
            ]
          },
          "metadata": {
            "tags": []
          },
          "execution_count": 9
        },
        {
          "output_type": "display_data",
          "data": {
            "image/png": "[encoded data removed]",
            "text/plain": [
              "<Figure size 432x288 with 1 Axes>"
            ]
          },
          "metadata": {
            "tags": [],
            "needs_background": "light"
          }
        }
      ]
    },
    {
      "cell_type": "code",
      "metadata": {
        "id": "rPZn87hATMwJ"
      },
      "source": [
        "def normalized_cross_correlation(x, y, return_map, reduction='mean', eps=1e-8):\n",
        "    \"\"\" N-dimensional normalized cross correlation (NCC)\n",
        "    Args:\n",
        "        x (~torch.Tensor): Input tensor.\n",
        "        y (~torch.Tensor): Input tensor.\n",
        "        return_map (bool): If True, also return the correlation map.\n",
        "        reduction (str, optional): Specifies the reduction to apply to the output:\n",
        "            ``'mean'`` | ``'sum'``. Defaults to ``'sum'``.\n",
        "        eps (float, optional): Epsilon value for numerical stability. Defaults to 1e-8.\n",
        "    Returns:\n",
        "        ~torch.Tensor: Output scalar\n",
        "        ~torch.Tensor: Output tensor\n",
        "    \"\"\"\n",
        "\n",
        "    shape = x.shape\n",
        "    b = shape[0]\n",
        "\n",
        "    # reshape\n",
        "    x = x.view(b, -1)\n",
        "    y = y.view(b, -1)\n",
        "\n",
        "    # mean\n",
        "    x_mean = torch.mean(x, dim=1, keepdim=True)\n",
        "    y_mean = torch.mean(y, dim=1, keepdim=True)\n",
        "\n",
        "    # deviation\n",
        "    x = x - x_mean\n",
        "    y = y - y_mean\n",
        "\n",
        "    dev_xy = torch.mul(x,y)\n",
        "    dev_xx = torch.mul(x,x)\n",
        "    dev_yy = torch.mul(y,y)\n",
        "\n",
        "    dev_xx_sum = torch.sum(dev_xx, dim=1, keepdim=True)\n",
        "    dev_yy_sum = torch.sum(dev_yy, dim=1, keepdim=True)\n",
        "\n",
        "    ncc = torch.div(dev_xy + eps / dev_xy.shape[1],\n",
        "                    torch.sqrt( torch.mul(dev_xx_sum, dev_yy_sum)) + eps)\n",
        "    ncc_map = ncc.view(b, *shape[1:])\n",
        "\n",
        "    # reduce\n",
        "    if reduction == 'mean':\n",
        "        ncc = torch.mean(torch.sum(ncc, dim=1))\n",
        "    elif reduction == 'sum':\n",
        "        ncc = torch.sum(ncc)\n",
        "    else:\n",
        "        raise KeyError('unsupported reduction type: %s' % reduction)\n",
        "\n",
        "    if not return_map:\n",
        "        return ncc\n",
        "    \n",
        "    if (torch.isclose(torch.tensor([-1.0]).to(\"cuda\"), ncc).any()):\n",
        "      ncc = ncc + torch.tensor([0.01]).to(\"cuda\")\n",
        "\n",
        "    elif (torch.isclose(torch.tensor([1.0]).to(\"cuda\"), ncc).any()):\n",
        "      ncc = ncc - torch.tensor([0.01]).to(\"cuda\")\n",
        "\n",
        "    return ncc, ncc_map\n"
      ],
      "execution_count": 18,
      "outputs": []
    },
    {
      "cell_type": "code",
      "metadata": {
        "id": "K3kz7pEQTdiU"
      },
      "source": [
        "class NormalizedCrossCorrelation(nn.Module):\n",
        "    \"\"\" N-dimensional normalized cross correlation (NCC)\n",
        "    Args:\n",
        "        eps (float, optional): Epsilon value for numerical stability. Defaults to 1e-8.\n",
        "        return_map (bool, optional): If True, also return the correlation map. Defaults to False.\n",
        "        reduction (str, optional): Specifies the reduction to apply to the output:\n",
        "            ``'mean'`` | ``'sum'``. Defaults to ``'mean'``.\n",
        "    \"\"\"\n",
        "    def __init__(self,\n",
        "                 eps=1e-8,\n",
        "                 return_map=False,\n",
        "                 reduction='mean'):\n",
        "\n",
        "        super(NormalizedCrossCorrelation, self).__init__()\n",
        "\n",
        "        self._eps = eps\n",
        "        self._return_map = return_map\n",
        "        self._reduction = reduction\n",
        "\n",
        "    def forward(self, x, y):\n",
        "\n",
        "        return normalized_cross_correlation(x, y,self._return_map, self._reduction, self._eps)"
      ],
      "execution_count": 11,
      "outputs": []
    },
    {
      "cell_type": "code",
      "metadata": {
        "id": "ayBitiBSTlFm"
      },
      "source": [
        "similarity_loss = NormalizedCrossCorrelation()\n",
        "out = similarity_loss(fixed_img_tnsr, moving_img_tnsr)"
      ],
      "execution_count": 19,
      "outputs": []
    },
    {
      "cell_type": "code",
      "metadata": {
        "colab": {
          "base_uri": "https://localhost:8080/"
        },
        "id": "tXNjlXtMT5ZF",
        "outputId": "0acf206f-8cba-4524-887f-0520912b34c1"
      },
      "source": [
        "out"
      ],
      "execution_count": 13,
      "outputs": [
        {
          "output_type": "execute_result",
          "data": {
            "text/plain": [
              "tensor(0.2815)"
            ]
          },
          "metadata": {
            "tags": []
          },
          "execution_count": 13
        }
      ]
    },
    {
      "cell_type": "code",
      "metadata": {
        "id": "Cfv5F9mQSBFw",
        "colab": {
          "base_uri": "https://localhost:8080/"
        },
        "outputId": "d5cdc6a5-17ab-417d-8a87-3edd5d9ce6f6"
      },
      "source": [
        "myaffine = torch.from_numpy(np.array([ [ [1.0, 0.0, 0.0, 0.0], [ 0.0, 1.0, 0.0, 0.0], [0.0,  0.0, 1.0, 0.0] ] ], dtype=\"float32\" ))\n",
        "myaffine.requires_grad_(requires_grad=True)"
      ],
      "execution_count": 63,
      "outputs": [
        {
          "output_type": "execute_result",
          "data": {
            "text/plain": [
              "tensor([[[1., 0., 0., 0.],\n",
              "         [0., 1., 0., 0.],\n",
              "         [0., 0., 1., 0.]]], requires_grad=True)"
            ]
          },
          "metadata": {
            "tags": []
          },
          "execution_count": 63
        }
      ]
    },
    {
      "cell_type": "code",
      "metadata": {
        "id": "6GT5RU4nSBIt"
      },
      "source": [
        "# pass tensor in [], list is iterable\r\n",
        "optimizer = torch.optim.Adam([myaffine], lr=2e-4 ) "
      ],
      "execution_count": 64,
      "outputs": []
    },
    {
      "cell_type": "code",
      "metadata": {
        "id": "gzcc_4loSBLe"
      },
      "source": [
        "# do steps next - loss out and back prop it, change myaffine matrix. "
      ],
      "execution_count": null,
      "outputs": []
    },
    {
      "cell_type": "code",
      "metadata": {
        "id": "cnIFjvuISBOV",
        "colab": {
          "base_uri": "https://localhost:8080/"
        },
        "outputId": "ee1626eb-e8bb-4843-c17f-08c9dc18d67e"
      },
      "source": [
        "myaffine"
      ],
      "execution_count": 65,
      "outputs": [
        {
          "output_type": "execute_result",
          "data": {
            "text/plain": [
              "tensor([[[1., 0., 0., 0.],\n",
              "         [0., 1., 0., 0.],\n",
              "         [0., 0., 1., 0.]]], requires_grad=True)"
            ]
          },
          "metadata": {
            "tags": []
          },
          "execution_count": 65
        }
      ]
    },
    {
      "cell_type": "markdown",
      "metadata": {
        "id": "dnXx3cpIX3qL"
      },
      "source": [
        "# Training Loop"
      ]
    },
    {
      "cell_type": "code",
      "metadata": {
        "colab": {
          "base_uri": "https://localhost:8080/"
        },
        "id": "ejPMCVGzYJ26",
        "outputId": "5a129cd1-2c99-4f60-fc2c-ba8fc3884a32"
      },
      "source": [
        "for step in range(500):\n",
        "\n",
        "  # Update spatial transformer affine matrix with new gradient descent updated matrix\n",
        "  spatial_transformer_affine.theta = myaffine\n",
        "\n",
        "  # Find warped image given moving image from spatial transformer\n",
        "  warped_image_tensor = spatial_transformer_affine(moving_img_tnsr)\n",
        "\n",
        "  # Find loss between warped image and fixed image\n",
        "  total_loss = -1.0 * similarity_loss(fixed_img_tnsr, warped_image_tensor)\n",
        "  # print(total_loss)\n",
        "\n",
        "  # Backpropagate loss through network\n",
        "  optimizer.zero_grad()          \n",
        "  total_loss.backward()\n",
        "  optimizer.step() \n",
        "\n",
        "  # Print losses\n",
        "  if(step % 10 == 0):\n",
        "    print(\"Loss at step {} is : {}\".format(step, total_loss))\n",
        "    print(\"Affine matrix is: {}\".format(myaffine))\n",
        "    print(\"============= ================ =============== =========\")\n",
        "    print()\n",
        "\n",
        "  del warped_image_tensor"
      ],
      "execution_count": 106,
      "outputs": [
        {
          "output_type": "stream",
          "text": [
            "/usr/local/lib/python3.6/dist-packages/torch/nn/functional.py:3448: UserWarning: Default grid_sample and affine_grid behavior has changed to align_corners=False since 1.3.0. Please specify align_corners=True if the old behavior is desired. See the documentation of grid_sample for details.\n",
            "  warnings.warn(\"Default grid_sample and affine_grid behavior has changed \"\n",
            "/usr/local/lib/python3.6/dist-packages/torch/nn/functional.py:3385: UserWarning: Default grid_sample and affine_grid behavior has changed to align_corners=False since 1.3.0. Please specify align_corners=True if the old behavior is desired. See the documentation of grid_sample for details.\n",
            "  warnings.warn(\"Default grid_sample and affine_grid behavior has changed \"\n"
          ],
          "name": "stderr"
        },
        {
          "output_type": "stream",
          "text": [
            "Loss at step 0 is : -0.8827527761459351\n",
            "Affine matrix is: tensor([[[1.0656, 0.0456, 0.0456, 0.2448],\n",
            "         [0.0456, 1.0656, 0.0456, 0.2448],\n",
            "         [0.0456, 0.0456, 1.0656, 0.2448]]], requires_grad=True)\n",
            "============= ================ =============== =========\n",
            "\n",
            "Loss at step 10 is : -0.8880446553230286\n",
            "Affine matrix is: tensor([[[1.0625, 0.0432, 0.0432, 0.2466],\n",
            "         [0.0432, 1.0625, 0.0432, 0.2466],\n",
            "         [0.0432, 0.0432, 1.0625, 0.2466]]], requires_grad=True)\n",
            "============= ================ =============== =========\n",
            "\n",
            "Loss at step 20 is : -0.8934895992279053\n",
            "Affine matrix is: tensor([[[1.0594, 0.0407, 0.0407, 0.2484],\n",
            "         [0.0407, 1.0594, 0.0407, 0.2484],\n",
            "         [0.0407, 0.0407, 1.0594, 0.2484]]], requires_grad=True)\n",
            "============= ================ =============== =========\n",
            "\n",
            "Loss at step 30 is : -0.8990345597267151\n",
            "Affine matrix is: tensor([[[1.0563, 0.0382, 0.0382, 0.2502],\n",
            "         [0.0382, 1.0563, 0.0382, 0.2502],\n",
            "         [0.0382, 0.0382, 1.0563, 0.2502]]], requires_grad=True)\n",
            "============= ================ =============== =========\n",
            "\n",
            "Loss at step 40 is : -0.9047149419784546\n",
            "Affine matrix is: tensor([[[1.0531, 0.0357, 0.0357, 0.2520],\n",
            "         [0.0357, 1.0531, 0.0357, 0.2520],\n",
            "         [0.0357, 0.0357, 1.0531, 0.2520]]], requires_grad=True)\n",
            "============= ================ =============== =========\n",
            "\n",
            "Loss at step 50 is : -0.910519003868103\n",
            "Affine matrix is: tensor([[[1.0500, 0.0331, 0.0331, 0.2539],\n",
            "         [0.0331, 1.0500, 0.0331, 0.2539],\n",
            "         [0.0331, 0.0331, 1.0500, 0.2539]]], requires_grad=True)\n",
            "============= ================ =============== =========\n",
            "\n",
            "Loss at step 60 is : -0.9164137840270996\n",
            "Affine matrix is: tensor([[[1.0468, 0.0306, 0.0306, 0.2557],\n",
            "         [0.0306, 1.0468, 0.0306, 0.2557],\n",
            "         [0.0306, 0.0306, 1.0468, 0.2557]]], requires_grad=True)\n",
            "============= ================ =============== =========\n",
            "\n",
            "Loss at step 70 is : -0.9225428104400635\n",
            "Affine matrix is: tensor([[[1.0435, 0.0280, 0.0280, 0.2576],\n",
            "         [0.0280, 1.0435, 0.0280, 0.2576],\n",
            "         [0.0280, 0.0280, 1.0435, 0.2576]]], requires_grad=True)\n",
            "============= ================ =============== =========\n",
            "\n",
            "Loss at step 80 is : -0.9289439916610718\n",
            "Affine matrix is: tensor([[[1.0401, 0.0254, 0.0254, 0.2595],\n",
            "         [0.0254, 1.0401, 0.0254, 0.2595],\n",
            "         [0.0254, 0.0254, 1.0401, 0.2595]]], requires_grad=True)\n",
            "============= ================ =============== =========\n",
            "\n",
            "Loss at step 90 is : -0.9353452324867249\n",
            "Affine matrix is: tensor([[[1.0367, 0.0227, 0.0227, 0.2614],\n",
            "         [0.0227, 1.0367, 0.0227, 0.2614],\n",
            "         [0.0227, 0.0227, 1.0367, 0.2614]]], requires_grad=True)\n",
            "============= ================ =============== =========\n",
            "\n",
            "Loss at step 100 is : -0.941929042339325\n",
            "Affine matrix is: tensor([[[1.0334, 0.0198, 0.0198, 0.2632],\n",
            "         [0.0198, 1.0334, 0.0198, 0.2632],\n",
            "         [0.0198, 0.0198, 1.0334, 0.2632]]], requires_grad=True)\n",
            "============= ================ =============== =========\n",
            "\n",
            "Loss at step 110 is : -0.9489259719848633\n",
            "Affine matrix is: tensor([[[1.0300, 0.0167, 0.0167, 0.2652],\n",
            "         [0.0167, 1.0300, 0.0167, 0.2652],\n",
            "         [0.0167, 0.0167, 1.0300, 0.2652]]], requires_grad=True)\n",
            "============= ================ =============== =========\n",
            "\n",
            "Loss at step 120 is : -0.955951988697052\n",
            "Affine matrix is: tensor([[[1.0266, 0.0138, 0.0138, 0.2671],\n",
            "         [0.0138, 1.0266, 0.0138, 0.2671],\n",
            "         [0.0138, 0.0138, 1.0266, 0.2671]]], requires_grad=True)\n",
            "============= ================ =============== =========\n",
            "\n",
            "Loss at step 130 is : -0.9632483720779419\n",
            "Affine matrix is: tensor([[[1.0231, 0.0109, 0.0109, 0.2691],\n",
            "         [0.0109, 1.0231, 0.0109, 0.2691],\n",
            "         [0.0109, 0.0109, 1.0231, 0.2691]]], requires_grad=True)\n",
            "============= ================ =============== =========\n",
            "\n",
            "Loss at step 140 is : -0.9696507453918457\n",
            "Affine matrix is: tensor([[[1.0196, 0.0080, 0.0080, 0.2710],\n",
            "         [0.0080, 1.0196, 0.0080, 0.2710],\n",
            "         [0.0080, 0.0080, 1.0196, 0.2710]]], requires_grad=True)\n",
            "============= ================ =============== =========\n",
            "\n",
            "Loss at step 150 is : -0.9735243320465088\n",
            "Affine matrix is: tensor([[[1.0166, 0.0061, 0.0061, 0.2726],\n",
            "         [0.0061, 1.0166, 0.0061, 0.2726],\n",
            "         [0.0061, 0.0061, 1.0166, 0.2726]]], requires_grad=True)\n",
            "============= ================ =============== =========\n",
            "\n",
            "Loss at step 160 is : -0.9789544343948364\n",
            "Affine matrix is: tensor([[[1.0134, 0.0058, 0.0058, 0.2743],\n",
            "         [0.0058, 1.0134, 0.0058, 0.2743],\n",
            "         [0.0058, 0.0058, 1.0134, 0.2743]]], requires_grad=True)\n",
            "============= ================ =============== =========\n",
            "\n",
            "Loss at step 170 is : -0.9888986349105835\n",
            "Affine matrix is: tensor([[[1.0090, 0.0054, 0.0054, 0.2765],\n",
            "         [0.0054, 1.0090, 0.0054, 0.2765],\n",
            "         [0.0054, 0.0054, 1.0090, 0.2765]]], requires_grad=True)\n",
            "============= ================ =============== =========\n",
            "\n",
            "Loss at step 180 is : -0.9963598251342773\n",
            "Affine matrix is: tensor([[[1.0047, 0.0040, 0.0040, 0.2787],\n",
            "         [0.0040, 1.0047, 0.0040, 0.2787],\n",
            "         [0.0040, 0.0040, 1.0047, 0.2787]]], requires_grad=True)\n",
            "============= ================ =============== =========\n",
            "\n",
            "Loss at step 190 is : -0.9992632865905762\n",
            "Affine matrix is: tensor([[[1.0018, 0.0023, 0.0023, 0.2802],\n",
            "         [0.0023, 1.0018, 0.0023, 0.2802],\n",
            "         [0.0023, 0.0023, 1.0018, 0.2802]]], requires_grad=True)\n",
            "============= ================ =============== =========\n",
            "\n",
            "Loss at step 200 is : -0.9999293088912964\n",
            "Affine matrix is: tensor([[[1.0002, 0.0011, 0.0011, 0.2811],\n",
            "         [0.0011, 1.0002, 0.0011, 0.2811],\n",
            "         [0.0011, 0.0011, 1.0002, 0.2811]]], requires_grad=True)\n",
            "============= ================ =============== =========\n",
            "\n",
            "Loss at step 210 is : -0.9999812841415405\n",
            "Affine matrix is: tensor([[[9.9959e-01, 3.1327e-04, 3.1327e-04, 2.8143e-01],\n",
            "         [3.1327e-04, 9.9959e-01, 3.1327e-04, 2.8143e-01],\n",
            "         [3.1327e-04, 3.1327e-04, 9.9959e-01, 2.8143e-01]]],\n",
            "       requires_grad=True)\n",
            "============= ================ =============== =========\n",
            "\n",
            "Loss at step 220 is : -0.9999726414680481\n",
            "Affine matrix is: tensor([[[ 9.9951e-01, -5.0205e-05, -5.0205e-05,  2.8150e-01],\n",
            "         [-5.0201e-05,  9.9951e-01, -5.0202e-05,  2.8150e-01],\n",
            "         [-5.0204e-05, -5.0205e-05,  9.9951e-01,  2.8150e-01]]],\n",
            "       requires_grad=True)\n",
            "============= ================ =============== =========\n",
            "\n",
            "Loss at step 230 is : -0.999982476234436\n",
            "Affine matrix is: tensor([[[ 9.9964e-01, -1.6292e-04, -1.6292e-04,  2.8144e-01],\n",
            "         [-1.6291e-04,  9.9964e-01, -1.6291e-04,  2.8144e-01],\n",
            "         [-1.6292e-04, -1.6292e-04,  9.9964e-01,  2.8144e-01]]],\n",
            "       requires_grad=True)\n",
            "============= ================ =============== =========\n",
            "\n",
            "Loss at step 240 is : -0.9999940395355225\n",
            "Affine matrix is: tensor([[[ 9.9981e-01, -1.5403e-04, -1.5403e-04,  2.8136e-01],\n",
            "         [-1.5402e-04,  9.9981e-01, -1.5402e-04,  2.8136e-01],\n",
            "         [-1.5402e-04, -1.5403e-04,  9.9981e-01,  2.8136e-01]]],\n",
            "       requires_grad=True)\n",
            "============= ================ =============== =========\n",
            "\n",
            "Loss at step 250 is : -0.9999985098838806\n",
            "Affine matrix is: tensor([[[ 9.9994e-01, -1.0504e-04, -1.0504e-04,  2.8130e-01],\n",
            "         [-1.0503e-04,  9.9994e-01, -1.0504e-04,  2.8130e-01],\n",
            "         [-1.0504e-04, -1.0504e-04,  9.9994e-01,  2.8130e-01]]],\n",
            "       requires_grad=True)\n",
            "============= ================ =============== =========\n",
            "\n",
            "Loss at step 260 is : -0.9999995827674866\n",
            "Affine matrix is: tensor([[[ 1.0000e+00, -5.6326e-05, -5.6324e-05,  2.8126e-01],\n",
            "         [-5.6324e-05,  1.0000e+00, -5.6325e-05,  2.8126e-01],\n",
            "         [-5.6326e-05, -5.6327e-05,  1.0000e+00,  2.8126e-01]]],\n",
            "       requires_grad=True)\n",
            "============= ================ =============== =========\n",
            "\n",
            "Loss at step 270 is : -0.9999999403953552\n",
            "Affine matrix is: tensor([[[ 1.0000e+00, -2.2066e-05, -2.2065e-05,  2.8124e-01],\n",
            "         [-2.2066e-05,  1.0000e+00, -2.2067e-05,  2.8124e-01],\n",
            "         [-2.2067e-05, -2.2068e-05,  1.0000e+00,  2.8124e-01]]],\n",
            "       requires_grad=True)\n",
            "============= ================ =============== =========\n",
            "\n",
            "Loss at step 280 is : -0.9999998807907104\n",
            "Affine matrix is: tensor([[[ 1.0000e+00, -3.2042e-06, -3.2037e-06,  2.8124e-01],\n",
            "         [-3.2031e-06,  1.0000e+00, -3.2036e-06,  2.8124e-01],\n",
            "         [-3.2052e-06, -3.2063e-06,  1.0000e+00,  2.8124e-01]]],\n",
            "       requires_grad=True)\n",
            "============= ================ =============== =========\n",
            "\n",
            "Loss at step 290 is : -0.9999998211860657\n",
            "Affine matrix is: tensor([[[1.0000e+00, 4.3546e-06, 4.3550e-06, 2.8124e-01],\n",
            "         [4.3563e-06, 1.0000e+00, 4.3566e-06, 2.8124e-01],\n",
            "         [4.3543e-06, 4.3526e-06, 1.0000e+00, 2.8124e-01]]],\n",
            "       requires_grad=True)\n",
            "============= ================ =============== =========\n",
            "\n",
            "Loss at step 300 is : -0.9999998211860657\n",
            "Affine matrix is: tensor([[[1.0000e+00, 5.5316e-06, 5.5302e-06, 2.8125e-01],\n",
            "         [5.5317e-06, 1.0000e+00, 5.5322e-06, 2.8125e-01],\n",
            "         [5.5309e-06, 5.5309e-06, 1.0000e+00, 2.8125e-01]]],\n",
            "       requires_grad=True)\n",
            "============= ================ =============== =========\n",
            "\n",
            "Loss at step 310 is : -1.0\n",
            "Affine matrix is: tensor([[[1.0000e+00, 4.1106e-06, 4.1079e-06, 2.8125e-01],\n",
            "         [4.1090e-06, 1.0000e+00, 4.1094e-06, 2.8125e-01],\n",
            "         [4.1086e-06, 4.1103e-06, 1.0000e+00, 2.8125e-01]]],\n",
            "       requires_grad=True)\n",
            "============= ================ =============== =========\n",
            "\n",
            "Loss at step 320 is : -1.0000001192092896\n",
            "Affine matrix is: tensor([[[1.0000e+00, 2.2598e-06, 2.2577e-06, 2.8125e-01],\n",
            "         [2.2588e-06, 1.0000e+00, 2.2592e-06, 2.8125e-01],\n",
            "         [2.2597e-06, 2.2616e-06, 1.0000e+00, 2.8125e-01]]],\n",
            "       requires_grad=True)\n",
            "============= ================ =============== =========\n",
            "\n",
            "Loss at step 330 is : -1.0000001192092896\n",
            "Affine matrix is: tensor([[[1.0000e+00, 8.7388e-07, 8.7399e-07, 2.8125e-01],\n",
            "         [8.7379e-07, 1.0000e+00, 8.7408e-07, 2.8125e-01],\n",
            "         [8.7639e-07, 8.7678e-07, 1.0000e+00, 2.8125e-01]]],\n",
            "       requires_grad=True)\n",
            "============= ================ =============== =========\n",
            "\n",
            "Loss at step 340 is : -1.0000003576278687\n",
            "Affine matrix is: tensor([[[1.0000e+00, 1.0494e-07, 1.0604e-07, 2.8125e-01],\n",
            "         [1.0623e-07, 1.0000e+00, 1.0631e-07, 2.8125e-01],\n",
            "         [1.0839e-07, 1.0805e-07, 1.0000e+00, 2.8125e-01]]],\n",
            "       requires_grad=True)\n",
            "============= ================ =============== =========\n",
            "\n",
            "Loss at step 350 is : -0.9999999403953552\n",
            "Affine matrix is: tensor([[[ 1.0000e+00, -2.0058e-07, -1.9716e-07,  2.8125e-01],\n",
            "         [-1.9547e-07,  1.0000e+00, -1.9557e-07,  2.8125e-01],\n",
            "         [-1.9611e-07, -1.9690e-07,  1.0000e+00,  2.8125e-01]]],\n",
            "       requires_grad=True)\n",
            "============= ================ =============== =========\n",
            "\n",
            "Loss at step 360 is : -0.9999998807907104\n",
            "Affine matrix is: tensor([[[ 1.0000e+00, -2.4197e-07, -2.3850e-07,  2.8125e-01],\n",
            "         [-2.3536e-07,  1.0000e+00, -2.3542e-07,  2.8125e-01],\n",
            "         [-2.3904e-07, -2.3963e-07,  1.0000e+00,  2.8125e-01]]],\n",
            "       requires_grad=True)\n",
            "============= ================ =============== =========\n",
            "\n",
            "Loss at step 370 is : -0.9999998807907104\n",
            "Affine matrix is: tensor([[[ 1.0000e+00, -1.7836e-07, -1.7516e-07,  2.8125e-01],\n",
            "         [-1.7410e-07,  1.0000e+00, -1.7383e-07,  2.8125e-01],\n",
            "         [-1.7908e-07, -1.7760e-07,  1.0000e+00,  2.8125e-01]]],\n",
            "       requires_grad=True)\n",
            "============= ================ =============== =========\n",
            "\n",
            "Loss at step 380 is : -0.9999998807907104\n",
            "Affine matrix is: tensor([[[ 1.0000e+00, -9.5933e-08, -9.3754e-08,  2.8125e-01],\n",
            "         [-9.6889e-08,  1.0000e+00, -9.6265e-08,  2.8125e-01],\n",
            "         [-9.9252e-08, -9.7733e-08,  1.0000e+00,  2.8125e-01]]],\n",
            "       requires_grad=True)\n",
            "============= ================ =============== =========\n",
            "\n",
            "Loss at step 390 is : -0.9999998807907104\n",
            "Affine matrix is: tensor([[[ 1.0000e+00, -3.1058e-08, -3.1202e-08,  2.8125e-01],\n",
            "         [-3.7336e-08,  1.0000e+00, -3.6191e-08,  2.8125e-01],\n",
            "         [-3.9290e-08, -3.4431e-08,  1.0000e+00,  2.8125e-01]]],\n",
            "       requires_grad=True)\n",
            "============= ================ =============== =========\n",
            "\n",
            "Loss at step 400 is : -1.0\n",
            "Affine matrix is: tensor([[[ 1.0000e+00,  4.2626e-10, -3.5347e-09,  2.8125e-01],\n",
            "         [-8.4587e-09,  1.0000e+00, -6.0188e-09,  2.8125e-01],\n",
            "         [-7.5449e-09, -1.9844e-09,  1.0000e+00,  2.8125e-01]]],\n",
            "       requires_grad=True)\n",
            "============= ================ =============== =========\n",
            "\n",
            "Loss at step 410 is : -1.0\n",
            "Affine matrix is: tensor([[[ 1.0000e+00,  1.1471e-08,  6.1714e-09,  2.8125e-01],\n",
            "         [-1.2929e-10,  1.0000e+00,  4.6294e-09,  2.8125e-01],\n",
            "         [ 1.8613e-09,  9.3985e-09,  1.0000e+00,  2.8125e-01]]],\n",
            "       requires_grad=True)\n",
            "============= ================ =============== =========\n",
            "\n",
            "Loss at step 420 is : -1.0\n",
            "Affine matrix is: tensor([[[1.0000e+00, 1.5346e-08, 9.5764e-09, 2.8125e-01],\n",
            "         [9.1200e-10, 1.0000e+00, 8.3649e-09, 2.8125e-01],\n",
            "         [3.2804e-09, 1.3392e-08, 1.0000e+00, 2.8125e-01]]],\n",
            "       requires_grad=True)\n",
            "============= ================ =============== =========\n",
            "\n",
            "Loss at step 430 is : -1.0\n",
            "Affine matrix is: tensor([[[ 1.0000e+00,  1.6705e-08,  1.0771e-08,  2.8125e-01],\n",
            "         [-6.1497e-10,  1.0000e+00,  9.6753e-09,  2.8125e-01],\n",
            "         [ 1.8860e-09,  1.4793e-08,  1.0000e+00,  2.8125e-01]]],\n",
            "       requires_grad=True)\n",
            "============= ================ =============== =========\n",
            "\n",
            "Loss at step 440 is : -1.0\n",
            "Affine matrix is: tensor([[[ 1.0000e+00,  1.7182e-08,  1.1190e-08,  2.8125e-01],\n",
            "         [-3.0544e-09,  1.0000e+00,  1.0135e-08,  2.8125e-01],\n",
            "         [-5.0699e-10,  1.5284e-08,  1.0000e+00,  2.8125e-01]]],\n",
            "       requires_grad=True)\n",
            "============= ================ =============== =========\n",
            "\n",
            "Loss at step 450 is : -1.0\n",
            "Affine matrix is: tensor([[[ 1.0000e+00,  1.7350e-08,  1.1337e-08,  2.8125e-01],\n",
            "         [-5.8256e-09,  1.0000e+00,  1.0296e-08,  2.8125e-01],\n",
            "         [-3.2618e-09,  1.5456e-08,  1.0000e+00,  2.8125e-01]]],\n",
            "       requires_grad=True)\n",
            "============= ================ =============== =========\n",
            "\n",
            "Loss at step 460 is : -1.0\n",
            "Affine matrix is: tensor([[[ 1.0000e+00,  1.7408e-08,  1.1388e-08,  2.8125e-01],\n",
            "         [-8.7247e-09,  1.0000e+00,  1.0353e-08,  2.8125e-01],\n",
            "         [-6.1552e-09,  1.5517e-08,  1.0000e+00,  2.8125e-01]]],\n",
            "       requires_grad=True)\n",
            "============= ================ =============== =========\n",
            "\n",
            "Loss at step 470 is : -1.0\n",
            "Affine matrix is: tensor([[[ 1.0000e+00,  1.7429e-08,  1.1406e-08,  2.8125e-01],\n",
            "         [-1.1680e-08,  1.0000e+00,  1.0372e-08,  2.8125e-01],\n",
            "         [-9.1088e-09,  1.5538e-08,  1.0000e+00,  2.8125e-01]]],\n",
            "       requires_grad=True)\n",
            "============= ================ =============== =========\n",
            "\n",
            "Loss at step 480 is : -1.0\n",
            "Affine matrix is: tensor([[[ 1.0000e+00,  1.7436e-08,  1.1413e-08,  2.8125e-01],\n",
            "         [-1.4668e-08,  1.0000e+00,  1.0379e-08,  2.8125e-01],\n",
            "         [-1.2095e-08,  1.5545e-08,  1.0000e+00,  2.8125e-01]]],\n",
            "       requires_grad=True)\n",
            "============= ================ =============== =========\n",
            "\n",
            "Loss at step 490 is : -1.0\n",
            "Affine matrix is: tensor([[[ 1.0000e+00,  1.7439e-08,  1.1415e-08,  2.8125e-01],\n",
            "         [-1.7678e-08,  1.0000e+00,  1.0382e-08,  2.8125e-01],\n",
            "         [-1.5105e-08,  1.5548e-08,  1.0000e+00,  2.8125e-01]]],\n",
            "       requires_grad=True)\n",
            "============= ================ =============== =========\n",
            "\n"
          ],
          "name": "stdout"
        }
      ]
    },
    {
      "cell_type": "markdown",
      "metadata": {
        "id": "dzw_q1PgW-rw"
      },
      "source": [
        "# Inference"
      ]
    },
    {
      "cell_type": "markdown",
      "metadata": {
        "id": "VInwjAm6i5u6"
      },
      "source": [
        "fixed_img[:, :, 32:96, 32:96, 32:96] = 1.0\n",
        "\n",
        "\n",
        "moving_img[:, :, 50:114, 50:114, 50:114] = 1.0"
      ]
    },
    {
      "cell_type": "code",
      "metadata": {
        "colab": {
          "base_uri": "https://localhost:8080/"
        },
        "id": "f9_71shAYJ5f",
        "outputId": "cb24e8bf-a85c-4f92-9b93-fef282dd9180"
      },
      "source": [
        "warped_image_tensor = spatial_transformer_affine(moving_img_tnsr)\n",
        "warped_image_tensor = warped_image_tensor.detach().to(\"cpu\")\n",
        "warped_image_np = warped_image_tensor.numpy()\n"
      ],
      "execution_count": 107,
      "outputs": [
        {
          "output_type": "stream",
          "text": [
            "/usr/local/lib/python3.6/dist-packages/torch/nn/functional.py:3448: UserWarning: Default grid_sample and affine_grid behavior has changed to align_corners=False since 1.3.0. Please specify align_corners=True if the old behavior is desired. See the documentation of grid_sample for details.\n",
            "  warnings.warn(\"Default grid_sample and affine_grid behavior has changed \"\n",
            "/usr/local/lib/python3.6/dist-packages/torch/nn/functional.py:3385: UserWarning: Default grid_sample and affine_grid behavior has changed to align_corners=False since 1.3.0. Please specify align_corners=True if the old behavior is desired. See the documentation of grid_sample for details.\n",
            "  warnings.warn(\"Default grid_sample and affine_grid behavior has changed \"\n"
          ],
          "name": "stderr"
        }
      ]
    },
    {
      "cell_type": "code",
      "metadata": {
        "colab": {
          "base_uri": "https://localhost:8080/",
          "height": 285
        },
        "id": "UwFybgs_llp2",
        "outputId": "03f7c5e2-a9c1-47f8-820d-ed79fdceb103"
      },
      "source": [
        "# 1700 iteration\n",
        "plt.imshow(warped_image_np[0, 0, 38, :, :])"
      ],
      "execution_count": 108,
      "outputs": [
        {
          "output_type": "execute_result",
          "data": {
            "text/plain": [
              "<matplotlib.image.AxesImage at 0x7f14d4c352b0>"
            ]
          },
          "metadata": {
            "tags": []
          },
          "execution_count": 108
        },
        {
          "output_type": "display_data",
          "data": {
            "image/png": "[encoded data removed]",
            "text/plain": [
              "<Figure size 432x288 with 1 Axes>"
            ]
          },
          "metadata": {
            "tags": [],
            "needs_background": "light"
          }
        }
      ]
    },
    {
      "cell_type": "code",
      "metadata": {
        "colab": {
          "base_uri": "https://localhost:8080/",
          "height": 285
        },
        "id": "7rpGtPjbkUIX",
        "outputId": "c795a0fd-4731-4dc1-d593-1a3397ce0d4f"
      },
      "source": [
        "# 1200 iteration\n",
        "plt.imshow(warped_image_np[0, 0, 38, :, :])"
      ],
      "execution_count": 104,
      "outputs": [
        {
          "output_type": "execute_result",
          "data": {
            "text/plain": [
              "<matplotlib.image.AxesImage at 0x7f14d5a9f2b0>"
            ]
          },
          "metadata": {
            "tags": []
          },
          "execution_count": 104
        },
        {
          "output_type": "display_data",
          "data": {
            "image/png": "[encoded data removed]",
            "text/plain": [
              "<Figure size 432x288 with 1 Axes>"
            ]
          },
          "metadata": {
            "tags": [],
            "needs_background": "light"
          }
        }
      ]
    },
    {
      "cell_type": "code",
      "metadata": {
        "colab": {
          "base_uri": "https://localhost:8080/",
          "height": 285
        },
        "id": "UwVMg86RW1KW",
        "outputId": "80e0a09f-23ea-4829-870d-5d2575df8fbe"
      },
      "source": [
        "# 700 iteration\n",
        "plt.imshow(warped_image_np[0, 0, 38, :, :])"
      ],
      "execution_count": 105,
      "outputs": [
        {
          "output_type": "execute_result",
          "data": {
            "text/plain": [
              "<matplotlib.image.AxesImage at 0x7f14d53a66a0>"
            ]
          },
          "metadata": {
            "tags": []
          },
          "execution_count": 105
        },
        {
          "output_type": "display_data",
          "data": {
            "image/png": "[encoded data removed]",
            "text/plain": [
              "<Figure size 432x288 with 1 Axes>"
            ]
          },
          "metadata": {
            "tags": [],
            "needs_background": "light"
          }
        }
      ]
    },
    {
      "cell_type": "code",
      "metadata": {
        "colab": {
          "base_uri": "https://localhost:8080/",
          "height": 285
        },
        "id": "vMyyQPsXYJ8C",
        "outputId": "d3f662ed-1ba8-4648-f672-cea3b6a2d79f"
      },
      "source": [
        "moving_image_np = moving_img_tnsr.numpy()\n",
        "plt.imshow(moving_image_np[0, 0, 113, :, :])"
      ],
      "execution_count": 84,
      "outputs": [
        {
          "output_type": "execute_result",
          "data": {
            "text/plain": [
              "<matplotlib.image.AxesImage at 0x7f14d53509e8>"
            ]
          },
          "metadata": {
            "tags": []
          },
          "execution_count": 84
        },
        {
          "output_type": "display_data",
          "data": {
            "image/png": "[encoded data removed]",
            "text/plain": [
              "<Figure size 432x288 with 1 Axes>"
            ]
          },
          "metadata": {
            "tags": [],
            "needs_background": "light"
          }
        }
      ]
    },
    {
      "cell_type": "code",
      "metadata": {
        "id": "neLrOrbeYJ-w"
      },
      "source": [
        ""
      ],
      "execution_count": null,
      "outputs": []
    }
  ]
}