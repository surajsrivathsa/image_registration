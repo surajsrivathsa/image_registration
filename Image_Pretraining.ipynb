{
  "nbformat": 4,
  "nbformat_minor": 0,
  "metadata": {
    "colab": {
      "name": "Image_Pretraining.ipynb",
      "provenance": [],
      "collapsed_sections": [
        "EzUCYHMfAWxJ",
        "4GXDJgmNAaOn",
        "xoGljtuuHGhn",
        "BJo81KkqHE6d",
        "2jC2h0OUAcnY"
      ],
      "authorship_tag": "ABX9TyP233dmZp40+6P4nszCwRC5",
      "include_colab_link": true
    },
    "kernelspec": {
      "name": "python3",
      "display_name": "Python 3"
    },
    "language_info": {
      "name": "python"
    },
    "accelerator": "GPU"
  },
  "cells": [
    {
      "cell_type": "markdown",
      "metadata": {
        "id": "view-in-github",
        "colab_type": "text"
      },
      "source": [
        "<a href=\"https://colab.research.google.com/github/surajsrivathsa/image_registration/blob/main/Image_Pretraining.ipynb\" target=\"_parent\"><img src=\"https://colab.research.google.com/assets/colab-badge.svg\" alt=\"Open In Colab\"/></a>"
      ]
    },
    {
      "cell_type": "markdown",
      "metadata": {
        "id": "O4sxH2_Csxo3"
      },
      "source": [
        "# Preamble"
      ]
    },
    {
      "cell_type": "code",
      "metadata": {
        "id": "fEHVyrhpsHck"
      },
      "source": [
        "import numpy as np\n",
        "import os\n",
        "import sys\n",
        "import torch\n",
        "import nibabel as nb\n",
        "import matplotlib.pyplot as plt\n",
        "import glob"
      ],
      "execution_count": null,
      "outputs": []
    },
    {
      "cell_type": "code",
      "metadata": {
        "id": "Ta9fPo7Hswcm"
      },
      "source": [
        "import torch\n",
        "from torch.nn import Sequential, Linear, ReLU\n",
        "import torch.nn.functional as F\n",
        "from torch.utils.data import Dataset, DataLoader, TensorDataset\n",
        "import torch.nn as nn\n",
        "\n",
        "import torch.utils.data as Data\n",
        "import torch.optim as optim\n",
        "import torchvision\n",
        "from torchvision import datasets, transforms\n",
        "from math import log10"
      ],
      "execution_count": null,
      "outputs": []
    },
    {
      "cell_type": "code",
      "metadata": {
        "colab": {
          "base_uri": "https://localhost:8080/"
        },
        "id": "967kBIQ4swie",
        "outputId": "e70b20ec-dab9-4ff0-d057-df05ec6f4304"
      },
      "source": [
        "from google.colab import drive\n",
        "drive.mount('/content/drive')"
      ],
      "execution_count": null,
      "outputs": [
        {
          "output_type": "stream",
          "text": [
            "Drive already mounted at /content/drive; to attempt to forcibly remount, call drive.mount(\"/content/drive\", force_remount=True).\n"
          ],
          "name": "stdout"
        }
      ]
    },
    {
      "cell_type": "code",
      "metadata": {
        "colab": {
          "base_uri": "https://localhost:8080/"
        },
        "id": "4E1NW8nCHdml",
        "outputId": "2b6b69ed-35ce-4852-ee1a-e4f0aa7caa30"
      },
      "source": [
        "!pip install pytorch-msssim\n",
        "from pytorch_msssim import ssim, ms_ssim, SSIM, MS_SSIM "
      ],
      "execution_count": null,
      "outputs": [
        {
          "output_type": "stream",
          "text": [
            "Requirement already satisfied: pytorch-msssim in /usr/local/lib/python3.7/dist-packages (0.2.1)\n",
            "Requirement already satisfied: torch in /usr/local/lib/python3.7/dist-packages (from pytorch-msssim) (1.8.1+cu101)\n",
            "Requirement already satisfied: numpy in /usr/local/lib/python3.7/dist-packages (from torch->pytorch-msssim) (1.19.5)\n",
            "Requirement already satisfied: typing-extensions in /usr/local/lib/python3.7/dist-packages (from torch->pytorch-msssim) (3.7.4.3)\n"
          ],
          "name": "stdout"
        }
      ]
    },
    {
      "cell_type": "code",
      "metadata": {
        "colab": {
          "base_uri": "https://localhost:8080/"
        },
        "id": "MTKDjcJ3IpRB",
        "outputId": "2bb78fd7-933c-48d7-e183-9f4cdedd01dd"
      },
      "source": [
        "!pip install pytorch-ignite\n",
        "import ignite.metrics"
      ],
      "execution_count": null,
      "outputs": [
        {
          "output_type": "stream",
          "text": [
            "Requirement already satisfied: pytorch-ignite in /usr/local/lib/python3.7/dist-packages (0.4.4)\n",
            "Requirement already satisfied: torch<2,>=1.3 in /usr/local/lib/python3.7/dist-packages (from pytorch-ignite) (1.8.1+cu101)\n",
            "Requirement already satisfied: numpy in /usr/local/lib/python3.7/dist-packages (from torch<2,>=1.3->pytorch-ignite) (1.19.5)\n",
            "Requirement already satisfied: typing-extensions in /usr/local/lib/python3.7/dist-packages (from torch<2,>=1.3->pytorch-ignite) (3.7.4.3)\n"
          ],
          "name": "stdout"
        }
      ]
    },
    {
      "cell_type": "code",
      "metadata": {
        "id": "EqHIc8Od-2JR"
      },
      "source": [
        "import torch.utils.data as data_utils"
      ],
      "execution_count": null,
      "outputs": []
    },
    {
      "cell_type": "code",
      "metadata": {
        "id": "m_9KEmGDswlw"
      },
      "source": [
        "data_path_hr = \"/content/drive/MyDrive/Colab Notebooks/MRI_Project/sr/datasets/MRI_DATASET/hrTest\"\n",
        "data_path_lr = \"/content/drive/MyDrive/Colab Notebooks/MRI_Project/sr/datasets/MRI_DATASET/usTest/Center6p25Mask/\"\n",
        "\n",
        "# data_path_t1 = \"/content/drive/My Drive/Colab Notebooks/ImageRegistrationUsingDeepLearning/ICNet/Dataset/T1_resampled/\"\n",
        "# data_path_t2 = \"/content/drive/My Drive/Colab Notebooks/ImageRegistrationUsingDeepLearning/ICNet/Dataset/T2_resampled/\"\n",
        "file_names_hr = sorted(glob.glob(os.path.join(data_path_hr)))\n",
        "file_names_lr = sorted(glob.glob(os.path.join(data_path_lr)))"
      ],
      "execution_count": null,
      "outputs": []
    },
    {
      "cell_type": "code",
      "metadata": {
        "colab": {
          "base_uri": "https://localhost:8080/"
        },
        "id": "A2QUmIUtswok",
        "outputId": "ef6c029e-df8b-43a9-9de2-cf252e26dcce"
      },
      "source": [
        "!ls -ltr \"/content/drive/MyDrive/Colab Notebooks/MRI_Project/sr/datasets/MRI_DATASET/hrTest\""
      ],
      "execution_count": null,
      "outputs": [
        {
          "output_type": "stream",
          "text": [
            "total 100\n",
            "drwx------ 2 root root 4096 Jun  1 12:45 '136 - t1_fl3d_tra_dyn_noPAT_noPP_noOpt_fatSat_25_7p6s_imgFilShrp5ed1sm'\n",
            "drwx------ 2 root root 4096 Jun  1 12:45 '134 - t1_fl3d_tra_dyn_noPAT_noPP_noOpt_fatSat_25_7p6s_imgFilShrp5ed1sm'\n",
            "drwx------ 2 root root 4096 Jun  1 12:45 '132 - t1_fl3d_tra_dyn_noPAT_noPP_noOpt_fatSat_25_7p6s_imgFilShrp5ed1sm'\n",
            "drwx------ 2 root root 4096 Jun  1 12:45 '130 - t1_fl3d_tra_dyn_noPAT_noPP_noOpt_fatSat_25_7p6s_imgFilShrp5ed1sm'\n",
            "drwx------ 2 root root 4096 Jun  1 12:45 '128 - t1_fl3d_tra_dyn_noPAT_noPP_noOpt_fatSat_25_7p6s_imgFilShrp5ed1sm'\n",
            "drwx------ 2 root root 4096 Jun  1 12:45 '126 - t1_fl3d_tra_dyn_noPAT_noPP_noOpt_fatSat_25_7p6s_imgFilShrp5ed1sm'\n",
            "drwx------ 2 root root 4096 Jun  1 12:45 '124 - t1_fl3d_tra_dyn_noPAT_noPP_noOpt_fatSat_25_7p6s_imgFilShrp5ed1sm'\n",
            "drwx------ 2 root root 4096 Jun  1 12:45 '122 - t1_fl3d_tra_dyn_noPAT_noPP_noOpt_fatSat_25_7p6s_imgFilShrp5ed1sm'\n",
            "drwx------ 2 root root 4096 Jun  1 12:45 '120 - t1_fl3d_tra_dyn_noPAT_noPP_noOpt_fatSat_25_7p6s_imgFilShrp5ed1sm'\n",
            "drwx------ 2 root root 4096 Jun  1 12:45 '118 - t1_fl3d_tra_dyn_noPAT_noPP_noOpt_fatSat_25_7p6s_imgFilShrp5ed1sm'\n",
            "drwx------ 2 root root 4096 Jun  1 12:45 '156 - t1_fl3d_tra_dyn_noPAT_noPP_noOpt_fatSat_25_7p6s_imgFilShrp5ed1sm'\n",
            "drwx------ 2 root root 4096 Jun  1 12:45 '154 - t1_fl3d_tra_dyn_noPAT_noPP_noOpt_fatSat_25_7p6s_imgFilShrp5ed1sm'\n",
            "drwx------ 2 root root 4096 Jun  1 12:45 '152 - t1_fl3d_tra_dyn_noPAT_noPP_noOpt_fatSat_25_7p6s_imgFilShrp5ed1sm'\n",
            "drwx------ 2 root root 4096 Jun  1 12:45 '150 - t1_fl3d_tra_dyn_noPAT_noPP_noOpt_fatSat_25_7p6s_imgFilShrp5ed1sm'\n",
            "drwx------ 2 root root 4096 Jun  1 12:45 '148 - t1_fl3d_tra_dyn_noPAT_noPP_noOpt_fatSat_25_7p6s_imgFilShrp5ed1sm'\n",
            "drwx------ 2 root root 4096 Jun  1 12:45 '146 - t1_fl3d_tra_dyn_noPAT_noPP_noOpt_fatSat_25_7p6s_imgFilShrp5ed1sm'\n",
            "drwx------ 2 root root 4096 Jun  1 12:45 '144 - t1_fl3d_tra_dyn_noPAT_noPP_noOpt_fatSat_25_7p6s_imgFilShrp5ed1sm'\n",
            "drwx------ 2 root root 4096 Jun  1 12:45 '142 - t1_fl3d_tra_dyn_noPAT_noPP_noOpt_fatSat_25_7p6s_imgFilShrp5ed1sm'\n",
            "drwx------ 2 root root 4096 Jun  1 12:45 '140 - t1_fl3d_tra_dyn_noPAT_noPP_noOpt_fatSat_25_7p6s_imgFilShrp5ed1sm'\n",
            "drwx------ 2 root root 4096 Jun  1 12:45 '138 - t1_fl3d_tra_dyn_noPAT_noPP_noOpt_fatSat_25_7p6s_imgFilShrp5ed1sm'\n",
            "drwx------ 2 root root 4096 Jun  1 12:45 '166 - t1_fl3d_tra_dyn_noPAT_noPP_noOpt_fatSat_25_7p6s_imgFilShrp5ed1sm'\n",
            "drwx------ 2 root root 4096 Jun  1 12:45 '164 - t1_fl3d_tra_dyn_noPAT_noPP_noOpt_fatSat_25_7p6s_imgFilShrp5ed1sm'\n",
            "drwx------ 2 root root 4096 Jun  1 12:45 '162 - t1_fl3d_tra_dyn_noPAT_noPP_noOpt_fatSat_25_7p6s_imgFilShrp5ed1sm'\n",
            "drwx------ 2 root root 4096 Jun  1 12:45 '160 - t1_fl3d_tra_dyn_noPAT_noPP_noOpt_fatSat_25_7p6s_imgFilShrp5ed1sm'\n",
            "drwx------ 2 root root 4096 Jun  1 12:45 '158 - t1_fl3d_tra_dyn_noPAT_noPP_noOpt_fatSat_25_7p6s_imgFilShrp5ed1sm'\n"
          ],
          "name": "stdout"
        }
      ]
    },
    {
      "cell_type": "code",
      "metadata": {
        "colab": {
          "base_uri": "https://localhost:8080/",
          "height": 36
        },
        "id": "ij8Tm_FtupTV",
        "outputId": "2828f0ac-2c1c-466f-d6e6-890750d861a6"
      },
      "source": [
        "'134 - t1_fl3d_tra_dyn_noPAT_noPP_noOpt_fatSat_25_7p6s_imgFilShrp5ed1sm.nii.gz'.split(\".\")[0]"
      ],
      "execution_count": null,
      "outputs": [
        {
          "output_type": "execute_result",
          "data": {
            "application/vnd.google.colaboratory.intrinsic+json": {
              "type": "string"
            },
            "text/plain": [
              "'134 - t1_fl3d_tra_dyn_noPAT_noPP_noOpt_fatSat_25_7p6s_imgFilShrp5ed1sm'"
            ]
          },
          "metadata": {
            "tags": []
          },
          "execution_count": 16
        }
      ]
    },
    {
      "cell_type": "code",
      "metadata": {
        "id": "oC1y_ve9swsd"
      },
      "source": [
        "# Create file list\n",
        "file_names_lr = []\n",
        "file_names_hr = []\n",
        "for path, directories, files in os.walk(data_path_hr):\n",
        "  for fl in files:\n",
        "    if fl.endswith(\"nii.gz\"):\n",
        "      file_names_hr.append(os.path.join(path,fl ))\n",
        "\n",
        "for path, directories, files in os.walk(data_path_lr):\n",
        "  for fl in files:\n",
        "    if fl.endswith(\"nii.gz\"):\n",
        "      file_names_lr.append(os.path.join(path,fl ))\n",
        "\n",
        "# Sort the file names so we have corresponding files for high and low res at same indices\n",
        "file_names_lr = sorted(file_names_lr)\n",
        "file_names_hr = sorted(file_names_hr)"
      ],
      "execution_count": null,
      "outputs": []
    },
    {
      "cell_type": "code",
      "metadata": {
        "colab": {
          "base_uri": "https://localhost:8080/"
        },
        "id": "YfoWynw6swve",
        "outputId": "577fefff-d688-4f17-951e-51288fa87626"
      },
      "source": [
        "file_names_hr[:2]"
      ],
      "execution_count": null,
      "outputs": [
        {
          "output_type": "execute_result",
          "data": {
            "text/plain": [
              "['/content/drive/MyDrive/Colab Notebooks/MRI_Project/sr/datasets/MRI_DATASET/hrTest/118 - t1_fl3d_tra_dyn_noPAT_noPP_noOpt_fatSat_25_7p6s_imgFilShrp5ed1sm/118 - t1_fl3d_tra_dyn_noPAT_noPP_noOpt_fatSat_25_7p6s_imgFilShrp5ed1sm.nii.gz',\n",
              " '/content/drive/MyDrive/Colab Notebooks/MRI_Project/sr/datasets/MRI_DATASET/hrTest/120 - t1_fl3d_tra_dyn_noPAT_noPP_noOpt_fatSat_25_7p6s_imgFilShrp5ed1sm/120 - t1_fl3d_tra_dyn_noPAT_noPP_noOpt_fatSat_25_7p6s_imgFilShrp5ed1sm.nii.gz']"
            ]
          },
          "metadata": {
            "tags": []
          },
          "execution_count": 18
        }
      ]
    },
    {
      "cell_type": "code",
      "metadata": {
        "colab": {
          "base_uri": "https://localhost:8080/"
        },
        "id": "HqdtAO-6vpqU",
        "outputId": "4bfb9d5f-eee8-48cf-ebd4-1e2fc9129251"
      },
      "source": [
        "file_names_lr[:2]"
      ],
      "execution_count": null,
      "outputs": [
        {
          "output_type": "execute_result",
          "data": {
            "text/plain": [
              "['/content/drive/MyDrive/Colab Notebooks/MRI_Project/sr/datasets/MRI_DATASET/usTest/Center6p25Mask/118 - t1_fl3d_tra_dyn_noPAT_noPP_noOpt_fatSat_25_7p6s_imgFilShrp5ed1sm/118 - t1_fl3d_tra_dyn_noPAT_noPP_noOpt_fatSat_25_7p6s_imgFilShrp5ed1sm.nii.gz',\n",
              " '/content/drive/MyDrive/Colab Notebooks/MRI_Project/sr/datasets/MRI_DATASET/usTest/Center6p25Mask/120 - t1_fl3d_tra_dyn_noPAT_noPP_noOpt_fatSat_25_7p6s_imgFilShrp5ed1sm/120 - t1_fl3d_tra_dyn_noPAT_noPP_noOpt_fatSat_25_7p6s_imgFilShrp5ed1sm.nii.gz']"
            ]
          },
          "metadata": {
            "tags": []
          },
          "execution_count": 19
        }
      ]
    },
    {
      "cell_type": "markdown",
      "metadata": {
        "id": "zDd6qdcKs0Bt"
      },
      "source": [
        "# Create dataset"
      ]
    },
    {
      "cell_type": "code",
      "metadata": {
        "id": "TjdXr9irswy_"
      },
      "source": [
        "def load_4D(name):\n",
        "    \n",
        "    \n",
        "    X_nb = nb.load(name)\n",
        "    X_np = X_nb.dataobj\n",
        "\n",
        "    # We pad 10 and 10 along z direction to make it to 64 from 44. 64 is in powers of 2 which is similar to 256 and 192, Hence convolution becomes easier\n",
        "    \n",
        "    resamplng_shape = (256, 192, 64)\n",
        "    lowest_intensity_in_image = np.min(X_np)\n",
        "    model_np = np.full(shape=resamplng_shape, fill_value=lowest_intensity_in_image)\n",
        "    x_dim, y_dim, z_dim = X_np.shape\n",
        "    z_ltail = (resamplng_shape[2] - z_dim)//2\n",
        "    z_rtail = resamplng_shape[2] - z_ltail\n",
        "    model_np[:, :, z_ltail:z_rtail] = X_np[:, :, :]\n",
        "\n",
        "    # Uncomment the below line if we wnat to add 4th dimension, might be useful for time/temporal concatenation\n",
        "    # model_np = np.reshape(model_np, (1,)+ model_np.shape)\n",
        "    return model_np\n",
        "\n",
        "def imgnorm(N_I,index1=0.0001,index2=0.0001):\n",
        "    I_sort = np.sort(N_I.flatten())\n",
        "    I_min = I_sort[int(index1*len(I_sort))]\n",
        "    I_max = I_sort[-int(index2*len(I_sort))]\n",
        "    N_I =1.0*(N_I-I_min)/(I_max-I_min)\n",
        "    N_I[N_I>1.0]=1.0\n",
        "    N_I[N_I<0.0]=0.0\n",
        "    N_I2 = N_I.astype(np.float32)\n",
        "    return N_I2\n",
        "\n",
        "def Norm_Zscore(img):\n",
        "    img= (img-np.mean(img))/np.std(img) \n",
        "    return img\n",
        "\n",
        "def load_3D(name):\n",
        "  X_nb = nb.load(name)\n",
        "  X_np = X_nb.dataobj\n",
        "  return X_np"
      ],
      "execution_count": null,
      "outputs": []
    },
    {
      "cell_type": "code",
      "metadata": {
        "colab": {
          "base_uri": "https://localhost:8080/"
        },
        "id": "_dh_T_X5sw3K",
        "outputId": "1f96fa76-d407-4d8e-f988-7f0111d889a7"
      },
      "source": [
        "myimg = imgnorm(load_4D(file_names_hr[0]))\n",
        "print(\"Before shape: {} and After shape: {} \".format(load_3D(file_names_hr[0]).shape, myimg.shape))\n",
        "print(\"Before min: {} and After min: {} \".format(  np.min(load_3D(file_names_hr[0])), np.min(imgnorm(myimg)) ))\n",
        "print(\"Before max: {} and After max: {} \".format(  np.max(load_3D(file_names_hr[0])), np.max(imgnorm(myimg)) ))\n"
      ],
      "execution_count": null,
      "outputs": [
        {
          "output_type": "stream",
          "text": [
            "Before shape: (256, 192, 44) and After shape: (256, 192, 64) \n",
            "Before min: 0 and After min: 0.0 \n",
            "Before max: 286 and After max: 1.0 \n"
          ],
          "name": "stdout"
        }
      ]
    },
    {
      "cell_type": "code",
      "metadata": {
        "id": "kukk9Fal38aJ"
      },
      "source": [
        "# Run this function only when you dont have lowres_patches.pt and highres_patches.pt or you need to recreate it\n",
        "\n",
        "def create_3d_patches(lr_filenames, hr_filenames):\n",
        "  # Initialize  empty tensors of that can hold patches of size 64, 48, 16 for all files combines\n",
        "\n",
        "  hr_all_img_patches = torch.empty(size=(len(file_names_lr) * 64, 1, 64, 48, 16))\n",
        "  lr_all_img_patches = torch.empty(size=(len(file_names_lr) * 64, 1, 64, 48, 16))\n",
        "  ind = 0\n",
        "  for hr_fl, lr_fl in zip(hr_filenames, lr_filenames):\n",
        "\n",
        "    # Normalize each image inyensiy betwen 0 and 1, and also concatenate padding of 20 for z dimension to make it from 44 to 64\n",
        "    hr_img_tnsr = torch.from_numpy(imgnorm(load_4D(hr_fl)))\n",
        "\n",
        "    # Create patches\n",
        "    hr_patches = hr_img_tnsr.unfold(2, 16, 16).unfold(1, 48, 48).unfold(0, 64, 64)\n",
        "    hr_patches = hr_patches.contiguous().view(-1, 64, 48, 16)\n",
        "    hr_all_img_patches[ind: ind+64, 0, :, :, :] = hr_patches\n",
        "\n",
        "    # hr_patches = hr_img_tnsr.unfold(2, 8, 8).unfold(1, 24, 24).unfold(0, 32, 32)\n",
        "    # hr_patches = hr_patches.contiguous().view(-1, 32, 24, 8)\n",
        "\n",
        "    lr_img_tnsr = torch.from_numpy(imgnorm(load_4D(lr_fl)))\n",
        "    lr_patches = lr_img_tnsr.unfold(2, 16, 16).unfold(1, 48, 48).unfold(0, 64, 64)\n",
        "    lr_patches = lr_patches.contiguous().view(-1, 64, 48, 16)\n",
        "    lr_all_img_patches[ind: ind+64, 0, :, :, :] = lr_patches\n",
        "\n",
        "    # lr_patches = lr_img_tnsr.unfold(2, 8, 8).unfold(1, 24, 24).unfold(0, 32, 32)\n",
        "    # lr_patches = lr_patches.contiguous().view(-1, 32, 24, 8)\n",
        "\n",
        "    ind = ind+1\n",
        "  \n",
        "  print(\"Processed {} files\".format(ind))\n",
        "  return lr_all_img_patches, lr_all_img_patches\n"
      ],
      "execution_count": null,
      "outputs": []
    },
    {
      "cell_type": "code",
      "metadata": {
        "colab": {
          "base_uri": "https://localhost:8080/"
        },
        "id": "c_aoXffq7Ows",
        "outputId": "161416de-3ba0-4abc-ecab-3c734bb3e05d"
      },
      "source": [
        "lrpatches , hrpatches = create_3d_patches(file_names_lr, file_names_hr )"
      ],
      "execution_count": null,
      "outputs": [
        {
          "output_type": "stream",
          "text": [
            "Processed 25 files\n"
          ],
          "name": "stdout"
        }
      ]
    },
    {
      "cell_type": "code",
      "metadata": {
        "id": "2aKkIvav-sYX"
      },
      "source": [
        "dataset = data_utils.TensorDataset(lrpatches, hrpatches)"
      ],
      "execution_count": null,
      "outputs": []
    },
    {
      "cell_type": "code",
      "metadata": {
        "id": "dmPJSdUV7dN0"
      },
      "source": [
        "torch.save(lrpatches, \"/content/drive/MyDrive/Colab Notebooks/MRI_Project/sr/datasets/MRI_DATASET/lowres_patches.pth\")\n",
        "torch.save(hrpatches, \"/content/drive/MyDrive/Colab Notebooks/MRI_Project/sr/datasets/MRI_DATASET/highres_patches.pth\")\n",
        "torch.save(dataset , \"/content/drive/MyDrive/Colab Notebooks/MRI_Project/sr/datasets/MRI_DATASET/patch_dataset.pth\")"
      ],
      "execution_count": null,
      "outputs": []
    },
    {
      "cell_type": "code",
      "metadata": {
        "id": "wOQ7Krjo_uYe"
      },
      "source": [
        "patch_dataset = torch.load(\"/content/drive/MyDrive/Colab Notebooks/MRI_Project/sr/datasets/MRI_DATASET/patch_dataset.pth\")"
      ],
      "execution_count": null,
      "outputs": []
    },
    {
      "cell_type": "code",
      "metadata": {
        "id": "pZLzEEmw7dXI"
      },
      "source": [
        "patch_data_loader = DataLoader(patch_dataset,batch_size=16, shuffle=True, drop_last=True)"
      ],
      "execution_count": null,
      "outputs": []
    },
    {
      "cell_type": "code",
      "metadata": {
        "colab": {
          "base_uri": "https://localhost:8080/"
        },
        "id": "RdpU9Bsi7dZu",
        "outputId": "9de40254-2ae8-4f23-a9bb-16c5e2c8ee71"
      },
      "source": [
        "ind = 0\n",
        "for lrpatches, hrpatches in patch_data_loader:\n",
        "  \n",
        "  print(lrpatches.shape, hrpatches.shape)\n",
        "  print(lrpatches.min(), hrpatches.min())\n",
        "  print(lrpatches.max(), hrpatches.max())\n",
        "  print(lrpatches.mean(), hrpatches.mean())\n",
        "  print(\"============================\")\n",
        "  if(ind > 2):\n",
        "    break;\n",
        "  ind = ind+1"
      ],
      "execution_count": null,
      "outputs": [
        {
          "output_type": "stream",
          "text": [
            "torch.Size([16, 1, 64, 48, 16]) torch.Size([16, 1, 64, 48, 16])\n",
            "tensor(0.) tensor(0.)\n",
            "tensor(0.8717) tensor(0.8717)\n",
            "tensor(0.0168) tensor(0.0168)\n",
            "============================\n",
            "torch.Size([16, 1, 64, 48, 16]) torch.Size([16, 1, 64, 48, 16])\n",
            "tensor(0.) tensor(0.)\n",
            "tensor(0.) tensor(0.)\n",
            "tensor(0.) tensor(0.)\n",
            "============================\n",
            "torch.Size([16, 1, 64, 48, 16]) torch.Size([16, 1, 64, 48, 16])\n",
            "tensor(0.) tensor(0.)\n",
            "tensor(0.8064) tensor(0.8064)\n",
            "tensor(0.0016) tensor(0.0016)\n",
            "============================\n",
            "torch.Size([16, 1, 64, 48, 16]) torch.Size([16, 1, 64, 48, 16])\n",
            "tensor(0.) tensor(0.)\n",
            "tensor(0.8808) tensor(0.8808)\n",
            "tensor(0.0150) tensor(0.0150)\n",
            "============================\n"
          ],
          "name": "stdout"
        }
      ]
    },
    {
      "cell_type": "markdown",
      "metadata": {
        "id": "EzUCYHMfAWxJ"
      },
      "source": [
        "# Miscellaneous"
      ]
    },
    {
      "cell_type": "code",
      "metadata": {
        "colab": {
          "base_uri": "https://localhost:8080/"
        },
        "id": "UGHgORLN55f4",
        "outputId": "941eef3e-aa50-4bdb-c7bf-139d910c61f8"
      },
      "source": [
        "te = torch.empty(size=(len(file_names_lr) * 512, 32, 24, 8))\n",
        "te.shape"
      ],
      "execution_count": null,
      "outputs": [
        {
          "output_type": "execute_result",
          "data": {
            "text/plain": [
              "torch.Size([12800, 32, 24, 8])"
            ]
          },
          "metadata": {
            "tags": []
          },
          "execution_count": 57
        }
      ]
    },
    {
      "cell_type": "code",
      "metadata": {
        "id": "kcjBed0Byezw"
      },
      "source": [
        "mytnsr = torch.randn(size=(256, 192, 64))"
      ],
      "execution_count": null,
      "outputs": []
    },
    {
      "cell_type": "code",
      "metadata": {
        "id": "x4CpizLh1Y3k"
      },
      "source": [
        "imgtnsr = torch.from_numpy(myimg)"
      ],
      "execution_count": null,
      "outputs": []
    },
    {
      "cell_type": "code",
      "metadata": {
        "id": "dXCfX1JA0kyY"
      },
      "source": [
        "t1_patches = mytnsr.unfold(2, 16, 16).unfold(1, 48, 48).unfold(0, 64, 64)\n",
        "t1_patches = t1_patches.contiguous().view(-1, 64, 48, 16)"
      ],
      "execution_count": null,
      "outputs": []
    },
    {
      "cell_type": "code",
      "metadata": {
        "colab": {
          "base_uri": "https://localhost:8080/"
        },
        "id": "DwwYpnx30k1e",
        "outputId": "c8323751-4830-49bf-cb78-ecbb98cad182"
      },
      "source": [
        "t1_patches[33:, :, :].mean()"
      ],
      "execution_count": null,
      "outputs": [
        {
          "output_type": "execute_result",
          "data": {
            "text/plain": [
              "tensor(-0.0002)"
            ]
          },
          "metadata": {
            "tags": []
          },
          "execution_count": 41
        }
      ]
    },
    {
      "cell_type": "code",
      "metadata": {
        "id": "No_84Sm81hRM"
      },
      "source": [
        "t1_patches = imgtnsr[0, :, :, :].unfold(2, 8, 8).unfold(1, 24, 24).unfold(0, 32, 32)\n",
        "t1_patches = t1_patches.contiguous().view(-1, 32, 24, 8)"
      ],
      "execution_count": null,
      "outputs": []
    },
    {
      "cell_type": "code",
      "metadata": {
        "colab": {
          "base_uri": "https://localhost:8080/"
        },
        "id": "a8n6FX1T5h2Y",
        "outputId": "07f37c85-9120-4fcd-9384-0102fae5f29d"
      },
      "source": [
        "t1_patches.shape"
      ],
      "execution_count": null,
      "outputs": [
        {
          "output_type": "execute_result",
          "data": {
            "text/plain": [
              "torch.Size([512, 32, 24, 8])"
            ]
          },
          "metadata": {
            "tags": []
          },
          "execution_count": 56
        }
      ]
    },
    {
      "cell_type": "code",
      "metadata": {
        "colab": {
          "base_uri": "https://localhost:8080/"
        },
        "id": "IlYfmBOn1hUN",
        "outputId": "a61c5918-fa95-44a8-a88e-72ace1b2f819"
      },
      "source": [
        "t1_patches[3:, :, :].mean()"
      ],
      "execution_count": null,
      "outputs": [
        {
          "output_type": "execute_result",
          "data": {
            "text/plain": [
              "tensor(0.1165)"
            ]
          },
          "metadata": {
            "tags": []
          },
          "execution_count": 52
        }
      ]
    },
    {
      "cell_type": "code",
      "metadata": {
        "id": "anQ6EKuO1hWf"
      },
      "source": [
        ""
      ],
      "execution_count": null,
      "outputs": []
    },
    {
      "cell_type": "markdown",
      "metadata": {
        "id": "4GXDJgmNAaOn"
      },
      "source": [
        "# Model Creation"
      ]
    },
    {
      "cell_type": "code",
      "metadata": {
        "id": "0_SSg9EFAbx8"
      },
      "source": [
        "class VSRNet(nn.Module):\n",
        "  def __init__(self,in_channel=1 ):\n",
        "        self.in_channel = in_channel\n",
        "        super(VSRNet, self).__init__()\n",
        "        self.layer1 = self.conv_layer(self.in_channel, 64, kernel_size=9, stride=1, padding=5, bias=True)\n",
        "        self.layer2 = self.conv_layer(64, 32, kernel_size=7, stride=1, padding=3, bias=True)\n",
        "        self.layer3 = self.conv_layer(32, 8, kernel_size=5, stride=1, padding=2, bias=True)\n",
        "        self.layer4 = self.conv_layer(8, 1, kernel_size=5, stride=1, padding=1, bias=True)\n",
        "\n",
        "  def conv_layer(self, in_channels, out_channels, kernel_size=3, stride=1, padding=1, bias=True):\n",
        "    layer = nn.Sequential(\n",
        "                nn.Conv3d(in_channels, out_channels, kernel_size, stride=stride, padding=padding, bias=bias),\n",
        "                nn.LeakyReLU())\n",
        "    return layer\n",
        "\n",
        "\n",
        "  def forward(self, x):\n",
        "          \n",
        "        encoded_output = self.layer1(x)\n",
        "        encoded_output = self.layer2(encoded_output)\n",
        "        encoded_output = self.layer3(encoded_output)\n",
        "        encoded_output = self.layer4(encoded_output)\n",
        "\n",
        "        return encoded_output"
      ],
      "execution_count": null,
      "outputs": []
    },
    {
      "cell_type": "code",
      "metadata": {
        "id": "bH2uBEsMAb1A"
      },
      "source": [
        "vsrmodel = VSRNet()"
      ],
      "execution_count": null,
      "outputs": []
    },
    {
      "cell_type": "code",
      "metadata": {
        "id": "oj2X81KVAb3Z"
      },
      "source": [
        "myop = vsrmodel(torch.randn((4,1,64,48,16)))"
      ],
      "execution_count": null,
      "outputs": []
    },
    {
      "cell_type": "code",
      "metadata": {
        "colab": {
          "base_uri": "https://localhost:8080/"
        },
        "id": "wnZg3GTIAb61",
        "outputId": "1930df20-762d-4c21-c630-a200c50f3918"
      },
      "source": [
        "myop.shape"
      ],
      "execution_count": null,
      "outputs": [
        {
          "output_type": "execute_result",
          "data": {
            "text/plain": [
              "torch.Size([4, 1, 64, 48, 16])"
            ]
          },
          "metadata": {
            "tags": []
          },
          "execution_count": 28
        }
      ]
    },
    {
      "cell_type": "markdown",
      "metadata": {
        "id": "xoGljtuuHGhn"
      },
      "source": [
        "# Losses"
      ]
    },
    {
      "cell_type": "code",
      "metadata": {
        "id": "IC_gOzPuHIRm"
      },
      "source": [
        "ssimloss = SSIM(data_range=1.0, channel=1, spatial_dims=3)"
      ],
      "execution_count": null,
      "outputs": []
    },
    {
      "cell_type": "code",
      "metadata": {
        "colab": {
          "base_uri": "https://localhost:8080/"
        },
        "id": "wSUplwu3HIV_",
        "outputId": "cf353135-f595-4a0a-9cc3-02a8e0991540"
      },
      "source": [
        "ssimloss( torch.ones((4,1,64, 48, 16)), torch.zeros((4,1,64, 48, 16)) )"
      ],
      "execution_count": null,
      "outputs": [
        {
          "output_type": "execute_result",
          "data": {
            "text/plain": [
              "tensor(9.9990e-05)"
            ]
          },
          "metadata": {
            "tags": []
          },
          "execution_count": 106
        }
      ]
    },
    {
      "cell_type": "code",
      "metadata": {
        "id": "VDsguX7fK0f5"
      },
      "source": [
        "mseloss = nn.MSELoss()"
      ],
      "execution_count": null,
      "outputs": []
    },
    {
      "cell_type": "code",
      "metadata": {
        "id": "uqYTSdS3K3zd"
      },
      "source": [
        "mse = mseloss(torch.ones((4,1,64, 48, 16)), torch.zeros((4,1,64, 48, 16)) )\n",
        "psnrloss = 10 * log10(1 / mse.item())\n",
        "print(mse, psnrloss)"
      ],
      "execution_count": null,
      "outputs": []
    },
    {
      "cell_type": "code",
      "metadata": {
        "id": "BGxU7K2sLQjN"
      },
      "source": [
        "mse = mseloss(torch.ones((4,1,64, 48, 16)), torch.zeros((4,1,64, 48, 16)) )\n",
        "psnrloss = 10 * log10(1 / mse.item())\n",
        "print(mse, psnrloss)"
      ],
      "execution_count": null,
      "outputs": []
    },
    {
      "cell_type": "code",
      "metadata": {
        "colab": {
          "base_uri": "https://localhost:8080/"
        },
        "id": "M1y7unPyLQq-",
        "outputId": "f34520bd-c6a7-4535-dd39-d60059885219"
      },
      "source": [
        "mse = mseloss(torch.randn((4,1,64, 48, 16)), torch.randn((4,1,64, 48, 16)) )\n",
        "psnrloss = 10 * log10(1 / mse.item())\n",
        "print(mse, psnrloss)"
      ],
      "execution_count": null,
      "outputs": [
        {
          "output_type": "stream",
          "text": [
            "tensor(2.0016) -3.0137859148779738\n"
          ],
          "name": "stdout"
        }
      ]
    },
    {
      "cell_type": "code",
      "metadata": {
        "id": "h1lTn8OWHIi7"
      },
      "source": [
        ""
      ],
      "execution_count": null,
      "outputs": []
    },
    {
      "cell_type": "markdown",
      "metadata": {
        "id": "BJo81KkqHE6d"
      },
      "source": [
        "# Training"
      ]
    },
    {
      "cell_type": "code",
      "metadata": {
        "id": "N-FpmrUCOpq-"
      },
      "source": [
        "training_generator = DataLoader(patch_dataset,batch_size=64, shuffle=True, drop_last=True)"
      ],
      "execution_count": null,
      "outputs": []
    },
    {
      "cell_type": "code",
      "metadata": {
        "id": "HZmFciuDUsy1"
      },
      "source": [
        "del vsrnet_model"
      ],
      "execution_count": null,
      "outputs": []
    },
    {
      "cell_type": "code",
      "metadata": {
        "id": "_q51glcdMW-M"
      },
      "source": [
        "vsrnet_model = VSRNet().to(\"cuda\") # assigning cuda to model"
      ],
      "execution_count": null,
      "outputs": []
    },
    {
      "cell_type": "code",
      "metadata": {
        "id": "2FaOohReMXEp"
      },
      "source": [
        "lr = 1e-4\n",
        "mse_loss_fnc = nn.MSELoss()\n",
        "ssim_loss_fnc = SSIM(data_range=1.0, channel=1, spatial_dims=3)"
      ],
      "execution_count": null,
      "outputs": []
    },
    {
      "cell_type": "code",
      "metadata": {
        "id": "N4vdep7lMXHG"
      },
      "source": [
        "optimizer = torch.optim.Adam(vsrnet_model.parameters(), lr=lr ) \n",
        "model_dir = '/content/drive/MyDrive/Colab Notebooks/MRI_Project/model'\n",
        "\n",
        "if not os.path.isdir(model_dir):\n",
        "  os.mkdir(model_dir)\n",
        "step=0"
      ],
      "execution_count": null,
      "outputs": []
    },
    {
      "cell_type": "code",
      "metadata": {
        "id": "EZzr5LCeM4ZG"
      },
      "source": [
        "def one_epoch_run(epoch=1):\n",
        "  batch_number = 0\n",
        "  mse_loss_lst = []\n",
        "  ssim_loss_lst = []\n",
        "  psnr_loss_lst = []\n",
        "  total_loss_lst = []\n",
        "  for X ,Y in training_generator:\n",
        "\n",
        "    X = X.cuda().float()\n",
        "    Y = Y.cuda().float()\n",
        "\n",
        "    Y_pred = vsrnet_model(X) \n",
        "    mse_loss = mse_loss_fnc(Y, Y_pred)\n",
        "    ssim_loss = ssim_loss_fnc(Y, Y_pred)\n",
        "    psnr_loss = torch.Tensor([10 * log10(1 / mse_loss.item())]).to(\"cuda\")\n",
        "\n",
        "    # PSNR is ranges from 20DB to 100DB, Hence multiply it with 0.01 to bring in sae range as [0,1]\n",
        "    # For SSiM and PSNR, More the value the better the quality, but for mse its the opposite, Hence for these tqo losses normalize them between [0,1] and subtract by 1\n",
        "    total_loss = 1.0 * mse_loss + 1.0 * (1.0 - ssim_loss) + 1.0 * (1.0 - psnr_loss*0.01)\n",
        "  \n",
        "    optimizer.zero_grad()          \n",
        "    total_loss.backward()\n",
        "    optimizer.step()\n",
        "\n",
        "    total_loss_lst.append(total_loss.detach().cpu().numpy().item())\n",
        "    mse_loss_lst.append(mse_loss.detach().cpu().numpy().item())\n",
        "    ssim_loss_lst.append(ssim_loss.detach().cpu().numpy().item())\n",
        "    psnr_loss_lst.append(psnr_loss.detach().cpu().numpy().item())\n",
        "\n",
        "    del X, Y, Y_pred\n",
        "\n",
        "    batch_number = batch_number + 1\n",
        "    # print(\"Batch: {}\".format(batch_number))\n",
        "\n",
        "  if (epoch%10 == 0):\n",
        "    modelname = model_dir + '/' + \"pretrained_superresolution\" + str(epoch+0) + '.pth'\n",
        "    torch.save({\"vsrnet_model\": vsrnet_model.state_dict()}, modelname)\n",
        "    print(\"epoch: {}\".format(epoch+0))\n",
        "    print(\"Average loss per epoch: {}, {}, {}\".format( sum(mse_loss_lst)/len(mse_loss_lst), sum(ssim_loss_lst)/len(ssim_loss_lst), sum(psnr_loss_lst)/len(psnr_loss_lst)  ))\n",
        "    print(\"======= =============== ===========\")\n",
        "    print(\"Saving model checkpoints\")\n",
        "    print(\"======= =============== ===========\")\n",
        "    print()\n",
        "  elif (epoch%2 == 0):\n",
        "    print(\"epoch: {}\".format(epoch+0))\n",
        "    print(\"Average loss per epoch: {}, {}, {}\".format( sum(mse_loss_lst)/len(mse_loss_lst), sum(ssim_loss_lst)/len(ssim_loss_lst), sum(psnr_loss_lst)/len(psnr_loss_lst)  ))\n",
        "    print(\"======= =============== ===========\")\n",
        "    print()\n",
        "\n",
        "  return mse_loss_lst, ssim_loss_lst, psnr_loss_lst, total_loss_lst\n"
      ],
      "execution_count": null,
      "outputs": []
    },
    {
      "cell_type": "code",
      "metadata": {
        "colab": {
          "base_uri": "https://localhost:8080/"
        },
        "id": "-wAgsQnrM4e5",
        "outputId": "fe7ab9a4-8554-4551-e4e8-3996f4236995"
      },
      "source": [
        "epochs = 100\n",
        "for e in range(epochs):\n",
        "  mse_loss_lst, ssim_loss_lst, psnr_loss_lst, total_loss_lst = one_epoch_run(epoch=e)"
      ],
      "execution_count": null,
      "outputs": [
        {
          "output_type": "stream",
          "text": [
            "epoch: 0\n",
            "Average loss per epoch: 0.0009743702379637398, 0.9282254993915557, 32.49748680114746\n",
            "======= =============== ===========\n",
            "Saving model checkpoints\n",
            "======= =============== ===========\n",
            "\n",
            "epoch: 2\n",
            "Average loss per epoch: 0.0002274121378286509, 0.9977713990211486, 37.911679077148435\n",
            "======= =============== ===========\n",
            "\n",
            "epoch: 4\n",
            "Average loss per epoch: 0.00018288389030203688, 0.9990405011177063, 38.516942749023436\n",
            "======= =============== ===========\n",
            "\n",
            "epoch: 6\n",
            "Average loss per epoch: 0.00014014900873007718, 0.9995319604873657, 39.7111067199707\n",
            "======= =============== ===========\n",
            "\n",
            "epoch: 8\n",
            "Average loss per epoch: 0.00013782075759081637, 0.9992779183387757, 40.4745735168457\n",
            "======= =============== ===========\n",
            "\n",
            "epoch: 10\n",
            "Average loss per epoch: 0.00014586778663215228, 0.9993899011611939, 39.9764860534668\n",
            "======= =============== ===========\n",
            "Saving model checkpoints\n",
            "======= =============== ===========\n",
            "\n",
            "epoch: 12\n",
            "Average loss per epoch: 0.00011505705944728106, 0.9997169327735901, 40.71602600097656\n",
            "======= =============== ===========\n",
            "\n",
            "epoch: 14\n",
            "Average loss per epoch: 0.00010069843359815422, 0.9997704958915711, 41.32040390014649\n",
            "======= =============== ===========\n",
            "\n",
            "epoch: 16\n",
            "Average loss per epoch: 0.0001036693947025924, 0.9996160793304444, 41.45837585449219\n",
            "======= =============== ===========\n",
            "\n",
            "epoch: 18\n",
            "Average loss per epoch: 0.0001186855021660449, 0.9994732475280762, 40.773006744384766\n",
            "======= =============== ===========\n",
            "\n",
            "epoch: 20\n",
            "Average loss per epoch: 8.673830354382516e-05, 0.9998421144485473, 41.786329956054686\n",
            "======= =============== ===========\n",
            "Saving model checkpoints\n",
            "======= =============== ===========\n",
            "\n",
            "epoch: 22\n",
            "Average loss per epoch: 7.630697149579646e-05, 0.9998722290992736, 42.18706314086914\n",
            "======= =============== ===========\n",
            "\n",
            "epoch: 24\n",
            "Average loss per epoch: 6.932792008228717e-05, 0.999889452457428, 43.00073532104492\n",
            "======= =============== ===========\n",
            "\n",
            "epoch: 26\n",
            "Average loss per epoch: 6.298707197856857e-05, 0.9999014830589295, 43.08295562744141\n",
            "======= =============== ===========\n",
            "\n",
            "epoch: 28\n",
            "Average loss per epoch: 6.199004285008414e-05, 0.9994551110267639, 42.98373062133789\n",
            "======= =============== ===========\n",
            "\n",
            "epoch: 30\n",
            "Average loss per epoch: 0.00032904094143304974, 0.9069629716873169, 37.17421684265137\n",
            "======= =============== ===========\n",
            "Saving model checkpoints\n",
            "======= =============== ===========\n",
            "\n",
            "epoch: 32\n",
            "Average loss per epoch: 0.001178812263533473, 0.9887866616249085, 29.453149795532227\n",
            "======= =============== ===========\n",
            "\n",
            "epoch: 34\n",
            "Average loss per epoch: 0.0005447565694339573, 0.9958169603347778, 32.68904243469238\n",
            "======= =============== ===========\n",
            "\n",
            "epoch: 36\n",
            "Average loss per epoch: 0.0003375061566475779, 0.9976147317886352, 34.7927864074707\n",
            "======= =============== ===========\n",
            "\n",
            "epoch: 38\n",
            "Average loss per epoch: 0.00024320427794009448, 0.9983290100097656, 36.271966705322264\n",
            "======= =============== ===========\n",
            "\n",
            "epoch: 40\n",
            "Average loss per epoch: 0.00019368133100215347, 0.9986922192573547, 37.252702178955076\n",
            "======= =============== ===========\n",
            "Saving model checkpoints\n",
            "======= =============== ===========\n",
            "\n"
          ],
          "name": "stdout"
        }
      ]
    },
    {
      "cell_type": "code",
      "metadata": {
        "id": "nrV--973XGO_"
      },
      "source": [
        ""
      ],
      "execution_count": null,
      "outputs": []
    },
    {
      "cell_type": "code",
      "metadata": {
        "id": "uBFoKV4sM4hi"
      },
      "source": [
        ""
      ],
      "execution_count": null,
      "outputs": []
    },
    {
      "cell_type": "code",
      "metadata": {
        "id": "XIOq0_7cM4qx"
      },
      "source": [
        ""
      ],
      "execution_count": null,
      "outputs": []
    },
    {
      "cell_type": "markdown",
      "metadata": {
        "id": "2jC2h0OUAcnY"
      },
      "source": [
        "# Validation"
      ]
    },
    {
      "cell_type": "code",
      "metadata": {
        "id": "m0EGxLy2AeqH"
      },
      "source": [
        "validation_generator = DataLoader(patch_dataset,batch_size=4, shuffle=True, drop_last=True)"
      ],
      "execution_count": null,
      "outputs": []
    },
    {
      "cell_type": "code",
      "metadata": {
        "id": "kgpfZ5WaT7FY"
      },
      "source": [
        "output_pred_folder = \"/content/drive/MyDrive/Colab Notebooks/MRI_Project/sr/datasets/MRI_DATASET/Output_Predictions\""
      ],
      "execution_count": null,
      "outputs": []
    },
    {
      "cell_type": "code",
      "metadata": {
        "id": "ZdvecmpuAetI"
      },
      "source": [
        "# Addd deformable part\n",
        "vsrnet_model_inference = VSRNet().to(\"cuda\") # assigning cuda to model"
      ],
      "execution_count": null,
      "outputs": []
    },
    {
      "cell_type": "code",
      "metadata": {
        "colab": {
          "base_uri": "https://localhost:8080/"
        },
        "id": "F8LaGmgWAevu",
        "outputId": "071908d9-9764-49b4-ad9f-adc30fbc1911"
      },
      "source": [
        "checkpoint = torch.load(model_dir + '/' + \"pretrained_superresolution\" + str(0) + '.pth')\n",
        "vsrnet_model_inference.load_state_dict(checkpoint[\"vsrnet_model\"])\n",
        "vsrnet_model_inference.eval()"
      ],
      "execution_count": null,
      "outputs": [
        {
          "output_type": "execute_result",
          "data": {
            "text/plain": [
              "VSRNet(\n",
              "  (layer1): Sequential(\n",
              "    (0): Conv3d(1, 64, kernel_size=(9, 9, 9), stride=(1, 1, 1), padding=(5, 5, 5))\n",
              "    (1): LeakyReLU(negative_slope=0.01)\n",
              "  )\n",
              "  (layer2): Sequential(\n",
              "    (0): Conv3d(64, 32, kernel_size=(7, 7, 7), stride=(1, 1, 1), padding=(3, 3, 3))\n",
              "    (1): LeakyReLU(negative_slope=0.01)\n",
              "  )\n",
              "  (layer3): Sequential(\n",
              "    (0): Conv3d(32, 8, kernel_size=(5, 5, 5), stride=(1, 1, 1), padding=(2, 2, 2))\n",
              "    (1): LeakyReLU(negative_slope=0.01)\n",
              "  )\n",
              "  (layer4): Sequential(\n",
              "    (0): Conv3d(8, 1, kernel_size=(5, 5, 5), stride=(1, 1, 1), padding=(1, 1, 1))\n",
              "    (1): LeakyReLU(negative_slope=0.01)\n",
              "  )\n",
              ")"
            ]
          },
          "metadata": {
            "tags": []
          },
          "execution_count": 45
        }
      ]
    },
    {
      "cell_type": "code",
      "metadata": {
        "id": "YwDkZp-lAey1"
      },
      "source": [
        "counter = 0"
      ],
      "execution_count": null,
      "outputs": []
    },
    {
      "cell_type": "code",
      "metadata": {
        "id": "uH05aBExAe28"
      },
      "source": [
        "def one_epoch_full_model_inference(epoch=1, batch_size=4, counter=0):\n",
        "  example_number = 0\n",
        "\n",
        "  for X,Y in validation_generator:\n",
        "\n",
        "    X = X.float().to(\"cuda\")\n",
        "    Y = Y.float().to(\"cuda\")\n",
        "\n",
        "    Y_pred = vsrnet_model_inference(X) \n",
        "\n",
        "    Y_pred_tensor = Y_pred.detach().cpu()\n",
        "\n",
        "    Y_pred_np = Y_pred_tensor.numpy()\n",
        "\n",
        "    Y_pred_nb = nb.Nifti1Image(Y_pred_np[0,0,:,:,:], np.eye(4)) \n",
        "\n",
        "    nb.save(Y_pred_nb, os.path.join(output_pred_folder , 'predicted_nb_' + str(counter) + '.nii.gz'))\n",
        "    del X, Y, Y_pred\n",
        "\n",
        "    counter = counter + 1\n",
        "\n",
        "    if(counter > 5):\n",
        "      break;"
      ],
      "execution_count": null,
      "outputs": []
    },
    {
      "cell_type": "code",
      "metadata": {
        "id": "I-aJwy6iUVbe"
      },
      "source": [
        "one_epoch_full_model_inference()"
      ],
      "execution_count": null,
      "outputs": []
    }
  ]
}